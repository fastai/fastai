{
 "cells": [
  {
   "cell_type": "code",
   "execution_count": null,
   "metadata": {},
   "outputs": [],
   "source": [
    "#|hide\n",
    "#| eval: false\n",
    "! [ -e /content ] && pip install -Uqq fastai  # upgrade fastai on colab"
   ]
  },
  {
   "cell_type": "code",
   "execution_count": null,
   "metadata": {},
   "outputs": [],
   "source": [
    "#|default_exp losses\n",
    "#|default_cls_lvl 3"
   ]
  },
  {
   "cell_type": "code",
   "execution_count": null,
   "metadata": {},
   "outputs": [],
   "source": [
    "#|export\n",
    "from __future__ import annotations\n",
    "from fastai.imports import *\n",
    "from fastai.torch_imports import *\n",
    "from fastai.torch_core import *\n",
    "from fastai.layers import *"
   ]
  },
  {
   "cell_type": "code",
   "execution_count": null,
   "metadata": {},
   "outputs": [],
   "source": [
    "#|hide\n",
    "from nbdev.showdoc import *"
   ]
  },
  {
   "cell_type": "markdown",
   "metadata": {},
   "source": [
    "# Loss Functions\n",
    "> Custom fastai loss functions"
   ]
  },
  {
   "cell_type": "code",
   "execution_count": null,
   "metadata": {},
   "outputs": [],
   "source": [
    "#|export\n",
    "class BaseLoss():\n",
    "    \"Same as `loss_cls`, but flattens input and target.\"\n",
    "    activation=decodes=noops\n",
    "    def __init__(self, \n",
    "        loss_cls, # Uninitialized PyTorch-compatible loss\n",
    "        *args,\n",
    "        axis:int=-1, # Class axis\n",
    "        flatten:bool=True, # Flatten `inp` and `targ` before calculating loss\n",
    "        floatify:bool=False, # Convert `targ` to `float`\n",
    "        is_2d:bool=True, # Whether `flatten` keeps one or two channels when applied\n",
    "        **kwargs\n",
    "    ):\n",
    "        store_attr(\"axis,flatten,floatify,is_2d\")\n",
    "        self.func = loss_cls(*args,**kwargs)\n",
    "        self.func.__annotations__ = typing.get_type_hints(self.func, globalns=globals(), localns=locals()) # used to prevent unpicklable loss functions (https://github.com/fastai/fastai/issues/3901)\n",
    "        functools.update_wrapper(self, self.func)\n",
    "\n",
    "    def __repr__(self) -> str: return f\"FlattenedLoss of {self.func}\"\n",
    "    \n",
    "    @property\n",
    "    def reduction(self) -> str: return self.func.reduction\n",
    "    \n",
    "    @reduction.setter\n",
    "    def reduction(self, v:str):\n",
    "        \"Sets the reduction style (typically 'mean', 'sum', or 'none')\" \n",
    "        self.func.reduction = v\n",
    "\n",
    "    def _contiguous(self, x:Tensor) -> TensorBase:\n",
    "        \"Move `self.axis` to the last dimension and ensure tensor is contiguous for `Tensor` otherwise just return\"\n",
    "        return TensorBase(x.transpose(self.axis,-1).contiguous()) if isinstance(x,torch.Tensor) else x\n",
    "\n",
    "    def __call__(self, \n",
    "        inp:Tensor|MutableSequence, # Predictions from a `Learner`\n",
    "        targ:Tensor|MutableSequence, # Actual y label\n",
    "        **kwargs\n",
    "    ) -> TensorBase: # `loss_cls` calculated on `inp` and `targ`\n",
    "        inp,targ  = map(self._contiguous, (inp,targ))\n",
    "        if self.floatify and targ.dtype!=torch.float16: targ = targ.float()\n",
    "        if targ.dtype in [torch.int8, torch.int16, torch.int32]: targ = targ.long()\n",
    "        if self.flatten: inp = inp.view(-1,inp.shape[-1]) if self.is_2d else inp.view(-1)\n",
    "        return self.func.__call__(inp, targ.view(-1) if self.flatten else targ, **kwargs)\n",
    "    \n",
    "    def to(self, device:torch.device):\n",
    "        \"Move the loss function to a specified `device`\"\n",
    "        if isinstance(self.func, nn.Module): self.func.to(device)"
   ]
  },
  {
   "cell_type": "markdown",
   "metadata": {},
   "source": [
    "Wrapping a general loss function inside of `BaseLoss` provides extra functionalities to your loss functions:\n",
    "\n",
    "- flattens the tensors before trying to take the losses since it's more convenient (with a potential tranpose to put `axis` at the end)\n",
    "- a potential `activation` method that tells the library if there is an activation fused in the loss (useful for inference and methods such as `Learner.get_preds` or `Learner.predict`)\n",
    "- a potential <code>decodes</code> method that is used on predictions in inference (for instance, an argmax in classification)"
   ]
  },
  {
   "cell_type": "markdown",
   "metadata": {},
   "source": [
    "The `args` and `kwargs` will be passed to `loss_cls` during the initialization to instantiate a loss function. `axis` is put at the end for losses like softmax that are often performed on the last axis. If `floatify=True`, the `targs` will be converted to floats (useful for losses that only accept float targets like `BCEWithLogitsLoss`), and `is_2d` determines if we flatten while keeping the first dimension (batch size) or completely flatten the input. We want the first for losses like Cross Entropy, and the second for pretty much anything else."
   ]
  },
  {
   "cell_type": "code",
   "execution_count": null,
   "metadata": {},
   "outputs": [],
   "source": [
    "#|export\n",
    "@delegates()\n",
    "class CrossEntropyLossFlat(BaseLoss):\n",
    "    \"Same as `nn.CrossEntropyLoss`, but flattens input and target.\"\n",
    "    y_int = True # y interpolation\n",
    "    @use_kwargs_dict(keep=True, weight=None, ignore_index=-100, reduction='mean')\n",
    "    def __init__(self, \n",
    "        *args, \n",
    "        axis:int=-1, # Class axis\n",
    "        **kwargs\n",
    "    ): \n",
    "        super().__init__(nn.CrossEntropyLoss, *args, axis=axis, **kwargs)\n",
    "    \n",
    "    def decodes(self, x:Tensor) -> Tensor:    \n",
    "        \"Converts model output to target format\"\n",
    "        return x.argmax(dim=self.axis)\n",
    "    \n",
    "    def activation(self, x:Tensor) -> Tensor: \n",
    "        \"`nn.CrossEntropyLoss`'s fused activation function applied to model output\"\n",
    "        return F.softmax(x, dim=self.axis)"
   ]
  },
  {
   "cell_type": "code",
   "execution_count": null,
   "metadata": {},
   "outputs": [],
   "source": [
    "tst = CrossEntropyLossFlat(reduction='none')\n",
    "output = torch.randn(32, 5, 10)\n",
    "target = torch.randint(0, 10, (32,5))\n",
    "#nn.CrossEntropy would fail with those two tensors, but not our flattened version.\n",
    "_ = tst(output, target)\n",
    "\n",
    "test_fail(lambda x: nn.CrossEntropyLoss()(output,target))\n",
    "\n",
    "#Associated activation is softmax\n",
    "test_eq(tst.activation(output), F.softmax(output, dim=-1))\n",
    "#This loss function has a decodes which is argmax\n",
    "test_eq(tst.decodes(output), output.argmax(dim=-1))"
   ]
  },
  {
   "cell_type": "code",
   "execution_count": null,
   "metadata": {},
   "outputs": [],
   "source": [
    "#In a segmentation task, we want to take the softmax over the channel dimension\n",
    "tst = CrossEntropyLossFlat(axis=1)\n",
    "output = torch.randn(32, 5, 128, 128)\n",
    "target = torch.randint(0, 5, (32, 128, 128))\n",
    "_ = tst(output, target)\n",
    "\n",
    "test_eq(tst.activation(output), F.softmax(output, dim=1))\n",
    "test_eq(tst.decodes(output), output.argmax(dim=1))"
   ]
  },
  {
   "cell_type": "code",
   "execution_count": null,
   "metadata": {},
   "outputs": [],
   "source": [
    "#|hide\n",
    "#|cuda\n",
    "tst = CrossEntropyLossFlat(weight=torch.ones(10))\n",
    "device = torch.device('cuda' if torch.cuda.is_available() else 'cpu')\n",
    "tst.to(device)\n",
    "output = torch.randn(32, 10, device=device)\n",
    "target = torch.randint(0, 10, (32,), device=device)\n",
    "_ = tst(output, target)"
   ]
  },
  {
   "cell_type": "markdown",
   "metadata": {},
   "source": [
    "[Focal Loss](https://arxiv.org/pdf/1708.02002.pdf) is the same as cross entropy except easy-to-classify observations are down-weighted in the loss calculation. The strength of down-weighting is proportional to the size of the `gamma` parameter. Put another way, the larger `gamma` the less the easy-to-classify observations contribute to the loss."
   ]
  },
  {
   "cell_type": "code",
   "execution_count": null,
   "metadata": {},
   "outputs": [],
   "source": [
    "#|export\n",
    "class FocalLoss(Module):\n",
    "    y_int=True # y interpolation\n",
    "    def __init__(self, \n",
    "        gamma:float=2.0, # Focusing parameter. Higher values down-weight easy examples' contribution to loss\n",
    "        weight:Tensor=None, # Manual rescaling weight given to each class\n",
    "        reduction:str='mean' # PyTorch reduction to apply to the output\n",
    "    ): \n",
    "        \"Applies Focal Loss: https://arxiv.org/pdf/1708.02002.pdf\"\n",
    "        store_attr()\n",
    "    \n",
    "    def forward(self, inp:Tensor, targ:Tensor) -> Tensor:\n",
    "        \"Applies focal loss based on https://arxiv.org/pdf/1708.02002.pdf\"\n",
    "        ce_loss = F.cross_entropy(inp, targ, weight=self.weight, reduction=\"none\")\n",
    "        p_t = torch.exp(-ce_loss)\n",
    "        loss = (1 - p_t)**self.gamma * ce_loss\n",
    "        if self.reduction == \"mean\":\n",
    "            loss = loss.mean()\n",
    "        elif self.reduction == \"sum\":\n",
    "            loss = loss.sum()\n",
    "        return loss\n",
    "\n",
    "\n",
    "class FocalLossFlat(BaseLoss):\n",
    "    \"\"\"\n",
    "    Same as CrossEntropyLossFlat but with focal parameter, `gamma`. Focal loss is introduced by Lin et al. \n",
    "    https://arxiv.org/pdf/1708.02002.pdf. Note the class weighting factor in the paper, alpha, can be \n",
    "    implemented through pytorch `weight` argument passed through to F.cross_entropy.\n",
    "    \"\"\"\n",
    "    y_int = True # y interpolation\n",
    "    @use_kwargs_dict(keep=True, weight=None, reduction='mean')\n",
    "    def __init__(self, \n",
    "        *args, \n",
    "        gamma:float=2.0, # Focusing parameter. Higher values down-weight easy examples' contribution to loss\n",
    "        axis:int=-1, # Class axis\n",
    "        **kwargs\n",
    "    ):\n",
    "        super().__init__(FocalLoss, *args, gamma=gamma, axis=axis, **kwargs)\n",
    "        \n",
    "    def decodes(self, x:Tensor) -> Tensor: \n",
    "        \"Converts model output to target format\"\n",
    "        return x.argmax(dim=self.axis)\n",
    "    \n",
    "    def activation(self, x:Tensor) -> Tensor: \n",
    "        \"`F.cross_entropy`'s fused activation function applied to model output\"\n",
    "        return F.softmax(x, dim=self.axis)"
   ]
  },
  {
   "cell_type": "code",
   "execution_count": null,
   "metadata": {},
   "outputs": [],
   "source": [
    "#Compare focal loss with gamma = 0 to cross entropy\n",
    "fl = FocalLossFlat(gamma=0)\n",
    "ce = CrossEntropyLossFlat()\n",
    "output = torch.randn(32, 5, 10)\n",
    "target = torch.randint(0, 10, (32,5))\n",
    "test_close(fl(output, target), ce(output, target))\n",
    "#Test focal loss with gamma > 0 is different than cross entropy\n",
    "fl = FocalLossFlat(gamma=2)\n",
    "test_ne(fl(output, target), ce(output, target))"
   ]
  },
  {
   "cell_type": "code",
   "execution_count": null,
   "metadata": {},
   "outputs": [],
   "source": [
    "#In a segmentation task, we want to take the softmax over the channel dimension\n",
    "fl = FocalLossFlat(gamma=0, axis=1)\n",
    "ce = CrossEntropyLossFlat(axis=1)\n",
    "output = torch.randn(32, 5, 128, 128)\n",
    "target = torch.randint(0, 5, (32, 128, 128))\n",
    "test_close(fl(output, target), ce(output, target), eps=1e-4)\n",
    "test_eq(fl.activation(output), F.softmax(output, dim=1))\n",
    "test_eq(fl.decodes(output), output.argmax(dim=1))"
   ]
  },
  {
   "cell_type": "code",
   "execution_count": null,
   "metadata": {},
   "outputs": [],
   "source": [
    "#|export\n",
    "@delegates()\n",
    "class BCEWithLogitsLossFlat(BaseLoss):\n",
    "    \"Same as `nn.BCEWithLogitsLoss`, but flattens input and target.\"\n",
    "    @use_kwargs_dict(keep=True, weight=None, reduction='mean', pos_weight=None)\n",
    "    def __init__(self, \n",
    "        *args, \n",
    "        axis:int=-1, # Class axis\n",
    "        floatify:bool=True, # Convert `targ` to `float`\n",
    "        thresh:float=0.5, # The threshold on which to predict \n",
    "        **kwargs\n",
    "    ):\n",
    "        if kwargs.get('pos_weight', None) is not None and kwargs.get('flatten', None) is True:\n",
    "            raise ValueError(\"`flatten` must be False when using `pos_weight` to avoid a RuntimeError due to shape mismatch\")\n",
    "        if kwargs.get('pos_weight', None) is not None: kwargs['flatten'] = False\n",
    "        super().__init__(nn.BCEWithLogitsLoss, *args, axis=axis, floatify=floatify, is_2d=False, **kwargs)\n",
    "        self.thresh = thresh\n",
    "\n",
    "    def decodes(self, x:Tensor) -> Tensor:\n",
    "        \"Converts model output to target format\"\n",
    "        return x>self.thresh\n",
    "    \n",
    "    def activation(self, x:Tensor) -> Tensor:\n",
    "        \"`nn.BCEWithLogitsLoss`'s fused activation function applied to model output\"\n",
    "        return torch.sigmoid(x)"
   ]
  },
  {
   "cell_type": "code",
   "execution_count": null,
   "metadata": {},
   "outputs": [],
   "source": [
    "tst = BCEWithLogitsLossFlat()\n",
    "output = torch.randn(32, 5, 10)\n",
    "target = torch.randn(32, 5, 10)\n",
    "#nn.BCEWithLogitsLoss would fail with those two tensors, but not our flattened version.\n",
    "_ = tst(output, target)\n",
    "test_fail(lambda x: nn.BCEWithLogitsLoss()(output,target))\n",
    "output = torch.randn(32, 5)\n",
    "target = torch.randint(0,2,(32, 5))\n",
    "#nn.BCEWithLogitsLoss would fail with int targets but not our flattened version.\n",
    "_ = tst(output, target)\n",
    "test_fail(lambda x: nn.BCEWithLogitsLoss()(output,target))\n",
    "\n",
    "tst = BCEWithLogitsLossFlat(pos_weight=torch.ones(10))\n",
    "output = torch.randn(32, 5, 10)\n",
    "target = torch.randn(32, 5, 10)\n",
    "_ = tst(output, target)\n",
    "test_fail(lambda x: nn.BCEWithLogitsLoss()(output,target))\n",
    "\n",
    "#Associated activation is sigmoid\n",
    "test_eq(tst.activation(output), torch.sigmoid(output))"
   ]
  },
  {
   "cell_type": "code",
   "execution_count": null,
   "metadata": {},
   "outputs": [],
   "source": [
    "#|export\n",
    "@use_kwargs_dict(weight=None, reduction='mean')\n",
    "def BCELossFlat(\n",
    "    *args, \n",
    "    axis:int=-1, # Class axis\n",
    "    floatify:bool=True, # Convert `targ` to `float`\n",
    "    **kwargs\n",
    "):\n",
    "    \"Same as `nn.BCELoss`, but flattens input and target.\"\n",
    "    return BaseLoss(nn.BCELoss, *args, axis=axis, floatify=floatify, is_2d=False, **kwargs)"
   ]
  },
  {
   "cell_type": "code",
   "execution_count": null,
   "metadata": {},
   "outputs": [],
   "source": [
    "tst = BCELossFlat()\n",
    "output = torch.sigmoid(torch.randn(32, 5, 10))\n",
    "target = torch.randint(0,2,(32, 5, 10))\n",
    "_ = tst(output, target)\n",
    "test_fail(lambda x: nn.BCELoss()(output,target))"
   ]
  },
  {
   "cell_type": "code",
   "execution_count": null,
   "metadata": {},
   "outputs": [],
   "source": [
    "#|export\n",
    "@use_kwargs_dict(reduction='mean')\n",
    "def MSELossFlat(\n",
    "    *args, \n",
    "    axis:int=-1, # Class axis\n",
    "    floatify:bool=True, # Convert `targ` to `float`\n",
    "    **kwargs\n",
    "):\n",
    "    \"Same as `nn.MSELoss`, but flattens input and target.\"\n",
    "    return BaseLoss(nn.MSELoss, *args, axis=axis, floatify=floatify, is_2d=False, **kwargs)"
   ]
  },
  {
   "cell_type": "code",
   "execution_count": null,
   "metadata": {},
   "outputs": [],
   "source": [
    "tst = MSELossFlat()\n",
    "output = torch.sigmoid(torch.randn(32, 5, 10))\n",
    "target = torch.randint(0,2,(32, 5, 10))\n",
    "_ = tst(output, target)\n",
    "test_fail(lambda x: nn.MSELoss()(output,target))"
   ]
  },
  {
   "cell_type": "code",
   "execution_count": null,
   "metadata": {},
   "outputs": [],
   "source": [
    "#|hide\n",
    "#|cuda\n",
    "#Test losses work in half precision\n",
    "if torch.cuda.is_available():\n",
    "    output = torch.sigmoid(torch.randn(32, 5, 10)).half().cuda()\n",
    "    target = torch.randint(0,2,(32, 5, 10)).half().cuda()\n",
    "    for tst in [BCELossFlat(), MSELossFlat()]: _ = tst(output, target)"
   ]
  },
  {
   "cell_type": "code",
   "execution_count": null,
   "metadata": {},
   "outputs": [],
   "source": [
    "#|export\n",
    "@use_kwargs_dict(reduction='mean')\n",
    "def L1LossFlat(\n",
    "    *args, \n",
    "    axis=-1, # Class axis\n",
    "    floatify=True, # Convert `targ` to `float`\n",
    "    **kwargs\n",
    "):\n",
    "    \"Same as `nn.L1Loss`, but flattens input and target.\"\n",
    "    return BaseLoss(nn.L1Loss, *args, axis=axis, floatify=floatify, is_2d=False, **kwargs)"
   ]
  },
  {
   "cell_type": "code",
   "execution_count": null,
   "metadata": {},
   "outputs": [],
   "source": [
    "#|export\n",
    "class LabelSmoothingCrossEntropy(Module):\n",
    "    y_int = True # y interpolation\n",
    "    def __init__(self, \n",
    "        eps:float=0.1, # The weight for the interpolation formula\n",
    "        weight:Tensor=None, # Manual rescaling weight given to each class passed to `F.nll_loss`\n",
    "        reduction:str='mean' # PyTorch reduction to apply to the output\n",
    "    ): \n",
    "        store_attr()\n",
    "\n",
    "    def forward(self, output:Tensor, target:Tensor) -> Tensor:\n",
    "        \"Apply `F.log_softmax` on output then blend the loss/num_classes(`c`) with the `F.nll_loss`\"\n",
    "        c = output.size()[1]\n",
    "        log_preds = F.log_softmax(output, dim=1)\n",
    "        if self.reduction=='sum': loss = -log_preds.sum()\n",
    "        else:\n",
    "            loss = -log_preds.sum(dim=1) #We divide by that size at the return line so sum and not mean\n",
    "            if self.reduction=='mean':  loss = loss.mean()\n",
    "        return loss*self.eps/c + (1-self.eps) * F.nll_loss(log_preds, target.long(), weight=self.weight, reduction=self.reduction)\n",
    "\n",
    "    def activation(self, out:Tensor) -> Tensor: \n",
    "        \"`F.log_softmax`'s fused activation function applied to model output\"\n",
    "        return F.softmax(out, dim=-1)\n",
    "    \n",
    "    def decodes(self, out:Tensor) -> Tensor:\n",
    "        \"Converts model output to target format\"\n",
    "        return out.argmax(dim=-1)"
   ]
  },
  {
   "cell_type": "code",
   "execution_count": null,
   "metadata": {},
   "outputs": [],
   "source": [
    "lmce = LabelSmoothingCrossEntropy()\n",
    "output = torch.randn(32, 5, 10)\n",
    "target = torch.randint(0, 10, (32,5))\n",
    "test_close(lmce(output.flatten(0,1), target.flatten()), lmce(output.transpose(-1,-2), target))"
   ]
  },
  {
   "cell_type": "markdown",
   "metadata": {},
   "source": [
    "On top of the formula we define:\n",
    "\n",
    "- a `reduction` attribute, that will be used when we call `Learner.get_preds`\n",
    "- `weight` attribute to pass to BCE.\n",
    "- an `activation` function that represents the activation fused in the loss (since we use cross entropy behind the scenes). It will be applied to the output of the model when calling `Learner.get_preds` or `Learner.predict`\n",
    "- a <code>decodes</code> function that converts the output of the model to a format similar to the target (here indices). This is used in `Learner.predict` and `Learner.show_results` to decode the predictions "
   ]
  },
  {
   "cell_type": "code",
   "execution_count": null,
   "metadata": {},
   "outputs": [],
   "source": [
    "#|export\n",
    "@delegates()\n",
    "class LabelSmoothingCrossEntropyFlat(BaseLoss):\n",
    "    \"Same as `LabelSmoothingCrossEntropy`, but flattens input and target.\"\n",
    "    y_int = True\n",
    "    @use_kwargs_dict(keep=True, eps=0.1, reduction='mean')\n",
    "    def __init__(self, \n",
    "        *args, \n",
    "        axis:int=-1, # Class axis\n",
    "        **kwargs\n",
    "    ): \n",
    "        super().__init__(LabelSmoothingCrossEntropy, *args, axis=axis, **kwargs)\n",
    "    def activation(self, out:Tensor) -> Tensor: \n",
    "        \"`LabelSmoothingCrossEntropy`'s fused activation function applied to model output\"\n",
    "        return F.softmax(out, dim=-1)\n",
    "    \n",
    "    def decodes(self, out:Tensor) -> Tensor:\n",
    "        \"Converts model output to target format\"\n",
    "        return out.argmax(dim=-1)"
   ]
  },
  {
   "cell_type": "code",
   "execution_count": null,
   "metadata": {},
   "outputs": [],
   "source": [
    "#These two should always equal each other since the Flat version is just passing data through\n",
    "lmce = LabelSmoothingCrossEntropy()\n",
    "lmce_flat = LabelSmoothingCrossEntropyFlat()\n",
    "output = torch.randn(32, 5, 10)\n",
    "target = torch.randint(0, 10, (32,5))\n",
    "test_close(lmce(output.transpose(-1,-2), target), lmce_flat(output,target))"
   ]
  },
  {
   "cell_type": "markdown",
   "metadata": {},
   "source": [
    "We present a general `Dice` loss for segmentation tasks. It is commonly used together with `CrossEntropyLoss` or `FocalLoss` in kaggle competitions. This is very similar to the `DiceMulti` metric, but to be able to derivate through, we replace the `argmax` activation by a `softmax` and compare this with a one-hot encoded target mask. This function also adds a `smooth` parameter to help numerical stabilities in the intersection over union division. If your network has problem learning with this DiceLoss, try to set the `square_in_union` parameter in the DiceLoss constructor to `True`."
   ]
  },
  {
   "cell_type": "code",
   "execution_count": null,
   "metadata": {},
   "outputs": [],
   "source": [
    "#|export\n",
    "class DiceLoss:\n",
    "    \"Dice loss for segmentation\"\n",
    "    def __init__(self, \n",
    "        axis:int=1, # Class axis\n",
    "        smooth:float=1e-6, # Helps with numerical stabilities in the IoU division\n",
    "        reduction:str=\"sum\", # PyTorch reduction to apply to the output\n",
    "        square_in_union:bool=False # Squares predictions to increase slope of gradients\n",
    "    ):\n",
    "        store_attr()\n",
    "        \n",
    "    def __call__(self, pred:Tensor, targ:Tensor) -> Tensor:\n",
    "        \"One-hot encodes targ, then runs IoU calculation then takes 1-dice value\"\n",
    "        targ = self._one_hot(targ, pred.shape[self.axis])\n",
    "        pred, targ = TensorBase(pred), TensorBase(targ)\n",
    "        assert pred.shape == targ.shape, 'input and target dimensions differ, DiceLoss expects non one-hot targs'\n",
    "        pred = self.activation(pred)\n",
    "        sum_dims = list(range(2, len(pred.shape)))\n",
    "        inter = torch.sum(pred*targ, dim=sum_dims)        \n",
    "        union = (torch.sum(pred**2+targ, dim=sum_dims) if self.square_in_union\n",
    "            else torch.sum(pred+targ, dim=sum_dims))\n",
    "        dice_score = (2. * inter + self.smooth)/(union + self.smooth)\n",
    "        loss = 1- dice_score\n",
    "        if self.reduction == 'mean':\n",
    "            loss = loss.mean()\n",
    "        elif self.reduction == 'sum':\n",
    "            loss = loss.sum()\n",
    "        return loss\n",
    "    @staticmethod\n",
    "    def _one_hot(\n",
    "        x:Tensor, # Non one-hot encoded targs\n",
    "        classes:int, # The number of classes \n",
    "        axis:int=1 # The axis to stack for encoding (class dimension)\n",
    "    ) -> Tensor:\n",
    "        \"Creates one binary mask per class\"\n",
    "        return torch.stack([torch.where(x==c, 1, 0) for c in range(classes)], axis=axis)\n",
    "    \n",
    "    def activation(self, x:Tensor) -> Tensor: \n",
    "        \"Activation function applied to model output\"\n",
    "        return F.softmax(x, dim=self.axis)\n",
    "    \n",
    "    def decodes(self, x:Tensor) -> Tensor:\n",
    "        \"Converts model output to target format\"\n",
    "        return x.argmax(dim=self.axis)"
   ]
  },
  {
   "cell_type": "code",
   "execution_count": null,
   "metadata": {},
   "outputs": [],
   "source": [
    "dl = DiceLoss()\n",
    "_x         = tensor( [[[1, 0, 2],\n",
    "                       [2, 2, 1]]])\n",
    "_one_hot_x = tensor([[[[0, 1, 0],\n",
    "                       [0, 0, 0]],\n",
    "                      [[1, 0, 0],\n",
    "                       [0, 0, 1]],\n",
    "                      [[0, 0, 1],\n",
    "                       [1, 1, 0]]]])\n",
    "test_eq(dl._one_hot(_x, 3), _one_hot_x)"
   ]
  },
  {
   "cell_type": "code",
   "execution_count": null,
   "metadata": {},
   "outputs": [],
   "source": [
    "dl = DiceLoss()\n",
    "model_output = tensor([[[[2., 1.],\n",
    "                         [1., 5.]],\n",
    "                        [[1,  2.],\n",
    "                         [3., 1.]],\n",
    "                        [[3., 0],\n",
    "                         [4., 3.]]]])\n",
    "target       =  tensor([[[2, 1],\n",
    "                         [2, 0]]])\n",
    "dl_out = dl(model_output, target)\n",
    "test_eq(dl.decodes(model_output), target)"
   ]
  },
  {
   "cell_type": "code",
   "execution_count": null,
   "metadata": {},
   "outputs": [],
   "source": [
    "dl = DiceLoss(reduction=\"mean\")\n",
    "#identical masks\n",
    "model_output = tensor([[[.1], [.1], [100.]]])\n",
    "target = tensor([[2]])\n",
    "test_close(dl(model_output, target), 0)\n",
    "\n",
    "#50% intersection\n",
    "model_output = tensor([[[.1, 100.], [.1, .1], [100., .1]]])\n",
    "target = tensor([[2, 1]])\n",
    "test_close(dl(model_output, target), .66, eps=0.01)"
   ]
  },
  {
   "cell_type": "markdown",
   "metadata": {},
   "source": [
    "As a test case for the dice loss consider satellite image segmentation. Let us say we have three classes: Background (0), River (1) and Road (2). Let us look at a specific target"
   ]
  },
  {
   "cell_type": "code",
   "execution_count": null,
   "metadata": {},
   "outputs": [
    {
     "data": {
      "image/png": "[encoded data removed]",
      "text/plain": [
       "<Figure size 640x480 with 1 Axes>"
      ]
     },
     "metadata": {},
     "output_type": "display_data"
    }
   ],
   "source": [
    "target = torch.zeros(100,100)\n",
    "target[:,5] = 1\n",
    "target[:,50] = 2\n",
    "plt.imshow(target);"
   ]
  },
  {
   "cell_type": "markdown",
   "metadata": {},
   "source": [
    "Nearly everything is background in this example, and we have a thin river at the left of the image as well as a thin road in the middle of the image. If all our data looks similar to this, we say that there is a class imbalance, meaning that some classes (like river and road) appear relatively infrequently. If our model just predicted \"background\" (i.e. the value 0) for all pixels, it would be correct for most pixels. But this would be a bad model and the diceloss should reflect that"
   ]
  },
  {
   "cell_type": "code",
   "execution_count": null,
   "metadata": {},
   "outputs": [],
   "source": [
    "model_output_all_background = torch.zeros(3, 100,100)\n",
    "# assign probability 1 to class 0 everywhere\n",
    "# to get probability 1, we just need a high model output before softmax gets applied\n",
    "model_output_all_background[0,:,:] = 100"
   ]
  },
  {
   "cell_type": "code",
   "execution_count": null,
   "metadata": {},
   "outputs": [],
   "source": [
    "# add a batch dimension\n",
    "model_output_all_background = torch.unsqueeze(model_output_all_background,0)\n",
    "target = torch.unsqueeze(target,0)"
   ]
  },
  {
   "cell_type": "markdown",
   "metadata": {},
   "source": [
    "Our dice score should be around 1/3 here, because the \"background\" class is predicted correctly (and that for nearly every pixel), but the other two clases are never predicted correctly. Dice score of 1/3 means dice loss of 1 - 1/3 = 2/3:"
   ]
  },
  {
   "cell_type": "code",
   "execution_count": null,
   "metadata": {},
   "outputs": [],
   "source": [
    "test_close(dl(model_output_all_background, target), 0.67, eps=0.01)"
   ]
  },
  {
   "cell_type": "markdown",
   "metadata": {},
   "source": [
    "If the model would predict everything correctly, the dice loss should be zero:"
   ]
  },
  {
   "cell_type": "code",
   "execution_count": null,
   "metadata": {},
   "outputs": [],
   "source": [
    "correct_model_output = torch.zeros(3, 100,100)\n",
    "correct_model_output[0,:,:] = 100\n",
    "correct_model_output[0,:,5] = 0\n",
    "correct_model_output[0,:,50] = 0\n",
    "correct_model_output[1,:,5] = 100\n",
    "correct_model_output[2,:,50] = 100\n",
    "correct_model_output = torch.unsqueeze(correct_model_output, 0)"
   ]
  },
  {
   "cell_type": "code",
   "execution_count": null,
   "metadata": {},
   "outputs": [],
   "source": [
    "test_close(dl(correct_model_output, target), 0)"
   ]
  },
  {
   "cell_type": "code",
   "execution_count": null,
   "metadata": {},
   "outputs": [],
   "source": [
    "#|hide\n",
    "#|cuda\n",
    "#Test DicceLoss work in half precision\n",
    "if torch.cuda.is_available():\n",
    "    output = torch.randn(32, 4, 5, 10).half().cuda()\n",
    "    target = torch.randint(0,2,(32, 5, 10)).half().cuda()\n",
    "    _ = dl(output, target)"
   ]
  },
  {
   "cell_type": "markdown",
   "metadata": {},
   "source": [
    "You could easily combine this loss with `FocalLoss` defining a `CombinedLoss`, to balance between global (Dice) and local (Focal) features on the target mask."
   ]
  },
  {
   "cell_type": "code",
   "execution_count": null,
   "metadata": {},
   "outputs": [],
   "source": [
    "class CombinedLoss:\n",
    "    \"Dice and Focal combined\"\n",
    "    def __init__(self, axis=1, smooth=1., alpha=1.):\n",
    "        store_attr()\n",
    "        self.focal_loss = FocalLossFlat(axis=axis)\n",
    "        self.dice_loss =  DiceLoss(axis, smooth)\n",
    "        \n",
    "    def __call__(self, pred, targ):\n",
    "        return self.focal_loss(pred, targ) + self.alpha * self.dice_loss(pred, targ)\n",
    "    \n",
    "    def decodes(self, x):    return x.argmax(dim=self.axis)\n",
    "    def activation(self, x): return F.softmax(x, dim=self.axis)"
   ]
  },
  {
   "cell_type": "code",
   "execution_count": null,
   "metadata": {},
   "outputs": [],
   "source": [
    "cl = CombinedLoss()\n",
    "output = torch.randn(32, 4, 5, 10)\n",
    "target = torch.randint(0,2,(32, 5, 10))\n",
    "_ = cl(output, target)"
   ]
  },
  {
   "cell_type": "code",
   "execution_count": null,
   "metadata": {},
   "outputs": [],
   "source": [
    "# Tests to catch future changes to pickle which cause some loss functions to be 'unpicklable'.\n",
    "# This causes problems with `Learner.export` as the model can't be pickled with these particular loss functions.\n",
    "\n",
    "losses_picklable = [\n",
    " (BCELossFlat(), True),\n",
    " (BCEWithLogitsLossFlat(), True),\n",
    " (CombinedLoss(), True),\n",
    " (CrossEntropyLossFlat(), True),\n",
    " (DiceLoss(), True),\n",
    " (FocalLoss(), True),\n",
    " (FocalLossFlat(), True),\n",
    " (L1LossFlat(), True),\n",
    " (LabelSmoothingCrossEntropyFlat(), True),\n",
    " (LabelSmoothingCrossEntropy(), True),\n",
    " (MSELossFlat(), True),\n",
    "]\n",
    "\n",
    "for loss, picklable in losses_picklable:\n",
    "    try:\n",
    "        pickle.dumps(loss, protocol=2)\n",
    "    except (pickle.PicklingError, TypeError) as e:\n",
    "        if picklable:\n",
    "            # Loss was previously picklable but isn't currently\n",
    "            raise e"
   ]
  },
  {
   "cell_type": "markdown",
   "metadata": {},
   "source": [
    "## Export -"
   ]
  },
  {
   "cell_type": "code",
   "execution_count": null,
   "metadata": {},
   "outputs": [],
   "source": [
    "#|hide\n",
    "from nbdev import *\n",
    "nbdev_export()"
   ]
  },
  {
   "cell_type": "code",
   "execution_count": null,
   "metadata": {},
   "outputs": [],
   "source": []
  }
 ],
 "metadata": {
  "jupytext": {
   "split_at_heading": true
  },
  "kernelspec": {
   "display_name": "python3",
   "language": "python",
   "name": "python3"
  }
 },
 "nbformat": 4,
 "nbformat_minor": 4
}

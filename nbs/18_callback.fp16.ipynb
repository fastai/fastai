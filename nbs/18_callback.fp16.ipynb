{
 "cells": [
  {
   "cell_type": "code",
   "execution_count": null,
   "metadata": {},
   "outputs": [],
   "source": [
    "#hide\n",
    "#skip\n",
    "! [ -e /content ] && pip install -Uqq fastai  # upgrade fastai on colab"
   ]
  },
  {
   "cell_type": "code",
   "execution_count": null,
   "metadata": {},
   "outputs": [],
   "source": [
    "# all_cuda"
   ]
  },
  {
   "cell_type": "code",
   "execution_count": null,
   "metadata": {},
   "outputs": [],
   "source": [
    "#export\n",
    "from fastai.basics import *\n",
    "from fastai.callback.progress import *\n",
    "\n",
    "from torch.cuda.amp import GradScaler, autocast"
   ]
  },
  {
   "cell_type": "code",
   "execution_count": null,
   "metadata": {},
   "outputs": [],
   "source": [
    "#default_exp callback.fp16"
   ]
  },
  {
   "cell_type": "code",
   "execution_count": null,
   "metadata": {},
   "outputs": [],
   "source": [
    "#hide\n",
    "from fastai.test_utils import *\n",
    "from nbdev.showdoc import *"
   ]
  },
  {
   "cell_type": "markdown",
   "metadata": {},
   "source": [
    "# Mixed precision training\n",
    "\n",
    "> Callback and utility functions to allow mixed precision training "
   ]
  },
  {
   "cell_type": "markdown",
   "metadata": {},
   "source": [
    "## A little bit of theory"
   ]
  },
  {
   "cell_type": "markdown",
   "metadata": {},
   "source": [
    "A very nice and clear introduction to mixed precision training is [this video from NVIDIA](http://on-demand.gputechconf.com/gtc/2018/video/S81012/)."
   ]
  },
  {
   "cell_type": "markdown",
   "metadata": {},
   "source": [
    "### What's half precision?"
   ]
  },
  {
   "cell_type": "markdown",
   "metadata": {},
   "source": [
    "In neural nets, all the computations are usually done in single precision, which means all the floats in all the arrays that represent inputs, activations, weights... are 32-bit floats (FP32 in the rest of this post). An idea to reduce memory usage (and avoid those annoying cuda errors) has been to try and do the same thing in half-precision, which means using 16-bits floats (or FP16 in the rest of this post). By definition, they take half the space in RAM, and in theory could allow you to double the size of your model and double your batch size.\n",
    "\n",
    "Another very nice feature is that NVIDIA developed its latest GPUs (the Volta generation) to take fully advantage of half-precision tensors. Basically, if you give half-precision tensors to those, they'll stack them so that each core can do more operations at the same time, and theoretically gives an 8x speed-up (sadly, just in theory).\n",
    "\n",
    "So training at half precision is better for your memory usage, way faster if you have a Volta GPU (still a tiny bit faster if you don't since the computations are easiest). How do we do it? Super easily in pytorch, we just have to put .half() everywhere: on the inputs of our model and all the parameters. Problem is that you usually won't see the same accuracy in the end (so it happens sometimes) because half-precision is... well... not as precise ;)."
   ]
  },
  {
   "cell_type": "markdown",
   "metadata": {},
   "source": [
    "### Problems with half-precision:"
   ]
  },
  {
   "cell_type": "markdown",
   "metadata": {},
   "source": [
    "To understand the problems with half precision, let's look briefly at what an FP16 looks like (more information [here](https://en.wikipedia.org/wiki/Half-precision_floating-point_format)).\n",
    "\n",
    "![half float](images/half.png)\n",
    "\n",
    "The sign bit gives us +1 or -1, then we have 5 bits to code an exponent between -14 and 15, while the fraction part has the remaining 10 bits. Compared to FP32, we have a smaller range of possible values (2e-14 to 2e15 roughly, compared to 2e-126 to 2e127 for FP32) but also a smaller *offset*.\n",
    "\n",
    "For instance, between 1 and 2, the FP16 format only represents the number 1, 1+2e-10, 1+2*2e-10... which means that 1 + 0.0001 = 1 in half precision. That's what will cause a certain numbers of problems, specifically three that can occur and mess up your training.\n",
    "1. The weight update is imprecise: inside your optimizer, you basically do w = w - lr * w.grad for each weight of your network. The problem in performing this operation in half precision is that very often, w.grad is several orders of magnitude below w, and the learning rate is also small. The situation where w=1 and lr*w.grad is 0.0001 (or lower) is therefore very common, but the update doesn't do anything in those cases.\n",
    "2. Your gradients can underflow. In FP16, your gradients can easily be replaced by 0 because they are too low.\n",
    "3. Your activations or loss can overflow. The opposite problem from the gradients: it's easier to hit nan (or infinity) in FP16 precision, and your training might more easily diverge."
   ]
  },
  {
   "cell_type": "markdown",
   "metadata": {},
   "source": [
    "### The solution: mixed precision training"
   ]
  },
  {
   "cell_type": "markdown",
   "metadata": {},
   "source": [
    "To address those three problems, we don't fully train in FP16 precision. As the name mixed training implies, some of the operations will be done in FP16, others in FP32. This is mainly to take care of the first problem listed above. For the next two there are additional tricks.\n",
    "\n",
    "The main idea is that we want to do the forward pass and the gradient computation in half precision (to go fast) but the update in single precision (to be more precise). It's okay if w and grad are both half floats, but when we do the operation w = w - lr * grad, we need to compute it in FP32. That way our 1 + 0.0001 is going to be 1.0001. \n",
    "\n",
    "This is why we keep a copy of the weights in FP32 (called master model). Then, our training loop will look like:\n",
    "1. compute the output with the FP16 model, then the loss\n",
    "2. back-propagate the gradients in half-precision.\n",
    "3. copy the gradients in FP32 precision\n",
    "4. do the update on the master model (in FP32 precision)\n",
    "5. copy the master model in the FP16 model.\n",
    "\n",
    "Note that we lose precision during step 5, and that the 1.0001 in one of the weights will go back to 1. But if the next update corresponds to add 0.0001 again, since the optimizer step is done on the master model, the 1.0001 will become 1.0002 and if we eventually go like this up to 1.0005, the FP16 model will be able to tell the difference.\n",
    "\n",
    "That takes care of problem 1. For the second problem, we use something called gradient scaling: to avoid the gradients getting zeroed by the FP16 precision, we multiply the loss by a scale factor (scale=512 for instance). That way we can push the gradients to the right in the next figure, and have them not become zero.\n",
    "\n",
    "![half float representation](images/half_representation.png)\n",
    "\n",
    "Of course we don't want those 512-scaled gradients to be in the weight update, so after converting them into FP32, we can divide them by this scale factor (once they have no risks of becoming 0). This changes the loop to:\n",
    "1. compute the output with the FP16 model, then the loss.\n",
    "2. multiply the loss by scale then back-propagate the gradients in half-precision.\n",
    "3. copy the gradients in FP32 precision then divide them by scale.\n",
    "4. do the update on the master model (in FP32 precision).\n",
    "5. copy the master model in the FP16 model.\n",
    "\n",
    "For the last problem, the tricks offered by NVIDIA are to leave the batchnorm layers in single precision (they don't have many weights so it's not a big memory challenge) and compute the loss in single precision (which means converting the last output of the model in single precision before passing it to the loss).\n",
    "\n",
    "![Mixed precision training](images/Mixed_precision.jpeg)"
   ]
  },
  {
   "cell_type": "markdown",
   "metadata": {},
   "source": [
    "### Dynamic loss scaling"
   ]
  },
  {
   "cell_type": "markdown",
   "metadata": {},
   "source": [
    "The only annoying thing with the previous implementation of mixed precision training is that it introduces one new hyper-parameter to tune, the value of the loss scaling. Fortunately for us, there is a way around this. We want the loss scaling to be as high as possible so that our gradients can use the whole range of representation, so let's first try a really high value. In all likelihood, this will cause our gradients or our loss to overflow, and we will try again with half that big value, and again, until we get to the largest loss scale possible that doesn't make our gradients overflow.\n",
    "\n",
    "This value will be perfectly fitted to our model and can continue to be dynamically adjusted as the training goes, if it's still too high, by just halving it each time we overflow. After a while though, training will converge and gradients will start to get smaller, so we al\n",
    "so need a mechanism to get this dynamic loss scale larger if it's safe to do so. The strategy used in the Apex library is to multiply the loss scale by 2 each time we had a given number of iterations without overflowing."
   ]
  },
  {
   "cell_type": "markdown",
   "metadata": {},
   "source": [
    "## Util functions"
   ]
  },
  {
   "cell_type": "markdown",
   "metadata": {},
   "source": [
    "Before going in the main `Callback` we will need some helper functions. We use the ones from the [APEX library](https://github.com/NVIDIA/apex)."
   ]
  },
  {
   "cell_type": "code",
   "execution_count": null,
   "metadata": {},
   "outputs": [],
   "source": [
    "# export \n",
    "from fastai.fp16_utils import convert_network, model_grads_to_master_grads, master_params_to_model_params"
   ]
  },
  {
   "cell_type": "markdown",
   "metadata": {},
   "source": [
    "### Converting the model to FP16"
   ]
  },
  {
   "cell_type": "markdown",
   "metadata": {},
   "source": [
    "We will need a function to convert all the layers of the model to FP16 precision except the BatchNorm-like layers (since those need to be done in FP32 precision to be stable). In Apex, the function that does this for us is `convert_network`. We can use it to put the model in FP16 or back to FP32."
   ]
  },
  {
   "cell_type": "code",
   "execution_count": null,
   "metadata": {},
   "outputs": [],
   "source": [
    "model = nn.Sequential(nn.Linear(10,30), nn.BatchNorm1d(30), nn.Linear(30,2)).cuda()\n",
    "model = convert_network(model, torch.float16)\n",
    "\n",
    "for i,t in enumerate([torch.float16, torch.float32, torch.float16]):\n",
    "    test_eq(model[i].weight.dtype, t)\n",
    "    test_eq(model[i].bias.dtype,   t)\n",
    "    \n",
    "model = nn.Sequential(nn.Linear(10,30), BatchNorm(30, ndim=1), nn.Linear(30,2)).cuda()\n",
    "model = convert_network(model, torch.float16)\n",
    "\n",
    "for i,t in enumerate([torch.float16, torch.float32, torch.float16]):\n",
    "    test_eq(model[i].weight.dtype, t)\n",
    "    test_eq(model[i].bias.dtype,   t)"
   ]
  },
  {
   "cell_type": "markdown",
   "metadata": {},
   "source": [
    "### Creating the master copy of the parameters"
   ]
  },
  {
   "cell_type": "markdown",
   "metadata": {},
   "source": [
    "From our model parameters (mostly in FP16), we'll want to create a copy in FP32 (master parameters) that we will use for the step in the optimizer. Optionally, we concatenate all the parameters to do one flat big tensor, which can make that step a little bit faster.\n",
    "\n",
    "We can't use the FP16 util function here as it doesn't handle multiple parameter groups, which is the thing we use to\n",
    "- do transfer learning and freeze some layers\n",
    "- apply discriminative learning rates\n",
    "- don't apply weight decay to some layers (like BatchNorm) or the bias terms"
   ]
  },
  {
   "cell_type": "code",
   "execution_count": null,
   "metadata": {},
   "outputs": [],
   "source": [
    "#export\n",
    "from torch.nn.utils import parameters_to_vector"
   ]
  },
  {
   "cell_type": "code",
   "execution_count": null,
   "metadata": {},
   "outputs": [],
   "source": [
    "#export\n",
    "def get_master(opt, flat_master=False):\n",
    "    model_params = [[param for param in pg if param.requires_grad] for pg in opt.param_lists]\n",
    "    if flat_master:\n",
    "        master_params = []\n",
    "        for pg in model_params:\n",
    "            mp = parameters_to_vector([param.data.float() for param in pg])\n",
    "            mp = nn.Parameter(mp, requires_grad=True)\n",
    "            if mp.grad is None: mp.grad = mp.new(*mp.size())\n",
    "            master_params.append([mp])\n",
    "    else:\n",
    "        master_params = [[nn.Parameter(param.data.clone().float().detach(), requires_grad=True) for param in pg] for pg in model_params]\n",
    "    return model_params, master_params"
   ]
  },
  {
   "cell_type": "code",
   "execution_count": null,
   "metadata": {},
   "outputs": [],
   "source": [
    "#hide\n",
    "#cuda\n",
    "learn = synth_learner()\n",
    "learn.model = convert_network(nn.Sequential(nn.Linear(1,1), nn.Linear(1,1)), torch.float16).cuda()\n",
    "learn.splitter = lambda m: [list(m[0].parameters()), list(m[1].parameters())]\n",
    "learn.opt = learn.opt_func(learn.splitter(learn.model), learn.lr)\n",
    "model_p,master_p = get_master(learn.opt)\n",
    "test_eq(len(model_p), 2)   #2 pqrqm groups\n",
    "test_eq(len(master_p), 2)\n",
    "for pg1,pg2 in zip(model_p,master_p):\n",
    "    test_eq([p.float() for p in pg1], pg2) #Same values but different types\n",
    "    for p in pg1: assert p.dtype == torch.float16"
   ]
  },
  {
   "cell_type": "code",
   "execution_count": null,
   "metadata": {},
   "outputs": [],
   "source": [
    "#hide\n",
    "#cuda\n",
    "#Flattened version\n",
    "model_pf,master_pf = get_master(learn.opt, flat_master=True)\n",
    "test_eq(len(model_pf), 2)   #2 pqrqm groups\n",
    "test_eq(len(master_pf), 2)\n",
    "for pg1,pg2 in zip(model_pf,master_pf):\n",
    "    test_eq(len(pg2), 1) #One flattened tensor\n",
    "    test_eq([p.float().squeeze() for p in pg1], [p for p in pg2[0]]) #Same values but different types\n",
    "    for p in pg1: assert p.dtype == torch.float16"
   ]
  },
  {
   "cell_type": "markdown",
   "metadata": {},
   "source": [
    "### Copy the gradients from model params to master params"
   ]
  },
  {
   "cell_type": "markdown",
   "metadata": {},
   "source": [
    "After the backward pass, all gradients must be copied to the master params before the optimizer step can be done in FP32. The corresponding function in the Apex utils is `model_grads_to_master_grads` but we need to adapt it to work with param groups."
   ]
  },
  {
   "cell_type": "code",
   "execution_count": null,
   "metadata": {},
   "outputs": [],
   "source": [
    "# export \n",
    "def to_master_grads(model_pgs, master_pgs, flat_master=False):\n",
    "    for (model_params,master_params) in zip(model_pgs,master_pgs):\n",
    "        model_grads_to_master_grads(model_params, master_params, flat_master=flat_master)"
   ]
  },
  {
   "cell_type": "code",
   "execution_count": null,
   "metadata": {},
   "outputs": [
    {
     "data": {
      "text/plain": [
       "torch.Size([16, 1])"
      ]
     },
     "execution_count": null,
     "metadata": {},
     "output_type": "execute_result"
    }
   ],
   "source": [
    "#hide\n",
    "#cuda\n",
    "xb,yb = learn.dls.one_batch()\n",
    "pred = learn.model.cuda()(xb.cuda().half())\n",
    "loss = F.mse_loss(pred, yb.cuda().half())\n",
    "loss.backward()\n",
    "to_master_grads(model_p, master_p)\n",
    "to_master_grads(model_pf, master_pf, flat_master=True)\n",
    "test_eq([[p.grad.float() for p in pg] for pg in model_p],\n",
    "        [[p.grad for p in pg] for pg in master_p])\n",
    "test_eq([[p.grad.float().squeeze() for p in pg] for pg in model_pf], \n",
    "        [[p for p in pg[0].grad] for pg in master_pf])\n",
    "xb.shape"
   ]
  },
  {
   "cell_type": "markdown",
   "metadata": {},
   "source": [
    "### Copy the master params to the model params"
   ]
  },
  {
   "cell_type": "markdown",
   "metadata": {},
   "source": [
    "After the step, we need to copy back the master parameters to the model parameters for the next update. The corresponding function in Apex is `master_params_to_model_params`."
   ]
  },
  {
   "cell_type": "code",
   "execution_count": null,
   "metadata": {},
   "outputs": [],
   "source": [
    "# export \n",
    "def to_model_params(model_pgs, master_pgs, flat_master=False)->None:\n",
    "    for (model_params,master_params) in zip(model_pgs,master_pgs):\n",
    "        master_params_to_model_params(model_params, master_params, flat_master=flat_master)"
   ]
  },
  {
   "cell_type": "code",
   "execution_count": null,
   "metadata": {},
   "outputs": [],
   "source": [
    "#hide\n",
    "#cuda\n",
    "learn.opt.params = master_p\n",
    "learn.opt.step()\n",
    "to_model_params(model_p, master_p)\n",
    "test_close([p.float() for pg in model_p for p in pg], [p for pg in master_p for p in pg], eps=1e-3)"
   ]
  },
  {
   "cell_type": "code",
   "execution_count": null,
   "metadata": {},
   "outputs": [],
   "source": [
    "#hide\n",
    "#cuda\n",
    "learn.opt.params = master_pf\n",
    "learn.opt.step()\n",
    "to_model_params(model_pf, master_pf, flat_master=True)\n",
    "test_close([p.float().squeeze() for pg in model_pf for p in pg], [p for pg in master_pf for p in pg[0]], eps=1e-3)"
   ]
  },
  {
   "cell_type": "markdown",
   "metadata": {},
   "source": [
    "### Checking for overflow"
   ]
  },
  {
   "cell_type": "markdown",
   "metadata": {},
   "source": [
    "For dynamic loss scaling, we need to know when the gradients have gone up to infinity. It's faster to check it on the sum than to do `torch.isinf(x).any()`."
   ]
  },
  {
   "cell_type": "code",
   "execution_count": null,
   "metadata": {},
   "outputs": [],
   "source": [
    "# export \n",
    "def test_overflow(x):\n",
    "    s = float(x.float().sum())\n",
    "    return (s == float('inf') or s == float('-inf') or s != s)"
   ]
  },
  {
   "cell_type": "code",
   "execution_count": null,
   "metadata": {},
   "outputs": [],
   "source": [
    "x = torch.randn(3,4)\n",
    "assert not test_overflow(x)\n",
    "x[1,2] = float('inf')\n",
    "assert test_overflow(x)"
   ]
  },
  {
   "cell_type": "markdown",
   "metadata": {},
   "source": [
    "Then we can use it in the following function that checks for gradient overflow:"
   ]
  },
  {
   "cell_type": "code",
   "execution_count": null,
   "metadata": {},
   "outputs": [],
   "source": [
    "# export \n",
    "def grad_overflow(pgs):\n",
    "    for pg in pgs:\n",
    "        for p in pg:\n",
    "            if p.grad is not None and test_overflow(p.grad.data): return True\n",
    "    return False"
   ]
  },
  {
   "cell_type": "code",
   "execution_count": null,
   "metadata": {},
   "outputs": [],
   "source": [
    "#hide\n",
    "#cuda\n",
    "assert not grad_overflow(model_p)\n",
    "assert not grad_overflow(model_pf)\n",
    "model_p[1][0].grad.data[0,0] = float('inf')\n",
    "model_pf[0][1].grad.data[0] = float('inf')\n",
    "assert grad_overflow(model_p)\n",
    "assert grad_overflow(model_pf)"
   ]
  },
  {
   "cell_type": "markdown",
   "metadata": {},
   "source": [
    "## MixedPrecision -"
   ]
  },
  {
   "cell_type": "code",
   "execution_count": null,
   "metadata": {},
   "outputs": [],
   "source": [
    "# export\n",
    "def copy_clone(d):\n",
    "    return {k:(v.detach().clone().float() if isinstance(v,Tensor) else v) for k,v in d.items()}"
   ]
  },
  {
   "cell_type": "code",
   "execution_count": null,
   "metadata": {},
   "outputs": [],
   "source": [
    "# export\n",
    "def _copy_state(opt, pgs1, pgs2):\n",
    "    opt.param_lists = pgs2\n",
    "    for pg1,pg2 in zip(pgs1, pgs2):\n",
    "        for p1,p2 in zip(pg1, pg2): opt.state[p2] = copy_clone(opt.state.pop(p1, {}))"
   ]
  },
  {
   "cell_type": "code",
   "execution_count": null,
   "metadata": {},
   "outputs": [],
   "source": [
    "# export\n",
    "class ModelToHalf(Callback):\n",
    "    \"Use with MixedPrecision callback (but it needs to run at the very beginning)\"\n",
    "    run_before=TrainEvalCallback\n",
    "    def before_fit(self): self.learn.model = convert_network(self.model, dtype=torch.float16)\n",
    "    def after_fit(self): self.learn.model = convert_network(self.model, dtype=torch.float32)"
   ]
  },
  {
   "cell_type": "code",
   "execution_count": null,
   "metadata": {},
   "outputs": [],
   "source": [
    "# export\n",
    "@docs\n",
    "class MixedPrecision(Callback):\n",
    "    \"Run training in mixed precision\"\n",
    "    toward_end=True\n",
    "\n",
    "    def __init__(self, loss_scale=512, flat_master=False, dynamic=True, max_loss_scale=2.**24,\n",
    "                 div_factor=2., scale_wait=500, clip=None):\n",
    "        assert torch.backends.cudnn.enabled, \"Mixed precision training requires cudnn.\"\n",
    "        self.flat_master,self.dynamic,self.max_loss_scale = flat_master,dynamic,max_loss_scale\n",
    "        self.div_factor,self.scale_wait,self.clip = div_factor,scale_wait,clip\n",
    "        self.loss_scale = max_loss_scale if dynamic else loss_scale\n",
    "\n",
    "    def before_fit(self):\n",
    "        assert self.dls.device.type == 'cuda', \"Mixed-precision training requires a GPU, remove the call `to_fp16`\"\n",
    "        if self.learn.opt is None: self.learn.create_opt()\n",
    "        self.model_pgs,self.master_pgs = get_master(self.opt, self.flat_master)\n",
    "        self.old_pgs = self.opt.param_lists\n",
    "        #Changes the optimizer so that the optimization step is done in FP32.\n",
    "        _copy_state(self.learn.opt, self.model_pgs, self.master_pgs)\n",
    "        if self.dynamic: self.count = 0\n",
    "\n",
    "    def before_batch(self): self.learn.xb = to_half(self.xb)\n",
    "    def after_pred(self): self.learn.pred = to_float(self.pred)\n",
    "    def before_backward(self): self.learn.loss *= self.loss_scale\n",
    "\n",
    "    def after_backward(self):\n",
    "        self.learn.loss /= self.loss_scale #To record the real loss\n",
    "        #First, check for an overflow\n",
    "        if self.dynamic and grad_overflow(self.model_pgs):\n",
    "            self.loss_scale /= self.div_factor\n",
    "            self.model.zero_grad()\n",
    "            raise CancelBatchException() #skip step and zero_grad\n",
    "\n",
    "        to_master_grads(self.model_pgs, self.master_pgs, self.flat_master)\n",
    "        for master_params in self.master_pgs:\n",
    "            for param in master_params:\n",
    "                if param.grad is not None: param.grad.div_(self.loss_scale)\n",
    "        if self.clip is not None:\n",
    "            for group in self.master_pgs: nn.utils.clip_grad_norm_(group, self.clip)\n",
    "        # Check if it's been long enough without overflow\n",
    "        if self.dynamic:\n",
    "            self.count += 1\n",
    "            if self.count == self.scale_wait:\n",
    "                self.count = 0\n",
    "                self.loss_scale *= self.div_factor\n",
    "\n",
    "    def after_step(self):\n",
    "        self.model.zero_grad() #Zero the gradients of the model manually (optimizer disconnected)\n",
    "        to_model_params(self.model_pgs, self.master_pgs, self.flat_master)\n",
    "\n",
    "    def after_fit(self):\n",
    "        if not hasattr(self,'master_pgs'): return\n",
    "        _copy_state(self.learn.opt, self.master_pgs, self.model_pgs)\n",
    "        self.learn.opt.param_lists  = self.old_pgs\n",
    "        delattr(self, \"master_pgs\")\n",
    "        delattr(self, \"model_pgs\")\n",
    "        delattr(self, \"old_pgs\")\n",
    "\n",
    "    _docs = dict(before_fit=\"Put the model in FP16 and prepare the two copies of the parameters\",\n",
    "                 before_batch=\"Put the input in FP16\",\n",
    "                 after_pred=\"Put the output back to FP32 so that the loss is computed in FP32\",\n",
    "                 before_backward=\"Apply loss scaling to avoid gradient underflow\",\n",
    "                 after_backward=\"Copy the gradients to the master param and undo the loss scaling\",\n",
    "                 after_step=\"Copy the master params to the model params\",\n",
    "                 after_fit=\"Put the model back in FP32\"\n",
    "    )"
   ]
  },
  {
   "cell_type": "code",
   "execution_count": null,
   "metadata": {},
   "outputs": [],
   "source": [
    "#hide\n",
    "class TestBeforeMixedPrecision(Callback):\n",
    "    run_before=ModelToHalf\n",
    "    def before_fit(self): test_eq(first(self.model.parameters()).dtype, torch.float32)\n",
    "    def before_batch(self): test_eq(self.x.dtype, torch.float32)\n",
    "    def after_pred(self): test_eq(self.pred.dtype, torch.float16)\n",
    "    def after_loss(self): self.tst_loss = self.learn.loss.detach().clone()\n",
    "    def after_backward(self):\n",
    "        self.has_overflown = grad_overflow(self.mixed_precision.model_pgs)\n",
    "        self.grads = [p.grad.data.clone() for p in self.model.parameters()]\n",
    "        self.old_params = [p.data.clone() for p in self.model.parameters()]\n",
    "    def after_step(self): assert not self.has_overflown\n",
    "    def after_cancel_batch(self): assert self.has_overflown\n",
    "        \n",
    "class TestAfterMixedPrecision(Callback):\n",
    "    run_after=MixedPrecision\n",
    "    def before_fit(self): test_eq(first(self.model.parameters()).dtype, torch.float16)\n",
    "    def after_fit(self): test_eq(first(self.model.parameters()).dtype, torch.float32)\n",
    "    def before_batch(self): test_eq(self.x.dtype, torch.float16)\n",
    "    def after_pred(self): test_eq(self.pred.dtype, torch.float32)\n",
    "    def before_backward(self):\n",
    "        loss_scale = self.mixed_precision.loss_scale if self.training else 1.\n",
    "        test_eq(self.loss, self.test_before_mixed_precision.tst_loss * loss_scale) \n",
    "    def after_backward(self):\n",
    "        tbmp = self.test_before_mixed_precision\n",
    "        test_eq(self.loss, tbmp.loss)\n",
    "        #Test gradients have been copied and scaled back\n",
    "        test_close(sum([[p.grad.data for p in pg] for pg in self.mixed_precision.master_pgs], []),\n",
    "                   [g.float()/self.mixed_precision.loss_scale for g in tbmp.grads])\n",
    "    def after_step(self):\n",
    "        tbmp,mp =self.test_before_mixed_precision,self.mixed_precision\n",
    "        #Test master params have been copied to model\n",
    "        test_close(sum([[p.data for p in pg] for pg in mp.master_pgs], []),\n",
    "                   [p.data.float() for p in self.model.parameters()], eps=1e-3)\n",
    "        #Test update has been done properly\n",
    "        for p,g,op in zip(self.model.parameters(), tbmp.grads, tbmp.old_params):\n",
    "            test_close(p.data.float(), op.float() - self.lr*g.float()/self.mixed_precision.loss_scale, eps=1e-3)"
   ]
  },
  {
   "cell_type": "code",
   "execution_count": null,
   "metadata": {},
   "outputs": [
    {
     "data": {
      "text/html": [
       "<table border=\"1\" class=\"dataframe\">\n",
       "  <thead>\n",
       "    <tr style=\"text-align: left;\">\n",
       "      <th>epoch</th>\n",
       "      <th>train_loss</th>\n",
       "      <th>valid_loss</th>\n",
       "      <th>time</th>\n",
       "    </tr>\n",
       "  </thead>\n",
       "  <tbody>\n",
       "    <tr>\n",
       "      <td>0</td>\n",
       "      <td>18.763765</td>\n",
       "      <td>14.685076</td>\n",
       "      <td>00:00</td>\n",
       "    </tr>\n",
       "    <tr>\n",
       "      <td>1</td>\n",
       "      <td>18.489687</td>\n",
       "      <td>13.746805</td>\n",
       "      <td>00:00</td>\n",
       "    </tr>\n",
       "    <tr>\n",
       "      <td>2</td>\n",
       "      <td>17.826832</td>\n",
       "      <td>12.755487</td>\n",
       "      <td>00:00</td>\n",
       "    </tr>\n",
       "  </tbody>\n",
       "</table>"
      ],
      "text/plain": [
       "<IPython.core.display.HTML object>"
      ]
     },
     "metadata": {},
     "output_type": "display_data"
    }
   ],
   "source": [
    "#hide\n",
    "#cuda\n",
    "learn = synth_learner(cbs=[ModelToHalf(), MixedPrecision()], cuda=True)\n",
    "learn.model = nn.Sequential(nn.Linear(1,1), nn.Linear(1,1)).cuda()\n",
    "learn.opt_func = partial(SGD, mom=0.)\n",
    "learn.splitter = lambda m: [list(m[0].parameters()), list(m[1].parameters())]\n",
    "learn.fit(3, cbs=[TestAfterMixedPrecision(), TestBeforeMixedPrecision()])\n",
    "#Check loss scale did change\n",
    "assert 1 < learn.mixed_precision.loss_scale < 2**24\n",
    "#Check the model did train\n",
    "for v1,v2 in zip(learn.recorder.values[0], learn.recorder.values[-1]): assert v2<v1"
   ]
  },
  {
   "cell_type": "code",
   "execution_count": null,
   "metadata": {},
   "outputs": [
    {
     "data": {
      "text/html": [
       "<table border=\"1\" class=\"dataframe\">\n",
       "  <thead>\n",
       "    <tr style=\"text-align: left;\">\n",
       "      <th>epoch</th>\n",
       "      <th>train_loss</th>\n",
       "      <th>valid_loss</th>\n",
       "      <th>time</th>\n",
       "    </tr>\n",
       "  </thead>\n",
       "  <tbody>\n",
       "    <tr>\n",
       "      <td>0</td>\n",
       "      <td>10.200215</td>\n",
       "      <td>8.615028</td>\n",
       "      <td>00:00</td>\n",
       "    </tr>\n",
       "    <tr>\n",
       "      <td>1</td>\n",
       "      <td>9.996134</td>\n",
       "      <td>8.410942</td>\n",
       "      <td>00:00</td>\n",
       "    </tr>\n",
       "    <tr>\n",
       "      <td>2</td>\n",
       "      <td>9.827746</td>\n",
       "      <td>8.213463</td>\n",
       "      <td>00:00</td>\n",
       "    </tr>\n",
       "  </tbody>\n",
       "</table>"
      ],
      "text/plain": [
       "<IPython.core.display.HTML object>"
      ]
     },
     "metadata": {},
     "output_type": "display_data"
    }
   ],
   "source": [
    "#hide\n",
    "#cuda\n",
    "learn = synth_learner(cbs=[ModelToHalf(), MixedPrecision(dynamic=False)], cuda=True)\n",
    "learn.model = nn.Sequential(nn.Linear(1,1), nn.Linear(1,1)).cuda()\n",
    "learn.opt_func = partial(SGD, mom=0.)\n",
    "learn.splitter = lambda m: [list(m[0].parameters()), list(m[1].parameters())]\n",
    "learn.fit(3, cbs=[TestAfterMixedPrecision(), TestBeforeMixedPrecision()])\n",
    "#Check loss scale did mot change\n",
    "test_eq(learn.mixed_precision.loss_scale,512)\n",
    "#Check the model did train\n",
    "for v1,v2 in zip(learn.recorder.values[0], learn.recorder.values[-1]): assert v2<v1"
   ]
  },
  {
   "cell_type": "code",
   "execution_count": null,
   "metadata": {},
   "outputs": [],
   "source": [
    "#export\n",
    "@patch\n",
    "@delegates(MixedPrecision.__init__)\n",
    "def to_fp16(self:Learner, **kwargs):\n",
    "    self.add_cbs([ModelToHalf(), MixedPrecision(**kwargs)])\n",
    "    return self"
   ]
  },
  {
   "cell_type": "code",
   "execution_count": null,
   "metadata": {},
   "outputs": [
    {
     "data": {
      "text/html": [
       "<table border=\"1\" class=\"dataframe\">\n",
       "  <thead>\n",
       "    <tr style=\"text-align: left;\">\n",
       "      <th>epoch</th>\n",
       "      <th>train_loss</th>\n",
       "      <th>valid_loss</th>\n",
       "      <th>time</th>\n",
       "    </tr>\n",
       "  </thead>\n",
       "  <tbody>\n",
       "    <tr>\n",
       "      <td>0</td>\n",
       "      <td>14.139479</td>\n",
       "      <td>11.638756</td>\n",
       "      <td>00:00</td>\n",
       "    </tr>\n",
       "    <tr>\n",
       "      <td>1</td>\n",
       "      <td>14.080734</td>\n",
       "      <td>11.265114</td>\n",
       "      <td>00:00</td>\n",
       "    </tr>\n",
       "    <tr>\n",
       "      <td>2</td>\n",
       "      <td>13.805032</td>\n",
       "      <td>10.776640</td>\n",
       "      <td>00:00</td>\n",
       "    </tr>\n",
       "  </tbody>\n",
       "</table>"
      ],
      "text/plain": [
       "<IPython.core.display.HTML object>"
      ]
     },
     "metadata": {},
     "output_type": "display_data"
    }
   ],
   "source": [
    "#cuda\n",
    "learn = synth_learner(cuda=True)\n",
    "learn.model = nn.Sequential(nn.Linear(1,1), nn.Linear(1,1)).cuda()\n",
    "learn.opt_func = partial(SGD, mom=0.)\n",
    "learn.splitter = lambda m: [list(m[0].parameters()), list(m[1].parameters())]\n",
    "learn.to_fp16()\n",
    "learn.fit(3, cbs=[TestAfterMixedPrecision(), TestBeforeMixedPrecision()])\n",
    "#Check the model did train\n",
    "for v1,v2 in zip(learn.recorder.values[0], learn.recorder.values[-1]): assert v2<v1"
   ]
  },
  {
   "cell_type": "code",
   "execution_count": null,
   "metadata": {},
   "outputs": [
    {
     "data": {
      "text/html": [
       "<table border=\"1\" class=\"dataframe\">\n",
       "  <thead>\n",
       "    <tr style=\"text-align: left;\">\n",
       "      <th>epoch</th>\n",
       "      <th>train_loss</th>\n",
       "      <th>valid_loss</th>\n",
       "      <th>time</th>\n",
       "    </tr>\n",
       "  </thead>\n",
       "  <tbody>\n",
       "    <tr>\n",
       "      <td>0</td>\n",
       "      <td>4.664319</td>\n",
       "      <td>4.043216</td>\n",
       "      <td>00:00</td>\n",
       "    </tr>\n",
       "    <tr>\n",
       "      <td>1</td>\n",
       "      <td>4.542980</td>\n",
       "      <td>3.361893</td>\n",
       "      <td>00:00</td>\n",
       "    </tr>\n",
       "    <tr>\n",
       "      <td>2</td>\n",
       "      <td>3.981500</td>\n",
       "      <td>2.081768</td>\n",
       "      <td>00:00</td>\n",
       "    </tr>\n",
       "  </tbody>\n",
       "</table>"
      ],
      "text/plain": [
       "<IPython.core.display.HTML object>"
      ]
     },
     "metadata": {},
     "output_type": "display_data"
    }
   ],
   "source": [
    "#hide\n",
    "#cuda\n",
    "learn = synth_learner(cuda=True)\n",
    "learn.model = nn.Sequential(nn.Linear(1,1), nn.Linear(1,1)).cuda()\n",
    "learn.opt_func = partial(SGD, mom=0.9)\n",
    "learn.splitter = lambda m: [list(m[0].parameters()), list(m[1].parameters())]\n",
    "learn.to_fp16()\n",
    "learn.freeze()\n",
    "learn.create_opt()\n",
    "init_ps = [p for pg in learn.opt.param_groups for p in pg]\n",
    "learn.fit(3)\n",
    "final_ps = [p for pg in learn.opt.param_groups for p in pg]\n",
    "for p1,p2 in zip(init_ps, final_ps): test_is(p1, p2)\n",
    "#First param groups has no state cause not trained\n",
    "test_eq([learn.opt.state[p] for p in learn.opt.param_lists[0]], [{}, {'do_wd': False}])\n",
    "#Second param groups has state \n",
    "for p in learn.opt.param_lists[1]: assert 'grad_avg' in learn.opt.state[p]"
   ]
  },
  {
   "cell_type": "code",
   "execution_count": null,
   "metadata": {},
   "outputs": [],
   "source": [
    "#export\n",
    "@patch\n",
    "def to_fp32(self: Learner):\n",
    "    self.remove_cbs([ModelToHalf, MixedPrecision])\n",
    "    return self"
   ]
  },
  {
   "cell_type": "code",
   "execution_count": null,
   "metadata": {},
   "outputs": [],
   "source": [
    "#cuda\n",
    "learn = learn.to_fp32()"
   ]
  },
  {
   "cell_type": "code",
   "execution_count": null,
   "metadata": {},
   "outputs": [],
   "source": [
    "#export\n",
    "class NativeMixedPrecision(Callback):\n",
    "    \"Mixed precision training using Pytorch's `autocast` and `GradScaler`\"\n",
    "    @delegates(GradScaler.__init__)\n",
    "    def __init__(self, **kwargs): self.scaler_kwargs,self.autocast = kwargs,autocast()\n",
    "\n",
    "    def before_fit(self):\n",
    "        self.learn.scaler = GradScaler(**self.scaler_kwargs)\n",
    "        self.learn._step,self.learn._backward = self._step,self._backward\n",
    "\n",
    "    def before_batch(self): self.autocast.__enter__()\n",
    "    def after_step(self): self.learn.scaler.update()\n",
    "    def after_loss(self): self.autocast.__exit__()\n",
    "    def _backward(self): self.scaler.scale(self.loss).backward()\n",
    "    def _step(self): self.scaler.step(self.opt)"
   ]
  },
  {
   "cell_type": "code",
   "execution_count": null,
   "metadata": {},
   "outputs": [
    {
     "data": {
      "text/html": [
       "<table border=\"1\" class=\"dataframe\">\n",
       "  <thead>\n",
       "    <tr style=\"text-align: left;\">\n",
       "      <th>epoch</th>\n",
       "      <th>train_loss</th>\n",
       "      <th>valid_loss</th>\n",
       "      <th>time</th>\n",
       "    </tr>\n",
       "  </thead>\n",
       "  <tbody>\n",
       "    <tr>\n",
       "      <td>0</td>\n",
       "      <td>12.265739</td>\n",
       "      <td>13.796586</td>\n",
       "      <td>00:00</td>\n",
       "    </tr>\n",
       "    <tr>\n",
       "      <td>1</td>\n",
       "      <td>11.957346</td>\n",
       "      <td>13.264964</td>\n",
       "      <td>00:00</td>\n",
       "    </tr>\n",
       "    <tr>\n",
       "      <td>2</td>\n",
       "      <td>11.688790</td>\n",
       "      <td>12.783096</td>\n",
       "      <td>00:00</td>\n",
       "    </tr>\n",
       "  </tbody>\n",
       "</table>"
      ],
      "text/plain": [
       "<IPython.core.display.HTML object>"
      ]
     },
     "metadata": {},
     "output_type": "display_data"
    }
   ],
   "source": [
    "#hide\n",
    "#cuda\n",
    "learn = synth_learner(cbs=[NativeMixedPrecision], cuda=True)\n",
    "learn.model = nn.Sequential(nn.Linear(1,1), nn.Linear(1,1)).cuda()\n",
    "learn.opt_func = partial(SGD, mom=0.)\n",
    "learn.splitter = lambda m: [list(m[0].parameters()), list(m[1].parameters())]\n",
    "learn.fit(3)\n",
    "#Check the model did train\n",
    "for v1,v2 in zip(learn.recorder.values[0], learn.recorder.values[-1]): assert v2<v1"
   ]
  },
  {
   "cell_type": "code",
   "execution_count": null,
   "metadata": {},
   "outputs": [],
   "source": [
    "#export\n",
    "@patch\n",
    "@delegates(GradScaler.__init__)\n",
    "def to_native_fp16(self:Learner, **kwargs):\n",
    "    self.add_cb(NativeMixedPrecision(**kwargs))\n",
    "    return self"
   ]
  },
  {
   "cell_type": "code",
   "execution_count": null,
   "metadata": {},
   "outputs": [],
   "source": [
    "#export\n",
    "@patch\n",
    "def to_native_fp32(self:Learner):\n",
    "    self.remove_cb(NativeMixedPrecision)\n",
    "    return self"
   ]
  },
  {
   "cell_type": "markdown",
   "metadata": {},
   "source": [
    "## Export -"
   ]
  },
  {
   "cell_type": "code",
   "execution_count": null,
   "metadata": {},
   "outputs": [
    {
     "name": "stdout",
     "output_type": "stream",
     "text": [
      "Converted 00_torch_core.ipynb.\n",
      "Converted 01_layers.ipynb.\n",
      "Converted 01a_losses.ipynb.\n",
      "Converted 02_data.load.ipynb.\n",
      "Converted 03_data.core.ipynb.\n",
      "Converted 04_data.external.ipynb.\n",
      "Converted 05_data.transforms.ipynb.\n",
      "Converted 06_data.block.ipynb.\n",
      "Converted 07_vision.core.ipynb.\n",
      "Converted 08_vision.data.ipynb.\n",
      "Converted 09_vision.augment.ipynb.\n",
      "Converted 09b_vision.utils.ipynb.\n",
      "Converted 09c_vision.widgets.ipynb.\n",
      "Converted 10_tutorial.pets.ipynb.\n",
      "Converted 10b_tutorial.albumentations.ipynb.\n",
      "Converted 11_vision.models.xresnet.ipynb.\n",
      "Converted 12_optimizer.ipynb.\n",
      "Converted 13_callback.core.ipynb.\n",
      "Converted 13a_learner.ipynb.\n",
      "Converted 13b_metrics.ipynb.\n",
      "Converted 14_callback.schedule.ipynb.\n",
      "Converted 14a_callback.data.ipynb.\n",
      "Converted 15_callback.hook.ipynb.\n",
      "Converted 15a_vision.models.unet.ipynb.\n",
      "Converted 16_callback.progress.ipynb.\n",
      "Converted 17_callback.tracker.ipynb.\n",
      "Converted 18_callback.fp16.ipynb.\n",
      "Converted 18a_callback.training.ipynb.\n",
      "Converted 18b_callback.preds.ipynb.\n",
      "Converted 19_callback.mixup.ipynb.\n",
      "Converted 20_interpret.ipynb.\n",
      "Converted 20a_distributed.ipynb.\n",
      "Converted 21_vision.learner.ipynb.\n",
      "Converted 22_tutorial.imagenette.ipynb.\n",
      "Converted 23_tutorial.vision.ipynb.\n",
      "Converted 24_tutorial.siamese.ipynb.\n",
      "Converted 24_vision.gan.ipynb.\n",
      "Converted 30_text.core.ipynb.\n",
      "Converted 31_text.data.ipynb.\n",
      "Converted 32_text.models.awdlstm.ipynb.\n",
      "Converted 33_text.models.core.ipynb.\n",
      "Converted 34_callback.rnn.ipynb.\n",
      "Converted 35_tutorial.wikitext.ipynb.\n",
      "Converted 36_text.models.qrnn.ipynb.\n",
      "Converted 37_text.learner.ipynb.\n",
      "Converted 38_tutorial.text.ipynb.\n",
      "Converted 39_tutorial.transformers.ipynb.\n",
      "Converted 40_tabular.core.ipynb.\n",
      "Converted 41_tabular.data.ipynb.\n",
      "Converted 42_tabular.model.ipynb.\n",
      "Converted 43_tabular.learner.ipynb.\n",
      "Converted 44_tutorial.tabular.ipynb.\n",
      "Converted 45_collab.ipynb.\n",
      "Converted 46_tutorial.collab.ipynb.\n",
      "Converted 50_tutorial.datablock.ipynb.\n",
      "Converted 60_medical.imaging.ipynb.\n",
      "Converted 61_tutorial.medical_imaging.ipynb.\n",
      "Converted 65_medical.text.ipynb.\n",
      "Converted 70_callback.wandb.ipynb.\n",
      "Converted 71_callback.tensorboard.ipynb.\n",
      "Converted 72_callback.neptune.ipynb.\n",
      "Converted 73_callback.captum.ipynb.\n",
      "Converted 74_callback.cutmix.ipynb.\n",
      "Converted 97_test_utils.ipynb.\n",
      "Converted 99_pytorch_doc.ipynb.\n",
      "Converted dev-setup.ipynb.\n",
      "Converted index.ipynb.\n",
      "Converted quick_start.ipynb.\n",
      "Converted tutorial.ipynb.\n"
     ]
    }
   ],
   "source": [
    "#hide\n",
    "from nbdev.export import *\n",
    "notebook2script()"
   ]
  },
  {
   "cell_type": "code",
   "execution_count": null,
   "metadata": {},
   "outputs": [],
   "source": []
  }
 ],
 "metadata": {
  "jupytext": {
   "split_at_heading": true
  },
  "kernelspec": {
   "display_name": "Python 3",
   "language": "python",
   "name": "python3"
  }
 },
 "nbformat": 4,
 "nbformat_minor": 4
}

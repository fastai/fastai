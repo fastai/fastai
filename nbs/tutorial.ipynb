{
 "cells": [
  {
   "cell_type": "markdown",
   "metadata": {},
   "source": [
    "# Tutorials\n",
    "\n",
    "> To help you get started"
   ]
  },
  {
   "cell_type": "markdown",
   "metadata": {},
   "source": [
    "The most important thing to remember is that each page of this documentation comes from a notebook. You can find them in the \"nbs\" folder in the [main repo](https://github.com/fastai/fastai/tree/master/nbs). For tutorials, you can play around with the code and tweak it to do your own experiments. For the pages documenting the library, you will be able to see the source code and interact with all the tests."
   ]
  },
  {
   "cell_type": "markdown",
   "metadata": {},
   "source": [
    "If you are just starting with the library, checkout the beginners tutorials. They cover how to treat each application using the high-level API:\n",
    "\n",
    "- [vision](http://docs.fast.ai/tutorial.vision)\n",
    "- [text](http://docs.fast.ai/tutorial.text)\n",
    "- [tabular](http://docs.fast.ai/tutorial.tabular)\n",
    "- [collaborative filtering](http://docs.fast.ai/tutorial.collab)\n",
    "\n",
    "Once you are comfortable enough and want to start digging in the mid-level API, have a look at the intermediate tutorials:\n",
    "\n",
    "- [the data block API](http://docs.fast.ai/tutorial.datablock)\n",
    "- [a base training on Imagenette](http://docs.fast.ai/tutorial.imagenette)\n",
    "- [the mid-level data API in vision](http://docs.fast.ai/tutorial.pets)\n",
    "- [the mid-level data API in text](http://docs.fast.ai/tutorial.wikitext)\n",
    "\n",
    "And for even more experienced users that want to customize the library to their needs, check the advanced tutorials:\n",
    "\n",
    "- [Siamese model data collection and training](http://docs.fast.ai/tutorial.siamese)"
   ]
  },
  {
   "cell_type": "code",
   "execution_count": null,
   "metadata": {},
   "outputs": [],
   "source": []
  }
 ],
 "metadata": {
  "jupytext": {
   "split_at_heading": true
  },
  "kernelspec": {
   "display_name": "Python 3",
   "language": "python",
   "name": "python3"
  }
 },
 "nbformat": 4,
 "nbformat_minor": 2
}

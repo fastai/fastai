{
 "cells": [
  {
   "cell_type": "code",
   "execution_count": null,
   "metadata": {},
   "outputs": [],
   "source": [
    "#|hide\n",
    "#| eval: false\n",
    "! [ -e /content ] && pip install -Uqq fastai  # upgrade fastai on colab"
   ]
  },
  {
   "cell_type": "raw",
   "metadata": {},
   "source": [
    "---\n",
    "skip_exec: true\n",
    "---"
   ]
  },
  {
   "cell_type": "code",
   "execution_count": null,
   "metadata": {},
   "outputs": [],
   "source": [
    "#|default_exp callback.comet"
   ]
  },
  {
   "cell_type": "code",
   "execution_count": null,
   "metadata": {},
   "outputs": [],
   "source": [
    "#|hide\n",
    "from nbdev.showdoc import *"
   ]
  },
  {
   "cell_type": "markdown",
   "metadata": {},
   "source": [
    "# Comet.ml\n",
    "\n",
    "> Integration with [Comet](https://www.comet.com/site/?utm_source=fast_ai&utm_medium=referral&utm_campaign=docs)."
   ]
  },
  {
   "cell_type": "markdown",
   "metadata": {},
   "source": [
    "## Registration"
   ]
  },
  {
   "cell_type": "markdown",
   "metadata": {},
   "source": [
    "1. Create account: [comet.com/signup](https://www.comet.com/signup?utm_source=fast_ai&utm_medium=referral&utm_content=docs).\n",
    "2. Export API key to the environment variable (more help [here](https://www.comet.com/docs/v2/guides/getting-started/quickstart/#get-an-api-key)). In your terminal run:\n",
    "\n",
    "```\n",
    "export COMET_API_KEY='YOUR_LONG_API_TOKEN'\n",
    "```\n",
    "\n",
    "or include it in your `./comet.config` file (**recommended**). More help is [here](https://www.comet.com/docs/v2/guides/tracking-ml-training/jupyter-notebooks/#set-your-api-key-and-project-name)."
   ]
  },
  {
   "cell_type": "markdown",
   "metadata": {},
   "source": [
    "## Installation"
   ]
  },
  {
   "cell_type": "markdown",
   "metadata": {},
   "source": [
    "1. You need to install the Comet SDK. In your terminal run:\n",
    "\n",
    "```\n",
    "pip install \"comet_ml>=3.37.0\"\n",
    "```\n",
    "\n",
    "or (alternative installation using conda). In your terminal run:\n",
    "\n",
    "```\n",
    "conda install -c anaconda -c conda-forge -c comet_ml comet_ml\n",
    "```"
   ]
  },
  {
   "cell_type": "markdown",
   "metadata": {},
   "source": [
    "## How to use?"
   ]
  },
  {
   "cell_type": "markdown",
   "metadata": {},
   "source": [
    "Start by importing Comet at the top of your training script and then create a new Comet Experiment:\n",
    "\n",
    "```\n",
    "import comet_ml\n",
    "\n",
    "experiment = comet_ml.Experiment(project_name=\"my-fastai-project\")\n",
    "```\n",
    "\n",
    "Comet logs your experiment through a callback executed when you run Learner.fit() in fastai. You do not need to add this callback yourself, we do it for you automatically. However, if you ever need to access the callback manually, you can do it the following way:\n",
    "\n",
    "```\n",
    "import comet_ml\n",
    "\n",
    "experiment = comet_ml.Experiment()\n",
    "\n",
    "comet_ml_callback = experiment.get_callback(\"fastai\")\n",
    "\n",
    "learn = Learner(dls, model,\n",
    "                cbs=comet_ml_callback\n",
    "                )\n",
    "```"
   ]
  },
  {
   "cell_type": "code",
   "execution_count": null,
   "metadata": {},
   "outputs": [],
   "source": []
  }
 ],
 "metadata": {
  "kernelspec": {
   "display_name": "5993dd66-eda5-4671-83ae-60178ed6f369",
   "language": "python",
   "name": "5993dd66-eda5-4671-83ae-60178ed6f369"
  }
 },
 "nbformat": 4,
 "nbformat_minor": 4
}

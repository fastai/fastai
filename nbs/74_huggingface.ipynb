{
 "cells": [
  {
   "cell_type": "code",
   "execution_count": null,
   "metadata": {},
   "outputs": [],
   "source": [
    "#hide\n",
    "#|skip\n",
    "! [ -e /content ] && pip install -Uqq fastai  # upgrade fastai on colab"
   ]
  },
  {
   "cell_type": "code",
   "execution_count": null,
   "metadata": {},
   "outputs": [],
   "source": [
    "#|all_slow"
   ]
  },
  {
   "cell_type": "markdown",
   "metadata": {},
   "source": [
    "# Using the Hugging Face Hub to share and load models\n",
    "\n",
    "> Integration with the Hugging Face Hub"
   ]
  },
  {
   "cell_type": "markdown",
   "metadata": {},
   "source": [
    "## Why share to the Hugging Face Hub"
   ]
  },
  {
   "cell_type": "markdown",
   "metadata": {},
   "source": [
    "The Hub is a central platform where anyone can share and explore models, datasets, and ML demos. It aims to build the most extensive collection of Open Source models, datasets, and demos. \n",
    "\n",
    "Sharing to the Hub could amplify the impact of a fastai Learner by making it available for others to download and explore.\n",
    "\n",
    "Anyone can access all the fastai models in the Hub by filtering the [huggingface.co/models](https://huggingface.co/models) webpage by the fastai library, as in the image below.\n",
    "\n",
    "To know more about the Hub, refer to [this introduction](https://github.com/huggingface/education-toolkit/blob/main/01_huggingface-hub-tour.md).\n",
    "\n",
    "\n",
    "<img src=\"images/hf_hub_fastai.png\" alt=\"hf_hub_fastai\" width=\"800\" />"
   ]
  },
  {
   "cell_type": "markdown",
   "metadata": {},
   "source": [
    "## Installation"
   ]
  },
  {
   "cell_type": "markdown",
   "metadata": {},
   "source": [
    "Install `huggingface_hub`. Additionally, the integration functions require the following packages:\n",
    "- toml,\n",
    "- fastai>=2.4,\n",
    "- fastcore>=1.3.27\n",
    "\n",
    "You can install these packages manually or specify `[\"fastai\"]` when installing `huggingface_hub`, and your environment will be ready:\n",
    "\n",
    "```\n",
    "pip install huggingface_hub[\"fastai\"]\n",
    "```\n",
    "\n",
    "Note: As of May 5, 2022, there has not been a release that includes the fastai+hub features so that you can install from `main`:\n",
    "\n",
    "```\n",
    "!pip install git+https://github.com/huggingface/huggingface_hub#egg=huggingface-hub[\"fastai\"]\n",
    "```\n",
    "\n",
    "To share models in the Hub, you will need to have a user. Create it on the [Hugging Face website](https://huggingface.co/).\n"
   ]
  },
  {
   "cell_type": "markdown",
   "metadata": {},
   "source": [
    "## Sharing a Learner to the Hub\n"
   ]
  },
  {
   "cell_type": "markdown",
   "metadata": {},
   "source": [
    "There are three options to login to the Hugging Face Hub; your token will be available in your Account Settings:\n",
    "1. Type `huggingface-cli login` in your terminal and enter your token.\n",
    "\n",
    "2. If in a python notebook, you can use `notebook_login`.\n",
    "\n",
    "```\n",
    "from huggingface_hub import notebook_login\n",
    "notebook_login()\n",
    "```\n",
    "\n",
    "3. Use the `token` argument of the `push_to_hub_fastai` function.\n",
    "\n"
   ]
  },
  {
   "cell_type": "markdown",
   "metadata": {},
   "source": [
    "Input `push_to_hub_fastai` (refer to the [Hub Client documentation](https://huggingface.co/docs/huggingface_hub/main/en/package_reference/mixins#huggingface_hub.push_to_hub_fastai)) with the Learner you want to upload and the repository id for the Hub in the format of \"namespace/repo_name\". The namespace can be an individual account or an organization you have write access to (for example, 'fastai/stanza-de'). For more details, refer to the [Hub Client documentation](https://huggingface.co/docs/huggingface_hub/main/en/package_reference/mixins#huggingface_hub.push_to_hub_fastai).\n",
    "\n",
    "```\n",
    "from huggingface_hub import push_to_hub_fastai\n",
    "push_to_hub_fastai(learner=learn, repo_id=\"espejelomar/cool_learner\")\n",
    "```\n",
    "\n",
    "The Learner is now in the Hub with the id `espejelomar/cool_learner`.\n",
    "\n",
    "When uploading a fastai Learner (or any other model) to the Hub, it is helpful to edit its model card (image below) so that others better understand your work (refer to the [Hugging Face documentation](https://huggingface.co/docs/hub/model-repos#what-are-model-cards-and-why-are-they-useful)).\n",
    "\n",
    "<img src=\"images/hf_model_card.png\" alt=\"hf_model_card\" width=\"800\" />\n",
    "\n"
   ]
  },
  {
   "cell_type": "markdown",
   "metadata": {},
   "source": [
    "## Loading a Learner from Hub\n"
   ]
  },
  {
   "cell_type": "markdown",
   "metadata": {},
   "source": [
    "To load a model in the Hub with the id `ITESM/fastai_model`:\n",
    "\n",
    "```\n",
    "from huggingface_hub import from_pretrained_fastai\n",
    "learner = from_pretrained_fastai(\"ITESM/fastai_model\")\n",
    "```\n",
    "\n",
    "The [Hub Client documentation](https://huggingface.co/docs/huggingface_hub/main/en/package_reference/mixins#huggingface_hub.from_pretrained_fastai) includes addtional details on `from_pretrained_fastai`.\n"
   ]
  },
  {
   "cell_type": "code",
   "execution_count": null,
   "metadata": {},
   "outputs": [],
   "source": []
  }
 ],
 "metadata": {
  "jupytext": {
   "split_at_heading": true
  },
  "kernelspec": {
   "display_name": "Python 3 (ipykernel)",
   "language": "python",
   "name": "python3"
  }
 },
 "nbformat": 4,
 "nbformat_minor": 0
}

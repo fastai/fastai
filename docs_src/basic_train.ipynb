{
 "cells": [
  {
   "cell_type": "markdown",
   "metadata": {},
   "source": [
    "## Basic training functionality"
   ]
  },
  {
   "cell_type": "code",
   "execution_count": null,
   "metadata": {
    "hide_input": true
   },
   "outputs": [],
   "source": [
    "from fastai.basic_train import *\n",
    "from fastai.gen_doc.nbdoc import *\n",
    "from fastai.vision import *\n",
    "from fastai.distributed import *"
   ]
  },
  {
   "cell_type": "markdown",
   "metadata": {},
   "source": [
    "[`basic_train`](/basic_train.html#basic_train) wraps together the data (in a [`DataBunch`](/basic_data.html#DataBunch) object) with a PyTorch model to define a [`Learner`](/basic_train.html#Learner) object. Here the basic training loop is defined for the [`fit`](/basic_train.html#fit) method. The [`Learner`](/basic_train.html#Learner) object is the entry point of most of the [`Callback`](/callback.html#Callback) objects that will customize this training loop in different ways. Some of the most commonly used customizations are available through the [`train`](/train.html#train) module, notably:\n",
    "\n",
    " - [`Learner.lr_find`](/train.html#lr_find) will launch an LR range test that will help you select a good learning rate.\n",
    " - [`Learner.fit_one_cycle`](/train.html#fit_one_cycle) will launch a training using the 1cycle policy to help you train your model faster.\n",
    " - [`Learner.to_fp16`](/train.html#to_fp16) will convert your model to half precision and help you launch a training in mixed precision."
   ]
  },
  {
   "cell_type": "code",
   "execution_count": null,
   "metadata": {
    "hide_input": true
   },
   "outputs": [
    {
     "data": {
      "text/markdown": [
       "<h2 id=\"Learner\"><code>class</code> <code>Learner</code><a href=\"https://github.com/fastai/fastai/blob/master/fastai/basic_train.py#L133\" class=\"source_link\">[source]</a></h2>\n",
       "\n",
       "> <code>Learner</code>(<b>`data`</b>:[`DataBunch`](/basic_data.html#DataBunch), <b>`model`</b>:[`Module`](https://pytorch.org/docs/stable/nn.html#torch.nn.Module), <b>`opt_func`</b>:`Callable`=<b><i>`'Adam'`</i></b>, <b>`loss_func`</b>:`Callable`=<b><i>`None`</i></b>, <b>`metrics`</b>:`Collection`\\[`Callable`\\]=<b><i>`None`</i></b>, <b>`true_wd`</b>:`bool`=<b><i>`True`</i></b>, <b>`bn_wd`</b>:`bool`=<b><i>`True`</i></b>, <b>`wd`</b>:`Floats`=<b><i>`0.01`</i></b>, <b>`train_bn`</b>:`bool`=<b><i>`True`</i></b>, <b>`path`</b>:`str`=<b><i>`None`</i></b>, <b>`model_dir`</b>:`str`=<b><i>`'models'`</i></b>, <b>`callback_fns`</b>:`Collection`\\[`Callable`\\]=<b><i>`None`</i></b>, <b>`callbacks`</b>:`Collection`\\[[`Callback`](/callback.html#Callback)\\]=<b><i>`<factory>`</i></b>, <b>`layer_groups`</b>:`ModuleList`=<b><i>`None`</i></b>)\n",
       "\n",
       "Trainer for `model` using `data` to minimize `loss_func` with optimizer `opt_func`.  "
      ],
      "text/plain": [
       "<IPython.core.display.Markdown object>"
      ]
     },
     "metadata": {},
     "output_type": "display_data"
    }
   ],
   "source": [
    "show_doc(Learner, title_level=2)"
   ]
  },
  {
   "cell_type": "markdown",
   "metadata": {},
   "source": [
    "The main purpose of [`Learner`](/basic_train.html#Learner) is to train `model` using [`Learner.fit`](/basic_train.html#Learner.fit). After every epoch, all *metrics* will be printed and also made available to callbacks.\n",
    "\n",
    "The default weight decay will be `wd`, which will be handled using the method from [Fixing Weight Decay Regularization in Adam](https://arxiv.org/abs/1711.05101) if `true_wd` is set (otherwise it's L2 regularization). If `bn_wd` is `False`, then weight decay will be removed from batchnorm layers, as recommended in [Accurate, Large Minibatch SGD: Training ImageNet in 1 Hour](https://arxiv.org/abs/1706.02677). If `train_bn`, batchnorm layer learnable params are trained even for frozen layer groups.\n",
    "\n",
    "To use [discriminative layer training](#Discriminative-layer-training), pass a list of [`nn.Module`](https://pytorch.org/docs/stable/nn.html#torch.nn.Module) as `layer_groups`; each [`nn.Module`](https://pytorch.org/docs/stable/nn.html#torch.nn.Module) will be used to customize the optimization of the corresponding layer group.\n",
    "\n",
    "If `path` is provided, all the model files created will be saved in `path`/`model_dir`; if not, then they will be saved in `data.path`/`model_dir`.\n",
    "\n",
    "You can pass a list of [`callback`](callback.html#Callback)s that you have already created, or (more commonly) simply pass a list of callback functions to `callback_fns` and each function will be called (passing `self`) on object initialization, with the results stored as callback objects. For a walk-through, see the [training overview](/training.html) page. You may also want to use an [application](applications.html) specific model. For example, if you are dealing with a vision dataset, here the MNIST, you might want to use the [`create_cnn`](/vision.learner.html#create_cnn) method:"
   ]
  },
  {
   "cell_type": "code",
   "execution_count": null,
   "metadata": {
    "hide_input": false
   },
   "outputs": [],
   "source": [
    "path = untar_data(URLs.MNIST_SAMPLE)\n",
    "data = ImageDataBunch.from_folder(path)\n",
    "learn = create_cnn(data, models.resnet18, metrics=accuracy)"
   ]
  },
  {
   "cell_type": "markdown",
   "metadata": {},
   "source": [
    "### Model fitting methods"
   ]
  },
  {
   "cell_type": "code",
   "execution_count": null,
   "metadata": {
    "hide_input": true
   },
   "outputs": [
    {
     "data": {
      "text/markdown": [
       "<h4 id=\"Learner.fit\"><code>fit</code><a href=\"https://github.com/fastai/fastai/blob/master/fastai/basic_train.py#L169\" class=\"source_link\">[source]</a></h4>\n",
       "\n",
       "> <code>fit</code>(<b>`epochs`</b>:`int`, <b>`lr`</b>:`Union`\\[`float`, `Collection`\\[`float`\\], `slice`\\]=<b><i>`slice(None, 0.003, None)`</i></b>, <b>`wd`</b>:`Floats`=<b><i>`None`</i></b>, <b>`callbacks`</b>:`Collection`\\[[`Callback`](/callback.html#Callback)\\]=<b><i>`None`</i></b>)\n",
       "\n",
       "Fit the model on this learner with `lr` learning rate, `wd` weight decay for `epochs` with `callbacks`.  "
      ],
      "text/plain": [
       "<IPython.core.display.Markdown object>"
      ]
     },
     "metadata": {},
     "output_type": "display_data"
    }
   ],
   "source": [
    "show_doc(Learner.fit)"
   ]
  },
  {
   "cell_type": "markdown",
   "metadata": {},
   "source": [
    "Uses [discriminative layer training](#Discriminative-layer-training) if multiple learning rates or weight decay values are passed. To control training behaviour, use the [`callback`](/callback.html#callback) system or one or more of the pre-defined [`callbacks`](/callbacks.html#callbacks)."
   ]
  },
  {
   "cell_type": "code",
   "execution_count": null,
   "metadata": {},
   "outputs": [
    {
     "data": {
      "text/html": [
       "Total time: 00:05 <p><table style='width:300px; margin-bottom:10px'>\n",
       "  <tr>\n",
       "    <th>epoch</th>\n",
       "    <th>train_loss</th>\n",
       "    <th>valid_loss</th>\n",
       "    <th>accuracy</th>\n",
       "  </tr>\n",
       "  <tr>\n",
       "    <th>1</th>\n",
       "    <th>0.135587</th>\n",
       "    <th>0.082969</th>\n",
       "    <th>0.973503</th>\n",
       "  </tr>\n",
       "</table>\n"
      ],
      "text/plain": [
       "<IPython.core.display.HTML object>"
      ]
     },
     "metadata": {},
     "output_type": "display_data"
    }
   ],
   "source": [
    "learn.fit(1)"
   ]
  },
  {
   "cell_type": "code",
   "execution_count": null,
   "metadata": {
    "hide_input": true
   },
   "outputs": [
    {
     "data": {
      "text/markdown": [
       "<h4 id=\"fit_one_cycle\"><code>fit_one_cycle</code><a href=\"https://github.com/fastai/fastai/blob/master/fastai/train.py#L14\" class=\"source_link\">[source]</a></h4>\n",
       "\n",
       "> <code>fit_one_cycle</code>(<b>`learn`</b>:[`Learner`](/basic_train.html#Learner), <b>`cyc_len`</b>:`int`, <b>`max_lr`</b>:`Union`\\[`float`, `Collection`\\[`float`\\], `slice`\\]=<b><i>`slice(None, 0.003, None)`</i></b>, <b>`moms`</b>:`Point`=<b><i>`(0.95, 0.85)`</i></b>, <b>`div_factor`</b>:`float`=<b><i>`25.0`</i></b>, <b>`pct_start`</b>:`float`=<b><i>`0.3`</i></b>, <b>`wd`</b>:`float`=<b><i>`None`</i></b>, <b>`callbacks`</b>:`Optional`\\[`Collection`\\[[`Callback`](/callback.html#Callback)\\]\\]=<b><i>`None`</i></b>, <b>`kwargs`</b>)\n",
       "\n",
       "Fit a model following the 1cycle policy.  "
      ],
      "text/plain": [
       "<IPython.core.display.Markdown object>"
      ]
     },
     "metadata": {},
     "output_type": "display_data"
    }
   ],
   "source": [
    "show_doc(Learner.fit_one_cycle)"
   ]
  },
  {
   "cell_type": "markdown",
   "metadata": {},
   "source": [
    "Use cycle length `cyc_len`, a per cycle maximal learning rate `max_lr`, momentum `moms`, division factor `div_factor`, weight decay `wd`, and optional callbacks `callbacks`. Uses the [`OneCycleScheduler`](/callbacks.one_cycle.html#OneCycleScheduler) callback. Please refer to [What is 1-cycle](/callbacks.one_cycle.html#What-is-1cycle?) for a conceptual background of 1-cycle training policy and more technical details on what do the method's arguments do."
   ]
  },
  {
   "cell_type": "code",
   "execution_count": null,
   "metadata": {},
   "outputs": [
    {
     "data": {
      "text/html": [
       "Total time: 00:04 <p><table style='width:300px; margin-bottom:10px'>\n",
       "  <tr>\n",
       "    <th>epoch</th>\n",
       "    <th>train_loss</th>\n",
       "    <th>valid_loss</th>\n",
       "    <th>accuracy</th>\n",
       "  </tr>\n",
       "  <tr>\n",
       "    <th>1</th>\n",
       "    <th>0.080337</th>\n",
       "    <th>0.062688</th>\n",
       "    <th>0.978901</th>\n",
       "  </tr>\n",
       "</table>\n"
      ],
      "text/plain": [
       "<IPython.core.display.HTML object>"
      ]
     },
     "metadata": {},
     "output_type": "display_data"
    }
   ],
   "source": [
    "learn.fit_one_cycle(1)"
   ]
  },
  {
   "cell_type": "code",
   "execution_count": null,
   "metadata": {
    "hide_input": true
   },
   "outputs": [
    {
     "data": {
      "text/markdown": [
       "<h4 id=\"lr_find\"><code>lr_find</code><a href=\"https://github.com/fastai/fastai/blob/master/fastai/train.py#L24\" class=\"source_link\">[source]</a></h4>\n",
       "\n",
       "> <code>lr_find</code>(<b>`learn`</b>:[`Learner`](/basic_train.html#Learner), <b>`start_lr`</b>:`Floats`=<b><i>`1e-07`</i></b>, <b>`end_lr`</b>:`Floats`=<b><i>`10`</i></b>, <b>`num_it`</b>:`int`=<b><i>`100`</i></b>, <b>`stop_div`</b>:`bool`=<b><i>`True`</i></b>, <b>`kwargs`</b>:`Any`)\n",
       "\n",
       "Explore lr from `start_lr` to `end_lr` over `num_it` iterations in `learn`. If `stop_div`, stops when loss diverges.  "
      ],
      "text/plain": [
       "<IPython.core.display.Markdown object>"
      ]
     },
     "metadata": {},
     "output_type": "display_data"
    }
   ],
   "source": [
    "show_doc(Learner.lr_find)"
   ]
  },
  {
   "cell_type": "markdown",
   "metadata": {},
   "source": [
    "Runs the learning rate finder defined in [`LRFinder`](/callbacks.lr_finder.html#LRFinder), as discussed in [Cyclical Learning Rates for Training Neural Networks](https://arxiv.org/abs/1506.01186). "
   ]
  },
  {
   "cell_type": "code",
   "execution_count": null,
   "metadata": {},
   "outputs": [
    {
     "name": "stdout",
     "output_type": "stream",
     "text": [
      "LR Finder is complete, type {learner_name}.recorder.plot() to see the graph.\n"
     ]
    }
   ],
   "source": [
    "learn.lr_find()"
   ]
  },
  {
   "cell_type": "code",
   "execution_count": null,
   "metadata": {},
   "outputs": [
    {
     "data": {
      "image/png": "[encoded data removed]",
      "text/plain": [
       "<Figure size 432x288 with 1 Axes>"
      ]
     },
     "metadata": {
      "needs_background": "light"
     },
     "output_type": "display_data"
    }
   ],
   "source": [
    "learn.recorder.plot()"
   ]
  },
  {
   "cell_type": "markdown",
   "metadata": {},
   "source": [
    "### See results"
   ]
  },
  {
   "cell_type": "code",
   "execution_count": null,
   "metadata": {
    "hide_input": true
   },
   "outputs": [
    {
     "data": {
      "text/markdown": [
       "<h4 id=\"Learner.get_preds\"><code>get_preds</code><a href=\"https://github.com/fastai/fastai/blob/master/fastai/basic_train.py#L250\" class=\"source_link\">[source]</a></h4>\n",
       "\n",
       "> <code>get_preds</code>(<b>`ds_type`</b>:[`DatasetType`](/basic_data.html#DatasetType)=<b><i>`<DatasetType.Valid: 2>`</i></b>, <b>`with_loss`</b>:`bool`=<b><i>`False`</i></b>, <b>`n_batch`</b>:`Optional`\\[`int`\\]=<b><i>`None`</i></b>, <b>`pbar`</b>:`Union`\\[`MasterBar`, `ProgressBar`, `NoneType`\\]=<b><i>`None`</i></b>) → `List`\\[`Tensor`\\]\n",
       "\n",
       "Return predictions and targets on `ds_type` dataset.  "
      ],
      "text/plain": [
       "<IPython.core.display.Markdown object>"
      ]
     },
     "metadata": {},
     "output_type": "display_data"
    }
   ],
   "source": [
    "show_doc(Learner.get_preds)"
   ]
  },
  {
   "cell_type": "markdown",
   "metadata": {},
   "source": [
    "It will run inference using the learner on all the data in the `ds_type` dataset and return the predictions; if `n_batch` is not specified, it will run the predictions on the default batch size. If `with_loss`, it will also return the loss on each prediction."
   ]
  },
  {
   "cell_type": "markdown",
   "metadata": {},
   "source": [
    "Here is how you check the default batch size."
   ]
  },
  {
   "cell_type": "code",
   "execution_count": null,
   "metadata": {},
   "outputs": [
    {
     "data": {
      "text/plain": [
       "64"
      ]
     },
     "execution_count": null,
     "metadata": {},
     "output_type": "execute_result"
    }
   ],
   "source": [
    "learn.data.batch_size"
   ]
  },
  {
   "cell_type": "code",
   "execution_count": null,
   "metadata": {},
   "outputs": [
    {
     "data": {
      "text/plain": [
       "[tensor([[9.9540e-01, 4.5968e-03],\n",
       "         [9.9925e-01, 7.5202e-04],\n",
       "         [9.9996e-01, 4.2987e-05],\n",
       "         ...,\n",
       "         [1.4036e-04, 9.9986e-01],\n",
       "         [1.0404e-01, 8.9596e-01],\n",
       "         [5.6783e-01, 4.3217e-01]]), tensor([0, 0, 0,  ..., 1, 1, 1])]"
      ]
     },
     "execution_count": null,
     "metadata": {},
     "output_type": "execute_result"
    }
   ],
   "source": [
    "preds = learn.get_preds()\n",
    "preds"
   ]
  },
  {
   "cell_type": "markdown",
   "metadata": {},
   "source": [
    "The first element of the tuple is a tensor that contains all the predictions."
   ]
  },
  {
   "cell_type": "code",
   "execution_count": null,
   "metadata": {},
   "outputs": [
    {
     "data": {
      "text/plain": [
       "tensor([[9.9540e-01, 4.5968e-03],\n",
       "        [9.9925e-01, 7.5202e-04],\n",
       "        [9.9996e-01, 4.2987e-05],\n",
       "        ...,\n",
       "        [1.4036e-04, 9.9986e-01],\n",
       "        [1.0404e-01, 8.9596e-01],\n",
       "        [5.6783e-01, 4.3217e-01]])"
      ]
     },
     "execution_count": null,
     "metadata": {},
     "output_type": "execute_result"
    }
   ],
   "source": [
    "preds[0]"
   ]
  },
  {
   "cell_type": "markdown",
   "metadata": {},
   "source": [
    "While the second element of the tuple is a tensor that contains all the targets."
   ]
  },
  {
   "cell_type": "code",
   "execution_count": null,
   "metadata": {},
   "outputs": [
    {
     "data": {
      "text/plain": [
       "tensor([0, 0, 0,  ..., 1, 1, 1])"
      ]
     },
     "execution_count": null,
     "metadata": {},
     "output_type": "execute_result"
    }
   ],
   "source": [
    "preds[1]"
   ]
  },
  {
   "cell_type": "code",
   "execution_count": null,
   "metadata": {},
   "outputs": [
    {
     "data": {
      "text/plain": [
       "tensor(0)"
      ]
     },
     "execution_count": null,
     "metadata": {},
     "output_type": "execute_result"
    }
   ],
   "source": [
    "preds[1][0]"
   ]
  },
  {
   "cell_type": "markdown",
   "metadata": {},
   "source": [
    "To see what each category is, use:"
   ]
  },
  {
   "cell_type": "code",
   "execution_count": null,
   "metadata": {},
   "outputs": [
    {
     "data": {
      "text/plain": [
       "['3', '7']"
      ]
     },
     "execution_count": null,
     "metadata": {},
     "output_type": "execute_result"
    }
   ],
   "source": [
    "learn.data.classes"
   ]
  },
  {
   "cell_type": "markdown",
   "metadata": {},
   "source": [
    "So category 0 is 3 while category 1 is 7."
   ]
  },
  {
   "cell_type": "code",
   "execution_count": null,
   "metadata": {},
   "outputs": [
    {
     "data": {
      "text/plain": [
       "(Image (3, 28, 28), Category 3)"
      ]
     },
     "execution_count": null,
     "metadata": {},
     "output_type": "execute_result"
    }
   ],
   "source": [
    "learn.data.valid_ds[0]"
   ]
  },
  {
   "cell_type": "code",
   "execution_count": null,
   "metadata": {},
   "outputs": [
    {
     "data": {
      "image/jpeg": "[encoded data removed]",
      "image/png": "[encoded data removed]",
      "text/plain": [
       "Image (3, 28, 28)"
      ]
     },
     "execution_count": null,
     "metadata": {},
     "output_type": "execute_result"
    }
   ],
   "source": [
    "learn.data.valid_ds[0][0]"
   ]
  },
  {
   "cell_type": "markdown",
   "metadata": {},
   "source": [
    "Indeed it is."
   ]
  },
  {
   "cell_type": "markdown",
   "metadata": {},
   "source": [
    "Since `get_preds` gets predictions on all the data in the `ds_type` dataset, here the number of predictions will be equal to the number of data in the validation dataset."
   ]
  },
  {
   "cell_type": "code",
   "execution_count": null,
   "metadata": {},
   "outputs": [
    {
     "data": {
      "text/plain": [
       "2038"
      ]
     },
     "execution_count": null,
     "metadata": {},
     "output_type": "execute_result"
    }
   ],
   "source": [
    "len(learn.data.valid_ds)"
   ]
  },
  {
   "cell_type": "code",
   "execution_count": null,
   "metadata": {},
   "outputs": [
    {
     "data": {
      "text/plain": [
       "(2038, 2038)"
      ]
     },
     "execution_count": null,
     "metadata": {},
     "output_type": "execute_result"
    }
   ],
   "source": [
    "len(preds[0]), len(preds[1])"
   ]
  },
  {
   "cell_type": "markdown",
   "metadata": {},
   "source": [
    "Since the dataset we are working on is a categorization dataset, every prediction contains two numbers; the first one indicates the probability that the item belongs to the first category, and the second one indicates the probability that it belongs to the second."
   ]
  },
  {
   "cell_type": "code",
   "execution_count": null,
   "metadata": {},
   "outputs": [
    {
     "data": {
      "text/plain": [
       "tensor([[9.9540e-01, 4.5968e-03],\n",
       "        [9.9925e-01, 7.5202e-04],\n",
       "        [9.9996e-01, 4.2987e-05],\n",
       "        ...,\n",
       "        [1.4036e-04, 9.9986e-01],\n",
       "        [1.0404e-01, 8.9596e-01],\n",
       "        [5.6783e-01, 4.3217e-01]])"
      ]
     },
     "execution_count": null,
     "metadata": {},
     "output_type": "execute_result"
    }
   ],
   "source": [
    "preds[0]"
   ]
  },
  {
   "cell_type": "code",
   "execution_count": null,
   "metadata": {},
   "outputs": [
    {
     "data": {
      "text/plain": [
       "tensor([0.9954, 0.0046])"
      ]
     },
     "execution_count": null,
     "metadata": {},
     "output_type": "execute_result"
    }
   ],
   "source": [
    "preds[0][0]"
   ]
  },
  {
   "cell_type": "markdown",
   "metadata": {},
   "source": [
    "Here, the first number is the predicted probability that the item is a 3, while the second number 7."
   ]
  },
  {
   "cell_type": "code",
   "execution_count": null,
   "metadata": {},
   "outputs": [
    {
     "data": {
      "image/jpeg": "[encoded data removed]",
      "image/png": "[encoded data removed]",
      "text/plain": [
       "Image (3, 28, 28)"
      ]
     },
     "execution_count": null,
     "metadata": {},
     "output_type": "execute_result"
    }
   ],
   "source": [
    "learn.data.valid_ds[0][0]"
   ]
  },
  {
   "cell_type": "markdown",
   "metadata": {},
   "source": [
    "To get predictions on the entire training dataset, simply set the `ds_type` argument accordingly."
   ]
  },
  {
   "cell_type": "code",
   "execution_count": null,
   "metadata": {},
   "outputs": [
    {
     "data": {
      "text/plain": [
       "[tensor([[1.6543e-02, 9.8346e-01],\n",
       "         [9.9998e-01, 1.5066e-05],\n",
       "         [5.2995e-04, 9.9947e-01],\n",
       "         ...,\n",
       "         [9.9844e-01, 1.5631e-03],\n",
       "         [3.9617e-05, 9.9996e-01],\n",
       "         [4.1428e-05, 9.9996e-01]]), tensor([1, 0, 1,  ..., 0, 1, 1])]"
      ]
     },
     "execution_count": null,
     "metadata": {},
     "output_type": "execute_result"
    }
   ],
   "source": [
    "learn.get_preds(ds_type=DatasetType.Train)"
   ]
  },
  {
   "cell_type": "markdown",
   "metadata": {},
   "source": [
    "To also get prediction loss along with the predictions and the targets, set `with_loss=True` in the arguments."
   ]
  },
  {
   "cell_type": "code",
   "execution_count": null,
   "metadata": {},
   "outputs": [
    {
     "data": {
      "text/plain": [
       "[tensor([[9.9540e-01, 4.5968e-03],\n",
       "         [9.9925e-01, 7.5202e-04],\n",
       "         [9.9996e-01, 4.2987e-05],\n",
       "         ...,\n",
       "         [1.4036e-04, 9.9986e-01],\n",
       "         [1.0404e-01, 8.9596e-01],\n",
       "         [5.6783e-01, 4.3217e-01]]),\n",
       " tensor([0, 0, 0,  ..., 1, 1, 1]),\n",
       " tensor([4.6074e-03, 7.5221e-04, 4.2915e-05,  ..., 1.4043e-04, 1.0986e-01,\n",
       "         8.3894e-01])]"
      ]
     },
     "execution_count": null,
     "metadata": {},
     "output_type": "execute_result"
    }
   ],
   "source": [
    "learn.get_preds(with_loss=True)"
   ]
  },
  {
   "cell_type": "markdown",
   "metadata": {},
   "source": [
    "Note that the third tensor in the output tuple contains the losses."
   ]
  },
  {
   "cell_type": "code",
   "execution_count": null,
   "metadata": {
    "hide_input": true
   },
   "outputs": [
    {
     "data": {
      "text/markdown": [
       "<h4 id=\"Learner.validate\"><code>validate</code><a href=\"https://github.com/fastai/fastai/blob/master/fastai/basic_train.py#L294\" class=\"source_link\">[source]</a></h4>\n",
       "\n",
       "> <code>validate</code>(<b>`dl`</b>=<b><i>`None`</i></b>, <b>`callbacks`</b>=<b><i>`None`</i></b>, <b>`metrics`</b>=<b><i>`None`</i></b>)\n",
       "\n",
       "Validate on `dl` with potential `callbacks` and `metrics`.  "
      ],
      "text/plain": [
       "<IPython.core.display.Markdown object>"
      ]
     },
     "metadata": {},
     "output_type": "display_data"
    }
   ],
   "source": [
    "show_doc(Learner.validate)"
   ]
  },
  {
   "cell_type": "markdown",
   "metadata": {},
   "source": [
    "Return the calculated loss and the metrics of the current model on the given data loader `dl`. The default data loader `dl` is the validation dataloader."
   ]
  },
  {
   "cell_type": "markdown",
   "metadata": {},
   "source": [
    "You can check the default metrics of the learner using:"
   ]
  },
  {
   "cell_type": "code",
   "execution_count": null,
   "metadata": {},
   "outputs": [
    {
     "data": {
      "text/plain": [
       "'[<function accuracy at 0x7f061d2839d8>]'"
      ]
     },
     "execution_count": null,
     "metadata": {},
     "output_type": "execute_result"
    }
   ],
   "source": [
    "str(learn.metrics)"
   ]
  },
  {
   "cell_type": "code",
   "execution_count": null,
   "metadata": {},
   "outputs": [
    {
     "data": {
      "text/plain": [
       "[0.062688194, tensor(0.9789)]"
      ]
     },
     "execution_count": null,
     "metadata": {},
     "output_type": "execute_result"
    }
   ],
   "source": [
    "learn.validate()"
   ]
  },
  {
   "cell_type": "code",
   "execution_count": null,
   "metadata": {},
   "outputs": [
    {
     "data": {
      "text/plain": [
       "[0.062688194, tensor(0.9789)]"
      ]
     },
     "execution_count": null,
     "metadata": {},
     "output_type": "execute_result"
    }
   ],
   "source": [
    "learn.validate(learn.data.valid_dl)"
   ]
  },
  {
   "cell_type": "code",
   "execution_count": null,
   "metadata": {},
   "outputs": [
    {
     "data": {
      "text/plain": [
       "[0.044597004, tensor(0.9832)]"
      ]
     },
     "execution_count": null,
     "metadata": {},
     "output_type": "execute_result"
    }
   ],
   "source": [
    "learn.validate(learn.data.train_dl)"
   ]
  },
  {
   "cell_type": "code",
   "execution_count": null,
   "metadata": {
    "hide_input": true
   },
   "outputs": [
    {
     "data": {
      "text/markdown": [
       "<h4 id=\"Learner.show_results\"><code>show_results</code><a href=\"https://github.com/fastai/fastai/blob/master/fastai/basic_train.py#L304\" class=\"source_link\">[source]</a></h4>\n",
       "\n",
       "> <code>show_results</code>(<b>`ds_type`</b>=<b><i>`<DatasetType.Valid: 2>`</i></b>, <b>`rows`</b>:`int`=<b><i>`5`</i></b>, <b>`kwargs`</b>)\n",
       "\n",
       "Show `rows` result of predictions on `ds_type` dataset.  "
      ],
      "text/plain": [
       "<IPython.core.display.Markdown object>"
      ]
     },
     "metadata": {},
     "output_type": "display_data"
    }
   ],
   "source": [
    "show_doc(Learner.show_results)"
   ]
  },
  {
   "cell_type": "code",
   "execution_count": null,
   "metadata": {
    "hide_input": true
   },
   "outputs": [
    {
     "data": {
      "text/markdown": [
       "<h4 id=\"Learner.predict\"><code>predict</code><a href=\"https://github.com/fastai/fastai/blob/master/fastai/basic_train.py#L280\" class=\"source_link\">[source]</a></h4>\n",
       "\n",
       "> <code>predict</code>(<b>`item`</b>:[`ItemBase`](/core.html#ItemBase), <b>`kwargs`</b>)\n",
       "\n",
       "Return predicted class, label and probabilities for `item`.  "
      ],
      "text/plain": [
       "<IPython.core.display.Markdown object>"
      ]
     },
     "metadata": {},
     "output_type": "display_data"
    }
   ],
   "source": [
    "show_doc(Learner.predict)"
   ]
  },
  {
   "cell_type": "code",
   "execution_count": null,
   "metadata": {
    "hide_input": true
   },
   "outputs": [
    {
     "data": {
      "text/markdown": [
       "<h4 id=\"Learner.pred_batch\"><code>pred_batch</code><a href=\"https://github.com/fastai/fastai/blob/master/fastai/basic_train.py#L257\" class=\"source_link\">[source]</a></h4>\n",
       "\n",
       "> <code>pred_batch</code>(<b>`ds_type`</b>:[`DatasetType`](/basic_data.html#DatasetType)=<b><i>`<DatasetType.Valid: 2>`</i></b>, <b>`batch`</b>:`Tuple`=<b><i>`None`</i></b>, <b>`reconstruct`</b>:`bool`=<b><i>`False`</i></b>) → `List`\\[`Tensor`\\]\n",
       "\n",
       "Return output of the model on one batch from `ds_type` dataset.  "
      ],
      "text/plain": [
       "<IPython.core.display.Markdown object>"
      ]
     },
     "metadata": {},
     "output_type": "display_data"
    }
   ],
   "source": [
    "show_doc(Learner.pred_batch)"
   ]
  },
  {
   "cell_type": "code",
   "execution_count": null,
   "metadata": {
    "hide_input": true
   },
   "outputs": [
    {
     "data": {
      "text/markdown": [
       "<h4 id=\"interpret\"><code>interpret</code><a href=\"https://github.com/fastai/fastai/blob/master/fastai/vision/learner.py#L195\" class=\"source_link\">[source]</a></h4>\n",
       "\n",
       "> <code>interpret</code>(<b>`learn`</b>:[`Learner`](/basic_train.html#Learner), <b>`ds_type`</b>:[`DatasetType`](/basic_data.html#DatasetType)=<b><i>`<DatasetType.Valid: 2>`</i></b>, <b>`tta`</b>=<b><i>`False`</i></b>)\n",
       "\n",
       "Create a [`ClassificationInterpretation`](/vision.learner.html#ClassificationInterpretation) object from `learner` on `ds_type` with `tta`.  "
      ],
      "text/plain": [
       "<IPython.core.display.Markdown object>"
      ]
     },
     "metadata": {},
     "output_type": "display_data"
    }
   ],
   "source": [
    "show_doc(Learner.interpret, full_name='interpret')"
   ]
  },
  {
   "cell_type": "code",
   "execution_count": null,
   "metadata": {
    "hide_input": true
   },
   "outputs": [
    {
     "data": {
      "text/markdown": [
       "<div markdown=\"span\" class=\"alert alert-info\" role=\"alert\"><i class=\"fa fa-info-circle\"></i> <b>Note: </b>This function only works in the vision application.</div>"
      ],
      "text/plain": [
       "<IPython.core.display.Markdown object>"
      ]
     },
     "metadata": {},
     "output_type": "display_data"
    }
   ],
   "source": [
    "jekyll_note('This function only works in the vision application.')"
   ]
  },
  {
   "cell_type": "markdown",
   "metadata": {},
   "source": [
    "### Model summary"
   ]
  },
  {
   "cell_type": "code",
   "execution_count": null,
   "metadata": {
    "hide_input": true
   },
   "outputs": [
    {
     "data": {
      "text/markdown": [
       "<h4 id=\"model_summary\"><code>model_summary</code><a href=\"https://github.com/fastai/fastai/blob/master/fastai/callbacks/hooks.py#L161\" class=\"source_link\">[source]</a></h4>\n",
       "\n",
       "> <code>model_summary</code>(<b>`m`</b>:`ModuleList`, <b>`n`</b>:`int`=<b><i>`70`</i></b>)\n",
       "\n",
       "Print a summary of `m` using a output text width of `n` chars  "
      ],
      "text/plain": [
       "<IPython.core.display.Markdown object>"
      ]
     },
     "metadata": {},
     "output_type": "display_data"
    }
   ],
   "source": [
    "show_doc(Learner.summary)"
   ]
  },
  {
   "cell_type": "markdown",
   "metadata": {},
   "source": [
    "### Test time augmentation"
   ]
  },
  {
   "cell_type": "code",
   "execution_count": null,
   "metadata": {
    "hide_input": true
   },
   "outputs": [
    {
     "data": {
      "text/markdown": [
       "<h4 id=\"TTA\"><code>TTA</code><a href=\"https://github.com/fastai/fastai/blob/master/fastai/vision/tta.py#L32\" class=\"source_link\">[source]</a></h4>\n",
       "\n",
       "> <code>TTA</code>(<b>`learn`</b>:[`Learner`](/basic_train.html#Learner), <b>`beta`</b>:`float`=<b><i>`0.4`</i></b>, <b>`scale`</b>:`float`=<b><i>`1.35`</i></b>, <b>`ds_type`</b>:[`DatasetType`](/basic_data.html#DatasetType)=<b><i>`<DatasetType.Valid: 2>`</i></b>, <b>`with_loss`</b>:`bool`=<b><i>`False`</i></b>) → `Tensors`\n",
       "\n",
       "Applies TTA to predict on `ds_type` dataset.  "
      ],
      "text/plain": [
       "<IPython.core.display.Markdown object>"
      ]
     },
     "metadata": {},
     "output_type": "display_data"
    }
   ],
   "source": [
    "show_doc(Learner.TTA, full_name = 'TTA')"
   ]
  },
  {
   "cell_type": "markdown",
   "metadata": {},
   "source": [
    "Applies Test Time Augmentation to `learn` on the dataset `ds_type`. We take the average of our regular predictions (with a weight `beta`) with the average of predictions obtained through augmented versions of the training set (with a weight `1-beta`). The transforms decided for the training set are applied with a few changes `scale` controls the scale for zoom (which isn't random), the cropping isn't random but we make sure to get the four corners of the image. Flipping isn't random but applied once on each of those corner images (so that makes 8 augmented versions total)."
   ]
  },
  {
   "cell_type": "markdown",
   "metadata": {},
   "source": [
    "### Gradient clipping"
   ]
  },
  {
   "cell_type": "code",
   "execution_count": null,
   "metadata": {
    "hide_input": true
   },
   "outputs": [
    {
     "data": {
      "text/markdown": [
       "<h4 id=\"clip_grad\"><code>clip_grad</code><a href=\"https://github.com/fastai/fastai/blob/master/fastai/train.py#L91\" class=\"source_link\">[source]</a></h4>\n",
       "\n",
       "> <code>clip_grad</code>(<b>`learn`</b>:[`Learner`](/basic_train.html#Learner), <b>`clip`</b>:`float`=<b><i>`0.1`</i></b>) → [`Learner`](/basic_train.html#Learner)\n",
       "\n",
       "Add gradient clipping of `clip` during training.  "
      ],
      "text/plain": [
       "<IPython.core.display.Markdown object>"
      ]
     },
     "metadata": {},
     "output_type": "display_data"
    }
   ],
   "source": [
    "show_doc(Learner.clip_grad)"
   ]
  },
  {
   "cell_type": "markdown",
   "metadata": {},
   "source": [
    "### Mixed precision training"
   ]
  },
  {
   "cell_type": "code",
   "execution_count": null,
   "metadata": {
    "hide_input": true
   },
   "outputs": [
    {
     "data": {
      "text/markdown": [
       "<h4 id=\"to_fp16\"><code>to_fp16</code><a href=\"https://github.com/fastai/fastai/blob/master/fastai/train.py#L34\" class=\"source_link\">[source]</a></h4>\n",
       "\n",
       "> <code>to_fp16</code>(<b>`learn`</b>:[`Learner`](/basic_train.html#Learner), <b>`loss_scale`</b>:`float`=<b><i>`512.0`</i></b>, <b>`flat_master`</b>:`bool`=<b><i>`False`</i></b>) → [`Learner`](/basic_train.html#Learner)\n",
       "\n",
       "Put `learn` in FP16 precision mode.  "
      ],
      "text/plain": [
       "<IPython.core.display.Markdown object>"
      ]
     },
     "metadata": {},
     "output_type": "display_data"
    }
   ],
   "source": [
    "show_doc(Learner.to_fp16)"
   ]
  },
  {
   "cell_type": "markdown",
   "metadata": {},
   "source": [
    "Uses the [`MixedPrecision`](/callbacks.fp16.html#MixedPrecision) callback to train in mixed precision (i.e. forward and backward passes using fp16, with weight updates using fp32), using all [NVIDIA recommendations](https://docs.nvidia.com/deeplearning/sdk/mixed-precision-training/index.html) for ensuring speed and accuracy."
   ]
  },
  {
   "cell_type": "code",
   "execution_count": null,
   "metadata": {
    "hide_input": true
   },
   "outputs": [
    {
     "data": {
      "text/markdown": [
       "<h4 id=\"to_fp32\"><code>to_fp32</code><a href=\"https://github.com/fastai/fastai/blob/master/fastai/train.py#L41\" class=\"source_link\">[source]</a></h4>\n",
       "\n",
       "> <code>to_fp32</code>(<b>`learn`</b>:[`Learner`](/basic_train.html#Learner))\n",
       "\n",
       "Put `learn` back to FP32 precision mode.  "
      ],
      "text/plain": [
       "<IPython.core.display.Markdown object>"
      ]
     },
     "metadata": {},
     "output_type": "display_data"
    }
   ],
   "source": [
    "show_doc(Learner.to_fp32)"
   ]
  },
  {
   "cell_type": "markdown",
   "metadata": {},
   "source": [
    "### Distributed training"
   ]
  },
  {
   "cell_type": "code",
   "execution_count": null,
   "metadata": {
    "hide_input": true
   },
   "outputs": [
    {
     "data": {
      "text/markdown": [
       "<h4 id=\"distributed\"><code>distributed</code><a href=\"https://github.com/fastai/fastai/blob/master/fastai/distributed.py#L50\" class=\"source_link\">[source]</a></h4>\n",
       "\n",
       "> <code>distributed</code>(<b>`learn`</b>:[`Learner`](/basic_train.html#Learner), <b>`cuda_id`</b>:`int`, <b>`cache_dir`</b>:`PathOrStr`=<b><i>`'tmp'`</i></b>)\n",
       "\n",
       "Put `learn` on distributed training with `cuda_id`.  "
      ],
      "text/plain": [
       "<IPython.core.display.Markdown object>"
      ]
     },
     "metadata": {},
     "output_type": "display_data"
    }
   ],
   "source": [
    "show_doc(Learner.distributed, full_name='distributed')"
   ]
  },
  {
   "cell_type": "markdown",
   "metadata": {},
   "source": [
    "### Discriminative layer training"
   ]
  },
  {
   "cell_type": "markdown",
   "metadata": {},
   "source": [
    "When fitting a model you can pass a list of learning rates (and/or weight decay amounts), which will apply a different rate to each *layer group* (i.e. the parameters of each module in `self.layer_groups`). See the [Universal Language Model Fine-tuning for Text Classification](https://arxiv.org/abs/1801.06146) paper for details and experimental results in NLP (we also frequently use them successfully in computer vision, but have not published a paper on this topic yet). When working with a [`Learner`](/basic_train.html#Learner) on which you've called `split`, you can set hyperparameters in four ways:\n",
    "\n",
    "1. `param = [val1, val2 ..., valn]` (n = number of layer groups)\n",
    "2. `param = val`\n",
    "3. `param = slice(start,end)`\n",
    "4. `param = slice(end)`\n",
    "\n",
    "If we chose to set it in way 1, we must specify a number of values exactly equal to the number of layer groups. If we chose to set it in way 2, the chosen value will be repeated for all layer groups. See [`Learner.lr_range`](/basic_train.html#Learner.lr_range) for an explanation of the `slice` syntax).\n",
    "\n",
    "Here's an example of how to use discriminative learning rates (note that you don't actually need to manually call [`Learner.split`](/basic_train.html#Learner.split) in this case, since fastai uses this exact function as the default split for `resnet18`; this is just to show how to customize it):"
   ]
  },
  {
   "cell_type": "code",
   "execution_count": null,
   "metadata": {},
   "outputs": [],
   "source": [
    "# creates 3 layer groups\n",
    "learn.split(lambda m: (m[0][6], m[1]))\n",
    "# only randomly initialized head now trainable\n",
    "learn.freeze()"
   ]
  },
  {
   "cell_type": "code",
   "execution_count": null,
   "metadata": {},
   "outputs": [
    {
     "data": {
      "text/html": [
       "Total time: 00:04 <p><table style='width:300px; margin-bottom:10px'>\n",
       "  <tr>\n",
       "    <th>epoch</th>\n",
       "    <th>train_loss</th>\n",
       "    <th>valid_loss</th>\n",
       "    <th>accuracy</th>\n",
       "  </tr>\n",
       "  <tr>\n",
       "    <th>1</th>\n",
       "    <th>0.069001</th>\n",
       "    <th>0.045998</th>\n",
       "    <th>0.983317</th>\n",
       "  </tr>\n",
       "</table>\n"
      ],
      "text/plain": [
       "<IPython.core.display.HTML object>"
      ]
     },
     "metadata": {},
     "output_type": "display_data"
    }
   ],
   "source": [
    "learn.fit_one_cycle(1)"
   ]
  },
  {
   "cell_type": "code",
   "execution_count": null,
   "metadata": {},
   "outputs": [
    {
     "data": {
      "text/html": [
       "Total time: 00:06 <p><table style='width:300px; margin-bottom:10px'>\n",
       "  <tr>\n",
       "    <th>epoch</th>\n",
       "    <th>train_loss</th>\n",
       "    <th>valid_loss</th>\n",
       "    <th>accuracy</th>\n",
       "  </tr>\n",
       "  <tr>\n",
       "    <th>1</th>\n",
       "    <th>0.021191</th>\n",
       "    <th>0.008666</th>\n",
       "    <th>0.997056</th>\n",
       "  </tr>\n",
       "</table>\n"
      ],
      "text/plain": [
       "<IPython.core.display.HTML object>"
      ]
     },
     "metadata": {},
     "output_type": "display_data"
    }
   ],
   "source": [
    "# all layers now trainable\n",
    "learn.unfreeze()\n",
    "# optionally, separate LR and WD for each group\n",
    "learn.fit_one_cycle(1, max_lr=(1e-4, 1e-3, 1e-2), wd=(1e-4,1e-4,1e-1))"
   ]
  },
  {
   "cell_type": "code",
   "execution_count": null,
   "metadata": {
    "hide_input": true
   },
   "outputs": [
    {
     "data": {
      "text/markdown": [
       "<h4 id=\"Learner.lr_range\"><code>lr_range</code><a href=\"https://github.com/fastai/fastai/blob/master/fastai/basic_train.py#L162\" class=\"source_link\">[source]</a></h4>\n",
       "\n",
       "> <code>lr_range</code>(<b>`lr`</b>:`Union`\\[`float`, `slice`\\]) → `ndarray`\n",
       "\n",
       "Build differential learning rates from `lr`.  "
      ],
      "text/plain": [
       "<IPython.core.display.Markdown object>"
      ]
     },
     "metadata": {},
     "output_type": "display_data"
    }
   ],
   "source": [
    "show_doc(Learner.lr_range)"
   ]
  },
  {
   "cell_type": "markdown",
   "metadata": {},
   "source": [
    "Rather than manually setting an LR for every group, it's often easier to use [`Learner.lr_range`](/basic_train.html#Learner.lr_range). This is a convenience method that returns one learning rate for each layer group. If you pass `slice(start,end)` then the first group's learning rate is `start`, the last is `end`, and the remaining are evenly geometrically spaced.\n",
    "\n",
    "If you pass just `slice(end)` then the last group's learning rate is `end`, and all the other groups are `end/10`. For instance (for our learner that has 3 layer groups):"
   ]
  },
  {
   "cell_type": "code",
   "execution_count": null,
   "metadata": {},
   "outputs": [
    {
     "data": {
      "text/plain": [
       "(array([1.e-05, 1.e-04, 1.e-03]), array([0.0001, 0.0001, 0.001 ]))"
      ]
     },
     "execution_count": null,
     "metadata": {},
     "output_type": "execute_result"
    }
   ],
   "source": [
    "learn.lr_range(slice(1e-5,1e-3)), learn.lr_range(slice(1e-3))"
   ]
  },
  {
   "cell_type": "code",
   "execution_count": null,
   "metadata": {
    "hide_input": true
   },
   "outputs": [
    {
     "data": {
      "text/markdown": [
       "<h4 id=\"Learner.unfreeze\"><code>unfreeze</code><a href=\"https://github.com/fastai/fastai/blob/master/fastai/basic_train.py#L203\" class=\"source_link\">[source]</a></h4>\n",
       "\n",
       "> <code>unfreeze</code>()\n",
       "\n",
       "Unfreeze entire model.  "
      ],
      "text/plain": [
       "<IPython.core.display.Markdown object>"
      ]
     },
     "metadata": {},
     "output_type": "display_data"
    }
   ],
   "source": [
    "show_doc(Learner.unfreeze)"
   ]
  },
  {
   "cell_type": "markdown",
   "metadata": {},
   "source": [
    "Sets every layer group to *trainable* (i.e. `requires_grad=True`)."
   ]
  },
  {
   "cell_type": "code",
   "execution_count": null,
   "metadata": {
    "hide_input": true
   },
   "outputs": [
    {
     "data": {
      "text/markdown": [
       "<h4 id=\"Learner.freeze\"><code>freeze</code><a href=\"https://github.com/fastai/fastai/blob/master/fastai/basic_train.py#L197\" class=\"source_link\">[source]</a></h4>\n",
       "\n",
       "> <code>freeze</code>()\n",
       "\n",
       "Freeze up to last layer.  "
      ],
      "text/plain": [
       "<IPython.core.display.Markdown object>"
      ]
     },
     "metadata": {},
     "output_type": "display_data"
    }
   ],
   "source": [
    "show_doc(Learner.freeze)"
   ]
  },
  {
   "cell_type": "markdown",
   "metadata": {},
   "source": [
    "Sets every layer group except the last to *untrainable* (i.e. `requires_grad=False`)."
   ]
  },
  {
   "cell_type": "code",
   "execution_count": null,
   "metadata": {
    "hide_input": true
   },
   "outputs": [
    {
     "data": {
      "text/markdown": [
       "<h4 id=\"Learner.freeze_to\"><code>freeze_to</code><a href=\"https://github.com/fastai/fastai/blob/master/fastai/basic_train.py#L189\" class=\"source_link\">[source]</a></h4>\n",
       "\n",
       "> <code>freeze_to</code>(<b>`n`</b>:`int`)\n",
       "\n",
       "Freeze layers up to layer `n`.  "
      ],
      "text/plain": [
       "<IPython.core.display.Markdown object>"
      ]
     },
     "metadata": {},
     "output_type": "display_data"
    }
   ],
   "source": [
    "show_doc(Learner.freeze_to)"
   ]
  },
  {
   "cell_type": "code",
   "execution_count": null,
   "metadata": {
    "hide_input": true
   },
   "outputs": [
    {
     "data": {
      "text/markdown": [
       "<h4 id=\"Learner.split\"><code>split</code><a href=\"https://github.com/fastai/fastai/blob/master/fastai/basic_train.py#L184\" class=\"source_link\">[source]</a></h4>\n",
       "\n",
       "> <code>split</code>(<b>`split_on`</b>:`SplitFuncOrIdxList`)\n",
       "\n",
       "Split the model at `split_on`.  "
      ],
      "text/plain": [
       "<IPython.core.display.Markdown object>"
      ]
     },
     "metadata": {},
     "output_type": "display_data"
    }
   ],
   "source": [
    "show_doc(Learner.split)"
   ]
  },
  {
   "cell_type": "markdown",
   "metadata": {},
   "source": [
    "A convenience method that sets `layer_groups` based on the result of [`split_model`](/torch_core.html#split_model). If `split_on` is a function, it calls that function and passes the result to [`split_model`](/torch_core.html#split_model) (see above for example)."
   ]
  },
  {
   "cell_type": "markdown",
   "metadata": {},
   "source": [
    "### Saving and loading models"
   ]
  },
  {
   "cell_type": "markdown",
   "metadata": {},
   "source": [
    "Simply call [`Learner.save`](/basic_train.html#Learner.save) and [`Learner.load`](/basic_train.html#Learner.load) to save and load models. Only the parameters are saved, not the actual architecture (so you'll need to create your model in the same way before loading weights back in). Models are saved to the `path`/`model_dir` directory."
   ]
  },
  {
   "cell_type": "code",
   "execution_count": null,
   "metadata": {
    "hide_input": true
   },
   "outputs": [
    {
     "data": {
      "text/markdown": [
       "<h4 id=\"Learner.load\"><code>load</code><a href=\"https://github.com/fastai/fastai/blob/master/fastai/basic_train.py#L235\" class=\"source_link\">[source]</a></h4>\n",
       "\n",
       "> <code>load</code>(<b>`name`</b>:`PathOrStr`, <b>`device`</b>:[`device`](https://pytorch.org/docs/stable/tensor_attributes.html#torch-device)=<b><i>`None`</i></b>, <b>`strict`</b>:`bool`=<b><i>`True`</i></b>, <b>`with_opt`</b>:`bool`=<b><i>`None`</i></b>)\n",
       "\n",
       "Load model and optimizer state (if `with_opt`) `name` from `self.model_dir` using `device`.  "
      ],
      "text/plain": [
       "<IPython.core.display.Markdown object>"
      ]
     },
     "metadata": {},
     "output_type": "display_data"
    }
   ],
   "source": [
    "show_doc(Learner.load)"
   ]
  },
  {
   "cell_type": "code",
   "execution_count": null,
   "metadata": {
    "hide_input": true
   },
   "outputs": [
    {
     "data": {
      "text/markdown": [
       "<h4 id=\"Learner.save\"><code>save</code><a href=\"https://github.com/fastai/fastai/blob/master/fastai/basic_train.py#L223\" class=\"source_link\">[source]</a></h4>\n",
       "\n",
       "> <code>save</code>(<b>`name`</b>:`PathOrStr`, <b>`return_path`</b>:`bool`=<b><i>`False`</i></b>, <b>`with_opt`</b>:`bool`=<b><i>`True`</i></b>)\n",
       "\n",
       "Save model and optimizer state (if `with_opt`) with `name` to `self.model_dir`.  "
      ],
      "text/plain": [
       "<IPython.core.display.Markdown object>"
      ]
     },
     "metadata": {},
     "output_type": "display_data"
    }
   ],
   "source": [
    "show_doc(Learner.save)"
   ]
  },
  {
   "cell_type": "markdown",
   "metadata": {},
   "source": [
    "### Deploying your model"
   ]
  },
  {
   "cell_type": "markdown",
   "metadata": {},
   "source": [
    "When you are ready to put your model in production, export the minimal state of your [`Learner`](/basic_train.html#Learner) with"
   ]
  },
  {
   "cell_type": "code",
   "execution_count": null,
   "metadata": {
    "hide_input": true
   },
   "outputs": [
    {
     "data": {
      "text/markdown": [
       "<h4 id=\"Learner.export\"><code>export</code><a href=\"https://github.com/fastai/fastai/blob/master/fastai/basic_train.py#L208\" class=\"source_link\">[source]</a></h4>\n",
       "\n",
       "> <code>export</code>(<b>`fname`</b>:`str`=<b><i>`'export.pkl'`</i></b>)\n",
       "\n",
       "Export the state of the [`Learner`](/basic_train.html#Learner) in `self.path/fname`.  "
      ],
      "text/plain": [
       "<IPython.core.display.Markdown object>"
      ]
     },
     "metadata": {},
     "output_type": "display_data"
    }
   ],
   "source": [
    "show_doc(Learner.export)"
   ]
  },
  {
   "cell_type": "markdown",
   "metadata": {},
   "source": [
    "Then you can load it with the following function."
   ]
  },
  {
   "cell_type": "code",
   "execution_count": null,
   "metadata": {
    "hide_input": true
   },
   "outputs": [
    {
     "data": {
      "text/markdown": [
       "<h4 id=\"load_learner\"><code>load_learner</code><a href=\"https://github.com/fastai/fastai/blob/master/fastai/basic_train.py#L467\" class=\"source_link\">[source]</a></h4>\n",
       "\n",
       "> <code>load_learner</code>(<b>`path`</b>:`PathOrStr`, <b>`fname`</b>:`PathOrStr`=<b><i>`'export.pkl'`</i></b>, <b>`test`</b>:[`ItemList`](/data_block.html#ItemList)=<b><i>`None`</i></b>)\n",
       "\n",
       "Load a [`Learner`](/basic_train.html#Learner) object saved with `export_state` in `path/fn` with empty data, optionally add `test` and load on `cpu`.  "
      ],
      "text/plain": [
       "<IPython.core.display.Markdown object>"
      ]
     },
     "metadata": {},
     "output_type": "display_data"
    }
   ],
   "source": [
    "show_doc(load_learner)"
   ]
  },
  {
   "cell_type": "markdown",
   "metadata": {},
   "source": [
    "You can find more information and multiple examples in [this tutorial](/tutorial.inference.html)"
   ]
  },
  {
   "cell_type": "markdown",
   "metadata": {},
   "source": [
    "### Other methods"
   ]
  },
  {
   "cell_type": "code",
   "execution_count": null,
   "metadata": {
    "hide_input": true
   },
   "outputs": [
    {
     "data": {
      "text/markdown": [
       "<h4 id=\"Learner.init\"><code>init</code><a href=\"https://github.com/fastai/fastai/blob/master/fastai/basic_train.py#L160\" class=\"source_link\">[source]</a></h4>\n",
       "\n",
       "> <code>init</code>(<b>`init`</b>)"
      ],
      "text/plain": [
       "<IPython.core.display.Markdown object>"
      ]
     },
     "metadata": {},
     "output_type": "display_data"
    }
   ],
   "source": [
    "show_doc(Learner.init)"
   ]
  },
  {
   "cell_type": "markdown",
   "metadata": {},
   "source": [
    "Initializes all weights (except batchnorm) using function `init`, which will often be from PyTorch's [`nn.init`](https://pytorch.org/docs/stable/nn.html#torch-nn-init) module."
   ]
  },
  {
   "cell_type": "code",
   "execution_count": null,
   "metadata": {
    "hide_input": true
   },
   "outputs": [
    {
     "data": {
      "text/markdown": [
       "<h4 id=\"mixup\"><code>mixup</code><a href=\"https://github.com/fastai/fastai/blob/master/fastai/train.py#L50\" class=\"source_link\">[source]</a></h4>\n",
       "\n",
       "> <code>mixup</code>(<b>`learn`</b>:[`Learner`](/basic_train.html#Learner), <b>`alpha`</b>:`float`=<b><i>`0.4`</i></b>, <b>`stack_x`</b>:`bool`=<b><i>`False`</i></b>, <b>`stack_y`</b>:`bool`=<b><i>`True`</i></b>) → [`Learner`](/basic_train.html#Learner)\n",
       "\n",
       "Add mixup https://arxiv.org/abs/1710.09412 to `learn`.  "
      ],
      "text/plain": [
       "<IPython.core.display.Markdown object>"
      ]
     },
     "metadata": {},
     "output_type": "display_data"
    }
   ],
   "source": [
    "show_doc(Learner.mixup)"
   ]
  },
  {
   "cell_type": "markdown",
   "metadata": {},
   "source": [
    "Uses [`MixUpCallback`](/callbacks.mixup.html#MixUpCallback)."
   ]
  },
  {
   "cell_type": "code",
   "execution_count": null,
   "metadata": {
    "hide_input": true
   },
   "outputs": [
    {
     "data": {
      "text/markdown": [
       "<h4 id=\"Learner.backward\"><code>backward</code><a href=\"https://github.com/fastai/fastai/blob/master/fastai/basic_train.py#L273\" class=\"source_link\">[source]</a></h4>\n",
       "\n",
       "> <code>backward</code>(<b>`item`</b>)\n",
       "\n",
       "Pass `item` through the model and computes the gradient. Useful if `backward_hooks` are attached.  "
      ],
      "text/plain": [
       "<IPython.core.display.Markdown object>"
      ]
     },
     "metadata": {},
     "output_type": "display_data"
    }
   ],
   "source": [
    "show_doc(Learner.backward)"
   ]
  },
  {
   "cell_type": "code",
   "execution_count": null,
   "metadata": {
    "hide_input": true
   },
   "outputs": [
    {
     "data": {
      "text/markdown": [
       "<h4 id=\"Learner.create_opt\"><code>create_opt</code><a href=\"https://github.com/fastai/fastai/blob/master/fastai/basic_train.py#L180\" class=\"source_link\">[source]</a></h4>\n",
       "\n",
       "> <code>create_opt</code>(<b>`lr`</b>:`Floats`, <b>`wd`</b>:`Floats`=<b><i>`0.0`</i></b>)\n",
       "\n",
       "Create optimizer with `lr` learning rate and `wd` weight decay.  "
      ],
      "text/plain": [
       "<IPython.core.display.Markdown object>"
      ]
     },
     "metadata": {},
     "output_type": "display_data"
    }
   ],
   "source": [
    "show_doc(Learner.create_opt)"
   ]
  },
  {
   "cell_type": "markdown",
   "metadata": {},
   "source": [
    "You generally won't need to call this yourself - it's used to create the [`optim`](https://pytorch.org/docs/stable/optim.html#module-torch.optim) optimizer before fitting the model."
   ]
  },
  {
   "cell_type": "code",
   "execution_count": null,
   "metadata": {
    "hide_input": true
   },
   "outputs": [
    {
     "data": {
      "text/markdown": [
       "<h4 id=\"Learner.dl\"><code>dl</code><a href=\"https://github.com/fastai/fastai/blob/master/fastai/basic_train.py#L231\" class=\"source_link\">[source]</a></h4>\n",
       "\n",
       "> <code>dl</code>(<b>`ds_type`</b>:[`DatasetType`](/basic_data.html#DatasetType)=<b><i>`<DatasetType.Valid: 2>`</i></b>)\n",
       "\n",
       "Return DataLoader for DatasetType `ds_type`.  "
      ],
      "text/plain": [
       "<IPython.core.display.Markdown object>"
      ]
     },
     "metadata": {},
     "output_type": "display_data"
    }
   ],
   "source": [
    "show_doc(Learner.dl)"
   ]
  },
  {
   "cell_type": "code",
   "execution_count": null,
   "metadata": {
    "hide_input": true
   },
   "outputs": [
    {
     "data": {
      "text/markdown": [
       "<h2 id=\"Recorder\"><code>class</code> <code>Recorder</code><a href=\"https://github.com/fastai/fastai/blob/master/fastai/basic_train.py#L354\" class=\"source_link\">[source]</a></h2>\n",
       "\n",
       "> <code>Recorder</code>(<b>`learn`</b>:[`Learner`](/basic_train.html#Learner)) :: [`LearnerCallback`](/basic_train.html#LearnerCallback)\n",
       "\n",
       "A [`LearnerCallback`](/basic_train.html#LearnerCallback) that records epoch, loss, opt and metric data during training.  "
      ],
      "text/plain": [
       "<IPython.core.display.Markdown object>"
      ]
     },
     "metadata": {},
     "output_type": "display_data"
    }
   ],
   "source": [
    "show_doc(Recorder, title_level=2)"
   ]
  },
  {
   "cell_type": "markdown",
   "metadata": {},
   "source": [
    "A [`Learner`](/basic_train.html#Learner) creates a [`Recorder`](/basic_train.html#Recorder) object automatically - you do not need to explicitly pass it to `callback_fns` - because other callbacks rely on it being available. It stores the smoothed loss, hyperparameter values, and metrics for each batch, and provides plotting methods for each. Note that [`Learner`](/basic_train.html#Learner) automatically sets an attribute with the snake-cased name of each callback, so you can access this through `Learner.recorder`, as shown below."
   ]
  },
  {
   "cell_type": "markdown",
   "metadata": {
    "hide_input": true
   },
   "source": [
    "### Plotting methods"
   ]
  },
  {
   "cell_type": "code",
   "execution_count": null,
   "metadata": {
    "hide_input": true
   },
   "outputs": [
    {
     "data": {
      "text/markdown": [
       "<h4 id=\"Recorder.plot\"><code>plot</code><a href=\"https://github.com/fastai/fastai/blob/master/fastai/basic_train.py#L420\" class=\"source_link\">[source]</a></h4>\n",
       "\n",
       "> <code>plot</code>(<b>`skip_start`</b>:`int`=<b><i>`10`</i></b>, <b>`skip_end`</b>:`int`=<b><i>`5`</i></b>)\n",
       "\n",
       "Plot learning rate and losses, trimmed between `skip_start` and `skip_end`.  "
      ],
      "text/plain": [
       "<IPython.core.display.Markdown object>"
      ]
     },
     "metadata": {},
     "output_type": "display_data"
    }
   ],
   "source": [
    "show_doc(Recorder.plot)"
   ]
  },
  {
   "cell_type": "markdown",
   "metadata": {},
   "source": [
    "This is mainly used with the learning rate finder, since it shows a scatterplot of loss vs learning rate."
   ]
  },
  {
   "cell_type": "code",
   "execution_count": null,
   "metadata": {},
   "outputs": [
    {
     "name": "stdout",
     "output_type": "stream",
     "text": [
      "LR Finder is complete, type {learner_name}.recorder.plot() to see the graph.\n"
     ]
    },
    {
     "data": {
      "image/png": "[encoded data removed]",
      "text/plain": [
       "<Figure size 432x288 with 1 Axes>"
      ]
     },
     "metadata": {
      "needs_background": "light"
     },
     "output_type": "display_data"
    }
   ],
   "source": [
    "learn = create_cnn(data, models.resnet18, metrics=accuracy)\n",
    "learn.lr_find()\n",
    "learn.recorder.plot()"
   ]
  },
  {
   "cell_type": "code",
   "execution_count": null,
   "metadata": {
    "hide_input": true
   },
   "outputs": [
    {
     "data": {
      "text/markdown": [
       "<h4 id=\"Recorder.plot_losses\"><code>plot_losses</code><a href=\"https://github.com/fastai/fastai/blob/master/fastai/basic_train.py#L431\" class=\"source_link\">[source]</a></h4>\n",
       "\n",
       "> <code>plot_losses</code>(<b>`last`</b>:`int`=<b><i>`None`</i></b>)\n",
       "\n",
       "Plot training and validation losses.  "
      ],
      "text/plain": [
       "<IPython.core.display.Markdown object>"
      ]
     },
     "metadata": {},
     "output_type": "display_data"
    }
   ],
   "source": [
    "show_doc(Recorder.plot_losses)"
   ]
  },
  {
   "cell_type": "markdown",
   "metadata": {},
   "source": [
    "Note that validation losses are only calculated once per epoch, whereas training losses are calculated after every batch."
   ]
  },
  {
   "cell_type": "code",
   "execution_count": null,
   "metadata": {},
   "outputs": [
    {
     "data": {
      "text/html": [
       "Total time: 00:09 <p><table style='width:300px; margin-bottom:10px'>\n",
       "  <tr>\n",
       "    <th>epoch</th>\n",
       "    <th>train_loss</th>\n",
       "    <th>valid_loss</th>\n",
       "    <th>accuracy</th>\n",
       "  </tr>\n",
       "  <tr>\n",
       "    <th>1</th>\n",
       "    <th>0.193293</th>\n",
       "    <th>0.107442</th>\n",
       "    <th>0.968106</th>\n",
       "  </tr>\n",
       "  <tr>\n",
       "    <th>2</th>\n",
       "    <th>0.093543</th>\n",
       "    <th>0.076363</th>\n",
       "    <th>0.977429</th>\n",
       "  </tr>\n",
       "</table>\n"
      ],
      "text/plain": [
       "<IPython.core.display.HTML object>"
      ]
     },
     "metadata": {},
     "output_type": "display_data"
    },
    {
     "data": {
      "image/png": "[encoded data removed]",
      "text/plain": [
       "<Figure size 432x288 with 1 Axes>"
      ]
     },
     "metadata": {
      "needs_background": "light"
     },
     "output_type": "display_data"
    }
   ],
   "source": [
    "learn.fit_one_cycle(2)\n",
    "learn.recorder.plot_losses()"
   ]
  },
  {
   "cell_type": "code",
   "execution_count": null,
   "metadata": {
    "hide_input": true
   },
   "outputs": [
    {
     "data": {
      "text/markdown": [
       "<h4 id=\"Recorder.plot_lr\"><code>plot_lr</code><a href=\"https://github.com/fastai/fastai/blob/master/fastai/basic_train.py#L411\" class=\"source_link\">[source]</a></h4>\n",
       "\n",
       "> <code>plot_lr</code>(<b>`show_moms`</b>=<b><i>`False`</i></b>)\n",
       "\n",
       "Plot learning rate, `show_moms` to include momentum.  "
      ],
      "text/plain": [
       "<IPython.core.display.Markdown object>"
      ]
     },
     "metadata": {},
     "output_type": "display_data"
    }
   ],
   "source": [
    "show_doc(Recorder.plot_lr)"
   ]
  },
  {
   "cell_type": "code",
   "execution_count": null,
   "metadata": {},
   "outputs": [
    {
     "data": {
      "image/png": "[encoded data removed]",
      "text/plain": [
       "<Figure size 864x288 with 2 Axes>"
      ]
     },
     "metadata": {
      "needs_background": "light"
     },
     "output_type": "display_data"
    }
   ],
   "source": [
    "learn.recorder.plot_lr(show_moms=True)"
   ]
  },
  {
   "cell_type": "code",
   "execution_count": null,
   "metadata": {
    "hide_input": true
   },
   "outputs": [
    {
     "data": {
      "text/markdown": [
       "<h4 id=\"Recorder.plot_metrics\"><code>plot_metrics</code><a href=\"https://github.com/fastai/fastai/blob/master/fastai/basic_train.py#L446\" class=\"source_link\">[source]</a></h4>\n",
       "\n",
       "> <code>plot_metrics</code>()\n",
       "\n",
       "Plot metrics collected during training.  "
      ],
      "text/plain": [
       "<IPython.core.display.Markdown object>"
      ]
     },
     "metadata": {},
     "output_type": "display_data"
    }
   ],
   "source": [
    "show_doc(Recorder.plot_metrics)"
   ]
  },
  {
   "cell_type": "markdown",
   "metadata": {},
   "source": [
    "Note that metrics are only collected at the end of each epoch, so you'll need to train at least two epochs to have anything to show here."
   ]
  },
  {
   "cell_type": "code",
   "execution_count": null,
   "metadata": {},
   "outputs": [
    {
     "data": {
      "image/png": "[encoded data removed]",
      "text/plain": [
       "<Figure size 432x288 with 1 Axes>"
      ]
     },
     "metadata": {
      "needs_background": "light"
     },
     "output_type": "display_data"
    }
   ],
   "source": [
    "learn.recorder.plot_metrics()"
   ]
  },
  {
   "cell_type": "markdown",
   "metadata": {},
   "source": [
    "### Callback methods"
   ]
  },
  {
   "cell_type": "markdown",
   "metadata": {},
   "source": [
    "You don't call these yourself - they're called by fastai's [`Callback`](/callback.html#Callback) system automatically to enable the class's functionality."
   ]
  },
  {
   "cell_type": "code",
   "execution_count": null,
   "metadata": {
    "hide_input": true
   },
   "outputs": [
    {
     "data": {
      "text/markdown": [
       "<h4 id=\"Recorder.on_backward_begin\"><code>on_backward_begin</code><a href=\"https://github.com/fastai/fastai/blob/master/fastai/basic_train.py#L378\" class=\"source_link\">[source]</a></h4>\n",
       "\n",
       "> <code>on_backward_begin</code>(<b>`smooth_loss`</b>:`Tensor`, <b>`kwargs`</b>:`Any`)\n",
       "\n",
       "Record the loss before any other callback has a chance to modify it.  "
      ],
      "text/plain": [
       "<IPython.core.display.Markdown object>"
      ]
     },
     "metadata": {},
     "output_type": "display_data"
    }
   ],
   "source": [
    "show_doc(Recorder.on_backward_begin)"
   ]
  },
  {
   "cell_type": "code",
   "execution_count": null,
   "metadata": {
    "hide_input": true
   },
   "outputs": [
    {
     "data": {
      "text/markdown": [
       "<h4 id=\"Recorder.on_batch_begin\"><code>on_batch_begin</code><a href=\"https://github.com/fastai/fastai/blob/master/fastai/basic_train.py#L372\" class=\"source_link\">[source]</a></h4>\n",
       "\n",
       "> <code>on_batch_begin</code>(<b>`train`</b>, <b>`kwargs`</b>:`Any`)\n",
       "\n",
       "Record learning rate and momentum at beginning of batch.  "
      ],
      "text/plain": [
       "<IPython.core.display.Markdown object>"
      ]
     },
     "metadata": {},
     "output_type": "display_data"
    }
   ],
   "source": [
    "show_doc(Recorder.on_batch_begin)"
   ]
  },
  {
   "cell_type": "code",
   "execution_count": null,
   "metadata": {
    "hide_input": true
   },
   "outputs": [
    {
     "data": {
      "text/markdown": [
       "<h4 id=\"Recorder.on_epoch_end\"><code>on_epoch_end</code><a href=\"https://github.com/fastai/fastai/blob/master/fastai/basic_train.py#L384\" class=\"source_link\">[source]</a></h4>\n",
       "\n",
       "> <code>on_epoch_end</code>(<b>`epoch`</b>:`int`, <b>`num_batch`</b>:`int`, <b>`smooth_loss`</b>:`Tensor`, <b>`last_metrics`</b>=<b><i>`typing.Collection[typing.Union[torch.Tensor, numbers.Number]]`</i></b>, <b>`kwargs`</b>:`Any`) → `bool`\n",
       "\n",
       "Save epoch info: num_batch, smooth_loss, metrics.  "
      ],
      "text/plain": [
       "<IPython.core.display.Markdown object>"
      ]
     },
     "metadata": {},
     "output_type": "display_data"
    }
   ],
   "source": [
    "show_doc(Recorder.on_epoch_end)"
   ]
  },
  {
   "cell_type": "code",
   "execution_count": null,
   "metadata": {
    "hide_input": true
   },
   "outputs": [
    {
     "data": {
      "text/markdown": [
       "<h4 id=\"Recorder.on_train_begin\"><code>on_train_begin</code><a href=\"https://github.com/fastai/fastai/blob/master/fastai/basic_train.py#L363\" class=\"source_link\">[source]</a></h4>\n",
       "\n",
       "> <code>on_train_begin</code>(<b>`pbar`</b>:`PBar`, <b>`metrics_names`</b>:`StrList`, <b>`kwargs`</b>:`Any`)\n",
       "\n",
       "Initialize recording status at beginning of training.  "
      ],
      "text/plain": [
       "<IPython.core.display.Markdown object>"
      ]
     },
     "metadata": {},
     "output_type": "display_data"
    }
   ],
   "source": [
    "show_doc(Recorder.on_train_begin)"
   ]
  },
  {
   "cell_type": "markdown",
   "metadata": {},
   "source": [
    "### Inner functions"
   ]
  },
  {
   "cell_type": "markdown",
   "metadata": {},
   "source": [
    "The following functions are used along the way by the [`Recorder`](/basic_train.html#Recorder) or can be called by other callbacks."
   ]
  },
  {
   "cell_type": "code",
   "execution_count": null,
   "metadata": {
    "hide_input": true
   },
   "outputs": [
    {
     "data": {
      "text/markdown": [
       "<h4 id=\"Recorder.add_metrics\"><code>add_metrics</code><a href=\"https://github.com/fastai/fastai/blob/master/fastai/basic_train.py#L403\" class=\"source_link\">[source]</a></h4>\n",
       "\n",
       "> <code>add_metrics</code>(<b>`metrics`</b>)\n",
       "\n",
       "Add `metrics` to the inner stats.  "
      ],
      "text/plain": [
       "<IPython.core.display.Markdown object>"
      ]
     },
     "metadata": {},
     "output_type": "display_data"
    }
   ],
   "source": [
    "show_doc(Recorder.add_metrics)"
   ]
  },
  {
   "cell_type": "code",
   "execution_count": null,
   "metadata": {
    "hide_input": true
   },
   "outputs": [
    {
     "data": {
      "text/markdown": [
       "<h4 id=\"Recorder.add_metric_names\"><code>add_metric_names</code><a href=\"https://github.com/fastai/fastai/blob/master/fastai/basic_train.py#L407\" class=\"source_link\">[source]</a></h4>\n",
       "\n",
       "> <code>add_metric_names</code>(<b>`names`</b>)\n",
       "\n",
       "Add `names` to the inner metric names.  "
      ],
      "text/plain": [
       "<IPython.core.display.Markdown object>"
      ]
     },
     "metadata": {},
     "output_type": "display_data"
    }
   ],
   "source": [
    "show_doc(Recorder.add_metric_names)"
   ]
  },
  {
   "cell_type": "code",
   "execution_count": null,
   "metadata": {
    "hide_input": true
   },
   "outputs": [
    {
     "data": {
      "text/markdown": [
       "<h4 id=\"Recorder.format_stats\"><code>format_stats</code><a href=\"https://github.com/fastai/fastai/blob/master/fastai/basic_train.py#L396\" class=\"source_link\">[source]</a></h4>\n",
       "\n",
       "> <code>format_stats</code>(<b>`stats`</b>:`MetricsList`)\n",
       "\n",
       "Format stats before printing.  "
      ],
      "text/plain": [
       "<IPython.core.display.Markdown object>"
      ]
     },
     "metadata": {},
     "output_type": "display_data"
    }
   ],
   "source": [
    "show_doc(Recorder.format_stats)"
   ]
  },
  {
   "cell_type": "markdown",
   "metadata": {},
   "source": [
    "## Module functions"
   ]
  },
  {
   "cell_type": "markdown",
   "metadata": {},
   "source": [
    "Generally you'll want to use a [`Learner`](/basic_train.html#Learner) to train your model, since they provide a lot of functionality and make things easier. However, for ultimate flexibility, you can call the same underlying functions that [`Learner`](/basic_train.html#Learner) calls behind the scenes:"
   ]
  },
  {
   "cell_type": "code",
   "execution_count": null,
   "metadata": {
    "hide_input": true
   },
   "outputs": [
    {
     "data": {
      "text/markdown": [
       "<h4 id=\"fit\"><code>fit</code><a href=\"https://github.com/fastai/fastai/blob/master/fastai/basic_train.py#L72\" class=\"source_link\">[source]</a></h4>\n",
       "\n",
       "> <code>fit</code>(<b>`epochs`</b>:`int`, <b>`model`</b>:[`Module`](https://pytorch.org/docs/stable/nn.html#torch.nn.Module), <b>`loss_func`</b>:`LossFunction`, <b>`opt`</b>:[`Optimizer`](https://pytorch.org/docs/stable/optim.html#torch.optim.Optimizer), <b>`data`</b>:[`DataBunch`](/basic_data.html#DataBunch), <b>`callbacks`</b>:`Optional`\\[`Collection`\\[[`Callback`](/callback.html#Callback)\\]\\]=<b><i>`None`</i></b>, <b>`metrics`</b>:`OptMetrics`=<b><i>`None`</i></b>)\n",
       "\n",
       "Fit the `model` on `data` and learn using `loss_func` and `opt`.  "
      ],
      "text/plain": [
       "<IPython.core.display.Markdown object>"
      ]
     },
     "metadata": {},
     "output_type": "display_data"
    }
   ],
   "source": [
    "show_doc(fit)"
   ]
  },
  {
   "cell_type": "markdown",
   "metadata": {},
   "source": [
    "Note that you have to create the `Optimizer` yourself if you call this function, whereas [`Learn.fit`](/basic_train.html#fit) creates it for you automatically."
   ]
  },
  {
   "cell_type": "code",
   "execution_count": null,
   "metadata": {
    "hide_input": true
   },
   "outputs": [
    {
     "data": {
      "text/markdown": [
       "<h4 id=\"train_epoch\"><code>train_epoch</code><a href=\"https://github.com/fastai/fastai/blob/master/fastai/basic_train.py#L63\" class=\"source_link\">[source]</a></h4>\n",
       "\n",
       "> <code>train_epoch</code>(<b>`model`</b>:[`Module`](https://pytorch.org/docs/stable/nn.html#torch.nn.Module), <b>`dl`</b>:[`DataLoader`](https://pytorch.org/docs/stable/data.html#torch.utils.data.DataLoader), <b>`opt`</b>:[`Optimizer`](https://pytorch.org/docs/stable/optim.html#torch.optim.Optimizer), <b>`loss_func`</b>:`LossFunction`)\n",
       "\n",
       "Simple training of `model` for 1 epoch of `dl` using optim `opt` and loss function `loss_func`.  "
      ],
      "text/plain": [
       "<IPython.core.display.Markdown object>"
      ]
     },
     "metadata": {},
     "output_type": "display_data"
    }
   ],
   "source": [
    "show_doc(train_epoch)"
   ]
  },
  {
   "cell_type": "markdown",
   "metadata": {},
   "source": [
    "You won't generally need to call this yourself - it's what [`fit`](/basic_train.html#fit) calls for each epoch."
   ]
  },
  {
   "cell_type": "code",
   "execution_count": null,
   "metadata": {
    "hide_input": true
   },
   "outputs": [
    {
     "data": {
      "text/markdown": [
       "<h4 id=\"validate\"><code>validate</code><a href=\"https://github.com/fastai/fastai/blob/master/fastai/basic_train.py#L45\" class=\"source_link\">[source]</a></h4>\n",
       "\n",
       "> <code>validate</code>(<b>`model`</b>:[`Module`](https://pytorch.org/docs/stable/nn.html#torch.nn.Module), <b>`dl`</b>:[`DataLoader`](https://pytorch.org/docs/stable/data.html#torch.utils.data.DataLoader), <b>`loss_func`</b>:`OptLossFunc`=<b><i>`None`</i></b>, <b>`cb_handler`</b>:`Optional`\\[[`CallbackHandler`](/callback.html#CallbackHandler)\\]=<b><i>`None`</i></b>, <b>`pbar`</b>:`Union`\\[`MasterBar`, `ProgressBar`, `NoneType`\\]=<b><i>`None`</i></b>, <b>`average`</b>=<b><i>`True`</i></b>, <b>`n_batch`</b>:`Optional`\\[`int`\\]=<b><i>`None`</i></b>) → `Iterator`\\[`Tuple`\\[`IntOrTensor`, `Ellipsis`\\]\\]\n",
       "\n",
       "Calculate `loss_func` of `model` on `dl` in evaluation mode.  "
      ],
      "text/plain": [
       "<IPython.core.display.Markdown object>"
      ]
     },
     "metadata": {},
     "output_type": "display_data"
    }
   ],
   "source": [
    "show_doc(validate)"
   ]
  },
  {
   "cell_type": "markdown",
   "metadata": {},
   "source": [
    "This is what [`fit`](/basic_train.html#fit) calls after each epoch. You can call it if you want to run inference on a [`DataLoader`](https://pytorch.org/docs/stable/data.html#torch.utils.data.DataLoader) manually."
   ]
  },
  {
   "cell_type": "code",
   "execution_count": null,
   "metadata": {
    "hide_input": true
   },
   "outputs": [
    {
     "data": {
      "text/markdown": [
       "<h4 id=\"get_preds\"><code>get_preds</code><a href=\"https://github.com/fastai/fastai/blob/master/fastai/basic_train.py#L36\" class=\"source_link\">[source]</a></h4>\n",
       "\n",
       "> <code>get_preds</code>(<b>`model`</b>:[`Module`](https://pytorch.org/docs/stable/nn.html#torch.nn.Module), <b>`dl`</b>:[`DataLoader`](https://pytorch.org/docs/stable/data.html#torch.utils.data.DataLoader), <b>`pbar`</b>:`Union`\\[`MasterBar`, `ProgressBar`, `NoneType`\\]=<b><i>`None`</i></b>, <b>`cb_handler`</b>:`Optional`\\[[`CallbackHandler`](/callback.html#CallbackHandler)\\]=<b><i>`None`</i></b>, <b>`activ`</b>:[`Module`](https://pytorch.org/docs/stable/nn.html#torch.nn.Module)=<b><i>`None`</i></b>, <b>`loss_func`</b>:`OptLossFunc`=<b><i>`None`</i></b>, <b>`n_batch`</b>:`Optional`\\[`int`\\]=<b><i>`None`</i></b>) → `List`\\[`Tensor`\\]\n",
       "\n",
       "Tuple of predictions and targets, and optional losses (if `loss_func`) using `dl`, max batches `n_batch`.  "
      ],
      "text/plain": [
       "<IPython.core.display.Markdown object>"
      ]
     },
     "metadata": {},
     "output_type": "display_data"
    }
   ],
   "source": [
    "show_doc(get_preds)"
   ]
  },
  {
   "cell_type": "code",
   "execution_count": null,
   "metadata": {
    "hide_input": true
   },
   "outputs": [
    {
     "data": {
      "text/markdown": [
       "<h4 id=\"loss_batch\"><code>loss_batch</code><a href=\"https://github.com/fastai/fastai/blob/master/fastai/basic_train.py#L14\" class=\"source_link\">[source]</a></h4>\n",
       "\n",
       "> <code>loss_batch</code>(<b>`model`</b>:[`Module`](https://pytorch.org/docs/stable/nn.html#torch.nn.Module), <b>`xb`</b>:`Tensor`, <b>`yb`</b>:`Tensor`, <b>`loss_func`</b>:`OptLossFunc`=<b><i>`None`</i></b>, <b>`opt`</b>:`OptOptimizer`=<b><i>`None`</i></b>, <b>`cb_handler`</b>:`Optional`\\[[`CallbackHandler`](/callback.html#CallbackHandler)\\]=<b><i>`None`</i></b>) → `Tuple`\\[`Union`\\[`Tensor`, `int`, `float`, `str`\\]\\]\n",
       "\n",
       "Calculate loss and metrics for a batch, call out to callbacks as necessary.  "
      ],
      "text/plain": [
       "<IPython.core.display.Markdown object>"
      ]
     },
     "metadata": {},
     "output_type": "display_data"
    }
   ],
   "source": [
    "show_doc(loss_batch)"
   ]
  },
  {
   "cell_type": "markdown",
   "metadata": {},
   "source": [
    "You won't generally need to call this yourself - it's what [`fit`](/basic_train.html#fit) and [`validate`](/basic_train.html#validate) call for each batch. It only does a backward pass if you set `opt`."
   ]
  },
  {
   "cell_type": "markdown",
   "metadata": {},
   "source": [
    "## Other classes"
   ]
  },
  {
   "cell_type": "code",
   "execution_count": null,
   "metadata": {
    "hide_input": true
   },
   "outputs": [
    {
     "data": {
      "text/markdown": [
       "<h3 id=\"LearnerCallback\"><code>class</code> <code>LearnerCallback</code><a href=\"https://github.com/fastai/fastai/blob/master/fastai/basic_train.py#L337\" class=\"source_link\">[source]</a></h3>\n",
       "\n",
       "> <code>LearnerCallback</code>(<b>`learn`</b>) :: [`Callback`](/callback.html#Callback)\n",
       "\n",
       "Base class for creating callbacks for a [`Learner`](/basic_train.html#Learner).  "
      ],
      "text/plain": [
       "<IPython.core.display.Markdown object>"
      ]
     },
     "metadata": {},
     "output_type": "display_data"
    }
   ],
   "source": [
    "show_doc(LearnerCallback, title_level=3)"
   ]
  },
  {
   "cell_type": "code",
   "execution_count": null,
   "metadata": {
    "hide_input": true
   },
   "outputs": [
    {
     "data": {
      "text/markdown": [
       "<h3 id=\"RecordOnCPU\"><code>class</code> <code>RecordOnCPU</code><a href=\"https://github.com/fastai/fastai/blob/master/fastai/basic_train.py#L332\" class=\"source_link\">[source]</a></h3>\n",
       "\n",
       "> <code>RecordOnCPU</code>() :: [`Callback`](/callback.html#Callback)\n",
       "\n",
       "Store the `input` and `target` going through the model on the CPU.  "
      ],
      "text/plain": [
       "<IPython.core.display.Markdown object>"
      ]
     },
     "metadata": {},
     "output_type": "display_data"
    }
   ],
   "source": [
    "show_doc(RecordOnCPU, title_level=3)"
   ]
  },
  {
   "cell_type": "markdown",
   "metadata": {},
   "source": [
    "## Undocumented Methods - Methods moved below this line will intentionally be hidden"
   ]
  },
  {
   "cell_type": "code",
   "execution_count": null,
   "metadata": {
    "hide_input": true
   },
   "outputs": [
    {
     "data": {
      "text/markdown": [
       "<h4 id=\"_tta_only\"><code>_tta_only</code><a href=\"https://github.com/fastai/fastai/blob/master/fastai/vision/tta.py#L10\" class=\"source_link\">[source]</a></h4>\n",
       "\n",
       "> <code>_tta_only</code>(<b>`learn`</b>:[`Learner`](/basic_train.html#Learner), <b>`ds_type`</b>:[`DatasetType`](/basic_data.html#DatasetType)=<b><i>`<DatasetType.Valid: 2>`</i></b>, <b>`scale`</b>:`float`=<b><i>`1.35`</i></b>) → `Iterator`\\[`List`\\[`Tensor`\\]\\]\n",
       "\n",
       "Computes the outputs for several augmented inputs for TTA  "
      ],
      "text/plain": [
       "<IPython.core.display.Markdown object>"
      ]
     },
     "metadata": {},
     "output_type": "display_data"
    }
   ],
   "source": [
    "show_doc(Learner.tta_only)"
   ]
  },
  {
   "cell_type": "code",
   "execution_count": null,
   "metadata": {
    "hide_input": true
   },
   "outputs": [
    {
     "data": {
      "text/markdown": [
       "<h4 id=\"_TTA\"><code>_TTA</code><a href=\"https://github.com/fastai/fastai/blob/master/fastai/vision/tta.py#L32\" class=\"source_link\">[source]</a></h4>\n",
       "\n",
       "> <code>_TTA</code>(<b>`learn`</b>:[`Learner`](/basic_train.html#Learner), <b>`beta`</b>:`float`=<b><i>`0.4`</i></b>, <b>`scale`</b>:`float`=<b><i>`1.35`</i></b>, <b>`ds_type`</b>:[`DatasetType`](/basic_data.html#DatasetType)=<b><i>`<DatasetType.Valid: 2>`</i></b>, <b>`with_loss`</b>:`bool`=<b><i>`False`</i></b>) → `Tensors`\n",
       "\n",
       "Applies TTA to predict on `ds_type` dataset.  "
      ],
      "text/plain": [
       "<IPython.core.display.Markdown object>"
      ]
     },
     "metadata": {},
     "output_type": "display_data"
    }
   ],
   "source": [
    "show_doc(Learner.TTA)"
   ]
  },
  {
   "cell_type": "code",
   "execution_count": null,
   "metadata": {},
   "outputs": [
    {
     "data": {
      "text/markdown": [
       "<h4 id=\"RecordOnCPU.on_batch_begin\"><code>on_batch_begin</code><a href=\"https://github.com/fastai/fastai/blob/master/fastai/basic_train.py#L334\" class=\"source_link\">[source]</a></h4>\n",
       "\n",
       "> <code>on_batch_begin</code>(<b>`last_input`</b>, <b>`last_target`</b>, <b>`kwargs`</b>)\n",
       "\n",
       "Set HP before the step is done. Returns xb, yb (which can allow us to modify the input at that step if needed).  "
      ],
      "text/plain": [
       "<IPython.core.display.Markdown object>"
      ]
     },
     "metadata": {},
     "output_type": "display_data"
    }
   ],
   "source": [
    "show_doc(RecordOnCPU.on_batch_begin)"
   ]
  },
  {
   "cell_type": "markdown",
   "metadata": {},
   "source": [
    "## New Methods - Please document or move to the undocumented section"
   ]
  }
 ],
 "metadata": {
  "jekyll": {
   "keywords": "fastai",
   "summary": "Learner class and training loop",
   "title": "basic_train"
  },
  "kernelspec": {
   "display_name": "Python 3",
   "language": "python",
   "name": "python3"
  }
 },
 "nbformat": 4,
 "nbformat_minor": 2
}

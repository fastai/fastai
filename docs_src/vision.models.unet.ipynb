{
 "cells": [
  {
   "cell_type": "markdown",
   "metadata": {},
   "source": [
    "## Dynamic U-Net"
   ]
  },
  {
   "cell_type": "markdown",
   "metadata": {},
   "source": [
    "This module builds a dynamic [U-Net](https://arxiv.org/abs/1505.04597) from any backbone pretrained on ImageNet, automatically inferring the intermediate sizes."
   ]
  },
  {
   "cell_type": "code",
   "execution_count": null,
   "metadata": {
    "hide_input": true
   },
   "outputs": [],
   "source": [
    "from fastai.gen_doc.nbdoc import *\n",
    "from fastai.vision.models.unet import * "
   ]
  },
  {
   "cell_type": "markdown",
   "metadata": {},
   "source": [
    "![U-Net architecture](imgs/u-net-architecture.png)\n",
    "\n",
    "This is the original U-Net. The difference here is that the left part is a pretrained model."
   ]
  },
  {
   "cell_type": "code",
   "execution_count": null,
   "metadata": {
    "hide_input": true
   },
   "outputs": [
    {
     "data": {
      "text/markdown": [
       "<h2 id=\"DynamicUnet\" class=\"doc_header\"><code>class</code> <code>DynamicUnet</code><a href=\"https://github.com/fastai/fastai/blob/master/fastai/vision/models/unet.py#L37\" class=\"source_link\" style=\"float:right\">[source]</a><a class=\"source_link\" data-toggle=\"collapse\" data-target=\"#DynamicUnet-pytest\" style=\"float:right; padding-right:10px\">[test]</a></h2>\n",
       "\n",
       "> <code>DynamicUnet</code>(**`encoder`**:[`Module`](https://pytorch.org/docs/stable/nn.html#torch.nn.Module), **`n_classes`**:`int`, **`img_size`**:`Tuple`\\[`int`, `int`\\]=***`(256, 256)`***, **`blur`**:`bool`=***`False`***, **`blur_final`**=***`True`***, **`self_attention`**:`bool`=***`False`***, **`y_range`**:`OptRange`=***`None`***, **`last_cross`**:`bool`=***`True`***, **`bottle`**:`bool`=***`False`***, **\\*\\*`kwargs`**) :: [`PrePostInitMeta`](/core.html#PrePostInitMeta) :: [`SequentialEx`](/layers.html#SequentialEx)\n",
       "\n",
       "<div class=\"collapse\" id=\"DynamicUnet-pytest\"><div class=\"card card-body pytest_card\"><a type=\"button\" data-toggle=\"collapse\" data-target=\"#DynamicUnet-pytest\" class=\"close\" aria-label=\"Close\"><span aria-hidden=\"true\">&times;</span></a><p>Tests found for <code>DynamicUnet</code>:</p><ul><li><code>pytest -sv tests/test_vision_models_unet.py::test_dynamic_unet_shape</code> <a href=\"https://github.com/fastai/fastai/blob/master/tests/test_vision_models_unet.py#L39\" class=\"source_link\" style=\"float:right\">[source]</a></li><li><code>pytest -sv tests/test_vision_models_unet.py::test_unet_block_shapes</code> <a href=\"https://github.com/fastai/fastai/blob/master/tests/test_vision_models_unet.py#L45\" class=\"source_link\" style=\"float:right\">[source]</a></li></ul><p>To run tests please refer to this <a href=\"/dev/test.html#quick-guide\">guide</a>.</p></div></div>\n",
       "\n",
       "Create a U-Net from a given architecture.  "
      ],
      "text/plain": [
       "<IPython.core.display.Markdown object>"
      ]
     },
     "metadata": {},
     "output_type": "display_data"
    }
   ],
   "source": [
    "show_doc(DynamicUnet)"
   ]
  },
  {
   "cell_type": "markdown",
   "metadata": {},
   "source": [
    "This U-Net will sit on top of an `encoder` (that can be a pretrained model) and with a final output of `n_classes`. During the initialization, it uses [`Hooks`](/callbacks.hooks.html#Hooks) to determine the intermediate features sizes by passing a dummy input through the model and create the upward path automatically.\n",
    "\n",
    "`blur` is used to avoid checkerboard artifacts at each layer, `blur_final` is specific to the last layer. `self_attention` determines if we use a self attention layer at the third block before the end. If `y_range` is passed, the last activations go through a sigmoid rescaled to that range. `last_cross` determines if we use a cross-connection with the direct input of the model, and in this case `bottle` flags if we use a bottleneck or not for that skip connection."
   ]
  },
  {
   "cell_type": "code",
   "execution_count": null,
   "metadata": {
    "hide_input": true
   },
   "outputs": [
    {
     "data": {
      "text/markdown": [
       "<h2 id=\"UnetBlock\" class=\"doc_header\"><code>class</code> <code>UnetBlock</code><a href=\"https://github.com/fastai/fastai/blob/master/fastai/vision/models/unet.py#L14\" class=\"source_link\" style=\"float:right\">[source]</a><a class=\"source_link\" data-toggle=\"collapse\" data-target=\"#UnetBlock-pytest\" style=\"float:right; padding-right:10px\">[test]</a></h2>\n",
       "\n",
       "> <code>UnetBlock</code>(**`up_in_c`**:`int`, **`x_in_c`**:`int`, **`hook`**:[`Hook`](/callbacks.hooks.html#Hook), **`final_div`**:`bool`=***`True`***, **`blur`**:`bool`=***`False`***, **`leaky`**:`float`=***`None`***, **`self_attention`**:`bool`=***`False`***, **\\*\\*`kwargs`**) :: [`PrePostInitMeta`](/core.html#PrePostInitMeta) :: [`Module`](/torch_core.html#Module)\n",
       "\n",
       "<div class=\"collapse\" id=\"UnetBlock-pytest\"><div class=\"card card-body pytest_card\"><a type=\"button\" data-toggle=\"collapse\" data-target=\"#UnetBlock-pytest\" class=\"close\" aria-label=\"Close\"><span aria-hidden=\"true\">&times;</span></a><p>No tests found for <code>UnetBlock</code>. To contribute a test please refer to <a href=\"/dev/test.html\">this guide</a> and <a href=\"https://forums.fast.ai/t/improving-expanding-functional-tests/32929\">this discussion</a>.</p></div></div>\n",
       "\n",
       "A quasi-UNet block, using `PixelShuffle_ICNR upsampling`.  "
      ],
      "text/plain": [
       "<IPython.core.display.Markdown object>"
      ]
     },
     "metadata": {},
     "output_type": "display_data"
    }
   ],
   "source": [
    "show_doc(UnetBlock)"
   ]
  },
  {
   "cell_type": "markdown",
   "metadata": {},
   "source": [
    "This block receives the output of the last block to be upsampled (size `up_in_c`) and the activations features from an intermediate layer of the `encoder` (size `x_in_c`, this is the lateral connection). The `hook` is set to this intermediate layer to store the output needed for this block. `final_div` determines if we divide the number of features by 2 with the upsampling, `blur` is to avoid checkerboard artifacts. If `leaky` is set, use a leaky ReLU with a slope equals to that parameter instead of a ReLU, and `self_attention` determines if we use a self-attention layer. `kwargs` are passed to [`conv_layer`](/layers.html#conv_layer)."
   ]
  },
  {
   "cell_type": "markdown",
   "metadata": {},
   "source": [
    "## Undocumented Methods - Methods moved below this line will intentionally be hidden"
   ]
  },
  {
   "cell_type": "code",
   "execution_count": null,
   "metadata": {},
   "outputs": [
    {
     "data": {
      "text/markdown": [
       "<h4 id=\"UnetBlock.forward\" class=\"doc_header\"><code>forward</code><a href=\"https://github.com/fastai/fastai/blob/master/fastai/vision/models/unet.py#L27\" class=\"source_link\" style=\"float:right\">[source]</a><a class=\"source_link\" data-toggle=\"collapse\" data-target=\"#UnetBlock-forward-pytest\" style=\"float:right; padding-right:10px\">[test]</a></h4>\n",
       "\n",
       "> <code>forward</code>(**`up_in`**:`Tensor`) → `Tensor`\n",
       "\n",
       "<div class=\"collapse\" id=\"UnetBlock-forward-pytest\"><div class=\"card card-body pytest_card\"><a type=\"button\" data-toggle=\"collapse\" data-target=\"#UnetBlock-forward-pytest\" class=\"close\" aria-label=\"Close\"><span aria-hidden=\"true\">&times;</span></a><p>No tests found for <code>forward</code>. To contribute a test please refer to <a href=\"/dev/test.html\">this guide</a> and <a href=\"https://forums.fast.ai/t/improving-expanding-functional-tests/32929\">this discussion</a>.</p></div></div>\n",
       "\n",
       "Defines the computation performed at every call. Should be overridden by all subclasses.\n",
       "\n",
       ".. note::\n",
       "    Although the recipe for forward pass needs to be defined within\n",
       "    this function, one should call the :class:[`Module`](/torch_core.html#Module) instance afterwards\n",
       "    instead of this since the former takes care of running the\n",
       "    registered hooks while the latter silently ignores them. "
      ],
      "text/plain": [
       "<IPython.core.display.Markdown object>"
      ]
     },
     "metadata": {},
     "output_type": "display_data"
    }
   ],
   "source": [
    "show_doc(UnetBlock.forward)"
   ]
  },
  {
   "cell_type": "markdown",
   "metadata": {},
   "source": [
    "## New Methods - Please document or move to the undocumented section"
   ]
  }
 ],
 "metadata": {
  "jekyll": {
   "keywords": "fastai",
   "summary": "Dynamic Unet that can use any pretrained model as a backbone.",
   "title": "vision.models.unet"
  },
  "kernelspec": {
   "display_name": "Python 3",
   "language": "python",
   "name": "python3"
  }
 },
 "nbformat": 4,
 "nbformat_minor": 2
}

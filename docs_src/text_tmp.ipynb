{
 "cells": [
  {
   "cell_type": "markdown",
   "metadata": {},
   "source": [
    "## top"
   ]
  },
  {
   "cell_type": "code",
   "execution_count": null,
   "metadata": {},
   "outputs": [],
   "source": [
    "from fastai import *        # Quick accesss to most common functionality\n",
    "from fastai.text import *   # Quick accesss to NLP functionality"
   ]
  },
  {
   "cell_type": "code",
   "execution_count": null,
   "metadata": {},
   "outputs": [
    {
     "data": {
      "text/plain": [
       "[PosixPath('/home/jhoward/.fastai/data/imdb/imdb.vocab'),\n",
       " PosixPath('/home/jhoward/.fastai/data/imdb/models'),\n",
       " PosixPath('/home/jhoward/.fastai/data/imdb/tmp_lm'),\n",
       " PosixPath('/home/jhoward/.fastai/data/imdb/train'),\n",
       " PosixPath('/home/jhoward/.fastai/data/imdb/test'),\n",
       " PosixPath('/home/jhoward/.fastai/data/imdb/README')]"
      ]
     },
     "execution_count": null,
     "metadata": {},
     "output_type": "execute_result"
    }
   ],
   "source": [
    "path = untar_data(URLs.IMDB)\n",
    "path.ls()"
   ]
  },
  {
   "cell_type": "code",
   "execution_count": null,
   "metadata": {},
   "outputs": [],
   "source": [
    "sd = (TextFilesList.from_folder(path)\n",
    "             #grap all the text files in path\n",
    "            .split_by_folder(valid='test'))"
   ]
  },
  {
   "cell_type": "code",
   "execution_count": null,
   "metadata": {},
   "outputs": [],
   "source": [
    "data_cls = sd.label_from_folder(classes=['neg', 'pos'])"
   ]
  },
  {
   "cell_type": "code",
   "execution_count": null,
   "metadata": {},
   "outputs": [
    {
     "data": {
      "text/plain": [
       "25000"
      ]
     },
     "execution_count": null,
     "metadata": {},
     "output_type": "execute_result"
    }
   ],
   "source": [
    "len(data_cls.valid)"
   ]
  },
  {
   "cell_type": "markdown",
   "metadata": {},
   "source": [
    "## start"
   ]
  },
  {
   "cell_type": "code",
   "execution_count": null,
   "metadata": {},
   "outputs": [
    {
     "data": {
      "text/plain": [
       "PosixPath('/home/jhoward/.fastai/data/imdb_sample')"
      ]
     },
     "execution_count": null,
     "metadata": {},
     "output_type": "execute_result"
    }
   ],
   "source": [
    "path = untar_data(URLs.IMDB_SAMPLE)\n",
    "path"
   ]
  },
  {
   "cell_type": "code",
   "execution_count": null,
   "metadata": {},
   "outputs": [],
   "source": [
    "data_lm = (TextList.from_csv(path, 'texts.csv', create_func=None, col='text')#, processor=TextProcessor())\n",
    "                   .random_split_by_pct()\n",
    "                   .label_for_lm()\n",
    "                   .databunch())"
   ]
  },
  {
   "cell_type": "code",
   "execution_count": null,
   "metadata": {},
   "outputs": [
    {
     "data": {
      "text/html": [
       "<table>  <col width='5%'>  <col width='95%'>  <tr>\n",
       "    <th>idx</th>\n",
       "    <th>text</th>\n",
       "  </tr>\n",
       "  <tr>\n",
       "    <th>0</th>\n",
       "    <th>xxfld 1 i 'm still trying to figure out if there was a point to this film . \\n\\n for content that 's supposed to be so ' xxunk ' and ' controversial ' the things that xxunk xxunk to the students are awfully lame . students seem to be easily xxunk by xxunk anti - xxunk xxunk and xxunk of words xxunk xxunk onto xxunk . rebel , everybody . \\n\\n i suppose it would have been too much to ask to have a teenage xxunk film where a school fire alarm does n't</th>\n",
       "  </tr>\n",
       "  <tr>\n",
       "    <th>1</th>\n",
       "    <th>film was just so hilarious and spot on ( in hindsight because i do agree that at times during you kind of felt lost ) . the main thing that struck me so powerfully about the film , and i believe the point of the film , was parker 's love and xxunk about fool , which was so endearing and turned , yes very quickly , from denial to xxunk passion . the last five minutes of the film were perfect . obviously there were things that were n't excellent , but nothing is</th>\n",
       "  </tr>\n",
       "  <tr>\n",
       "    <th>2</th>\n",
       "    <th>mankind . there are times , however , when one can not help but wish that the american 's would just stay on their side of the xxunk . \\n\\n this ' movie ' ( and i use that word with some xxunk ) evokes these feelings with an intense xxunk . this vision of hell follows the adventures of calvin , a xxunk xxunk thief who was created by xxunk the xxunk head of xxunk wayan onto the body of a two foot - high xxunk . after inadvertently dropping a large diamond into</th>\n",
       "  </tr>\n",
       "  <tr>\n",
       "    <th>3</th>\n",
       "    <th>, i was expecting quite a lot from \" nightmare \" , but unfortunately i was quite disappointed . xxfld 1 my siblings and i stumbled upon the xxunk when our local station aired re - runs of it one summer in the 1970 's . we absolutely adored it . there was something so exotic and mysterious about it , especially when compared to the usual american re - runs ( xxunk xxunk , green xxunk ... you get the idea ) . it had a similar feel to the xxunk ( not too</th>\n",
       "  </tr>\n",
       "  <tr>\n",
       "    <th>4</th>\n",
       "    <th>a strange , funny , and entertaining comedy . i love most of the actors . so really , how could i not recommend it ? \\n\\n war , xxunk / 5 xxfld 1 this movie is the first of xxunk triad society trilogy , and the trilogy kicks of to a great start . the movies in the trilogy are only connected xxunk , and these themes are actually apparent in all his films , if you look close enough . xxunk triad society is about a cop trying to prevent his kid brother</th>\n",
       "  </tr>\n",
       "  <tr>\n",
       "    <th>5</th>\n",
       "    <th>of the soap opera world that i have seen ( young doctors in love xxunk which xxunk tv 's general hospital and was pretty good ) . xxunk is funnier with a xxunk script and plenty of laugh - out - loud one - liners and terrific performances by field , kline and xxunk , jr . but see this for sally field who is outstanding . xxfld 1 all i can say is , first movie this season that got my attention . i picked it because of the actors , xxunk and claire</th>\n",
       "  </tr>\n",
       "  <tr>\n",
       "    <th>6</th>\n",
       "    <th>much . xxfld 1 though i liked on the town better i really liked it . i 'm a new xxunk when it comes to frank sinatra and gene kelly . though i had heard of them i had never seen anything with them in it until recently . the first one i saw was xxunk in the rain that made me a fan of gene 's . i think that is better too . but i thought that this movie was good and like all movies there are some parts that are better than</th>\n",
       "  </tr>\n",
       "  <tr>\n",
       "    <th>7</th>\n",
       "    <th>, i know that i got a kick out of it , i mean lets all be honest here , sometimes its comforting to xxunk in the shortcomings of others . xxfld 1 pathetic is the word . bad acting , pathetic script , xxunk dialog and hip hop music & fashion ... what the hell was up with that ? the xxunk of this movie acts as bad as the movie he made . if someone would have taken some time and effort to xxunk the whole thing , it may of had a</th>\n",
       "  </tr>\n",
       "  <tr>\n",
       "    <th>8</th>\n",
       "    <th>at work last week , bored xxunk and this movie came on . growing up in orange county in the 80 's i xxunk up and down the local xxunk and so did my dad when he was a teenager . i grew up at the beach , my parents took me every weekend , i body xxunk , xxunk then moved up from there . this movie just captivated me . it was way before my time but it was awesome to see what these guys went through .. xxup true xxup pioneers !</th>\n",
       "  </tr>\n",
       "  <tr>\n",
       "    <th>9</th>\n",
       "    <th>xxunk are it 's xxunk . 10 out of 10 . xxfld 1 yes , this movie is bad . what 's worse is that it takes no xxunk whatsoever of its own title ! ! in the xxup entire movie , zombies and vampires fight each other xxup once or xxup twice . on top of that , we 're never really sure if the main character in the movie is xxup definitely a vampire . one might argue they were trying to \" tone it down \" or make it \" realistic ,</th>\n",
       "  </tr>\n",
       "</table>\n"
      ],
      "text/plain": [
       "<IPython.core.display.HTML object>"
      ]
     },
     "metadata": {},
     "output_type": "display_data"
    }
   ],
   "source": [
    "data_lm.show_batch()"
   ]
  },
  {
   "cell_type": "code",
   "execution_count": null,
   "metadata": {},
   "outputs": [
    {
     "data": {
      "text/plain": [
       "(6133, 6133)"
      ]
     },
     "execution_count": null,
     "metadata": {},
     "output_type": "execute_result"
    }
   ],
   "source": [
    "len(data_lm.train_ds.vocab.itos), len(data_lm.valid_ds.vocab.itos)"
   ]
  },
  {
   "cell_type": "code",
   "execution_count": null,
   "metadata": {},
   "outputs": [],
   "source": [
    "data_clas = (TextList.from_csv(path, 'texts.csv', create_func=None, col='text', vocab=data_lm.vocab)\n",
    "                     .random_split_by_pct()\n",
    "                     .label_from_df(cols=0)\n",
    "                     .databunch())"
   ]
  },
  {
   "cell_type": "code",
   "execution_count": null,
   "metadata": {},
   "outputs": [
    {
     "data": {
      "text/html": [
       "<table>  <col width='90%'>  <col width='10%'>  <tr>\n",
       "    <th>text</th>\n",
       "    <th>label</th>\n",
       "  </tr>\n",
       "  <tr>\n",
       "    <th>xxfld 1 xxup the xxup shop xxup around xxup the xxup corner is one of the xxunk and most feel - good romantic comedies ever made . there 's just no getting around that , and it 's hard to actually put one 's feeling for this film into words</th>\n",
       "    <th>positive</th>\n",
       "  </tr>\n",
       "  <tr>\n",
       "    <th>xxfld 1 now that che(2008 ) has finished its relatively short australian cinema run ( extremely limited xxunk screen in xxunk , after xxunk ) , i can xxunk join both xxunk of \" at the movies \" in taking steven soderbergh to task . \\n\\n it 's usually satisfying</th>\n",
       "    <th>negative</th>\n",
       "  </tr>\n",
       "  <tr>\n",
       "    <th>xxfld 1 many xxunk that this is n't just a classic due to the fact that it 's the first 3d game , or even the first xxunk - up . it 's also one of the first xxunk games , one of the xxunk definitely the first ) truly</th>\n",
       "    <th>positive</th>\n",
       "  </tr>\n",
       "  <tr>\n",
       "    <th>xxfld 1 i really wanted to love this show . i truly , honestly did . \\n\\n for the first time , gay viewers get their own version of the \" the bachelor \" . with the help of his obligatory \" hag \" xxunk , james , a good</th>\n",
       "    <th>negative</th>\n",
       "  </tr>\n",
       "  <tr>\n",
       "    <th>xxfld 1 how viewers react to this new \" xxunk \" of shirley jackson 's book , which was promoted as xxup not being a remake of the original 1963 movie ( true enough ) , will be based , i suspect , on the following : those who were</th>\n",
       "    <th>negative</th>\n",
       "  </tr>\n",
       "</table>\n"
      ],
      "text/plain": [
       "<IPython.core.display.HTML object>"
      ]
     },
     "metadata": {},
     "output_type": "display_data"
    }
   ],
   "source": [
    "data_clas.show_batch()"
   ]
  },
  {
   "cell_type": "code",
   "execution_count": null,
   "metadata": {},
   "outputs": [],
   "source": [
    "learn = language_model_learner(data_lm, pretrained_model=URLs.WT103)"
   ]
  },
  {
   "cell_type": "code",
   "execution_count": null,
   "metadata": {},
   "outputs": [
    {
     "name": "stdout",
     "output_type": "stream",
     "text": [
      "Total time: 00:00\n",
      "\n"
     ]
    },
    {
     "data": {
      "text/plain": [
       "'Jeremy Howard is dean xxunk xxunk and'"
      ]
     },
     "execution_count": null,
     "metadata": {},
     "output_type": "execute_result"
    }
   ],
   "source": [
    "learn.predict('Jeremy Howard is', 4)"
   ]
  },
  {
   "cell_type": "code",
   "execution_count": null,
   "metadata": {},
   "outputs": [],
   "source": []
  }
 ],
 "metadata": {
  "kernelspec": {
   "display_name": "Python 3",
   "language": "python",
   "name": "python3"
  }
 },
 "nbformat": 4,
 "nbformat_minor": 2
}

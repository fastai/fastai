{
 "cells": [
  {
   "cell_type": "markdown",
   "metadata": {},
   "source": [
    "# utils.collect_env"
   ]
  },
  {
   "cell_type": "markdown",
   "metadata": {},
   "source": [
    "Helper utils."
   ]
  },
  {
   "cell_type": "code",
   "execution_count": null,
   "metadata": {},
   "outputs": [],
   "source": [
    "from fastai.utils.collect_env import *"
   ]
  },
  {
   "cell_type": "code",
   "execution_count": null,
   "metadata": {
    "hide_input": true
   },
   "outputs": [],
   "source": [
    "from fastai.gen_doc.nbdoc import *\n",
    "from fastai.utils.collect_env import * "
   ]
  },
  {
   "cell_type": "code",
   "execution_count": null,
   "metadata": {
    "hide_input": true
   },
   "outputs": [
    {
     "data": {
      "text/markdown": [
       "<h4 id=\"show_install\"><code>show_install</code><a href=\"https://github.com/fastai/fastai/blob/master/fastai/utils/collect_env.py#L15\" class=\"source_link\">[source]</a></h4>\n",
       "\n",
       "> <code>show_install</code>(<b>`show_nvidia_smi`</b>:`bool`=<b><i>`False`</i></b>)\n",
       "\n",
       "Print user's setup information  "
      ],
      "text/plain": [
       "<IPython.core.display.Markdown object>"
      ]
     },
     "metadata": {},
     "output_type": "display_data"
    }
   ],
   "source": [
    "show_doc(show_install)"
   ]
  },
  {
   "cell_type": "markdown",
   "metadata": {},
   "source": [
    "without nvidia-smi printout:\n",
    "\n",
    "`python -m fastai.utils.show_install`\n",
    "\n",
    "with nvidia-smi printout:\n",
    "\n",
    "`python -m fastai.utils.show_install 1`"
   ]
  },
  {
   "cell_type": "markdown",
   "metadata": {},
   "source": [
    "[`show_install`](/utils.collect_env.html#show_install)"
   ]
  },
  {
   "cell_type": "code",
   "execution_count": null,
   "metadata": {
    "hide_input": true
   },
   "outputs": [
    {
     "data": {
      "text/markdown": [
       "<h4 id=\"check_perf\"><code>check_perf</code><a href=\"https://github.com/fastai/fastai/blob/master/fastai/utils/collect_env.py#L150\" class=\"source_link\">[source]</a></h4>\n",
       "\n",
       "> <code>check_perf</code>()\n",
       "\n",
       "Suggest how to improve the setup to speed things up  "
      ],
      "text/plain": [
       "<IPython.core.display.Markdown object>"
      ]
     },
     "metadata": {},
     "output_type": "display_data"
    }
   ],
   "source": [
    "show_doc(check_perf)"
   ]
  },
  {
   "cell_type": "markdown",
   "metadata": {},
   "source": [
    "`python -m fastai.utils.check_perf`"
   ]
  },
  {
   "cell_type": "markdown",
   "metadata": {},
   "source": [
    "[`check_perf`](/utils.collect_env.html#check_perf)"
   ]
  },
  {
   "cell_type": "markdown",
   "metadata": {},
   "source": [
    "## Undocumented Methods - Methods moved below this line will intentionally be hidden"
   ]
  }
 ],
 "metadata": {
  "kernelspec": {
   "display_name": "Python 3",
   "language": "python",
   "name": "python3"
  }
 },
 "nbformat": 4,
 "nbformat_minor": 2
}

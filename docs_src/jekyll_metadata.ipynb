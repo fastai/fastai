{
 "cells": [
  {
   "cell_type": "code",
   "execution_count": null,
   "metadata": {},
   "outputs": [],
   "source": [
    "%reload_ext autoreload\n",
    "%autoreload 2"
   ]
  },
  {
   "cell_type": "code",
   "execution_count": null,
   "metadata": {},
   "outputs": [],
   "source": [
    "from fastai.gen_doc.gen_notebooks import *\n",
    "from pathlib import Path"
   ]
  },
  {
   "cell_type": "markdown",
   "metadata": {},
   "source": [
    "#### To update this notebook"
   ]
  },
  {
   "cell_type": "markdown",
   "metadata": {},
   "source": [
    "Run `tools/sgen_notebooks.py"
   ]
  },
  {
   "cell_type": "markdown",
   "metadata": {},
   "source": [
    "Or run below:  \n",
    "You need to make sure to refresh right after"
   ]
  },
  {
   "cell_type": "code",
   "execution_count": null,
   "metadata": {},
   "outputs": [],
   "source": [
    "import glob\n",
    "for f in Path().glob('*.ipynb'):\n",
    "    generate_missing_metadata(f)"
   ]
  },
  {
   "cell_type": "markdown",
   "metadata": {},
   "source": [
    "# Metadata generated below"
   ]
  },
  {
   "cell_type": "code",
   "execution_count": null,
   "metadata": {},
   "outputs": [],
   "source": [
    "update_nb_metadata('tutorial.itemlist.ipynb',\n",
    "    summary='Advanced tutorial, explains how to create your custom `ItemBase` or `ItemList`',\n",
    "    title='Custom ItemList')"
   ]
  },
  {
   "cell_type": "code",
   "execution_count": null,
   "metadata": {},
   "outputs": [],
   "source": [
    "update_nb_metadata('tutorial.inference.ipynb',\n",
    "    summary='Intermediate tutorial, explains how to create a Learner for inference',\n",
    "    title='Inference Learner')"
   ]
  },
  {
   "cell_type": "code",
   "execution_count": null,
   "metadata": {},
   "outputs": [],
   "source": [
    "update_nb_metadata('tutorial.data.ipynb',\n",
    "    summary=\"Beginner's tutorial, explains how to quickly look at your data or model predictions\",\n",
    "    title='Look at data')"
   ]
  },
  {
   "cell_type": "code",
   "execution_count": null,
   "metadata": {},
   "outputs": [],
   "source": [
    "update_nb_metadata('vision.gan.ipynb',\n",
    "    summary='All the modules and callbacks necessary to train a GAN',\n",
    "    title='vision.gan')"
   ]
  },
  {
   "cell_type": "code",
   "execution_count": null,
   "metadata": {},
   "outputs": [],
   "source": [
    "update_nb_metadata('callbacks.csv_logger.ipynb',\n",
    "    summary='Callbacks that saves the tracked metrics during training',\n",
    "    title='callbacks.csv_logger')"
   ]
  },
  {
   "cell_type": "code",
   "execution_count": null,
   "metadata": {},
   "outputs": [],
   "source": [
    "update_nb_metadata('callbacks.tracker.ipynb',\n",
    "    summary='Callbacks that take decisions depending on the evolution of metrics during training',\n",
    "    title='callbacks.tracker')"
   ]
  },
  {
   "cell_type": "code",
   "execution_count": null,
   "metadata": {
    "hide_input": false
   },
   "outputs": [],
   "source": [
    "update_nb_metadata('torch_core.ipynb',\n",
    "    summary='Basic functions using pytorch',\n",
    "    title='torch_core')"
   ]
  },
  {
   "cell_type": "code",
   "execution_count": null,
   "metadata": {
    "hide_input": false
   },
   "outputs": [],
   "source": [
    "update_nb_metadata('gen_doc.convert2html.ipynb',\n",
    "    summary='Converting the documentation notebooks to HTML pages',\n",
    "    title='gen_doc.convert2html')"
   ]
  },
  {
   "cell_type": "code",
   "execution_count": null,
   "metadata": {
    "hide_input": false
   },
   "outputs": [],
   "source": [
    "update_nb_metadata('metrics.ipynb',\n",
    "    summary='Useful metrics for training',\n",
    "    title='metrics')"
   ]
  },
  {
   "cell_type": "code",
   "execution_count": null,
   "metadata": {
    "hide_input": false
   },
   "outputs": [],
   "source": [
    "update_nb_metadata('callbacks.fp16.ipynb',\n",
    "    summary='Training in mixed precision implementation',\n",
    "    title='callbacks.fp16')"
   ]
  },
  {
   "cell_type": "code",
   "execution_count": null,
   "metadata": {
    "hide_input": false
   },
   "outputs": [],
   "source": [
    "update_nb_metadata('callbacks.general_sched.ipynb',\n",
    "    summary='Implementation of a flexible training API',\n",
    "    title='callbacks.general_sched')"
   ]
  },
  {
   "cell_type": "code",
   "execution_count": null,
   "metadata": {
    "hide_input": false
   },
   "outputs": [],
   "source": [
    "update_nb_metadata('text.ipynb',\n",
    "    keywords='fastai',\n",
    "    summary='Application to NLP, including ULMFiT fine-tuning',\n",
    "    title='text')"
   ]
  },
  {
   "cell_type": "code",
   "execution_count": null,
   "metadata": {
    "hide_input": false
   },
   "outputs": [],
   "source": [
    "update_nb_metadata('callback.ipynb',\n",
    "    summary='Implementation of the callback system',\n",
    "    title='callback')"
   ]
  },
  {
   "cell_type": "code",
   "execution_count": null,
   "metadata": {
    "hide_input": false
   },
   "outputs": [],
   "source": [
    "update_nb_metadata('tabular.models.ipynb',\n",
    "    keywords='fastai',\n",
    "    summary='Model for training tabular/structured data',\n",
    "    title='tabular.models')"
   ]
  },
  {
   "cell_type": "code",
   "execution_count": null,
   "metadata": {
    "hide_input": false
   },
   "outputs": [],
   "source": [
    "update_nb_metadata('callbacks.mixup.ipynb',\n",
    "    summary='Implementation of mixup',\n",
    "    title='callbacks.mixup')"
   ]
  },
  {
   "cell_type": "code",
   "execution_count": null,
   "metadata": {
    "hide_input": false
   },
   "outputs": [],
   "source": [
    "update_nb_metadata('applications.ipynb',\n",
    "    summary='Types of problems you can apply the fastai library to',\n",
    "    title='applications')"
   ]
  },
  {
   "cell_type": "code",
   "execution_count": null,
   "metadata": {
    "hide_input": false
   },
   "outputs": [],
   "source": [
    "update_nb_metadata('vision.data.ipynb',\n",
    "    summary='Basic dataset for computer vision and helper function to get a DataBunch',\n",
    "    title='vision.data')"
   ]
  },
  {
   "cell_type": "code",
   "execution_count": null,
   "metadata": {
    "hide_input": false
   },
   "outputs": [],
   "source": [
    "update_nb_metadata('overview.ipynb',\n",
    "    summary='Overview of the core modules',\n",
    "    title='overview')"
   ]
  },
  {
   "cell_type": "code",
   "execution_count": null,
   "metadata": {
    "hide_input": false
   },
   "outputs": [],
   "source": [
    "update_nb_metadata('training.ipynb',\n",
    "    keywords='fastai',\n",
    "    summary='Overview of fastai training modules, including Learner, metrics, and callbacks',\n",
    "    title='training')"
   ]
  },
  {
   "cell_type": "code",
   "execution_count": null,
   "metadata": {
    "hide_input": false
   },
   "outputs": [],
   "source": [
    "update_nb_metadata('text.transform.ipynb',\n",
    "    summary='NLP data processing; tokenizes text and creates vocab indexes',\n",
    "    title='text.transform')"
   ]
  },
  {
   "cell_type": "code",
   "execution_count": null,
   "metadata": {
    "hide_input": false
   },
   "outputs": [],
   "source": [
    "# do not overwrite this notebook, or changes may get lost!\n",
    "# update_nb_metadata('jekyll_metadata.ipynb')"
   ]
  },
  {
   "cell_type": "code",
   "execution_count": null,
   "metadata": {
    "hide_input": false
   },
   "outputs": [],
   "source": [
    "update_nb_metadata('collab.ipynb',\n",
    "    summary='Application to collaborative filtering',\n",
    "    title='collab')"
   ]
  },
  {
   "cell_type": "code",
   "execution_count": null,
   "metadata": {
    "hide_input": false
   },
   "outputs": [],
   "source": [
    "update_nb_metadata('text.learner.ipynb',\n",
    "    summary='Easy access of language models and ULMFiT',\n",
    "    title='text.learner')"
   ]
  },
  {
   "cell_type": "code",
   "execution_count": null,
   "metadata": {
    "hide_input": false
   },
   "outputs": [],
   "source": [
    "update_nb_metadata('gen_doc.nbdoc.ipynb',\n",
    "    summary='Helper function to build the documentation',\n",
    "    title='gen_doc.nbdoc')"
   ]
  },
  {
   "cell_type": "code",
   "execution_count": null,
   "metadata": {
    "hide_input": false
   },
   "outputs": [],
   "source": [
    "update_nb_metadata('vision.learner.ipynb',\n",
    "    summary='`Learner` support for computer vision',\n",
    "    title='vision.learner')"
   ]
  },
  {
   "cell_type": "code",
   "execution_count": null,
   "metadata": {
    "hide_input": false
   },
   "outputs": [],
   "source": [
    "update_nb_metadata('core.ipynb',\n",
    "    summary='Basic helper functions for the fastai library',\n",
    "    title='core')"
   ]
  },
  {
   "cell_type": "code",
   "execution_count": null,
   "metadata": {
    "hide_input": false
   },
   "outputs": [],
   "source": [
    "update_nb_metadata('fastai_typing.ipynb',\n",
    "    keywords='fastai',\n",
    "    summary='Type annotations names',\n",
    "    title='fastai_typing')"
   ]
  },
  {
   "cell_type": "code",
   "execution_count": null,
   "metadata": {
    "hide_input": false
   },
   "outputs": [],
   "source": [
    "update_nb_metadata('gen_doc.gen_notebooks.ipynb',\n",
    "    summary='Generation of documentation notebook skeletons from python module',\n",
    "    title='gen_doc.gen_notebooks')"
   ]
  },
  {
   "cell_type": "code",
   "execution_count": null,
   "metadata": {
    "hide_input": false
   },
   "outputs": [],
   "source": [
    "update_nb_metadata('basic_train.ipynb',\n",
    "    summary='Learner class and training loop',\n",
    "    title='basic_train')"
   ]
  },
  {
   "cell_type": "code",
   "execution_count": null,
   "metadata": {
    "hide_input": false
   },
   "outputs": [],
   "source": [
    "update_nb_metadata('gen_doc.ipynb',\n",
    "    keywords='fastai',\n",
    "    summary='Documentation modules overview',\n",
    "    title='gen_doc')"
   ]
  },
  {
   "cell_type": "code",
   "execution_count": null,
   "metadata": {
    "hide_input": false
   },
   "outputs": [],
   "source": [
    "update_nb_metadata('callbacks.rnn.ipynb',\n",
    "    summary='Implementation of a callback for RNN training',\n",
    "    title='callbacks.rnn')"
   ]
  },
  {
   "cell_type": "code",
   "execution_count": null,
   "metadata": {
    "hide_input": false
   },
   "outputs": [],
   "source": [
    "update_nb_metadata('callbacks.one_cycle.ipynb',\n",
    "    summary='Implementation of the 1cycle policy',\n",
    "    title='callbacks.one_cycle')"
   ]
  },
  {
   "cell_type": "code",
   "execution_count": null,
   "metadata": {
    "hide_input": false
   },
   "outputs": [],
   "source": [
    "update_nb_metadata('vision.ipynb',\n",
    "    summary='Application to Computer Vision',\n",
    "    title='vision')"
   ]
  },
  {
   "cell_type": "code",
   "execution_count": null,
   "metadata": {
    "hide_input": false
   },
   "outputs": [],
   "source": [
    "update_nb_metadata('vision.transform.ipynb',\n",
    "    summary='List of transforms for data augmentation in CV',\n",
    "    title='vision.transform')"
   ]
  },
  {
   "cell_type": "code",
   "execution_count": null,
   "metadata": {
    "hide_input": false
   },
   "outputs": [],
   "source": [
    "update_nb_metadata('callbacks.lr_finder.ipynb',\n",
    "    summary='Implementation of the LR Range test from Leslie Smith',\n",
    "    title='callbacks.lr_finder')"
   ]
  },
  {
   "cell_type": "code",
   "execution_count": null,
   "metadata": {
    "hide_input": false
   },
   "outputs": [],
   "source": [
    "update_nb_metadata('text.data.ipynb',\n",
    "    summary='Basic dataset for NLP tasks and helper functions to create a DataBunch',\n",
    "    title='text.data')"
   ]
  },
  {
   "cell_type": "code",
   "execution_count": null,
   "metadata": {
    "hide_input": false
   },
   "outputs": [],
   "source": [
    "update_nb_metadata('text.models.ipynb',\n",
    "    summary='Implementation of the AWD-LSTM and the RNN models',\n",
    "    title='text.models')"
   ]
  },
  {
   "cell_type": "code",
   "execution_count": null,
   "metadata": {
    "hide_input": false
   },
   "outputs": [],
   "source": [
    "update_nb_metadata('tabular.data.ipynb',\n",
    "    summary='Base class to deal with tabular data and get a DataBunch',\n",
    "    title='tabular.data')"
   ]
  },
  {
   "cell_type": "code",
   "execution_count": null,
   "metadata": {
    "hide_input": false
   },
   "outputs": [],
   "source": [
    "update_nb_metadata('callbacks.ipynb',\n",
    "    keywords='fastai',\n",
    "    summary='Callbacks implemented in the fastai library',\n",
    "    title='callbacks')"
   ]
  },
  {
   "cell_type": "code",
   "execution_count": null,
   "metadata": {
    "hide_input": false
   },
   "outputs": [],
   "source": [
    "update_nb_metadata('train.ipynb',\n",
    "    summary='Extensions to Learner that easily implement Callback',\n",
    "    title='train')"
   ]
  },
  {
   "cell_type": "code",
   "execution_count": null,
   "metadata": {
    "hide_input": false
   },
   "outputs": [],
   "source": [
    "update_nb_metadata('callbacks.hooks.ipynb',\n",
    "    summary='Implement callbacks using hooks',\n",
    "    title='callbacks.hooks')"
   ]
  },
  {
   "cell_type": "code",
   "execution_count": null,
   "metadata": {
    "hide_input": false
   },
   "outputs": [],
   "source": [
    "update_nb_metadata('vision.image.ipynb',\n",
    "    summary='Image class, variants and internal data augmentation pipeline',\n",
    "    title='vision.image')"
   ]
  },
  {
   "cell_type": "code",
   "execution_count": null,
   "metadata": {
    "hide_input": false
   },
   "outputs": [],
   "source": [
    "update_nb_metadata('vision.models.unet.ipynb',\n",
    "    summary='Dynamic Unet that can use any pretrained model as a backbone.',\n",
    "    title='vision.models.unet')"
   ]
  },
  {
   "cell_type": "code",
   "execution_count": null,
   "metadata": {
    "hide_input": false
   },
   "outputs": [],
   "source": [
    "update_nb_metadata('vision.models.ipynb',\n",
    "    keywords='fastai',\n",
    "    summary='Overview of the models used for CV in fastai',\n",
    "    title='vision.models')"
   ]
  },
  {
   "cell_type": "code",
   "execution_count": null,
   "metadata": {
    "hide_input": false
   },
   "outputs": [],
   "source": [
    "update_nb_metadata('tabular.transform.ipynb',\n",
    "    summary='Transforms to clean and preprocess tabular data',\n",
    "    title='tabular.transform')"
   ]
  },
  {
   "cell_type": "code",
   "execution_count": null,
   "metadata": {
    "hide_input": false
   },
   "outputs": [],
   "source": [
    "update_nb_metadata('index.ipynb',\n",
    "    keywords='fastai',\n",
    "    toc='false', \n",
    "    title='Welcome to fastai')"
   ]
  },
  {
   "cell_type": "code",
   "execution_count": null,
   "metadata": {
    "hide_input": false
   },
   "outputs": [],
   "source": [
    "update_nb_metadata('layers.ipynb',\n",
    "    summary='Provides essential functions to building and modifying `Model` architectures.',\n",
    "    title='layers')"
   ]
  },
  {
   "cell_type": "code",
   "execution_count": null,
   "metadata": {
    "hide_input": false
   },
   "outputs": [],
   "source": [
    "update_nb_metadata('tabular.ipynb',\n",
    "    keywords='fastai',\n",
    "    summary='Application to tabular/structured data',\n",
    "    title='tabular')"
   ]
  },
  {
   "cell_type": "code",
   "execution_count": null,
   "metadata": {
    "hide_input": false
   },
   "outputs": [],
   "source": [
    "update_nb_metadata('basic_data.ipynb',\n",
    "    summary='Basic classes to contain the data for model training.',\n",
    "    title='basic_data')"
   ]
  },
  {
   "cell_type": "code",
   "execution_count": null,
   "metadata": {
    "hide_input": false
   },
   "outputs": [],
   "source": [
    "update_nb_metadata('datasets.ipynb')"
   ]
  },
  {
   "cell_type": "code",
   "execution_count": null,
   "metadata": {
    "hide_input": false
   },
   "outputs": [],
   "source": [
    "update_nb_metadata('tmp.ipynb',\n",
    "    keywords='fastai')"
   ]
  },
  {
   "cell_type": "code",
   "execution_count": null,
   "metadata": {
    "hide_input": false
   },
   "outputs": [],
   "source": [
    "update_nb_metadata('callbacks.tracking.ipynb')"
   ]
  },
  {
   "cell_type": "code",
   "execution_count": null,
   "metadata": {
    "hide_input": false
   },
   "outputs": [],
   "source": [
    "update_nb_metadata('data_block.ipynb',\n",
    "    keywords='fastai',\n",
    "    summary='The data block API',\n",
    "    title='data_block')"
   ]
  },
  {
   "cell_type": "code",
   "execution_count": null,
   "metadata": {
    "hide_input": false
   },
   "outputs": [],
   "source": [
    "update_nb_metadata('callbacks.tracker.ipynb',\n",
    "    keywords='fastai',\n",
    "    summary='Callbacks that take decisions depending on the evolution of metrics during training',\n",
    "    title='callbacks.tracking')"
   ]
  },
  {
   "cell_type": "code",
   "execution_count": null,
   "metadata": {
    "hide_input": false
   },
   "outputs": [],
   "source": [
    "update_nb_metadata('widgets.ipynb')"
   ]
  },
  {
   "cell_type": "code",
   "execution_count": null,
   "metadata": {
    "hide_input": false
   },
   "outputs": [],
   "source": [
    "update_nb_metadata('text_tmp.ipynb')"
   ]
  },
  {
   "cell_type": "code",
   "execution_count": null,
   "metadata": {
    "hide_input": false
   },
   "outputs": [],
   "source": [
    "update_nb_metadata('tabular_tmp.ipynb')"
   ]
  },
  {
   "cell_type": "code",
   "execution_count": null,
   "metadata": {
    "hide_input": false
   },
   "outputs": [],
   "source": [
    "update_nb_metadata('tutorial.data.ipynb')"
   ]
  },
  {
   "cell_type": "code",
   "execution_count": null,
   "metadata": {
    "hide_input": false
   },
   "outputs": [],
   "source": [
    "update_nb_metadata('tutorial.itemlist.ipynb')"
   ]
  },
  {
   "cell_type": "code",
   "execution_count": null,
   "metadata": {
    "hide_input": false
   },
   "outputs": [],
   "source": [
    "update_nb_metadata('tutorial.inference.ipynb')"
   ]
  },
  {
   "cell_type": "code",
   "execution_count": null,
   "metadata": {
    "hide_input": false
   },
   "outputs": [],
   "source": [
    "update_nb_metadata('vision.gan.ipynb')"
   ]
  },
  {
   "cell_type": "code",
   "execution_count": null,
   "metadata": {
    "hide_input": false
   },
   "outputs": [],
   "source": [
    "update_nb_metadata('utils.collect_env.ipynb')"
   ]
  },
  {
   "cell_type": "code",
   "execution_count": null,
   "metadata": {
    "hide_input": false
   },
   "outputs": [],
   "source": [
    "update_nb_metadata('widgets.image_cleaner.ipynb')"
   ]
  },
  {
   "cell_type": "code",
   "execution_count": null,
   "metadata": {
    "hide_input": false
   },
   "outputs": [],
   "source": [
    "update_nb_metadata('utils.mem.ipynb')"
   ]
  },
  {
   "cell_type": "code",
   "execution_count": null,
   "metadata": {
    "hide_input": false
   },
   "outputs": [],
   "source": [
    "update_nb_metadata('callbacks.mem.ipynb')"
   ]
  },
  {
   "cell_type": "code",
   "execution_count": null,
   "metadata": {
    "hide_input": false
   },
   "outputs": [],
   "source": [
    "update_nb_metadata('gen_doc.nbtest.ipynb',\n",
    "    summary='Helper functions to search for api tests',\n",
    "    title='gen_doc.nbtest')"
   ]
  },
  {
   "cell_type": "code",
   "execution_count": null,
   "metadata": {
    "hide_input": false
   },
   "outputs": [],
   "source": [
    "update_nb_metadata('utils.ipython.ipynb')"
   ]
  },
  {
   "cell_type": "code",
   "execution_count": null,
   "metadata": {
    "hide_input": false
   },
   "outputs": [],
   "source": [
    "update_nb_metadata('callbacks.misc.ipynb')"
   ]
  },
  {
   "cell_type": "code",
   "execution_count": null,
   "metadata": {
    "hide_input": false
   },
   "outputs": [],
   "source": [
    "update_nb_metadata('utils.mod_display.ipynb')"
   ]
  },
  {
   "cell_type": "code",
   "execution_count": null,
   "metadata": {
    "hide_input": false
   },
   "outputs": [],
   "source": [
    "update_nb_metadata('text.interpret.ipynb',\n",
    "    keywords='fastai',\n",
    "    summary='Easy access of language models and ULMFiT',\n",
    "    title='text.learner')"
   ]
  },
  {
   "cell_type": "code",
   "execution_count": null,
   "metadata": {
    "hide_input": false
   },
   "outputs": [],
   "source": [
    "update_nb_metadata('vision.interpret.ipynb',\n",
    "    keywords='fastai',\n",
    "    summary='`Learner` support for computer vision',\n",
    "    title='vision.learner')"
   ]
  }
 ],
 "metadata": {
  "kernelspec": {
   "display_name": "Python 3",
   "language": "python",
   "name": "python3"
  }
 },
 "nbformat": 4,
 "nbformat_minor": 2
}

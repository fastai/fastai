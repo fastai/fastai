{
 "cells": [
  {
   "cell_type": "markdown",
   "metadata": {},
   "source": [
    "# Basic core"
   ]
  },
  {
   "cell_type": "markdown",
   "metadata": {},
   "source": [
    "This module contains all the basic functions we need in other modules of the fastai library (split with [`torch_core`](/torch_core.html#torch_core) that contains the ones requiring pytorch). Its documentation can easily be skipped at a first read, unless you want to know what a given function does."
   ]
  },
  {
   "cell_type": "code",
   "execution_count": null,
   "metadata": {
    "hide_input": true
   },
   "outputs": [],
   "source": [
    "from fastai.gen_doc.nbdoc import *\n",
    "from fastai.core import * "
   ]
  },
  {
   "cell_type": "markdown",
   "metadata": {},
   "source": [
    "## Global constants"
   ]
  },
  {
   "cell_type": "markdown",
   "metadata": {},
   "source": [
    "`default_cpus = min(16, num_cpus())` <div style=\"text-align: right\"><a href=\"https://github.com/fastai/fastai/blob/master/fastai/core.py#L45\">[source]</a></div>"
   ]
  },
  {
   "cell_type": "markdown",
   "metadata": {},
   "source": [
    "## Check functions"
   ]
  },
  {
   "cell_type": "code",
   "execution_count": null,
   "metadata": {
    "hide_input": true
   },
   "outputs": [
    {
     "data": {
      "text/markdown": [
       "<h4 id=\"has_arg\"><code>has_arg</code><a href=\"https://github.com/fastai/fastai/blob/master/fastai/core.py#L230\" class=\"source_link\">[source]</a></h4>\n",
       "\n",
       "> <code>has_arg</code>(`func`, `arg`) → `bool`\n",
       "\n",
       "Check if `func` accepts `arg`.  "
      ],
      "text/plain": [
       "<IPython.core.display.Markdown object>"
      ]
     },
     "metadata": {},
     "output_type": "display_data"
    }
   ],
   "source": [
    "show_doc(has_arg)"
   ]
  },
  {
   "cell_type": "markdown",
   "metadata": {},
   "source": [
    "Check if `func` accepts `arg` as an argument."
   ]
  },
  {
   "cell_type": "code",
   "execution_count": null,
   "metadata": {
    "hide_input": true
   },
   "outputs": [
    {
     "data": {
      "text/markdown": [
       "<h4 id=\"ifnone\"><code>ifnone</code><a href=\"https://github.com/fastai/fastai/blob/master/fastai/core.py#L64\" class=\"source_link\">[source]</a></h4>\n",
       "\n",
       "> <code>ifnone</code>(`a`:`Any`, `b`:`Any`) → `Any`\n",
       "\n",
       "`a` if `a` is not None, otherwise `b`.  "
      ],
      "text/plain": [
       "<IPython.core.display.Markdown object>"
      ]
     },
     "metadata": {},
     "output_type": "display_data"
    }
   ],
   "source": [
    "show_doc(ifnone)"
   ]
  },
  {
   "cell_type": "code",
   "execution_count": null,
   "metadata": {
    "hide_input": true
   },
   "outputs": [
    {
     "data": {
      "text/markdown": [
       "<h4 id=\"is1d\"><code>is1d</code><a href=\"https://github.com/fastai/fastai/blob/master/fastai/core.py#L68\" class=\"source_link\">[source]</a></h4>\n",
       "\n",
       "> <code>is1d</code>(`a`:`Collection`\\[`T_co`\\]) → `bool`\n",
       "\n",
       "Return `True` if `a` is one-dimensional  "
      ],
      "text/plain": [
       "<IPython.core.display.Markdown object>"
      ]
     },
     "metadata": {},
     "output_type": "display_data"
    }
   ],
   "source": [
    "show_doc(is1d)"
   ]
  },
  {
   "cell_type": "code",
   "execution_count": null,
   "metadata": {
    "hide_input": true
   },
   "outputs": [
    {
     "data": {
      "text/markdown": [
       "<h4 id=\"is_listy\"><code>is_listy</code><a href=\"https://github.com/fastai/fastai/blob/master/fastai/core.py#L51\" class=\"source_link\">[source]</a></h4>\n",
       "\n",
       "> <code>is_listy</code>(`x`:`Any`) → `bool`"
      ],
      "text/plain": [
       "<IPython.core.display.Markdown object>"
      ]
     },
     "metadata": {},
     "output_type": "display_data"
    }
   ],
   "source": [
    "show_doc(is_listy)"
   ]
  },
  {
   "cell_type": "markdown",
   "metadata": {},
   "source": [
    "Check if `x` is a `Collection`."
   ]
  },
  {
   "cell_type": "code",
   "execution_count": null,
   "metadata": {
    "hide_input": true
   },
   "outputs": [
    {
     "data": {
      "text/markdown": [
       "<h4 id=\"is_tuple\"><code>is_tuple</code><a href=\"https://github.com/fastai/fastai/blob/master/fastai/core.py#L52\" class=\"source_link\">[source]</a></h4>\n",
       "\n",
       "> <code>is_tuple</code>(`x`:`Any`) → `bool`"
      ],
      "text/plain": [
       "<IPython.core.display.Markdown object>"
      ]
     },
     "metadata": {},
     "output_type": "display_data"
    }
   ],
   "source": [
    "show_doc(is_tuple)"
   ]
  },
  {
   "cell_type": "markdown",
   "metadata": {},
   "source": [
    "Check if `x` is a `tuple`."
   ]
  },
  {
   "cell_type": "markdown",
   "metadata": {},
   "source": [
    "## Collection related functions"
   ]
  },
  {
   "cell_type": "code",
   "execution_count": null,
   "metadata": {
    "hide_input": true
   },
   "outputs": [
    {
     "data": {
      "text/markdown": [
       "<h4 id=\"arange_of\"><code>arange_of</code><a href=\"https://github.com/fastai/fastai/blob/master/fastai/core.py#L179\" class=\"source_link\">[source]</a></h4>\n",
       "\n",
       "> <code>arange_of</code>(`x`)\n",
       "\n",
       "Same as [`range_of`](/core.html#range_of) but returns an array.  "
      ],
      "text/plain": [
       "<IPython.core.display.Markdown object>"
      ]
     },
     "metadata": {},
     "output_type": "display_data"
    }
   ],
   "source": [
    "show_doc(arange_of)"
   ]
  },
  {
   "cell_type": "code",
   "execution_count": null,
   "metadata": {
    "hide_input": true
   },
   "outputs": [
    {
     "data": {
      "text/markdown": [
       "<h4 id=\"array\"><code>array</code><a href=\"https://github.com/fastai/fastai/blob/master/fastai/core.py#L240\" class=\"source_link\">[source]</a></h4>\n",
       "\n",
       "> <code>array</code>(`a`, `dtype`:`type`=`None`, `kwargs`) → `ndarray`\n",
       "\n",
       "Same as `np.array` but also handles generators  "
      ],
      "text/plain": [
       "<IPython.core.display.Markdown object>"
      ]
     },
     "metadata": {},
     "output_type": "display_data"
    }
   ],
   "source": [
    "show_doc(array)"
   ]
  },
  {
   "cell_type": "code",
   "execution_count": null,
   "metadata": {
    "hide_input": true
   },
   "outputs": [
    {
     "data": {
      "text/markdown": [
       "<h4 id=\"arrays_split\"><code>arrays_split</code><a href=\"https://github.com/fastai/fastai/blob/master/fastai/core.py#L89\" class=\"source_link\">[source]</a></h4>\n",
       "\n",
       "> <code>arrays_split</code>(`mask`:`ndarray`, `arrs`:`NPArrayableList`) → `SplitArrayList`\n",
       "\n",
       "Given `arrs` is [a,b,...] and `mask`index - return[(a[mask],a[~mask]),(b[mask],b[~mask]),...].  "
      ],
      "text/plain": [
       "<IPython.core.display.Markdown object>"
      ]
     },
     "metadata": {},
     "output_type": "display_data"
    }
   ],
   "source": [
    "show_doc(arrays_split)"
   ]
  },
  {
   "cell_type": "code",
   "execution_count": null,
   "metadata": {
    "hide_input": true
   },
   "outputs": [
    {
     "data": {
      "text/markdown": [
       "<h4 id=\"chunks\"><code>chunks</code><a href=\"https://github.com/fastai/fastai/blob/master/fastai/core.py#L55\" class=\"source_link\">[source]</a></h4>\n",
       "\n",
       "> <code>chunks</code>(`l`:`Collection`\\[`T_co`\\], `n`:`int`) → `Iterable`\n",
       "\n",
       "Yield successive `n`-sized chunks from `l`.  "
      ],
      "text/plain": [
       "<IPython.core.display.Markdown object>"
      ]
     },
     "metadata": {},
     "output_type": "display_data"
    }
   ],
   "source": [
    "show_doc(chunks)"
   ]
  },
  {
   "cell_type": "code",
   "execution_count": null,
   "metadata": {
    "hide_input": true
   },
   "outputs": [
    {
     "data": {
      "text/markdown": [
       "<h4 id=\"df_names_to_idx\"><code>df_names_to_idx</code><a href=\"https://github.com/fastai/fastai/blob/master/fastai/core.py#L204\" class=\"source_link\">[source]</a></h4>\n",
       "\n",
       "> <code>df_names_to_idx</code>(`names`:`Union`\\[`int`, `Collection`\\[`int`\\], `str`, `StrList`\\], `df`:`DataFrame`)\n",
       "\n",
       "Return the column indexes of `names` in `df`.  "
      ],
      "text/plain": [
       "<IPython.core.display.Markdown object>"
      ]
     },
     "metadata": {},
     "output_type": "display_data"
    }
   ],
   "source": [
    "show_doc(df_names_to_idx)"
   ]
  },
  {
   "cell_type": "code",
   "execution_count": null,
   "metadata": {
    "hide_input": true
   },
   "outputs": [
    {
     "data": {
      "text/markdown": [
       "<h4 id=\"extract_kwargs\"><code>extract_kwargs</code><a href=\"https://github.com/fastai/fastai/blob/master/fastai/core.py#L124\" class=\"source_link\">[source]</a></h4>\n",
       "\n",
       "> <code>extract_kwargs</code>(`names`:`StrList`, `kwargs`:`KWArgs`)\n",
       "\n",
       "Extract the keys in `names` from the `kwargs`.  "
      ],
      "text/plain": [
       "<IPython.core.display.Markdown object>"
      ]
     },
     "metadata": {},
     "output_type": "display_data"
    }
   ],
   "source": [
    "show_doc(extract_kwargs)"
   ]
  },
  {
   "cell_type": "code",
   "execution_count": null,
   "metadata": {
    "hide_input": true
   },
   "outputs": [
    {
     "data": {
      "text/markdown": [
       "<h4 id=\"idx_dict\"><code>idx_dict</code><a href=\"https://github.com/fastai/fastai/blob/master/fastai/core.py#L78\" class=\"source_link\">[source]</a></h4>\n",
       "\n",
       "> <code>idx_dict</code>(`a`)\n",
       "\n",
       "Create a dictionary value to index from `a`.  "
      ],
      "text/plain": [
       "<IPython.core.display.Markdown object>"
      ]
     },
     "metadata": {},
     "output_type": "display_data"
    }
   ],
   "source": [
    "show_doc(idx_dict)"
   ]
  },
  {
   "cell_type": "code",
   "execution_count": null,
   "metadata": {},
   "outputs": [
    {
     "data": {
      "text/plain": [
       "{'a': 0, 'b': 1, 'c': 2}"
      ]
     },
     "execution_count": null,
     "metadata": {},
     "output_type": "execute_result"
    }
   ],
   "source": [
    "idx_dict(['a','b','c'])"
   ]
  },
  {
   "cell_type": "code",
   "execution_count": null,
   "metadata": {
    "hide_input": true
   },
   "outputs": [
    {
     "data": {
      "text/markdown": [
       "<h4 id=\"index_row\"><code>index_row</code><a href=\"https://github.com/fastai/fastai/blob/master/fastai/core.py#L216\" class=\"source_link\">[source]</a></h4>\n",
       "\n",
       "> <code>index_row</code>(`a`:`Union`\\[`Collection`\\[`T_co`\\], `DataFrame`, `Series`\\], `idxs`:`Collection`\\[`int`\\]) → `Any`\n",
       "\n",
       "Return the slice of `a` corresponding to `idxs`.  "
      ],
      "text/plain": [
       "<IPython.core.display.Markdown object>"
      ]
     },
     "metadata": {},
     "output_type": "display_data"
    }
   ],
   "source": [
    "show_doc(index_row)"
   ]
  },
  {
   "cell_type": "code",
   "execution_count": null,
   "metadata": {
    "hide_input": true
   },
   "outputs": [
    {
     "data": {
      "text/markdown": [
       "<h4 id=\"listify\"><code>listify</code><a href=\"https://github.com/fastai/fastai/blob/master/fastai/core.py#L101\" class=\"source_link\">[source]</a></h4>\n",
       "\n",
       "> <code>listify</code>(`p`:`OptListOrItem`=`None`, `q`:`OptListOrItem`=`None`)\n",
       "\n",
       "Make `p` listy and the same length as `q`.  "
      ],
      "text/plain": [
       "<IPython.core.display.Markdown object>"
      ]
     },
     "metadata": {},
     "output_type": "display_data"
    }
   ],
   "source": [
    "show_doc(listify)"
   ]
  },
  {
   "cell_type": "code",
   "execution_count": null,
   "metadata": {
    "hide_input": true
   },
   "outputs": [
    {
     "data": {
      "text/markdown": [
       "<h4 id=\"random_split\"><code>random_split</code><a href=\"https://github.com/fastai/fastai/blob/master/fastai/core.py#L95\" class=\"source_link\">[source]</a></h4>\n",
       "\n",
       "> <code>random_split</code>(`valid_pct`:`float`, `arrs`:`NPArrayableList`) → `SplitArrayList`\n",
       "\n",
       "Randomly split `arrs` with `valid_pct` ratio. good for creating validation set.  "
      ],
      "text/plain": [
       "<IPython.core.display.Markdown object>"
      ]
     },
     "metadata": {},
     "output_type": "display_data"
    }
   ],
   "source": [
    "show_doc(random_split)"
   ]
  },
  {
   "cell_type": "code",
   "execution_count": null,
   "metadata": {
    "hide_input": true
   },
   "outputs": [
    {
     "data": {
      "text/markdown": [
       "<h4 id=\"range_of\"><code>range_of</code><a href=\"https://github.com/fastai/fastai/blob/master/fastai/core.py#L176\" class=\"source_link\">[source]</a></h4>\n",
       "\n",
       "> <code>range_of</code>(`x`)\n",
       "\n",
       "Create a range from 0 to `len(x)`.  "
      ],
      "text/plain": [
       "<IPython.core.display.Markdown object>"
      ]
     },
     "metadata": {},
     "output_type": "display_data"
    }
   ],
   "source": [
    "show_doc(range_of)"
   ]
  },
  {
   "cell_type": "code",
   "execution_count": null,
   "metadata": {
    "hide_input": true
   },
   "outputs": [
    {
     "data": {
      "text/markdown": [
       "<h4 id=\"series2cat\"><code>series2cat</code><a href=\"https://github.com/fastai/fastai/blob/master/fastai/core.py#L141\" class=\"source_link\">[source]</a></h4>\n",
       "\n",
       "> <code>series2cat</code>(`df`:`DataFrame`, `col_names`)\n",
       "\n",
       "Categorifies the columns `col_names` in `df`.  "
      ],
      "text/plain": [
       "<IPython.core.display.Markdown object>"
      ]
     },
     "metadata": {},
     "output_type": "display_data"
    }
   ],
   "source": [
    "show_doc(series2cat)"
   ]
  },
  {
   "cell_type": "code",
   "execution_count": null,
   "metadata": {
    "hide_input": true
   },
   "outputs": [
    {
     "data": {
      "text/markdown": [
       "<h4 id=\"split_kwargs_by_func\"><code>split_kwargs_by_func</code><a href=\"https://github.com/fastai/fastai/blob/master/fastai/core.py#L234\" class=\"source_link\">[source]</a></h4>\n",
       "\n",
       "> <code>split_kwargs_by_func</code>(`kwargs`, `func`)\n",
       "\n",
       "Split `kwargs` between those expected by `func` and the others.  "
      ],
      "text/plain": [
       "<IPython.core.display.Markdown object>"
      ]
     },
     "metadata": {},
     "output_type": "display_data"
    }
   ],
   "source": [
    "show_doc(split_kwargs_by_func)"
   ]
  },
  {
   "cell_type": "code",
   "execution_count": null,
   "metadata": {
    "hide_input": true
   },
   "outputs": [
    {
     "data": {
      "text/markdown": [
       "<h4 id=\"to_int\"><code>to_int</code><a href=\"https://github.com/fastai/fastai/blob/master/fastai/core.py#L59\" class=\"source_link\">[source]</a></h4>\n",
       "\n",
       "> <code>to_int</code>(`b`:`Any`) → `Union`\\[`int`, `List`\\[`int`\\]\\]\n",
       "\n",
       "Convert `b` to an int or list of ints (if [`is_listy`](/core.html#is_listy)); raises exception if not convertible  "
      ],
      "text/plain": [
       "<IPython.core.display.Markdown object>"
      ]
     },
     "metadata": {},
     "output_type": "display_data"
    }
   ],
   "source": [
    "show_doc(to_int)"
   ]
  },
  {
   "cell_type": "code",
   "execution_count": null,
   "metadata": {
    "hide_input": true
   },
   "outputs": [
    {
     "data": {
      "text/markdown": [
       "<h4 id=\"uniqueify\"><code>uniqueify</code><a href=\"https://github.com/fastai/fastai/blob/master/fastai/core.py#L72\" class=\"source_link\">[source]</a></h4>\n",
       "\n",
       "> <code>uniqueify</code>(`x`:`Series`) → `List`\\[`T`\\]\n",
       "\n",
       "Return sorted unique values of `x`.  "
      ],
      "text/plain": [
       "<IPython.core.display.Markdown object>"
      ]
     },
     "metadata": {},
     "output_type": "display_data"
    }
   ],
   "source": [
    "show_doc(uniqueify)"
   ]
  },
  {
   "cell_type": "markdown",
   "metadata": {},
   "source": [
    "## Files management and downloads"
   ]
  },
  {
   "cell_type": "code",
   "execution_count": null,
   "metadata": {
    "hide_input": true
   },
   "outputs": [
    {
     "data": {
      "text/markdown": [
       "<h4 id=\"download_url\"><code>download_url</code><a href=\"https://github.com/fastai/fastai/blob/master/fastai/core.py#L159\" class=\"source_link\">[source]</a></h4>\n",
       "\n",
       "> <code>download_url</code>(`url`:`str`, `dest`:`str`, `overwrite`:`bool`=`False`, `pbar`:`ProgressBar`=`None`, `show_progress`=`True`, `chunk_size`=`1048576`, `timeout`=`4`)\n",
       "\n",
       "Download `url` to `dest` unless it exists and not `overwrite`.  "
      ],
      "text/plain": [
       "<IPython.core.display.Markdown object>"
      ]
     },
     "metadata": {},
     "output_type": "display_data"
    }
   ],
   "source": [
    "show_doc(download_url)"
   ]
  },
  {
   "cell_type": "code",
   "execution_count": null,
   "metadata": {
    "hide_input": true
   },
   "outputs": [
    {
     "data": {
      "text/markdown": [
       "<h4 id=\"find_classes\"><code>find_classes</code><a href=\"https://github.com/fastai/fastai/blob/master/fastai/core.py#L82\" class=\"source_link\">[source]</a></h4>\n",
       "\n",
       "> <code>find_classes</code>(`folder`:`Path`) → `FilePathList`\n",
       "\n",
       "List of label subdirectories in imagenet-style `folder`.  "
      ],
      "text/plain": [
       "<IPython.core.display.Markdown object>"
      ]
     },
     "metadata": {},
     "output_type": "display_data"
    }
   ],
   "source": [
    "show_doc(find_classes)"
   ]
  },
  {
   "cell_type": "code",
   "execution_count": null,
   "metadata": {
    "hide_input": true
   },
   "outputs": [
    {
     "data": {
      "text/markdown": [
       "<h4 id=\"join_path\"><code>join_path</code><a href=\"https://github.com/fastai/fastai/blob/master/fastai/core.py#L185\" class=\"source_link\">[source]</a></h4>\n",
       "\n",
       "> <code>join_path</code>(`fname`:`PathOrStr`, `path`:`PathOrStr`=`'.'`) → `Path`\n",
       "\n",
       "Return `Path(path)/Path(fname)`, `path` defaults to current dir.  "
      ],
      "text/plain": [
       "<IPython.core.display.Markdown object>"
      ]
     },
     "metadata": {},
     "output_type": "display_data"
    }
   ],
   "source": [
    "show_doc(join_path)"
   ]
  },
  {
   "cell_type": "code",
   "execution_count": null,
   "metadata": {
    "hide_input": true
   },
   "outputs": [
    {
     "data": {
      "text/markdown": [
       "<h4 id=\"join_paths\"><code>join_paths</code><a href=\"https://github.com/fastai/fastai/blob/master/fastai/core.py#L189\" class=\"source_link\">[source]</a></h4>\n",
       "\n",
       "> <code>join_paths</code>(`fnames`:`FilePathList`, `path`:`PathOrStr`=`'.'`) → `FilePathList`\n",
       "\n",
       "Join `path` to every file name in `fnames`.  "
      ],
      "text/plain": [
       "<IPython.core.display.Markdown object>"
      ]
     },
     "metadata": {},
     "output_type": "display_data"
    }
   ],
   "source": [
    "show_doc(join_paths)"
   ]
  },
  {
   "cell_type": "code",
   "execution_count": null,
   "metadata": {
    "hide_input": true
   },
   "outputs": [
    {
     "data": {
      "text/markdown": [
       "<h4 id=\"loadtxt_str\"><code>loadtxt_str</code><a href=\"https://github.com/fastai/fastai/blob/master/fastai/core.py#L194\" class=\"source_link\">[source]</a></h4>\n",
       "\n",
       "> <code>loadtxt_str</code>(`path`:`PathOrStr`) → `ndarray`\n",
       "\n",
       "Return `ndarray` of `str` of lines of text from `path`.  "
      ],
      "text/plain": [
       "<IPython.core.display.Markdown object>"
      ]
     },
     "metadata": {},
     "output_type": "display_data"
    }
   ],
   "source": [
    "show_doc(loadtxt_str)"
   ]
  },
  {
   "cell_type": "code",
   "execution_count": null,
   "metadata": {
    "hide_input": true
   },
   "outputs": [
    {
     "data": {
      "text/markdown": [
       "<h4 id=\"save_texts\"><code>save_texts</code><a href=\"https://github.com/fastai/fastai/blob/master/fastai/core.py#L199\" class=\"source_link\">[source]</a></h4>\n",
       "\n",
       "> <code>save_texts</code>(`fname`:`PathOrStr`, `texts`:`StrList`)\n",
       "\n",
       "Save in `fname` the content of `texts`.  "
      ],
      "text/plain": [
       "<IPython.core.display.Markdown object>"
      ]
     },
     "metadata": {},
     "output_type": "display_data"
    }
   ],
   "source": [
    "show_doc(save_texts)"
   ]
  },
  {
   "cell_type": "markdown",
   "metadata": {},
   "source": [
    "## Multiprocessing"
   ]
  },
  {
   "cell_type": "code",
   "execution_count": null,
   "metadata": {
    "hide_input": true
   },
   "outputs": [
    {
     "data": {
      "text/markdown": [
       "<h4 id=\"num_cpus\"><code>num_cpus</code><a href=\"https://github.com/fastai/fastai/blob/master/fastai/core.py#L43\" class=\"source_link\">[source]</a></h4>\n",
       "\n",
       "> <code>num_cpus</code>() → `int`\n",
       "\n",
       "Get number of cpus  "
      ],
      "text/plain": [
       "<IPython.core.display.Markdown object>"
      ]
     },
     "metadata": {},
     "output_type": "display_data"
    }
   ],
   "source": [
    "show_doc(num_cpus)"
   ]
  },
  {
   "cell_type": "code",
   "execution_count": null,
   "metadata": {
    "hide_input": true
   },
   "outputs": [
    {
     "data": {
      "text/markdown": [
       "<h4 id=\"parallel\"><code>parallel</code><a href=\"https://github.com/fastai/fastai/blob/master/fastai/core.py#L277\" class=\"source_link\">[source]</a></h4>\n",
       "\n",
       "> <code>parallel</code>(`func`, `arr`:`Collection`\\[`T_co`\\], `max_workers`:`int`=`None`)\n",
       "\n",
       "Call `func` on every element of `arr` in parallel using `max_workers`.  "
      ],
      "text/plain": [
       "<IPython.core.display.Markdown object>"
      ]
     },
     "metadata": {},
     "output_type": "display_data"
    }
   ],
   "source": [
    "show_doc(parallel)"
   ]
  },
  {
   "cell_type": "code",
   "execution_count": null,
   "metadata": {
    "hide_input": true
   },
   "outputs": [
    {
     "data": {
      "text/markdown": [
       "<h4 id=\"partition\"><code>partition</code><a href=\"https://github.com/fastai/fastai/blob/master/fastai/core.py#L133\" class=\"source_link\">[source]</a></h4>\n",
       "\n",
       "> <code>partition</code>(`a`:`Collection`\\[`T_co`\\], `sz`:`int`) → `List`\\[`Collection`\\[`T_co`\\]\\]\n",
       "\n",
       "Split iterables `a` in equal parts of size `sz`  "
      ],
      "text/plain": [
       "<IPython.core.display.Markdown object>"
      ]
     },
     "metadata": {},
     "output_type": "display_data"
    }
   ],
   "source": [
    "show_doc(partition)"
   ]
  },
  {
   "cell_type": "code",
   "execution_count": null,
   "metadata": {
    "hide_input": true
   },
   "outputs": [
    {
     "data": {
      "text/markdown": [
       "<h4 id=\"partition_by_cores\"><code>partition_by_cores</code><a href=\"https://github.com/fastai/fastai/blob/master/fastai/core.py#L137\" class=\"source_link\">[source]</a></h4>\n",
       "\n",
       "> <code>partition_by_cores</code>(`a`:`Collection`\\[`T_co`\\], `n_cpus`:`int`) → `List`\\[`Collection`\\[`T_co`\\]\\]\n",
       "\n",
       "Split data in `a` equally among `n_cpus` cores  "
      ],
      "text/plain": [
       "<IPython.core.display.Markdown object>"
      ]
     },
     "metadata": {},
     "output_type": "display_data"
    }
   ],
   "source": [
    "show_doc(partition_by_cores)"
   ]
  },
  {
   "cell_type": "markdown",
   "metadata": {},
   "source": [
    "## Data block API"
   ]
  },
  {
   "cell_type": "code",
   "execution_count": null,
   "metadata": {
    "hide_input": true
   },
   "outputs": [
    {
     "data": {
      "text/markdown": [
       "<h3 id=\"ItemBase\"><code>class</code> <code>ItemBase</code><a href=\"https://github.com/fastai/fastai/blob/master/fastai/core.py#L147\" class=\"source_link\">[source]</a></h3>\n",
       "\n",
       "> <code>ItemBase</code>(`data`:`Any`)\n",
       "\n",
       "Base item type in the fastai library.  "
      ],
      "text/plain": [
       "<IPython.core.display.Markdown object>"
      ]
     },
     "metadata": {},
     "output_type": "display_data"
    }
   ],
   "source": [
    "show_doc(ItemBase, title_level=3)"
   ]
  },
  {
   "cell_type": "markdown",
   "metadata": {},
   "source": [
    "All items used in fastai should subclass this. Must have a [`data`](/tabular.data.html#tabular.data) field that will be used when collating in mini-batches."
   ]
  },
  {
   "cell_type": "code",
   "execution_count": null,
   "metadata": {
    "hide_input": true
   },
   "outputs": [
    {
     "data": {
      "text/markdown": [
       "<h4 id=\"ItemBase.apply_tfms\"><code>apply_tfms</code><a href=\"https://github.com/fastai/fastai/blob/master/fastai/core.py#L154\" class=\"source_link\">[source]</a></h4>\n",
       "\n",
       "> <code>apply_tfms</code>(`tfms`:`Collection`\\[`T_co`\\], `kwargs`)\n",
       "\n",
       "Subclass this method if you want to apply data augmentation with `tfms` to this [`ItemBase`](/core.html#ItemBase).  "
      ],
      "text/plain": [
       "<IPython.core.display.Markdown object>"
      ]
     },
     "metadata": {},
     "output_type": "display_data"
    }
   ],
   "source": [
    "show_doc(ItemBase.apply_tfms)"
   ]
  },
  {
   "cell_type": "code",
   "execution_count": null,
   "metadata": {
    "hide_input": true
   },
   "outputs": [
    {
     "data": {
      "text/markdown": [
       "<h4 id=\"ItemBase.show\"><code>show</code><a href=\"https://github.com/fastai/fastai/blob/master/fastai/core.py#L151\" class=\"source_link\">[source]</a></h4>\n",
       "\n",
       "> <code>show</code>(`ax`:`Axes`, `kwargs`)\n",
       "\n",
       "Subclass this method if you want to customize the way this [`ItemBase`](/core.html#ItemBase) is shown on `ax`.  "
      ],
      "text/plain": [
       "<IPython.core.display.Markdown object>"
      ]
     },
     "metadata": {},
     "output_type": "display_data"
    }
   ],
   "source": [
    "show_doc(ItemBase.show)"
   ]
  },
  {
   "cell_type": "markdown",
   "metadata": {},
   "source": [
    "The default behavior is to set the string representation of this object as title of `ax`."
   ]
  },
  {
   "cell_type": "code",
   "execution_count": null,
   "metadata": {
    "hide_input": true
   },
   "outputs": [
    {
     "data": {
      "text/markdown": [
       "<h3 id=\"Category\"><code>class</code> <code>Category</code><a href=\"https://github.com/fastai/fastai/blob/master/fastai/core.py#L253\" class=\"source_link\">[source]</a></h3>\n",
       "\n",
       "> <code>Category</code>(`data`, `obj`) :: [`ItemBase`](/core.html#ItemBase)\n",
       "\n",
       "Basic class for singe classification labels.  "
      ],
      "text/plain": [
       "<IPython.core.display.Markdown object>"
      ]
     },
     "metadata": {},
     "output_type": "display_data"
    }
   ],
   "source": [
    "show_doc(Category, title_level=3)"
   ]
  },
  {
   "cell_type": "markdown",
   "metadata": {},
   "source": [
    "Create a [`Category`](/core.html#Category) with an `obj` of index [`data`](/tabular.data.html#tabular.data) in a certain classes list. "
   ]
  },
  {
   "cell_type": "code",
   "execution_count": null,
   "metadata": {
    "hide_input": true
   },
   "outputs": [
    {
     "data": {
      "text/markdown": [
       "<h3 id=\"EmptyLabel\"><code>class</code> <code>EmptyLabel</code><a href=\"https://github.com/fastai/fastai/blob/master/fastai/core.py#L248\" class=\"source_link\">[source]</a></h3>\n",
       "\n",
       "> <code>EmptyLabel</code>() :: [`ItemBase`](/core.html#ItemBase)\n",
       "\n",
       "Should be used for a dummy label.  "
      ],
      "text/plain": [
       "<IPython.core.display.Markdown object>"
      ]
     },
     "metadata": {},
     "output_type": "display_data"
    }
   ],
   "source": [
    "show_doc(EmptyLabel, title_level=3)"
   ]
  },
  {
   "cell_type": "code",
   "execution_count": null,
   "metadata": {
    "hide_input": true
   },
   "outputs": [
    {
     "data": {
      "text/markdown": [
       "<h3 id=\"MultiCategory\"><code>class</code> <code>MultiCategory</code><a href=\"https://github.com/fastai/fastai/blob/master/fastai/core.py#L259\" class=\"source_link\">[source]</a></h3>\n",
       "\n",
       "> <code>MultiCategory</code>(`data`, `obj`, `raw`) :: [`ItemBase`](/core.html#ItemBase)\n",
       "\n",
       "Basic class for multi-classification labels.  "
      ],
      "text/plain": [
       "<IPython.core.display.Markdown object>"
      ]
     },
     "metadata": {},
     "output_type": "display_data"
    }
   ],
   "source": [
    "show_doc(MultiCategory, title_level=3)"
   ]
  },
  {
   "cell_type": "markdown",
   "metadata": {},
   "source": [
    "Create a [`MultiCategory`](/core.html#MultiCategory) with an `obj` that is a collection of labels. [`data`](/tabular.data.html#tabular.data) corresponds to the one-hot encoded labels and `raw` is a list of associated string."
   ]
  },
  {
   "cell_type": "markdown",
   "metadata": {},
   "source": [
    "## Others"
   ]
  },
  {
   "cell_type": "code",
   "execution_count": null,
   "metadata": {
    "hide_input": true
   },
   "outputs": [
    {
     "data": {
      "text/markdown": [
       "<h4 id=\"camel2snake\"><code>camel2snake</code><a href=\"https://github.com/fastai/fastai/blob/master/fastai/core.py#L113\" class=\"source_link\">[source]</a></h4>\n",
       "\n",
       "> <code>camel2snake</code>(`name`:`str`) → `str`\n",
       "\n",
       "Change `name` from camel to snake style.  "
      ],
      "text/plain": [
       "<IPython.core.display.Markdown object>"
      ]
     },
     "metadata": {},
     "output_type": "display_data"
    }
   ],
   "source": [
    "show_doc(camel2snake)"
   ]
  },
  {
   "cell_type": "code",
   "execution_count": null,
   "metadata": {},
   "outputs": [
    {
     "data": {
      "text/plain": [
       "'device_data_loader'"
      ]
     },
     "execution_count": null,
     "metadata": {},
     "output_type": "execute_result"
    }
   ],
   "source": [
    "camel2snake('DeviceDataLoader')"
   ]
  },
  {
   "cell_type": "code",
   "execution_count": null,
   "metadata": {
    "hide_input": true
   },
   "outputs": [
    {
     "data": {
      "text/markdown": [
       "<h4 id=\"even_mults\"><code>even_mults</code><a href=\"https://github.com/fastai/fastai/blob/master/fastai/core.py#L118\" class=\"source_link\">[source]</a></h4>\n",
       "\n",
       "> <code>even_mults</code>(`start`:`float`, `stop`:`float`, `n`:`int`) → `ndarray`\n",
       "\n",
       "Build log-stepped array from `start` to `stop` in `n` steps.  "
      ],
      "text/plain": [
       "<IPython.core.display.Markdown object>"
      ]
     },
     "metadata": {},
     "output_type": "display_data"
    }
   ],
   "source": [
    "show_doc(even_mults)"
   ]
  },
  {
   "cell_type": "code",
   "execution_count": null,
   "metadata": {
    "hide_input": true
   },
   "outputs": [
    {
     "data": {
      "text/markdown": [
       "<h4 id=\"func_args\"><code>func_args</code><a href=\"https://github.com/fastai/fastai/blob/master/fastai/core.py#L225\" class=\"source_link\">[source]</a></h4>\n",
       "\n",
       "> <code>func_args</code>(`func`) → `bool`\n",
       "\n",
       "Return the arguments of `func`.  "
      ],
      "text/plain": [
       "<IPython.core.display.Markdown object>"
      ]
     },
     "metadata": {},
     "output_type": "display_data"
    }
   ],
   "source": [
    "show_doc(func_args)"
   ]
  },
  {
   "cell_type": "code",
   "execution_count": null,
   "metadata": {
    "hide_input": true
   },
   "outputs": [
    {
     "data": {
      "text/markdown": [
       "<h4 id=\"noop\"><code>noop</code><a href=\"https://github.com/fastai/fastai/blob/master/fastai/core.py#L53\" class=\"source_link\">[source]</a></h4>\n",
       "\n",
       "> <code>noop</code>(`x`)"
      ],
      "text/plain": [
       "<IPython.core.display.Markdown object>"
      ]
     },
     "metadata": {},
     "output_type": "display_data"
    }
   ],
   "source": [
    "show_doc(noop)"
   ]
  },
  {
   "cell_type": "markdown",
   "metadata": {},
   "source": [
    "Return `x`."
   ]
  },
  {
   "cell_type": "code",
   "execution_count": null,
   "metadata": {
    "hide_input": true
   },
   "outputs": [
    {
     "data": {
      "text/markdown": [
       "<h4 id=\"one_hot\"><code>one_hot</code><a href=\"https://github.com/fastai/fastai/blob/master/fastai/core.py#L210\" class=\"source_link\">[source]</a></h4>\n",
       "\n",
       "> <code>one_hot</code>(`x`:`Collection`\\[`int`\\], `c`:`int`)\n",
       "\n",
       "One-hot encode `x` with `c` classes.  "
      ],
      "text/plain": [
       "<IPython.core.display.Markdown object>"
      ]
     },
     "metadata": {},
     "output_type": "display_data"
    }
   ],
   "source": [
    "show_doc(one_hot)"
   ]
  },
  {
   "cell_type": "code",
   "execution_count": null,
   "metadata": {
    "hide_input": true
   },
   "outputs": [
    {
     "data": {
      "text/markdown": [
       "<h4 id=\"subplots\"><code>subplots</code><a href=\"https://github.com/fastai/fastai/blob/master/fastai/core.py#L286\" class=\"source_link\">[source]</a></h4>\n",
       "\n",
       "> <code>subplots</code>(`rows`:`int`, `cols`:`int`, `imgsize`:`int`=`4`, `figsize`:`Optional`\\[`Tuple`\\[`int`, `int`\\]\\]=`None`, `title`=`None`, `kwargs`)\n",
       "\n",
       "Like `plt.subplots` but with consistent axs shape, `kwargs` passed to `fig.suptitle` with `title`  "
      ],
      "text/plain": [
       "<IPython.core.display.Markdown object>"
      ]
     },
     "metadata": {},
     "output_type": "display_data"
    }
   ],
   "source": [
    "show_doc(subplots)"
   ]
  },
  {
   "cell_type": "code",
   "execution_count": null,
   "metadata": {
    "hide_input": true
   },
   "outputs": [
    {
     "data": {
      "text/markdown": [
       "<h4 id=\"text2html_table\"><code>text2html_table</code><a href=\"https://github.com/fastai/fastai/blob/master/fastai/core.py#L267\" class=\"source_link\">[source]</a></h4>\n",
       "\n",
       "> <code>text2html_table</code>(`items`:`Tokens`, `widths`:`Collection`\\[`int`\\]) → `str`\n",
       "\n",
       "Put the texts in `items` in an HTML table, `widths` are the widths of the columns in %.  "
      ],
      "text/plain": [
       "<IPython.core.display.Markdown object>"
      ]
     },
     "metadata": {},
     "output_type": "display_data"
    }
   ],
   "source": [
    "show_doc(text2html_table)"
   ]
  },
  {
   "cell_type": "markdown",
   "metadata": {},
   "source": [
    "## Undocumented Methods - Methods moved below this line will intentionally be hidden"
   ]
  },
  {
   "cell_type": "markdown",
   "metadata": {},
   "source": [
    "## New Methods - Please document or move to the undocumented section"
   ]
  }
 ],
 "metadata": {
  "jekyll": {
   "keywords": "fastai",
   "summary": "Basic helper functions for the fastai library",
   "title": "core"
  },
  "kernelspec": {
   "display_name": "Python 3",
   "language": "python",
   "name": "python3"
  }
 },
 "nbformat": 4,
 "nbformat_minor": 2
}

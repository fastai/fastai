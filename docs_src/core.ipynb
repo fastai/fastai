{
 "cells": [
  {
   "cell_type": "markdown",
   "metadata": {},
   "source": [
    "# Basic core"
   ]
  },
  {
   "cell_type": "markdown",
   "metadata": {},
   "source": [
    "This module contains all the basic functions we need in other modules of the fastai library (split with [`torch_core`](/torch_core.html#torch_core) that contains the ones requiring pytorch). Its documentation can easily be skipped at a first read, unless you want to know what a given function does."
   ]
  },
  {
   "cell_type": "code",
   "execution_count": 1,
   "metadata": {
    "hide_input": true
   },
   "outputs": [],
   "source": [
    "from fastai.gen_doc.nbdoc import *\n",
    "from fastai.core import * "
   ]
  },
  {
   "cell_type": "markdown",
   "metadata": {},
   "source": [
    "## Global constants"
   ]
  },
  {
   "cell_type": "markdown",
   "metadata": {},
   "source": [
    "`default_cpus = min(16, num_cpus())` <div style=\"text-align: right\"><a href=\"https://github.com/fastai/fastai/blob/master/fastai/core.py#L45\">[source]</a></div>"
   ]
  },
  {
   "cell_type": "markdown",
   "metadata": {},
   "source": [
    "## Check functions"
   ]
  },
  {
   "cell_type": "code",
   "execution_count": 2,
   "metadata": {
    "hide_input": true
   },
   "outputs": [
    {
     "data": {
      "text/markdown": [
       "<h4 id=\"ifnone\"><code>ifnone</code><a href=\"https://github.com/fastai/fastai/blob/master/fastai/core.py#L57\" class=\"source_link\">[source]</a></h4>\n",
       "\n",
       "> <code>ifnone</code>(`a`:`Any`, `b`:`Any`) → `Any`\n",
       "\n",
       "`a` if `a` is not None, otherwise `b`.  "
      ],
      "text/plain": [
       "<IPython.core.display.Markdown object>"
      ]
     },
     "metadata": {},
     "output_type": "display_data"
    }
   ],
   "source": [
    "show_doc(ifnone)"
   ]
  },
  {
   "cell_type": "code",
   "execution_count": 3,
   "metadata": {
    "hide_input": true
   },
   "outputs": [
    {
     "data": {
      "text/markdown": [
       "<h4 id=\"is_listy\"><code>is_listy</code><a href=\"https://github.com/fastai/fastai/blob/master/fastai/core.py#L48\" class=\"source_link\">[source]</a></h4>\n",
       "\n",
       "> <code>is_listy</code>(`x`:`Any`) → `bool`"
      ],
      "text/plain": [
       "<IPython.core.display.Markdown object>"
      ]
     },
     "metadata": {},
     "output_type": "display_data"
    }
   ],
   "source": [
    "show_doc(is_listy)"
   ]
  },
  {
   "cell_type": "markdown",
   "metadata": {},
   "source": [
    "Check if `x` is a `Collection`."
   ]
  },
  {
   "cell_type": "code",
   "execution_count": 4,
   "metadata": {
    "hide_input": true
   },
   "outputs": [
    {
     "data": {
      "text/markdown": [
       "<h4 id=\"is_tuple\"><code>is_tuple</code><a href=\"https://github.com/fastai/fastai/blob/master/fastai/core.py#L49\" class=\"source_link\">[source]</a></h4>\n",
       "\n",
       "> <code>is_tuple</code>(`x`:`Any`) → `bool`"
      ],
      "text/plain": [
       "<IPython.core.display.Markdown object>"
      ]
     },
     "metadata": {},
     "output_type": "display_data"
    }
   ],
   "source": [
    "show_doc(is_tuple)"
   ]
  },
  {
   "cell_type": "markdown",
   "metadata": {},
   "source": [
    "Check if `x` is a `tuple`."
   ]
  },
  {
   "cell_type": "markdown",
   "metadata": {},
   "source": [
    "## Collection related functions"
   ]
  },
  {
   "cell_type": "code",
   "execution_count": 5,
   "metadata": {
    "hide_input": true
   },
   "outputs": [
    {
     "data": {
      "text/markdown": [
       "<h4 id=\"arrays_split\"><code>arrays_split</code><a href=\"https://github.com/fastai/fastai/blob/master/fastai/core.py#L74\" class=\"source_link\">[source]</a></h4>\n",
       "\n",
       "> <code>arrays_split</code>(`mask`:`ndarray`, `arrs`:`NPArrayableList`) → `SplitArrayList`\n",
       "\n",
       "Given `arrs` is [a,b,...] and `mask`index - return[(a[mask],a[~mask]),(b[mask],b[~mask]),...].  "
      ],
      "text/plain": [
       "<IPython.core.display.Markdown object>"
      ]
     },
     "metadata": {},
     "output_type": "display_data"
    }
   ],
   "source": [
    "show_doc(arrays_split)"
   ]
  },
  {
   "cell_type": "code",
   "execution_count": 6,
   "metadata": {
    "hide_input": true
   },
   "outputs": [
    {
     "data": {
      "text/markdown": [
       "<h4 id=\"extract_kwargs\"><code>extract_kwargs</code><a href=\"https://github.com/fastai/fastai/blob/master/fastai/core.py#L107\" class=\"source_link\">[source]</a></h4>\n",
       "\n",
       "> <code>extract_kwargs</code>(`names`:`StrList`, `kwargs`:`KWArgs`)\n",
       "\n",
       "Extract the keys in `names` from the `kwargs`.  "
      ],
      "text/plain": [
       "<IPython.core.display.Markdown object>"
      ]
     },
     "metadata": {},
     "output_type": "display_data"
    }
   ],
   "source": [
    "show_doc(extract_kwargs)"
   ]
  },
  {
   "cell_type": "code",
   "execution_count": 7,
   "metadata": {
    "hide_input": true
   },
   "outputs": [
    {
     "data": {
      "text/markdown": [
       "<h4 id=\"idx_dict\"><code>idx_dict</code><a href=\"https://github.com/fastai/fastai/blob/master/fastai/core.py#L65\" class=\"source_link\">[source]</a></h4>\n",
       "\n",
       "> <code>idx_dict</code>(`a`)"
      ],
      "text/plain": [
       "<IPython.core.display.Markdown object>"
      ]
     },
     "metadata": {},
     "output_type": "display_data"
    }
   ],
   "source": [
    "show_doc(idx_dict)"
   ]
  },
  {
   "cell_type": "markdown",
   "metadata": {},
   "source": [
    "Create a dictionary value to index from `a`."
   ]
  },
  {
   "cell_type": "code",
   "execution_count": null,
   "metadata": {},
   "outputs": [
    {
     "data": {
      "text/plain": [
       "{'a': 0, 'b': 1, 'c': 2}"
      ]
     },
     "execution_count": null,
     "metadata": {},
     "output_type": "execute_result"
    }
   ],
   "source": [
    "idx_dict(['a','b','c'])"
   ]
  },
  {
   "cell_type": "code",
   "execution_count": 8,
   "metadata": {
    "hide_input": true
   },
   "outputs": [
    {
     "data": {
      "text/markdown": [
       "<h4 id=\"listify\"><code>listify</code><a href=\"https://github.com/fastai/fastai/blob/master/fastai/core.py#L86\" class=\"source_link\">[source]</a></h4>\n",
       "\n",
       "> <code>listify</code>(`p`:`OptListOrItem`=`None`, `q`:`OptListOrItem`=`None`)\n",
       "\n",
       "Make `p` same length as `q`  "
      ],
      "text/plain": [
       "<IPython.core.display.Markdown object>"
      ]
     },
     "metadata": {},
     "output_type": "display_data"
    }
   ],
   "source": [
    "show_doc(listify)"
   ]
  },
  {
   "cell_type": "code",
   "execution_count": 9,
   "metadata": {
    "hide_input": true
   },
   "outputs": [
    {
     "data": {
      "text/markdown": [
       "<h4 id=\"random_split\"><code>random_split</code><a href=\"https://github.com/fastai/fastai/blob/master/fastai/core.py#L80\" class=\"source_link\">[source]</a></h4>\n",
       "\n",
       "> <code>random_split</code>(`valid_pct`:`float`, `arrs`:`NPArrayableList`) → `SplitArrayList`\n",
       "\n",
       "Randomly split `arrs` with `valid_pct` ratio. good for creating validation set.  "
      ],
      "text/plain": [
       "<IPython.core.display.Markdown object>"
      ]
     },
     "metadata": {},
     "output_type": "display_data"
    }
   ],
   "source": [
    "show_doc(random_split)"
   ]
  },
  {
   "cell_type": "code",
   "execution_count": 10,
   "metadata": {
    "hide_input": true
   },
   "outputs": [
    {
     "data": {
      "text/markdown": [
       "<h4 id=\"series2cat\"><code>series2cat</code><a href=\"https://github.com/fastai/fastai/blob/master/fastai/core.py#L124\" class=\"source_link\">[source]</a></h4>\n",
       "\n",
       "> <code>series2cat</code>(`df`:`DataFrame`, `col_names`)\n",
       "\n",
       "Categorifies the columns `col_names` in `df`.  "
      ],
      "text/plain": [
       "<IPython.core.display.Markdown object>"
      ]
     },
     "metadata": {},
     "output_type": "display_data"
    }
   ],
   "source": [
    "show_doc(series2cat)"
   ]
  },
  {
   "cell_type": "code",
   "execution_count": 11,
   "metadata": {
    "hide_input": true
   },
   "outputs": [
    {
     "data": {
      "text/markdown": [
       "<h4 id=\"uniqueify\"><code>uniqueify</code><a href=\"https://github.com/fastai/fastai/blob/master/fastai/core.py#L61\" class=\"source_link\">[source]</a></h4>\n",
       "\n",
       "> <code>uniqueify</code>(`x`:`Series`) → `List`\n",
       "\n",
       "Return unique values of `x`  "
      ],
      "text/plain": [
       "<IPython.core.display.Markdown object>"
      ]
     },
     "metadata": {},
     "output_type": "display_data"
    }
   ],
   "source": [
    "show_doc(uniqueify)"
   ]
  },
  {
   "cell_type": "markdown",
   "metadata": {},
   "source": [
    "Return the unique elements in `x`."
   ]
  },
  {
   "cell_type": "markdown",
   "metadata": {},
   "source": [
    "## Files management and downloads"
   ]
  },
  {
   "cell_type": "code",
   "execution_count": 12,
   "metadata": {
    "hide_input": true
   },
   "outputs": [
    {
     "data": {
      "text/markdown": [
       "<h4 id=\"download_url\"><code>download_url</code><a href=\"https://github.com/fastai/fastai/blob/master/fastai/core.py#L137\" class=\"source_link\">[source]</a></h4>\n",
       "\n",
       "> <code>download_url</code>(`url`:`str`, `dest`:`str`, `overwrite`:`bool`=`False`, `pbar`:`ProgressBar`=`None`, `show_progress`=`True`)\n",
       "\n",
       "Download `url` to `dest` unless it exists and not `overwrite`.  "
      ],
      "text/plain": [
       "<IPython.core.display.Markdown object>"
      ]
     },
     "metadata": {},
     "output_type": "display_data"
    }
   ],
   "source": [
    "show_doc(download_url)"
   ]
  },
  {
   "cell_type": "code",
   "execution_count": 13,
   "metadata": {
    "hide_input": true
   },
   "outputs": [
    {
     "data": {
      "text/markdown": [
       "<h4 id=\"find_classes\"><code>find_classes</code><a href=\"https://github.com/fastai/fastai/blob/master/fastai/core.py#L67\" class=\"source_link\">[source]</a></h4>\n",
       "\n",
       "> <code>find_classes</code>(`folder`:`Path`) → `FilePathList`\n",
       "\n",
       "List of label subdirectories in imagenet-style `folder`.  "
      ],
      "text/plain": [
       "<IPython.core.display.Markdown object>"
      ]
     },
     "metadata": {},
     "output_type": "display_data"
    }
   ],
   "source": [
    "show_doc(find_classes)"
   ]
  },
  {
   "cell_type": "code",
   "execution_count": 14,
   "metadata": {
    "hide_input": true
   },
   "outputs": [
    {
     "data": {
      "text/markdown": [
       "<h4 id=\"join_path\"><code>join_path</code><a href=\"https://github.com/fastai/fastai/blob/master/fastai/core.py#L158\" class=\"source_link\">[source]</a></h4>\n",
       "\n",
       "> <code>join_path</code>(`fname`:`PathOrStr`, `path`:`PathOrStr`=`'.'`) → `Path`\n",
       "\n",
       "Return `Path(path)/Path(fname)`, `path` defaults to current dir.  "
      ],
      "text/plain": [
       "<IPython.core.display.Markdown object>"
      ]
     },
     "metadata": {},
     "output_type": "display_data"
    }
   ],
   "source": [
    "show_doc(join_path)"
   ]
  },
  {
   "cell_type": "code",
   "execution_count": 15,
   "metadata": {
    "hide_input": true
   },
   "outputs": [
    {
     "data": {
      "text/markdown": [
       "<h4 id=\"join_paths\"><code>join_paths</code><a href=\"https://github.com/fastai/fastai/blob/master/fastai/core.py#L162\" class=\"source_link\">[source]</a></h4>\n",
       "\n",
       "> <code>join_paths</code>(`fnames`:`FilePathList`, `path`:`PathOrStr`=`'.'`) → `FilePathList`\n",
       "\n",
       "Join `path` to every file name in `fnames`.  "
      ],
      "text/plain": [
       "<IPython.core.display.Markdown object>"
      ]
     },
     "metadata": {},
     "output_type": "display_data"
    }
   ],
   "source": [
    "show_doc(join_paths)"
   ]
  },
  {
   "cell_type": "code",
   "execution_count": 16,
   "metadata": {
    "hide_input": true
   },
   "outputs": [
    {
     "data": {
      "text/markdown": [
       "<h4 id=\"loadtxt_str\"><code>loadtxt_str</code><a href=\"https://github.com/fastai/fastai/blob/master/fastai/core.py#L167\" class=\"source_link\">[source]</a></h4>\n",
       "\n",
       "> <code>loadtxt_str</code>(`path`:`PathOrStr`) → `ndarray`\n",
       "\n",
       "Return `ndarray` of `str` of lines of text from `path`.  "
      ],
      "text/plain": [
       "<IPython.core.display.Markdown object>"
      ]
     },
     "metadata": {},
     "output_type": "display_data"
    }
   ],
   "source": [
    "show_doc(loadtxt_str)"
   ]
  },
  {
   "cell_type": "code",
   "execution_count": 17,
   "metadata": {
    "hide_input": true
   },
   "outputs": [
    {
     "data": {
      "text/markdown": [
       "<h4 id=\"save_texts\"><code>save_texts</code><a href=\"https://github.com/fastai/fastai/blob/master/fastai/core.py#L172\" class=\"source_link\">[source]</a></h4>\n",
       "\n",
       "> <code>save_texts</code>(`fname`:`PathOrStr`, `texts`:`StrList`)\n",
       "\n",
       "Save in `fname` the content of `texts`.  "
      ],
      "text/plain": [
       "<IPython.core.display.Markdown object>"
      ]
     },
     "metadata": {},
     "output_type": "display_data"
    }
   ],
   "source": [
    "show_doc(save_texts)"
   ]
  },
  {
   "cell_type": "markdown",
   "metadata": {},
   "source": [
    "## Others"
   ]
  },
  {
   "cell_type": "code",
   "execution_count": 18,
   "metadata": {
    "hide_input": true
   },
   "outputs": [
    {
     "data": {
      "text/markdown": [
       "<h3 id=\"ItemBase\"><code>class</code> <code>ItemBase</code><a href=\"https://github.com/fastai/fastai/blob/master/fastai/core.py#L128\" class=\"source_link\">[source]</a></h3>\n",
       "\n",
       "> <code>ItemBase</code>()\n",
       "\n",
       "All transformable dataset items use this type.  "
      ],
      "text/plain": [
       "<IPython.core.display.Markdown object>"
      ]
     },
     "metadata": {},
     "output_type": "display_data"
    }
   ],
   "source": [
    "show_doc(ItemBase, title_level=3)"
   ]
  },
  {
   "cell_type": "code",
   "execution_count": 19,
   "metadata": {
    "hide_input": true
   },
   "outputs": [
    {
     "data": {
      "text/markdown": [
       "<h4 id=\"camel2snake\"><code>camel2snake</code><a href=\"https://github.com/fastai/fastai/blob/master/fastai/core.py#L97\" class=\"source_link\">[source]</a></h4>\n",
       "\n",
       "> <code>camel2snake</code>(`name`:`str`) → `str`"
      ],
      "text/plain": [
       "<IPython.core.display.Markdown object>"
      ]
     },
     "metadata": {},
     "output_type": "display_data"
    }
   ],
   "source": [
    "show_doc(camel2snake)"
   ]
  },
  {
   "cell_type": "markdown",
   "metadata": {},
   "source": [
    "Format `name` by removing capital letters from a class-style name and separates the subwords with underscores."
   ]
  },
  {
   "cell_type": "code",
   "execution_count": null,
   "metadata": {},
   "outputs": [
    {
     "data": {
      "text/plain": [
       "'device_data_loader'"
      ]
     },
     "execution_count": null,
     "metadata": {},
     "output_type": "execute_result"
    }
   ],
   "source": [
    "camel2snake('DeviceDataLoader')"
   ]
  },
  {
   "cell_type": "code",
   "execution_count": 20,
   "metadata": {
    "hide_input": true
   },
   "outputs": [
    {
     "data": {
      "text/markdown": [
       "<h4 id=\"even_mults\"><code>even_mults</code><a href=\"https://github.com/fastai/fastai/blob/master/fastai/core.py#L101\" class=\"source_link\">[source]</a></h4>\n",
       "\n",
       "> <code>even_mults</code>(`start`:`float`, `stop`:`float`, `n`:`int`) → `ndarray`\n",
       "\n",
       "Build evenly stepped schedule from `start` to `stop` in `n` steps.  "
      ],
      "text/plain": [
       "<IPython.core.display.Markdown object>"
      ]
     },
     "metadata": {},
     "output_type": "display_data"
    }
   ],
   "source": [
    "show_doc(even_mults)"
   ]
  },
  {
   "cell_type": "code",
   "execution_count": 21,
   "metadata": {
    "hide_input": true
   },
   "outputs": [
    {
     "data": {
      "text/markdown": [
       "<h4 id=\"noop\"><code>noop</code><a href=\"https://github.com/fastai/fastai/blob/master/fastai/core.py#L50\" class=\"source_link\">[source]</a></h4>\n",
       "\n",
       "> <code>noop</code>(`x`)"
      ],
      "text/plain": [
       "<IPython.core.display.Markdown object>"
      ]
     },
     "metadata": {},
     "output_type": "display_data"
    }
   ],
   "source": [
    "show_doc(noop)"
   ]
  },
  {
   "cell_type": "markdown",
   "metadata": {},
   "source": [
    "Return `x`."
   ]
  },
  {
   "cell_type": "code",
   "execution_count": 22,
   "metadata": {
    "hide_input": true
   },
   "outputs": [
    {
     "data": {
      "text/markdown": [
       "<h4 id=\"num_cpus\"><code>num_cpus</code><a href=\"https://github.com/fastai/fastai/blob/master/fastai/core.py#L43\" class=\"source_link\">[source]</a></h4>\n",
       "\n",
       "> <code>num_cpus</code>() → `int`\n",
       "\n",
       "Get number of cpus  "
      ],
      "text/plain": [
       "<IPython.core.display.Markdown object>"
      ]
     },
     "metadata": {},
     "output_type": "display_data"
    }
   ],
   "source": [
    "show_doc(num_cpus)"
   ]
  },
  {
   "cell_type": "code",
   "execution_count": 23,
   "metadata": {
    "hide_input": true
   },
   "outputs": [
    {
     "data": {
      "text/markdown": [
       "<h4 id=\"partition\"><code>partition</code><a href=\"https://github.com/fastai/fastai/blob/master/fastai/core.py#L116\" class=\"source_link\">[source]</a></h4>\n",
       "\n",
       "> <code>partition</code>(`a`:`Collection`, `sz`:`int`) → `List`\\[`Collection`\\]\n",
       "\n",
       "Split iterables `a` in equal parts of size `sz`  "
      ],
      "text/plain": [
       "<IPython.core.display.Markdown object>"
      ]
     },
     "metadata": {},
     "output_type": "display_data"
    }
   ],
   "source": [
    "show_doc(partition)"
   ]
  },
  {
   "cell_type": "code",
   "execution_count": 24,
   "metadata": {
    "hide_input": true
   },
   "outputs": [
    {
     "data": {
      "text/markdown": [
       "<h4 id=\"partition_by_cores\"><code>partition_by_cores</code><a href=\"https://github.com/fastai/fastai/blob/master/fastai/core.py#L120\" class=\"source_link\">[source]</a></h4>\n",
       "\n",
       "> <code>partition_by_cores</code>(`a`:`Collection`, `n_cpus`:`int`) → `List`\\[`Collection`\\]\n",
       "\n",
       "Split data in `a` equally among `n_cpus` cores  "
      ],
      "text/plain": [
       "<IPython.core.display.Markdown object>"
      ]
     },
     "metadata": {},
     "output_type": "display_data"
    }
   ],
   "source": [
    "show_doc(partition_by_cores)"
   ]
  },
  {
   "cell_type": "markdown",
   "metadata": {},
   "source": [
    "## Undocumented Methods - Methods moved below this line will intentionally be hidden"
   ]
  },
  {
   "cell_type": "markdown",
   "metadata": {},
   "source": [
    "## New Methods - Please document or move to the undocumented section"
   ]
  },
  {
   "cell_type": "code",
   "execution_count": 25,
   "metadata": {
    "hide_input": true
   },
   "outputs": [
    {
     "data": {
      "text/markdown": [
       "<h4 id=\"range_of\"><code>range_of</code><a href=\"https://github.com/fastai/fastai/blob/master/fastai/core.py#L153\" class=\"source_link\">[source]</a></h4>\n",
       "\n",
       "> <code>range_of</code>(`x`)"
      ],
      "text/plain": [
       "<IPython.core.display.Markdown object>"
      ]
     },
     "metadata": {},
     "output_type": "display_data"
    }
   ],
   "source": [
    "show_doc(range_of)"
   ]
  },
  {
   "cell_type": "markdown",
   "metadata": {},
   "source": []
  },
  {
   "cell_type": "code",
   "execution_count": 26,
   "metadata": {
    "hide_input": true
   },
   "outputs": [
    {
     "data": {
      "text/markdown": [
       "<h4 id=\"to_int\"><code>to_int</code><a href=\"https://github.com/fastai/fastai/blob/master/fastai/core.py#L52\" class=\"source_link\">[source]</a></h4>\n",
       "\n",
       "> <code>to_int</code>(`b`:`Any`) → `Union`\\[`int`, `List`\\[`int`\\]\\]\n",
       "\n",
       "Convert `b` to an int or list of ints (if [`is_listy`](/core.html#is_listy)); raises exception if not convertible  "
      ],
      "text/plain": [
       "<IPython.core.display.Markdown object>"
      ]
     },
     "metadata": {},
     "output_type": "display_data"
    }
   ],
   "source": [
    "show_doc(to_int)"
   ]
  },
  {
   "cell_type": "markdown",
   "metadata": {},
   "source": []
  },
  {
   "cell_type": "code",
   "execution_count": 27,
   "metadata": {
    "hide_input": true
   },
   "outputs": [
    {
     "data": {
      "text/markdown": [
       "<h4 id=\"arange_of\"><code>arange_of</code><a href=\"https://github.com/fastai/fastai/blob/master/fastai/core.py#L154\" class=\"source_link\">[source]</a></h4>\n",
       "\n",
       "> <code>arange_of</code>(`x`)"
      ],
      "text/plain": [
       "<IPython.core.display.Markdown object>"
      ]
     },
     "metadata": {},
     "output_type": "display_data"
    }
   ],
   "source": [
    "show_doc(arange_of)"
   ]
  },
  {
   "cell_type": "markdown",
   "metadata": {},
   "source": []
  }
 ],
 "metadata": {
  "jekyll": {
   "keywords": "fastai",
   "summary": "Basic helper functions for the fastai library",
   "title": "core"
  },
  "kernelspec": {
   "display_name": "Python 3",
   "language": "python",
   "name": "python3"
  },
  "language_info": {
   "codemirror_mode": {
    "name": "ipython",
    "version": 3
   },
   "file_extension": ".py",
   "mimetype": "text/x-python",
   "name": "python",
   "nbconvert_exporter": "python",
   "pygments_lexer": "ipython3",
   "version": "3.6.5"
  }
 },
 "nbformat": 4,
 "nbformat_minor": 2
}

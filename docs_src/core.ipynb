{
 "cells": [
  {
   "cell_type": "markdown",
   "metadata": {},
   "source": [
    "# Basic core"
   ]
  },
  {
   "cell_type": "markdown",
   "metadata": {},
   "source": [
    "This module contains all the basic functions we need in other modules of the fastai library (split with [`torch_core`](/torch_core.html#torch_core) that contains the ones requiring pytorch). Its documentation can easily be skipped at a first read, unless you want to know what a given function does."
   ]
  },
  {
   "cell_type": "code",
   "execution_count": null,
   "metadata": {
    "hide_input": true
   },
   "outputs": [],
   "source": [
    "from fastai.gen_doc.nbdoc import *\n",
    "from fastai.core import * "
   ]
  },
  {
   "cell_type": "markdown",
   "metadata": {},
   "source": [
    "## Global constants"
   ]
  },
  {
   "cell_type": "markdown",
   "metadata": {},
   "source": [
    "`default_cpus = min(16, num_cpus())` <div style=\"text-align: right\"><a href=\"https://github.com/fastai/fastai/blob/master/fastai/core.py#L45\">[source]</a></div>"
   ]
  },
  {
   "cell_type": "markdown",
   "metadata": {},
   "source": [
    "## Check functions"
   ]
  },
  {
   "cell_type": "code",
   "execution_count": null,
   "metadata": {
    "hide_input": true
   },
   "outputs": [
    {
     "data": {
      "text/markdown": [
       "<h4 id=\"has_arg\"><code>has_arg</code><a href=\"https://github.com/fastai/fastai/blob/master/fastai/core.py#L211\" class=\"source_link\">[source]</a></h4>\n",
       "\n",
       "> <code>has_arg</code>(`func`, `arg`) → `bool`"
      ],
      "text/plain": [
       "<IPython.core.display.Markdown object>"
      ]
     },
     "metadata": {},
     "output_type": "display_data"
    }
   ],
   "source": [
    "show_doc(has_arg)"
   ]
  },
  {
   "cell_type": "markdown",
   "metadata": {},
   "source": [
    "Check if `func` accepts `arg` as an argument."
   ]
  },
  {
   "cell_type": "code",
   "execution_count": null,
   "metadata": {
    "hide_input": true
   },
   "outputs": [
    {
     "data": {
      "text/markdown": [
       "<h4 id=\"ifnone\"><code>ifnone</code><a href=\"https://github.com/fastai/fastai/blob/master/fastai/core.py#L57\" class=\"source_link\">[source]</a></h4>\n",
       "\n",
       "> <code>ifnone</code>(`a`:`Any`, `b`:`Any`) → `Any`\n",
       "\n",
       "`a` if `a` is not None, otherwise `b`.  "
      ],
      "text/plain": [
       "<IPython.core.display.Markdown object>"
      ]
     },
     "metadata": {},
     "output_type": "display_data"
    }
   ],
   "source": [
    "show_doc(ifnone)"
   ]
  },
  {
   "cell_type": "code",
   "execution_count": null,
   "metadata": {
    "hide_input": true
   },
   "outputs": [
    {
     "data": {
      "text/markdown": [
       "<h4 id=\"is1d\"><code>is1d</code><a href=\"https://github.com/fastai/fastai/blob/master/fastai/core.py#L61\" class=\"source_link\">[source]</a></h4>\n",
       "\n",
       "> <code>is1d</code>(`a`:`Collection`) → `bool`\n",
       "\n",
       "Returns True if a collection is one dimensional  "
      ],
      "text/plain": [
       "<IPython.core.display.Markdown object>"
      ]
     },
     "metadata": {},
     "output_type": "display_data"
    }
   ],
   "source": [
    "show_doc(is1d)"
   ]
  },
  {
   "cell_type": "code",
   "execution_count": null,
   "metadata": {
    "hide_input": true
   },
   "outputs": [
    {
     "data": {
      "text/markdown": [
       "<h4 id=\"is_listy\"><code>is_listy</code><a href=\"https://github.com/fastai/fastai/blob/master/fastai/core.py#L48\" class=\"source_link\">[source]</a></h4>\n",
       "\n",
       "> <code>is_listy</code>(`x`:`Any`) → `bool`"
      ],
      "text/plain": [
       "<IPython.core.display.Markdown object>"
      ]
     },
     "metadata": {},
     "output_type": "display_data"
    }
   ],
   "source": [
    "show_doc(is_listy)"
   ]
  },
  {
   "cell_type": "markdown",
   "metadata": {},
   "source": [
    "Check if `x` is a `Collection`."
   ]
  },
  {
   "cell_type": "code",
   "execution_count": null,
   "metadata": {
    "hide_input": true
   },
   "outputs": [
    {
     "data": {
      "text/markdown": [
       "<h4 id=\"is_tuple\"><code>is_tuple</code><a href=\"https://github.com/fastai/fastai/blob/master/fastai/core.py#L49\" class=\"source_link\">[source]</a></h4>\n",
       "\n",
       "> <code>is_tuple</code>(`x`:`Any`) → `bool`"
      ],
      "text/plain": [
       "<IPython.core.display.Markdown object>"
      ]
     },
     "metadata": {},
     "output_type": "display_data"
    }
   ],
   "source": [
    "show_doc(is_tuple)"
   ]
  },
  {
   "cell_type": "markdown",
   "metadata": {},
   "source": [
    "Check if `x` is a `tuple`."
   ]
  },
  {
   "cell_type": "code",
   "execution_count": null,
   "metadata": {
    "hide_input": true
   },
   "outputs": [
    {
     "data": {
      "text/markdown": [
       "<h4 id=\"try_int\"><code>try_int</code><a href=\"https://github.com/fastai/fastai/blob/master/fastai/core.py#L213\" class=\"source_link\">[source]</a></h4>\n",
       "\n",
       "> <code>try_int</code>(`o`:`Any`) → `Any`\n",
       "\n",
       "Try to conver `o` to int, default to `o` if not possible.  "
      ],
      "text/plain": [
       "<IPython.core.display.Markdown object>"
      ]
     },
     "metadata": {},
     "output_type": "display_data"
    }
   ],
   "source": [
    "show_doc(try_int)"
   ]
  },
  {
   "cell_type": "markdown",
   "metadata": {},
   "source": [
    "## Collection related functions"
   ]
  },
  {
   "cell_type": "code",
   "execution_count": null,
   "metadata": {
    "hide_input": true
   },
   "outputs": [
    {
     "data": {
      "text/markdown": [
       "<h4 id=\"arange_of\"><code>arange_of</code><a href=\"https://github.com/fastai/fastai/blob/master/fastai/core.py#L162\" class=\"source_link\">[source]</a></h4>\n",
       "\n",
       "> <code>arange_of</code>(`x`)"
      ],
      "text/plain": [
       "<IPython.core.display.Markdown object>"
      ]
     },
     "metadata": {},
     "output_type": "display_data"
    }
   ],
   "source": [
    "show_doc(arange_of)"
   ]
  },
  {
   "cell_type": "markdown",
   "metadata": {},
   "source": [
    "Return the numpy array of the range of the same length as `x`."
   ]
  },
  {
   "cell_type": "code",
   "execution_count": null,
   "metadata": {
    "hide_input": true
   },
   "outputs": [
    {
     "data": {
      "text/markdown": [
       "<h4 id=\"arrays_split\"><code>arrays_split</code><a href=\"https://github.com/fastai/fastai/blob/master/fastai/core.py#L78\" class=\"source_link\">[source]</a></h4>\n",
       "\n",
       "> <code>arrays_split</code>(`mask`:`ndarray`, `arrs`:`NPArrayableList`) → `SplitArrayList`\n",
       "\n",
       "Given `arrs` is [a,b,...] and `mask`index - return[(a[mask],a[~mask]),(b[mask],b[~mask]),...].  "
      ],
      "text/plain": [
       "<IPython.core.display.Markdown object>"
      ]
     },
     "metadata": {},
     "output_type": "display_data"
    }
   ],
   "source": [
    "show_doc(arrays_split)"
   ]
  },
  {
   "cell_type": "code",
   "execution_count": null,
   "metadata": {
    "hide_input": true
   },
   "outputs": [
    {
     "data": {
      "text/markdown": [
       "<h4 id=\"df_names_to_idx\"><code>df_names_to_idx</code><a href=\"https://github.com/fastai/fastai/blob/master/fastai/core.py#L185\" class=\"source_link\">[source]</a></h4>\n",
       "\n",
       "> <code>df_names_to_idx</code>(`names`:`Union`\\[`int`, `Collection`\\[`int`\\], `str`, `StrList`\\], `df`:`DataFrame`)\n",
       "\n",
       "Return the column indexes of `names` in `df`.  "
      ],
      "text/plain": [
       "<IPython.core.display.Markdown object>"
      ]
     },
     "metadata": {},
     "output_type": "display_data"
    }
   ],
   "source": [
    "show_doc(df_names_to_idx)"
   ]
  },
  {
   "cell_type": "code",
   "execution_count": null,
   "metadata": {
    "hide_input": true
   },
   "outputs": [
    {
     "data": {
      "text/markdown": [
       "<h4 id=\"extract_kwargs\"><code>extract_kwargs</code><a href=\"https://github.com/fastai/fastai/blob/master/fastai/core.py#L111\" class=\"source_link\">[source]</a></h4>\n",
       "\n",
       "> <code>extract_kwargs</code>(`names`:`StrList`, `kwargs`:`KWArgs`)\n",
       "\n",
       "Extract the keys in `names` from the `kwargs`.  "
      ],
      "text/plain": [
       "<IPython.core.display.Markdown object>"
      ]
     },
     "metadata": {},
     "output_type": "display_data"
    }
   ],
   "source": [
    "show_doc(extract_kwargs)"
   ]
  },
  {
   "cell_type": "code",
   "execution_count": null,
   "metadata": {
    "hide_input": true
   },
   "outputs": [
    {
     "data": {
      "text/markdown": [
       "<h4 id=\"idx_dict\"><code>idx_dict</code><a href=\"https://github.com/fastai/fastai/blob/master/fastai/core.py#L69\" class=\"source_link\">[source]</a></h4>\n",
       "\n",
       "> <code>idx_dict</code>(`a`)"
      ],
      "text/plain": [
       "<IPython.core.display.Markdown object>"
      ]
     },
     "metadata": {},
     "output_type": "display_data"
    }
   ],
   "source": [
    "show_doc(idx_dict)"
   ]
  },
  {
   "cell_type": "markdown",
   "metadata": {},
   "source": [
    "Create a dictionary value to index from `a`."
   ]
  },
  {
   "cell_type": "code",
   "execution_count": null,
   "metadata": {},
   "outputs": [
    {
     "data": {
      "text/plain": [
       "{'a': 0, 'b': 1, 'c': 2}"
      ]
     },
     "execution_count": null,
     "metadata": {},
     "output_type": "execute_result"
    }
   ],
   "source": [
    "idx_dict(['a','b','c'])"
   ]
  },
  {
   "cell_type": "code",
   "execution_count": null,
   "metadata": {
    "hide_input": true
   },
   "outputs": [
    {
     "data": {
      "text/markdown": [
       "<h4 id=\"index_row\"><code>index_row</code><a href=\"https://github.com/fastai/fastai/blob/master/fastai/core.py#L197\" class=\"source_link\">[source]</a></h4>\n",
       "\n",
       "> <code>index_row</code>(`a`:`Collection`, `idxs`:`Collection`\\[`int`\\]) → `Any`\n",
       "\n",
       "Return the slice of `a` corresponding to `idxs`.  "
      ],
      "text/plain": [
       "<IPython.core.display.Markdown object>"
      ]
     },
     "metadata": {},
     "output_type": "display_data"
    }
   ],
   "source": [
    "show_doc(index_row)"
   ]
  },
  {
   "cell_type": "code",
   "execution_count": null,
   "metadata": {
    "hide_input": true
   },
   "outputs": [
    {
     "data": {
      "text/markdown": [
       "<h4 id=\"listify\"><code>listify</code><a href=\"https://github.com/fastai/fastai/blob/master/fastai/core.py#L90\" class=\"source_link\">[source]</a></h4>\n",
       "\n",
       "> <code>listify</code>(`p`:`OptListOrItem`=`None`, `q`:`OptListOrItem`=`None`)\n",
       "\n",
       "Make `p` same length as `q`  "
      ],
      "text/plain": [
       "<IPython.core.display.Markdown object>"
      ]
     },
     "metadata": {},
     "output_type": "display_data"
    }
   ],
   "source": [
    "show_doc(listify)"
   ]
  },
  {
   "cell_type": "code",
   "execution_count": null,
   "metadata": {
    "hide_input": true
   },
   "outputs": [
    {
     "data": {
      "text/markdown": [
       "<h4 id=\"random_split\"><code>random_split</code><a href=\"https://github.com/fastai/fastai/blob/master/fastai/core.py#L84\" class=\"source_link\">[source]</a></h4>\n",
       "\n",
       "> <code>random_split</code>(`valid_pct`:`float`, `arrs`:`NPArrayableList`) → `SplitArrayList`\n",
       "\n",
       "Randomly split `arrs` with `valid_pct` ratio. good for creating validation set.  "
      ],
      "text/plain": [
       "<IPython.core.display.Markdown object>"
      ]
     },
     "metadata": {},
     "output_type": "display_data"
    }
   ],
   "source": [
    "show_doc(random_split)"
   ]
  },
  {
   "cell_type": "code",
   "execution_count": null,
   "metadata": {
    "hide_input": true
   },
   "outputs": [
    {
     "data": {
      "text/markdown": [
       "<h4 id=\"range_of\"><code>range_of</code><a href=\"https://github.com/fastai/fastai/blob/master/fastai/core.py#L161\" class=\"source_link\">[source]</a></h4>\n",
       "\n",
       "> <code>range_of</code>(`x`)"
      ],
      "text/plain": [
       "<IPython.core.display.Markdown object>"
      ]
     },
     "metadata": {},
     "output_type": "display_data"
    }
   ],
   "source": [
    "show_doc(range_of)"
   ]
  },
  {
   "cell_type": "markdown",
   "metadata": {},
   "source": [
    "Make a `range` of the same size as `x`."
   ]
  },
  {
   "cell_type": "code",
   "execution_count": null,
   "metadata": {
    "hide_input": true
   },
   "outputs": [
    {
     "data": {
      "text/markdown": [
       "<h4 id=\"series2cat\"><code>series2cat</code><a href=\"https://github.com/fastai/fastai/blob/master/fastai/core.py#L128\" class=\"source_link\">[source]</a></h4>\n",
       "\n",
       "> <code>series2cat</code>(`df`:`DataFrame`, `col_names`)\n",
       "\n",
       "Categorifies the columns `col_names` in `df`.  "
      ],
      "text/plain": [
       "<IPython.core.display.Markdown object>"
      ]
     },
     "metadata": {},
     "output_type": "display_data"
    }
   ],
   "source": [
    "show_doc(series2cat)"
   ]
  },
  {
   "cell_type": "code",
   "execution_count": null,
   "metadata": {
    "hide_input": true
   },
   "outputs": [
    {
     "data": {
      "text/markdown": [
       "<h4 id=\"to_int\"><code>to_int</code><a href=\"https://github.com/fastai/fastai/blob/master/fastai/core.py#L52\" class=\"source_link\">[source]</a></h4>\n",
       "\n",
       "> <code>to_int</code>(`b`:`Any`) → `Union`\\[`int`, `List`\\[`int`\\]\\]\n",
       "\n",
       "Convert `b` to an int or list of ints (if [`is_listy`](/core.html#is_listy)); raises exception if not convertible  "
      ],
      "text/plain": [
       "<IPython.core.display.Markdown object>"
      ]
     },
     "metadata": {},
     "output_type": "display_data"
    }
   ],
   "source": [
    "show_doc(to_int)"
   ]
  },
  {
   "cell_type": "code",
   "execution_count": null,
   "metadata": {
    "hide_input": true
   },
   "outputs": [
    {
     "data": {
      "text/markdown": [
       "<h4 id=\"uniqueify\"><code>uniqueify</code><a href=\"https://github.com/fastai/fastai/blob/master/fastai/core.py#L65\" class=\"source_link\">[source]</a></h4>\n",
       "\n",
       "> <code>uniqueify</code>(`x`:`Series`) → `List`\n",
       "\n",
       "Return unique values of `x`  "
      ],
      "text/plain": [
       "<IPython.core.display.Markdown object>"
      ]
     },
     "metadata": {},
     "output_type": "display_data"
    }
   ],
   "source": [
    "show_doc(uniqueify)"
   ]
  },
  {
   "cell_type": "markdown",
   "metadata": {},
   "source": [
    "## Files management and downloads"
   ]
  },
  {
   "cell_type": "code",
   "execution_count": null,
   "metadata": {
    "hide_input": true
   },
   "outputs": [
    {
     "data": {
      "text/markdown": [
       "<h4 id=\"download_url\"><code>download_url</code><a href=\"https://github.com/fastai/fastai/blob/master/fastai/core.py#L144\" class=\"source_link\">[source]</a></h4>\n",
       "\n",
       "> <code>download_url</code>(`url`:`str`, `dest`:`str`, `overwrite`:`bool`=`False`, `pbar`:`ProgressBar`=`None`, `show_progress`=`True`, `chunk_size`=`1048576`, `timeout`=`4`)\n",
       "\n",
       "Download `url` to `dest` unless it exists and not `overwrite`.  "
      ],
      "text/plain": [
       "<IPython.core.display.Markdown object>"
      ]
     },
     "metadata": {},
     "output_type": "display_data"
    }
   ],
   "source": [
    "show_doc(download_url)"
   ]
  },
  {
   "cell_type": "code",
   "execution_count": null,
   "metadata": {
    "hide_input": true
   },
   "outputs": [
    {
     "data": {
      "text/markdown": [
       "<h4 id=\"find_classes\"><code>find_classes</code><a href=\"https://github.com/fastai/fastai/blob/master/fastai/core.py#L71\" class=\"source_link\">[source]</a></h4>\n",
       "\n",
       "> <code>find_classes</code>(`folder`:`Path`) → `FilePathList`\n",
       "\n",
       "List of label subdirectories in imagenet-style `folder`.  "
      ],
      "text/plain": [
       "<IPython.core.display.Markdown object>"
      ]
     },
     "metadata": {},
     "output_type": "display_data"
    }
   ],
   "source": [
    "show_doc(find_classes)"
   ]
  },
  {
   "cell_type": "code",
   "execution_count": null,
   "metadata": {
    "hide_input": true
   },
   "outputs": [
    {
     "data": {
      "text/markdown": [
       "<h4 id=\"join_path\"><code>join_path</code><a href=\"https://github.com/fastai/fastai/blob/master/fastai/core.py#L166\" class=\"source_link\">[source]</a></h4>\n",
       "\n",
       "> <code>join_path</code>(`fname`:`PathOrStr`, `path`:`PathOrStr`=`'.'`) → `Path`\n",
       "\n",
       "Return `Path(path)/Path(fname)`, `path` defaults to current dir.  "
      ],
      "text/plain": [
       "<IPython.core.display.Markdown object>"
      ]
     },
     "metadata": {},
     "output_type": "display_data"
    }
   ],
   "source": [
    "show_doc(join_path)"
   ]
  },
  {
   "cell_type": "code",
   "execution_count": null,
   "metadata": {
    "hide_input": true
   },
   "outputs": [
    {
     "data": {
      "text/markdown": [
       "<h4 id=\"join_paths\"><code>join_paths</code><a href=\"https://github.com/fastai/fastai/blob/master/fastai/core.py#L170\" class=\"source_link\">[source]</a></h4>\n",
       "\n",
       "> <code>join_paths</code>(`fnames`:`FilePathList`, `path`:`PathOrStr`=`'.'`) → `FilePathList`\n",
       "\n",
       "Join `path` to every file name in `fnames`.  "
      ],
      "text/plain": [
       "<IPython.core.display.Markdown object>"
      ]
     },
     "metadata": {},
     "output_type": "display_data"
    }
   ],
   "source": [
    "show_doc(join_paths)"
   ]
  },
  {
   "cell_type": "code",
   "execution_count": null,
   "metadata": {
    "hide_input": true
   },
   "outputs": [
    {
     "data": {
      "text/markdown": [
       "<h4 id=\"loadtxt_str\"><code>loadtxt_str</code><a href=\"https://github.com/fastai/fastai/blob/master/fastai/core.py#L175\" class=\"source_link\">[source]</a></h4>\n",
       "\n",
       "> <code>loadtxt_str</code>(`path`:`PathOrStr`) → `ndarray`\n",
       "\n",
       "Return `ndarray` of `str` of lines of text from `path`.  "
      ],
      "text/plain": [
       "<IPython.core.display.Markdown object>"
      ]
     },
     "metadata": {},
     "output_type": "display_data"
    }
   ],
   "source": [
    "show_doc(loadtxt_str)"
   ]
  },
  {
   "cell_type": "code",
   "execution_count": null,
   "metadata": {
    "hide_input": true
   },
   "outputs": [
    {
     "data": {
      "text/markdown": [
       "<h4 id=\"save_texts\"><code>save_texts</code><a href=\"https://github.com/fastai/fastai/blob/master/fastai/core.py#L180\" class=\"source_link\">[source]</a></h4>\n",
       "\n",
       "> <code>save_texts</code>(`fname`:`PathOrStr`, `texts`:`StrList`)\n",
       "\n",
       "Save in `fname` the content of `texts`.  "
      ],
      "text/plain": [
       "<IPython.core.display.Markdown object>"
      ]
     },
     "metadata": {},
     "output_type": "display_data"
    }
   ],
   "source": [
    "show_doc(save_texts)"
   ]
  },
  {
   "cell_type": "markdown",
   "metadata": {},
   "source": [
    "## Data block API"
   ]
  },
  {
   "cell_type": "code",
   "execution_count": null,
   "metadata": {
    "hide_input": true
   },
   "outputs": [
    {
     "data": {
      "text/markdown": [
       "<h3 id=\"ItemBase\"><code>class</code> <code>ItemBase</code><a href=\"https://github.com/fastai/fastai/blob/master/fastai/core.py#L136\" class=\"source_link\">[source]</a></h3>\n",
       "\n",
       "> <code>ItemBase</code>(`data`:`Any`)"
      ],
      "text/plain": [
       "<IPython.core.display.Markdown object>"
      ]
     },
     "metadata": {},
     "output_type": "display_data"
    }
   ],
   "source": [
    "show_doc(ItemBase, title_level=3, doc_string=False)"
   ]
  },
  {
   "cell_type": "markdown",
   "metadata": {},
   "source": [
    "The base clase for all items. Must have a [`data`](/tabular.data.html#tabular.data) field that will be used when collating in mini-batches."
   ]
  },
  {
   "cell_type": "code",
   "execution_count": null,
   "metadata": {
    "hide_input": true
   },
   "outputs": [
    {
     "data": {
      "text/markdown": [
       "<h3 id=\"Category\"><code>class</code> <code>Category</code><a href=\"https://github.com/fastai/fastai/blob/master/fastai/core.py#L223\" class=\"source_link\">[source]</a></h3>\n",
       "\n",
       "> <code>Category</code>(`data`, `obj`) :: [`ItemBase`](/core.html#ItemBase)"
      ],
      "text/plain": [
       "<IPython.core.display.Markdown object>"
      ]
     },
     "metadata": {},
     "output_type": "display_data"
    }
   ],
   "source": [
    "show_doc(Category, doc_string=False, title_level=3)"
   ]
  },
  {
   "cell_type": "markdown",
   "metadata": {},
   "source": [
    "Create a [`Category`](/core.html#Category) with an `obj` of index [`data`](/tabular.data.html#tabular.data) in a certain classes list. "
   ]
  },
  {
   "cell_type": "code",
   "execution_count": null,
   "metadata": {
    "hide_input": true
   },
   "outputs": [
    {
     "data": {
      "text/markdown": [
       "<h3 id=\"MultiCategory\"><code>class</code> <code>MultiCategory</code><a href=\"https://github.com/fastai/fastai/blob/master/fastai/core.py#L228\" class=\"source_link\">[source]</a></h3>\n",
       "\n",
       "> <code>MultiCategory</code>(`data`, `obj`, `raw`) :: [`ItemBase`](/core.html#ItemBase)"
      ],
      "text/plain": [
       "<IPython.core.display.Markdown object>"
      ]
     },
     "metadata": {},
     "output_type": "display_data"
    }
   ],
   "source": [
    "show_doc(MultiCategory, doc_string=False, title_level=3)"
   ]
  },
  {
   "cell_type": "markdown",
   "metadata": {},
   "source": [
    "Create a [`MultiCategory`](/core.html#MultiCategory) with an `obj` that is a collection of labels. [`data`](/tabular.data.html#tabular.data) corresponds to the one-hot encoded labels and `raw` is a list of associated string."
   ]
  },
  {
   "cell_type": "markdown",
   "metadata": {},
   "source": [
    "## Others"
   ]
  },
  {
   "cell_type": "code",
   "execution_count": null,
   "metadata": {
    "hide_input": true
   },
   "outputs": [
    {
     "data": {
      "text/markdown": [
       "<h4 id=\"camel2snake\"><code>camel2snake</code><a href=\"https://github.com/fastai/fastai/blob/master/fastai/core.py#L101\" class=\"source_link\">[source]</a></h4>\n",
       "\n",
       "> <code>camel2snake</code>(`name`:`str`) → `str`"
      ],
      "text/plain": [
       "<IPython.core.display.Markdown object>"
      ]
     },
     "metadata": {},
     "output_type": "display_data"
    }
   ],
   "source": [
    "show_doc(camel2snake)"
   ]
  },
  {
   "cell_type": "markdown",
   "metadata": {},
   "source": [
    "Format `name` by removing capital letters from a class-style name and separates the subwords with underscores."
   ]
  },
  {
   "cell_type": "code",
   "execution_count": null,
   "metadata": {},
   "outputs": [
    {
     "data": {
      "text/plain": [
       "'device_data_loader'"
      ]
     },
     "execution_count": null,
     "metadata": {},
     "output_type": "execute_result"
    }
   ],
   "source": [
    "camel2snake('DeviceDataLoader')"
   ]
  },
  {
   "cell_type": "code",
   "execution_count": null,
   "metadata": {
    "hide_input": true
   },
   "outputs": [
    {
     "data": {
      "text/markdown": [
       "<h4 id=\"even_mults\"><code>even_mults</code><a href=\"https://github.com/fastai/fastai/blob/master/fastai/core.py#L105\" class=\"source_link\">[source]</a></h4>\n",
       "\n",
       "> <code>even_mults</code>(`start`:`float`, `stop`:`float`, `n`:`int`) → `ndarray`\n",
       "\n",
       "Build evenly stepped schedule from `start` to `stop` in `n` steps.  "
      ],
      "text/plain": [
       "<IPython.core.display.Markdown object>"
      ]
     },
     "metadata": {},
     "output_type": "display_data"
    }
   ],
   "source": [
    "show_doc(even_mults)"
   ]
  },
  {
   "cell_type": "code",
   "execution_count": null,
   "metadata": {
    "hide_input": true
   },
   "outputs": [
    {
     "data": {
      "text/markdown": [
       "<h4 id=\"func_args\"><code>func_args</code><a href=\"https://github.com/fastai/fastai/blob/master/fastai/core.py#L206\" class=\"source_link\">[source]</a></h4>\n",
       "\n",
       "> <code>func_args</code>(`func`) → `bool`\n",
       "\n",
       "Return the arguments of `func`.  "
      ],
      "text/plain": [
       "<IPython.core.display.Markdown object>"
      ]
     },
     "metadata": {},
     "output_type": "display_data"
    }
   ],
   "source": [
    "show_doc(func_args)"
   ]
  },
  {
   "cell_type": "code",
   "execution_count": null,
   "metadata": {
    "hide_input": true
   },
   "outputs": [
    {
     "data": {
      "text/markdown": [
       "<h4 id=\"noop\"><code>noop</code><a href=\"https://github.com/fastai/fastai/blob/master/fastai/core.py#L50\" class=\"source_link\">[source]</a></h4>\n",
       "\n",
       "> <code>noop</code>(`x`)"
      ],
      "text/plain": [
       "<IPython.core.display.Markdown object>"
      ]
     },
     "metadata": {},
     "output_type": "display_data"
    }
   ],
   "source": [
    "show_doc(noop)"
   ]
  },
  {
   "cell_type": "markdown",
   "metadata": {},
   "source": [
    "Return `x`."
   ]
  },
  {
   "cell_type": "code",
   "execution_count": null,
   "metadata": {
    "hide_input": true
   },
   "outputs": [
    {
     "data": {
      "text/markdown": [
       "<h4 id=\"num_cpus\"><code>num_cpus</code><a href=\"https://github.com/fastai/fastai/blob/master/fastai/core.py#L43\" class=\"source_link\">[source]</a></h4>\n",
       "\n",
       "> <code>num_cpus</code>() → `int`\n",
       "\n",
       "Get number of cpus  "
      ],
      "text/plain": [
       "<IPython.core.display.Markdown object>"
      ]
     },
     "metadata": {},
     "output_type": "display_data"
    }
   ],
   "source": [
    "show_doc(num_cpus)"
   ]
  },
  {
   "cell_type": "code",
   "execution_count": null,
   "metadata": {
    "hide_input": true
   },
   "outputs": [
    {
     "data": {
      "text/markdown": [
       "<h4 id=\"one_hot\"><code>one_hot</code><a href=\"https://github.com/fastai/fastai/blob/master/fastai/core.py#L191\" class=\"source_link\">[source]</a></h4>\n",
       "\n",
       "> <code>one_hot</code>(`x`:`Collection`\\[`int`\\], `c`:`int`)\n",
       "\n",
       "One-hot encode the target.  "
      ],
      "text/plain": [
       "<IPython.core.display.Markdown object>"
      ]
     },
     "metadata": {},
     "output_type": "display_data"
    }
   ],
   "source": [
    "show_doc(one_hot)"
   ]
  },
  {
   "cell_type": "code",
   "execution_count": null,
   "metadata": {
    "hide_input": true
   },
   "outputs": [
    {
     "data": {
      "text/markdown": [
       "<h4 id=\"partition\"><code>partition</code><a href=\"https://github.com/fastai/fastai/blob/master/fastai/core.py#L120\" class=\"source_link\">[source]</a></h4>\n",
       "\n",
       "> <code>partition</code>(`a`:`Collection`, `sz`:`int`) → `List`\\[`Collection`\\]\n",
       "\n",
       "Split iterables `a` in equal parts of size `sz`  "
      ],
      "text/plain": [
       "<IPython.core.display.Markdown object>"
      ]
     },
     "metadata": {},
     "output_type": "display_data"
    }
   ],
   "source": [
    "show_doc(partition)"
   ]
  },
  {
   "cell_type": "code",
   "execution_count": null,
   "metadata": {
    "hide_input": true
   },
   "outputs": [
    {
     "data": {
      "text/markdown": [
       "<h4 id=\"partition_by_cores\"><code>partition_by_cores</code><a href=\"https://github.com/fastai/fastai/blob/master/fastai/core.py#L124\" class=\"source_link\">[source]</a></h4>\n",
       "\n",
       "> <code>partition_by_cores</code>(`a`:`Collection`, `n_cpus`:`int`) → `List`\\[`Collection`\\]\n",
       "\n",
       "Split data in `a` equally among `n_cpus` cores  "
      ],
      "text/plain": [
       "<IPython.core.display.Markdown object>"
      ]
     },
     "metadata": {},
     "output_type": "display_data"
    }
   ],
   "source": [
    "show_doc(partition_by_cores)"
   ]
  },
  {
   "cell_type": "markdown",
   "metadata": {},
   "source": [
    "## Undocumented Methods - Methods moved below this line will intentionally be hidden"
   ]
  },
  {
   "cell_type": "code",
   "execution_count": null,
   "metadata": {},
   "outputs": [
    {
     "data": {
      "text/markdown": [
       "<h4 id=\"ItemBase.show\"><code>show</code><a href=\"https://github.com/fastai/fastai/blob/master/fastai/core.py#L140\" class=\"source_link\">[source]</a></h4>\n",
       "\n",
       "> <code>show</code>(`ax`:`Axes`, `kwargs`)"
      ],
      "text/plain": [
       "<IPython.core.display.Markdown object>"
      ]
     },
     "metadata": {},
     "output_type": "display_data"
    }
   ],
   "source": [
    "show_doc(ItemBase.show)"
   ]
  },
  {
   "cell_type": "code",
   "execution_count": null,
   "metadata": {},
   "outputs": [
    {
     "data": {
      "text/markdown": [
       "<h4 id=\"ItemBase.apply_tfms\"><code>apply_tfms</code><a href=\"https://github.com/fastai/fastai/blob/master/fastai/core.py#L141\" class=\"source_link\">[source]</a></h4>\n",
       "\n",
       "> <code>apply_tfms</code>(`tfms`:`Collection`, `kwargs`)"
      ],
      "text/plain": [
       "<IPython.core.display.Markdown object>"
      ]
     },
     "metadata": {},
     "output_type": "display_data"
    }
   ],
   "source": [
    "show_doc(ItemBase.apply_tfms)"
   ]
  },
  {
   "cell_type": "markdown",
   "metadata": {},
   "source": [
    "## New Methods - Please document or move to the undocumented section"
   ]
  },
  {
   "cell_type": "code",
   "execution_count": null,
   "metadata": {
    "hide_input": true
   },
   "outputs": [
    {
     "data": {
      "text/markdown": [
       "<h4 id=\"array\"><code>array</code><a href=\"https://github.com/fastai/fastai/blob/master/fastai/core.py#L218\" class=\"source_link\">[source]</a></h4>\n",
       "\n",
       "> <code>array</code>(`a`, `args`, `kwargs`) → `ndarray`\n",
       "\n",
       "Same as `np.array` but also handles generators  "
      ],
      "text/plain": [
       "<IPython.core.display.Markdown object>"
      ]
     },
     "metadata": {},
     "output_type": "display_data"
    }
   ],
   "source": [
    "show_doc(array)"
   ]
  }
 ],
 "metadata": {
  "jekyll": {
   "keywords": "fastai",
   "summary": "Basic helper functions for the fastai library",
   "title": "core"
  },
  "kernelspec": {
   "display_name": "Python 3",
   "language": "python",
   "name": "python3"
  }
 },
 "nbformat": 4,
 "nbformat_minor": 2
}

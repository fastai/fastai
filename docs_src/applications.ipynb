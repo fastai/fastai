{
 "cells": [
  {
   "cell_type": "markdown",
   "metadata": {},
   "source": [
    "## Application fields"
   ]
  },
  {
   "cell_type": "code",
   "execution_count": null,
   "metadata": {
    "hide_input": true
   },
   "outputs": [],
   "source": [
    "from fastai.gen_doc.nbdoc import *  "
   ]
  },
  {
   "cell_type": "markdown",
   "metadata": {
    "hide_input": false
   },
   "source": [
    "The fastai library allows you to train a [`Model`](https://pytorch.org/docs/stable/nn.html#torch.nn.Module) on a certain [`DataBunch`](/basic_data.html#DataBunch) very easily by binding them together inside a [`Learner`](/basic_train.html#Learner) object. This module regroups the tools the library provides to help you preprocess and group your data in this format. \n",
    "\n",
    "## [`collab`](/collab.html#collab)\n",
    "\n",
    "This submodule handles the collaborative filtering problems.\n",
    "\n",
    "## [`tabular`](/tabular.html#tabular)\n",
    "\n",
    "This sub-package deals with tabular (or structured) data.\n",
    "\n",
    "## [`text`](/text.html#text)\n",
    "\n",
    "This sub-package contains everything you need for Natural Language Processing.\n",
    "\n",
    "## [`vision`](/vision.html#vision)\n",
    "\n",
    "This sub-package contains the classes that deal with Computer Vision.\n"
   ]
  },
  {
   "cell_type": "markdown",
   "metadata": {
    "hide_input": false
   },
   "source": [
    "## Module structure\n",
    "\n",
    "In each case (except for [`collab`](/collab.html#collab)), the module is organized this way:\n",
    "\n",
    "### [`transform`](/tabular.transform.html#tabular.transform)\n",
    "\n",
    "This sub-module deals with the pre-processing (data augmentation for images, cleaning for tabular data, tokenizing and numericalizing for text).\n",
    "\n",
    "### [`data`](/tabular.data.html#tabular.data)\n",
    "\n",
    "This sub-module defines the dataset class(es) to deal with this kind of data.\n",
    "\n",
    "### [`models`](/tabular.models.html#tabular.models)\n",
    "\n",
    "This sub-module defines the specific models used for this kind of data.\n",
    "\n",
    "### [`learner`](/text.learner.html#text.learner)\n",
    "\n",
    "When it exists, this sub-module contains functions that will directly bind this data with a suitable model and add the necessary callbacks."
   ]
  },
  {
   "cell_type": "markdown",
   "metadata": {},
   "source": [
    "## Usage\n",
    "\n",
    "To start using any of the above applications, simply import the top level module.  \n",
    "All the [submodules](#Module-structure) get included."
   ]
  },
  {
   "cell_type": "markdown",
   "metadata": {},
   "source": [
    "The general structure is:\n",
    "```python\n",
    "from fastai.[APPLICATION] import *\n",
    "```"
   ]
  },
  {
   "cell_type": "markdown",
   "metadata": {},
   "source": [
    "For example, to use collab:\n",
    "```python\n",
    "from fastai.collab import *\n",
    "```"
   ]
  },
  {
   "cell_type": "markdown",
   "metadata": {},
   "source": [
    "*For more information on [imports](/index.html#imports)*"
   ]
  },
  {
   "cell_type": "markdown",
   "metadata": {},
   "source": [
    "## Open This Notebook\n",
    "\n",
    "<button style=\"display: flex; align-item: center; padding: 4px 8px; font-size: 14px; font-weight: 700; color: #1976d2; cursor: pointer;\" onclick=\"window.location.href = 'https://console.cloud.google.com/mlengine/notebooks/deploy-notebook?q=download_url%3Dhttps%253A%252F%252Fraw.githubusercontent.com%252Ffastai%252Ffastai%252Fmaster%252Fdocs_src%252Fapplications.ipynb';\"><img src=\"https://www.gstatic.com/images/branding/product/1x/cloud_24dp.png\" /><span style=\"line-height: 24px; margin-left: 10px;\">Open in GCP Notebooks</span></button>"
   ]
  }
 ],
 "metadata": {
  "jekyll": {
   "keywords": "fastai",
   "summary": "Types of problems you can apply the fastai library to",
   "title": "applications"
  },
  "kernelspec": {
   "display_name": "Python 3",
   "language": "python",
   "name": "python3"
  }
 },
 "nbformat": 4,
 "nbformat_minor": 2
}

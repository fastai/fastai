{
 "cells": [
  {
   "cell_type": "markdown",
   "metadata": {},
   "source": [
    "## Functional Test Documentation"
   ]
  },
  {
   "cell_type": "markdown",
   "metadata": {},
   "source": [
    "Generates documentation for fastai's functional tests"
   ]
  },
  {
   "cell_type": "code",
   "execution_count": null,
   "metadata": {
    "hide_input": true
   },
   "outputs": [],
   "source": [
    "from fastai.gen_doc.nbdoc import *\n",
    "from fastai.gen_doc.nbtest import * "
   ]
  },
  {
   "cell_type": "markdown",
   "metadata": {},
   "source": [
    "## Find tests for any function/class"
   ]
  },
  {
   "cell_type": "markdown",
   "metadata": {},
   "source": [
    "[`show_test`](/gen_doc.nbtest.html#show_test) and [`doctest`](/gen_doc.nbtest.html#doctest) searches for any implemented tests for a given fastai class or function  \n",
    "\n",
    "For test writers:  \n",
    "* Use this module to search for tests and get a better idea on which parts of the fastai api need more functional tests\n",
    "\n",
    "For fastai users:  \n",
    "* Usage is similar to [`nbdoc.show_doc`](/gen_doc.nbdoc.html#show_doc) and [`nbdoc.doc`](/gen_doc.nbdoc.html#doc).  \n",
    "* It's here to help you find associated tests for a given function can help understand usage. \n"
   ]
  },
  {
   "cell_type": "markdown",
   "metadata": {},
   "source": [
    "## Usage:"
   ]
  },
  {
   "cell_type": "code",
   "execution_count": null,
   "metadata": {
    "hide_input": true
   },
   "outputs": [
    {
     "data": {
      "text/markdown": [
       "<h4 id=\"show_test\" class=\"doc_header\"><code>show_test</code><a href=\"https://github.com/fastai/fastai/blob/master/fastai/gen_doc/nbtest.py#L20\" class=\"source_link\" style=\"float:right\">[source]</a><a class=\"source_link\" data-toggle=\"collapse\" data-target=\"#show_test-pytest\" style=\"float:right; padding-right:10px\">[test]</a></h4>\n",
       "\n",
       "> <code>show_test</code>(**`elt`**) → `str`\n",
       "\n",
       "<div class=\"collapse\" id=\"show_test-pytest\"><div class=\"card card-body pytest_card\"><a type=\"button\" data-toggle=\"collapse\" data-target=\"#show_test-pytest\" class=\"close\" aria-label=\"Close\"><span aria-hidden=\"true\">&times;</span></a><p>No tests found for <code>show_test</code>. To contribute a test please refer to <a href=\"/dev/test.html\">this guide</a> and <a href=\"https://forums.fast.ai/t/improving-expanding-functional-tests/32929\">this discussion</a>.</p></div></div>\n",
       "\n",
       "Show associated tests for a fastai function/class  "
      ],
      "text/plain": [
       "<IPython.core.display.Markdown object>"
      ]
     },
     "metadata": {},
     "output_type": "display_data"
    }
   ],
   "source": [
    "show_doc(show_test)"
   ]
  },
  {
   "cell_type": "markdown",
   "metadata": {},
   "source": [
    "**Show tests from function**"
   ]
  },
  {
   "cell_type": "code",
   "execution_count": null,
   "metadata": {},
   "outputs": [
    {
     "data": {
      "text/markdown": [
       "Tests found for `fit`: \n",
       "\n",
       "\n",
       "* `pytest -sv tests/test_train.py::test_fit` <a href=\"https://github.com/fastai/fastai/blob/master/tests/test_train.py#L28\" class=\"source_link\" style=\"float:right\">[source]</a>\n",
       "\n",
       "Some other tests where `fit` is used:\n",
       "* `pytest -sv tests/test_basic_train.py::test_destroy` <a href=\"https://github.com/fastai/fastai/blob/master/tests/test_basic_train.py#L170\" class=\"source_link\" style=\"float:right\">[source]</a>\n",
       "\n",
       "To run tests please refer to this [guide](/dev/test.html#quick-guide)."
      ],
      "text/plain": [
       "<IPython.core.display.Markdown object>"
      ]
     },
     "metadata": {},
     "output_type": "display_data"
    }
   ],
   "source": [
    "from fastai.basic_train import Learner\n",
    "show_test(Learner.fit)"
   ]
  },
  {
   "cell_type": "markdown",
   "metadata": {},
   "source": [
    "**Show tests from a Class**"
   ]
  },
  {
   "cell_type": "code",
   "execution_count": null,
   "metadata": {},
   "outputs": [
    {
     "data": {
      "text/markdown": [
       "Tests found for `DataBunch`: \n",
       "\n",
       "\n",
       "* `pytest -sv tests/test_data_block.py::test_custom_dataset` <a href=\"https://github.com/fastai/fastai/blob/master/tests/test_data_block.py#L143\" class=\"source_link\" style=\"float:right\">[source]</a>\n",
       "\n",
       "Some other tests where `DataBunch` is used:\n",
       "* `pytest -sv tests/test_basic_data.py::test_DataBunch_Create` <a href=\"https://github.com/fastai/fastai/blob/master/tests/test_basic_data.py#L30\" class=\"source_link\" style=\"float:right\">[source]</a>\n",
       "* `pytest -sv tests/test_basic_data.py::test_DataBunch_no_valid_dl` <a href=\"https://github.com/fastai/fastai/blob/master/tests/test_basic_data.py#L44\" class=\"source_link\" style=\"float:right\">[source]</a>\n",
       "* `pytest -sv tests/test_basic_data.py::test_DataBunch_save_load` <a href=\"https://github.com/fastai/fastai/blob/master/tests/test_basic_data.py#L83\" class=\"source_link\" style=\"float:right\">[source]</a>\n",
       "\n",
       "To run tests please refer to this [guide](/dev/test.html#quick-guide)."
      ],
      "text/plain": [
       "<IPython.core.display.Markdown object>"
      ]
     },
     "metadata": {},
     "output_type": "display_data"
    }
   ],
   "source": [
    "from fastai.basic_data import DataBunch\n",
    "show_test(DataBunch)"
   ]
  },
  {
   "cell_type": "code",
   "execution_count": null,
   "metadata": {},
   "outputs": [
    {
     "data": {
      "text/markdown": [
       "Tests found for `TextList`: \n",
       "\n",
       "Some other tests where `TextList` is used:\n",
       "* `pytest -sv tests/test_text_data.py::test_filter_classes` <a href=\"https://github.com/fastai/fastai/blob/master/tests/test_text_data.py#L42\" class=\"source_link\" style=\"float:right\">[source]</a>\n",
       "* `pytest -sv tests/test_text_data.py::test_from_folder` <a href=\"https://github.com/fastai/fastai/blob/master/tests/test_text_data.py#L30\" class=\"source_link\" style=\"float:right\">[source]</a>\n",
       "* `pytest -sv tests/test_text_data.py::test_regression` <a href=\"https://github.com/fastai/fastai/blob/master/tests/test_text_data.py#L189\" class=\"source_link\" style=\"float:right\">[source]</a>\n",
       "\n",
       "To run tests please refer to this [guide](/dev/test.html#quick-guide)."
      ],
      "text/plain": [
       "<IPython.core.display.Markdown object>"
      ]
     },
     "metadata": {},
     "output_type": "display_data"
    }
   ],
   "source": [
    "from fastai.text.data import TextList\n",
    "show_test(TextList)"
   ]
  },
  {
   "cell_type": "markdown",
   "metadata": {},
   "source": [
    "## Different test types"
   ]
  },
  {
   "cell_type": "markdown",
   "metadata": {},
   "source": [
    "Above, you will see 2 different test types: `Tests found for...` and `Some other tests...`\n",
    "\n",
    "* `Tests found for...` - Searches for function matches in `test_registry.json`. This json file is populated from `doctest.this_tests` calls.\n",
    "* `Some other tests...` - Returns any test function where the fastai function in called inside the body"
   ]
  },
  {
   "cell_type": "markdown",
   "metadata": {},
   "source": [
    "## Show in notebook inline:"
   ]
  },
  {
   "cell_type": "code",
   "execution_count": null,
   "metadata": {
    "hide_input": true
   },
   "outputs": [
    {
     "data": {
      "text/markdown": [
       "<h4 id=\"doctest\" class=\"doc_header\"><code>doctest</code><a href=\"https://github.com/fastai/fastai/blob/master/fastai/gen_doc/nbtest.py#L25\" class=\"source_link\" style=\"float:right\">[source]</a><a class=\"source_link\" data-toggle=\"collapse\" data-target=\"#doctest-pytest\" style=\"float:right; padding-right:10px\">[test]</a></h4>\n",
       "\n",
       "> <code>doctest</code>(**`elt`**)\n",
       "\n",
       "<div class=\"collapse\" id=\"doctest-pytest\"><div class=\"card card-body pytest_card\"><a type=\"button\" data-toggle=\"collapse\" data-target=\"#doctest-pytest\" class=\"close\" aria-label=\"Close\"><span aria-hidden=\"true\">&times;</span></a><p>Tests found for <code>doctest</code>:</p><p>Some other tests where <code>doctest</code> is used:</p><ul><li><code>pytest -sv tests/test_gen_doc_nbtest.py::test_this_tests</code> <a href=\"https://github.com/fastai/fastai/blob/master/tests/test_gen_doc_nbtest.py#L75\" class=\"source_link\" style=\"float:right\">[source]</a></li></ul><p>To run tests please refer to this <a href=\"/dev/test.html#quick-guide\">guide</a>.</p></div></div>\n",
       "\n",
       "Inline notebook popup for [`show_test`](/gen_doc.nbtest.html#show_test)  "
      ],
      "text/plain": [
       "<IPython.core.display.Markdown object>"
      ]
     },
     "metadata": {},
     "output_type": "display_data"
    }
   ],
   "source": [
    "show_doc(doctest)"
   ]
  },
  {
   "cell_type": "markdown",
   "metadata": {},
   "source": [
    "## Internal search methods"
   ]
  },
  {
   "cell_type": "code",
   "execution_count": null,
   "metadata": {
    "hide_input": true
   },
   "outputs": [
    {
     "data": {
      "text/markdown": [
       "<h4 id=\"lookup_db\" class=\"doc_header\"><code>lookup_db</code><a href=\"https://github.com/fastai/fastai/blob/master/fastai/gen_doc/nbtest.py#L71\" class=\"source_link\" style=\"float:right\">[source]</a><a class=\"source_link\" data-toggle=\"collapse\" data-target=\"#lookup_db-pytest\" style=\"float:right; padding-right:10px\">[test]</a></h4>\n",
       "\n",
       "> <code>lookup_db</code>(**`elt`**) → `List`\\[`Dict`\\[`KT`, `VT`\\]\\]\n",
       "\n",
       "<div class=\"collapse\" id=\"lookup_db-pytest\"><div class=\"card card-body pytest_card\"><a type=\"button\" data-toggle=\"collapse\" data-target=\"#lookup_db-pytest\" class=\"close\" aria-label=\"Close\"><span aria-hidden=\"true\">&times;</span></a><p>No tests found for <code>lookup_db</code>. To contribute a test please refer to <a href=\"/dev/test.html\">this guide</a> and <a href=\"https://forums.fast.ai/t/improving-expanding-functional-tests/32929\">this discussion</a>.</p></div></div>\n",
       "\n",
       "Finds `this_test` entries from test_registry.json  "
      ],
      "text/plain": [
       "<IPython.core.display.Markdown object>"
      ]
     },
     "metadata": {},
     "output_type": "display_data"
    }
   ],
   "source": [
    "show_doc(lookup_db)"
   ]
  },
  {
   "cell_type": "code",
   "execution_count": null,
   "metadata": {
    "hide_input": true
   },
   "outputs": [
    {
     "data": {
      "text/markdown": [
       "<h4 id=\"find_related_tests\" class=\"doc_header\"><code>find_related_tests</code><a href=\"https://github.com/fastai/fastai/blob/master/fastai/gen_doc/nbtest.py#L81\" class=\"source_link\" style=\"float:right\">[source]</a><a class=\"source_link\" data-toggle=\"collapse\" data-target=\"#find_related_tests-pytest\" style=\"float:right; padding-right:10px\">[test]</a></h4>\n",
       "\n",
       "> <code>find_related_tests</code>(**`elt`**) → `Tuple`\\[`List`\\[`Dict`\\[`KT`, `VT`\\]\\], `List`\\[`Dict`\\[`KT`, `VT`\\]\\]\\]\n",
       "\n",
       "<div class=\"collapse\" id=\"find_related_tests-pytest\"><div class=\"card card-body pytest_card\"><a type=\"button\" data-toggle=\"collapse\" data-target=\"#find_related_tests-pytest\" class=\"close\" aria-label=\"Close\"><span aria-hidden=\"true\">&times;</span></a><p>No tests found for <code>find_related_tests</code>. To contribute a test please refer to <a href=\"/dev/test.html\">this guide</a> and <a href=\"https://forums.fast.ai/t/improving-expanding-functional-tests/32929\">this discussion</a>.</p></div></div>\n",
       "\n",
       "Searches `fastai/tests` folder for any test functions related to `elt`  "
      ],
      "text/plain": [
       "<IPython.core.display.Markdown object>"
      ]
     },
     "metadata": {},
     "output_type": "display_data"
    }
   ],
   "source": [
    "show_doc(find_related_tests)"
   ]
  },
  {
   "cell_type": "code",
   "execution_count": null,
   "metadata": {
    "hide_input": true
   },
   "outputs": [
    {
     "data": {
      "text/markdown": [
       "<h4 id=\"find_test_matches\" class=\"doc_header\"><code>find_test_matches</code><a href=\"https://github.com/fastai/fastai/blob/master/fastai/gen_doc/nbtest.py#L122\" class=\"source_link\" style=\"float:right\">[source]</a><a class=\"source_link\" data-toggle=\"collapse\" data-target=\"#find_test_matches-pytest\" style=\"float:right; padding-right:10px\">[test]</a></h4>\n",
       "\n",
       "> <code>find_test_matches</code>(**`elt`**, **`test_file`**:`Path`) → `Tuple`\\[`List`\\[`Dict`\\[`KT`, `VT`\\]\\], `List`\\[`Dict`\\[`KT`, `VT`\\]\\]\\]\n",
       "\n",
       "<div class=\"collapse\" id=\"find_test_matches-pytest\"><div class=\"card card-body pytest_card\"><a type=\"button\" data-toggle=\"collapse\" data-target=\"#find_test_matches-pytest\" class=\"close\" aria-label=\"Close\"><span aria-hidden=\"true\">&times;</span></a><p>No tests found for <code>find_test_matches</code>. To contribute a test please refer to <a href=\"/dev/test.html\">this guide</a> and <a href=\"https://forums.fast.ai/t/improving-expanding-functional-tests/32929\">this discussion</a>.</p></div></div>\n",
       "\n",
       "Find all functions in `test_file` related to `elt`  "
      ],
      "text/plain": [
       "<IPython.core.display.Markdown object>"
      ]
     },
     "metadata": {},
     "output_type": "display_data"
    }
   ],
   "source": [
    "show_doc(find_test_matches)"
   ]
  },
  {
   "cell_type": "code",
   "execution_count": null,
   "metadata": {
    "hide_input": true
   },
   "outputs": [
    {
     "data": {
      "text/markdown": [
       "<h4 id=\"find_test_files\" class=\"doc_header\"><code>find_test_files</code><a href=\"https://github.com/fastai/fastai/blob/master/fastai/gen_doc/nbtest.py#L100\" class=\"source_link\" style=\"float:right\">[source]</a><a class=\"source_link\" data-toggle=\"collapse\" data-target=\"#find_test_files-pytest\" style=\"float:right; padding-right:10px\">[test]</a></h4>\n",
       "\n",
       "> <code>find_test_files</code>(**`elt`**, **`exact_match`**:`bool`=***`False`***) → `List`\\[`Path`\\]\n",
       "\n",
       "<div class=\"collapse\" id=\"find_test_files-pytest\"><div class=\"card card-body pytest_card\"><a type=\"button\" data-toggle=\"collapse\" data-target=\"#find_test_files-pytest\" class=\"close\" aria-label=\"Close\"><span aria-hidden=\"true\">&times;</span></a><p>No tests found for <code>find_test_files</code>. To contribute a test please refer to <a href=\"/dev/test.html\">this guide</a> and <a href=\"https://forums.fast.ai/t/improving-expanding-functional-tests/32929\">this discussion</a>.</p></div></div>\n",
       "\n",
       "Searches in `fastai/tests` directory for module tests  "
      ],
      "text/plain": [
       "<IPython.core.display.Markdown object>"
      ]
     },
     "metadata": {},
     "output_type": "display_data"
    }
   ],
   "source": [
    "show_doc(find_test_files)"
   ]
  },
  {
   "cell_type": "code",
   "execution_count": null,
   "metadata": {
    "hide_input": true
   },
   "outputs": [
    {
     "data": {
      "text/markdown": [
       "<h4 id=\"fuzzy_test_match\" class=\"doc_header\"><code>fuzzy_test_match</code><a href=\"https://github.com/fastai/fastai/blob/master/fastai/gen_doc/nbtest.py#L143\" class=\"source_link\" style=\"float:right\">[source]</a><a class=\"source_link\" data-toggle=\"collapse\" data-target=\"#fuzzy_test_match-pytest\" style=\"float:right; padding-right:10px\">[test]</a></h4>\n",
       "\n",
       "> <code>fuzzy_test_match</code>(**`fn_name`**:`str`, **`lines`**:`List`\\[`Dict`\\[`KT`, `VT`\\]\\], **`rel_path`**:`str`) → `List`\\[[`TestFunctionMatch`](/gen_doc.nbtest.html#TestFunctionMatch)\\]\n",
       "\n",
       "<div class=\"collapse\" id=\"fuzzy_test_match-pytest\"><div class=\"card card-body pytest_card\"><a type=\"button\" data-toggle=\"collapse\" data-target=\"#fuzzy_test_match-pytest\" class=\"close\" aria-label=\"Close\"><span aria-hidden=\"true\">&times;</span></a><p>Tests found for <code>fuzzy_test_match</code>:</p><ul><li><code>pytest -sv tests/test_gen_doc_nbtest.py::test_fuzzy_test_match</code> <a href=\"https://github.com/fastai/fastai/blob/master/tests/test_gen_doc_nbtest.py#L38\" class=\"source_link\" style=\"float:right\">[source]</a></li></ul><p>To run tests please refer to this <a href=\"/dev/test.html#quick-guide\">guide</a>.</p></div></div>\n",
       "\n",
       "Find any lines where `fn_name` is invoked and return the parent test function  "
      ],
      "text/plain": [
       "<IPython.core.display.Markdown object>"
      ]
     },
     "metadata": {},
     "output_type": "display_data"
    }
   ],
   "source": [
    "show_doc(fuzzy_test_match)"
   ]
  },
  {
   "cell_type": "markdown",
   "metadata": {},
   "source": [
    "## Undocumented Methods - Methods moved below this line will intentionally be hidden"
   ]
  }
 ],
 "metadata": {
  "jekyll": {
   "keywords": "fastai",
   "summary": "Helper functions to search for api tests",
   "title": "gen_doc.nbtest"
  },
  "kernelspec": {
   "display_name": "Python 3",
   "language": "python",
   "name": "python3"
  }
 },
 "nbformat": 4,
 "nbformat_minor": 2
}

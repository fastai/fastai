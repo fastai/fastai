{
 "cells": [
  {
   "cell_type": "markdown",
   "metadata": {},
   "source": [
    "# List of callbacks"
   ]
  },
  {
   "cell_type": "code",
   "execution_count": 1,
   "metadata": {
    "hide_input": true
   },
   "outputs": [],
   "source": [
    "from fastai.gen_doc.nbdoc import *\n",
    "from fastai.callbacks import * \n",
    "from fastai.basic_train import * \n",
    "from fastai.train import * \n",
    "from fastai import callbacks"
   ]
  },
  {
   "cell_type": "markdown",
   "metadata": {},
   "source": [
    "fastai's training loop is highly extensible, with a rich *callback* system. See the [`callback`](/callback.html#callback) docs if you're interested in writing your own callback. See below for a list of callbacks that are provided with fastai, grouped by the module they're defined in.\n",
    "\n",
    "Every callback that is passed to [`Learner`](/basic_train.html#Learner) with the `callback_fns` parameter will be automatically stored as an attribute. The attribute name is snake-cased, so for instance [`ActivationStats`](/callbacks.hooks.html#ActivationStats) will appear as `learn.activation_stats` (assuming your object is named `learn`)."
   ]
  },
  {
   "cell_type": "markdown",
   "metadata": {},
   "source": [
    "## [`Callback`](/callback.html#Callback)\n",
    "\n",
    "This sub-package contains more sophisticated callbacks that each are in their own module. They are (click the link for more details):\n",
    "\n",
    "### [`OneCycleScheduler`](/callbacks.one_cycle.html#OneCycleScheduler)\n",
    "\n",
    "Train with Leslie Smith's [1cycle annealing](https://sgugger.github.io/the-1cycle-policy.html) method.\n",
    "\n",
    "### [`MixedPrecision`](/callbacks.fp16.html#MixedPrecision)\n",
    "\n",
    "Use fp16 to [take advantage of tensor cores](https://docs.nvidia.com/deeplearning/sdk/mixed-precision-training/index.html) on recent NVIDIA GPUs for a 200% or more speedup.\n",
    "\n",
    "### [`GeneralScheduler`](/callbacks.general_sched.html#GeneralScheduler)\n",
    "\n",
    "Create your own multi-stage annealing schemes with a convenient API.\n",
    "\n",
    "### [`MixUpCallback`](/callbacks.mixup.html#MixUpCallback)\n",
    "\n",
    "Data augmentation using the method from [mixup: Beyond Empirical Risk Minimization](https://arxiv.org/abs/1710.09412)\n",
    "\n",
    "### [`LRFinder`](/callbacks.lr_finder.html#LRFinder)\n",
    "\n",
    "Use Leslie Smith's [learning rate finder](https://www.jeremyjordan.me/nn-learning-rate/) to find a good learning rate for training your model.\n",
    "\n",
    "### [`HookCallback`](/callbacks.hooks.html#HookCallback)\n",
    "\n",
    "Convenient wrapper for registering and automatically deregistering [PyTorch hooks](https://pytorch.org/tutorials/beginner/former_torchies/nn_tutorial.html#forward-and-backward-function-hooks). Also contains pre-defined hook callback: [`ActivationStats`](/callbacks.hooks.html#ActivationStats)."
   ]
  },
  {
   "cell_type": "markdown",
   "metadata": {},
   "source": [
    "## [`train`](/train.html#train) and [`basic_train`](/basic_train.html#basic_train)\n",
    "\n",
    "### [`Recorder`](/basic_train.html#Recorder)\n",
    "\n",
    "Track per-batch and per-epoch smoothed losses and metrics.\n",
    "\n",
    "### [`ShowGraph`](/train.html#ShowGraph)\n",
    "\n",
    "Dynamically display a learning chart during training.\n",
    "\n",
    "### [`BnFreeze`](/train.html#BnFreeze)\n",
    "\n",
    "Freeze batchnorm layer moving average statistics for non-trainable layers.\n",
    "\n",
    "### [`GradientClipping`](/train.html#GradientClipping)\n",
    "\n",
    "Clips gradient during training.\n"
   ]
  },
  {
   "cell_type": "code",
   "execution_count": null,
   "metadata": {},
   "outputs": [],
   "source": []
  }
 ],
 "metadata": {
  "jekyll": {
   "keywords": "fastai",
   "summary": "Callbacks implemented in the fastai library",
   "title": "callbacks"
  },
  "kernelspec": {
   "display_name": "Python 3",
   "language": "python",
   "name": "python3"
  }
 },
 "nbformat": 4,
 "nbformat_minor": 2
}

{
 "cells": [
  {
   "cell_type": "markdown",
   "metadata": {},
   "source": [
    "# NLP datasets"
   ]
  },
  {
   "cell_type": "code",
   "execution_count": null,
   "metadata": {
    "hide_input": true
   },
   "outputs": [],
   "source": [
    "from fastai.gen_doc.nbdoc import *\n",
    "from fastai.text import * \n",
    "from fastai.gen_doc.nbdoc import *\n"
   ]
  },
  {
   "cell_type": "markdown",
   "metadata": {},
   "source": [
    "This module contains the [`TextDataset`](/text.data.html#TextDataset) class, which is the main dataset you should use for your NLP tasks. It automatically does the preprocessing steps described in [`text.transform`](/text.transform.html#text.transform). It also contains all the functions to quickly get a [`TextDataBunch`](/text.data.html#TextDataBunch) ready."
   ]
  },
  {
   "cell_type": "markdown",
   "metadata": {},
   "source": [
    "## Quickly assemble your data"
   ]
  },
  {
   "cell_type": "markdown",
   "metadata": {},
   "source": [
    "You should get your data in one of the following formats to make the most of the fastai library and use one of the factory methods of one of the [`TextDataBunch`](/text.data.html#TextDataBunch) classes:\n",
    "- raw text files in folders train, valid, test in an ImageNet style,\n",
    "- a csv where some column(s) gives the label(s) and the folowwing one the associated text,\n",
    "- a dataframe structured the same way,\n",
    "- tokens and labels arrays,\n",
    "- ids, vocabulary (correspondance id to word) and labels.\n",
    "\n",
    "If you are assembling the data for a language model, you should define your labels as always 0 to respect those formats. The first time you create a [`DataBunch`](/basic_data.html#DataBunch) with one of those functions, your data will be preprocessed automatically. You can save it, so that the next time you call it is almost instantaneous. \n",
    "\n",
    "Below are the classes that help assembling the raw data in a [`DataBunch`](/basic_data.html#DataBunch) suitable for NLP."
   ]
  },
  {
   "cell_type": "code",
   "execution_count": null,
   "metadata": {
    "hide_input": true
   },
   "outputs": [
    {
     "data": {
      "text/markdown": [
       "<h3 id=\"TextLMDataBunch\"><code>class</code> <code>TextLMDataBunch</code><a href=\"https://github.com/fastai/fastai/blob/master/fastai/text/data.py#L196\" class=\"source_link\">[source]</a></h3>\n",
       "\n",
       "> <code>TextLMDataBunch</code>(<b>`train_dl`</b>:[`DataLoader`](https://pytorch.org/docs/stable/data.html#torch.utils.data.DataLoader), <b>`valid_dl`</b>:[`DataLoader`](https://pytorch.org/docs/stable/data.html#torch.utils.data.DataLoader), <b>`fix_dl`</b>:[`DataLoader`](https://pytorch.org/docs/stable/data.html#torch.utils.data.DataLoader)=<b><i>`None`</i></b>, <b>`test_dl`</b>:`Optional`\\[[`DataLoader`](https://pytorch.org/docs/stable/data.html#torch.utils.data.DataLoader)\\]=<b><i>`None`</i></b>, <b>`device`</b>:[`device`](https://pytorch.org/docs/stable/tensor_attributes.html#torch-device)=<b><i>`None`</i></b>, <b>`tfms`</b>:`Optional`\\[`Collection`\\[`Callable`\\]\\]=<b><i>`None`</i></b>, <b>`path`</b>:`PathOrStr`=<b><i>`'.'`</i></b>, <b>`collate_fn`</b>:`Callable`=<b><i>`'data_collate'`</i></b>, <b>`no_check`</b>:`bool`=<b><i>`False`</i></b>) :: [`TextDataBunch`](/text.data.html#TextDataBunch)\n",
       "\n",
       "Create a [`TextDataBunch`](/text.data.html#TextDataBunch) suitable for training a language model.  "
      ],
      "text/plain": [
       "<IPython.core.display.Markdown object>"
      ]
     },
     "metadata": {},
     "output_type": "display_data"
    }
   ],
   "source": [
    "show_doc(TextLMDataBunch, title_level=3)"
   ]
  },
  {
   "cell_type": "markdown",
   "metadata": {},
   "source": [
    "All the texts in the [`datasets`](/datasets.html#datasets) are concatenated and the labels are ignored. Instead, the target is the next word in the sentence."
   ]
  },
  {
   "cell_type": "code",
   "execution_count": null,
   "metadata": {
    "hide_input": true
   },
   "outputs": [
    {
     "data": {
      "text/markdown": [
       "<h4 id=\"TextLMDataBunch.create\"><code>create</code><a href=\"https://github.com/fastai/fastai/blob/master/fastai/text/data.py#L198\" class=\"source_link\">[source]</a></h4>\n",
       "\n",
       "> <code>create</code>(<b>`train_ds`</b>, <b>`valid_ds`</b>, <b>`test_ds`</b>=<b><i>`None`</i></b>, <b>`path`</b>:`PathOrStr`=<b><i>`'.'`</i></b>, <b>`no_check`</b>:`bool`=<b><i>`False`</i></b>, <b>`kwargs`</b>) → [`DataBunch`](/basic_data.html#DataBunch)\n",
       "\n",
       "Create a [`TextDataBunch`](/text.data.html#TextDataBunch) in `path` from the `datasets` for language modelling.  "
      ],
      "text/plain": [
       "<IPython.core.display.Markdown object>"
      ]
     },
     "metadata": {},
     "output_type": "display_data"
    }
   ],
   "source": [
    "show_doc(TextLMDataBunch.create)"
   ]
  },
  {
   "cell_type": "code",
   "execution_count": null,
   "metadata": {
    "hide_input": true
   },
   "outputs": [
    {
     "data": {
      "text/markdown": [
       "<h3 id=\"TextClasDataBunch\"><code>class</code> <code>TextClasDataBunch</code><a href=\"https://github.com/fastai/fastai/blob/master/fastai/text/data.py#L205\" class=\"source_link\">[source]</a></h3>\n",
       "\n",
       "> <code>TextClasDataBunch</code>(<b>`train_dl`</b>:[`DataLoader`](https://pytorch.org/docs/stable/data.html#torch.utils.data.DataLoader), <b>`valid_dl`</b>:[`DataLoader`](https://pytorch.org/docs/stable/data.html#torch.utils.data.DataLoader), <b>`fix_dl`</b>:[`DataLoader`](https://pytorch.org/docs/stable/data.html#torch.utils.data.DataLoader)=<b><i>`None`</i></b>, <b>`test_dl`</b>:`Optional`\\[[`DataLoader`](https://pytorch.org/docs/stable/data.html#torch.utils.data.DataLoader)\\]=<b><i>`None`</i></b>, <b>`device`</b>:[`device`](https://pytorch.org/docs/stable/tensor_attributes.html#torch-device)=<b><i>`None`</i></b>, <b>`tfms`</b>:`Optional`\\[`Collection`\\[`Callable`\\]\\]=<b><i>`None`</i></b>, <b>`path`</b>:`PathOrStr`=<b><i>`'.'`</i></b>, <b>`collate_fn`</b>:`Callable`=<b><i>`'data_collate'`</i></b>, <b>`no_check`</b>:`bool`=<b><i>`False`</i></b>) :: [`TextDataBunch`](/text.data.html#TextDataBunch)\n",
       "\n",
       "Create a [`TextDataBunch`](/text.data.html#TextDataBunch) suitable for training an RNN classifier.  "
      ],
      "text/plain": [
       "<IPython.core.display.Markdown object>"
      ]
     },
     "metadata": {},
     "output_type": "display_data"
    }
   ],
   "source": [
    "show_doc(TextClasDataBunch, title_level=3)"
   ]
  },
  {
   "cell_type": "code",
   "execution_count": null,
   "metadata": {
    "hide_input": true
   },
   "outputs": [
    {
     "data": {
      "text/markdown": [
       "<h4 id=\"TextClasDataBunch.create\"><code>create</code><a href=\"https://github.com/fastai/fastai/blob/master/fastai/text/data.py#L207\" class=\"source_link\">[source]</a></h4>\n",
       "\n",
       "> <code>create</code>(<b>`train_ds`</b>, <b>`valid_ds`</b>, <b>`test_ds`</b>=<b><i>`None`</i></b>, <b>`path`</b>:`PathOrStr`=<b><i>`'.'`</i></b>, <b>`bs`</b>=<b><i>`64`</i></b>, <b>`pad_idx`</b>=<b><i>`1`</i></b>, <b>`pad_first`</b>=<b><i>`True`</i></b>, <b>`no_check`</b>:`bool`=<b><i>`False`</i></b>, <b>`kwargs`</b>) → [`DataBunch`](/basic_data.html#DataBunch)\n",
       "\n",
       "Function that transform the `datasets` in a [`DataBunch`](/basic_data.html#DataBunch) for classification.  "
      ],
      "text/plain": [
       "<IPython.core.display.Markdown object>"
      ]
     },
     "metadata": {},
     "output_type": "display_data"
    }
   ],
   "source": [
    "show_doc(TextClasDataBunch.create)"
   ]
  },
  {
   "cell_type": "markdown",
   "metadata": {},
   "source": [
    "All the texts are grouped by length (with a bit of randomness for the training set) then padded so that the samples have the same length to get in a batch."
   ]
  },
  {
   "cell_type": "code",
   "execution_count": null,
   "metadata": {
    "hide_input": true
   },
   "outputs": [
    {
     "data": {
      "text/markdown": [
       "<h3 id=\"TextDataBunch\"><code>class</code> <code>TextDataBunch</code><a href=\"https://github.com/fastai/fastai/blob/master/fastai/text/data.py#L104\" class=\"source_link\">[source]</a></h3>\n",
       "\n",
       "> <code>TextDataBunch</code>(<b>`train_dl`</b>:[`DataLoader`](https://pytorch.org/docs/stable/data.html#torch.utils.data.DataLoader), <b>`valid_dl`</b>:[`DataLoader`](https://pytorch.org/docs/stable/data.html#torch.utils.data.DataLoader), <b>`fix_dl`</b>:[`DataLoader`](https://pytorch.org/docs/stable/data.html#torch.utils.data.DataLoader)=<b><i>`None`</i></b>, <b>`test_dl`</b>:`Optional`\\[[`DataLoader`](https://pytorch.org/docs/stable/data.html#torch.utils.data.DataLoader)\\]=<b><i>`None`</i></b>, <b>`device`</b>:[`device`](https://pytorch.org/docs/stable/tensor_attributes.html#torch-device)=<b><i>`None`</i></b>, <b>`tfms`</b>:`Optional`\\[`Collection`\\[`Callable`\\]\\]=<b><i>`None`</i></b>, <b>`path`</b>:`PathOrStr`=<b><i>`'.'`</i></b>, <b>`collate_fn`</b>:`Callable`=<b><i>`'data_collate'`</i></b>, <b>`no_check`</b>:`bool`=<b><i>`False`</i></b>) :: [`DataBunch`](/basic_data.html#DataBunch)\n",
       "\n",
       "General class to get a [`DataBunch`](/basic_data.html#DataBunch) for NLP. Subclassed by [`TextLMDataBunch`](/text.data.html#TextLMDataBunch) and [`TextClasDataBunch`](/text.data.html#TextClasDataBunch).  "
      ],
      "text/plain": [
       "<IPython.core.display.Markdown object>"
      ]
     },
     "metadata": {},
     "output_type": "display_data"
    }
   ],
   "source": [
    "show_doc(TextDataBunch, title_level=3)"
   ]
  },
  {
   "cell_type": "code",
   "execution_count": null,
   "metadata": {
    "hide_input": true
   },
   "outputs": [
    {
     "data": {
      "text/markdown": [
       "<div markdown=\"span\" class=\"alert alert-danger\" role=\"alert\"><i class=\"fa fa-danger-circle\"></i> <b>Warning: </b>This class can only work directly if all the texts have the same length.</div>"
      ],
      "text/plain": [
       "<IPython.core.display.Markdown object>"
      ]
     },
     "metadata": {},
     "output_type": "display_data"
    }
   ],
   "source": [
    "jekyll_warn(\"This class can only work directly if all the texts have the same length.\")"
   ]
  },
  {
   "cell_type": "markdown",
   "metadata": {},
   "source": [
    "### Factory methods (TextDataBunch)"
   ]
  },
  {
   "cell_type": "markdown",
   "metadata": {},
   "source": [
    "All those classes have the following factory methods."
   ]
  },
  {
   "cell_type": "code",
   "execution_count": null,
   "metadata": {
    "hide_input": true
   },
   "outputs": [
    {
     "data": {
      "text/markdown": [
       "<h4 id=\"TextDataBunch.from_folder\"><code>from_folder</code><a href=\"https://github.com/fastai/fastai/blob/master/fastai/text/data.py#L183\" class=\"source_link\">[source]</a></h4>\n",
       "\n",
       "> <code>from_folder</code>(<b>`path`</b>:`PathOrStr`, <b>`train`</b>:`str`=<b><i>`'train'`</i></b>, <b>`valid`</b>:`str`=<b><i>`'valid'`</i></b>, <b>`test`</b>:`Optional`\\[`str`\\]=<b><i>`None`</i></b>, <b>`classes`</b>:`ArgStar`=<b><i>`None`</i></b>, <b>`tokenizer`</b>:[`Tokenizer`](/text.transform.html#Tokenizer)=<b><i>`None`</i></b>, <b>`vocab`</b>:[`Vocab`](/text.transform.html#Vocab)=<b><i>`None`</i></b>, <b>`kwargs`</b>)\n",
       "\n",
       "Create a [`TextDataBunch`](/text.data.html#TextDataBunch) from text files in folders.  "
      ],
      "text/plain": [
       "<IPython.core.display.Markdown object>"
      ]
     },
     "metadata": {},
     "output_type": "display_data"
    }
   ],
   "source": [
    "show_doc(TextDataBunch.from_folder)"
   ]
  },
  {
   "cell_type": "markdown",
   "metadata": {},
   "source": [
    "The floders are scanned in `path` with a <code>train</code>, `valid` and maybe `test` folders. Text files in the <code>train</code> and `valid` folders should be places in subdirectories according to their classes (not applicable for a language model). `tokenizer` will be used to parse those texts into tokens.\n",
    "\n",
    "You can pass a specific `vocab` for the numericalization step (if you are building a classifier from a language model you fine-tuned for instance). kwargs will be split between the [`TextDataset`](/text.data.html#TextDataset) function and to the class initialization, you can precise there parameters such as `max_vocab`, `chunksize`, `min_freq`, `n_labels` (see the [`TextDataset`](/text.data.html#TextDataset) documentation) or `bs`, `bptt` and `pad_idx` (see the sections LM data and classifier data)."
   ]
  },
  {
   "cell_type": "code",
   "execution_count": null,
   "metadata": {
    "hide_input": true
   },
   "outputs": [
    {
     "data": {
      "text/markdown": [
       "<h4 id=\"TextDataBunch.from_csv\"><code>from_csv</code><a href=\"https://github.com/fastai/fastai/blob/master/fastai/text/data.py#L170\" class=\"source_link\">[source]</a></h4>\n",
       "\n",
       "> <code>from_csv</code>(<b>`path`</b>:`PathOrStr`, <b>`csv_name`</b>, <b>`valid_pct`</b>:`float`=<b><i>`0.2`</i></b>, <b>`test`</b>:`Optional`\\[`str`\\]=<b><i>`None`</i></b>, <b>`tokenizer`</b>:[`Tokenizer`](/text.transform.html#Tokenizer)=<b><i>`None`</i></b>, <b>`vocab`</b>:[`Vocab`](/text.transform.html#Vocab)=<b><i>`None`</i></b>, <b>`classes`</b>:`StrList`=<b><i>`None`</i></b>, <b>`header`</b>=<b><i>`'infer'`</i></b>, <b>`text_cols`</b>:`IntsOrStrs`=<b><i>`1`</i></b>, <b>`label_cols`</b>:`IntsOrStrs`=<b><i>`0`</i></b>, <b>`label_delim`</b>:`str`=<b><i>`None`</i></b>, <b>`kwargs`</b>) → [`DataBunch`](/basic_data.html#DataBunch)\n",
       "\n",
       "Create a [`TextDataBunch`](/text.data.html#TextDataBunch) from texts in csv files.  "
      ],
      "text/plain": [
       "<IPython.core.display.Markdown object>"
      ]
     },
     "metadata": {},
     "output_type": "display_data"
    }
   ],
   "source": [
    "show_doc(TextDataBunch.from_csv)"
   ]
  },
  {
   "cell_type": "markdown",
   "metadata": {},
   "source": [
    "This method will look for `csv_name` in  `path`, and maybe a `test` csv file opened with `header`. You can specify `text_cols` and `label_cols`. If there are several `text_cols`, the texts will be concatenated together with an optional field token. If there are several `label_cols`, the labels will be assumed to be one-hot encoded and `classes` will default to `label_cols` (you can ignore that argument for a language model). `tokenizer` will be used to parse those texts into tokens.\n",
    "\n",
    "You can pass a specific `vocab` for the numericalization step (if you are building a classifier from a language model you fine-tuned for instance). kwargs will be split between the [`TextDataset`](/text.data.html#TextDataset) function and to the class initialization, you can precise there parameters such as `max_vocab`, `chunksize`, `min_freq`, `n_labels` (see the [`TextDataset`](/text.data.html#TextDataset) documentation) or `bs`, `bptt` and `pad_idx` (see the sections LM data and classifier data)."
   ]
  },
  {
   "cell_type": "code",
   "execution_count": null,
   "metadata": {
    "hide_input": true
   },
   "outputs": [
    {
     "data": {
      "text/markdown": [
       "<h4 id=\"TextDataBunch.from_df\"><code>from_df</code><a href=\"https://github.com/fastai/fastai/blob/master/fastai/text/data.py#L156\" class=\"source_link\">[source]</a></h4>\n",
       "\n",
       "> <code>from_df</code>(<b>`path`</b>:`PathOrStr`, <b>`train_df`</b>:`DataFrame`, <b>`valid_df`</b>:`DataFrame`, <b>`test_df`</b>:`OptDataFrame`=<b><i>`None`</i></b>, <b>`tokenizer`</b>:[`Tokenizer`](/text.transform.html#Tokenizer)=<b><i>`None`</i></b>, <b>`vocab`</b>:[`Vocab`](/text.transform.html#Vocab)=<b><i>`None`</i></b>, <b>`classes`</b>:`StrList`=<b><i>`None`</i></b>, <b>`text_cols`</b>:`IntsOrStrs`=<b><i>`1`</i></b>, <b>`label_cols`</b>:`IntsOrStrs`=<b><i>`0`</i></b>, <b>`label_delim`</b>:`str`=<b><i>`None`</i></b>, <b>`kwargs`</b>) → [`DataBunch`](/basic_data.html#DataBunch)\n",
       "\n",
       "Create a [`TextDataBunch`](/text.data.html#TextDataBunch) from DataFrames.  "
      ],
      "text/plain": [
       "<IPython.core.display.Markdown object>"
      ]
     },
     "metadata": {},
     "output_type": "display_data"
    }
   ],
   "source": [
    "show_doc(TextDataBunch.from_df)"
   ]
  },
  {
   "cell_type": "markdown",
   "metadata": {},
   "source": [
    "This method will use `train_df`, `valid_df` and maybe `test_df` to build the [`TextDataBunch`](/text.data.html#TextDataBunch) in `path`. You can specify `text_cols` and `label_cols`. If there are several `text_cols`, the texts will be concatenated together with an optional field token. If there are several `label_cols`, the labels will be assumed to be one-hot encoded and `classes` will default to `label_cols` (you can ignore that argument for a language model). `tokenizer` will be used to parse those texts into tokens.\n",
    "\n",
    "You can pass a specific `vocab` for the numericalization step (if you are building a classifier from a language model you fine-tuned for instance). kwargs will be split between the [`TextDataset`](/text.data.html#TextDataset) function and to the class initialization, you can precise there parameters such as `max_vocab`, `chunksize`, `min_freq`, `n_labels` (see the [`TextDataset`](/text.data.html#TextDataset) documentation) or `bs`, `bptt` and `pad_idx` (see the sections LM data and classifier data)."
   ]
  },
  {
   "cell_type": "code",
   "execution_count": null,
   "metadata": {
    "hide_input": true
   },
   "outputs": [
    {
     "data": {
      "text/markdown": [
       "<h4 id=\"TextDataBunch.from_tokens\"><code>from_tokens</code><a href=\"https://github.com/fastai/fastai/blob/master/fastai/text/data.py#L143\" class=\"source_link\">[source]</a></h4>\n",
       "\n",
       "> <code>from_tokens</code>(<b>`path`</b>:`PathOrStr`, <b>`trn_tok`</b>:`Tokens`, <b>`trn_lbls`</b>:`Collection`\\[`Union`\\[`int`, `float`\\]\\], <b>`val_tok`</b>:`Tokens`, <b>`val_lbls`</b>:`Collection`\\[`Union`\\[`int`, `float`\\]\\], <b>`vocab`</b>:[`Vocab`](/text.transform.html#Vocab)=<b><i>`None`</i></b>, <b>`tst_tok`</b>:`Tokens`=<b><i>`None`</i></b>, <b>`classes`</b>:`ArgStar`=<b><i>`None`</i></b>, <b>`kwargs`</b>) → [`DataBunch`](/basic_data.html#DataBunch)\n",
       "\n",
       "Create a [`TextDataBunch`](/text.data.html#TextDataBunch) from tokens and labels.  "
      ],
      "text/plain": [
       "<IPython.core.display.Markdown object>"
      ]
     },
     "metadata": {},
     "output_type": "display_data"
    }
   ],
   "source": [
    "show_doc(TextDataBunch.from_tokens)"
   ]
  },
  {
   "cell_type": "markdown",
   "metadata": {},
   "source": [
    "This function will create a [`DataBunch`](/basic_data.html#DataBunch) from `trn_tok`, `trn_lbls`, `val_tok`, `val_lbls` and maybe `tst_tok`.\n",
    "\n",
    "You can pass a specific `vocab` for the numericalization step (if you are building a classifier from a language model you fine-tuned for instance). kwargs will be split between the [`TextDataset`](/text.data.html#TextDataset) function and to the class initialization, you can precise there parameters such as `max_vocab`, `chunksize`, `min_freq`, `n_labels`, `tok_suff` and `lbl_suff` (see the [`TextDataset`](/text.data.html#TextDataset) documentation) or `bs`, `bptt` and `pad_idx` (see the sections LM data and classifier data)."
   ]
  },
  {
   "cell_type": "code",
   "execution_count": null,
   "metadata": {
    "hide_input": true
   },
   "outputs": [
    {
     "data": {
      "text/markdown": [
       "<h4 id=\"TextDataBunch.from_ids\"><code>from_ids</code><a href=\"https://github.com/fastai/fastai/blob/master/fastai/text/data.py#L119\" class=\"source_link\">[source]</a></h4>\n",
       "\n",
       "> <code>from_ids</code>(<b>`path`</b>:`PathOrStr`, <b>`vocab`</b>:[`Vocab`](/text.transform.html#Vocab), <b>`train_ids`</b>:`Collection`\\[`Collection`\\[`int`\\]\\], <b>`valid_ids`</b>:`Collection`\\[`Collection`\\[`int`\\]\\], <b>`test_ids`</b>:`Collection`\\[`Collection`\\[`int`\\]\\]=<b><i>`None`</i></b>, <b>`train_lbls`</b>:`Collection`\\[`Union`\\[`int`, `float`\\]\\]=<b><i>`None`</i></b>, <b>`valid_lbls`</b>:`Collection`\\[`Union`\\[`int`, `float`\\]\\]=<b><i>`None`</i></b>, <b>`classes`</b>:`ArgStar`=<b><i>`None`</i></b>, <b>`processor`</b>:[`PreProcessor`](/data_block.html#PreProcessor)=<b><i>`None`</i></b>, <b>`kwargs`</b>) → [`DataBunch`](/basic_data.html#DataBunch)\n",
       "\n",
       "Create a [`TextDataBunch`](/text.data.html#TextDataBunch) from ids, labels and a `vocab`.  "
      ],
      "text/plain": [
       "<IPython.core.display.Markdown object>"
      ]
     },
     "metadata": {},
     "output_type": "display_data"
    }
   ],
   "source": [
    "show_doc(TextDataBunch.from_ids)"
   ]
  },
  {
   "cell_type": "markdown",
   "metadata": {},
   "source": [
    "Texts are already preprocessed into `train_ids`, `train_lbls`, `valid_ids`, `valid_lbls` and maybe `test_ids`. You can specify the corresponding `classes` if applicable. You must specify a `path` and the `vocab` so that the [`RNNLearner`](/text.learner.html#RNNLearner) class can later infer the corresponding sizes in the model it will create. kwargs will be passed to the class initialization."
   ]
  },
  {
   "cell_type": "markdown",
   "metadata": {},
   "source": [
    "### Load and save"
   ]
  },
  {
   "cell_type": "markdown",
   "metadata": {},
   "source": [
    "To avoid losing time preprocessing the text data more than once, you should save/load your [`TextDataBunch`](/text.data.html#TextDataBunch) using thse methods."
   ]
  },
  {
   "cell_type": "code",
   "execution_count": null,
   "metadata": {
    "hide_input": true
   },
   "outputs": [
    {
     "data": {
      "text/markdown": [
       "<h4 id=\"TextDataBunch.load\"><code>load</code><a href=\"https://github.com/fastai/fastai/blob/master/fastai/text/data.py#L132\" class=\"source_link\">[source]</a></h4>\n",
       "\n",
       "> <code>load</code>(<b>`path`</b>:`PathOrStr`, <b>`cache_name`</b>:`PathOrStr`=<b><i>`'tmp'`</i></b>, <b>`processor`</b>:[`PreProcessor`](/data_block.html#PreProcessor)=<b><i>`None`</i></b>, <b>`kwargs`</b>)\n",
       "\n",
       "Load a [`TextDataBunch`](/text.data.html#TextDataBunch) from `path/cache_name`. `kwargs` are passed to the dataloader creation.  "
      ],
      "text/plain": [
       "<IPython.core.display.Markdown object>"
      ]
     },
     "metadata": {},
     "output_type": "display_data"
    }
   ],
   "source": [
    "show_doc(TextDataBunch.load)"
   ]
  },
  {
   "cell_type": "code",
   "execution_count": null,
   "metadata": {
    "hide_input": true
   },
   "outputs": [
    {
     "data": {
      "text/markdown": [
       "<h4 id=\"TextDataBunch.save\"><code>save</code><a href=\"https://github.com/fastai/fastai/blob/master/fastai/text/data.py#L107\" class=\"source_link\">[source]</a></h4>\n",
       "\n",
       "> <code>save</code>(<b>`cache_name`</b>:`PathOrStr`=<b><i>`'tmp'`</i></b>)\n",
       "\n",
       "Save the [`DataBunch`](/basic_data.html#DataBunch) in `self.path/cache_name` folder.  "
      ],
      "text/plain": [
       "<IPython.core.display.Markdown object>"
      ]
     },
     "metadata": {},
     "output_type": "display_data"
    }
   ],
   "source": [
    "show_doc(TextDataBunch.save)"
   ]
  },
  {
   "cell_type": "markdown",
   "metadata": {},
   "source": [
    "### Example"
   ]
  },
  {
   "cell_type": "markdown",
   "metadata": {},
   "source": [
    "Untar the IMDB sample dataset if not already done:"
   ]
  },
  {
   "cell_type": "code",
   "execution_count": null,
   "metadata": {},
   "outputs": [
    {
     "data": {
      "text/plain": [
       "PosixPath('/home/ubuntu/.fastai/data/imdb_sample')"
      ]
     },
     "execution_count": null,
     "metadata": {},
     "output_type": "execute_result"
    }
   ],
   "source": [
    "path = untar_data(URLs.IMDB_SAMPLE)\n",
    "path"
   ]
  },
  {
   "cell_type": "markdown",
   "metadata": {},
   "source": [
    "Since it comes in the form of csv files, we will use the corresponding `text_data` method. Here is an overview of what your file you should look like:"
   ]
  },
  {
   "cell_type": "code",
   "execution_count": null,
   "metadata": {},
   "outputs": [
    {
     "data": {
      "text/html": [
       "<div>\n",
       "<style scoped>\n",
       "    .dataframe tbody tr th:only-of-type {\n",
       "        vertical-align: middle;\n",
       "    }\n",
       "\n",
       "    .dataframe tbody tr th {\n",
       "        vertical-align: top;\n",
       "    }\n",
       "\n",
       "    .dataframe thead th {\n",
       "        text-align: right;\n",
       "    }\n",
       "</style>\n",
       "<table border=\"1\" class=\"dataframe\">\n",
       "  <thead>\n",
       "    <tr style=\"text-align: right;\">\n",
       "      <th></th>\n",
       "      <th>label</th>\n",
       "      <th>text</th>\n",
       "      <th>is_valid</th>\n",
       "    </tr>\n",
       "  </thead>\n",
       "  <tbody>\n",
       "    <tr>\n",
       "      <th>0</th>\n",
       "      <td>negative</td>\n",
       "      <td>Un-bleeping-believable! Meg Ryan doesn't even ...</td>\n",
       "      <td>False</td>\n",
       "    </tr>\n",
       "    <tr>\n",
       "      <th>1</th>\n",
       "      <td>positive</td>\n",
       "      <td>This is a extremely well-made film. The acting...</td>\n",
       "      <td>False</td>\n",
       "    </tr>\n",
       "    <tr>\n",
       "      <th>2</th>\n",
       "      <td>negative</td>\n",
       "      <td>Every once in a long while a movie will come a...</td>\n",
       "      <td>False</td>\n",
       "    </tr>\n",
       "    <tr>\n",
       "      <th>3</th>\n",
       "      <td>positive</td>\n",
       "      <td>Name just says it all. I watched this movie wi...</td>\n",
       "      <td>False</td>\n",
       "    </tr>\n",
       "    <tr>\n",
       "      <th>4</th>\n",
       "      <td>negative</td>\n",
       "      <td>This movie succeeds at being one of the most u...</td>\n",
       "      <td>False</td>\n",
       "    </tr>\n",
       "  </tbody>\n",
       "</table>\n",
       "</div>"
      ],
      "text/plain": [
       "      label                                               text  is_valid\n",
       "0  negative  Un-bleeping-believable! Meg Ryan doesn't even ...     False\n",
       "1  positive  This is a extremely well-made film. The acting...     False\n",
       "2  negative  Every once in a long while a movie will come a...     False\n",
       "3  positive  Name just says it all. I watched this movie wi...     False\n",
       "4  negative  This movie succeeds at being one of the most u...     False"
      ]
     },
     "execution_count": null,
     "metadata": {},
     "output_type": "execute_result"
    }
   ],
   "source": [
    "pd.read_csv(path/'texts.csv').head()"
   ]
  },
  {
   "cell_type": "markdown",
   "metadata": {},
   "source": [
    "And here is a simple way of creating your [`DataBunch`](/basic_data.html#DataBunch) for language modelling or classification."
   ]
  },
  {
   "cell_type": "code",
   "execution_count": null,
   "metadata": {},
   "outputs": [],
   "source": [
    "data_lm = TextLMDataBunch.from_csv(Path(path), 'texts.csv')\n",
    "data_clas = TextClasDataBunch.from_csv(Path(path), 'texts.csv')"
   ]
  },
  {
   "cell_type": "markdown",
   "metadata": {},
   "source": [
    "## The TextList input classes"
   ]
  },
  {
   "cell_type": "markdown",
   "metadata": {},
   "source": [
    "Behind the scenes, the previous functions will create a training, validation and maybe test [`TextList`](/text.data.html#TextList) that will be tokenized and numericalized (if needed) using [`PreProcessor`](/data_block.html#PreProcessor)."
   ]
  },
  {
   "cell_type": "code",
   "execution_count": null,
   "metadata": {
    "hide_input": true
   },
   "outputs": [
    {
     "data": {
      "text/markdown": [
       "<h3 id=\"Text\"><code>class</code> <code>Text</code><a href=\"https://github.com/fastai/fastai/blob/master/fastai/text/data.py#L226\" class=\"source_link\">[source]</a></h3>\n",
       "\n",
       "> <code>Text</code>(<b>`ids`</b>, <b>`text`</b>) :: [`ItemBase`](/core.html#ItemBase)\n",
       "\n",
       "Basic item for <code>text</code> data in numericalized `ids`.  "
      ],
      "text/plain": [
       "<IPython.core.display.Markdown object>"
      ]
     },
     "metadata": {},
     "output_type": "display_data"
    }
   ],
   "source": [
    "show_doc(Text, title_level=3)"
   ]
  },
  {
   "cell_type": "code",
   "execution_count": null,
   "metadata": {
    "hide_input": true
   },
   "outputs": [
    {
     "data": {
      "text/markdown": [
       "<h3 id=\"TextList\"><code>class</code> <code>TextList</code><a href=\"https://github.com/fastai/fastai/blob/master/fastai/text/data.py#L261\" class=\"source_link\">[source]</a></h3>\n",
       "\n",
       "> <code>TextList</code>(<b>`items`</b>:`Iterator`\\[`T_co`\\], <b>`vocab`</b>:[`Vocab`](/text.transform.html#Vocab)=<b><i>`None`</i></b>, <b>`pad_idx`</b>:`int`=<b><i>`1`</i></b>, <b>`kwargs`</b>) :: [`ItemList`](/data_block.html#ItemList)\n",
       "\n",
       "Basic [`ItemList`](/data_block.html#ItemList) for text data.  "
      ],
      "text/plain": [
       "<IPython.core.display.Markdown object>"
      ]
     },
     "metadata": {},
     "output_type": "display_data"
    }
   ],
   "source": [
    "show_doc(TextList, title_level=3)"
   ]
  },
  {
   "cell_type": "markdown",
   "metadata": {},
   "source": [
    "`vocab` contains the correspondance between ids and tokens, `pad_idx` is the id used for padding. You can pass a custom `processor` in the `kwargs` to change the defaults for tokenization or numericalization. It should have the following form:"
   ]
  },
  {
   "cell_type": "code",
   "execution_count": null,
   "metadata": {},
   "outputs": [],
   "source": [
    "processor = [TokenizeProcessor(tokenizer=SpacyTokenizer('en')), NumericalizeProcessor(max_vocab=30000)]"
   ]
  },
  {
   "cell_type": "markdown",
   "metadata": {},
   "source": [
    "See below for all the arguments those tokenizers can take."
   ]
  },
  {
   "cell_type": "code",
   "execution_count": null,
   "metadata": {
    "hide_input": true
   },
   "outputs": [
    {
     "data": {
      "text/markdown": [
       "<h4 id=\"TextList.label_for_lm\"><code>label_for_lm</code><a href=\"https://github.com/fastai/fastai/blob/master/fastai/text/data.py#L277\" class=\"source_link\">[source]</a></h4>\n",
       "\n",
       "> <code>label_for_lm</code>(<b>`kwargs`</b>)\n",
       "\n",
       "A special labelling method for language models.  "
      ],
      "text/plain": [
       "<IPython.core.display.Markdown object>"
      ]
     },
     "metadata": {},
     "output_type": "display_data"
    }
   ],
   "source": [
    "show_doc(TextList.label_for_lm)"
   ]
  },
  {
   "cell_type": "code",
   "execution_count": null,
   "metadata": {
    "hide_input": true
   },
   "outputs": [
    {
     "data": {
      "text/markdown": [
       "<h4 id=\"TextList.from_folder\"><code>from_folder</code><a href=\"https://github.com/fastai/fastai/blob/master/fastai/text/data.py#L286\" class=\"source_link\">[source]</a></h4>\n",
       "\n",
       "> <code>from_folder</code>(<b>`path`</b>:`PathOrStr`=<b><i>`'.'`</i></b>, <b>`extensions`</b>:`StrList`=<b><i>`{'.txt'}`</i></b>, <b>`vocab`</b>:[`Vocab`](/text.transform.html#Vocab)=<b><i>`None`</i></b>, <b>`processor`</b>:[`PreProcessor`](/data_block.html#PreProcessor)=<b><i>`None`</i></b>, <b>`kwargs`</b>) → `TextList`\n",
       "\n",
       "Get the list of files in `path` that have a text suffix. `recurse` determines if we search subfolders.  "
      ],
      "text/plain": [
       "<IPython.core.display.Markdown object>"
      ]
     },
     "metadata": {},
     "output_type": "display_data"
    }
   ],
   "source": [
    "show_doc(TextList.from_folder)"
   ]
  },
  {
   "cell_type": "code",
   "execution_count": null,
   "metadata": {
    "hide_input": true
   },
   "outputs": [
    {
     "data": {
      "text/markdown": [
       "<h4 id=\"TextList.show_xys\"><code>show_xys</code><a href=\"https://github.com/fastai/fastai/blob/master/fastai/text/data.py#L293\" class=\"source_link\">[source]</a></h4>\n",
       "\n",
       "> <code>show_xys</code>(<b>`xs`</b>, <b>`ys`</b>, <b>`max_len`</b>:`int`=<b><i>`70`</i></b>)\n",
       "\n",
       "Show the `xs` (inputs) and `ys` (targets). `max_len` is the maximum number of tokens displayed.  "
      ],
      "text/plain": [
       "<IPython.core.display.Markdown object>"
      ]
     },
     "metadata": {},
     "output_type": "display_data"
    }
   ],
   "source": [
    "show_doc(TextList.show_xys)"
   ]
  },
  {
   "cell_type": "code",
   "execution_count": null,
   "metadata": {
    "hide_input": true
   },
   "outputs": [
    {
     "data": {
      "text/markdown": [
       "<h4 id=\"TextList.show_xyzs\"><code>show_xyzs</code><a href=\"https://github.com/fastai/fastai/blob/master/fastai/text/data.py#L302\" class=\"source_link\">[source]</a></h4>\n",
       "\n",
       "> <code>show_xyzs</code>(<b>`xs`</b>, <b>`ys`</b>, <b>`zs`</b>, <b>`max_len`</b>:`int`=<b><i>`70`</i></b>)\n",
       "\n",
       "Show `xs` (inputs), `ys` (targets) and `zs` (predictions). `max_len` is the maximum number of tokens displayed.  "
      ],
      "text/plain": [
       "<IPython.core.display.Markdown object>"
      ]
     },
     "metadata": {},
     "output_type": "display_data"
    }
   ],
   "source": [
    "show_doc(TextList.show_xyzs)"
   ]
  },
  {
   "cell_type": "code",
   "execution_count": null,
   "metadata": {
    "hide_input": true
   },
   "outputs": [
    {
     "data": {
      "text/markdown": [
       "<h3 id=\"OpenFileProcessor\"><code>class</code> <code>OpenFileProcessor</code><a href=\"https://github.com/fastai/fastai/blob/master/fastai/text/data.py#L256\" class=\"source_link\">[source]</a></h3>\n",
       "\n",
       "> <code>OpenFileProcessor</code>(<b>`ds`</b>:`Collection`\\[`T_co`\\]=<b><i>`None`</i></b>) :: [`PreProcessor`](/data_block.html#PreProcessor)\n",
       "\n",
       "[`PreProcessor`](/data_block.html#PreProcessor) that opens the filenames and read the texts.  "
      ],
      "text/plain": [
       "<IPython.core.display.Markdown object>"
      ]
     },
     "metadata": {},
     "output_type": "display_data"
    }
   ],
   "source": [
    "show_doc(OpenFileProcessor, title_level=3)"
   ]
  },
  {
   "cell_type": "code",
   "execution_count": null,
   "metadata": {
    "hide_input": true
   },
   "outputs": [
    {
     "data": {
      "text/markdown": [
       "<h4 id=\"open_text\"><code>open_text</code><a href=\"https://github.com/fastai/fastai/blob/master/fastai/text/data.py#L222\" class=\"source_link\">[source]</a></h4>\n",
       "\n",
       "> <code>open_text</code>(<b>`fn`</b>:`PathOrStr`, <b>`enc`</b>=<b><i>`'utf-8'`</i></b>)\n",
       "\n",
       "Read the text in `fn`.  "
      ],
      "text/plain": [
       "<IPython.core.display.Markdown object>"
      ]
     },
     "metadata": {},
     "output_type": "display_data"
    }
   ],
   "source": [
    "show_doc(open_text)"
   ]
  },
  {
   "cell_type": "code",
   "execution_count": null,
   "metadata": {
    "hide_input": true
   },
   "outputs": [
    {
     "data": {
      "text/markdown": [
       "<h3 id=\"TokenizeProcessor\"><code>class</code> <code>TokenizeProcessor</code><a href=\"https://github.com/fastai/fastai/blob/master/fastai/text/data.py#L231\" class=\"source_link\">[source]</a></h3>\n",
       "\n",
       "> <code>TokenizeProcessor</code>(<b>`ds`</b>:[`ItemList`](/data_block.html#ItemList)=<b><i>`None`</i></b>, <b>`tokenizer`</b>:[`Tokenizer`](/text.transform.html#Tokenizer)=<b><i>`None`</i></b>, <b>`chunksize`</b>:`int`=<b><i>`10000`</i></b>, <b>`mark_fields`</b>:`bool`=<b><i>`False`</i></b>) :: [`PreProcessor`](/data_block.html#PreProcessor)\n",
       "\n",
       "[`PreProcessor`](/data_block.html#PreProcessor) that tokenizes the texts in `ds`.  "
      ],
      "text/plain": [
       "<IPython.core.display.Markdown object>"
      ]
     },
     "metadata": {},
     "output_type": "display_data"
    }
   ],
   "source": [
    "show_doc(TokenizeProcessor, title_level=3)"
   ]
  },
  {
   "cell_type": "markdown",
   "metadata": {},
   "source": [
    "`tokenizer` is uded on bits of `chunsize`. If `mark_fields=True`, add field tokens between each parts of the texts (given when the texts are read in several columns of a dataframe). See more about tokenizers in the [transform documentation](/text.transform.html)."
   ]
  },
  {
   "cell_type": "code",
   "execution_count": null,
   "metadata": {
    "hide_input": true
   },
   "outputs": [
    {
     "data": {
      "text/markdown": [
       "<h3 id=\"NumericalizeProcessor\"><code>class</code> <code>NumericalizeProcessor</code><a href=\"https://github.com/fastai/fastai/blob/master/fastai/text/data.py#L244\" class=\"source_link\">[source]</a></h3>\n",
       "\n",
       "> <code>NumericalizeProcessor</code>(<b>`ds`</b>:[`ItemList`](/data_block.html#ItemList)=<b><i>`None`</i></b>, <b>`vocab`</b>:[`Vocab`](/text.transform.html#Vocab)=<b><i>`None`</i></b>, <b>`max_vocab`</b>:`int`=<b><i>`60000`</i></b>, <b>`min_freq`</b>:`int`=<b><i>`2`</i></b>) :: [`PreProcessor`](/data_block.html#PreProcessor)\n",
       "\n",
       "[`PreProcessor`](/data_block.html#PreProcessor) that numericalizes the tokens in `ds`.  "
      ],
      "text/plain": [
       "<IPython.core.display.Markdown object>"
      ]
     },
     "metadata": {},
     "output_type": "display_data"
    }
   ],
   "source": [
    "show_doc(NumericalizeProcessor, title_level=3)"
   ]
  },
  {
   "cell_type": "markdown",
   "metadata": {},
   "source": [
    "Uses `vocab` for this (if not None), otherwise create one with `max_vocab` and `min_freq` from tokens."
   ]
  },
  {
   "cell_type": "markdown",
   "metadata": {},
   "source": [
    "## Language Model data"
   ]
  },
  {
   "cell_type": "markdown",
   "metadata": {},
   "source": [
    "A language model is trained to guess what the next word is inside a flow of words. We don't feed it the different texts separately but concatenate them all together in a big array. To create the batches, we split this array into `bs` chuncks of continuous texts. Note that in all NLP tasks, we don't use the usual convention of sequence length being the first dimension so batch size is the first dimension and sequence lenght is the second. Here you can read the chunks of texts in lines. "
   ]
  },
  {
   "cell_type": "code",
   "execution_count": null,
   "metadata": {},
   "outputs": [
    {
     "data": {
      "text/html": [
       "<div>\n",
       "<style scoped>\n",
       "    .dataframe tbody tr th:only-of-type {\n",
       "        vertical-align: middle;\n",
       "    }\n",
       "\n",
       "    .dataframe tbody tr th {\n",
       "        vertical-align: top;\n",
       "    }\n",
       "\n",
       "    .dataframe thead th {\n",
       "        text-align: right;\n",
       "    }\n",
       "</style>\n",
       "<table border=\"1\" class=\"dataframe\">\n",
       "  <thead>\n",
       "    <tr style=\"text-align: right;\">\n",
       "      <th></th>\n",
       "      <th>0</th>\n",
       "      <th>1</th>\n",
       "      <th>2</th>\n",
       "      <th>3</th>\n",
       "      <th>4</th>\n",
       "      <th>5</th>\n",
       "      <th>6</th>\n",
       "      <th>7</th>\n",
       "      <th>8</th>\n",
       "      <th>9</th>\n",
       "      <th>10</th>\n",
       "      <th>11</th>\n",
       "      <th>12</th>\n",
       "      <th>13</th>\n",
       "      <th>14</th>\n",
       "    </tr>\n",
       "  </thead>\n",
       "  <tbody>\n",
       "    <tr>\n",
       "      <th>0</th>\n",
       "      <td>xxbos</td>\n",
       "      <td>...</td>\n",
       "      <td>the</td>\n",
       "      <td>first</td>\n",
       "      <td>film</td>\n",
       "      <td>i</td>\n",
       "      <td>had</td>\n",
       "      <td>to</td>\n",
       "      <td>walk</td>\n",
       "      <td>out</td>\n",
       "      <td>on</td>\n",
       "      <td>.</td>\n",
       "      <td>xxmaj</td>\n",
       "      <td>and</td>\n",
       "      <td>it</td>\n",
       "    </tr>\n",
       "    <tr>\n",
       "      <th>1</th>\n",
       "      <td>and</td>\n",
       "      <td>you</td>\n",
       "      <td>'ll</td>\n",
       "      <td>agree</td>\n",
       "      <td>.</td>\n",
       "      <td>\"</td>\n",
       "      <td>xxmaj</td>\n",
       "      <td>eyes</td>\n",
       "      <td>xxmaj</td>\n",
       "      <td>wide</td>\n",
       "      <td>xxmaj</td>\n",
       "      <td>shut</td>\n",
       "      <td>\"</td>\n",
       "      <td>when</td>\n",
       "      <td>released</td>\n",
       "    </tr>\n",
       "    <tr>\n",
       "      <th>2</th>\n",
       "      <td>the</td>\n",
       "      <td>love</td>\n",
       "      <td>xxunk</td>\n",
       "      <td>of</td>\n",
       "      <td>xxmaj</td>\n",
       "      <td>alex</td>\n",
       "      <td>and</td>\n",
       "      <td>xxmaj</td>\n",
       "      <td>kiki</td>\n",
       "      <td>,</td>\n",
       "      <td>and</td>\n",
       "      <td>xxmaj</td>\n",
       "      <td>kiki</td>\n",
       "      <td>and</td>\n",
       "      <td>her</td>\n",
       "    </tr>\n",
       "    <tr>\n",
       "      <th>3</th>\n",
       "      <td>you</td>\n",
       "      <td>and</td>\n",
       "      <td>so</td>\n",
       "      <td>could</td>\n",
       "      <td>someone</td>\n",
       "      <td>who</td>\n",
       "      <td>had</td>\n",
       "      <td>never</td>\n",
       "      <td>seen</td>\n",
       "      <td>a</td>\n",
       "      <td>movie</td>\n",
       "      <td>before</td>\n",
       "      <td>.</td>\n",
       "      <td>xxmaj</td>\n",
       "      <td>it</td>\n",
       "    </tr>\n",
       "    <tr>\n",
       "      <th>4</th>\n",
       "      <td>for</td>\n",
       "      <td>their</td>\n",
       "      <td>liking</td>\n",
       "      <td>.</td>\n",
       "      <td>7</td>\n",
       "      <td>/</td>\n",
       "      <td>10</td>\n",
       "      <td>xxbos</td>\n",
       "      <td>xxmaj</td>\n",
       "      <td>predictable</td>\n",
       "      <td>,</td>\n",
       "      <td>told</td>\n",
       "      <td>a</td>\n",
       "      <td>thousand</td>\n",
       "      <td>times</td>\n",
       "    </tr>\n",
       "    <tr>\n",
       "      <th>5</th>\n",
       "      <td>wrote</td>\n",
       "      <td>something</td>\n",
       "      <td>as</td>\n",
       "      <td>boring</td>\n",
       "      <td>and</td>\n",
       "      <td>utterly</td>\n",
       "      <td>ridiculous</td>\n",
       "      <td>as</td>\n",
       "      <td>this</td>\n",
       "      <td>i</td>\n",
       "      <td>would</td>\n",
       "      <td>be</td>\n",
       "      <td>laughed</td>\n",
       "      <td>at</td>\n",
       "      <td>and</td>\n",
       "    </tr>\n",
       "    <tr>\n",
       "      <th>6</th>\n",
       "      <td>the</td>\n",
       "      <td>xxmaj</td>\n",
       "      <td>beatles</td>\n",
       "      <td>;</td>\n",
       "      <td>it</td>\n",
       "      <td>has</td>\n",
       "      <td>very</td>\n",
       "      <td>little</td>\n",
       "      <td>plot</td>\n",
       "      <td>,</td>\n",
       "      <td>in</td>\n",
       "      <td>fact</td>\n",
       "      <td>,</td>\n",
       "      <td>and</td>\n",
       "      <td>takes</td>\n",
       "    </tr>\n",
       "    <tr>\n",
       "      <th>7</th>\n",
       "      <td>that</td>\n",
       "      <td>he</td>\n",
       "      <td>'s</td>\n",
       "      <td>found</td>\n",
       "      <td>love</td>\n",
       "      <td>again</td>\n",
       "      <td>in</td>\n",
       "      <td>xxmaj</td>\n",
       "      <td>xxunk</td>\n",
       "      <td>.</td>\n",
       "      <td>\\n\\n</td>\n",
       "      <td>xxmaj</td>\n",
       "      <td>as</td>\n",
       "      <td>for</td>\n",
       "      <td>those</td>\n",
       "    </tr>\n",
       "    <tr>\n",
       "      <th>8</th>\n",
       "      <td>are</td>\n",
       "      <td>good</td>\n",
       "      <td>.</td>\n",
       "      <td>xxmaj</td>\n",
       "      <td>however</td>\n",
       "      <td>,</td>\n",
       "      <td>the</td>\n",
       "      <td>xxunk</td>\n",
       "      <td>gang</td>\n",
       "      <td>rape</td>\n",
       "      <td>scene</td>\n",
       "      <td>is</td>\n",
       "      <td>the</td>\n",
       "      <td>most</td>\n",
       "      <td>appalling</td>\n",
       "    </tr>\n",
       "    <tr>\n",
       "      <th>9</th>\n",
       "      <td>xxmaj</td>\n",
       "      <td>fantastic</td>\n",
       "      <td>and</td>\n",
       "      <td>i</td>\n",
       "      <td>thought</td>\n",
       "      <td>xxmaj</td>\n",
       "      <td>michelle</td>\n",
       "      <td>xxmaj</td>\n",
       "      <td>xxunk</td>\n",
       "      <td>did</td>\n",
       "      <td>a</td>\n",
       "      <td>good</td>\n",
       "      <td>job</td>\n",
       "      <td>in</td>\n",
       "      <td>the</td>\n",
       "    </tr>\n",
       "    <tr>\n",
       "      <th>10</th>\n",
       "      <td>authentic</td>\n",
       "      <td>-</td>\n",
       "      <td>looking</td>\n",
       "      <td>sports</td>\n",
       "      <td>action</td>\n",
       "      <td>,</td>\n",
       "      <td>believable</td>\n",
       "      <td>characters</td>\n",
       "      <td>,</td>\n",
       "      <td>and</td>\n",
       "      <td>an</td>\n",
       "      <td>original</td>\n",
       "      <td>story</td>\n",
       "      <td>line</td>\n",
       "      <td>.</td>\n",
       "    </tr>\n",
       "    <tr>\n",
       "      <th>11</th>\n",
       "      <td>xxunk</td>\n",
       "      <td>xxmaj</td>\n",
       "      <td>xxunk</td>\n",
       "      <td>,</td>\n",
       "      <td>who</td>\n",
       "      <td>now</td>\n",
       "      <td>stars</td>\n",
       "      <td>on</td>\n",
       "      <td>the</td>\n",
       "      <td>xxup</td>\n",
       "      <td>tv</td>\n",
       "      <td>xxmaj</td>\n",
       "      <td>show</td>\n",
       "      <td>\"</td>\n",
       "      <td>xxmaj</td>\n",
       "    </tr>\n",
       "    <tr>\n",
       "      <th>12</th>\n",
       "      <td>case</td>\n",
       "      <td>for</td>\n",
       "      <td>art</td>\n",
       "      <td>xxunk</td>\n",
       "      <td>life</td>\n",
       "      <td>?</td>\n",
       "      <td>\\n\\n</td>\n",
       "      <td>xxmaj</td>\n",
       "      <td>full</td>\n",
       "      <td>of</td>\n",
       "      <td>great</td>\n",
       "      <td>xxmaj</td>\n",
       "      <td>hollywood</td>\n",
       "      <td>location</td>\n",
       "      <td>footage</td>\n",
       "    </tr>\n",
       "    <tr>\n",
       "      <th>13</th>\n",
       "      <td>al</td>\n",
       "      <td>retired</td>\n",
       "      <td>when</td>\n",
       "      <td>his</td>\n",
       "      <td>wife</td>\n",
       "      <td>died</td>\n",
       "      <td>.</td>\n",
       "      <td>xxmaj</td>\n",
       "      <td>willie</td>\n",
       "      <td>was</td>\n",
       "      <td>not</td>\n",
       "      <td>ready</td>\n",
       "      <td>to</td>\n",
       "      <td>xxunk</td>\n",
       "      <td>(</td>\n",
       "    </tr>\n",
       "    <tr>\n",
       "      <th>14</th>\n",
       "      <td>and</td>\n",
       "      <td>enjoying</td>\n",
       "      <td>the</td>\n",
       "      <td>ride</td>\n",
       "      <td>!</td>\n",
       "      <td>i</td>\n",
       "      <td>have</td>\n",
       "      <td>seen</td>\n",
       "      <td>many</td>\n",
       "      <td>xxup</td>\n",
       "      <td>xxunk</td>\n",
       "      <td>films</td>\n",
       "      <td>,</td>\n",
       "      <td>and</td>\n",
       "      <td>some</td>\n",
       "    </tr>\n",
       "  </tbody>\n",
       "</table>\n",
       "</div>"
      ],
      "text/plain": [
       "           0          1        2       3        4        5           6   \\\n",
       "0       xxbos        ...      the   first     film        i         had   \n",
       "1         and        you      'll   agree        .        \"       xxmaj   \n",
       "2         the       love    xxunk      of    xxmaj     alex         and   \n",
       "3         you        and       so   could  someone      who         had   \n",
       "4         for      their   liking       .        7        /          10   \n",
       "5       wrote  something       as  boring      and  utterly  ridiculous   \n",
       "6         the      xxmaj  beatles       ;       it      has        very   \n",
       "7        that         he       's   found     love    again          in   \n",
       "8         are       good        .   xxmaj  however        ,         the   \n",
       "9       xxmaj  fantastic      and       i  thought    xxmaj    michelle   \n",
       "10  authentic          -  looking  sports   action        ,  believable   \n",
       "11      xxunk      xxmaj    xxunk       ,      who      now       stars   \n",
       "12       case        for      art   xxunk     life        ?        \\n\\n   \n",
       "13         al    retired     when     his     wife     died           .   \n",
       "14        and   enjoying      the    ride        !        i        have   \n",
       "\n",
       "            7       8            9      10        11         12        13  \\\n",
       "0           to    walk          out     on         .      xxmaj       and   \n",
       "1         eyes   xxmaj         wide  xxmaj      shut          \"      when   \n",
       "2        xxmaj    kiki            ,    and     xxmaj       kiki       and   \n",
       "3        never    seen            a  movie    before          .     xxmaj   \n",
       "4        xxbos   xxmaj  predictable      ,      told          a  thousand   \n",
       "5           as    this            i  would        be    laughed        at   \n",
       "6       little    plot            ,     in      fact          ,       and   \n",
       "7        xxmaj   xxunk            .   \\n\\n     xxmaj         as       for   \n",
       "8        xxunk    gang         rape  scene        is        the      most   \n",
       "9        xxmaj   xxunk          did      a      good        job        in   \n",
       "10  characters       ,          and     an  original      story      line   \n",
       "11          on     the         xxup     tv     xxmaj       show         \"   \n",
       "12       xxmaj    full           of  great     xxmaj  hollywood  location   \n",
       "13       xxmaj  willie          was    not     ready         to     xxunk   \n",
       "14        seen    many         xxup  xxunk     films          ,       and   \n",
       "\n",
       "           14  \n",
       "0          it  \n",
       "1    released  \n",
       "2         her  \n",
       "3          it  \n",
       "4       times  \n",
       "5         and  \n",
       "6       takes  \n",
       "7       those  \n",
       "8   appalling  \n",
       "9         the  \n",
       "10          .  \n",
       "11      xxmaj  \n",
       "12    footage  \n",
       "13          (  \n",
       "14       some  "
      ]
     },
     "execution_count": null,
     "metadata": {},
     "output_type": "execute_result"
    }
   ],
   "source": [
    "path = untar_data(URLs.IMDB_SAMPLE)\n",
    "data = TextLMDataBunch.from_csv(path, 'texts.csv')\n",
    "x,y = next(iter(data.train_dl))\n",
    "example = x[:15,:15].cpu()\n",
    "texts = pd.DataFrame([data.train_ds.vocab.textify(l).split(' ') for l in example])\n",
    "texts"
   ]
  },
  {
   "cell_type": "code",
   "execution_count": null,
   "metadata": {
    "hide_input": true
   },
   "outputs": [
    {
     "data": {
      "text/markdown": [
       "<div markdown=\"span\" class=\"alert alert-danger\" role=\"alert\"><i class=\"fa fa-danger-circle\"></i> <b>Warning: </b>If you are used to another convention, beware! fastai always uses batch as a first dimension, even in NLP.</div>"
      ],
      "text/plain": [
       "<IPython.core.display.Markdown object>"
      ]
     },
     "metadata": {},
     "output_type": "display_data"
    }
   ],
   "source": [
    "jekyll_warn(\"If you are used to another convention, beware! fastai always uses batch as a first dimension, even in NLP.\")"
   ]
  },
  {
   "cell_type": "markdown",
   "metadata": {},
   "source": [
    "Then, as suggested in [this article](https://arxiv.org/abs/1708.02182) from Stephen Merity et al., we don't use a fixed `bptt` through the different batches but slightly change it from batch to batch."
   ]
  },
  {
   "cell_type": "code",
   "execution_count": null,
   "metadata": {},
   "outputs": [
    {
     "name": "stdout",
     "output_type": "stream",
     "text": [
      "torch.Size([64, 74])\n",
      "torch.Size([64, 60])\n",
      "torch.Size([64, 72])\n",
      "torch.Size([64, 69])\n",
      "torch.Size([64, 68])\n"
     ]
    }
   ],
   "source": [
    "iter_dl = iter(data.train_dl)\n",
    "for _ in range(5):\n",
    "    x,y = next(iter_dl)\n",
    "    print(x.size())"
   ]
  },
  {
   "cell_type": "markdown",
   "metadata": {},
   "source": [
    "This is all done internally when we use [`TextLMDataBunch`](/text.data.html#TextLMDataBunch), by creating [`DataLoader`](https://pytorch.org/docs/stable/data.html#torch.utils.data.DataLoader) using the following class:"
   ]
  },
  {
   "cell_type": "code",
   "execution_count": null,
   "metadata": {
    "hide_input": true
   },
   "outputs": [
    {
     "data": {
      "text/markdown": [
       "<h2 id=\"LanguageModelLoader\"><code>class</code> <code>LanguageModelLoader</code><a href=\"https://github.com/fastai/fastai/blob/master/fastai/text/data.py#L14\" class=\"source_link\">[source]</a></h2>\n",
       "\n",
       "> <code>LanguageModelLoader</code>(<b>`dataset`</b>:[`LabelList`](/data_block.html#LabelList), <b>`lengths`</b>:`Collection`\\[`int`\\]=<b><i>`None`</i></b>, <b>`bs`</b>:`int`=<b><i>`64`</i></b>, <b>`bptt`</b>:`int`=<b><i>`70`</i></b>, <b>`backwards`</b>:`bool`=<b><i>`False`</i></b>, <b>`shuffle`</b>:`bool`=<b><i>`False`</i></b>, <b>`drop_last`</b>:`bool`=<b><i>`False`</i></b>, <b>`max_len`</b>:`int`=<b><i>`25`</i></b>, <b>`p_bptt`</b>:`int`=<b><i>`0.95`</i></b>)\n",
       "\n",
       "Create a dataloader with bptt slightly changing.  "
      ],
      "text/plain": [
       "<IPython.core.display.Markdown object>"
      ]
     },
     "metadata": {},
     "output_type": "display_data"
    }
   ],
   "source": [
    "show_doc(LanguageModelLoader)"
   ]
  },
  {
   "cell_type": "markdown",
   "metadata": {},
   "source": [
    "Takes the texts from `dataset` that have vertain `lengths` (if this argument isn't passed, `lengths` are computed at initiliazation). It will spits batches with a batch size of `bs` and a sequence length approximately equal to `bptt` but changing at every batch. If `backwards=True`, reverses the original text. If `shuffle=True`, we shuffle the texts before going through them, at the start of each epoch. `max_len` is the maximum amount we add to `bptt` (to avoid out of memory errors). With probability `p_bptt` we divide the bptt by 2."
   ]
  },
  {
   "cell_type": "markdown",
   "metadata": {},
   "source": [
    "## Classifier data"
   ]
  },
  {
   "cell_type": "markdown",
   "metadata": {},
   "source": [
    "When preparing the data for a classifier, we keep the different texts separate, which poses another challenge for the creation of batches: since they don't all have the same length, we can't easily collate them together in batches. To help with this we use two different techniques:\n",
    "- padding: each text is padded with the `PAD` token to get all the ones we picked to the same size\n",
    "- sorting the texts (ish): to avoid having together a very long text with a very short one (which would then have a lot of `PAD` tokens), we regroup the texts by order of length. For the training set, we still add some randomness to avoid showing the same batches at every step of the training.\n",
    "\n",
    "Here is an example of batch with padding (the padding index is 1, and the padding is applied before the sentences start)."
   ]
  },
  {
   "cell_type": "code",
   "execution_count": null,
   "metadata": {},
   "outputs": [
    {
     "data": {
      "text/plain": [
       "tensor([[   1,    1,    1,    1,    1,    1,    1,    1,    2,    4,  404,  101,\n",
       "         3263,   10, 4111,   66,   75,   23,  337,   66],\n",
       "        [   1,    1,    1,    1,    1,    1,    1,    1,    1,    2,    4, 4914,\n",
       "            4, 1635,   22, 1098,  709,   23, 1418,  882],\n",
       "        [   1,    1,    1,    1,    1,    1,    1,    1,    1,    2,   21,    4,\n",
       "         4392,   21,   15,   43,   13,    8,  144, 2031],\n",
       "        [   1,    1,    1,    1,    1,    1,    1,    1,    1,    2,    4,  135,\n",
       "          340,   23, 5865,   94,   36,    0,   88,  340],\n",
       "        [   1,    1,    1,    1,    1,    1,    1,    1,    1,    2,   18,   40,\n",
       "          142,  130,   10,  130, 2493,   13,    4,    8],\n",
       "        [   1,    1,    1,    1,    1,    1,    1,    1,    1,    1,    2,    4,\n",
       "            8,  102,   80,   18,  155,  259,   20,   29],\n",
       "        [   1,    1,    1,    1,    1,    1,    1,    1,    1,    1,    2,    4,\n",
       "           20,   24,   12,  387,   31,    9,    4,   54],\n",
       "        [   1,    1,    1,    1,    1,    1,    1,    1,    1,    1,    2,    4,\n",
       "           20,    0,   95,  386,   13, 1208,  969,   14],\n",
       "        [   1,    1,    1,    1,    1,    1,    1,    1,    1,    1,    1,    2,\n",
       "            4,   26,  296,  164,  231,  574,   10,    4],\n",
       "        [   1,    1,    1,    1,    1,    1,    1,    1,    1,    1,    1,    2,\n",
       "            4,   60,   32,  197,    4, 2024,   58,  238]], device='cuda:0')"
      ]
     },
     "execution_count": null,
     "metadata": {},
     "output_type": "execute_result"
    }
   ],
   "source": [
    "path = untar_data(URLs.IMDB_SAMPLE)\n",
    "data = TextClasDataBunch.from_csv(path, 'texts.csv')\n",
    "iter_dl = iter(data.train_dl)\n",
    "_ = next(iter_dl)\n",
    "x,y = next(iter_dl)\n",
    "x[-10:,:20]"
   ]
  },
  {
   "cell_type": "markdown",
   "metadata": {},
   "source": [
    "This is all done internally when we use [`TextClasDataBunch`](/text.data.html#TextClasDataBunch), by using the following classes:"
   ]
  },
  {
   "cell_type": "code",
   "execution_count": null,
   "metadata": {
    "hide_input": true
   },
   "outputs": [
    {
     "data": {
      "text/markdown": [
       "<h2 id=\"SortSampler\"><code>class</code> <code>SortSampler</code><a href=\"https://github.com/fastai/fastai/blob/master/fastai/text/data.py#L60\" class=\"source_link\">[source]</a></h2>\n",
       "\n",
       "> <code>SortSampler</code>(<b>`data_source`</b>:`NPArrayList`, <b>`key`</b>:`KeyFunc`) :: [`Sampler`](https://pytorch.org/docs/stable/data.html#torch.utils.data.Sampler)\n",
       "\n",
       "Go through the text data by order of length.  "
      ],
      "text/plain": [
       "<IPython.core.display.Markdown object>"
      ]
     },
     "metadata": {},
     "output_type": "display_data"
    }
   ],
   "source": [
    "show_doc(SortSampler)"
   ]
  },
  {
   "cell_type": "markdown",
   "metadata": {},
   "source": [
    "This pytorch [`Sampler`](https://pytorch.org/docs/stable/data.html#torch.utils.data.Sampler) is used for the validation and (if applicable) the test set. "
   ]
  },
  {
   "cell_type": "code",
   "execution_count": null,
   "metadata": {
    "hide_input": true
   },
   "outputs": [
    {
     "data": {
      "text/markdown": [
       "<h2 id=\"SortishSampler\"><code>class</code> <code>SortishSampler</code><a href=\"https://github.com/fastai/fastai/blob/master/fastai/text/data.py#L68\" class=\"source_link\">[source]</a></h2>\n",
       "\n",
       "> <code>SortishSampler</code>(<b>`data_source`</b>:`NPArrayList`, <b>`key`</b>:`KeyFunc`, <b>`bs`</b>:`int`) :: [`Sampler`](https://pytorch.org/docs/stable/data.html#torch.utils.data.Sampler)\n",
       "\n",
       "Go through the text data by order of length with a bit of randomness.  "
      ],
      "text/plain": [
       "<IPython.core.display.Markdown object>"
      ]
     },
     "metadata": {},
     "output_type": "display_data"
    }
   ],
   "source": [
    "show_doc(SortishSampler)"
   ]
  },
  {
   "cell_type": "markdown",
   "metadata": {},
   "source": [
    "This pytorch [`Sampler`](https://pytorch.org/docs/stable/data.html#torch.utils.data.Sampler) is generally used for the training set."
   ]
  },
  {
   "cell_type": "code",
   "execution_count": null,
   "metadata": {
    "hide_input": true
   },
   "outputs": [
    {
     "data": {
      "text/markdown": [
       "<h4 id=\"pad_collate\"><code>pad_collate</code><a href=\"https://github.com/fastai/fastai/blob/master/fastai/text/data.py#L89\" class=\"source_link\">[source]</a></h4>\n",
       "\n",
       "> <code>pad_collate</code>(<b>`samples`</b>:`BatchSamples`, <b>`pad_idx`</b>:`int`=<b><i>`1`</i></b>, <b>`pad_first`</b>:`bool`=<b><i>`True`</i></b>) → `Tuple`\\[`LongTensor`, `LongTensor`\\]\n",
       "\n",
       "Function that collect samples and adds padding.  "
      ],
      "text/plain": [
       "<IPython.core.display.Markdown object>"
      ]
     },
     "metadata": {},
     "output_type": "display_data"
    }
   ],
   "source": [
    "show_doc(pad_collate)"
   ]
  },
  {
   "cell_type": "markdown",
   "metadata": {},
   "source": [
    "This will collate the `samples` in batches while adding padding with `pad_idx`. If `pad_first=True`, padding is applied at the beginning (before the sentence starts) otherwise it's applied at the end."
   ]
  },
  {
   "cell_type": "markdown",
   "metadata": {},
   "source": [
    "## Undocumented Methods - Methods moved below this line will intentionally be hidden"
   ]
  },
  {
   "cell_type": "code",
   "execution_count": null,
   "metadata": {},
   "outputs": [
    {
     "data": {
      "text/markdown": [
       "<h4 id=\"ItemList.new\"><code>new</code><a href=\"https://github.com/fastai/fastai/blob/master/fastai/data_block.py#L86\" class=\"source_link\">[source]</a></h4>\n",
       "\n",
       "> <code>new</code>(<b>`items`</b>:`Iterator`\\[`T_co`\\], <b>`processor`</b>:[`PreProcessor`](/data_block.html#PreProcessor)=<b><i>`None`</i></b>, <b>`kwargs`</b>) → `ItemList`\n",
       "\n",
       "Create a new [`ItemList`](/data_block.html#ItemList) from `items`, keeping the same attributes.  "
      ],
      "text/plain": [
       "<IPython.core.display.Markdown object>"
      ]
     },
     "metadata": {},
     "output_type": "display_data"
    }
   ],
   "source": [
    "show_doc(TextList.new)"
   ]
  },
  {
   "cell_type": "code",
   "execution_count": null,
   "metadata": {},
   "outputs": [
    {
     "data": {
      "text/markdown": [
       "<h4 id=\"TextList.get\"><code>get</code><a href=\"https://github.com/fastai/fastai/blob/master/fastai/text/data.py#L273\" class=\"source_link\">[source]</a></h4>\n",
       "\n",
       "> <code>get</code>(<b>`i`</b>)\n",
       "\n",
       "Subclass if you want to customize how to create item `i` from `self.items`.  "
      ],
      "text/plain": [
       "<IPython.core.display.Markdown object>"
      ]
     },
     "metadata": {},
     "output_type": "display_data"
    }
   ],
   "source": [
    "show_doc(TextList.get)"
   ]
  },
  {
   "cell_type": "code",
   "execution_count": null,
   "metadata": {},
   "outputs": [
    {
     "data": {
      "text/markdown": [
       "<h4 id=\"TokenizeProcessor.process_one\"><code>process_one</code><a href=\"https://github.com/fastai/fastai/blob/master/fastai/text/data.py#L236\" class=\"source_link\">[source]</a></h4>\n",
       "\n",
       "> <code>process_one</code>(<b>`item`</b>)"
      ],
      "text/plain": [
       "<IPython.core.display.Markdown object>"
      ]
     },
     "metadata": {},
     "output_type": "display_data"
    }
   ],
   "source": [
    "show_doc(TokenizeProcessor.process_one)"
   ]
  },
  {
   "cell_type": "code",
   "execution_count": null,
   "metadata": {},
   "outputs": [
    {
     "data": {
      "text/markdown": [
       "<h4 id=\"TokenizeProcessor.process\"><code>process</code><a href=\"https://github.com/fastai/fastai/blob/master/fastai/text/data.py#L237\" class=\"source_link\">[source]</a></h4>\n",
       "\n",
       "> <code>process</code>(<b>`ds`</b>)"
      ],
      "text/plain": [
       "<IPython.core.display.Markdown object>"
      ]
     },
     "metadata": {},
     "output_type": "display_data"
    }
   ],
   "source": [
    "show_doc(TokenizeProcessor.process)"
   ]
  },
  {
   "cell_type": "code",
   "execution_count": null,
   "metadata": {},
   "outputs": [
    {
     "data": {
      "text/markdown": [
       "<h4 id=\"OpenFileProcessor.process_one\"><code>process_one</code><a href=\"https://github.com/fastai/fastai/blob/master/fastai/text/data.py#L258\" class=\"source_link\">[source]</a></h4>\n",
       "\n",
       "> <code>process_one</code>(<b>`item`</b>)"
      ],
      "text/plain": [
       "<IPython.core.display.Markdown object>"
      ]
     },
     "metadata": {},
     "output_type": "display_data"
    }
   ],
   "source": [
    "show_doc(OpenFileProcessor.process_one)"
   ]
  },
  {
   "cell_type": "code",
   "execution_count": null,
   "metadata": {},
   "outputs": [
    {
     "data": {
      "text/markdown": [
       "<h4 id=\"NumericalizeProcessor.process\"><code>process</code><a href=\"https://github.com/fastai/fastai/blob/master/fastai/text/data.py#L251\" class=\"source_link\">[source]</a></h4>\n",
       "\n",
       "> <code>process</code>(<b>`ds`</b>)"
      ],
      "text/plain": [
       "<IPython.core.display.Markdown object>"
      ]
     },
     "metadata": {},
     "output_type": "display_data"
    }
   ],
   "source": [
    "show_doc(NumericalizeProcessor.process)"
   ]
  },
  {
   "cell_type": "code",
   "execution_count": null,
   "metadata": {},
   "outputs": [
    {
     "data": {
      "text/markdown": [
       "<h4 id=\"NumericalizeProcessor.process_one\"><code>process_one</code><a href=\"https://github.com/fastai/fastai/blob/master/fastai/text/data.py#L250\" class=\"source_link\">[source]</a></h4>\n",
       "\n",
       "> <code>process_one</code>(<b>`item`</b>)"
      ],
      "text/plain": [
       "<IPython.core.display.Markdown object>"
      ]
     },
     "metadata": {},
     "output_type": "display_data"
    }
   ],
   "source": [
    "show_doc(NumericalizeProcessor.process_one)"
   ]
  },
  {
   "cell_type": "code",
   "execution_count": null,
   "metadata": {},
   "outputs": [
    {
     "data": {
      "text/markdown": [
       "<h4 id=\"TextList.reconstruct\"><code>reconstruct</code><a href=\"https://github.com/fastai/fastai/blob/master/fastai/text/data.py#L282\" class=\"source_link\">[source]</a></h4>\n",
       "\n",
       "> <code>reconstruct</code>(<b>`t`</b>:`Tensor`)\n",
       "\n",
       "Reconstuct one of the underlying item for its data `t`.  "
      ],
      "text/plain": [
       "<IPython.core.display.Markdown object>"
      ]
     },
     "metadata": {},
     "output_type": "display_data"
    }
   ],
   "source": [
    "show_doc(TextList.reconstruct)"
   ]
  },
  {
   "cell_type": "markdown",
   "metadata": {},
   "source": [
    "## New Methods - Please document or move to the undocumented section"
   ]
  }
 ],
 "metadata": {
  "jekyll": {
   "keywords": "fastai",
   "summary": "Basic dataset for NLP tasks and helper functions to create a DataBunch",
   "title": "text.data"
  },
  "kernelspec": {
   "display_name": "Python 3",
   "language": "python",
   "name": "python3"
  }
 },
 "nbformat": 4,
 "nbformat_minor": 2
}

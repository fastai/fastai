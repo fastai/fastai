{
 "cells": [
  {
   "cell_type": "markdown",
   "metadata": {},
   "source": [
    "# NLP datasets"
   ]
  },
  {
   "cell_type": "code",
   "execution_count": null,
   "metadata": {
    "hide_input": true
   },
   "outputs": [],
   "source": [
    "from fastai.gen_doc.nbdoc import *\n",
    "from fastai.text import * \n",
    "from fastai.gen_doc.nbdoc import *\n",
    "from fastai import *"
   ]
  },
  {
   "cell_type": "markdown",
   "metadata": {},
   "source": [
    "This module contains the [`TextDataset`](/text.data.html#TextDataset) class, which is the main dataset you should use for your NLP tasks. It automatically does the preprocessing steps described in [`text.transform`](/text.transform.html#text.transform). It also contains all the functions to quickly get a [`TextDataBunch`](/text.data.html#TextDataBunch) ready."
   ]
  },
  {
   "cell_type": "markdown",
   "metadata": {},
   "source": [
    "## Quickly assemble your data"
   ]
  },
  {
   "cell_type": "markdown",
   "metadata": {},
   "source": [
    "You should get your data in one of the following formats to make the most of the fastai library and use one of the factory methods of one of the [`TextDataBunch`](/text.data.html#TextDataBunch) classes:\n",
    "- raw text files in folders train, valid, test in an ImageNet style,\n",
    "- a csv (with no index or Header) where the first column(s) gives the label(s) and the folowwing one the associated text,\n",
    "- tokens and labels arrays already saved,\n",
    "- ids, vocabulary (correspondance id to word) and labels already saved.\n",
    "\n",
    "If you are assembling the data for a language model, you should define your labels as always 0 to respect those formats. The first time you create a [`DataBunch`](/basic_data.html#DataBunch) with one of those functions, your data will be preprocessed automatically and saved, so that the next time you call it is almost instantaneous. \n",
    "\n",
    "Below are the classes that help assembling the raw data in a [`DataBunch`](/basic_data.html#DataBunch) suitable for NLP."
   ]
  },
  {
   "cell_type": "code",
   "execution_count": null,
   "metadata": {
    "hide_input": true
   },
   "outputs": [
    {
     "data": {
      "text/markdown": [
       "<h3 id=\"TextLMDataBunch\"><code>class</code> <code>TextLMDataBunch</code><a href=\"https://github.com/fastai/fastai/blob/master/fastai/text/data.py#L359\" class=\"source_link\">[source]</a></h3>\n",
       "\n",
       "> <code>TextLMDataBunch</code>(`train_dl`:[`DataLoader`](https://pytorch.org/docs/stable/data.html#torch.utils.data.DataLoader), `valid_dl`:[`DataLoader`](https://pytorch.org/docs/stable/data.html#torch.utils.data.DataLoader), `test_dl`:`Optional`\\[[`DataLoader`](https://pytorch.org/docs/stable/data.html#torch.utils.data.DataLoader)\\]=`None`, `device`:[`device`](https://pytorch.org/docs/stable/tensor_attributes.html#torch-device)=`None`, `tfms`:`Optional`\\[`Collection`\\[`Callable`\\]\\]=`None`, `path`:`PathOrStr`=`'.'`, `collate_fn`:`Callable`=`'data_collate'`) :: [`TextDataBunch`](/text.data.html#TextDataBunch)"
      ],
      "text/plain": [
       "<IPython.core.display.Markdown object>"
      ]
     },
     "metadata": {},
     "output_type": "display_data"
    }
   ],
   "source": [
    "show_doc(TextLMDataBunch, title_level=3, doc_string=False)"
   ]
  },
  {
   "cell_type": "markdown",
   "metadata": {},
   "source": [
    "Create a [`DataBunch`](/basic_data.html#DataBunch) suitable for language modeling: all the texts in the [`datasets`](/datasets.html#datasets) are concatenated and the labels are ignored. Instead, the target is the next word in the sentence."
   ]
  },
  {
   "cell_type": "code",
   "execution_count": null,
   "metadata": {
    "hide_input": true
   },
   "outputs": [
    {
     "data": {
      "text/markdown": [
       "<h3 id=\"TextClasDataBunch\"><code>class</code> <code>TextClasDataBunch</code><a href=\"https://github.com/fastai/fastai/blob/master/fastai/text/data.py#L367\" class=\"source_link\">[source]</a></h3>\n",
       "\n",
       "> <code>TextClasDataBunch</code>(`train_dl`:[`DataLoader`](https://pytorch.org/docs/stable/data.html#torch.utils.data.DataLoader), `valid_dl`:[`DataLoader`](https://pytorch.org/docs/stable/data.html#torch.utils.data.DataLoader), `test_dl`:`Optional`\\[[`DataLoader`](https://pytorch.org/docs/stable/data.html#torch.utils.data.DataLoader)\\]=`None`, `device`:[`device`](https://pytorch.org/docs/stable/tensor_attributes.html#torch-device)=`None`, `tfms`:`Optional`\\[`Collection`\\[`Callable`\\]\\]=`None`, `path`:`PathOrStr`=`'.'`, `collate_fn`:`Callable`=`'data_collate'`) :: [`TextDataBunch`](/text.data.html#TextDataBunch)"
      ],
      "text/plain": [
       "<IPython.core.display.Markdown object>"
      ]
     },
     "metadata": {},
     "output_type": "display_data"
    }
   ],
   "source": [
    "show_doc(TextClasDataBunch, title_level=3, doc_string=False)"
   ]
  },
  {
   "cell_type": "markdown",
   "metadata": {},
   "source": [
    "Create a [`DataBunch`](/basic_data.html#DataBunch) suitable for a text classifier: all the texts are grouped by length (with a bit of randomness for the training set) then padded."
   ]
  },
  {
   "cell_type": "code",
   "execution_count": null,
   "metadata": {
    "hide_input": true
   },
   "outputs": [
    {
     "data": {
      "text/markdown": [
       "<h3 id=\"TextDataBunch\"><code>class</code> <code>TextDataBunch</code><a href=\"https://github.com/fastai/fastai/blob/master/fastai/text/data.py#L275\" class=\"source_link\">[source]</a></h3>\n",
       "\n",
       "> <code>TextDataBunch</code>(`train_dl`:[`DataLoader`](https://pytorch.org/docs/stable/data.html#torch.utils.data.DataLoader), `valid_dl`:[`DataLoader`](https://pytorch.org/docs/stable/data.html#torch.utils.data.DataLoader), `test_dl`:`Optional`\\[[`DataLoader`](https://pytorch.org/docs/stable/data.html#torch.utils.data.DataLoader)\\]=`None`, `device`:[`device`](https://pytorch.org/docs/stable/tensor_attributes.html#torch-device)=`None`, `tfms`:`Optional`\\[`Collection`\\[`Callable`\\]\\]=`None`, `path`:`PathOrStr`=`'.'`, `collate_fn`:`Callable`=`'data_collate'`) :: [`DataBunch`](/basic_data.html#DataBunch)"
      ],
      "text/plain": [
       "<IPython.core.display.Markdown object>"
      ]
     },
     "metadata": {},
     "output_type": "display_data"
    }
   ],
   "source": [
    "show_doc(TextDataBunch, title_level=3, doc_string=False)"
   ]
  },
  {
   "cell_type": "markdown",
   "metadata": {},
   "source": [
    "Create a [`DataBunch`](/basic_data.html#DataBunch) with the raw texts. This is only going to work if they all ahve the same lengths."
   ]
  },
  {
   "cell_type": "markdown",
   "metadata": {},
   "source": [
    "### Factory methods (TextDataBunch)"
   ]
  },
  {
   "cell_type": "markdown",
   "metadata": {},
   "source": [
    "All those classes have the following factory methods."
   ]
  },
  {
   "cell_type": "code",
   "execution_count": null,
   "metadata": {
    "hide_input": true
   },
   "outputs": [
    {
     "data": {
      "text/markdown": [
       "<h4 id=\"TextDataBunch.from_folder\"><code>from_folder</code><a href=\"https://github.com/fastai/fastai/blob/master/fastai/text/data.py#L337\" class=\"source_link\">[source]</a></h4>\n",
       "\n",
       "> <code>from_folder</code>(`path`:`PathOrStr`, `tokenizer`:[`Tokenizer`](/text.transform.html#Tokenizer)=`None`, `train`:`str`=`'train'`, `valid`:`str`=`'valid'`, `test`:`Optional`\\[`str`\\]=`None`, `shuffle`:`bool`=`True`, `vocab`:[`Vocab`](/text.transform.html#Vocab)=`None`, `kwargs`)"
      ],
      "text/plain": [
       "<IPython.core.display.Markdown object>"
      ]
     },
     "metadata": {},
     "output_type": "display_data"
    }
   ],
   "source": [
    "show_doc(TextDataBunch.from_folder, doc_string=False)"
   ]
  },
  {
   "cell_type": "markdown",
   "metadata": {},
   "source": [
    "This function will create a [`DataBunch`](/basic_data.html#DataBunch) from texts placed in `path` in a [`train`](/train.html#train), `valid` and maybe `test` folders. Text files in the [`train`](/train.html#train) and `valid` folders should be places in subdirectories according to their classes (always the same for a language model) and the ones for the `test` folder should all be placed there directly. `tokenizer` will be used to parse those texts into tokens. The `shuffle` flag will optionally shuffle the texts found.\n",
    "\n",
    "You can pass a specific `vocab` for the numericalization step (if you are building a classifier from a language model you fine-tuned for instance). kwargs will be split between the [`TextDataset`](/text.data.html#TextDataset) function and to the class initialization, you can precise there parameters such as `max_vocab`, `chunksize`, `min_freq`, `n_labels` (see the [`TextDataset`](/text.data.html#TextDataset) documentation) or `bs`, `bptt` and `pad_idx` (see the sections LM data and classifier data)."
   ]
  },
  {
   "cell_type": "code",
   "execution_count": null,
   "metadata": {
    "hide_input": true
   },
   "outputs": [
    {
     "data": {
      "text/markdown": [
       "<h4 id=\"TextDataBunch.from_csv\"><code>from_csv</code><a href=\"https://github.com/fastai/fastai/blob/master/fastai/text/data.py#L327\" class=\"source_link\">[source]</a></h4>\n",
       "\n",
       "> <code>from_csv</code>(`path`:`PathOrStr`, `tokenizer`:[`Tokenizer`](/text.transform.html#Tokenizer)=`None`, `train`:`str`=`'train'`, `valid`:`str`=`'valid'`, `test`:`Optional`\\[`str`\\]=`None`, `vocab`:[`Vocab`](/text.transform.html#Vocab)=`None`, `kwargs`) → [`DataBunch`](/basic_data.html#DataBunch)"
      ],
      "text/plain": [
       "<IPython.core.display.Markdown object>"
      ]
     },
     "metadata": {},
     "output_type": "display_data"
    }
   ],
   "source": [
    "show_doc(TextDataBunch.from_csv, doc_string=False)"
   ]
  },
  {
   "cell_type": "markdown",
   "metadata": {},
   "source": [
    "This function will create a [`DataBunch`](/basic_data.html#DataBunch) from texts placed in `path` in a [`train`](/train.html#train).csv, `valid`.csv and maybe `test`.csv files. These csv files should have no header or index, and the label(s) should be the first column(s) (be sure to adjust the parameter `n_labels` if you have more than one). `tokenizer` will be used to parse those texts into tokens.\n",
    "\n",
    "You can pass a specific `vocab` for the numericalization step (if you are building a classifier from a language model you fine-tuned for instance). kwargs will be split between the [`TextDataset`](/text.data.html#TextDataset) function and to the class initialization, you can precise there parameters such as `max_vocab`, `chunksize`, `min_freq`, `n_labels` (see the [`TextDataset`](/text.data.html#TextDataset) documentation) or `bs`, `bptt` and `pad_idx` (see the sections LM data and classifier data)."
   ]
  },
  {
   "cell_type": "code",
   "execution_count": null,
   "metadata": {
    "hide_input": true
   },
   "outputs": [
    {
     "data": {
      "text/markdown": [
       "<h4 id=\"TextDataBunch.from_tokens\"><code>from_tokens</code><a href=\"https://github.com/fastai/fastai/blob/master/fastai/text/data.py#L302\" class=\"source_link\">[source]</a></h4>\n",
       "\n",
       "> <code>from_tokens</code>(`path`:`PathOrStr`, `train`:`str`=`'train'`, `valid`:`str`=`'valid'`, `test`:`Optional`\\[`str`\\]=`None`, `vocab`:[`Vocab`](/text.transform.html#Vocab)=`None`, `kwargs`) → [`DataBunch`](/basic_data.html#DataBunch)"
      ],
      "text/plain": [
       "<IPython.core.display.Markdown object>"
      ]
     },
     "metadata": {},
     "output_type": "display_data"
    }
   ],
   "source": [
    "show_doc(TextDataBunch.from_tokens, doc_string=False)"
   ]
  },
  {
   "cell_type": "markdown",
   "metadata": {},
   "source": [
    "This function will create a [`DataBunch`](/basic_data.html#DataBunch) from texts already tokenized placed in `path` in files named `f{train}{tok_suff}`.npy, `f{train}{lbl_suff}`.npy, `f{valid}{tok_suff}`.npy, `f{valid}{lbl_suff}`.npy and maybe `f{test}{tok_suff}`.npy. If no label file exists, labels will default to all zeros. `tok_suff` and `lbl_suff` are '\\_tok' and '\\_lbl' respectively.\n",
    "\n",
    "You can pass a specific `vocab` for the numericalization step (if you are building a classifier from a language model you fine-tuned for instance). kwargs will be split between the [`TextDataset`](/text.data.html#TextDataset) function and to the class initialization, you can precise there parameters such as `max_vocab`, `chunksize`, `min_freq`, `n_labels`, `tok_suff` and `lbl_suff` (see the [`TextDataset`](/text.data.html#TextDataset) documentation) or `bs`, `bptt` and `pad_idx` (see the sections LM data and classifier data)."
   ]
  },
  {
   "cell_type": "code",
   "execution_count": null,
   "metadata": {
    "hide_input": true
   },
   "outputs": [
    {
     "data": {
      "text/markdown": [
       "<h4 id=\"TextDataBunch.from_id_files\"><code>from_id_files</code><a href=\"https://github.com/fastai/fastai/blob/master/fastai/text/data.py#L290\" class=\"source_link\">[source]</a></h4>\n",
       "\n",
       "> <code>from_id_files</code>(`path`:`PathOrStr`, `train`:`str`=`'train'`, `valid`:`str`=`'valid'`, `test`:`Optional`\\[`str`\\]=`None`, `itos`:`str`=`'itos.pkl'`, `kwargs`) → [`DataBunch`](/basic_data.html#DataBunch)"
      ],
      "text/plain": [
       "<IPython.core.display.Markdown object>"
      ]
     },
     "metadata": {},
     "output_type": "display_data"
    }
   ],
   "source": [
    "show_doc(TextDataBunch.from_id_files, doc_string=False)"
   ]
  },
  {
   "cell_type": "markdown",
   "metadata": {},
   "source": [
    "This function will create a [`DataBunch`](/basic_data.html#DataBunch) from texts already tokenized placed in `path` in files named `f{train}{id_suff}`.npy, `f{train}{lbl_suff}`.npy, `f{valid}{id_suff}`.npy, `f{valid}{lbl_suff}`.npy and maybe `f{test}{id_suff}`.npy. If no label file exists, labels will default to all zeros. `id_suff` and `lbl_suff` are '\\_ids' and '\\_lbl' respectively. The `itos` file should contain the correspondance from ids to words.\n",
    "\n",
    "kwargs will be split between the [`TextDataset`](/text.data.html#TextDataset) function and to the class initialization, you can precise there parameters such as `max_vocab`, `chunksize`, `min_freq`, `n_labels`, `tok_suff` and `lbl_suff` (see the [`TextDataset`](/text.data.html#TextDataset) documentation) or `bs`, `bptt` and `pad_idx` (see the sections LM data and classifier data)."
   ]
  },
  {
   "cell_type": "code",
   "execution_count": null,
   "metadata": {
    "hide_input": true
   },
   "outputs": [
    {
     "data": {
      "text/markdown": [
       "<h4 id=\"TextDataBunch.from_ids\"><code>from_ids</code><a href=\"https://github.com/fastai/fastai/blob/master/fastai/text/data.py#L279\" class=\"source_link\">[source]</a></h4>\n",
       "\n",
       "> <code>from_ids</code>(`path`, `trn_ids`:`Collection`\\[`Collection`\\[`int`\\]\\], `trn_lbls`:`Collection`\\[`Union`\\[`int`, `float`\\]\\], `val_ids`:`Collection`\\[`Collection`\\[`int`\\]\\], `val_lbls`:`Collection`\\[`Union`\\[`int`, `float`\\]\\], `vocab_size`:`int`, `tst_ids`:`Collection`\\[`Collection`\\[`int`\\]\\]=`None`, `classes`:`ArgStar`=`None`, `kwargs`) → [`DataBunch`](/basic_data.html#DataBunch)"
      ],
      "text/plain": [
       "<IPython.core.display.Markdown object>"
      ]
     },
     "metadata": {},
     "output_type": "display_data"
    }
   ],
   "source": [
    "show_doc(TextDataBunch.from_ids, doc_string=False)"
   ]
  },
  {
   "cell_type": "markdown",
   "metadata": {},
   "source": [
    "This function will create a [`DataBunch`](/basic_data.html#DataBunch) in `path` from texts already processed into `trn_ids`, `trn_lbls`, `val_ids`, `val_lbls` and maybe `tst_ids`. You can specify the corresponding `classes` if applciable. You must specify the `vocab_size` so that the [`RNNLearner`](/text.learner.html#RNNLearner) class can later infer the corresponding sizes in the model it will create. kwargs will be passed to the class initialization."
   ]
  },
  {
   "cell_type": "markdown",
   "metadata": {},
   "source": [
    "### Example"
   ]
  },
  {
   "cell_type": "markdown",
   "metadata": {},
   "source": [
    "Untar the IMDB sample dataset if not already done:"
   ]
  },
  {
   "cell_type": "code",
   "execution_count": null,
   "metadata": {},
   "outputs": [
    {
     "data": {
      "text/plain": [
       "PosixPath('/home/ubuntu/.fastai/data/imdb_sample')"
      ]
     },
     "execution_count": null,
     "metadata": {},
     "output_type": "execute_result"
    }
   ],
   "source": [
    "path = untar_data(URLs.IMDB_SAMPLE)\n",
    "path"
   ]
  },
  {
   "cell_type": "markdown",
   "metadata": {},
   "source": [
    "Since it comes in the form of csv files, we will use the corresponding `text_data` method. Here is an overview of what your file you should look like:"
   ]
  },
  {
   "cell_type": "code",
   "execution_count": null,
   "metadata": {},
   "outputs": [
    {
     "data": {
      "text/html": [
       "<div>\n",
       "<style scoped>\n",
       "    .dataframe tbody tr th:only-of-type {\n",
       "        vertical-align: middle;\n",
       "    }\n",
       "\n",
       "    .dataframe tbody tr th {\n",
       "        vertical-align: top;\n",
       "    }\n",
       "\n",
       "    .dataframe thead th {\n",
       "        text-align: right;\n",
       "    }\n",
       "</style>\n",
       "<table border=\"1\" class=\"dataframe\">\n",
       "  <thead>\n",
       "    <tr style=\"text-align: right;\">\n",
       "      <th></th>\n",
       "      <th>0</th>\n",
       "      <th>1</th>\n",
       "    </tr>\n",
       "  </thead>\n",
       "  <tbody>\n",
       "    <tr>\n",
       "      <th>0</th>\n",
       "      <td>0</td>\n",
       "      <td>Un-bleeping-believable! Meg Ryan doesn't even ...</td>\n",
       "    </tr>\n",
       "    <tr>\n",
       "      <th>1</th>\n",
       "      <td>1</td>\n",
       "      <td>This is a extremely well-made film. The acting...</td>\n",
       "    </tr>\n",
       "    <tr>\n",
       "      <th>2</th>\n",
       "      <td>0</td>\n",
       "      <td>Every once in a long while a movie will come a...</td>\n",
       "    </tr>\n",
       "    <tr>\n",
       "      <th>3</th>\n",
       "      <td>1</td>\n",
       "      <td>Name just says it all. I watched this movie wi...</td>\n",
       "    </tr>\n",
       "    <tr>\n",
       "      <th>4</th>\n",
       "      <td>0</td>\n",
       "      <td>This movie succeeds at being one of the most u...</td>\n",
       "    </tr>\n",
       "  </tbody>\n",
       "</table>\n",
       "</div>"
      ],
      "text/plain": [
       "   0                                                  1\n",
       "0  0  Un-bleeping-believable! Meg Ryan doesn't even ...\n",
       "1  1  This is a extremely well-made film. The acting...\n",
       "2  0  Every once in a long while a movie will come a...\n",
       "3  1  Name just says it all. I watched this movie wi...\n",
       "4  0  This movie succeeds at being one of the most u..."
      ]
     },
     "execution_count": null,
     "metadata": {},
     "output_type": "execute_result"
    }
   ],
   "source": [
    "pd.read_csv(path/'train.csv', header=None).head()"
   ]
  },
  {
   "cell_type": "markdown",
   "metadata": {},
   "source": [
    "And here is a simple way of creating your [`DataBunch`](/basic_data.html#DataBunch) for language modelling or classification."
   ]
  },
  {
   "cell_type": "code",
   "execution_count": null,
   "metadata": {},
   "outputs": [],
   "source": [
    "data_lm = TextLMDataBunch.from_csv(Path(path))\n",
    "data_clas = TextClasDataBunch.from_csv(Path(path))"
   ]
  },
  {
   "cell_type": "markdown",
   "metadata": {},
   "source": [
    "## The TextDataset class"
   ]
  },
  {
   "cell_type": "markdown",
   "metadata": {},
   "source": [
    "Behind the scenes, the previous functions will create a training, validation and maybe test [`TextDataset`](/text.data.html#TextDataset) which is the class responsible for collecting and preprocessing the data."
   ]
  },
  {
   "cell_type": "code",
   "execution_count": null,
   "metadata": {
    "hide_input": true
   },
   "outputs": [
    {
     "data": {
      "text/markdown": [
       "<h2 id=\"TextDataset\"><code>class</code> <code>TextDataset</code><a href=\"https://github.com/fastai/fastai/blob/master/fastai/text/data.py#L25\" class=\"source_link\">[source]</a></h2>\n",
       "\n",
       "> <code>TextDataset</code>(`path`:`PathOrStr`, `tokenizer`:[`Tokenizer`](/text.transform.html#Tokenizer)=`None`, `vocab`:[`Vocab`](/text.transform.html#Vocab)=`None`, `max_vocab`:`int`=`60000`, `chunksize`:`int`=`10000`, `name`:`str`=`'train'`, `df`=`None`, `min_freq`:`int`=`2`, `n_labels`:`int`=`1`, `txt_cols`=`None`, `label_cols`=`None`, `create_mtd`:[`TextMtd`](/text.data.html#TextMtd)=`<TextMtd.DF: 1>`, `classes`:`ArgStar`=`None`, `clear_cache`:`bool`=`False`) :: [`BaseTextDataset`](/text.data.html#BaseTextDataset)"
      ],
      "text/plain": [
       "<IPython.core.display.Markdown object>"
      ]
     },
     "metadata": {},
     "output_type": "display_data"
    }
   ],
   "source": [
    "show_doc(TextDataset, doc_string=False)"
   ]
  },
  {
   "cell_type": "markdown",
   "metadata": {},
   "source": [
    "This class shouldn't be initialized directly as it will rely on internal files being put in an 'tmp' folder of `path`. `tokenizer` and `vocab` will be used to tokenize and numericalize the texts (if needed). `max_vocab` and `min_freq` are passed at the create of the vocabulary (if needed). `chunksize` is the size of chunks preprocessed when loading the data from csv or folders. `name` is the name of the set that will be used to name the temporary files. `n_labels` is the number of labels if creating the data from a csv file. `classes` is the correspondance between label and classe. `create_mtd` is an internal flag that tells the [`TextDataset`](/text.data.html#TextDataset) how it was created. It can be:\n",
    "- `CSV` if it was created from texts or csv\n",
    "- `TOK` if it was created from tokens (which means the [`TextDataset`](/text.data.html#TextDataset) will always skip the tokenization)\n",
    "- `IDS` if it was created from tokens (which means the [`TextDataset`](/text.data.html#TextDataset) will always skip the tokenization and the numericalization)"
   ]
  },
  {
   "cell_type": "markdown",
   "metadata": {},
   "source": [
    "### Factory methods (TextDataset)"
   ]
  },
  {
   "cell_type": "markdown",
   "metadata": {},
   "source": [
    "Instead of using the [`TextDataset`](/text.data.html#TextDataset) init method, one of the following factory functions should be used instead:"
   ]
  },
  {
   "cell_type": "code",
   "execution_count": null,
   "metadata": {
    "hide_input": true
   },
   "outputs": [
    {
     "data": {
      "text/markdown": [
       "<h4 id=\"TextDataset.from_folder\"><code>from_folder</code><a href=\"https://github.com/fastai/fastai/blob/master/fastai/text/data.py#L177\" class=\"source_link\">[source]</a></h4>\n",
       "\n",
       "> <code>from_folder</code>(`folder`:`PathOrStr`, `tokenizer`:[`Tokenizer`](/text.transform.html#Tokenizer)=`None`, `name`:`str`=`'train'`, `classes`:`ArgStar`=`None`, `shuffle`:`bool`=`True`, `kwargs`) → `TextDataset`"
      ],
      "text/plain": [
       "<IPython.core.display.Markdown object>"
      ]
     },
     "metadata": {},
     "output_type": "display_data"
    }
   ],
   "source": [
    "show_doc(TextDataset.from_folder, doc_string=False)"
   ]
  },
  {
   "cell_type": "markdown",
   "metadata": {},
   "source": [
    "Creates a [`TextDataset`](/text.data.html#TextDataset) named `name` by scanning the subfolders in `folder` and using `tokenizer`. If `classes` are passed, only the subfolders named accordingly are checked. If `shuffle` is True, the data will be shuffled. Any additional `kwargs` are passed to the init method of [`TextDataset`](/text.data.html#TextDataset). "
   ]
  },
  {
   "cell_type": "code",
   "execution_count": null,
   "metadata": {
    "hide_input": true
   },
   "outputs": [
    {
     "data": {
      "text/markdown": [
       "<h4 id=\"TextDataset.from_one_folder\"><code>from_one_folder</code><a href=\"https://github.com/fastai/fastai/blob/master/fastai/text/data.py#L156\" class=\"source_link\">[source]</a></h4>\n",
       "\n",
       "> <code>from_one_folder</code>(`folder`:`PathOrStr`, `classes`:`ArgStar`, `tokenizer`:[`Tokenizer`](/text.transform.html#Tokenizer)=`None`, `name`:`str`=`'train'`, `shuffle`:`bool`=`True`, `kwargs`) → `TextDataset`"
      ],
      "text/plain": [
       "<IPython.core.display.Markdown object>"
      ]
     },
     "metadata": {},
     "output_type": "display_data"
    }
   ],
   "source": [
    "show_doc(TextDataset.from_one_folder, doc_string=False)"
   ]
  },
  {
   "cell_type": "markdown",
   "metadata": {},
   "source": [
    "Creates a [`TextDataset`](/text.data.html#TextDataset) named `name` by scanning the text files in `folder` and using `tokenizer`. All files are labelled `classes[0]` so this is typically used for the test set. If `shuffle` is True, the data will be shuffled. Any additional `kwargs` are passed to the init method of [`TextDataset`](/text.data.html#TextDataset). "
   ]
  },
  {
   "cell_type": "code",
   "execution_count": null,
   "metadata": {
    "hide_input": true
   },
   "outputs": [
    {
     "data": {
      "text/markdown": [
       "<h4 id=\"TextDataset.from_df\"><code>from_df</code><a href=\"https://github.com/fastai/fastai/blob/master/fastai/text/data.py#L148\" class=\"source_link\">[source]</a></h4>\n",
       "\n",
       "> <code>from_df</code>(`folder`:`PathOrStr`, `df`:`Union`\\[`DataFrame`, `TextFileReader`\\], `tokenizer`:[`Tokenizer`](/text.transform.html#Tokenizer)=`None`, `name`:`str`=`'train'`, `kwargs`) → `TextDataset`\n",
       "\n",
       "Create a dataset from texts in a dataframe  "
      ],
      "text/plain": [
       "<IPython.core.display.Markdown object>"
      ]
     },
     "metadata": {},
     "output_type": "display_data"
    }
   ],
   "source": [
    "show_doc(TextDataset.from_df)"
   ]
  },
  {
   "cell_type": "code",
   "execution_count": null,
   "metadata": {
    "hide_input": true
   },
   "outputs": [
    {
     "data": {
      "text/markdown": [
       "<h4 id=\"TextDataset.from_tokens\"><code>from_tokens</code><a href=\"https://github.com/fastai/fastai/blob/master/fastai/text/data.py#L136\" class=\"source_link\">[source]</a></h4>\n",
       "\n",
       "> <code>from_tokens</code>(`folder`:`PathOrStr`, `name`:`str`=`'train'`, `tok_suff`:`str`=`'_tok'`, `lbl_suff`:`str`=`'_lbl'`, `kwargs`) → `TextDataset`"
      ],
      "text/plain": [
       "<IPython.core.display.Markdown object>"
      ]
     },
     "metadata": {},
     "output_type": "display_data"
    }
   ],
   "source": [
    "show_doc(TextDataset.from_tokens, doc_string=False)"
   ]
  },
  {
   "cell_type": "markdown",
   "metadata": {},
   "source": [
    "Creates a [`TextDataset`](/text.data.html#TextDataset) named `name` from tokens and labels saved in `f{name}{tok_suff}.npy` and `f{name}{lbl_suff}.npy` respectively. Any additional `kwargs` are passed to the init method of [`TextDataset`](/text.data.html#TextDataset). "
   ]
  },
  {
   "cell_type": "code",
   "execution_count": null,
   "metadata": {
    "hide_input": true
   },
   "outputs": [
    {
     "data": {
      "text/markdown": [
       "<h4 id=\"TextDataset.from_ids\"><code>from_ids</code><a href=\"https://github.com/fastai/fastai/blob/master/fastai/text/data.py#L124\" class=\"source_link\">[source]</a></h4>\n",
       "\n",
       "> <code>from_ids</code>(`folder`:`PathOrStr`, `name`:`str`=`'train'`, `id_suff`:`str`=`'_ids'`, `lbl_suff`:`str`=`'_lbl'`, `itos`:`str`=`'itos.pkl'`, `kwargs`) → `TextDataset`"
      ],
      "text/plain": [
       "<IPython.core.display.Markdown object>"
      ]
     },
     "metadata": {},
     "output_type": "display_data"
    }
   ],
   "source": [
    "show_doc(TextDataset.from_ids, doc_string=False)"
   ]
  },
  {
   "cell_type": "markdown",
   "metadata": {},
   "source": [
    "Creates a [`TextDataset`](/text.data.html#TextDataset) named `name` from ids, labels and dictionary saved in `f{name}{id_suff}.npy`, `f{name}{lbl_suff}.npy` and `itos` respectively. Any additional `kwargs` are passed to the init method of [`TextDataset`](/text.data.html#TextDataset). "
   ]
  },
  {
   "cell_type": "markdown",
   "metadata": {},
   "source": [
    "### Preprocessing"
   ]
  },
  {
   "cell_type": "markdown",
   "metadata": {},
   "source": [
    "The internal preprocessing is done by the two following methods:"
   ]
  },
  {
   "cell_type": "code",
   "execution_count": null,
   "metadata": {
    "hide_input": true
   },
   "outputs": [
    {
     "data": {
      "text/markdown": [
       "<h4 id=\"TextDataset.tokenize\"><code>tokenize</code><a href=\"https://github.com/fastai/fastai/blob/master/fastai/text/data.py#L80\" class=\"source_link\">[source]</a></h4>\n",
       "\n",
       "> <code>tokenize</code>()\n",
       "\n",
       "Tokenize the texts in the csv file.  "
      ],
      "text/plain": [
       "<IPython.core.display.Markdown object>"
      ]
     },
     "metadata": {},
     "output_type": "display_data"
    }
   ],
   "source": [
    "show_doc(TextDataset.tokenize)"
   ]
  },
  {
   "cell_type": "code",
   "execution_count": null,
   "metadata": {
    "hide_input": true
   },
   "outputs": [
    {
     "data": {
      "text/markdown": [
       "<h4 id=\"TextDataset.numericalize\"><code>numericalize</code><a href=\"https://github.com/fastai/fastai/blob/master/fastai/text/data.py#L101\" class=\"source_link\">[source]</a></h4>\n",
       "\n",
       "> <code>numericalize</code>()\n",
       "\n",
       "Numericalize the tokens in the token file.  "
      ],
      "text/plain": [
       "<IPython.core.display.Markdown object>"
      ]
     },
     "metadata": {},
     "output_type": "display_data"
    }
   ],
   "source": [
    "show_doc(TextDataset.numericalize)"
   ]
  },
  {
   "cell_type": "markdown",
   "metadata": {},
   "source": [
    "Internally, the [`TextDataset`](/text.data.html#TextDataset) will create a 'tmp' folder in which he will copy or save the following files:\n",
    "- `name`.csv (if created from folders or csv)\n",
    "- `name`\\_tok.npy and `name`\\_lbl.npy (created by [`TextDataset.tokenize`](/text.data.html#TextDataset.tokenize) from the last step or copied if created from tokens)\n",
    "- `name`\\_ids.npy, `name`\\_lbl.npy and `itos` (created by [`TextDataset.numericalize`](/text.data.html#TextDataset.numericalize) from the last step or copied if created from ids)\n",
    "\n",
    "Then, when you invoke the [`TextDataset`](/text.data.html#TextDataset) again, it will look for those temporary files and check their consistency to use them, in order to avoid doing again the numericalization or the tokenization. If you feel those files have been corrupted in any way, the following method will clear the 'tmp' subfolder of those files:"
   ]
  },
  {
   "cell_type": "code",
   "execution_count": null,
   "metadata": {
    "hide_input": true
   },
   "outputs": [
    {
     "data": {
      "text/markdown": [
       "<h4 id=\"TextDataset.clear\"><code>clear</code><a href=\"https://github.com/fastai/fastai/blob/master/fastai/text/data.py#L109\" class=\"source_link\">[source]</a></h4>\n",
       "\n",
       "> <code>clear</code>()\n",
       "\n",
       "Remove all temporary files.  "
      ],
      "text/plain": [
       "<IPython.core.display.Markdown object>"
      ]
     },
     "metadata": {},
     "output_type": "display_data"
    }
   ],
   "source": [
    "show_doc(TextDataset.clear)"
   ]
  },
  {
   "cell_type": "markdown",
   "metadata": {},
   "source": [
    "### Internal methods"
   ]
  },
  {
   "cell_type": "code",
   "execution_count": null,
   "metadata": {
    "hide_input": true
   },
   "outputs": [
    {
     "data": {
      "text/markdown": [
       "<h4 id=\"TextDataset.check_ids\"><code>check_ids</code><a href=\"https://github.com/fastai/fastai/blob/master/fastai/text/data.py#L60\" class=\"source_link\">[source]</a></h4>\n",
       "\n",
       "> <code>check_ids</code>() → `bool`\n",
       "\n",
       "Check if a new numericalization is needed.  "
      ],
      "text/plain": [
       "<IPython.core.display.Markdown object>"
      ]
     },
     "metadata": {},
     "output_type": "display_data"
    }
   ],
   "source": [
    "show_doc(TextDataset.check_ids)"
   ]
  },
  {
   "cell_type": "code",
   "execution_count": null,
   "metadata": {
    "hide_input": true
   },
   "outputs": [
    {
     "data": {
      "text/markdown": [
       "<h4 id=\"TextDataset.check_toks\"><code>check_toks</code><a href=\"https://github.com/fastai/fastai/blob/master/fastai/text/data.py#L72\" class=\"source_link\">[source]</a></h4>\n",
       "\n",
       "> <code>check_toks</code>() → `bool`\n",
       "\n",
       "Check if a new tokenization is needed.  "
      ],
      "text/plain": [
       "<IPython.core.display.Markdown object>"
      ]
     },
     "metadata": {},
     "output_type": "display_data"
    }
   ],
   "source": [
    "show_doc(TextDataset.check_toks)"
   ]
  },
  {
   "cell_type": "code",
   "execution_count": null,
   "metadata": {
    "hide_input": true
   },
   "outputs": [
    {
     "data": {
      "text/markdown": [
       "<h4 id=\"TextDataset.general_check\"><code>general_check</code><a href=\"https://github.com/fastai/fastai/blob/master/fastai/text/data.py#L52\" class=\"source_link\">[source]</a></h4>\n",
       "\n",
       "> <code>general_check</code>(`pre_files`:`Collection`\\[`PathOrStr`\\], `post_files`:`Collection`\\[`PathOrStr`\\])\n",
       "\n",
       "Check that post_files exist and were modified after all the prefiles.  "
      ],
      "text/plain": [
       "<IPython.core.display.Markdown object>"
      ]
     },
     "metadata": {},
     "output_type": "display_data"
    }
   ],
   "source": [
    "show_doc(TextDataset.general_check)"
   ]
  },
  {
   "cell_type": "code",
   "execution_count": null,
   "metadata": {
    "hide_input": true
   },
   "outputs": [
    {
     "data": {
      "text/markdown": [
       "<h2 id=\"BaseTextDataset\"><code>class</code> <code>BaseTextDataset</code><a href=\"https://github.com/fastai/fastai/blob/master/fastai/text/data.py#L15\" class=\"source_link\">[source]</a></h2>\n",
       "\n",
       "> <code>BaseTextDataset</code>(`ids`:`Collection`\\[`Collection`\\[`int`\\]\\], `labels`:`Collection`\\[`Union`\\[`int`, `float`\\]\\], `vocab_size`:`int`, `classes`:`ArgStar`=`None`)\n",
       "\n",
       "To directly create a text datasets from `ids` and `labels`.  "
      ],
      "text/plain": [
       "<IPython.core.display.Markdown object>"
      ]
     },
     "metadata": {},
     "output_type": "display_data"
    }
   ],
   "source": [
    "show_doc(BaseTextDataset)"
   ]
  },
  {
   "cell_type": "markdown",
   "metadata": {},
   "source": [
    "## Language Model data"
   ]
  },
  {
   "cell_type": "markdown",
   "metadata": {},
   "source": [
    "A language model is trained to guess what the next word is inside a flow of words. We don't feed it the different texts separately but concatenate them all together in a big array. To create the batches, we split this array into `bs` chuncks of continuous texts. Note that in all NLP tasks, we use the pytoch convention of sequence length being the first dimension (and batch size being the second one) so we transpose that array so that we can read the chunks of texts in columns. Here is an example of batch from our imdb sample dataset. "
   ]
  },
  {
   "cell_type": "code",
   "execution_count": null,
   "metadata": {},
   "outputs": [
    {
     "data": {
      "text/html": [
       "<div>\n",
       "<style scoped>\n",
       "    .dataframe tbody tr th:only-of-type {\n",
       "        vertical-align: middle;\n",
       "    }\n",
       "\n",
       "    .dataframe tbody tr th {\n",
       "        vertical-align: top;\n",
       "    }\n",
       "\n",
       "    .dataframe thead th {\n",
       "        text-align: right;\n",
       "    }\n",
       "</style>\n",
       "<table border=\"1\" class=\"dataframe\">\n",
       "  <thead>\n",
       "    <tr style=\"text-align: right;\">\n",
       "      <th></th>\n",
       "      <th>0</th>\n",
       "      <th>1</th>\n",
       "      <th>2</th>\n",
       "      <th>3</th>\n",
       "      <th>4</th>\n",
       "      <th>5</th>\n",
       "      <th>6</th>\n",
       "      <th>7</th>\n",
       "      <th>8</th>\n",
       "      <th>9</th>\n",
       "    </tr>\n",
       "  </thead>\n",
       "  <tbody>\n",
       "    <tr>\n",
       "      <th>0</th>\n",
       "      <td>xxfld</td>\n",
       "      <td>protagonist</td>\n",
       "      <td>xxunk</td>\n",
       "      <td>into</td>\n",
       "      <td>occasionally</td>\n",
       "      <td>start</td>\n",
       "      <td>humor</td>\n",
       "      <td>his</td>\n",
       "      <td>the</td>\n",
       "      <td>xxunk</td>\n",
       "    </tr>\n",
       "    <tr>\n",
       "      <th>1</th>\n",
       "      <td>1</td>\n",
       "      <td>is</td>\n",
       "      <td>for</td>\n",
       "      <td>this</td>\n",
       "      <td>xxunk</td>\n",
       "      <td>planning</td>\n",
       "      <td>is</td>\n",
       "      <td>revenge</td>\n",
       "      <td>box</td>\n",
       "      <td>in</td>\n",
       "    </tr>\n",
       "    <tr>\n",
       "      <th>2</th>\n",
       "      <td>un</td>\n",
       "      <td>xxunk</td>\n",
       "      <td>a</td>\n",
       "      <td>film</td>\n",
       "      <td>in</td>\n",
       "      <td>and</td>\n",
       "      <td>the</td>\n",
       "      <td>.</td>\n",
       "      <td>office</td>\n",
       "      <td>my</td>\n",
       "    </tr>\n",
       "    <tr>\n",
       "      <th>3</th>\n",
       "      <td>-</td>\n",
       "      <td>her</td>\n",
       "      <td>massive</td>\n",
       "      <td>,</td>\n",
       "      <td>other</td>\n",
       "      <td>not</td>\n",
       "      <td>biggest</td>\n",
       "      <td>still</td>\n",
       "      <td>,</td>\n",
       "      <td>xxunk</td>\n",
       "    </tr>\n",
       "    <tr>\n",
       "      <th>4</th>\n",
       "      <td>xxunk</td>\n",
       "      <td>early</td>\n",
       "      <td>series</td>\n",
       "      <td>although</td>\n",
       "      <td>versions</td>\n",
       "      <td>filming</td>\n",
       "      <td>problem</td>\n",
       "      <td>alive</td>\n",
       "      <td>xxunk</td>\n",
       "      <td>.</td>\n",
       "    </tr>\n",
       "    <tr>\n",
       "      <th>5</th>\n",
       "      <td>-</td>\n",
       "      <td>life</td>\n",
       "      <td>of</td>\n",
       "      <td>having</td>\n",
       "      <td>of</td>\n",
       "      <td>until</td>\n",
       "      <td>with</td>\n",
       "      <td>,</td>\n",
       "      <td>b.</td>\n",
       "      <td>first</td>\n",
       "    </tr>\n",
       "    <tr>\n",
       "      <th>6</th>\n",
       "      <td>believable</td>\n",
       "      <td>as</td>\n",
       "      <td>gags</td>\n",
       "      <td>the</td>\n",
       "      <td>the</td>\n",
       "      <td>everything</td>\n",
       "      <td>the</td>\n",
       "      <td>it</td>\n",
       "      <td>demille</td>\n",
       "      <td>,</td>\n",
       "    </tr>\n",
       "    <tr>\n",
       "      <th>7</th>\n",
       "      <td>!</td>\n",
       "      <td>a</td>\n",
       "      <td>built</td>\n",
       "      <td>main</td>\n",
       "      <td>story</td>\n",
       "      <td>has</td>\n",
       "      <td>film</td>\n",
       "      <td>looks</td>\n",
       "      <td>stopped</td>\n",
       "      <td>the</td>\n",
       "    </tr>\n",
       "    <tr>\n",
       "      <th>8</th>\n",
       "      <td>meg</td>\n",
       "      <td>butcher</td>\n",
       "      <td>upon</td>\n",
       "      <td>character</td>\n",
       "      <td>.</td>\n",
       "      <td>come</td>\n",
       "      <td>.</td>\n",
       "      <td>like</td>\n",
       "      <td>doing</td>\n",
       "      <td>xxunk</td>\n",
       "    </tr>\n",
       "    <tr>\n",
       "      <th>9</th>\n",
       "      <td>ryan</td>\n",
       "      <td>.</td>\n",
       "      <td>gags</td>\n",
       "      <td>a</td>\n",
       "      <td>wells</td>\n",
       "      <td>down</td>\n",
       "      <td>sure</td>\n",
       "      <td>carradine</td>\n",
       "      <td>films</td>\n",
       "      <td>scene</td>\n",
       "    </tr>\n",
       "    <tr>\n",
       "      <th>10</th>\n",
       "      <td>does</td>\n",
       "      <td>weird</td>\n",
       "      <td>,</td>\n",
       "      <td>drunk</td>\n",
       "      <td>'</td>\n",
       "      <td>on</td>\n",
       "      <td>,</td>\n",
       "      <td>tries</td>\n",
       "      <td>about</td>\n",
       "      <td>between</td>\n",
       "    </tr>\n",
       "    <tr>\n",
       "      <th>11</th>\n",
       "      <td>n't</td>\n",
       "      <td>stuff</td>\n",
       "      <td>but</td>\n",
       "      <td>and</td>\n",
       "      <td>description</td>\n",
       "      <td>a</td>\n",
       "      <td>making</td>\n",
       "      <td>to</td>\n",
       "      <td>non</td>\n",
       "      <td>the</td>\n",
       "    </tr>\n",
       "    <tr>\n",
       "      <th>12</th>\n",
       "      <td>even</td>\n",
       "      <td>.</td>\n",
       "      <td>stops</td>\n",
       "      <td>a</td>\n",
       "      <td>of</td>\n",
       "      <td>storyboard</td>\n",
       "      <td>fun</td>\n",
       "      <td>shoot</td>\n",
       "      <td>-</td>\n",
       "      <td>women</td>\n",
       "    </tr>\n",
       "    <tr>\n",
       "      <th>13</th>\n",
       "      <td>look</td>\n",
       "      <td>then</td>\n",
       "      <td>short</td>\n",
       "      <td>heroine</td>\n",
       "      <td>the</td>\n",
       "      <td>.</td>\n",
       "      <td>of</td>\n",
       "      <td>her</td>\n",
       "      <td>american</td>\n",
       "      <td>at</td>\n",
       "    </tr>\n",
       "    <tr>\n",
       "      <th>14</th>\n",
       "      <td>her</td>\n",
       "      <td>there</td>\n",
       "      <td>(</td>\n",
       "      <td>addict</td>\n",
       "      <td>martians</td>\n",
       "      <td>you</td>\n",
       "      <td>mentally</td>\n",
       "      <td>and</td>\n",
       "      <td>history</td>\n",
       "      <td>the</td>\n",
       "    </tr>\n",
       "    <tr>\n",
       "      <th>15</th>\n",
       "      <td>usual</td>\n",
       "      <td>'s</td>\n",
       "      <td>for</td>\n",
       "      <td>did</td>\n",
       "      <td></td>\n",
       "      <td>certainly</td>\n",
       "      <td>ill</td>\n",
       "      <td>misses</td>\n",
       "      <td>.</td>\n",
       "      <td>xxunk</td>\n",
       "    </tr>\n",
       "    <tr>\n",
       "      <th>16</th>\n",
       "      <td>xxunk</td>\n",
       "      <td>the</td>\n",
       "      <td>all</td>\n",
       "      <td>n't</td>\n",
       "      <td>a</td>\n",
       "      <td>have</td>\n",
       "      <td>people</td>\n",
       "      <td>,</td>\n",
       "      <td>his</td>\n",
       "      <td>xxunk</td>\n",
       "    </tr>\n",
       "    <tr>\n",
       "      <th>17</th>\n",
       "      <td>lovable</td>\n",
       "      <td>core</td>\n",
       "      <td>the</td>\n",
       "      <td>come</td>\n",
       "      <td>giant</td>\n",
       "      <td>the</td>\n",
       "      <td>is</td>\n",
       "      <td>but</td>\n",
       "      <td>films</td>\n",
       "      <td>--</td>\n",
       "    </tr>\n",
       "    <tr>\n",
       "      <th>18</th>\n",
       "      <td>self</td>\n",
       "      <td>premise</td>\n",
       "      <td>xxunk</td>\n",
       "      <td>as</td>\n",
       "      <td>head</td>\n",
       "      <td>ability</td>\n",
       "      <td>pretty</td>\n",
       "      <td>it</td>\n",
       "      <td>for</td>\n",
       "      <td>undertext</td>\n",
       "    </tr>\n",
       "    <tr>\n",
       "      <th>19</th>\n",
       "      <td>in</td>\n",
       "      <td>of</td>\n",
       "      <td>)</td>\n",
       "      <td>an</td>\n",
       "      <td>xxunk</td>\n",
       "      <td>and</td>\n",
       "      <td>low</td>\n",
       "      <td>does</td>\n",
       "      <td>the</td>\n",
       "      <td>:</td>\n",
       "    </tr>\n",
       "  </tbody>\n",
       "</table>\n",
       "</div>"
      ],
      "text/plain": [
       "             0            1        2          3             4           5  \\\n",
       "0        xxfld  protagonist    xxunk       into  occasionally       start   \n",
       "1            1           is      for       this         xxunk    planning   \n",
       "2           un        xxunk        a       film            in         and   \n",
       "3            -          her  massive          ,         other         not   \n",
       "4        xxunk        early   series   although      versions     filming   \n",
       "5            -         life       of     having            of       until   \n",
       "6   believable           as     gags        the           the  everything   \n",
       "7            !            a    built       main         story         has   \n",
       "8          meg      butcher     upon  character             .        come   \n",
       "9         ryan            .     gags          a         wells        down   \n",
       "10        does        weird        ,      drunk             '          on   \n",
       "11         n't        stuff      but        and   description           a   \n",
       "12        even            .    stops          a            of  storyboard   \n",
       "13        look         then    short    heroine           the           .   \n",
       "14         her        there        (     addict      martians         you   \n",
       "15       usual           's      for        did                certainly   \n",
       "16       xxunk          the      all        n't             a        have   \n",
       "17     lovable         core      the       come         giant         the   \n",
       "18        self      premise    xxunk         as          head     ability   \n",
       "19          in           of        )         an         xxunk         and   \n",
       "\n",
       "           6          7         8          9  \n",
       "0      humor        his       the      xxunk  \n",
       "1         is    revenge       box         in  \n",
       "2        the          .    office         my  \n",
       "3    biggest      still         ,      xxunk  \n",
       "4    problem      alive     xxunk          .  \n",
       "5       with          ,        b.      first  \n",
       "6        the         it   demille          ,  \n",
       "7       film      looks   stopped        the  \n",
       "8          .       like     doing      xxunk  \n",
       "9       sure  carradine     films      scene  \n",
       "10         ,      tries     about    between  \n",
       "11    making         to       non        the  \n",
       "12       fun      shoot         -      women  \n",
       "13        of        her  american         at  \n",
       "14  mentally        and   history        the  \n",
       "15       ill     misses         .      xxunk  \n",
       "16    people          ,       his      xxunk  \n",
       "17        is        but     films         --  \n",
       "18    pretty         it       for  undertext  \n",
       "19       low       does       the          :  "
      ]
     },
     "execution_count": null,
     "metadata": {},
     "output_type": "execute_result"
    }
   ],
   "source": [
    "path = untar_data(URLs.IMDB_SAMPLE)\n",
    "data = TextLMDataBunch.from_csv(path)\n",
    "x,y = next(iter(data.train_dl))\n",
    "example = x[:20,:10].cpu()\n",
    "texts = pd.DataFrame([data.train_ds.vocab.textify(l).split(' ') for l in example])\n",
    "texts"
   ]
  },
  {
   "cell_type": "markdown",
   "metadata": {},
   "source": [
    "Then, as suggested in [this article](https://arxiv.org/abs/1708.02182) from Stephen Merity et al., we don't use a fixed `bptt` through the different batches but slightly change it from batch to batch."
   ]
  },
  {
   "cell_type": "code",
   "execution_count": null,
   "metadata": {},
   "outputs": [
    {
     "name": "stdout",
     "output_type": "stream",
     "text": [
      "torch.Size([81, 64])\n",
      "torch.Size([66, 64])\n",
      "torch.Size([27, 64])\n",
      "torch.Size([69, 64])\n",
      "torch.Size([67, 64])\n"
     ]
    }
   ],
   "source": [
    "iter_dl = iter(data.train_dl)\n",
    "for _ in range(5):\n",
    "    x,y = next(iter_dl)\n",
    "    print(x.size())"
   ]
  },
  {
   "cell_type": "markdown",
   "metadata": {},
   "source": [
    "This is all done internally when we use [`TextLMDataBunch`](/text.data.html#TextLMDataBunch), by creating [`DataLoader`](https://pytorch.org/docs/stable/data.html#torch.utils.data.DataLoader) using the following class:"
   ]
  },
  {
   "cell_type": "code",
   "execution_count": null,
   "metadata": {
    "hide_input": true
   },
   "outputs": [
    {
     "data": {
      "text/markdown": [
       "<h2 id=\"LanguageModelLoader\"><code>class</code> <code>LanguageModelLoader</code><a href=\"https://github.com/fastai/fastai/blob/master/fastai/text/data.py#L202\" class=\"source_link\">[source]</a></h2>\n",
       "\n",
       "> <code>LanguageModelLoader</code>(`dataset`:[`TextDataset`](/text.data.html#TextDataset), `bs`:`int`=`64`, `bptt`:`int`=`70`, `backwards`:`bool`=`False`)"
      ],
      "text/plain": [
       "<IPython.core.display.Markdown object>"
      ]
     },
     "metadata": {},
     "output_type": "display_data"
    }
   ],
   "source": [
    "show_doc(LanguageModelLoader, doc_string=False)"
   ]
  },
  {
   "cell_type": "markdown",
   "metadata": {},
   "source": [
    "Takes the texts from `dataset` and concatenate them all, then create a big array with `bs` columns (transposed from the data source so that we read the texts in the columns). Spits batches with a size approximately equal to `bptt` but changing at every batch. If `backwards` is True, reverses the original text."
   ]
  },
  {
   "cell_type": "code",
   "execution_count": null,
   "metadata": {
    "hide_input": true
   },
   "outputs": [
    {
     "data": {
      "text/markdown": [
       "<h4 id=\"LanguageModelLoader.batchify\"><code>batchify</code><a href=\"https://github.com/fastai/fastai/blob/master/fastai/text/data.py#L224\" class=\"source_link\">[source]</a></h4>\n",
       "\n",
       "> <code>batchify</code>(`data`:`ndarray`) → `LongTensor`"
      ],
      "text/plain": [
       "<IPython.core.display.Markdown object>"
      ]
     },
     "metadata": {},
     "output_type": "display_data"
    }
   ],
   "source": [
    "show_doc(LanguageModelLoader.batchify, doc_string=False)"
   ]
  },
  {
   "cell_type": "markdown",
   "metadata": {},
   "source": [
    "Called at the inialization to create the big array of text ids from the [`data`](/text.data.html#text.data) array."
   ]
  },
  {
   "cell_type": "code",
   "execution_count": null,
   "metadata": {
    "hide_input": true
   },
   "outputs": [
    {
     "data": {
      "text/markdown": [
       "<h4 id=\"LanguageModelLoader.get_batch\"><code>get_batch</code><a href=\"https://github.com/fastai/fastai/blob/master/fastai/text/data.py#L231\" class=\"source_link\">[source]</a></h4>\n",
       "\n",
       "> <code>get_batch</code>(`i`:`int`, `seq_len`:`int`) → `Tuple`\\[`LongTensor`, `LongTensor`\\]\n",
       "\n",
       "Create a batch at `i` of a given `seq_len`.  "
      ],
      "text/plain": [
       "<IPython.core.display.Markdown object>"
      ]
     },
     "metadata": {},
     "output_type": "display_data"
    }
   ],
   "source": [
    "show_doc(LanguageModelLoader.get_batch)"
   ]
  },
  {
   "cell_type": "markdown",
   "metadata": {},
   "source": [
    "## Classifier data"
   ]
  },
  {
   "cell_type": "markdown",
   "metadata": {},
   "source": [
    "When preparing the data for a classifier, we keep the different texts separate, which poses another challenge for the creation of batches: since they don't all have the same length, we can't easily collate them together in batches. To help with this we use two different techniques:\n",
    "- padding: each text is padded with the `PAD` token to get all the ones we picked to the same size\n",
    "- sorting the texts (ish): to avoid having together a very long text with a very short one (which would then have a lot of `PAD` tokens), we regroup the texts by order of length. For the training set, we still add some randomness to avoid showing the same batches at every step of the training.\n",
    "\n",
    "Here is an example of batch with padding (the padding index is 1, and the padding is applied before the sentences start)."
   ]
  },
  {
   "cell_type": "code",
   "execution_count": null,
   "metadata": {},
   "outputs": [
    {
     "data": {
      "text/plain": [
       "tensor([[1, 1, 1, 1, 1, 1, 1, 1, 1, 1],\n",
       "        [1, 1, 1, 1, 1, 1, 1, 1, 1, 1],\n",
       "        [1, 1, 1, 1, 1, 1, 1, 1, 1, 1],\n",
       "        [1, 1, 1, 1, 1, 1, 1, 1, 1, 1],\n",
       "        [1, 1, 1, 1, 1, 1, 1, 1, 1, 1],\n",
       "        [1, 1, 1, 1, 1, 1, 1, 1, 1, 1],\n",
       "        [1, 1, 1, 1, 1, 1, 1, 1, 1, 1],\n",
       "        [1, 1, 1, 1, 1, 1, 1, 1, 1, 1],\n",
       "        [1, 1, 1, 1, 1, 1, 1, 1, 1, 1],\n",
       "        [1, 1, 1, 1, 1, 1, 1, 1, 1, 1],\n",
       "        [1, 1, 1, 1, 1, 1, 1, 1, 1, 1],\n",
       "        [1, 1, 1, 1, 1, 1, 1, 1, 1, 1],\n",
       "        [1, 1, 1, 1, 1, 1, 1, 1, 1, 1],\n",
       "        [1, 1, 1, 1, 1, 1, 1, 1, 1, 1],\n",
       "        [1, 1, 1, 1, 1, 1, 1, 1, 1, 1],\n",
       "        [1, 1, 1, 1, 1, 1, 1, 1, 1, 1],\n",
       "        [1, 1, 1, 1, 1, 1, 1, 1, 1, 1],\n",
       "        [1, 1, 1, 1, 1, 1, 1, 1, 1, 1],\n",
       "        [1, 1, 1, 1, 1, 1, 1, 1, 1, 1],\n",
       "        [1, 1, 1, 1, 1, 1, 1, 1, 1, 1]], device='cuda:0')"
      ]
     },
     "execution_count": null,
     "metadata": {},
     "output_type": "execute_result"
    }
   ],
   "source": [
    "path = untar_data(URLs.IMDB_SAMPLE)\n",
    "data = TextClasDataBunch.from_csv(path)\n",
    "iter_dl = iter(data.train_dl)\n",
    "_ = next(iter_dl)\n",
    "x,y = next(iter_dl)\n",
    "x[:20,-10:]"
   ]
  },
  {
   "cell_type": "markdown",
   "metadata": {},
   "source": [
    "This is all done internally when we use [`TextClasDataBunch`](/text.data.html#TextClasDataBunch), by using the following classes:"
   ]
  },
  {
   "cell_type": "code",
   "execution_count": null,
   "metadata": {
    "hide_input": true
   },
   "outputs": [
    {
     "data": {
      "text/markdown": [
       "<h2 id=\"SortSampler\"><code>class</code> <code>SortSampler</code><a href=\"https://github.com/fastai/fastai/blob/master/fastai/text/data.py#L236\" class=\"source_link\">[source]</a></h2>\n",
       "\n",
       "> <code>SortSampler</code>(`data_source`:`NPArrayList`, `key`:`KeyFunc`) :: [`Sampler`](https://pytorch.org/docs/stable/data.html#torch.utils.data.Sampler)"
      ],
      "text/plain": [
       "<IPython.core.display.Markdown object>"
      ]
     },
     "metadata": {},
     "output_type": "display_data"
    }
   ],
   "source": [
    "show_doc(SortSampler, doc_string=False)"
   ]
  },
  {
   "cell_type": "markdown",
   "metadata": {},
   "source": [
    "pytorch [`Sampler`](https://pytorch.org/docs/stable/data.html#torch.utils.data.Sampler) to batchify the `data_source` by order of length of the texts. Used for the validation and (if applicable) the test set. "
   ]
  },
  {
   "cell_type": "code",
   "execution_count": null,
   "metadata": {
    "hide_input": true
   },
   "outputs": [
    {
     "data": {
      "text/markdown": [
       "<h2 id=\"SortishSampler\"><code>class</code> <code>SortishSampler</code><a href=\"https://github.com/fastai/fastai/blob/master/fastai/text/data.py#L245\" class=\"source_link\">[source]</a></h2>\n",
       "\n",
       "> <code>SortishSampler</code>(`data_source`:`NPArrayList`, `key`:`KeyFunc`, `bs`:`int`) :: [`Sampler`](https://pytorch.org/docs/stable/data.html#torch.utils.data.Sampler)"
      ],
      "text/plain": [
       "<IPython.core.display.Markdown object>"
      ]
     },
     "metadata": {},
     "output_type": "display_data"
    }
   ],
   "source": [
    "show_doc(SortishSampler, doc_string=False)"
   ]
  },
  {
   "cell_type": "markdown",
   "metadata": {},
   "source": [
    "pytorch [`Sampler`](https://pytorch.org/docs/stable/data.html#torch.utils.data.Sampler) to batchify with size `bs` the `data_source` by order of length of the texts with a bit of randomness. Used for the training set."
   ]
  },
  {
   "cell_type": "code",
   "execution_count": null,
   "metadata": {
    "hide_input": true
   },
   "outputs": [
    {
     "data": {
      "text/markdown": [
       "<h4 id=\"pad_collate\"><code>pad_collate</code><a href=\"https://github.com/fastai/fastai/blob/master/fastai/text/data.py#L266\" class=\"source_link\">[source]</a></h4>\n",
       "\n",
       "> <code>pad_collate</code>(`samples`:`BatchSamples`, `pad_idx`:`int`=`1`, `pad_first`:`bool`=`True`) → `Tuple`\\[`LongTensor`, `LongTensor`\\]"
      ],
      "text/plain": [
       "<IPython.core.display.Markdown object>"
      ]
     },
     "metadata": {},
     "output_type": "display_data"
    }
   ],
   "source": [
    "show_doc(pad_collate, doc_string=False)"
   ]
  },
  {
   "cell_type": "markdown",
   "metadata": {},
   "source": [
    "Function used by the pytorch [`DataLoader`](https://pytorch.org/docs/stable/data.html#torch.utils.data.DataLoader) to collate the `samples` in batches while adding padding with `pad_idx`. If `pad_first` is True, padding is applied at the beginning (before the sentence starts) otherwise it's applied at the end."
   ]
  },
  {
   "cell_type": "markdown",
   "metadata": {},
   "source": [
    "## Enums"
   ]
  },
  {
   "cell_type": "code",
   "execution_count": null,
   "metadata": {
    "hide_input": true
   },
   "outputs": [
    {
     "data": {
      "text/markdown": [
       "<h2 id=\"TextMtd\">`TextMtd`</h2>\n",
       "\n",
       "> <code>Enum</code> = [DF, TOK, IDS]\n",
       "\n",
       "[`TextDataset`](/text.data.html#TextDataset) enum to keep track of what data needs to be processed (dataframe, csv, tokens, ids) "
      ],
      "text/plain": [
       "<IPython.core.display.Markdown object>"
      ]
     },
     "metadata": {},
     "output_type": "display_data"
    }
   ],
   "source": [
    "show_doc(TextMtd, alt_doc_string='`TextDataset` enum to keep track of what data needs to be processed (dataframe, csv, tokens, ids)')"
   ]
  },
  {
   "cell_type": "markdown",
   "metadata": {},
   "source": [
    "## Undocumented Methods - Methods moved below this line will intentionally be hidden"
   ]
  },
  {
   "cell_type": "markdown",
   "metadata": {},
   "source": [
    "## New Methods - Please document or move to the undocumented section"
   ]
  },
  {
   "cell_type": "code",
   "execution_count": null,
   "metadata": {
    "hide_input": true
   },
   "outputs": [
    {
     "data": {
      "text/markdown": [
       "<h4 id=\"read_classes\"><code>read_classes</code><a href=\"https://github.com/fastai/fastai/blob/master/fastai/text/data.py#L11\" class=\"source_link\">[source]</a></h4>\n",
       "\n",
       "> <code>read_classes</code>(`fname`)"
      ],
      "text/plain": [
       "<IPython.core.display.Markdown object>"
      ]
     },
     "metadata": {},
     "output_type": "display_data"
    }
   ],
   "source": [
    "show_doc(read_classes)"
   ]
  },
  {
   "cell_type": "markdown",
   "metadata": {},
   "source": []
  },
  {
   "cell_type": "code",
   "execution_count": null,
   "metadata": {
    "hide_input": true
   },
   "outputs": [
    {
     "data": {
      "text/markdown": [
       "<h4 id=\"TextLMDataBunch.create\"><code>create</code><a href=\"https://github.com/fastai/fastai/blob/master/fastai/text/data.py#L361\" class=\"source_link\">[source]</a></h4>\n",
       "\n",
       "> <code>create</code>(`datasets`:`Collection`\\[[`TextDataset`](/text.data.html#TextDataset)\\], `path`:`PathOrStr`, `kwargs`) → [`DataBunch`](/basic_data.html#DataBunch)\n",
       "\n",
       "Create a [`TextDataBunch`](/text.data.html#TextDataBunch) in `path` from the `datasets` for language modelling.  "
      ],
      "text/plain": [
       "<IPython.core.display.Markdown object>"
      ]
     },
     "metadata": {},
     "output_type": "display_data"
    }
   ],
   "source": [
    "show_doc(TextLMDataBunch.create)"
   ]
  },
  {
   "cell_type": "markdown",
   "metadata": {},
   "source": []
  },
  {
   "cell_type": "code",
   "execution_count": null,
   "metadata": {
    "hide_input": true
   },
   "outputs": [
    {
     "data": {
      "text/markdown": [
       "<h4 id=\"TextClasDataBunch.create\"><code>create</code><a href=\"https://github.com/fastai/fastai/blob/master/fastai/text/data.py#L369\" class=\"source_link\">[source]</a></h4>\n",
       "\n",
       "> <code>create</code>(`datasets`:`Collection`\\[[`TextDataset`](/text.data.html#TextDataset)\\], `path`:`PathOrStr`, `bs`=`64`, `pad_idx`=`1`, `pad_first`=`True`, `kwargs`) → [`DataBunch`](/basic_data.html#DataBunch)\n",
       "\n",
       "Function that transform the `datasets` in a [`DataBunch`](/basic_data.html#DataBunch) for classification.  "
      ],
      "text/plain": [
       "<IPython.core.display.Markdown object>"
      ]
     },
     "metadata": {},
     "output_type": "display_data"
    }
   ],
   "source": [
    "show_doc(TextClasDataBunch.create)"
   ]
  },
  {
   "cell_type": "markdown",
   "metadata": {},
   "source": []
  },
  {
   "cell_type": "code",
   "execution_count": null,
   "metadata": {
    "hide_input": true
   },
   "outputs": [
    {
     "data": {
      "text/markdown": [
       "<h4 id=\"TextDataBunch.from_df\"><code>from_df</code><a href=\"https://github.com/fastai/fastai/blob/master/fastai/text/data.py#L314\" class=\"source_link\">[source]</a></h4>\n",
       "\n",
       "> <code>from_df</code>(`path`:`PathOrStr`, `train_df`:`Union`\\[`DataFrame`, `TextFileReader`\\], `valid_df`:`Union`\\[`DataFrame`, `TextFileReader`\\], `test_df`:`Union`\\[`DataFrame`, `TextFileReader`, `NoneType`\\]=`None`, `tokenizer`:[`Tokenizer`](/text.transform.html#Tokenizer)=`None`, `vocab`:[`Vocab`](/text.transform.html#Vocab)=`None`, `kwargs`) → [`DataBunch`](/basic_data.html#DataBunch)\n",
       "\n",
       "Create a [`TextDataBunch`](/text.data.html#TextDataBunch) from DataFrames.  "
      ],
      "text/plain": [
       "<IPython.core.display.Markdown object>"
      ]
     },
     "metadata": {},
     "output_type": "display_data"
    }
   ],
   "source": [
    "show_doc(TextDataBunch.from_df)"
   ]
  },
  {
   "cell_type": "markdown",
   "metadata": {},
   "source": []
  }
 ],
 "metadata": {
  "jekyll": {
   "keywords": "fastai",
   "summary": "Basic dataset for NLP tasks and helper functions to create a DataBunch",
   "title": "text.data"
  },
  "kernelspec": {
   "display_name": "Python 3",
   "language": "python",
   "name": "python3"
  }
 },
 "nbformat": 4,
 "nbformat_minor": 2
}

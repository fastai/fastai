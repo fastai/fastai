{
 "cells": [
  {
   "cell_type": "markdown",
   "metadata": {},
   "source": [
    "# Implementation of the language models"
   ]
  },
  {
   "cell_type": "code",
   "execution_count": null,
   "metadata": {
    "hide_input": true
   },
   "outputs": [],
   "source": [
    "from fastai.gen_doc.nbdoc import *\n",
    "from fastai.text import * \n",
    "from fastai.text.models import * "
   ]
  },
  {
   "cell_type": "markdown",
   "metadata": {},
   "source": [
    "[`text.models`](/text.models.html#text.models) module fully implements the [AWD-LSTM](https://arxiv.org/pdf/1708.02182.pdf) from Stephen Merity et al. The main idea of the article is to use a [RNN](http://www.pnas.org/content/79/8/2554) with dropout everywhere, but in an intelligent way. There is a difference with the usual dropout, which is why you’ll see a [`RNNDropout`](/text.models.html#RNNDropout) module: we zero things, as is usual in dropout, but we always zero the same thing according to the sequence dimension (which is the first dimension in pytorch). This ensures consistency when updating the hidden state through the whole sentences/articles. \n",
    "\n",
    "This being given, there are five different dropouts in the AWD-LSTM:\n",
    "\n",
    "- the first one, embedding dropout, is applied when we look the ids of our tokens inside the embedding matrix (to transform them from numbers to a vector of float). We zero some lines of it, so random ids are sent to a vector of zeros instead of being sent to their embedding vector.\n",
    "- the second one, input dropout, is applied to the result of the embedding with dropout. We forget random pieces of the embedding matrix (but as stated in the last paragraph, the same ones in the sequence dimension).\n",
    "- the third one is the weight dropout. It’s the trickiest to implement as we randomly replace by 0s some weights of the hidden-to-hidden matrix inside the RNN: this needs to be done in a way that ensure the gradients are still computed and the initial weights still updated.\n",
    "- the fourth one is the hidden dropout. It’s applied to the output of one of the layers of the RNN before it’s used as input of the next layer (again same coordinates are zeroed in the sequence dimension). This one isn’t applied to the last output, but rather…\n",
    "- the fifth one is the output dropout, it’s applied to the last output of the model (and like the others, it’s applied the same way through the first dimension)."
   ]
  },
  {
   "cell_type": "markdown",
   "metadata": {},
   "source": [
    "## Basic functions to get a model"
   ]
  },
  {
   "cell_type": "code",
   "execution_count": null,
   "metadata": {
    "hide_input": true
   },
   "outputs": [
    {
     "data": {
      "text/markdown": [
       "<h4 id=\"get_language_model\"><code>get_language_model</code><a href=\"https://github.com/fastai/fastai/blob/master/fastai/text/models.py#L206\" class=\"source_link\">[source]</a></h4>\n",
       "\n",
       "> <code>get_language_model</code>(`vocab_sz`:`int`, `emb_sz`:`int`, `n_hid`:`int`, `n_layers`:`int`, `pad_token`:`int`, `tie_weights`:`bool`=`True`, `qrnn`:`bool`=`False`, `bias`:`bool`=`True`, `bidir`:`bool`=`False`, `output_p`:`float`=`0.4`, `hidden_p`:`float`=`0.2`, `input_p`:`float`=`0.6`, `embed_p`:`float`=`0.1`, `weight_p`:`float`=`0.5`) → [`Module`](https://pytorch.org/docs/stable/nn.html#torch.nn.Module)\n",
       "\n",
       "Create a full AWD-LSTM.  "
      ],
      "text/plain": [
       "<IPython.core.display.Markdown object>"
      ]
     },
     "metadata": {},
     "output_type": "display_data"
    }
   ],
   "source": [
    "show_doc(get_language_model)"
   ]
  },
  {
   "cell_type": "markdown",
   "metadata": {},
   "source": [
    "The first embedding of `vocab_sz` by `emb_sz`, a hidden size of `n_hid`, RNNs with `n_layers` that can be bidirectional if `bidir` is True. The last RNN as an output size of `emb_sz` so that we can use the same decoder as the encoder if `tie_weights` is True. The decoder is a `Linear` layer with or without `bias`. If `qrnn` is set to True, we use [QRNN cells] instead of LSTMS. `pad_token` is the token used for padding.\n",
    "\n",
    "`embed_p` is used for the embedding dropout, `input_p` is used for the input dropout, `weight_p` is used for the weight dropout, `hidden_p` is used for the hidden dropout and `output_p` is used for the output dropout.\n",
    "\n",
    "Note that the model returns a list of three things, the actual output being the first, the two others being the intermediate hidden states before and after dropout (used by the [`RNNTrainer`](/callbacks.rnn.html#RNNTrainer)). Most loss functions expect one output, so you should use a Callback to remove the other two if you're not using [`RNNTrainer`](/callbacks.rnn.html#RNNTrainer)."
   ]
  },
  {
   "cell_type": "code",
   "execution_count": null,
   "metadata": {
    "hide_input": true
   },
   "outputs": [
    {
     "data": {
      "text/markdown": [
       "<h4 id=\"get_rnn_classifier\"><code>get_rnn_classifier</code><a href=\"https://github.com/fastai/fastai/blob/master/fastai/text/models.py#L217\" class=\"source_link\">[source]</a></h4>\n",
       "\n",
       "> <code>get_rnn_classifier</code>(`bptt`:`int`, `max_seq`:`int`, `n_class`:`int`, `vocab_sz`:`int`, `emb_sz`:`int`, `n_hid`:`int`, `n_layers`:`int`, `pad_token`:`int`, `layers`:`Collection`\\[`int`\\], `drops`:`Collection`\\[`float`\\], `bidir`:`bool`=`False`, `qrnn`:`bool`=`False`, `hidden_p`:`float`=`0.2`, `input_p`:`float`=`0.6`, `embed_p`:`float`=`0.1`, `weight_p`:`float`=`0.5`) → [`Module`](https://pytorch.org/docs/stable/nn.html#torch.nn.Module)\n",
       "\n",
       "Create a RNN classifier model.  "
      ],
      "text/plain": [
       "<IPython.core.display.Markdown object>"
      ]
     },
     "metadata": {},
     "output_type": "display_data"
    }
   ],
   "source": [
    "show_doc(get_rnn_classifier)"
   ]
  },
  {
   "cell_type": "markdown",
   "metadata": {},
   "source": [
    "This model uses an encoder taken from an AWD-LSTM with arguments `vocab_sz`, `emb_sz`, `n_hid`, `n_layers`, `bias`, `bidir`, `qrnn`, `pad_token` and the dropouts parameters. This encoder is fed the sequence by successive bits of size `bptt` and we only keep the last `max_seq` outputs for the pooling layers.\n",
    "\n",
    "The decoder use a concatenation of the last outputs, a `MaxPooling` of all the ouputs and an `AveragePooling` of all the outputs. It then uses a list of `BatchNorm`, `Dropout`, `Linear`, `ReLU` blocks (with no `ReLU` in the last one), using a first layer size of `3*emb_sz` then follwoing the numbers in `n_layers` to stop at `n_class`. The dropouts probabilities are read in `drops`.\n",
    "\n",
    "Note that the model returns a list of three things, the actual output being the first, the two others being the intermediate hidden states before and after dropout (used by the [`RNNTrainer`](/callbacks.rnn.html#RNNTrainer)). Most loss functions expect one output, so you should use a Callback to remove the other two if you're not using [`RNNTrainer`](/callbacks.rnn.html#RNNTrainer)."
   ]
  },
  {
   "cell_type": "markdown",
   "metadata": {},
   "source": [
    "## Basic NLP modules"
   ]
  },
  {
   "cell_type": "markdown",
   "metadata": {},
   "source": [
    "On top of the pytorch or the fastai [`layers`](/layers.html#layers), the language models use some custom layers specific to NLP."
   ]
  },
  {
   "cell_type": "code",
   "execution_count": null,
   "metadata": {
    "hide_input": true
   },
   "outputs": [
    {
     "data": {
      "text/markdown": [
       "<h3 id=\"EmbeddingDropout\"><code>class</code> <code>EmbeddingDropout</code><a href=\"https://github.com/fastai/fastai/blob/master/fastai/text/models.py#L54\" class=\"source_link\">[source]</a></h3>\n",
       "\n",
       "> <code>EmbeddingDropout</code>(`emb`:[`Module`](https://pytorch.org/docs/stable/nn.html#torch.nn.Module), `embed_p`:`float`) :: [`Module`](https://pytorch.org/docs/stable/nn.html#torch.nn.Module)\n",
       "\n",
       "Apply dropout with probabily `embed_p` to an embedding layer `emb`.  "
      ],
      "text/plain": [
       "<IPython.core.display.Markdown object>"
      ]
     },
     "metadata": {},
     "output_type": "display_data"
    }
   ],
   "source": [
    "show_doc(EmbeddingDropout, title_level=3)"
   ]
  },
  {
   "cell_type": "markdown",
   "metadata": {},
   "source": [
    "Each row of the embedding matrix has a probability `embed_p` of being replaced by zeros while the others are rescaled accordingly. "
   ]
  },
  {
   "cell_type": "code",
   "execution_count": null,
   "metadata": {},
   "outputs": [
    {
     "data": {
      "text/plain": [
       "tensor([[ 1.1471,  1.5351,  1.2480,  1.9189,  1.2679,  1.5982, -1.1342],\n",
       "        [-0.0000, -0.0000,  0.0000, -0.0000, -0.0000, -0.0000,  0.0000],\n",
       "        [-0.0000, -0.0000,  0.0000, -0.0000,  0.0000,  0.0000, -0.0000],\n",
       "        [ 0.0000, -0.0000, -0.0000, -0.0000, -0.0000,  0.0000, -0.0000],\n",
       "        [-0.2790, -2.4966,  3.1997, -1.3250, -3.3850, -2.1127,  0.0270],\n",
       "        [-0.0000,  0.0000,  0.0000, -0.0000,  0.0000,  0.0000,  0.0000],\n",
       "        [ 3.4471,  3.2815,  1.7153,  0.2660,  0.5009,  0.0791,  1.8560],\n",
       "        [ 1.3163,  1.1378,  2.5767,  2.1256, -3.6566,  0.7878,  0.9914]],\n",
       "       grad_fn=<EmbeddingBackward>)"
      ]
     },
     "execution_count": null,
     "metadata": {},
     "output_type": "execute_result"
    }
   ],
   "source": [
    "enc = nn.Embedding(100, 7, padding_idx=1)\n",
    "enc_dp = EmbeddingDropout(enc, 0.5)\n",
    "tst_input = torch.randint(0,100,(8,))\n",
    "enc_dp(tst_input)"
   ]
  },
  {
   "cell_type": "code",
   "execution_count": null,
   "metadata": {
    "hide_input": true
   },
   "outputs": [
    {
     "data": {
      "text/markdown": [
       "<h3 id=\"RNNDropout\"><code>class</code> <code>RNNDropout</code><a href=\"https://github.com/fastai/fastai/blob/master/fastai/text/models.py#L11\" class=\"source_link\">[source]</a></h3>\n",
       "\n",
       "> <code>RNNDropout</code>(`p`:`float`=`0.5`) :: [`Module`](https://pytorch.org/docs/stable/nn.html#torch.nn.Module)\n",
       "\n",
       "Dropout with probability `p` that is consistent on the seq_len dimension.  "
      ],
      "text/plain": [
       "<IPython.core.display.Markdown object>"
      ]
     },
     "metadata": {},
     "output_type": "display_data"
    }
   ],
   "source": [
    "show_doc(RNNDropout, title_level=3)"
   ]
  },
  {
   "cell_type": "code",
   "execution_count": null,
   "metadata": {},
   "outputs": [
    {
     "data": {
      "text/plain": [
       "(tensor([[[-1.0421, -0.2499,  0.1637, -1.6212,  0.6318, -2.1821,  2.2968],\n",
       "          [-0.7097,  0.7146,  1.2609, -0.8957, -0.5307, -1.1921,  1.6192],\n",
       "          [ 0.8803, -0.5505,  0.0258,  0.6765, -0.5320, -0.2400, -0.3317]],\n",
       " \n",
       "         [[-0.2871, -0.1306, -0.6293,  1.5152, -0.4450,  0.5473, -0.2276],\n",
       "          [-0.7583, -0.4813, -0.7606, -0.7661,  0.9229, -1.0180, -0.4946],\n",
       "          [-0.8781,  1.5763, -0.9816, -0.1071,  0.7915, -0.8571,  0.3651]],\n",
       " \n",
       "         [[ 0.6065,  0.7646,  0.0488,  0.0786, -0.9043, -0.9047, -1.3453],\n",
       "          [-1.6446,  0.7166,  0.1842,  1.4110,  0.8893, -0.0825,  1.0348],\n",
       "          [ 1.0177,  1.1406,  0.9136,  0.5953, -0.0105,  0.1497, -0.9378]]]),\n",
       " tensor([[[-1.4887, -0.3570,  0.2339, -2.3161,  0.0000, -3.1172,  3.2811],\n",
       "          [-0.0000,  0.0000,  1.8013, -0.0000, -0.7582, -1.7030,  2.3131],\n",
       "          [ 1.2576, -0.0000,  0.0369,  0.9665, -0.7599, -0.3429, -0.4738]],\n",
       " \n",
       "         [[-0.4101, -0.1865, -0.8990,  2.1646, -0.0000,  0.7819, -0.3251],\n",
       "          [-0.0000, -0.0000, -1.0865, -0.0000,  1.3184, -1.4543, -0.7065],\n",
       "          [-1.2544,  0.0000, -1.4023, -0.1531,  1.1307, -1.2244,  0.5216]],\n",
       " \n",
       "         [[ 0.8664,  1.0922,  0.0698,  0.1123, -0.0000, -1.2925, -1.9218],\n",
       "          [-0.0000,  0.0000,  0.2631,  0.0000,  1.2704, -0.1179,  1.4783],\n",
       "          [ 1.4538,  0.0000,  1.3051,  0.8504, -0.0151,  0.2139, -1.3398]]]))"
      ]
     },
     "execution_count": null,
     "metadata": {},
     "output_type": "execute_result"
    }
   ],
   "source": [
    "dp = RNNDropout(0.3)\n",
    "tst_input = torch.randn(3,3,7)\n",
    "tst_input, dp(tst_input)"
   ]
  },
  {
   "cell_type": "code",
   "execution_count": null,
   "metadata": {
    "hide_input": true
   },
   "outputs": [
    {
     "data": {
      "text/markdown": [
       "<h3 id=\"WeightDropout\"><code>class</code> <code>WeightDropout</code><a href=\"https://github.com/fastai/fastai/blob/master/fastai/text/models.py#L23\" class=\"source_link\">[source]</a></h3>\n",
       "\n",
       "> <code>WeightDropout</code>(`module`:[`Module`](https://pytorch.org/docs/stable/nn.html#torch.nn.Module), `weight_p`:`float`, `layer_names`:`StrList`=`['weight_hh_l0']`) :: [`Module`](https://pytorch.org/docs/stable/nn.html#torch.nn.Module)\n",
       "\n",
       "A module that warps another layer in which some weights will be replaced by 0 during training.  "
      ],
      "text/plain": [
       "<IPython.core.display.Markdown object>"
      ]
     },
     "metadata": {},
     "output_type": "display_data"
    }
   ],
   "source": [
    "show_doc(WeightDropout, title_level=3)"
   ]
  },
  {
   "cell_type": "markdown",
   "metadata": {},
   "source": [
    "Applies dropout of probability `weight_p` to the layers in `layer_names` of `module` in training mode. A copy of those weights is kept so that the dropout mask can change at every batch."
   ]
  },
  {
   "cell_type": "code",
   "execution_count": null,
   "metadata": {},
   "outputs": [
    {
     "data": {
      "text/plain": [
       "Parameter containing:\n",
       "tensor([[ 0.6096,  0.3510],\n",
       "        [-0.0719,  0.0785],\n",
       "        [-0.0542, -0.1796],\n",
       "        [-0.1798,  0.3027],\n",
       "        [ 0.4550,  0.1095],\n",
       "        [ 0.2652, -0.4577],\n",
       "        [-0.2929, -0.2073],\n",
       "        [-0.5722,  0.6443]], requires_grad=True)"
      ]
     },
     "execution_count": null,
     "metadata": {},
     "output_type": "execute_result"
    }
   ],
   "source": [
    "module = nn.LSTM(5, 2)\n",
    "dp_module = WeightDropout(module, 0.4)\n",
    "getattr(dp_module.module, 'weight_hh_l0')"
   ]
  },
  {
   "cell_type": "markdown",
   "metadata": {},
   "source": [
    "It's at the beginning of a forward pass that the dropout is applied to the weights."
   ]
  },
  {
   "cell_type": "code",
   "execution_count": null,
   "metadata": {},
   "outputs": [
    {
     "data": {
      "text/plain": [
       "tensor([[ 1.0160,  0.5850],\n",
       "        [-0.1199,  0.1309],\n",
       "        [-0.0903, -0.2993],\n",
       "        [-0.2997,  0.5045],\n",
       "        [ 0.0000,  0.1826],\n",
       "        [ 0.4420, -0.7628],\n",
       "        [-0.0000, -0.0000],\n",
       "        [-0.0000,  1.0738]], grad_fn=<MulBackward0>)"
      ]
     },
     "execution_count": null,
     "metadata": {},
     "output_type": "execute_result"
    }
   ],
   "source": [
    "tst_input = torch.randn(4,20,5)\n",
    "h = (torch.zeros(1,20,2), torch.zeros(1,20,2))\n",
    "x,h = dp_module(tst_input,h)\n",
    "getattr(dp_module.module, 'weight_hh_l0')"
   ]
  },
  {
   "cell_type": "code",
   "execution_count": null,
   "metadata": {
    "hide_input": true
   },
   "outputs": [
    {
     "data": {
      "text/markdown": [
       "<h3 id=\"SequentialRNN\"><code>class</code> <code>SequentialRNN</code><a href=\"https://github.com/fastai/fastai/blob/master/fastai/text/models.py#L152\" class=\"source_link\">[source]</a></h3>\n",
       "\n",
       "> <code>SequentialRNN</code>(`args`) :: [`Sequential`](https://pytorch.org/docs/stable/nn.html#torch.nn.Sequential)\n",
       "\n",
       "A sequential module that passes the reset call to its children.  "
      ],
      "text/plain": [
       "<IPython.core.display.Markdown object>"
      ]
     },
     "metadata": {},
     "output_type": "display_data"
    }
   ],
   "source": [
    "show_doc(SequentialRNN, title_level=3)"
   ]
  },
  {
   "cell_type": "code",
   "execution_count": null,
   "metadata": {
    "hide_input": true
   },
   "outputs": [
    {
     "data": {
      "text/markdown": [
       "<h4 id=\"SequentialRNN.reset\"><code>reset</code><a href=\"https://github.com/fastai/fastai/blob/master/fastai/text/models.py#L154\" class=\"source_link\">[source]</a></h4>\n",
       "\n",
       "> <code>reset</code>()"
      ],
      "text/plain": [
       "<IPython.core.display.Markdown object>"
      ]
     },
     "metadata": {},
     "output_type": "display_data"
    }
   ],
   "source": [
    "show_doc(SequentialRNN.reset)"
   ]
  },
  {
   "cell_type": "markdown",
   "metadata": {},
   "source": [
    "Call the `reset` function of [`self.children`](/torch_core.html#children) (if they have one)."
   ]
  },
  {
   "cell_type": "code",
   "execution_count": null,
   "metadata": {
    "hide_input": true
   },
   "outputs": [
    {
     "data": {
      "text/markdown": [
       "<h4 id=\"dropout_mask\"><code>dropout_mask</code><a href=\"https://github.com/fastai/fastai/blob/master/fastai/text/models.py#L7\" class=\"source_link\">[source]</a></h4>\n",
       "\n",
       "> <code>dropout_mask</code>(`x`:`Tensor`, `sz`:`Collection`\\[`int`\\], `p`:`float`)\n",
       "\n",
       "Return a dropout mask of the same type as `x`, size `sz`, with probability `p` to cancel an element.  "
      ],
      "text/plain": [
       "<IPython.core.display.Markdown object>"
      ]
     },
     "metadata": {},
     "output_type": "display_data"
    }
   ],
   "source": [
    "show_doc(dropout_mask)"
   ]
  },
  {
   "cell_type": "code",
   "execution_count": null,
   "metadata": {},
   "outputs": [
    {
     "data": {
      "text/plain": [
       "tensor([[0.0000, 1.4286, 0.0000, 1.4286, 0.0000, 0.0000, 1.4286],\n",
       "        [1.4286, 1.4286, 1.4286, 1.4286, 0.0000, 1.4286, 1.4286],\n",
       "        [1.4286, 1.4286, 1.4286, 0.0000, 1.4286, 1.4286, 1.4286]])"
      ]
     },
     "execution_count": null,
     "metadata": {},
     "output_type": "execute_result"
    }
   ],
   "source": [
    "tst_input = torch.randn(3,3,7)\n",
    "dropout_mask(tst_input, (3,7), 0.3)"
   ]
  },
  {
   "cell_type": "markdown",
   "metadata": {},
   "source": [
    "Such a mask is then expanded in the sequence length dimension and multiplied by the input to do an [`RNNDropout`](/text.models.html#RNNDropout)."
   ]
  },
  {
   "cell_type": "markdown",
   "metadata": {},
   "source": [
    "## Language model modules"
   ]
  },
  {
   "cell_type": "code",
   "execution_count": null,
   "metadata": {
    "hide_input": true
   },
   "outputs": [
    {
     "data": {
      "text/markdown": [
       "<h3 id=\"RNNCore\"><code>class</code> <code>RNNCore</code><a href=\"https://github.com/fastai/fastai/blob/master/fastai/text/models.py#L77\" class=\"source_link\">[source]</a></h3>\n",
       "\n",
       "> <code>RNNCore</code>(`vocab_sz`:`int`, `emb_sz`:`int`, `n_hid`:`int`, `n_layers`:`int`, `pad_token`:`int`, `bidir`:`bool`=`False`, `hidden_p`:`float`=`0.2`, `input_p`:`float`=`0.6`, `embed_p`:`float`=`0.1`, `weight_p`:`float`=`0.5`, `qrnn`:`bool`=`False`) :: [`Module`](https://pytorch.org/docs/stable/nn.html#torch.nn.Module)\n",
       "\n",
       "AWD-LSTM/QRNN inspired by https://arxiv.org/abs/1708.02182.  "
      ],
      "text/plain": [
       "<IPython.core.display.Markdown object>"
      ]
     },
     "metadata": {},
     "output_type": "display_data"
    }
   ],
   "source": [
    "show_doc(RNNCore, title_level=3)"
   ]
  },
  {
   "cell_type": "markdown",
   "metadata": {},
   "source": [
    "This is the encoder of the model with an embedding layer of `vocab_sz` by `emb_sz`, a hidden size of `n_hid`, `n_layers` layers. `pad_token` is passed to the `Embedding`, if `bidir` is True, the model is bidirectional. If `qrnn` is True, we use QRNN cells instead of LSTMs. Dropouts are `embed_p`, `input_p`, `weight_p` and `hidden_p`."
   ]
  },
  {
   "cell_type": "code",
   "execution_count": null,
   "metadata": {
    "hide_input": true
   },
   "outputs": [
    {
     "data": {
      "text/markdown": [
       "<h4 id=\"RNNCore.reset\"><code>reset</code><a href=\"https://github.com/fastai/fastai/blob/master/fastai/text/models.py#L127\" class=\"source_link\">[source]</a></h4>\n",
       "\n",
       "> <code>reset</code>()\n",
       "\n",
       "Reset the hidden states.  "
      ],
      "text/plain": [
       "<IPython.core.display.Markdown object>"
      ]
     },
     "metadata": {},
     "output_type": "display_data"
    }
   ],
   "source": [
    "show_doc(RNNCore.reset)"
   ]
  },
  {
   "cell_type": "code",
   "execution_count": null,
   "metadata": {
    "hide_input": true
   },
   "outputs": [
    {
     "data": {
      "text/markdown": [
       "<h3 id=\"LinearDecoder\"><code>class</code> <code>LinearDecoder</code><a href=\"https://github.com/fastai/fastai/blob/master/fastai/text/models.py#L134\" class=\"source_link\">[source]</a></h3>\n",
       "\n",
       "> <code>LinearDecoder</code>(`n_out`:`int`, `n_hid`:`int`, `output_p`:`float`, `tie_encoder`:[`Module`](https://pytorch.org/docs/stable/nn.html#torch.nn.Module)=`None`, `bias`:`bool`=`True`) :: [`Module`](https://pytorch.org/docs/stable/nn.html#torch.nn.Module)\n",
       "\n",
       "To go on top of a RNNCore module and create a Language Model.  "
      ],
      "text/plain": [
       "<IPython.core.display.Markdown object>"
      ]
     },
     "metadata": {},
     "output_type": "display_data"
    }
   ],
   "source": [
    "show_doc(LinearDecoder, title_level=3)"
   ]
  },
  {
   "cell_type": "markdown",
   "metadata": {},
   "source": [
    "Create a the decoder to go on top of an [`RNNCore`](/text.models.html#RNNCore) encoder and create a language model. `n_hid` is the dimension of the last hidden state of the encoder, `n_out` the size of the output. Dropout of `output_p` is applied. If a `tie_encoder` is passed, it will be used for the weights of the linear layer, that will have `bias` or not."
   ]
  },
  {
   "cell_type": "markdown",
   "metadata": {},
   "source": [
    "## Classifier modules"
   ]
  },
  {
   "cell_type": "code",
   "execution_count": null,
   "metadata": {
    "hide_input": true
   },
   "outputs": [
    {
     "data": {
      "text/markdown": [
       "<h3 id=\"MultiBatchRNNCore\"><code>class</code> <code>MultiBatchRNNCore</code><a href=\"https://github.com/fastai/fastai/blob/master/fastai/text/models.py#L158\" class=\"source_link\">[source]</a></h3>\n",
       "\n",
       "> <code>MultiBatchRNNCore</code>(`bptt`:`int`, `max_seq`:`int`, `args`, `kwargs`) :: [`RNNCore`](/text.models.html#RNNCore)\n",
       "\n",
       "Create a RNNCore module that can process a full sentence.  "
      ],
      "text/plain": [
       "<IPython.core.display.Markdown object>"
      ]
     },
     "metadata": {},
     "output_type": "display_data"
    }
   ],
   "source": [
    "show_doc(MultiBatchRNNCore, title_level=3)"
   ]
  },
  {
   "cell_type": "markdown",
   "metadata": {},
   "source": [
    "Text is passed by chunks of sequence length `bptt` and only the last `max_seq` outputs are kept for the next layer. `args` and `kwargs` are passed to the [`RNNCore`](/text.models.html#RNNCore)."
   ]
  },
  {
   "cell_type": "code",
   "execution_count": null,
   "metadata": {
    "hide_input": true
   },
   "outputs": [
    {
     "data": {
      "text/markdown": [
       "<h4 id=\"MultiBatchRNNCore.concat\"><code>concat</code><a href=\"https://github.com/fastai/fastai/blob/master/fastai/text/models.py#L165\" class=\"source_link\">[source]</a></h4>\n",
       "\n",
       "> <code>concat</code>(`arrs`:`Collection`\\[`Tensor`\\]) → `Tensor`\n",
       "\n",
       "Concatenate the `arrs` along the batch dimension.  "
      ],
      "text/plain": [
       "<IPython.core.display.Markdown object>"
      ]
     },
     "metadata": {},
     "output_type": "display_data"
    }
   ],
   "source": [
    "show_doc(MultiBatchRNNCore.concat)"
   ]
  },
  {
   "cell_type": "code",
   "execution_count": null,
   "metadata": {
    "hide_input": true
   },
   "outputs": [
    {
     "data": {
      "text/markdown": [
       "<h3 id=\"PoolingLinearClassifier\"><code>class</code> <code>PoolingLinearClassifier</code><a href=\"https://github.com/fastai/fastai/blob/master/fastai/text/models.py#L180\" class=\"source_link\">[source]</a></h3>\n",
       "\n",
       "> <code>PoolingLinearClassifier</code>(`layers`:`Collection`\\[`int`\\], `drops`:`Collection`\\[`float`\\]) :: [`Module`](https://pytorch.org/docs/stable/nn.html#torch.nn.Module)\n",
       "\n",
       "Create a linear classifier with pooling.  "
      ],
      "text/plain": [
       "<IPython.core.display.Markdown object>"
      ]
     },
     "metadata": {},
     "output_type": "display_data"
    }
   ],
   "source": [
    "show_doc(PoolingLinearClassifier, title_level=3)"
   ]
  },
  {
   "cell_type": "markdown",
   "metadata": {},
   "source": [
    "The last output, `MaxPooling` of all the outputs and `AvgPooling` of all the outputs are concatenated, then blocks of [`bn_drop_lin`](/layers.html#bn_drop_lin) are stacked, according to the values in [`layers`](/layers.html#layers) and `drops`."
   ]
  },
  {
   "cell_type": "code",
   "execution_count": null,
   "metadata": {
    "hide_input": true
   },
   "outputs": [
    {
     "data": {
      "text/markdown": [
       "<h4 id=\"PoolingLinearClassifier.pool\"><code>pool</code><a href=\"https://github.com/fastai/fastai/blob/master/fastai/text/models.py#L191\" class=\"source_link\">[source]</a></h4>\n",
       "\n",
       "> <code>pool</code>(`x`:`Tensor`, `bs`:`int`, `is_max`:`bool`)\n",
       "\n",
       "Pool the tensor along the seq_len dimension.  "
      ],
      "text/plain": [
       "<IPython.core.display.Markdown object>"
      ]
     },
     "metadata": {},
     "output_type": "display_data"
    }
   ],
   "source": [
    "show_doc(PoolingLinearClassifier.pool)"
   ]
  },
  {
   "cell_type": "markdown",
   "metadata": {},
   "source": [
    "The input tensor `x` (of batch size `bs`) is pooled along the batch dimension. `is_max` decides if we do an `AvgPooling` or a `MaxPooling`."
   ]
  },
  {
   "cell_type": "markdown",
   "metadata": {},
   "source": [
    "## Undocumented Methods - Methods moved below this line will intentionally be hidden"
   ]
  },
  {
   "cell_type": "code",
   "execution_count": null,
   "metadata": {
    "hide_input": true
   },
   "outputs": [
    {
     "data": {
      "text/markdown": [
       "<h4 id=\"WeightDropout.forward\"><code>forward</code><a href=\"https://github.com/fastai/fastai/blob/master/fastai/text/models.py#L41\" class=\"source_link\">[source]</a></h4>\n",
       "\n",
       "> <code>forward</code>(`args`:`ArgStar`)\n",
       "\n",
       "Defines the computation performed at every call. Should be overridden by all subclasses.\n",
       "\n",
       ".. note::\n",
       "    Although the recipe for forward pass needs to be defined within\n",
       "    this function, one should call the :class:`Module` instance afterwards\n",
       "    instead of this since the former takes care of running the\n",
       "    registered hooks while the latter silently ignores them. "
      ],
      "text/plain": [
       "<IPython.core.display.Markdown object>"
      ]
     },
     "metadata": {},
     "output_type": "display_data"
    }
   ],
   "source": [
    "show_doc(WeightDropout.forward)"
   ]
  },
  {
   "cell_type": "code",
   "execution_count": null,
   "metadata": {
    "hide_input": true
   },
   "outputs": [
    {
     "data": {
      "text/markdown": [
       "<h4 id=\"RNNCore.forward\"><code>forward</code><a href=\"https://github.com/fastai/fastai/blob/master/fastai/text/models.py#L106\" class=\"source_link\">[source]</a></h4>\n",
       "\n",
       "> <code>forward</code>(`input`:`LongTensor`) → `Tuple`\\[`Tensor`, `Tensor`\\]\n",
       "\n",
       "Defines the computation performed at every call. Should be overridden by all subclasses.\n",
       "\n",
       ".. note::\n",
       "    Although the recipe for forward pass needs to be defined within\n",
       "    this function, one should call the :class:`Module` instance afterwards\n",
       "    instead of this since the former takes care of running the\n",
       "    registered hooks while the latter silently ignores them. "
      ],
      "text/plain": [
       "<IPython.core.display.Markdown object>"
      ]
     },
     "metadata": {},
     "output_type": "display_data"
    }
   ],
   "source": [
    "show_doc(RNNCore.forward)"
   ]
  },
  {
   "cell_type": "code",
   "execution_count": null,
   "metadata": {
    "hide_input": true
   },
   "outputs": [
    {
     "data": {
      "text/markdown": [
       "<h4 id=\"EmbeddingDropout.forward\"><code>forward</code><a href=\"https://github.com/fastai/fastai/blob/master/fastai/text/models.py#L63\" class=\"source_link\">[source]</a></h4>\n",
       "\n",
       "> <code>forward</code>(`words`:`LongTensor`, `scale`:`Optional`\\[`float`\\]=`None`) → `Tensor`\n",
       "\n",
       "Defines the computation performed at every call. Should be overridden by all subclasses.\n",
       "\n",
       ".. note::\n",
       "    Although the recipe for forward pass needs to be defined within\n",
       "    this function, one should call the :class:`Module` instance afterwards\n",
       "    instead of this since the former takes care of running the\n",
       "    registered hooks while the latter silently ignores them. "
      ],
      "text/plain": [
       "<IPython.core.display.Markdown object>"
      ]
     },
     "metadata": {},
     "output_type": "display_data"
    }
   ],
   "source": [
    "show_doc(EmbeddingDropout.forward)"
   ]
  },
  {
   "cell_type": "code",
   "execution_count": null,
   "metadata": {
    "hide_input": true
   },
   "outputs": [
    {
     "data": {
      "text/markdown": [
       "<h4 id=\"RNNDropout.forward\"><code>forward</code><a href=\"https://github.com/fastai/fastai/blob/master/fastai/text/models.py#L18\" class=\"source_link\">[source]</a></h4>\n",
       "\n",
       "> <code>forward</code>(`x`:`Tensor`) → `Tensor`\n",
       "\n",
       "Defines the computation performed at every call. Should be overridden by all subclasses.\n",
       "\n",
       ".. note::\n",
       "    Although the recipe for forward pass needs to be defined within\n",
       "    this function, one should call the :class:`Module` instance afterwards\n",
       "    instead of this since the former takes care of running the\n",
       "    registered hooks while the latter silently ignores them. "
      ],
      "text/plain": [
       "<IPython.core.display.Markdown object>"
      ]
     },
     "metadata": {},
     "output_type": "display_data"
    }
   ],
   "source": [
    "show_doc(RNNDropout.forward)"
   ]
  },
  {
   "cell_type": "code",
   "execution_count": null,
   "metadata": {},
   "outputs": [
    {
     "data": {
      "text/markdown": [
       "<h4 id=\"WeightDropout.reset\"><code>reset</code><a href=\"https://github.com/fastai/fastai/blob/master/fastai/text/models.py#L48\" class=\"source_link\">[source]</a></h4>\n",
       "\n",
       "> <code>reset</code>()"
      ],
      "text/plain": [
       "<IPython.core.display.Markdown object>"
      ]
     },
     "metadata": {},
     "output_type": "display_data"
    }
   ],
   "source": [
    "show_doc(WeightDropout.reset)"
   ]
  },
  {
   "cell_type": "code",
   "execution_count": null,
   "metadata": {},
   "outputs": [
    {
     "data": {
      "text/markdown": [
       "<h4 id=\"PoolingLinearClassifier.forward\"><code>forward</code><a href=\"https://github.com/fastai/fastai/blob/master/fastai/text/models.py#L196\" class=\"source_link\">[source]</a></h4>\n",
       "\n",
       "> <code>forward</code>(`input`:`Tuple`\\[`Tensor`, `Tensor`\\]) → `Tuple`\\[`Tensor`, `Tensor`, `Tensor`\\]\n",
       "\n",
       "Defines the computation performed at every call. Should be overridden by all subclasses.\n",
       "\n",
       ".. note::\n",
       "    Although the recipe for forward pass needs to be defined within\n",
       "    this function, one should call the :class:`Module` instance afterwards\n",
       "    instead of this since the former takes care of running the\n",
       "    registered hooks while the latter silently ignores them. "
      ],
      "text/plain": [
       "<IPython.core.display.Markdown object>"
      ]
     },
     "metadata": {},
     "output_type": "display_data"
    }
   ],
   "source": [
    "show_doc(PoolingLinearClassifier.forward)"
   ]
  },
  {
   "cell_type": "code",
   "execution_count": null,
   "metadata": {},
   "outputs": [
    {
     "data": {
      "text/markdown": [
       "<h4 id=\"MultiBatchRNNCore.forward\"><code>forward</code><a href=\"https://github.com/fastai/fastai/blob/master/fastai/text/models.py#L169\" class=\"source_link\">[source]</a></h4>\n",
       "\n",
       "> <code>forward</code>(`input`:`LongTensor`) → `Tuple`\\[`Tensor`, `Tensor`\\]\n",
       "\n",
       "Defines the computation performed at every call. Should be overridden by all subclasses.\n",
       "\n",
       ".. note::\n",
       "    Although the recipe for forward pass needs to be defined within\n",
       "    this function, one should call the :class:`Module` instance afterwards\n",
       "    instead of this since the former takes care of running the\n",
       "    registered hooks while the latter silently ignores them. "
      ],
      "text/plain": [
       "<IPython.core.display.Markdown object>"
      ]
     },
     "metadata": {},
     "output_type": "display_data"
    }
   ],
   "source": [
    "show_doc(MultiBatchRNNCore.forward)"
   ]
  },
  {
   "cell_type": "code",
   "execution_count": null,
   "metadata": {},
   "outputs": [
    {
     "data": {
      "text/markdown": [
       "<h4 id=\"LinearDecoder.forward\"><code>forward</code><a href=\"https://github.com/fastai/fastai/blob/master/fastai/text/models.py#L146\" class=\"source_link\">[source]</a></h4>\n",
       "\n",
       "> <code>forward</code>(`input`:`Tuple`\\[`Tensor`, `Tensor`\\]) → `Tuple`\\[`Tensor`, `Tensor`, `Tensor`\\]\n",
       "\n",
       "Defines the computation performed at every call. Should be overridden by all subclasses.\n",
       "\n",
       ".. note::\n",
       "    Although the recipe for forward pass needs to be defined within\n",
       "    this function, one should call the :class:`Module` instance afterwards\n",
       "    instead of this since the former takes care of running the\n",
       "    registered hooks while the latter silently ignores them. "
      ],
      "text/plain": [
       "<IPython.core.display.Markdown object>"
      ]
     },
     "metadata": {},
     "output_type": "display_data"
    }
   ],
   "source": [
    "show_doc(LinearDecoder.forward)"
   ]
  },
  {
   "cell_type": "markdown",
   "metadata": {},
   "source": [
    "## New Methods - Please document or move to the undocumented section"
   ]
  }
 ],
 "metadata": {
  "jekyll": {
   "keywords": "fastai",
   "summary": "Implementation of the AWD-LSTM and the RNN models",
   "title": "text.models"
  },
  "kernelspec": {
   "display_name": "Python 3",
   "language": "python",
   "name": "python3"
  }
 },
 "nbformat": 4,
 "nbformat_minor": 2
}

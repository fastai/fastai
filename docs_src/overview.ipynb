{
 "cells": [
  {
   "cell_type": "code",
   "execution_count": 1,
   "metadata": {
    "hide_input": true
   },
   "outputs": [],
   "source": [
    "from fastai.gen_doc.nbdoc import *"
   ]
  },
  {
   "cell_type": "code",
   "execution_count": null,
   "metadata": {
    "hide_input": true
   },
   "outputs": [
    {
     "data": {
      "text/markdown": [
       "<div markdown=\"span\" class=\"alert alert-info\" role=\"alert\"><i class=\"fa fa-info-circle\"></i> <b>Note: </b>To get started with fastai, have a look at the <a href=\"/training\">training overview</a>. The documentation below covers some lower-level details.</div>"
      ],
      "text/plain": [
       "<IPython.core.display.Markdown object>"
      ]
     },
     "metadata": {},
     "output_type": "display_data"
    }
   ],
   "source": [
    "jekyll_note('To get started with fastai, have a look at the <a href=\"/training\">training overview</a>. The documentation below covers some lower-level details.')"
   ]
  },
  {
   "cell_type": "markdown",
   "metadata": {},
   "source": [
    "# Core modules of fastai"
   ]
  },
  {
   "cell_type": "markdown",
   "metadata": {},
   "source": [
    "The basic foundations needed in several parts of the library are provided by these modules: \n",
    "\n",
    "## [`basic_data`](/basic_data.html#basic_data)\n",
    "\n",
    "This module defines the basic [`DataBunch`](/basic_data.html#DataBunch) class which is what will be needed to create a [`Learner`](/basic_train.html#Learner) object with a model. It also defines the [`DeviceDataLoader`](/basic_data.html#DeviceDataLoader), a class that wraps a pytorch [`DataLoader`](https://pytorch.org/docs/stable/data.html#torch.utils.data.DataLoader) to put batches on the right device."
   ]
  },
  {
   "cell_type": "markdown",
   "metadata": {},
   "source": [
    "## [`layers`](/layers.html#layers)\n",
    "\n",
    "This module contains the definitions of basic custom layers we need in most of our models, as well as a few helper functions to create simple blocks."
   ]
  },
  {
   "cell_type": "markdown",
   "metadata": {},
   "source": [
    "Most of the documentation of the following two modules can be skipped at a first read, unless you specifically want to know what a certain function is doing. "
   ]
  },
  {
   "cell_type": "markdown",
   "metadata": {},
   "source": [
    "## [`core`](/core.html#core)\n",
    "\n",
    "This module contains the most basic functions and imports, notably:\n",
    "- pandas as pd\n",
    "- numpy as np\n",
    "- matplotlib.pyplot as plt"
   ]
  },
  {
   "cell_type": "markdown",
   "metadata": {},
   "source": [
    "## [`torch_core`](/torch_core.html#torch_core)\n",
    "\n",
    "This module contains the most basic functions and imports that use pytorch. We follow pytorch naming conventions, mainly:\n",
    "- torch.nn as nn\n",
    "- torch.optim as optim\n",
    "- torch.nn.functional as F"
   ]
  }
 ],
 "metadata": {
  "jekyll": {
   "keywords": "fastai",
   "summary": "Overview of the core modules",
   "title": "overview"
  },
  "kernelspec": {
   "display_name": "Python 3",
   "language": "python",
   "name": "python3"
  },
  "language_info": {
   "codemirror_mode": {
    "name": "ipython",
    "version": 3
   },
   "file_extension": ".py",
   "mimetype": "text/x-python",
   "name": "python",
   "nbconvert_exporter": "python",
   "pygments_lexer": "ipython3",
   "version": "3.6.6"
  }
 },
 "nbformat": 4,
 "nbformat_minor": 2
}

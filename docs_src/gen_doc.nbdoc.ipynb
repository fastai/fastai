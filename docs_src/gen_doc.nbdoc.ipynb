{
 "cells": [
  {
   "cell_type": "markdown",
   "metadata": {},
   "source": [
    "# Documentation notebook functions"
   ]
  },
  {
   "cell_type": "code",
   "execution_count": null,
   "metadata": {
    "hide_input": true
   },
   "outputs": [],
   "source": [
    "from fastai.gen_doc.nbdoc import *"
   ]
  },
  {
   "cell_type": "markdown",
   "metadata": {},
   "source": [
    "[`nbdoc`](/gen_doc.nbdoc.html#gen_doc.nbdoc) contains the functions for documentation notebooks. The most important is [`show_doc`](/gen_doc.nbdoc.html#show_doc):"
   ]
  },
  {
   "cell_type": "markdown",
   "metadata": {},
   "source": [
    "## Show the documentation of a function"
   ]
  },
  {
   "cell_type": "code",
   "execution_count": null,
   "metadata": {
    "hide_input": true
   },
   "outputs": [
    {
     "data": {
      "text/markdown": [
       "<h4 id=\"show_doc\"><code>show_doc</code><a href=\"https://github.com/fastai/fastai/blob/master/fastai/gen_doc/nbdoc.py#L97\" class=\"source_link\">[source]</a></h4>\n",
       "\n",
       "> <code>show_doc</code>(<b>`elt`</b>, <b>`doc_string`</b>:`bool`=<b><i>`True`</i></b>, <b>`full_name`</b>:`str`=<b><i>`None`</i></b>, <b>`arg_comments`</b>:`dict`=<b><i>`None`</i></b>, <b>`title_level`</b>=<b><i>`None`</i></b>, <b>`alt_doc_string`</b>:`str`=<b><i>`''`</i></b>, <b>`ignore_warn`</b>:`bool`=<b><i>`False`</i></b>, <b>`markdown`</b>=<b><i>`True`</i></b>)"
      ],
      "text/plain": [
       "<IPython.core.display.Markdown object>"
      ]
     },
     "metadata": {},
     "output_type": "display_data"
    }
   ],
   "source": [
    "show_doc(show_doc, doc_string=False)"
   ]
  },
  {
   "cell_type": "markdown",
   "metadata": {},
   "source": [
    "Show the documentation of an `elt` (function, class or enum). `doc_string` decices if we show the doc string of the element or not, `full_name` will override the name shown, `arg_comments` is a dictionary that will then show list the arguments with comments. `title_level` is the level of the corresponding cell in the TOC, `alt_doc_string` is a text that can replace the `doc_string`. `ignore_warn` will ignore warnings if you pass arguments in `arg_comments` that don't appear to belong to this function and `markdown` decides if the return is a Markdown cell or plain text.\n",
    "\n",
    "Plenty of examples of uses of this cell can been seen through the documentation, and you will want to *hide input* those cells for a clean final result."
   ]
  },
  {
   "cell_type": "markdown",
   "metadata": {},
   "source": [
    "## Convenience functions"
   ]
  },
  {
   "cell_type": "code",
   "execution_count": null,
   "metadata": {
    "hide_input": true
   },
   "outputs": [
    {
     "data": {
      "text/markdown": [
       "<h4 id=\"get_source_link\"><code>get_source_link</code><a href=\"https://github.com/fastai/fastai/blob/master/fastai/gen_doc/nbdoc.py#L329\" class=\"source_link\">[source]</a></h4>\n",
       "\n",
       "> <code>get_source_link</code>(<b>`mod`</b>, <b>`lineno`</b>, <b>`display_text`</b>=<b><i>`'[source]'`</i></b>) → `str`\n",
       "\n",
       "Returns link to `lineno` in source code of `mod`.  "
      ],
      "text/plain": [
       "<IPython.core.display.Markdown object>"
      ]
     },
     "metadata": {},
     "output_type": "display_data"
    }
   ],
   "source": [
    "show_doc(get_source_link)"
   ]
  },
  {
   "cell_type": "code",
   "execution_count": null,
   "metadata": {
    "hide_input": true
   },
   "outputs": [
    {
     "data": {
      "text/markdown": [
       "<h4 id=\"show_video\"><code>show_video</code><a href=\"https://github.com/fastai/fastai/blob/master/fastai/gen_doc/nbdoc.py#L273\" class=\"source_link\">[source]</a></h4>\n",
       "\n",
       "> <code>show_video</code>(<b>`url`</b>)\n",
       "\n",
       "Display video in `url`.  "
      ],
      "text/plain": [
       "<IPython.core.display.Markdown object>"
      ]
     },
     "metadata": {},
     "output_type": "display_data"
    }
   ],
   "source": [
    "show_doc(show_video)"
   ]
  },
  {
   "cell_type": "code",
   "execution_count": null,
   "metadata": {
    "hide_input": true
   },
   "outputs": [
    {
     "data": {
      "text/markdown": [
       "<h4 id=\"show_video_from_youtube\"><code>show_video_from_youtube</code><a href=\"https://github.com/fastai/fastai/blob/master/fastai/gen_doc/nbdoc.py#L278\" class=\"source_link\">[source]</a></h4>\n",
       "\n",
       "> <code>show_video_from_youtube</code>(<b>`code`</b>, <b>`start`</b>=<b><i>`0`</i></b>)\n",
       "\n",
       "Display video from Youtube with a `code` and a `start` time.  "
      ],
      "text/plain": [
       "<IPython.core.display.Markdown object>"
      ]
     },
     "metadata": {},
     "output_type": "display_data"
    }
   ],
   "source": [
    "show_doc(show_video_from_youtube)"
   ]
  },
  {
   "cell_type": "markdown",
   "metadata": {},
   "source": [
    "## Functions for internal fastai library use"
   ]
  },
  {
   "cell_type": "code",
   "execution_count": null,
   "metadata": {
    "hide_input": true
   },
   "outputs": [
    {
     "data": {
      "text/markdown": [
       "<h4 id=\"get_exports\"><code>get_exports</code><a href=\"https://github.com/fastai/fastai/blob/master/fastai/gen_doc/nbdoc.py#L205\" class=\"source_link\">[source]</a></h4>\n",
       "\n",
       "> <code>get_exports</code>(<b>`mod`</b>)"
      ],
      "text/plain": [
       "<IPython.core.display.Markdown object>"
      ]
     },
     "metadata": {},
     "output_type": "display_data"
    }
   ],
   "source": [
    "show_doc(get_exports)"
   ]
  },
  {
   "cell_type": "markdown",
   "metadata": {},
   "source": [
    "Get the exports of `mod`."
   ]
  },
  {
   "cell_type": "code",
   "execution_count": null,
   "metadata": {
    "hide_input": true
   },
   "outputs": [
    {
     "data": {
      "text/markdown": [
       "<h4 id=\"get_fn_link\"><code>get_fn_link</code><a href=\"https://github.com/fastai/fastai/blob/master/fastai/gen_doc/nbdoc.py#L295\" class=\"source_link\">[source]</a></h4>\n",
       "\n",
       "> <code>get_fn_link</code>(<b>`ft`</b>) → `str`\n",
       "\n",
       "Return function link to notebook documentation of `ft`. Private functions link to source code  "
      ],
      "text/plain": [
       "<IPython.core.display.Markdown object>"
      ]
     },
     "metadata": {},
     "output_type": "display_data"
    }
   ],
   "source": [
    "show_doc(get_fn_link)"
   ]
  },
  {
   "cell_type": "code",
   "execution_count": null,
   "metadata": {
    "hide_input": true
   },
   "outputs": [
    {
     "data": {
      "text/markdown": [
       "<h4 id=\"get_ft_names\"><code>get_ft_names</code><a href=\"https://github.com/fastai/fastai/blob/master/fastai/gen_doc/nbdoc.py#L210\" class=\"source_link\">[source]</a></h4>\n",
       "\n",
       "> <code>get_ft_names</code>(<b>`mod`</b>, <b>`include_inner`</b>=<b><i>`False`</i></b>) → `List`\\[`str`\\]\n",
       "\n",
       "Return all the functions of module `mod`.  "
      ],
      "text/plain": [
       "<IPython.core.display.Markdown object>"
      ]
     },
     "metadata": {},
     "output_type": "display_data"
    }
   ],
   "source": [
    "show_doc(get_ft_names)"
   ]
  },
  {
   "cell_type": "code",
   "execution_count": null,
   "metadata": {
    "hide_input": true
   },
   "outputs": [
    {
     "data": {
      "text/markdown": [
       "<h4 id=\"is_enum\"><code>is_enum</code><a href=\"https://github.com/fastai/fastai/blob/master/fastai/gen_doc/nbdoc.py#L24\" class=\"source_link\">[source]</a></h4>\n",
       "\n",
       "> <code>is_enum</code>()"
      ],
      "text/plain": [
       "<IPython.core.display.Markdown object>"
      ]
     },
     "metadata": {},
     "output_type": "display_data"
    }
   ],
   "source": [
    "show_doc(is_enum)"
   ]
  },
  {
   "cell_type": "markdown",
   "metadata": {},
   "source": [
    "Check if something is an enumerator."
   ]
  },
  {
   "cell_type": "code",
   "execution_count": null,
   "metadata": {
    "hide_input": true
   },
   "outputs": [
    {
     "data": {
      "text/markdown": [
       "<h4 id=\"import_mod\"><code>import_mod</code><a href=\"https://github.com/fastai/fastai/blob/master/fastai/gen_doc/nbdoc.py#L184\" class=\"source_link\">[source]</a></h4>\n",
       "\n",
       "> <code>import_mod</code>(<b>`mod_name`</b>:`str`, <b>`ignore_errors`</b>=<b><i>`False`</i></b>)\n",
       "\n",
       "Return module from `mod_name`.  "
      ],
      "text/plain": [
       "<IPython.core.display.Markdown object>"
      ]
     },
     "metadata": {},
     "output_type": "display_data"
    }
   ],
   "source": [
    "show_doc(import_mod)"
   ]
  },
  {
   "cell_type": "code",
   "execution_count": null,
   "metadata": {
    "hide_input": true
   },
   "outputs": [
    {
     "data": {
      "text/markdown": [
       "<h4 id=\"link_docstring\"><code>link_docstring</code><a href=\"https://github.com/fastai/fastai/blob/master/fastai/gen_doc/nbdoc.py#L160\" class=\"source_link\">[source]</a></h4>\n",
       "\n",
       "> <code>link_docstring</code>(<b>`modules`</b>, <b>`docstring`</b>:`str`, <b>`overwrite`</b>:`bool`=<b><i>`False`</i></b>) → `str`\n",
       "\n",
       "Search `docstring` for backticks and attempt to link those functions to respective documentation.  "
      ],
      "text/plain": [
       "<IPython.core.display.Markdown object>"
      ]
     },
     "metadata": {},
     "output_type": "display_data"
    }
   ],
   "source": [
    "show_doc(link_docstring)"
   ]
  },
  {
   "cell_type": "markdown",
   "metadata": {},
   "source": [
    "## Undocumented Methods - Methods moved below this line will intentionally be hidden"
   ]
  },
  {
   "cell_type": "markdown",
   "metadata": {},
   "source": [
    "## New Methods - Please document or move to the undocumented section"
   ]
  },
  {
   "cell_type": "code",
   "execution_count": null,
   "metadata": {
    "hide_input": true
   },
   "outputs": [
    {
     "data": {
      "text/markdown": [
       "<h4 id=\"jekyll_important\"><code>jekyll_important</code><a href=\"https://github.com/fastai/fastai/blob/master/fastai/gen_doc/nbdoc.py#L354\" class=\"source_link\">[source]</a></h4>\n",
       "\n",
       "> <code>jekyll_important</code>(<b>`s`</b>)"
      ],
      "text/plain": [
       "<IPython.core.display.Markdown object>"
      ]
     },
     "metadata": {},
     "output_type": "display_data"
    }
   ],
   "source": [
    "show_doc(jekyll_important)"
   ]
  },
  {
   "cell_type": "markdown",
   "metadata": {},
   "source": []
  },
  {
   "cell_type": "code",
   "execution_count": null,
   "metadata": {
    "hide_input": true
   },
   "outputs": [
    {
     "data": {
      "text/markdown": [
       "<h4 id=\"jekyll_warn\"><code>jekyll_warn</code><a href=\"https://github.com/fastai/fastai/blob/master/fastai/gen_doc/nbdoc.py#L353\" class=\"source_link\">[source]</a></h4>\n",
       "\n",
       "> <code>jekyll_warn</code>(<b>`s`</b>)"
      ],
      "text/plain": [
       "<IPython.core.display.Markdown object>"
      ]
     },
     "metadata": {},
     "output_type": "display_data"
    }
   ],
   "source": [
    "show_doc(jekyll_warn)"
   ]
  },
  {
   "cell_type": "markdown",
   "metadata": {},
   "source": []
  },
  {
   "cell_type": "code",
   "execution_count": null,
   "metadata": {
    "hide_input": true
   },
   "outputs": [
    {
     "data": {
      "text/markdown": [
       "<h4 id=\"jekyll_note\"><code>jekyll_note</code><a href=\"https://github.com/fastai/fastai/blob/master/fastai/gen_doc/nbdoc.py#L352\" class=\"source_link\">[source]</a></h4>\n",
       "\n",
       "> <code>jekyll_note</code>(<b>`s`</b>)"
      ],
      "text/plain": [
       "<IPython.core.display.Markdown object>"
      ]
     },
     "metadata": {},
     "output_type": "display_data"
    }
   ],
   "source": [
    "show_doc(jekyll_note)"
   ]
  },
  {
   "cell_type": "markdown",
   "metadata": {},
   "source": []
  },
  {
   "cell_type": "code",
   "execution_count": null,
   "metadata": {
    "hide_input": true
   },
   "outputs": [
    {
     "data": {
      "text/markdown": [
       "<h4 id=\"doc\"><code>doc</code><a href=\"https://github.com/fastai/fastai/blob/master/fastai/gen_doc/nbdoc.py#L118\" class=\"source_link\">[source]</a></h4>\n",
       "\n",
       "> <code>doc</code>(<b>`elt`</b>)\n",
       "\n",
       "Show [`show_doc`](/gen_doc.nbdoc.html#show_doc) info in preview window along with link to full docs.  "
      ],
      "text/plain": [
       "<IPython.core.display.Markdown object>"
      ]
     },
     "metadata": {},
     "output_type": "display_data"
    }
   ],
   "source": [
    "show_doc(doc)"
   ]
  },
  {
   "cell_type": "markdown",
   "metadata": {},
   "source": []
  }
 ],
 "metadata": {
  "jekyll": {
   "keywords": "fastai",
   "summary": "Helper function to build the documentation",
   "title": "gen_doc.nbdoc"
  },
  "kernelspec": {
   "display_name": "Python 3",
   "language": "python",
   "name": "python3"
  }
 },
 "nbformat": 4,
 "nbformat_minor": 2
}

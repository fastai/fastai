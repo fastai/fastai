{
 "cells": [
  {
   "cell_type": "markdown",
   "metadata": {},
   "source": [
    "## datasets"
   ]
  },
  {
   "cell_type": "markdown",
   "metadata": {},
   "source": [
    "This module has the necessary functions to be able to download several useful datasets that we might be interested in using in our models."
   ]
  },
  {
   "cell_type": "code",
   "execution_count": null,
   "metadata": {
    "hide_input": true
   },
   "outputs": [],
   "source": [
    "from fastai.gen_doc.nbdoc import *\n",
    "from fastai.datasets import * \n",
    "from fastai.datasets import Config\n",
    "from pathlib import Path"
   ]
  },
  {
   "cell_type": "code",
   "execution_count": null,
   "metadata": {
    "hide_input": true
   },
   "outputs": [
    {
     "data": {
      "text/markdown": [
       "<h2 id=\"URLs\" class=\"doc_header\"><code>class</code> <code>URLs</code><a href=\"https://github.com/fastai/fastai/blob/master/fastai/datasets.py#L8\" class=\"source_link\" style=\"float:right\">[source]</a><a class=\"source_link\" data-toggle=\"collapse\" data-target=\"#URLs-pytest\" style=\"float:right; padding-right:10px\">[test]</a></h2>\n",
       "\n",
       "> <code>URLs</code>()\n",
       "\n",
       "<div class=\"collapse\" id=\"URLs-pytest\"><div class=\"card card-body pytest_card\"><a type=\"button\" data-toggle=\"collapse\" data-target=\"#URLs-pytest\" class=\"close\" aria-label=\"Close\"><span aria-hidden=\"true\">&times;</span></a><p>Tests found for <code>URLs</code>:</p><p>Some other tests where <code>URLs</code> is used:</p><ul><li><code>pytest -sv tests/test_datasets.py::test_user_config</code> <a href=\"https://github.com/fastai/fastai/blob/master/tests/test_datasets.py#L43\" class=\"source_link\" style=\"float:right\">[source]</a></li></ul><p>To run tests please refer to this <a href=\"/dev/test.html#quick-guide\">guide</a>.</p></div></div>\n",
       "\n",
       "Global constants for dataset and model URLs.  "
      ],
      "text/plain": [
       "<IPython.core.display.Markdown object>"
      ]
     },
     "metadata": {},
     "output_type": "display_data"
    }
   ],
   "source": [
    "show_doc(URLs)"
   ]
  },
  {
   "cell_type": "markdown",
   "metadata": {},
   "source": [
    "This contains all the datasets' and models' URLs, and some classmethods to help use them - you don't create objects of this class. The supported datasets are (with their calling name): `S3_NLP`, `S3_COCO`, `MNIST_SAMPLE`, `MNIST_TINY`, `IMDB_SAMPLE`, `ADULT_SAMPLE`, `ML_SAMPLE`, `PLANET_SAMPLE`, `CIFAR`, `PETS`, `MNIST`. To get details on the datasets you can see the [fast.ai datasets webpage](http://course.fast.ai/datasets). Datasets with SAMPLE in their name are subsets of the original datasets. In the case of MNIST, we also have a TINY dataset which is even smaller than MNIST_SAMPLE.\n",
    "\n",
    "Models is now limited to `WT103` but you can expect more in the future!"
   ]
  },
  {
   "cell_type": "code",
   "execution_count": null,
   "metadata": {},
   "outputs": [
    {
     "data": {
      "text/plain": [
       "'http://files.fast.ai/data/examples/mnist_sample'"
      ]
     },
     "execution_count": null,
     "metadata": {},
     "output_type": "execute_result"
    }
   ],
   "source": [
    "URLs.MNIST_SAMPLE"
   ]
  },
  {
   "cell_type": "markdown",
   "metadata": {},
   "source": [
    "## Downloading Data"
   ]
  },
  {
   "cell_type": "markdown",
   "metadata": {},
   "source": [
    "For the rest of the datasets you will need to download them with [`untar_data`](/datasets.html#untar_data) or [`download_data`](/datasets.html#download_data). [`untar_data`](/datasets.html#untar_data) will decompress the data file and download it while [`download_data`](/datasets.html#download_data) will just download and save the compressed file in `.tgz` format. \n",
    "\n",
    "The locations where the data and models are downloaded are set in `config.yml`, which by default is located in `~/.fastai`. This directory can be changed via the optional environment variable `FASTAI_HOME` (e.g FASTAI_HOME=/home/.fastai).\n",
    "\n",
    "If no `config.yml` is present in the specified directory, a default one will be created with `data_archive_path`, `data_path` and `models_path` entries. The `data_path` and `models_path` entries point respectively to [`data`](/tabular.data.html#tabular.data) folder and [`models`](/tabular.models.html#tabular.models) folder in the same directory as `config.yml`. The `data_archive_path` allows you to set a separate folder to save compressed datasets for archiving purposes. It defaults to the same directory as `data_path`. \n",
    "\n",
    "Configure those download locations by editing `data_archive_path`, `data_path` and `models_path` in `config.yml`."
   ]
  },
  {
   "cell_type": "code",
   "execution_count": null,
   "metadata": {
    "hide_input": true
   },
   "outputs": [
    {
     "data": {
      "text/markdown": [
       "<h4 id=\"untar_data\" class=\"doc_header\"><code>untar_data</code><a href=\"https://github.com/fastai/fastai/blob/master/fastai/datasets.py#L221\" class=\"source_link\" style=\"float:right\">[source]</a><a class=\"source_link\" data-toggle=\"collapse\" data-target=\"#untar_data-pytest\" style=\"float:right; padding-right:10px\">[test]</a></h4>\n",
       "\n",
       "> <code>untar_data</code>(**`url`**:`str`, **`fname`**:`PathOrStr`=***`None`***, **`dest`**:`PathOrStr`=***`None`***, **`data`**=***`True`***, **`force_download`**=***`False`***) → `Path`\n",
       "\n",
       "<div class=\"collapse\" id=\"untar_data-pytest\"><div class=\"card card-body pytest_card\"><a type=\"button\" data-toggle=\"collapse\" data-target=\"#untar_data-pytest\" class=\"close\" aria-label=\"Close\"><span aria-hidden=\"true\">&times;</span></a><p>Tests found for <code>untar_data</code>:</p><ul><li><code>pytest -sv tests/test_datasets.py::test_load_config</code> <a href=\"https://github.com/fastai/fastai/blob/master/tests/test_datasets.py#L26\" class=\"source_link\" style=\"float:right\">[source]</a></li><li><code>pytest -sv tests/test_datasets.py::test_user_config</code> <a href=\"https://github.com/fastai/fastai/blob/master/tests/test_datasets.py#L42\" class=\"source_link\" style=\"float:right\">[source]</a></li><li><code>pytest -sv tests/test_vision_data.py::test_trunc_download</code> <a href=\"https://github.com/fastai/fastai/blob/master/tests/test_vision_data.py#L165\" class=\"source_link\" style=\"float:right\">[source]</a></li></ul><p>Some other tests where <code>untar_data</code> is used:</p><ul><li><code>pytest -sv tests/test_datasets.py::test_user_config</code> <a href=\"https://github.com/fastai/fastai/blob/master/tests/test_datasets.py#L43\" class=\"source_link\" style=\"float:right\">[source]</a></li></ul><p>To run tests please refer to this <a href=\"/dev/test.html#quick-guide\">guide</a>.</p></div></div>\n",
       "\n",
       "Download `url` to `fname` if `dest` doesn't exist, and un-tgz to folder `dest`.  "
      ],
      "text/plain": [
       "<IPython.core.display.Markdown object>"
      ]
     },
     "metadata": {},
     "output_type": "display_data"
    }
   ],
   "source": [
    "show_doc(untar_data)"
   ]
  },
  {
   "cell_type": "markdown",
   "metadata": {},
   "source": [
    "In general, [`untar_data`](/datasets.html#untar_data) uses a `url` to download a `tgz` file under `fname`, and then un-tgz `fname` into a folder under `dest`. \n",
    "\n",
    "If you have run [`untar_data`](/datasets.html#untar_data) before, then running `untar_data(URLs.something)` again will just return you `dest` without downloading again.\n",
    "\n",
    "If you have run [`untar_data`](/datasets.html#untar_data) before, then running [`untar_data`](/datasets.html#untar_data) again with `force_download=True` or the tgz file under `fname` being corrupted somehow, will remove the existing `fname` and `dest` and start downloading again.\n",
    "\n",
    "If you have run [`untar_data`](/datasets.html#untar_data) before, but `dest` does not exist, meaning no folder under `dest` exist (the folder could be removed or renamed somehow), then running `untar_data(URLs.something)` again will execute [`download_data`](/datasets.html#download_data). Furthermore, if the tgz file under `fname` does exist, then there will be no actual downloading rather than un-tgz `fname` into `dest`; if `fname` does not exist, then downloading for the tgz file will be actually executed.\n",
    "\n",
    "**Note**: the `url` you feed to [`untar_data`](/datasets.html#untar_data) must be one of `URLs.something`."
   ]
  },
  {
   "cell_type": "code",
   "execution_count": null,
   "metadata": {},
   "outputs": [
    {
     "data": {
      "text/plain": [
       "PosixPath('/home/ubuntu/.fastai/data/planet_sample')"
      ]
     },
     "execution_count": null,
     "metadata": {},
     "output_type": "execute_result"
    }
   ],
   "source": [
    "untar_data(URLs.PLANET_SAMPLE)"
   ]
  },
  {
   "cell_type": "code",
   "execution_count": null,
   "metadata": {
    "hide_input": true
   },
   "outputs": [
    {
     "data": {
      "text/markdown": [
       "<h4 id=\"download_data\" class=\"doc_header\"><code>download_data</code><a href=\"https://github.com/fastai/fastai/blob/master/fastai/datasets.py#L206\" class=\"source_link\" style=\"float:right\">[source]</a><a class=\"source_link\" data-toggle=\"collapse\" data-target=\"#download_data-pytest\" style=\"float:right; padding-right:10px\">[test]</a></h4>\n",
       "\n",
       "> <code>download_data</code>(**`url`**:`str`, **`fname`**:`PathOrStr`=***`None`***, **`data`**:`bool`=***`True`***, **`ext`**:`str`=***`'.tgz'`***) → `Path`\n",
       "\n",
       "<div class=\"collapse\" id=\"download_data-pytest\"><div class=\"card card-body pytest_card\"><a type=\"button\" data-toggle=\"collapse\" data-target=\"#download_data-pytest\" class=\"close\" aria-label=\"Close\"><span aria-hidden=\"true\">&times;</span></a><p>Tests found for <code>download_data</code>:</p><ul><li><code>pytest -sv tests/test_datasets.py::test_load_config</code> <a href=\"https://github.com/fastai/fastai/blob/master/tests/test_datasets.py#L26\" class=\"source_link\" style=\"float:right\">[source]</a></li><li><code>pytest -sv tests/test_datasets.py::test_user_config</code> <a href=\"https://github.com/fastai/fastai/blob/master/tests/test_datasets.py#L42\" class=\"source_link\" style=\"float:right\">[source]</a></li></ul><p>Some other tests where <code>download_data</code> is used:</p><ul><li><code>pytest -sv tests/test_datasets.py::test_user_config</code> <a href=\"https://github.com/fastai/fastai/blob/master/tests/test_datasets.py#L43\" class=\"source_link\" style=\"float:right\">[source]</a></li></ul><p>To run tests please refer to this <a href=\"/dev/test.html#quick-guide\">guide</a>.</p></div></div>\n",
       "\n",
       "Download `url` to destination `fname`.  "
      ],
      "text/plain": [
       "<IPython.core.display.Markdown object>"
      ]
     },
     "metadata": {},
     "output_type": "display_data"
    }
   ],
   "source": [
    "show_doc(download_data)"
   ]
  },
  {
   "cell_type": "markdown",
   "metadata": {},
   "source": [
    "Note: If the data file already exists in a <code>data</code> directory inside the notebook, that data file will be used instead of the one present in the folder specified in `config.yml`. `config.yml` is located in the directory specified in optional environment variable `FASTAI_HOME` (defaults to `~/.fastai/`). Paths are resolved by calling the function [`datapath4file`](/datasets.html#datapath4file) - which checks if data exists locally (`data/`) first, before downloading to the folder specified in `config.yml`.\n",
    "\n",
    "Example:"
   ]
  },
  {
   "cell_type": "code",
   "execution_count": null,
   "metadata": {},
   "outputs": [
    {
     "data": {
      "text/plain": [
       "PosixPath('/home/ubuntu/.fastai/data/planet_sample.tgz')"
      ]
     },
     "execution_count": null,
     "metadata": {},
     "output_type": "execute_result"
    }
   ],
   "source": [
    "download_data(URLs.PLANET_SAMPLE)"
   ]
  },
  {
   "cell_type": "code",
   "execution_count": null,
   "metadata": {
    "hide_input": true
   },
   "outputs": [
    {
     "data": {
      "text/markdown": [
       "<h4 id=\"datapath4file\" class=\"doc_header\"><code>datapath4file</code><a href=\"https://github.com/fastai/fastai/blob/master/fastai/datasets.py#L199\" class=\"source_link\" style=\"float:right\">[source]</a><a class=\"source_link\" data-toggle=\"collapse\" data-target=\"#datapath4file-pytest\" style=\"float:right; padding-right:10px\">[test]</a></h4>\n",
       "\n",
       "> <code>datapath4file</code>(**`filename`**, **`ext`**:`str`=***`'.tgz'`***, **`archive`**=***`True`***)\n",
       "\n",
       "<div class=\"collapse\" id=\"datapath4file-pytest\"><div class=\"card card-body pytest_card\"><a type=\"button\" data-toggle=\"collapse\" data-target=\"#datapath4file-pytest\" class=\"close\" aria-label=\"Close\"><span aria-hidden=\"true\">&times;</span></a><p>Tests found for <code>datapath4file</code>:</p><ul><li><code>pytest -sv tests/test_datasets.py::test_load_config</code> <a href=\"https://github.com/fastai/fastai/blob/master/tests/test_datasets.py#L26\" class=\"source_link\" style=\"float:right\">[source]</a></li><li><code>pytest -sv tests/test_datasets.py::test_user_config</code> <a href=\"https://github.com/fastai/fastai/blob/master/tests/test_datasets.py#L42\" class=\"source_link\" style=\"float:right\">[source]</a></li></ul><p>To run tests please refer to this <a href=\"/dev/test.html#quick-guide\">guide</a>.</p></div></div>\n",
       "\n",
       "Return data path to `filename`, checking locally first then in the config file.  "
      ],
      "text/plain": [
       "<IPython.core.display.Markdown object>"
      ]
     },
     "metadata": {},
     "output_type": "display_data"
    }
   ],
   "source": [
    "show_doc(datapath4file)"
   ]
  },
  {
   "cell_type": "markdown",
   "metadata": {},
   "source": [
    "All the downloading functions use this to decide where to put the tgz and expanded folder. If `filename` already exists in a <code>data</code> directory in the same place as the calling notebook/script, that is used as the parent directly, otherwise `config.yml` is read to see what path to use, which defaults to <code>~/.fastai/data</code> is used. To override this default, simply modify the value in your `config.yml`:\n",
    "\n",
    "    data_archive_path: ~/.fastai/data\n",
    "    data_path: ~/.fastai/data\n",
    "\n",
    "`config.yml` is located in the directory specified in optional environment variable `FASTAI_HOME` (defaults to `~/.fastai/`)."
   ]
  },
  {
   "cell_type": "code",
   "execution_count": null,
   "metadata": {
    "hide_input": true
   },
   "outputs": [
    {
     "data": {
      "text/markdown": [
       "<h4 id=\"url2path\" class=\"doc_header\"><code>url2path</code><a href=\"https://github.com/fastai/fastai/blob/master/fastai/datasets.py#L186\" class=\"source_link\" style=\"float:right\">[source]</a><a class=\"source_link\" data-toggle=\"collapse\" data-target=\"#url2path-pytest\" style=\"float:right; padding-right:10px\">[test]</a></h4>\n",
       "\n",
       "> <code>url2path</code>(**`url`**, **`data`**=***`True`***, **`ext`**:`str`=***`'.tgz'`***)\n",
       "\n",
       "<div class=\"collapse\" id=\"url2path-pytest\"><div class=\"card card-body pytest_card\"><a type=\"button\" data-toggle=\"collapse\" data-target=\"#url2path-pytest\" class=\"close\" aria-label=\"Close\"><span aria-hidden=\"true\">&times;</span></a><p>Tests found for <code>url2path</code>:</p><ul><li><code>pytest -sv tests/test_datasets.py::test_load_config</code> <a href=\"https://github.com/fastai/fastai/blob/master/tests/test_datasets.py#L26\" class=\"source_link\" style=\"float:right\">[source]</a></li><li><code>pytest -sv tests/test_datasets.py::test_user_config</code> <a href=\"https://github.com/fastai/fastai/blob/master/tests/test_datasets.py#L42\" class=\"source_link\" style=\"float:right\">[source]</a></li></ul><p>To run tests please refer to this <a href=\"/dev/test.html#quick-guide\">guide</a>.</p></div></div>\n",
       "\n",
       "Change `url` to a path.  "
      ],
      "text/plain": [
       "<IPython.core.display.Markdown object>"
      ]
     },
     "metadata": {},
     "output_type": "display_data"
    }
   ],
   "source": [
    "show_doc(url2path)"
   ]
  },
  {
   "cell_type": "code",
   "execution_count": null,
   "metadata": {
    "hide_input": true
   },
   "outputs": [
    {
     "data": {
      "text/markdown": [
       "<h2 id=\"Config\" class=\"doc_header\"><code>class</code> <code>Config</code><a href=\"https://github.com/fastai/fastai/blob/master/fastai/datasets.py#L129\" class=\"source_link\" style=\"float:right\">[source]</a><a class=\"source_link\" data-toggle=\"collapse\" data-target=\"#Config-pytest\" style=\"float:right; padding-right:10px\">[test]</a></h2>\n",
       "\n",
       "> <code>Config</code>()\n",
       "\n",
       "<div class=\"collapse\" id=\"Config-pytest\"><div class=\"card card-body pytest_card\"><a type=\"button\" data-toggle=\"collapse\" data-target=\"#Config-pytest\" class=\"close\" aria-label=\"Close\"><span aria-hidden=\"true\">&times;</span></a><p>Tests found for <code>Config</code>:</p><ul><li><code>pytest -sv tests/test_datasets.py::test_creates_config</code> <a href=\"https://github.com/fastai/fastai/blob/master/tests/test_datasets.py#L15\" class=\"source_link\" style=\"float:right\">[source]</a></li><li><code>pytest -sv tests/test_datasets.py::test_default_config</code> <a href=\"https://github.com/fastai/fastai/blob/master/tests/test_datasets.py#L29\" class=\"source_link\" style=\"float:right\">[source]</a></li><li><code>pytest -sv tests/test_datasets.py::test_load_config</code> <a href=\"https://github.com/fastai/fastai/blob/master/tests/test_datasets.py#L26\" class=\"source_link\" style=\"float:right\">[source]</a></li><li><code>pytest -sv tests/test_datasets.py::test_user_config</code> <a href=\"https://github.com/fastai/fastai/blob/master/tests/test_datasets.py#L42\" class=\"source_link\" style=\"float:right\">[source]</a></li></ul><p>Some other tests where <code>Config</code> is used:</p><ul><li><code>pytest -sv tests/test_datasets.py::test_user_config</code> <a href=\"https://github.com/fastai/fastai/blob/master/tests/test_datasets.py#L43\" class=\"source_link\" style=\"float:right\">[source]</a></li></ul><p>To run tests please refer to this <a href=\"/dev/test.html#quick-guide\">guide</a>.</p></div></div>\n",
       "\n",
       "Creates a default config file 'config.yml' in $FASTAI_HOME (default `~/.fastai/`)  "
      ],
      "text/plain": [
       "<IPython.core.display.Markdown object>"
      ]
     },
     "metadata": {},
     "output_type": "display_data"
    }
   ],
   "source": [
    "show_doc(Config)"
   ]
  },
  {
   "cell_type": "markdown",
   "metadata": {},
   "source": [
    "You probably won't need to use this yourself - it's used by `URLs.datapath4file`."
   ]
  },
  {
   "cell_type": "code",
   "execution_count": null,
   "metadata": {
    "hide_input": true
   },
   "outputs": [
    {
     "data": {
      "text/markdown": [
       "<h4 id=\"Config.get_path\" class=\"doc_header\"><code>get_path</code><a href=\"https://github.com/fastai/fastai/blob/master/fastai/datasets.py#L144\" class=\"source_link\" style=\"float:right\">[source]</a><a class=\"source_link\" data-toggle=\"collapse\" data-target=\"#Config-get_path-pytest\" style=\"float:right; padding-right:10px\">[test]</a></h4>\n",
       "\n",
       "> <code>get_path</code>(**`path`**)\n",
       "\n",
       "<div class=\"collapse\" id=\"Config-get_path-pytest\"><div class=\"card card-body pytest_card\"><a type=\"button\" data-toggle=\"collapse\" data-target=\"#Config-get_path-pytest\" class=\"close\" aria-label=\"Close\"><span aria-hidden=\"true\">&times;</span></a><p>No tests found for <code>get_path</code>. To contribute a test please refer to <a href=\"/dev/test.html\">this guide</a> and <a href=\"https://forums.fast.ai/t/improving-expanding-functional-tests/32929\">this discussion</a>.</p></div></div>\n",
       "\n",
       "Get the `path` in the config file.  "
      ],
      "text/plain": [
       "<IPython.core.display.Markdown object>"
      ]
     },
     "metadata": {},
     "output_type": "display_data"
    }
   ],
   "source": [
    "show_doc(Config.get_path)"
   ]
  },
  {
   "cell_type": "markdown",
   "metadata": {},
   "source": [
    "Get the key corresponding to `path` in the [`Config`](/datasets.html#Config)."
   ]
  },
  {
   "cell_type": "code",
   "execution_count": null,
   "metadata": {
    "hide_input": true
   },
   "outputs": [
    {
     "data": {
      "text/markdown": [
       "<h4 id=\"Config.data_path\" class=\"doc_header\"><code>data_path</code><a href=\"https://github.com/fastai/fastai/blob/master/fastai/datasets.py#L149\" class=\"source_link\" style=\"float:right\">[source]</a><a class=\"source_link\" data-toggle=\"collapse\" data-target=\"#Config-data_path-pytest\" style=\"float:right; padding-right:10px\">[test]</a></h4>\n",
       "\n",
       "> <code>data_path</code>()\n",
       "\n",
       "<div class=\"collapse\" id=\"Config-data_path-pytest\"><div class=\"card card-body pytest_card\"><a type=\"button\" data-toggle=\"collapse\" data-target=\"#Config-data_path-pytest\" class=\"close\" aria-label=\"Close\"><span aria-hidden=\"true\">&times;</span></a><p>No tests found for <code>data_path</code>. To contribute a test please refer to <a href=\"/dev/test.html\">this guide</a> and <a href=\"https://forums.fast.ai/t/improving-expanding-functional-tests/32929\">this discussion</a>.</p></div></div>\n",
       "\n",
       "Get the path to data in the config file.  "
      ],
      "text/plain": [
       "<IPython.core.display.Markdown object>"
      ]
     },
     "metadata": {},
     "output_type": "display_data"
    }
   ],
   "source": [
    "show_doc(Config.data_path)"
   ]
  },
  {
   "cell_type": "markdown",
   "metadata": {},
   "source": [
    "Get the `Path` where the data is stored."
   ]
  },
  {
   "cell_type": "code",
   "execution_count": null,
   "metadata": {
    "hide_input": true
   },
   "outputs": [
    {
     "data": {
      "text/markdown": [
       "<h4 id=\"Config.model_path\" class=\"doc_header\"><code>model_path</code><a href=\"https://github.com/fastai/fastai/blob/master/fastai/datasets.py#L159\" class=\"source_link\" style=\"float:right\">[source]</a><a class=\"source_link\" data-toggle=\"collapse\" data-target=\"#Config-model_path-pytest\" style=\"float:right; padding-right:10px\">[test]</a></h4>\n",
       "\n",
       "> <code>model_path</code>()\n",
       "\n",
       "<div class=\"collapse\" id=\"Config-model_path-pytest\"><div class=\"card card-body pytest_card\"><a type=\"button\" data-toggle=\"collapse\" data-target=\"#Config-model_path-pytest\" class=\"close\" aria-label=\"Close\"><span aria-hidden=\"true\">&times;</span></a><p>No tests found for <code>model_path</code>. To contribute a test please refer to <a href=\"/dev/test.html\">this guide</a> and <a href=\"https://forums.fast.ai/t/improving-expanding-functional-tests/32929\">this discussion</a>.</p></div></div>\n",
       "\n",
       "Get the path to fastai pretrained models in the config file.  "
      ],
      "text/plain": [
       "<IPython.core.display.Markdown object>"
      ]
     },
     "metadata": {},
     "output_type": "display_data"
    }
   ],
   "source": [
    "show_doc(Config.model_path)"
   ]
  },
  {
   "cell_type": "markdown",
   "metadata": {},
   "source": [
    "## Undocumented Methods - Methods moved below this line will intentionally be hidden"
   ]
  },
  {
   "cell_type": "code",
   "execution_count": null,
   "metadata": {},
   "outputs": [
    {
     "data": {
      "text/markdown": [
       "<h4 id=\"Config.create\" class=\"doc_header\"><code>create</code><a href=\"https://github.com/fastai/fastai/blob/master/fastai/datasets.py#L172\" class=\"source_link\" style=\"float:right\">[source]</a><a class=\"source_link\" data-toggle=\"collapse\" data-target=\"#Config-create-pytest\" style=\"float:right; padding-right:10px\">[test]</a></h4>\n",
       "\n",
       "> <code>create</code>(**`fpath`**)\n",
       "\n",
       "<div class=\"collapse\" id=\"Config-create-pytest\"><div class=\"card card-body pytest_card\"><a type=\"button\" data-toggle=\"collapse\" data-target=\"#Config-create-pytest\" class=\"close\" aria-label=\"Close\"><span aria-hidden=\"true\">&times;</span></a><p>No tests found for <code>create</code>. To contribute a test please refer to <a href=\"/dev/test.html\">this guide</a> and <a href=\"https://forums.fast.ai/t/improving-expanding-functional-tests/32929\">this discussion</a>.</p></div></div>\n",
       "\n",
       "Creates a [`Config`](/datasets.html#Config) from `fpath`.  "
      ],
      "text/plain": [
       "<IPython.core.display.Markdown object>"
      ]
     },
     "metadata": {},
     "output_type": "display_data"
    }
   ],
   "source": [
    "show_doc(Config.create)"
   ]
  },
  {
   "cell_type": "code",
   "execution_count": null,
   "metadata": {},
   "outputs": [
    {
     "data": {
      "text/markdown": [
       "<h4 id=\"url2name\" class=\"doc_header\"><code>url2name</code><a href=\"https://github.com/fastai/fastai/blob/master/fastai/datasets.py#L183\" class=\"source_link\" style=\"float:right\">[source]</a><a class=\"source_link\" data-toggle=\"collapse\" data-target=\"#url2name-pytest\" style=\"float:right; padding-right:10px\">[test]</a></h4>\n",
       "\n",
       "> <code>url2name</code>(**`url`**)\n",
       "\n",
       "<div class=\"collapse\" id=\"url2name-pytest\"><div class=\"card card-body pytest_card\"><a type=\"button\" data-toggle=\"collapse\" data-target=\"#url2name-pytest\" class=\"close\" aria-label=\"Close\"><span aria-hidden=\"true\">&times;</span></a><p>No tests found for <code>url2name</code>. To contribute a test please refer to <a href=\"/dev/test.html\">this guide</a> and <a href=\"https://forums.fast.ai/t/improving-expanding-functional-tests/32929\">this discussion</a>.</p></div></div>"
      ],
      "text/plain": [
       "<IPython.core.display.Markdown object>"
      ]
     },
     "metadata": {},
     "output_type": "display_data"
    }
   ],
   "source": [
    "show_doc(url2name)"
   ]
  },
  {
   "cell_type": "code",
   "execution_count": null,
   "metadata": {},
   "outputs": [
    {
     "data": {
      "text/markdown": [
       "<h4 id=\"Config.get_key\" class=\"doc_header\"><code>get_key</code><a href=\"https://github.com/fastai/fastai/blob/master/fastai/datasets.py#L139\" class=\"source_link\" style=\"float:right\">[source]</a><a class=\"source_link\" data-toggle=\"collapse\" data-target=\"#Config-get_key-pytest\" style=\"float:right; padding-right:10px\">[test]</a></h4>\n",
       "\n",
       "> <code>get_key</code>(**`key`**)\n",
       "\n",
       "<div class=\"collapse\" id=\"Config-get_key-pytest\"><div class=\"card card-body pytest_card\"><a type=\"button\" data-toggle=\"collapse\" data-target=\"#Config-get_key-pytest\" class=\"close\" aria-label=\"Close\"><span aria-hidden=\"true\">&times;</span></a><p>No tests found for <code>get_key</code>. To contribute a test please refer to <a href=\"/dev/test.html\">this guide</a> and <a href=\"https://forums.fast.ai/t/improving-expanding-functional-tests/32929\">this discussion</a>.</p></div></div>\n",
       "\n",
       "Get the path to `key` in the config file.  "
      ],
      "text/plain": [
       "<IPython.core.display.Markdown object>"
      ]
     },
     "metadata": {},
     "output_type": "display_data"
    }
   ],
   "source": [
    "show_doc(Config.get_key)"
   ]
  },
  {
   "cell_type": "code",
   "execution_count": null,
   "metadata": {},
   "outputs": [
    {
     "data": {
      "text/markdown": [
       "<h4 id=\"Config.get\" class=\"doc_header\"><code>get</code><a href=\"https://github.com/fastai/fastai/blob/master/fastai/datasets.py#L164\" class=\"source_link\" style=\"float:right\">[source]</a><a class=\"source_link\" data-toggle=\"collapse\" data-target=\"#Config-get-pytest\" style=\"float:right; padding-right:10px\">[test]</a></h4>\n",
       "\n",
       "> <code>get</code>(**`fpath`**=***`None`***, **`create_missing`**=***`True`***)\n",
       "\n",
       "<div class=\"collapse\" id=\"Config-get-pytest\"><div class=\"card card-body pytest_card\"><a type=\"button\" data-toggle=\"collapse\" data-target=\"#Config-get-pytest\" class=\"close\" aria-label=\"Close\"><span aria-hidden=\"true\">&times;</span></a><p>Tests found for <code>get</code>:</p><p>Some other tests where <code>get</code> is used:</p><ul><li><code>pytest -sv tests/test_datasets.py::test_creates_config</code> <a href=\"https://github.com/fastai/fastai/blob/master/tests/test_datasets.py#L15\" class=\"source_link\" style=\"float:right\">[source]</a></li><li><code>pytest -sv tests/test_datasets.py::test_default_config</code> <a href=\"https://github.com/fastai/fastai/blob/master/tests/test_datasets.py#L29\" class=\"source_link\" style=\"float:right\">[source]</a></li></ul><p>To run tests please refer to this <a href=\"/dev/test.html#quick-guide\">guide</a>.</p></div></div>\n",
       "\n",
       "Retrieve the [`Config`](/datasets.html#Config) in `fpath`.  "
      ],
      "text/plain": [
       "<IPython.core.display.Markdown object>"
      ]
     },
     "metadata": {},
     "output_type": "display_data"
    }
   ],
   "source": [
    "show_doc(Config.get)"
   ]
  },
  {
   "cell_type": "markdown",
   "metadata": {},
   "source": [
    "## New Methods - Please document or move to the undocumented section"
   ]
  }
 ],
 "metadata": {
  "jekyll": {
   "keywords": "fastai"
  },
  "kernelspec": {
   "display_name": "Python 3",
   "language": "python",
   "name": "python3"
  }
 },
 "nbformat": 4,
 "nbformat_minor": 2
}

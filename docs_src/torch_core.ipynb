{
 "cells": [
  {
   "cell_type": "markdown",
   "metadata": {},
   "source": [
    "# Torch Core"
   ]
  },
  {
   "cell_type": "markdown",
   "metadata": {},
   "source": [
    "This module contains all the basic functions we need in other modules of the fastai library (split with [`core`](/core.html#core) that contains the ones not requiring pytorch). Its documentation can easily be skipped at a first read, unless you want to know what a given fuction does."
   ]
  },
  {
   "cell_type": "code",
   "execution_count": null,
   "metadata": {
    "hide_input": true
   },
   "outputs": [],
   "source": [
    "from fastai.gen_doc.nbdoc import *\n",
    "from fastai.torch_core import * "
   ]
  },
  {
   "cell_type": "markdown",
   "metadata": {},
   "source": [
    "## Global constants"
   ]
  },
  {
   "cell_type": "markdown",
   "metadata": {},
   "source": [
    "`AdamW = partial(optim.Adam, betas=(0.9,0.99))` <div style=\"text-align: right\"><a href=\"https://github.com/fastai/fastai/blob/master/fastai/torch_core.py#L43\">[source]</a></div>"
   ]
  },
  {
   "cell_type": "markdown",
   "metadata": {},
   "source": [
    "`bn_types = (nn.BatchNorm1d, nn.BatchNorm2d, nn.BatchNorm3d)` <div style=\"text-align: right\"><a href=\"https://github.com/fastai/fastai/blob/master/fastai/torch_core.py#L41\">[source]</a></div>"
   ]
  },
  {
   "cell_type": "markdown",
   "metadata": {},
   "source": [
    "`defaults.device = torch.device('cuda') if torch.cuda.is_available() else torch.device('cpu')` <div style=\"text-align: right\"><a href=\"https://github.com/fastai/fastai/blob/master/fastai/torch_core.py#L62\">[source]</a></div>"
   ]
  },
  {
   "cell_type": "markdown",
   "metadata": {},
   "source": [
    "If you are trying to make fastai run on the CPU, simply change the default device: `defaults.device = 'cpu'`. \n",
    "\n",
    "Alternatively, if not using wildcard imports: `fastai.torch_core.defaults.device = 'cpu'`."
   ]
  },
  {
   "cell_type": "markdown",
   "metadata": {},
   "source": [
    "## Functions that operate conversions"
   ]
  },
  {
   "cell_type": "code",
   "execution_count": null,
   "metadata": {
    "hide_input": true
   },
   "outputs": [
    {
     "data": {
      "text/markdown": [
       "<h4 id=\"flatten\"><code>flatten</code><a href=\"https://github.com/fastai/fastai/blob/master/fastai/torch_core.py#L131\" class=\"source_link\">[source]</a></h4>\n",
       "\n",
       "> <code>flatten</code>(<b>`m`</b>)"
      ],
      "text/plain": [
       "<IPython.core.display.Markdown object>"
      ]
     },
     "metadata": {},
     "output_type": "display_data"
    }
   ],
   "source": [
    "show_doc(flatten_model, full_name='flatten')"
   ]
  },
  {
   "cell_type": "markdown",
   "metadata": {},
   "source": [
    "Flattens all the layers of `m`. "
   ]
  },
  {
   "cell_type": "code",
   "execution_count": null,
   "metadata": {
    "hide_input": true
   },
   "outputs": [
    {
     "data": {
      "text/markdown": [
       "<h4 id=\"model2half\"><code>model2half</code><a href=\"https://github.com/fastai/fastai/blob/master/fastai/torch_core.py#L186\" class=\"source_link\">[source]</a></h4>\n",
       "\n",
       "> <code>model2half</code>(<b>`model`</b>:[`Module`](https://pytorch.org/docs/stable/nn.html#torch.nn.Module)) → [`Module`](https://pytorch.org/docs/stable/nn.html#torch.nn.Module)\n",
       "\n",
       "Convert `model` to half precision except the batchnorm layers.  "
      ],
      "text/plain": [
       "<IPython.core.display.Markdown object>"
      ]
     },
     "metadata": {},
     "output_type": "display_data"
    }
   ],
   "source": [
    "show_doc(model2half)"
   ]
  },
  {
   "cell_type": "code",
   "execution_count": null,
   "metadata": {
    "hide_input": true
   },
   "outputs": [
    {
     "data": {
      "text/markdown": [
       "<h4 id=\"np2model_tensor\"><code>np2model_tensor</code><a href=\"https://github.com/fastai/fastai/blob/master/fastai/torch_core.py#L233\" class=\"source_link\">[source]</a></h4>\n",
       "\n",
       "> <code>np2model_tensor</code>(<b>`a`</b>)\n",
       "\n",
       "Tranform numpy array `a` to a tensor of the same type.  "
      ],
      "text/plain": [
       "<IPython.core.display.Markdown object>"
      ]
     },
     "metadata": {},
     "output_type": "display_data"
    }
   ],
   "source": [
    "show_doc(np2model_tensor)"
   ]
  },
  {
   "cell_type": "code",
   "execution_count": null,
   "metadata": {
    "hide_input": true
   },
   "outputs": [
    {
     "data": {
      "text/markdown": [
       "<h4 id=\"requires_grad\"><code>requires_grad</code><a href=\"https://github.com/fastai/fastai/blob/master/fastai/torch_core.py#L107\" class=\"source_link\">[source]</a></h4>\n",
       "\n",
       "> <code>requires_grad</code>(<b>`m`</b>:[`Module`](https://pytorch.org/docs/stable/nn.html#torch.nn.Module), <b>`b`</b>:`Optional`\\[`bool`\\]=<b><i>`None`</i></b>) → `Optional`\\[`bool`\\]\n",
       "\n",
       "If `b` is not set [`requires_grad`](/torch_core.html#requires_grad) on all params in `m`, else return [`requires_grad`](/torch_core.html#requires_grad) of first param.  "
      ],
      "text/plain": [
       "<IPython.core.display.Markdown object>"
      ]
     },
     "metadata": {},
     "output_type": "display_data"
    }
   ],
   "source": [
    "show_doc(requires_grad)"
   ]
  },
  {
   "cell_type": "code",
   "execution_count": null,
   "metadata": {
    "hide_input": true
   },
   "outputs": [
    {
     "data": {
      "text/markdown": [
       "<h4 id=\"tensor\"><code>tensor</code><a href=\"https://github.com/fastai/fastai/blob/master/fastai/torch_core.py#L65\" class=\"source_link\">[source]</a></h4>\n",
       "\n",
       "> <code>tensor</code>(<b>`x`</b>:`Any`, <b>`rest`</b>) → `Tensor`\n",
       "\n",
       "Like `torch.as_tensor`, but handle lists too, and can pass multiple vector elements directly.  "
      ],
      "text/plain": [
       "<IPython.core.display.Markdown object>"
      ]
     },
     "metadata": {},
     "output_type": "display_data"
    }
   ],
   "source": [
    "show_doc(tensor)"
   ]
  },
  {
   "cell_type": "code",
   "execution_count": null,
   "metadata": {
    "hide_input": true
   },
   "outputs": [
    {
     "data": {
      "text/markdown": [
       "<h4 id=\"to_cpu\"><code>to_cpu</code><a href=\"https://github.com/fastai/fastai/blob/master/fastai/torch_core.py#L92\" class=\"source_link\">[source]</a></h4>\n",
       "\n",
       "> <code>to_cpu</code>(<b>`b`</b>:`ItemsList`)\n",
       "\n",
       "Recursively map lists of tensors in `b ` to the cpu.  "
      ],
      "text/plain": [
       "<IPython.core.display.Markdown object>"
      ]
     },
     "metadata": {},
     "output_type": "display_data"
    }
   ],
   "source": [
    "show_doc(to_cpu)"
   ]
  },
  {
   "cell_type": "code",
   "execution_count": null,
   "metadata": {
    "hide_input": true
   },
   "outputs": [
    {
     "data": {
      "text/markdown": [
       "<h4 id=\"to_data\"><code>to_data</code><a href=\"https://github.com/fastai/fastai/blob/master/fastai/torch_core.py#L87\" class=\"source_link\">[source]</a></h4>\n",
       "\n",
       "> <code>to_data</code>(<b>`b`</b>:`ItemsList`)\n",
       "\n",
       "Recursively map lists of items in `b ` to their wrapped data.  "
      ],
      "text/plain": [
       "<IPython.core.display.Markdown object>"
      ]
     },
     "metadata": {},
     "output_type": "display_data"
    }
   ],
   "source": [
    "show_doc(to_data)"
   ]
  },
  {
   "cell_type": "code",
   "execution_count": null,
   "metadata": {
    "hide_input": true
   },
   "outputs": [
    {
     "data": {
      "text/markdown": [
       "<h4 id=\"to_detach\"><code>to_detach</code><a href=\"https://github.com/fastai/fastai/blob/master/fastai/torch_core.py#L80\" class=\"source_link\">[source]</a></h4>\n",
       "\n",
       "> <code>to_detach</code>(<b>`b`</b>:`Tensors`, <b>`cpu`</b>:`bool`=<b><i>`True`</i></b>)\n",
       "\n",
       "Recursively detach lists of tensors in `b `; put them on the CPU if `cpu=True`.  "
      ],
      "text/plain": [
       "<IPython.core.display.Markdown object>"
      ]
     },
     "metadata": {},
     "output_type": "display_data"
    }
   ],
   "source": [
    "show_doc(to_detach)"
   ]
  },
  {
   "cell_type": "code",
   "execution_count": null,
   "metadata": {
    "hide_input": true
   },
   "outputs": [
    {
     "data": {
      "text/markdown": [
       "<h4 id=\"to_device\"><code>to_device</code><a href=\"https://github.com/fastai/fastai/blob/master/fastai/torch_core.py#L97\" class=\"source_link\">[source]</a></h4>\n",
       "\n",
       "> <code>to_device</code>(<b>`b`</b>:`Tensors`, <b>`device`</b>:[`device`](https://pytorch.org/docs/stable/tensor_attributes.html#torch-device))\n",
       "\n",
       "Recursively put `b` on `device`.  "
      ],
      "text/plain": [
       "<IPython.core.display.Markdown object>"
      ]
     },
     "metadata": {},
     "output_type": "display_data"
    }
   ],
   "source": [
    "show_doc(to_device)"
   ]
  },
  {
   "cell_type": "code",
   "execution_count": null,
   "metadata": {
    "hide_input": true
   },
   "outputs": [
    {
     "data": {
      "text/markdown": [
       "<h4 id=\"to_half\"><code>to_half</code><a href=\"https://github.com/fastai/fastai/blob/master/fastai/torch_core.py#L176\" class=\"source_link\">[source]</a></h4>\n",
       "\n",
       "> <code>to_half</code>(<b>`b`</b>:`Collection`\\[`Tensor`\\]) → `Collection`\\[`Tensor`\\]\n",
       "\n",
       "Set the input of batch `b` to half precision if isn't an int type.  "
      ],
      "text/plain": [
       "<IPython.core.display.Markdown object>"
      ]
     },
     "metadata": {},
     "output_type": "display_data"
    }
   ],
   "source": [
    "show_doc(to_half)"
   ]
  },
  {
   "cell_type": "code",
   "execution_count": null,
   "metadata": {
    "hide_input": true
   },
   "outputs": [
    {
     "data": {
      "text/markdown": [
       "<h4 id=\"to_np\"><code>to_np</code><a href=\"https://github.com/fastai/fastai/blob/master/fastai/torch_core.py#L251\" class=\"source_link\">[source]</a></h4>\n",
       "\n",
       "> <code>to_np</code>(<b>`x`</b>)\n",
       "\n",
       "Convert a tensor to a numpy array.  "
      ],
      "text/plain": [
       "<IPython.core.display.Markdown object>"
      ]
     },
     "metadata": {},
     "output_type": "display_data"
    }
   ],
   "source": [
    "show_doc(to_np)"
   ]
  },
  {
   "cell_type": "code",
   "execution_count": null,
   "metadata": {
    "hide_input": true
   },
   "outputs": [
    {
     "data": {
      "text/markdown": [
       "<h4 id=\"try_int\"><code>try_int</code><a href=\"https://github.com/fastai/fastai/blob/master/fastai/torch_core.py#L305\" class=\"source_link\">[source]</a></h4>\n",
       "\n",
       "> <code>try_int</code>(<b>`o`</b>:`Any`) → `Any`\n",
       "\n",
       "Try to convert `o` to int, default to `o` if not possible.  "
      ],
      "text/plain": [
       "<IPython.core.display.Markdown object>"
      ]
     },
     "metadata": {},
     "output_type": "display_data"
    }
   ],
   "source": [
    "show_doc(try_int)"
   ]
  },
  {
   "cell_type": "markdown",
   "metadata": {},
   "source": [
    "## Functions to deal with model initialization"
   ]
  },
  {
   "cell_type": "code",
   "execution_count": null,
   "metadata": {
    "hide_input": true
   },
   "outputs": [
    {
     "data": {
      "text/markdown": [
       "<h4 id=\"apply_init\"><code>apply_init</code><a href=\"https://github.com/fastai/fastai/blob/master/fastai/torch_core.py#L207\" class=\"source_link\">[source]</a></h4>\n",
       "\n",
       "> <code>apply_init</code>(<b>`m`</b>, <b>`init_func`</b>:`LayerFunc`)\n",
       "\n",
       "Initialize all non-batchnorm layers of `m` with `init_func`.  "
      ],
      "text/plain": [
       "<IPython.core.display.Markdown object>"
      ]
     },
     "metadata": {},
     "output_type": "display_data"
    }
   ],
   "source": [
    "show_doc(apply_init)"
   ]
  },
  {
   "cell_type": "code",
   "execution_count": null,
   "metadata": {
    "hide_input": true
   },
   "outputs": [
    {
     "data": {
      "text/markdown": [
       "<h4 id=\"apply_leaf\"><code>apply_leaf</code><a href=\"https://github.com/fastai/fastai/blob/master/fastai/torch_core.py#L201\" class=\"source_link\">[source]</a></h4>\n",
       "\n",
       "> <code>apply_leaf</code>(<b>`m`</b>:[`Module`](https://pytorch.org/docs/stable/nn.html#torch.nn.Module), <b>`f`</b>:`LayerFunc`)\n",
       "\n",
       "Apply `f` to children of `m`.  "
      ],
      "text/plain": [
       "<IPython.core.display.Markdown object>"
      ]
     },
     "metadata": {},
     "output_type": "display_data"
    }
   ],
   "source": [
    "show_doc(apply_leaf)"
   ]
  },
  {
   "cell_type": "code",
   "execution_count": null,
   "metadata": {
    "hide_input": true
   },
   "outputs": [
    {
     "data": {
      "text/markdown": [
       "<h4 id=\"cond_init\"><code>cond_init</code><a href=\"https://github.com/fastai/fastai/blob/master/fastai/torch_core.py#L197\" class=\"source_link\">[source]</a></h4>\n",
       "\n",
       "> <code>cond_init</code>(<b>`m`</b>:[`Module`](https://pytorch.org/docs/stable/nn.html#torch.nn.Module), <b>`init_func`</b>:`LayerFunc`)\n",
       "\n",
       "Initialize the non-batchnorm layers of `m` with `init_func`.  "
      ],
      "text/plain": [
       "<IPython.core.display.Markdown object>"
      ]
     },
     "metadata": {},
     "output_type": "display_data"
    }
   ],
   "source": [
    "show_doc(cond_init)"
   ]
  },
  {
   "cell_type": "code",
   "execution_count": null,
   "metadata": {
    "hide_input": true
   },
   "outputs": [
    {
     "data": {
      "text/markdown": [
       "<h4 id=\"in_channels\"><code>in_channels</code><a href=\"https://github.com/fastai/fastai/blob/master/fastai/torch_core.py#L211\" class=\"source_link\">[source]</a></h4>\n",
       "\n",
       "> <code>in_channels</code>(<b>`m`</b>:[`Module`](https://pytorch.org/docs/stable/nn.html#torch.nn.Module)) → `List`\\[`int`\\]\n",
       "\n",
       "Return the shape of the first weight layer in `m`.  "
      ],
      "text/plain": [
       "<IPython.core.display.Markdown object>"
      ]
     },
     "metadata": {},
     "output_type": "display_data"
    }
   ],
   "source": [
    "show_doc(in_channels)"
   ]
  },
  {
   "cell_type": "code",
   "execution_count": null,
   "metadata": {
    "hide_input": true
   },
   "outputs": [
    {
     "data": {
      "text/markdown": [
       "<h4 id=\"init_default\"><code>init_default</code><a href=\"https://github.com/fastai/fastai/blob/master/fastai/torch_core.py#L190\" class=\"source_link\">[source]</a></h4>\n",
       "\n",
       "> <code>init_default</code>(<b>`m`</b>:[`Module`](https://pytorch.org/docs/stable/nn.html#torch.nn.Module), <b>`func`</b>:`LayerFunc`=<b><i>`'kaiming_normal_'`</i></b>)\n",
       "\n",
       "Initialize `m` weights with `func` and set `bias` to 0.  "
      ],
      "text/plain": [
       "<IPython.core.display.Markdown object>"
      ]
     },
     "metadata": {},
     "output_type": "display_data"
    }
   ],
   "source": [
    "show_doc(init_default)"
   ]
  },
  {
   "cell_type": "markdown",
   "metadata": {},
   "source": [
    "## Functions to get information of a model"
   ]
  },
  {
   "cell_type": "code",
   "execution_count": null,
   "metadata": {
    "hide_input": true
   },
   "outputs": [
    {
     "data": {
      "text/markdown": [
       "<h4 id=\"children\"><code>children</code><a href=\"https://github.com/fastai/fastai/blob/master/fastai/torch_core.py#L119\" class=\"source_link\">[source]</a></h4>\n",
       "\n",
       "> <code>children</code>(<b>`m`</b>:[`Module`](https://pytorch.org/docs/stable/nn.html#torch.nn.Module)) → `ModuleList`\n",
       "\n",
       "Get children of `m`.  "
      ],
      "text/plain": [
       "<IPython.core.display.Markdown object>"
      ]
     },
     "metadata": {},
     "output_type": "display_data"
    }
   ],
   "source": [
    "show_doc(children)"
   ]
  },
  {
   "cell_type": "code",
   "execution_count": null,
   "metadata": {
    "hide_input": true
   },
   "outputs": [
    {
     "data": {
      "text/markdown": [
       "<h4 id=\"first_layer\"><code>first_layer</code><a href=\"https://github.com/fastai/fastai/blob/master/fastai/torch_core.py#L132\" class=\"source_link\">[source]</a></h4>\n",
       "\n",
       "> <code>first_layer</code>(<b>`m`</b>:[`Module`](https://pytorch.org/docs/stable/nn.html#torch.nn.Module)) → [`Module`](https://pytorch.org/docs/stable/nn.html#torch.nn.Module)\n",
       "\n",
       "Retrieve first layer in a module `m`.  "
      ],
      "text/plain": [
       "<IPython.core.display.Markdown object>"
      ]
     },
     "metadata": {},
     "output_type": "display_data"
    }
   ],
   "source": [
    "show_doc(first_layer)"
   ]
  },
  {
   "cell_type": "code",
   "execution_count": null,
   "metadata": {
    "hide_input": true
   },
   "outputs": [
    {
     "data": {
      "text/markdown": [
       "<h4 id=\"last_layer\"><code>last_layer</code><a href=\"https://github.com/fastai/fastai/blob/master/fastai/torch_core.py#L136\" class=\"source_link\">[source]</a></h4>\n",
       "\n",
       "> <code>last_layer</code>(<b>`m`</b>:[`Module`](https://pytorch.org/docs/stable/nn.html#torch.nn.Module)) → [`Module`](https://pytorch.org/docs/stable/nn.html#torch.nn.Module)\n",
       "\n",
       "Retrieve last layer in a module `m`.  "
      ],
      "text/plain": [
       "<IPython.core.display.Markdown object>"
      ]
     },
     "metadata": {},
     "output_type": "display_data"
    }
   ],
   "source": [
    "show_doc(last_layer)"
   ]
  },
  {
   "cell_type": "code",
   "execution_count": null,
   "metadata": {
    "hide_input": true
   },
   "outputs": [
    {
     "data": {
      "text/markdown": [
       "<h4 id=\"num_children\"><code>num_children</code><a href=\"https://github.com/fastai/fastai/blob/master/fastai/torch_core.py#L123\" class=\"source_link\">[source]</a></h4>\n",
       "\n",
       "> <code>num_children</code>(<b>`m`</b>:[`Module`](https://pytorch.org/docs/stable/nn.html#torch.nn.Module)) → `int`\n",
       "\n",
       "Get number of children modules in `m`.  "
      ],
      "text/plain": [
       "<IPython.core.display.Markdown object>"
      ]
     },
     "metadata": {},
     "output_type": "display_data"
    }
   ],
   "source": [
    "show_doc(num_children)"
   ]
  },
  {
   "cell_type": "code",
   "execution_count": null,
   "metadata": {
    "hide_input": true
   },
   "outputs": [
    {
     "data": {
      "text/markdown": [
       "<h4 id=\"one_param\"><code>one_param</code><a href=\"https://github.com/fastai/fastai/blob/master/fastai/torch_core.py#L301\" class=\"source_link\">[source]</a></h4>\n",
       "\n",
       "> <code>one_param</code>(<b>`m`</b>:[`Module`](https://pytorch.org/docs/stable/nn.html#torch.nn.Module)) → `Tensor`\n",
       "\n",
       "Return the first parameter of `m`.  "
      ],
      "text/plain": [
       "<IPython.core.display.Markdown object>"
      ]
     },
     "metadata": {},
     "output_type": "display_data"
    }
   ],
   "source": [
    "show_doc(one_param)"
   ]
  },
  {
   "cell_type": "code",
   "execution_count": null,
   "metadata": {
    "hide_input": true
   },
   "outputs": [
    {
     "data": {
      "text/markdown": [
       "<h4 id=\"range_children\"><code>range_children</code><a href=\"https://github.com/fastai/fastai/blob/master/fastai/torch_core.py#L127\" class=\"source_link\">[source]</a></h4>\n",
       "\n",
       "> <code>range_children</code>(<b>`m`</b>:[`Module`](https://pytorch.org/docs/stable/nn.html#torch.nn.Module)) → `Iterator`\\[`int`\\]\n",
       "\n",
       "Return iterator of len of children of `m`.  "
      ],
      "text/plain": [
       "<IPython.core.display.Markdown object>"
      ]
     },
     "metadata": {},
     "output_type": "display_data"
    }
   ],
   "source": [
    "show_doc(range_children)"
   ]
  },
  {
   "cell_type": "code",
   "execution_count": null,
   "metadata": {
    "hide_input": true
   },
   "outputs": [
    {
     "data": {
      "text/markdown": [
       "<h4 id=\"trainable_params\"><code>trainable_params</code><a href=\"https://github.com/fastai/fastai/blob/master/fastai/torch_core.py#L114\" class=\"source_link\">[source]</a></h4>\n",
       "\n",
       "> <code>trainable_params</code>(<b>`m`</b>:[`Module`](https://pytorch.org/docs/stable/nn.html#torch.nn.Module)) → `ParamList`\n",
       "\n",
       "Return list of trainable params in `m`.  "
      ],
      "text/plain": [
       "<IPython.core.display.Markdown object>"
      ]
     },
     "metadata": {},
     "output_type": "display_data"
    }
   ],
   "source": [
    "show_doc(trainable_params)"
   ]
  },
  {
   "cell_type": "markdown",
   "metadata": {},
   "source": [
    "## Functions to deal with BatchNorm layers"
   ]
  },
  {
   "cell_type": "code",
   "execution_count": null,
   "metadata": {
    "hide_input": true
   },
   "outputs": [
    {
     "data": {
      "text/markdown": [
       "<h4 id=\"bn2float\"><code>bn2float</code><a href=\"https://github.com/fastai/fastai/blob/master/fastai/torch_core.py#L180\" class=\"source_link\">[source]</a></h4>\n",
       "\n",
       "> <code>bn2float</code>(<b>`module`</b>:[`Module`](https://pytorch.org/docs/stable/nn.html#torch.nn.Module)) → [`Module`](https://pytorch.org/docs/stable/nn.html#torch.nn.Module)\n",
       "\n",
       "If `module` is batchnorm don't use half precision.  "
      ],
      "text/plain": [
       "<IPython.core.display.Markdown object>"
      ]
     },
     "metadata": {},
     "output_type": "display_data"
    }
   ],
   "source": [
    "show_doc(bn2float)"
   ]
  },
  {
   "cell_type": "code",
   "execution_count": null,
   "metadata": {
    "hide_input": true
   },
   "outputs": [
    {
     "data": {
      "text/markdown": [
       "<h4 id=\"set_bn_eval\"><code>set_bn_eval</code><a href=\"https://github.com/fastai/fastai/blob/master/fastai/torch_core.py#L169\" class=\"source_link\">[source]</a></h4>\n",
       "\n",
       "> <code>set_bn_eval</code>(<b>`m`</b>:[`Module`](https://pytorch.org/docs/stable/nn.html#torch.nn.Module))\n",
       "\n",
       "Set bn layers in eval mode for all recursive children of `m`.  "
      ],
      "text/plain": [
       "<IPython.core.display.Markdown object>"
      ]
     },
     "metadata": {},
     "output_type": "display_data"
    }
   ],
   "source": [
    "show_doc(set_bn_eval)"
   ]
  },
  {
   "cell_type": "code",
   "execution_count": null,
   "metadata": {
    "hide_input": true
   },
   "outputs": [
    {
     "data": {
      "text/markdown": [
       "<h4 id=\"split_bn_bias\"><code>split_bn_bias</code><a href=\"https://github.com/fastai/fastai/blob/master/fastai/torch_core.py#L158\" class=\"source_link\">[source]</a></h4>\n",
       "\n",
       "> <code>split_bn_bias</code>(<b>`layer_groups`</b>:`ModuleList`) → `ModuleList`\n",
       "\n",
       "Split the layers in `layer_groups` into batchnorm (`bn_types`) and non-batchnorm groups.  "
      ],
      "text/plain": [
       "<IPython.core.display.Markdown object>"
      ]
     },
     "metadata": {},
     "output_type": "display_data"
    }
   ],
   "source": [
    "show_doc(split_bn_bias)"
   ]
  },
  {
   "cell_type": "markdown",
   "metadata": {},
   "source": [
    "## Functions to get random tensors"
   ]
  },
  {
   "cell_type": "code",
   "execution_count": null,
   "metadata": {
    "hide_input": true
   },
   "outputs": [
    {
     "data": {
      "text/markdown": [
       "<h4 id=\"log_uniform\"><code>log_uniform</code><a href=\"https://github.com/fastai/fastai/blob/master/fastai/torch_core.py#L288\" class=\"source_link\">[source]</a></h4>\n",
       "\n",
       "> <code>log_uniform</code>(<b>`low`</b>, <b>`high`</b>, <b>`size`</b>:`Optional`\\[`List`\\[`int`\\]\\]=<b><i>`None`</i></b>) → `FloatOrTensor`\n",
       "\n",
       "Draw 1 or shape=`size` random floats from uniform dist: min=log(`low`), max=log(`high`).  "
      ],
      "text/plain": [
       "<IPython.core.display.Markdown object>"
      ]
     },
     "metadata": {},
     "output_type": "display_data"
    }
   ],
   "source": [
    "show_doc(log_uniform)"
   ]
  },
  {
   "cell_type": "code",
   "execution_count": null,
   "metadata": {},
   "outputs": [
    {
     "data": {
      "text/plain": [
       "tensor([0.5775, 0.7902, 0.6087, 0.5730, 0.8057, 0.8845, 0.8975, 0.5585])"
      ]
     },
     "execution_count": null,
     "metadata": {},
     "output_type": "execute_result"
    }
   ],
   "source": [
    "log_uniform(0.5,2,(8,))"
   ]
  },
  {
   "cell_type": "code",
   "execution_count": null,
   "metadata": {
    "hide_input": true
   },
   "outputs": [
    {
     "data": {
      "text/markdown": [
       "<h4 id=\"rand_bool\"><code>rand_bool</code><a href=\"https://github.com/fastai/fastai/blob/master/fastai/torch_core.py#L293\" class=\"source_link\">[source]</a></h4>\n",
       "\n",
       "> <code>rand_bool</code>(<b>`p`</b>:`float`, <b>`size`</b>:`Optional`\\[`List`\\[`int`\\]\\]=<b><i>`None`</i></b>) → `BoolOrTensor`\n",
       "\n",
       "Draw 1 or shape=`size` random booleans (`True` occuring with probability `p`).  "
      ],
      "text/plain": [
       "<IPython.core.display.Markdown object>"
      ]
     },
     "metadata": {},
     "output_type": "display_data"
    }
   ],
   "source": [
    "show_doc(rand_bool)"
   ]
  },
  {
   "cell_type": "code",
   "execution_count": null,
   "metadata": {},
   "outputs": [
    {
     "data": {
      "text/plain": [
       "tensor([1, 1, 0, 1, 0, 0, 1, 0], dtype=torch.uint8)"
      ]
     },
     "execution_count": null,
     "metadata": {},
     "output_type": "execute_result"
    }
   ],
   "source": [
    "rand_bool(0.5, 8)"
   ]
  },
  {
   "cell_type": "code",
   "execution_count": null,
   "metadata": {
    "hide_input": true
   },
   "outputs": [
    {
     "data": {
      "text/markdown": [
       "<h4 id=\"uniform\"><code>uniform</code><a href=\"https://github.com/fastai/fastai/blob/master/fastai/torch_core.py#L283\" class=\"source_link\">[source]</a></h4>\n",
       "\n",
       "> <code>uniform</code>(<b>`low`</b>:`Number`, <b>`high`</b>:`Number`=<b><i>`None`</i></b>, <b>`size`</b>:`Optional`\\[`List`\\[`int`\\]\\]=<b><i>`None`</i></b>) → `FloatOrTensor`\n",
       "\n",
       "Draw 1 or shape=`size` random floats from uniform dist: min=`low`, max=`high`.  "
      ],
      "text/plain": [
       "<IPython.core.display.Markdown object>"
      ]
     },
     "metadata": {},
     "output_type": "display_data"
    }
   ],
   "source": [
    "show_doc(uniform)"
   ]
  },
  {
   "cell_type": "code",
   "execution_count": null,
   "metadata": {},
   "outputs": [
    {
     "data": {
      "text/plain": [
       "tensor([0.6432, 0.3110, 0.7588, 0.7058, 0.7121, 0.8552, 0.3352, 0.2620])"
      ]
     },
     "execution_count": null,
     "metadata": {},
     "output_type": "execute_result"
    }
   ],
   "source": [
    "uniform(0,1,(8,))"
   ]
  },
  {
   "cell_type": "code",
   "execution_count": null,
   "metadata": {
    "hide_input": true
   },
   "outputs": [
    {
     "data": {
      "text/markdown": [
       "<h4 id=\"uniform_int\"><code>uniform_int</code><a href=\"https://github.com/fastai/fastai/blob/master/fastai/torch_core.py#L297\" class=\"source_link\">[source]</a></h4>\n",
       "\n",
       "> <code>uniform_int</code>(<b>`low`</b>:`int`, <b>`high`</b>:`int`, <b>`size`</b>:`Optional`\\[`List`\\[`int`\\]\\]=<b><i>`None`</i></b>) → `IntOrTensor`\n",
       "\n",
       "Generate int or tensor `size` of ints between `low` and `high` (included).  "
      ],
      "text/plain": [
       "<IPython.core.display.Markdown object>"
      ]
     },
     "metadata": {},
     "output_type": "display_data"
    }
   ],
   "source": [
    "show_doc(uniform_int)"
   ]
  },
  {
   "cell_type": "code",
   "execution_count": null,
   "metadata": {},
   "outputs": [
    {
     "data": {
      "text/plain": [
       "tensor([0, 1, 1, 2, 1, 1, 1, 2])"
      ]
     },
     "execution_count": null,
     "metadata": {},
     "output_type": "execute_result"
    }
   ],
   "source": [
    "uniform_int(0,2,(8,))"
   ]
  },
  {
   "cell_type": "markdown",
   "metadata": {},
   "source": [
    "## Other functions"
   ]
  },
  {
   "cell_type": "code",
   "execution_count": null,
   "metadata": {
    "hide_input": true
   },
   "outputs": [
    {
     "data": {
      "text/markdown": [
       "<h3 id=\"FloatItem\"><code>class</code> <code>FloatItem</code><a href=\"https://github.com/fastai/fastai/blob/master/fastai/torch_core.py#L263\" class=\"source_link\">[source]</a></h3>\n",
       "\n",
       "> <code>FloatItem</code>(<b>`obj`</b>) :: [`ItemBase`](/core.html#ItemBase)\n",
       "\n",
       "Basic class for float items.  "
      ],
      "text/plain": [
       "<IPython.core.display.Markdown object>"
      ]
     },
     "metadata": {},
     "output_type": "display_data"
    }
   ],
   "source": [
    "show_doc(FloatItem, title_level=3)"
   ]
  },
  {
   "cell_type": "code",
   "execution_count": null,
   "metadata": {
    "hide_input": true
   },
   "outputs": [
    {
     "data": {
      "text/markdown": [
       "<h4 id=\"calc_loss\"><code>calc_loss</code><a href=\"https://github.com/fastai/fastai/blob/master/fastai/torch_core.py#L217\" class=\"source_link\">[source]</a></h4>\n",
       "\n",
       "> <code>calc_loss</code>(<b>`y_pred`</b>:`Tensor`, <b>`y_true`</b>:`Tensor`, <b>`loss_func`</b>:`LossFunction`)\n",
       "\n",
       "Calculate loss between `y_pred` and `y_true` using `loss_func`.  "
      ],
      "text/plain": [
       "<IPython.core.display.Markdown object>"
      ]
     },
     "metadata": {},
     "output_type": "display_data"
    }
   ],
   "source": [
    "show_doc(calc_loss)"
   ]
  },
  {
   "cell_type": "code",
   "execution_count": null,
   "metadata": {
    "hide_input": true
   },
   "outputs": [
    {
     "data": {
      "text/markdown": [
       "<h4 id=\"data_collate\"><code>data_collate</code><a href=\"https://github.com/fastai/fastai/blob/master/fastai/torch_core.py#L103\" class=\"source_link\">[source]</a></h4>\n",
       "\n",
       "> <code>data_collate</code>(<b>`batch`</b>:`ItemsList`) → `Tensor`\n",
       "\n",
       "Convert `batch` items to tensor data.  "
      ],
      "text/plain": [
       "<IPython.core.display.Markdown object>"
      ]
     },
     "metadata": {},
     "output_type": "display_data"
    }
   ],
   "source": [
    "show_doc(data_collate)"
   ]
  },
  {
   "cell_type": "code",
   "execution_count": null,
   "metadata": {
    "hide_input": true
   },
   "outputs": [
    {
     "data": {
      "text/markdown": [
       "<h4 id=\"grab_idx\"><code>grab_idx</code><a href=\"https://github.com/fastai/fastai/blob/master/fastai/torch_core.py#L268\" class=\"source_link\">[source]</a></h4>\n",
       "\n",
       "> <code>grab_idx</code>(<b>`x`</b>, <b>`i`</b>, <b>`batch_first`</b>:`bool`=<b><i>`True`</i></b>)\n",
       "\n",
       "Grab the `i`-th batch in `x`, `batch_first` stating the batch dimension.  "
      ],
      "text/plain": [
       "<IPython.core.display.Markdown object>"
      ]
     },
     "metadata": {},
     "output_type": "display_data"
    }
   ],
   "source": [
    "show_doc(grab_idx)"
   ]
  },
  {
   "cell_type": "code",
   "execution_count": null,
   "metadata": {
    "hide_input": true
   },
   "outputs": [
    {
     "data": {
      "text/markdown": [
       "<h4 id=\"logit\"><code>logit</code><a href=\"https://github.com/fastai/fastai/blob/master/fastai/torch_core.py#L273\" class=\"source_link\">[source]</a></h4>\n",
       "\n",
       "> <code>logit</code>(<b>`x`</b>:`Tensor`) → `Tensor`\n",
       "\n",
       "Logit of `x`, clamped to avoid inf.  "
      ],
      "text/plain": [
       "<IPython.core.display.Markdown object>"
      ]
     },
     "metadata": {},
     "output_type": "display_data"
    }
   ],
   "source": [
    "show_doc(logit)"
   ]
  },
  {
   "cell_type": "code",
   "execution_count": null,
   "metadata": {
    "hide_input": true
   },
   "outputs": [
    {
     "data": {
      "text/markdown": [
       "<h4 id=\"logit_\"><code>logit_</code><a href=\"https://github.com/fastai/fastai/blob/master/fastai/torch_core.py#L278\" class=\"source_link\">[source]</a></h4>\n",
       "\n",
       "> <code>logit_</code>(<b>`x`</b>:`Tensor`) → `Tensor`\n",
       "\n",
       "Inplace logit of `x`, clamped to avoid inf  "
      ],
      "text/plain": [
       "<IPython.core.display.Markdown object>"
      ]
     },
     "metadata": {},
     "output_type": "display_data"
    }
   ],
   "source": [
    "show_doc(logit_)"
   ]
  },
  {
   "cell_type": "code",
   "execution_count": null,
   "metadata": {
    "hide_input": true
   },
   "outputs": [
    {
     "data": {
      "text/markdown": [
       "<h4 id=\"model_type\"><code>model_type</code><a href=\"https://github.com/fastai/fastai/blob/master/fastai/torch_core.py#L227\" class=\"source_link\">[source]</a></h4>\n",
       "\n",
       "> <code>model_type</code>(<b>`dtype`</b>)\n",
       "\n",
       "Return the torch type corresponding to `dtype`.  "
      ],
      "text/plain": [
       "<IPython.core.display.Markdown object>"
      ]
     },
     "metadata": {},
     "output_type": "display_data"
    }
   ],
   "source": [
    "show_doc(model_type)"
   ]
  },
  {
   "cell_type": "code",
   "execution_count": null,
   "metadata": {
    "hide_input": true
   },
   "outputs": [
    {
     "data": {
      "text/markdown": [
       "<h4 id=\"np_address\"><code>np_address</code><a href=\"https://github.com/fastai/fastai/blob/master/fastai/torch_core.py#L76\" class=\"source_link\">[source]</a></h4>\n",
       "\n",
       "> <code>np_address</code>(<b>`x`</b>:`ndarray`) → `int`\n",
       "\n",
       "Address of `x` in memory.  "
      ],
      "text/plain": [
       "<IPython.core.display.Markdown object>"
      ]
     },
     "metadata": {},
     "output_type": "display_data"
    }
   ],
   "source": [
    "show_doc(np_address)"
   ]
  },
  {
   "cell_type": "code",
   "execution_count": null,
   "metadata": {
    "hide_input": true
   },
   "outputs": [
    {
     "data": {
      "text/markdown": [
       "<h4 id=\"split_model\"><code>split_model</code><a href=\"https://github.com/fastai/fastai/blob/master/fastai/torch_core.py#L147\" class=\"source_link\">[source]</a></h4>\n",
       "\n",
       "> <code>split_model</code>(<b>`model`</b>:[`Module`](https://pytorch.org/docs/stable/nn.html#torch.nn.Module), <b>`splits`</b>:`Collection`\\[`Union`\\[[`Module`](https://pytorch.org/docs/stable/nn.html#torch.nn.Module), `ModuleList`\\]\\], <b>`want_idxs`</b>:`bool`=<b><i>`False`</i></b>)\n",
       "\n",
       "Split `model` according to the layers in `splits`.  "
      ],
      "text/plain": [
       "<IPython.core.display.Markdown object>"
      ]
     },
     "metadata": {},
     "output_type": "display_data"
    }
   ],
   "source": [
    "show_doc(split_model)"
   ]
  },
  {
   "cell_type": "markdown",
   "metadata": {},
   "source": [
    "If `splits` are layers, the model is split at those (not included) sequentially. If `want_idxs` is True, the corresponding indexes are returned. If `splits` are lists of layers, the model is split according to those."
   ]
  },
  {
   "cell_type": "code",
   "execution_count": null,
   "metadata": {
    "hide_input": true
   },
   "outputs": [
    {
     "data": {
      "text/markdown": [
       "<h4 id=\"split_model_idx\"><code>split_model_idx</code><a href=\"https://github.com/fastai/fastai/blob/master/fastai/torch_core.py#L140\" class=\"source_link\">[source]</a></h4>\n",
       "\n",
       "> <code>split_model_idx</code>(<b>`model`</b>:[`Module`](https://pytorch.org/docs/stable/nn.html#torch.nn.Module), <b>`idxs`</b>:`Collection`\\[`int`\\]) → `ModuleList`\n",
       "\n",
       "Split `model` according to the indexes in `idxs`.  "
      ],
      "text/plain": [
       "<IPython.core.display.Markdown object>"
      ]
     },
     "metadata": {},
     "output_type": "display_data"
    }
   ],
   "source": [
    "show_doc(split_model_idx)"
   ]
  },
  {
   "cell_type": "code",
   "execution_count": null,
   "metadata": {
    "hide_input": true
   },
   "outputs": [
    {
     "data": {
      "text/markdown": [
       "<h4 id=\"trange_of\"><code>trange_of</code><a href=\"https://github.com/fastai/fastai/blob/master/fastai/torch_core.py#L247\" class=\"source_link\">[source]</a></h4>\n",
       "\n",
       "> <code>trange_of</code>(<b>`x`</b>)\n",
       "\n",
       "Create a tensor from `range_of(x)`.  "
      ],
      "text/plain": [
       "<IPython.core.display.Markdown object>"
      ]
     },
     "metadata": {},
     "output_type": "display_data"
    }
   ],
   "source": [
    "show_doc(trange_of)"
   ]
  },
  {
   "cell_type": "markdown",
   "metadata": {},
   "source": [
    "## Undocumented Methods - Methods moved below this line will intentionally be hidden"
   ]
  },
  {
   "cell_type": "code",
   "execution_count": null,
   "metadata": {},
   "outputs": [
    {
     "data": {
      "text/markdown": [
       "<h4 id=\"tensor__array__\"><code>tensor__array__</code><a href=\"https://github.com/fastai/fastai/blob/master/fastai/torch_core.py#L256\" class=\"source_link\">[source]</a></h4>\n",
       "\n",
       "> <code>tensor__array__</code>(<b>`dtype`</b>=<b><i>`None`</i></b>)"
      ],
      "text/plain": [
       "<IPython.core.display.Markdown object>"
      ]
     },
     "metadata": {},
     "output_type": "display_data"
    }
   ],
   "source": [
    "show_doc(tensor__array__)"
   ]
  },
  {
   "cell_type": "markdown",
   "metadata": {},
   "source": [
    "## New Methods - Please document or move to the undocumented section"
   ]
  }
 ],
 "metadata": {
  "jekyll": {
   "keywords": "fastai",
   "summary": "Basic functions using pytorch",
   "title": "torch_core"
  },
  "kernelspec": {
   "display_name": "Python 3",
   "language": "python",
   "name": "python3"
  }
 },
 "nbformat": 4,
 "nbformat_minor": 2
}

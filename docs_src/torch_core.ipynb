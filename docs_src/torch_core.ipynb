{
 "cells": [
  {
   "cell_type": "markdown",
   "metadata": {},
   "source": [
    "# Torch Core"
   ]
  },
  {
   "cell_type": "markdown",
   "metadata": {},
   "source": [
    "This module contains all the basic functions we need in other modules of the fastai library (split with [`core`](/core.html#core) that contains the ones not requiring pytorch). Its documentation can easily be skipped at a first read, unless you want to know what a given fuction does."
   ]
  },
  {
   "cell_type": "code",
   "execution_count": null,
   "metadata": {
    "hide_input": true
   },
   "outputs": [],
   "source": [
    "from fastai.gen_doc.nbdoc import *\n",
    "from fastai.torch_core import * "
   ]
  },
  {
   "cell_type": "markdown",
   "metadata": {},
   "source": [
    "## Global constants"
   ]
  },
  {
   "cell_type": "markdown",
   "metadata": {},
   "source": [
    "`AdamW = partial(optim.Adam, betas=(0.9,0.99))` <div style=\"text-align: right\"><a href=\"https://github.com/fastai/fastai/blob/master/fastai/torch_core.py#L43\">[source]</a></div>"
   ]
  },
  {
   "cell_type": "markdown",
   "metadata": {},
   "source": [
    "`bn_types = (nn.BatchNorm1d, nn.BatchNorm2d, nn.BatchNorm3d)` <div style=\"text-align: right\"><a href=\"https://github.com/fastai/fastai/blob/master/fastai/torch_core.py#L41\">[source]</a></div>"
   ]
  },
  {
   "cell_type": "markdown",
   "metadata": {},
   "source": [
    "`default_device = torch.device('cuda') if torch.cuda.is_available() else torch.device('cpu')` <div style=\"text-align: right\"><a href=\"https://github.com/fastai/fastai/blob/master/fastai/torch_core.py#L42\">[source]</a></div>"
   ]
  },
  {
   "cell_type": "markdown",
   "metadata": {},
   "source": [
    "## Functions that operate conversions"
   ]
  },
  {
   "cell_type": "code",
   "execution_count": null,
   "metadata": {
    "hide_input": true
   },
   "outputs": [
    {
     "data": {
      "text/markdown": [
       "<h4 id=\"flatten\"><code>flatten</code><a href=\"https://github.com/fastai/fastai/blob/master/fastai/torch_core.py#L118\" class=\"source_link\">[source]</a></h4>\n",
       "\n",
       "> <code>flatten</code>(`m`)"
      ],
      "text/plain": [
       "<IPython.core.display.Markdown object>"
      ]
     },
     "metadata": {},
     "output_type": "display_data"
    }
   ],
   "source": [
    "show_doc(flatten_model, full_name='flatten')"
   ]
  },
  {
   "cell_type": "markdown",
   "metadata": {},
   "source": [
    "Flattens all the layers of `m`. "
   ]
  },
  {
   "cell_type": "code",
   "execution_count": null,
   "metadata": {
    "hide_input": true
   },
   "outputs": [
    {
     "data": {
      "text/markdown": [
       "<h4 id=\"model2half\"><code>model2half</code><a href=\"https://github.com/fastai/fastai/blob/master/fastai/torch_core.py#L173\" class=\"source_link\">[source]</a></h4>\n",
       "\n",
       "> <code>model2half</code>(`model`:[`Module`](https://pytorch.org/docs/stable/nn.html#torch.nn.Module)) → [`Module`](https://pytorch.org/docs/stable/nn.html#torch.nn.Module)\n",
       "\n",
       "Convert `model` to half precision except the batchnorm layers.  "
      ],
      "text/plain": [
       "<IPython.core.display.Markdown object>"
      ]
     },
     "metadata": {},
     "output_type": "display_data"
    }
   ],
   "source": [
    "show_doc(model2half)"
   ]
  },
  {
   "cell_type": "code",
   "execution_count": null,
   "metadata": {
    "hide_input": true
   },
   "outputs": [
    {
     "data": {
      "text/markdown": [
       "<h4 id=\"np2model_tensor\"><code>np2model_tensor</code><a href=\"https://github.com/fastai/fastai/blob/master/fastai/torch_core.py#L215\" class=\"source_link\">[source]</a></h4>\n",
       "\n",
       "> <code>np2model_tensor</code>(`a`)\n",
       "\n",
       "Tranform numpy array `a` to a tensor of the same type.  "
      ],
      "text/plain": [
       "<IPython.core.display.Markdown object>"
      ]
     },
     "metadata": {},
     "output_type": "display_data"
    }
   ],
   "source": [
    "show_doc(np2model_tensor)"
   ]
  },
  {
   "cell_type": "code",
   "execution_count": null,
   "metadata": {
    "hide_input": true
   },
   "outputs": [
    {
     "data": {
      "text/markdown": [
       "<h4 id=\"requires_grad\"><code>requires_grad</code><a href=\"https://github.com/fastai/fastai/blob/master/fastai/torch_core.py#L94\" class=\"source_link\">[source]</a></h4>\n",
       "\n",
       "> <code>requires_grad</code>(`m`:[`Module`](https://pytorch.org/docs/stable/nn.html#torch.nn.Module), `b`:`Optional`\\[`bool`\\]=`None`) → `Optional`\\[`bool`\\]"
      ],
      "text/plain": [
       "<IPython.core.display.Markdown object>"
      ]
     },
     "metadata": {},
     "output_type": "display_data"
    }
   ],
   "source": [
    "show_doc(requires_grad, doc_string=False)"
   ]
  },
  {
   "cell_type": "markdown",
   "metadata": {},
   "source": [
    "If `b` is None, returns the [`requires_grad`](/torch_core.html#requires_grad) state of the first layer of `m`. Otherwise, sets `requires_grad=b` in all children of `m`."
   ]
  },
  {
   "cell_type": "code",
   "execution_count": null,
   "metadata": {
    "hide_input": true
   },
   "outputs": [
    {
     "data": {
      "text/markdown": [
       "<h4 id=\"tensor\"><code>tensor</code><a href=\"https://github.com/fastai/fastai/blob/master/fastai/torch_core.py#L65\" class=\"source_link\">[source]</a></h4>\n",
       "\n",
       "> <code>tensor</code>(`x`:`Any`, `rest`) → `Tensor`\n",
       "\n",
       "Like `torch.as_tensor`, but handle lists too, and can pass multiple vector elements directly  "
      ],
      "text/plain": [
       "<IPython.core.display.Markdown object>"
      ]
     },
     "metadata": {},
     "output_type": "display_data"
    }
   ],
   "source": [
    "show_doc(tensor)"
   ]
  },
  {
   "cell_type": "markdown",
   "metadata": {},
   "source": [
    "Ensures `x` is a torch `Tensor`."
   ]
  },
  {
   "cell_type": "code",
   "execution_count": null,
   "metadata": {
    "hide_input": true
   },
   "outputs": [
    {
     "data": {
      "text/markdown": [
       "<h4 id=\"to_data\"><code>to_data</code><a href=\"https://github.com/fastai/fastai/blob/master/fastai/torch_core.py#L79\" class=\"source_link\">[source]</a></h4>\n",
       "\n",
       "> <code>to_data</code>(`b`:`ItemsList`)\n",
       "\n",
       "Recursively map lists of items in `b ` to their wrapped data  "
      ],
      "text/plain": [
       "<IPython.core.display.Markdown object>"
      ]
     },
     "metadata": {},
     "output_type": "display_data"
    }
   ],
   "source": [
    "show_doc(to_data)"
   ]
  },
  {
   "cell_type": "code",
   "execution_count": null,
   "metadata": {
    "hide_input": true
   },
   "outputs": [
    {
     "data": {
      "text/markdown": [
       "<h4 id=\"to_detach\"><code>to_detach</code><a href=\"https://github.com/fastai/fastai/blob/master/fastai/torch_core.py#L74\" class=\"source_link\">[source]</a></h4>\n",
       "\n",
       "> <code>to_detach</code>(`b`:`Tensors`)\n",
       "\n",
       "Recursively detach lists of tensors in `b `  "
      ],
      "text/plain": [
       "<IPython.core.display.Markdown object>"
      ]
     },
     "metadata": {},
     "output_type": "display_data"
    }
   ],
   "source": [
    "show_doc(to_detach)"
   ]
  },
  {
   "cell_type": "code",
   "execution_count": null,
   "metadata": {
    "hide_input": true
   },
   "outputs": [
    {
     "data": {
      "text/markdown": [
       "<h4 id=\"to_device\"><code>to_device</code><a href=\"https://github.com/fastai/fastai/blob/master/fastai/torch_core.py#L84\" class=\"source_link\">[source]</a></h4>\n",
       "\n",
       "> <code>to_device</code>(`b`:`Tensors`, `device`:[`device`](https://pytorch.org/docs/stable/tensor_attributes.html#torch-device))\n",
       "\n",
       "Ensure `b` is on `device`.  "
      ],
      "text/plain": [
       "<IPython.core.display.Markdown object>"
      ]
     },
     "metadata": {},
     "output_type": "display_data"
    }
   ],
   "source": [
    "show_doc(to_device)"
   ]
  },
  {
   "cell_type": "code",
   "execution_count": null,
   "metadata": {
    "hide_input": true
   },
   "outputs": [
    {
     "data": {
      "text/markdown": [
       "<h4 id=\"to_half\"><code>to_half</code><a href=\"https://github.com/fastai/fastai/blob/master/fastai/torch_core.py#L163\" class=\"source_link\">[source]</a></h4>\n",
       "\n",
       "> <code>to_half</code>(`b`:`Collection`\\[`Tensor`\\]) → `Collection`\\[`Tensor`\\]"
      ],
      "text/plain": [
       "<IPython.core.display.Markdown object>"
      ]
     },
     "metadata": {},
     "output_type": "display_data"
    }
   ],
   "source": [
    "show_doc(to_half, doc_string=False)"
   ]
  },
  {
   "cell_type": "markdown",
   "metadata": {},
   "source": [
    "Put the input of the batch `b` in half precision."
   ]
  },
  {
   "cell_type": "code",
   "execution_count": null,
   "metadata": {
    "hide_input": true
   },
   "outputs": [
    {
     "data": {
      "text/markdown": [
       "<h4 id=\"to_np\"><code>to_np</code><a href=\"https://github.com/fastai/fastai/blob/master/fastai/torch_core.py#L224\" class=\"source_link\">[source]</a></h4>\n",
       "\n",
       "> <code>to_np</code>(`x`)"
      ],
      "text/plain": [
       "<IPython.core.display.Markdown object>"
      ]
     },
     "metadata": {},
     "output_type": "display_data"
    }
   ],
   "source": [
    "show_doc(to_np)"
   ]
  },
  {
   "cell_type": "markdown",
   "metadata": {},
   "source": [
    "Convert `x` to a numpy array."
   ]
  },
  {
   "cell_type": "markdown",
   "metadata": {},
   "source": [
    "## Functions to deal with model initialization"
   ]
  },
  {
   "cell_type": "code",
   "execution_count": null,
   "metadata": {
    "hide_input": true
   },
   "outputs": [
    {
     "data": {
      "text/markdown": [
       "<h4 id=\"apply_init\"><code>apply_init</code><a href=\"https://github.com/fastai/fastai/blob/master/fastai/torch_core.py#L189\" class=\"source_link\">[source]</a></h4>\n",
       "\n",
       "> <code>apply_init</code>(`m`, `init_func`:`LayerFunc`)\n",
       "\n",
       "Initialize all non-batchnorm layers of `m` with `init_func`.  "
      ],
      "text/plain": [
       "<IPython.core.display.Markdown object>"
      ]
     },
     "metadata": {},
     "output_type": "display_data"
    }
   ],
   "source": [
    "show_doc(apply_init)"
   ]
  },
  {
   "cell_type": "code",
   "execution_count": null,
   "metadata": {
    "hide_input": true
   },
   "outputs": [
    {
     "data": {
      "text/markdown": [
       "<h4 id=\"apply_leaf\"><code>apply_leaf</code><a href=\"https://github.com/fastai/fastai/blob/master/fastai/torch_core.py#L183\" class=\"source_link\">[source]</a></h4>\n",
       "\n",
       "> <code>apply_leaf</code>(`m`:[`Module`](https://pytorch.org/docs/stable/nn.html#torch.nn.Module), `f`:`LayerFunc`)\n",
       "\n",
       "Apply `f` to children of `m`.  "
      ],
      "text/plain": [
       "<IPython.core.display.Markdown object>"
      ]
     },
     "metadata": {},
     "output_type": "display_data"
    }
   ],
   "source": [
    "show_doc(apply_leaf)"
   ]
  },
  {
   "cell_type": "code",
   "execution_count": null,
   "metadata": {
    "hide_input": true
   },
   "outputs": [
    {
     "data": {
      "text/markdown": [
       "<h4 id=\"cond_init\"><code>cond_init</code><a href=\"https://github.com/fastai/fastai/blob/master/fastai/torch_core.py#L177\" class=\"source_link\">[source]</a></h4>\n",
       "\n",
       "> <code>cond_init</code>(`m`:[`Module`](https://pytorch.org/docs/stable/nn.html#torch.nn.Module), `init_func`:`LayerFunc`)\n",
       "\n",
       "Initialize the non-batchnorm layers of `m` with `init_func`  "
      ],
      "text/plain": [
       "<IPython.core.display.Markdown object>"
      ]
     },
     "metadata": {},
     "output_type": "display_data"
    }
   ],
   "source": [
    "show_doc(cond_init)"
   ]
  },
  {
   "cell_type": "code",
   "execution_count": null,
   "metadata": {
    "hide_input": true
   },
   "outputs": [
    {
     "data": {
      "text/markdown": [
       "<h4 id=\"in_channels\"><code>in_channels</code><a href=\"https://github.com/fastai/fastai/blob/master/fastai/torch_core.py#L193\" class=\"source_link\">[source]</a></h4>\n",
       "\n",
       "> <code>in_channels</code>(`m`:[`Module`](https://pytorch.org/docs/stable/nn.html#torch.nn.Module)) → `List`\\[`int`\\]\n",
       "\n",
       "Return the shape of the first weight layer in `m`.  "
      ],
      "text/plain": [
       "<IPython.core.display.Markdown object>"
      ]
     },
     "metadata": {},
     "output_type": "display_data"
    }
   ],
   "source": [
    "show_doc(in_channels)"
   ]
  },
  {
   "cell_type": "markdown",
   "metadata": {},
   "source": [
    "## Functions to get information of a model"
   ]
  },
  {
   "cell_type": "code",
   "execution_count": null,
   "metadata": {
    "hide_input": true
   },
   "outputs": [
    {
     "data": {
      "text/markdown": [
       "<h4 id=\"children\"><code>children</code><a href=\"https://github.com/fastai/fastai/blob/master/fastai/torch_core.py#L106\" class=\"source_link\">[source]</a></h4>\n",
       "\n",
       "> <code>children</code>(`m`:[`Module`](https://pytorch.org/docs/stable/nn.html#torch.nn.Module)) → `ModuleList`\n",
       "\n",
       "Get children of module `m`.  "
      ],
      "text/plain": [
       "<IPython.core.display.Markdown object>"
      ]
     },
     "metadata": {},
     "output_type": "display_data"
    }
   ],
   "source": [
    "show_doc(children)"
   ]
  },
  {
   "cell_type": "code",
   "execution_count": null,
   "metadata": {
    "hide_input": true
   },
   "outputs": [
    {
     "data": {
      "text/markdown": [
       "<h4 id=\"first_layer\"><code>first_layer</code><a href=\"https://github.com/fastai/fastai/blob/master/fastai/torch_core.py#L119\" class=\"source_link\">[source]</a></h4>\n",
       "\n",
       "> <code>first_layer</code>(`m`:[`Module`](https://pytorch.org/docs/stable/nn.html#torch.nn.Module)) → [`Module`](https://pytorch.org/docs/stable/nn.html#torch.nn.Module)\n",
       "\n",
       "Retrieve first layer in a module `m`.  "
      ],
      "text/plain": [
       "<IPython.core.display.Markdown object>"
      ]
     },
     "metadata": {},
     "output_type": "display_data"
    }
   ],
   "source": [
    "show_doc(first_layer)"
   ]
  },
  {
   "cell_type": "code",
   "execution_count": null,
   "metadata": {
    "hide_input": true
   },
   "outputs": [
    {
     "data": {
      "text/markdown": [
       "<h4 id=\"last_layer\"><code>last_layer</code><a href=\"https://github.com/fastai/fastai/blob/master/fastai/torch_core.py#L123\" class=\"source_link\">[source]</a></h4>\n",
       "\n",
       "> <code>last_layer</code>(`m`:[`Module`](https://pytorch.org/docs/stable/nn.html#torch.nn.Module)) → [`Module`](https://pytorch.org/docs/stable/nn.html#torch.nn.Module)\n",
       "\n",
       "Retrieve last layer in a module `m`.  "
      ],
      "text/plain": [
       "<IPython.core.display.Markdown object>"
      ]
     },
     "metadata": {},
     "output_type": "display_data"
    }
   ],
   "source": [
    "show_doc(last_layer)"
   ]
  },
  {
   "cell_type": "code",
   "execution_count": null,
   "metadata": {
    "hide_input": true
   },
   "outputs": [
    {
     "data": {
      "text/markdown": [
       "<h4 id=\"num_children\"><code>num_children</code><a href=\"https://github.com/fastai/fastai/blob/master/fastai/torch_core.py#L110\" class=\"source_link\">[source]</a></h4>\n",
       "\n",
       "> <code>num_children</code>(`m`:[`Module`](https://pytorch.org/docs/stable/nn.html#torch.nn.Module)) → `int`\n",
       "\n",
       "Get number of children modules in module `m`.  "
      ],
      "text/plain": [
       "<IPython.core.display.Markdown object>"
      ]
     },
     "metadata": {},
     "output_type": "display_data"
    }
   ],
   "source": [
    "show_doc(num_children)"
   ]
  },
  {
   "cell_type": "code",
   "execution_count": null,
   "metadata": {
    "hide_input": true
   },
   "outputs": [
    {
     "data": {
      "text/markdown": [
       "<h4 id=\"range_children\"><code>range_children</code><a href=\"https://github.com/fastai/fastai/blob/master/fastai/torch_core.py#L114\" class=\"source_link\">[source]</a></h4>\n",
       "\n",
       "> <code>range_children</code>(`m`:[`Module`](https://pytorch.org/docs/stable/nn.html#torch.nn.Module)) → `Iterator`\\[`int`\\]\n",
       "\n",
       "Return iterator of len of children of `m`.  "
      ],
      "text/plain": [
       "<IPython.core.display.Markdown object>"
      ]
     },
     "metadata": {},
     "output_type": "display_data"
    }
   ],
   "source": [
    "show_doc(range_children)"
   ]
  },
  {
   "cell_type": "code",
   "execution_count": null,
   "metadata": {
    "hide_input": true
   },
   "outputs": [
    {
     "data": {
      "text/markdown": [
       "<h4 id=\"trainable_params\"><code>trainable_params</code><a href=\"https://github.com/fastai/fastai/blob/master/fastai/torch_core.py#L101\" class=\"source_link\">[source]</a></h4>\n",
       "\n",
       "> <code>trainable_params</code>(`m`:[`Module`](https://pytorch.org/docs/stable/nn.html#torch.nn.Module)) → `ParamList`\n",
       "\n",
       "Return list of trainable params in `m`.  "
      ],
      "text/plain": [
       "<IPython.core.display.Markdown object>"
      ]
     },
     "metadata": {},
     "output_type": "display_data"
    }
   ],
   "source": [
    "show_doc(trainable_params)"
   ]
  },
  {
   "cell_type": "markdown",
   "metadata": {},
   "source": [
    "## Functions to deal with BatchNorm layers"
   ]
  },
  {
   "cell_type": "code",
   "execution_count": null,
   "metadata": {
    "hide_input": true
   },
   "outputs": [
    {
     "data": {
      "text/markdown": [
       "<h4 id=\"bn2float\"><code>bn2float</code><a href=\"https://github.com/fastai/fastai/blob/master/fastai/torch_core.py#L167\" class=\"source_link\">[source]</a></h4>\n",
       "\n",
       "> <code>bn2float</code>(`module`:[`Module`](https://pytorch.org/docs/stable/nn.html#torch.nn.Module)) → [`Module`](https://pytorch.org/docs/stable/nn.html#torch.nn.Module)\n",
       "\n",
       "If `module` is batchnorm don't use half precision.  "
      ],
      "text/plain": [
       "<IPython.core.display.Markdown object>"
      ]
     },
     "metadata": {},
     "output_type": "display_data"
    }
   ],
   "source": [
    "show_doc(bn2float)"
   ]
  },
  {
   "cell_type": "code",
   "execution_count": null,
   "metadata": {
    "hide_input": true
   },
   "outputs": [
    {
     "data": {
      "text/markdown": [
       "<h4 id=\"set_bn_eval\"><code>set_bn_eval</code><a href=\"https://github.com/fastai/fastai/blob/master/fastai/torch_core.py#L156\" class=\"source_link\">[source]</a></h4>\n",
       "\n",
       "> <code>set_bn_eval</code>(`m`:[`Module`](https://pytorch.org/docs/stable/nn.html#torch.nn.Module))\n",
       "\n",
       "Set bn layers in eval mode for all recursive children of `m`.  "
      ],
      "text/plain": [
       "<IPython.core.display.Markdown object>"
      ]
     },
     "metadata": {},
     "output_type": "display_data"
    }
   ],
   "source": [
    "show_doc(set_bn_eval)"
   ]
  },
  {
   "cell_type": "code",
   "execution_count": null,
   "metadata": {
    "hide_input": true
   },
   "outputs": [
    {
     "data": {
      "text/markdown": [
       "<h4 id=\"split_bn_bias\"><code>split_bn_bias</code><a href=\"https://github.com/fastai/fastai/blob/master/fastai/torch_core.py#L145\" class=\"source_link\">[source]</a></h4>\n",
       "\n",
       "> <code>split_bn_bias</code>(`layer_groups`:`ModuleList`) → `ModuleList`\n",
       "\n",
       "Sort each layer in  `layer_groups` into batchnorm (`bn_types`) and non-batchnorm groups.  "
      ],
      "text/plain": [
       "<IPython.core.display.Markdown object>"
      ]
     },
     "metadata": {},
     "output_type": "display_data"
    }
   ],
   "source": [
    "show_doc(split_bn_bias)"
   ]
  },
  {
   "cell_type": "markdown",
   "metadata": {},
   "source": [
    "## Other functions"
   ]
  },
  {
   "cell_type": "code",
   "execution_count": null,
   "metadata": {
    "hide_input": true
   },
   "outputs": [
    {
     "data": {
      "text/markdown": [
       "<h4 id=\"calc_loss\"><code>calc_loss</code><a href=\"https://github.com/fastai/fastai/blob/master/fastai/torch_core.py#L199\" class=\"source_link\">[source]</a></h4>\n",
       "\n",
       "> <code>calc_loss</code>(`y_pred`:`Tensor`, `y_true`:`Tensor`, `loss_func`:`LossFunction`)\n",
       "\n",
       "Calculate loss between `y_pred` and `y_true` using `loss_class` and `bs`.  "
      ],
      "text/plain": [
       "<IPython.core.display.Markdown object>"
      ]
     },
     "metadata": {},
     "output_type": "display_data"
    }
   ],
   "source": [
    "show_doc(calc_loss)"
   ]
  },
  {
   "cell_type": "code",
   "execution_count": null,
   "metadata": {
    "hide_input": true
   },
   "outputs": [
    {
     "data": {
      "text/markdown": [
       "<h4 id=\"data_collate\"><code>data_collate</code><a href=\"https://github.com/fastai/fastai/blob/master/fastai/torch_core.py#L90\" class=\"source_link\">[source]</a></h4>\n",
       "\n",
       "> <code>data_collate</code>(`batch`:`ItemsList`) → `Tensor`\n",
       "\n",
       "Convert `batch` items to tensor data.  "
      ],
      "text/plain": [
       "<IPython.core.display.Markdown object>"
      ]
     },
     "metadata": {},
     "output_type": "display_data"
    }
   ],
   "source": [
    "show_doc(data_collate)"
   ]
  },
  {
   "cell_type": "code",
   "execution_count": null,
   "metadata": {
    "hide_input": true
   },
   "outputs": [
    {
     "data": {
      "text/markdown": [
       "<h4 id=\"model_type\"><code>model_type</code><a href=\"https://github.com/fastai/fastai/blob/master/fastai/torch_core.py#L209\" class=\"source_link\">[source]</a></h4>\n",
       "\n",
       "> <code>model_type</code>(`dtype`)\n",
       "\n",
       "Return the torch type corresponding to `dtype`.  "
      ],
      "text/plain": [
       "<IPython.core.display.Markdown object>"
      ]
     },
     "metadata": {},
     "output_type": "display_data"
    }
   ],
   "source": [
    "show_doc(model_type)"
   ]
  },
  {
   "cell_type": "code",
   "execution_count": null,
   "metadata": {
    "hide_input": true
   },
   "outputs": [
    {
     "data": {
      "text/markdown": [
       "<h4 id=\"np_address\"><code>np_address</code><a href=\"https://github.com/fastai/fastai/blob/master/fastai/torch_core.py#L70\" class=\"source_link\">[source]</a></h4>\n",
       "\n",
       "> <code>np_address</code>(`x`:`ndarray`) → `int`\n",
       "\n",
       "Address of `x` in memory  "
      ],
      "text/plain": [
       "<IPython.core.display.Markdown object>"
      ]
     },
     "metadata": {},
     "output_type": "display_data"
    }
   ],
   "source": [
    "show_doc(np_address)"
   ]
  },
  {
   "cell_type": "code",
   "execution_count": null,
   "metadata": {
    "hide_input": true
   },
   "outputs": [
    {
     "data": {
      "text/markdown": [
       "<h4 id=\"split_model\"><code>split_model</code><a href=\"https://github.com/fastai/fastai/blob/master/fastai/torch_core.py#L134\" class=\"source_link\">[source]</a></h4>\n",
       "\n",
       "> <code>split_model</code>(`model`:[`Module`](https://pytorch.org/docs/stable/nn.html#torch.nn.Module), `splits`:`Collection`\\[`Union`\\[[`Module`](https://pytorch.org/docs/stable/nn.html#torch.nn.Module), `ModuleList`\\]\\], `want_idxs`:`bool`=`False`)"
      ],
      "text/plain": [
       "<IPython.core.display.Markdown object>"
      ]
     },
     "metadata": {},
     "output_type": "display_data"
    }
   ],
   "source": [
    "show_doc(split_model, doc_string=False)"
   ]
  },
  {
   "cell_type": "markdown",
   "metadata": {},
   "source": [
    "Splits the `model` according to the layer in `splits`. If `splits` are layers, the model is split at those (not included) sequentially. If `want_idxs` is True, the corresponding indexes are returned. If `splits` are lists of layers, the model is split according to those."
   ]
  },
  {
   "cell_type": "code",
   "execution_count": null,
   "metadata": {
    "hide_input": true
   },
   "outputs": [
    {
     "data": {
      "text/markdown": [
       "<h4 id=\"split_model_idx\"><code>split_model_idx</code><a href=\"https://github.com/fastai/fastai/blob/master/fastai/torch_core.py#L127\" class=\"source_link\">[source]</a></h4>\n",
       "\n",
       "> <code>split_model_idx</code>(`model`:[`Module`](https://pytorch.org/docs/stable/nn.html#torch.nn.Module), `idxs`:`Collection`\\[`int`\\]) → `ModuleList`\n",
       "\n",
       "Split `model` according to the indices in `idxs`.  "
      ],
      "text/plain": [
       "<IPython.core.display.Markdown object>"
      ]
     },
     "metadata": {},
     "output_type": "display_data"
    }
   ],
   "source": [
    "show_doc(split_model_idx)"
   ]
  },
  {
   "cell_type": "code",
   "execution_count": null,
   "metadata": {
    "hide_input": true
   },
   "outputs": [
    {
     "data": {
      "text/markdown": [
       "<h4 id=\"trange_of\"><code>trange_of</code><a href=\"https://github.com/fastai/fastai/blob/master/fastai/torch_core.py#L222\" class=\"source_link\">[source]</a></h4>\n",
       "\n",
       "> <code>trange_of</code>(`x`)"
      ],
      "text/plain": [
       "<IPython.core.display.Markdown object>"
      ]
     },
     "metadata": {},
     "output_type": "display_data"
    }
   ],
   "source": [
    "show_doc(trange_of)"
   ]
  },
  {
   "cell_type": "markdown",
   "metadata": {},
   "source": [
    "Return a tensor from a range that has the same length as `x`."
   ]
  },
  {
   "cell_type": "markdown",
   "metadata": {},
   "source": [
    "## Undocumented Methods - Methods moved below this line will intentionally be hidden"
   ]
  },
  {
   "cell_type": "code",
   "execution_count": null,
   "metadata": {},
   "outputs": [
    {
     "data": {
      "text/markdown": [
       "<h4 id=\"tensor__array__\"><code>tensor__array__</code><a href=\"https://github.com/fastai/fastai/blob/master/fastai/torch_core.py#L227\" class=\"source_link\">[source]</a></h4>\n",
       "\n",
       "> <code>tensor__array__</code>(`dtype`=`None`)"
      ],
      "text/plain": [
       "<IPython.core.display.Markdown object>"
      ]
     },
     "metadata": {},
     "output_type": "display_data"
    }
   ],
   "source": [
    "show_doc(tensor__array__)"
   ]
  },
  {
   "cell_type": "markdown",
   "metadata": {},
   "source": [
    "## New Methods - Please document or move to the undocumented section"
   ]
  }
 ],
 "metadata": {
  "jekyll": {
   "keywords": "fastai",
   "summary": "Basic functions using pytorch",
   "title": "torch_core"
  },
  "kernelspec": {
   "display_name": "Python 3",
   "language": "python",
   "name": "python3"
  }
 },
 "nbformat": 4,
 "nbformat_minor": 2
}

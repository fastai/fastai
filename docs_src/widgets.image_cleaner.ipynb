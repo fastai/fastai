{
 "cells": [
  {
   "cell_type": "markdown",
   "metadata": {},
   "source": [
    "# widgets.image_cleaner"
   ]
  },
  {
   "cell_type": "markdown",
   "metadata": {},
   "source": [
    "fastai offers several widgets to support the workflow of a deep learning practitioner. The purpose of the widgets are to help you organize, clean, and prepare your data for your model. Widgets are separated by data type."
   ]
  },
  {
   "cell_type": "code",
   "execution_count": null,
   "metadata": {
    "hide_input": true
   },
   "outputs": [],
   "source": [
    "from fastai.vision import *\n",
    "from fastai.widgets import DatasetFormatter, ImageCleaner, ImageDownloader, download_google_images\n",
    "from fastai.gen_doc.nbdoc import *"
   ]
  },
  {
   "cell_type": "code",
   "execution_count": null,
   "metadata": {
    "hide_input": true
   },
   "outputs": [],
   "source": [
    "%reload_ext autoreload\n",
    "%autoreload 2"
   ]
  },
  {
   "cell_type": "code",
   "execution_count": null,
   "metadata": {},
   "outputs": [],
   "source": [
    "path = untar_data(URLs.MNIST_SAMPLE)\n",
    "data = ImageDataBunch.from_folder(path)"
   ]
  },
  {
   "cell_type": "code",
   "execution_count": null,
   "metadata": {},
   "outputs": [],
   "source": [
    "learn = create_cnn(data, models.resnet18, metrics=error_rate)"
   ]
  },
  {
   "cell_type": "code",
   "execution_count": null,
   "metadata": {},
   "outputs": [
    {
     "data": {
      "text/html": [
       "Total time: 00:17 <p><table style='width:300px; margin-bottom:10px'>\n",
       "  <tr>\n",
       "    <th>epoch</th>\n",
       "    <th>train_loss</th>\n",
       "    <th>valid_loss</th>\n",
       "    <th>error_rate</th>\n",
       "  </tr>\n",
       "  <tr>\n",
       "    <th>1</th>\n",
       "    <th>0.177752</th>\n",
       "    <th>0.090373</th>\n",
       "    <th>0.031403</th>\n",
       "  </tr>\n",
       "  <tr>\n",
       "    <th>2</th>\n",
       "    <th>0.098948</th>\n",
       "    <th>0.074092</th>\n",
       "    <th>0.026006</th>\n",
       "  </tr>\n",
       "</table>\n"
      ],
      "text/plain": [
       "<IPython.core.display.HTML object>"
      ]
     },
     "metadata": {},
     "output_type": "display_data"
    }
   ],
   "source": [
    "learn.fit_one_cycle(2)"
   ]
  },
  {
   "cell_type": "code",
   "execution_count": null,
   "metadata": {},
   "outputs": [],
   "source": [
    "learn.save('stage-1')"
   ]
  },
  {
   "cell_type": "markdown",
   "metadata": {},
   "source": [
    "We create a databunch with all the data in the training set and no validation set (DatasetFormatter uses only the training set)"
   ]
  },
  {
   "cell_type": "code",
   "execution_count": null,
   "metadata": {},
   "outputs": [],
   "source": [
    "db = (ImageItemList.from_folder(path)\n",
    "                   .no_split()\n",
    "                   .label_from_folder()\n",
    "                   .databunch())"
   ]
  },
  {
   "cell_type": "code",
   "execution_count": null,
   "metadata": {},
   "outputs": [],
   "source": [
    "learn = create_cnn(db, models.resnet18, metrics=[accuracy])\n",
    "learn.load('stage-1');"
   ]
  },
  {
   "cell_type": "code",
   "execution_count": null,
   "metadata": {
    "hide_input": true
   },
   "outputs": [
    {
     "data": {
      "text/markdown": [
       "<h2 id=\"DatasetFormatter\"><code>class</code> <code>DatasetFormatter</code><a href=\"https://github.com/fastai/fastai/blob/master/fastai/widgets/image_cleaner.py#L14\" class=\"source_link\">[source]</a></h2>\n",
       "\n",
       "> <code>DatasetFormatter</code>()\n",
       "\n",
       "Returns a dataset with the appropriate format and file indices to be displayed.  "
      ],
      "text/plain": [
       "<IPython.core.display.Markdown object>"
      ]
     },
     "metadata": {},
     "output_type": "display_data"
    }
   ],
   "source": [
    "show_doc(DatasetFormatter)"
   ]
  },
  {
   "cell_type": "markdown",
   "metadata": {},
   "source": [
    "The [`DatasetFormatter`](/widgets.image_cleaner.html#DatasetFormatter) class prepares your image dataset for widgets by returning a formatted [`DatasetTfm`](/vision.data.html#DatasetTfm) based on the [`DatasetType`](/basic_data.html#DatasetType) specified. Use `from_toplosses` to grab the most problematic images directly from your learner. Optionally, you can restrict the formatted dataset returned to `n_imgs`."
   ]
  },
  {
   "cell_type": "code",
   "execution_count": null,
   "metadata": {
    "hide_input": true
   },
   "outputs": [
    {
     "data": {
      "text/markdown": [
       "<h4 id=\"DatasetFormatter.from_similars\"><code>from_similars</code><a href=\"https://github.com/fastai/fastai/blob/master/fastai/widgets/image_cleaner.py#L35\" class=\"source_link\">[source]</a></h4>\n",
       "\n",
       "> <code>from_similars</code>(<b>`learn`</b>, <b>`layer_ls`</b>:`list`=<b><i>`[0, 7, 2]`</i></b>, <b>`kwargs`</b>)\n",
       "\n",
       "Gets the indices for the most similar images.  "
      ],
      "text/plain": [
       "<IPython.core.display.Markdown object>"
      ]
     },
     "metadata": {},
     "output_type": "display_data"
    }
   ],
   "source": [
    "show_doc(DatasetFormatter.from_similars)"
   ]
  },
  {
   "cell_type": "code",
   "execution_count": null,
   "metadata": {
    "hide_input": true
   },
   "outputs": [],
   "source": [
    "from fastai.gen_doc.nbdoc import *\n",
    "from fastai.widgets.image_cleaner import * "
   ]
  },
  {
   "cell_type": "code",
   "execution_count": null,
   "metadata": {
    "hide_input": true
   },
   "outputs": [
    {
     "data": {
      "text/markdown": [
       "<h4 id=\"DatasetFormatter.from_toplosses\"><code>from_toplosses</code><a href=\"https://github.com/fastai/fastai/blob/master/fastai/widgets/image_cleaner.py#L16\" class=\"source_link\">[source]</a></h4>\n",
       "\n",
       "> <code>from_toplosses</code>(<b>`learn`</b>, <b>`n_imgs`</b>=<b><i>`None`</i></b>, <b>`kwargs`</b>)\n",
       "\n",
       "Gets indices with top losses.  "
      ],
      "text/plain": [
       "<IPython.core.display.Markdown object>"
      ]
     },
     "metadata": {},
     "output_type": "display_data"
    }
   ],
   "source": [
    "show_doc(DatasetFormatter.from_toplosses)"
   ]
  },
  {
   "cell_type": "code",
   "execution_count": null,
   "metadata": {
    "hide_input": true
   },
   "outputs": [
    {
     "data": {
      "text/markdown": [
       "<h2 id=\"ImageCleaner\"><code>class</code> <code>ImageCleaner</code><a href=\"https://github.com/fastai/fastai/blob/master/fastai/widgets/image_cleaner.py#L96\" class=\"source_link\">[source]</a></h2>\n",
       "\n",
       "> <code>ImageCleaner</code>(<b>`dataset`</b>, <b>`fns_idxs`</b>, <b>`path`</b>, <b>`batch_size`</b>:`int`=<b><i>`5`</i></b>, <b>`duplicates`</b>=<b><i>`False`</i></b>)\n",
       "\n",
       "Displays images for relabeling or deletion and saves changes in `path` as 'cleaned.csv'.  "
      ],
      "text/plain": [
       "<IPython.core.display.Markdown object>"
      ]
     },
     "metadata": {},
     "output_type": "display_data"
    }
   ],
   "source": [
    "show_doc(ImageCleaner)"
   ]
  },
  {
   "cell_type": "markdown",
   "metadata": {},
   "source": [
    "[`ImageCleaner`](/widgets.image_cleaner.html#ImageCleaner) is for cleaning up images that don't belong in your dataset. It renders images in a row and gives you the opportunity to delete the file from your file system. To use [`ImageCleaner`](/widgets.image_cleaner.html#ImageCleaner) we must first use `DatasetFormatter().from_toplosses` to get the suggested indices for misclassified images."
   ]
  },
  {
   "cell_type": "code",
   "execution_count": null,
   "metadata": {},
   "outputs": [],
   "source": [
    "ds, idxs = DatasetFormatter().from_toplosses(learn)"
   ]
  },
  {
   "cell_type": "code",
   "execution_count": null,
   "metadata": {},
   "outputs": [
    {
     "data": {
      "application/vnd.jupyter.widget-view+json": {
       "model_id": "ba8d7fc468554c0393a6bb54ec8c15ab",
       "version_major": 2,
       "version_minor": 0
      },
      "text/plain": [
       "HBox(children=(VBox(children=(Image(value=b'\\xff\\xd8\\xff\\xe0\\x00\\x10JFIF\\x00\\x01\\x01\\x01\\x00d\\x00d\\x00\\x00\\xff…"
      ]
     },
     "metadata": {},
     "output_type": "display_data"
    },
    {
     "data": {
      "application/vnd.jupyter.widget-view+json": {
       "model_id": "586a012eab224edd88caebd8234d6ff1",
       "version_major": 2,
       "version_minor": 0
      },
      "text/plain": [
       "Button(button_style='primary', description='Next Batch', layout=Layout(width='auto'), style=ButtonStyle())"
      ]
     },
     "metadata": {},
     "output_type": "display_data"
    },
    {
     "data": {
      "text/plain": [
       "<fastai.widgets.image_cleaner.ImageCleaner at 0x7fcfb3d910b8>"
      ]
     },
     "execution_count": null,
     "metadata": {},
     "output_type": "execute_result"
    }
   ],
   "source": [
    "ImageCleaner(ds, idxs, path)"
   ]
  },
  {
   "cell_type": "markdown",
   "metadata": {},
   "source": [
    "[`ImageCleaner`](/widgets.image_cleaner.html#ImageCleaner) does not change anything on disk (neither labels or existence of images). Instead, it creates a 'cleaned.csv' file in your data path from which you need to load your new databunch for the files to changes to be applied. "
   ]
  },
  {
   "cell_type": "code",
   "execution_count": null,
   "metadata": {},
   "outputs": [],
   "source": [
    "df = pd.read_csv(path/'cleaned.csv', header='infer')"
   ]
  },
  {
   "cell_type": "code",
   "execution_count": null,
   "metadata": {},
   "outputs": [],
   "source": [
    "# We create a databunch from our csv. We include the data in the training set and we don't use a validation set (DatasetFormatter uses only the training set)\n",
    "np.random.seed(42)\n",
    "db = (ImageItemList.from_df(df, path)\n",
    "                   .no_split()\n",
    "                   .label_from_df()\n",
    "                   .databunch(bs=64))"
   ]
  },
  {
   "cell_type": "code",
   "execution_count": null,
   "metadata": {},
   "outputs": [],
   "source": [
    "learn = create_cnn(db, models.resnet18, metrics=error_rate)\n",
    "learn = learn.load('stage-1')"
   ]
  },
  {
   "cell_type": "markdown",
   "metadata": {},
   "source": [
    "You can then use [`ImageCleaner`](/widgets.image_cleaner.html#ImageCleaner) again to find duplicates in the dataset. To do this, you can specify `duplicates=True` while calling ImageCleaner after getting the indices and dataset from `.from_similars`. Note that if you are using a layer's output which has dimensions <code>(n_batches, n_features, 1, 1)</code> then you don't need any pooling (this is the case with the last layer). The suggested use of `.from_similars()` with resnets is using the last layer and no pooling, like in the following cell."
   ]
  },
  {
   "cell_type": "code",
   "execution_count": null,
   "metadata": {},
   "outputs": [
    {
     "name": "stdout",
     "output_type": "stream",
     "text": [
      "Getting activations...\n"
     ]
    },
    {
     "data": {
      "text/html": [
       "\n",
       "    <div>\n",
       "        <style>\n",
       "            /* Turns off some styling */\n",
       "            progress {\n",
       "                /* gets rid of default border in Firefox and Opera. */\n",
       "                border: none;\n",
       "                /* Needs to be in here for Safari polyfill so background images work as expected. */\n",
       "                background-size: auto;\n",
       "            }\n",
       "            .progress-bar-interrupted, .progress-bar-interrupted::-webkit-progress-bar {\n",
       "                background: #F44336;\n",
       "            }\n",
       "        </style>\n",
       "      <progress value='226' class='' max='226', style='width:300px; height:20px; vertical-align: middle;'></progress>\n",
       "      100.00% [226/226 00:03<00:00]\n",
       "    </div>\n",
       "    "
      ],
      "text/plain": [
       "<IPython.core.display.HTML object>"
      ]
     },
     "metadata": {},
     "output_type": "display_data"
    },
    {
     "name": "stdout",
     "output_type": "stream",
     "text": [
      "Computing similarities...\n"
     ]
    }
   ],
   "source": [
    "ds, idxs = DatasetFormatter().from_similars(learn, layer_ls=[0,7,1], pool=None)"
   ]
  },
  {
   "cell_type": "code",
   "execution_count": null,
   "metadata": {},
   "outputs": [
    {
     "data": {
      "application/vnd.jupyter.widget-view+json": {
       "model_id": "ec073abbc0234c3b9d8ab9cc41d0e0c2",
       "version_major": 2,
       "version_minor": 0
      },
      "text/plain": [
       "HBox(children=(VBox(children=(Image(value=b'\\xff\\xd8\\xff\\xe0\\x00\\x10JFIF\\x00\\x01\\x01\\x01\\x00d\\x00d\\x00\\x00\\xff…"
      ]
     },
     "metadata": {},
     "output_type": "display_data"
    },
    {
     "data": {
      "application/vnd.jupyter.widget-view+json": {
       "model_id": "2f83a797f31a41d9af7b41faa05c90eb",
       "version_major": 2,
       "version_minor": 0
      },
      "text/plain": [
       "Button(button_style='primary', description='Next Batch', layout=Layout(width='auto'), style=ButtonStyle())"
      ]
     },
     "metadata": {},
     "output_type": "display_data"
    },
    {
     "data": {
      "text/plain": [
       "<fastai.widgets.image_cleaner.ImageCleaner at 0x7fcfb3ae7908>"
      ]
     },
     "execution_count": null,
     "metadata": {},
     "output_type": "execute_result"
    }
   ],
   "source": [
    "ImageCleaner(ds, idxs, path, duplicates=True)"
   ]
  },
  {
   "cell_type": "code",
   "execution_count": null,
   "metadata": {},
   "outputs": [
    {
     "data": {
      "text/markdown": [
       "<h2 id=\"ImageDownloader\"><code>class</code> <code>ImageDownloader</code><a href=\"https://github.com/fastai/fastai/blob/master/fastai/widgets/image_downloader.py#L16\" class=\"source_link\">[source]</a></h2>\n",
       "\n",
       "> <code>ImageDownloader</code>(<b>`path`</b>:`PathOrStr`=<b><i>`'data'`</i></b>)\n",
       "\n",
       "Displays a widget that allows searching and downloading images from google images search in a Jupyter Notebook or Lab. "
      ],
      "text/plain": [
       "<IPython.core.display.Markdown object>"
      ]
     },
     "metadata": {},
     "output_type": "display_data"
    }
   ],
   "source": [
    "show_doc(ImageDownloader)"
   ]
  },
  {
   "cell_type": "markdown",
   "metadata": {},
   "source": [
    "[`ImageDownloader`](/widgets.image_downloader.html#ImageDownloader) widget gives you a way to quickly bootstrap your image dataset without leaving the notebook. It searches and downloads images that match the search criteria and resolution / quality requirements and stores them on your filesystem within the provided `path`.\n",
    "\n",
    "Images for each search query (or label) are stored in a separate folder within `path`. For example, if you pupulate `tiger` with a `path` setup to `./data`, you'll get a folder `./data/tiger/` with the tiger images in it.\n",
    "\n",
    "[`ImageDownloader`](/widgets.image_downloader.html#ImageDownloader) will automatically clean up and verify the downloaded images with [`verify_images()`](/vision.data.html#verify_images) after downloading them."
   ]
  },
  {
   "cell_type": "code",
   "execution_count": null,
   "metadata": {},
   "outputs": [
    {
     "data": {
      "application/vnd.jupyter.widget-view+json": {
       "model_id": "8cfd13606c9c44eea058119f991ceb76",
       "version_major": 2,
       "version_minor": 0
      },
      "text/plain": [
       "VBox(children=(HBox(children=(Text(value='', placeholder='What images to search for?'), BoundedIntText(value=1…"
      ]
     },
     "metadata": {},
     "output_type": "display_data"
    },
    {
     "data": {
      "text/plain": [
       "<fastai.widgets.image_downloader.ImageDownloader at 0x1a31435dd8>"
      ]
     },
     "execution_count": null,
     "metadata": {},
     "output_type": "execute_result"
    }
   ],
   "source": [
    "path = Config.data_path()/'image_downloader'\n",
    "os.makedirs(path, exist_ok=True)\n",
    "ImageDownloader(path)"
   ]
  },
  {
   "cell_type": "markdown",
   "metadata": {},
   "source": [
    "#### Downloading images in python scripts outside Jupyter notebooks"
   ]
  },
  {
   "cell_type": "code",
   "execution_count": null,
   "metadata": {},
   "outputs": [
    {
     "data": {
      "text/html": [
       "\n",
       "    <div>\n",
       "        <style>\n",
       "            /* Turns off some styling */\n",
       "            progress {\n",
       "                /* gets rid of default border in Firefox and Opera. */\n",
       "                border: none;\n",
       "                /* Needs to be in here for Safari polyfill so background images work as expected. */\n",
       "                background-size: auto;\n",
       "            }\n",
       "            .progress-bar-interrupted, .progress-bar-interrupted::-webkit-progress-bar {\n",
       "                background: #F44336;\n",
       "            }\n",
       "        </style>\n",
       "      <progress value='30' class='' max='30', style='width:300px; height:20px; vertical-align: middle;'></progress>\n",
       "      100.00% [30/30 00:00<00:00]\n",
       "    </div>\n",
       "    "
      ],
      "text/plain": [
       "<IPython.core.display.HTML object>"
      ]
     },
     "metadata": {},
     "output_type": "display_data"
    },
    {
     "data": {
      "text/html": [
       "\n",
       "    <div>\n",
       "        <style>\n",
       "            /* Turns off some styling */\n",
       "            progress {\n",
       "                /* gets rid of default border in Firefox and Opera. */\n",
       "                border: none;\n",
       "                /* Needs to be in here for Safari polyfill so background images work as expected. */\n",
       "                background-size: auto;\n",
       "            }\n",
       "            .progress-bar-interrupted, .progress-bar-interrupted::-webkit-progress-bar {\n",
       "                background: #F44336;\n",
       "            }\n",
       "        </style>\n",
       "      <progress value='30' class='' max='30', style='width:300px; height:20px; vertical-align: middle;'></progress>\n",
       "      100.00% [30/30 00:00<00:00]\n",
       "    </div>\n",
       "    "
      ],
      "text/plain": [
       "<IPython.core.display.HTML object>"
      ]
     },
     "metadata": {},
     "output_type": "display_data"
    },
    {
     "name": "stdout",
     "output_type": "stream",
     "text": [
      "cannot identify image file <_io.BufferedReader name='/Users/xnutsive/.fastai/data/image_downloader_data/aussie shepherd/00000015.jpg'>\n"
     ]
    },
    {
     "data": {
      "text/plain": [
       "29"
      ]
     },
     "execution_count": null,
     "metadata": {},
     "output_type": "execute_result"
    }
   ],
   "source": [
    "path = Config.data_path()/'image_downloader'\n",
    "files = download_google_images(path, 'aussie shepherd', size='>1024*768', n_images=30)\n",
    "\n",
    "len(files)"
   ]
  },
  {
   "cell_type": "code",
   "execution_count": null,
   "metadata": {
    "hide_input": true
   },
   "outputs": [
    {
     "data": {
      "text/markdown": [
       "<h4 id=\"download_google_images\"><code>download_google_images</code><a href=\"https://github.com/fastai/fastai/blob/master/fastai/widgets/image_downloader.py#L78\" class=\"source_link\">[source]</a></h4>\n",
       "\n",
       "> <code>download_google_images</code>(<b>`path`</b>:`PathOrStr`, <b>`search_term`</b>:`str`, <b>`size`</b>:`str`=<b><i>`'>400*300'`</i></b>, <b>`n_images`</b>:`int`=<b><i>`10`</i></b>, <b>`format`</b>:`str`=<b><i>`'jpg'`</i></b>, <b>`max_workers`</b>:`int`=<b><i>`8`</i></b>, <b>`timeout`</b>:`int`=<b><i>`4`</i></b>) → `FilePathList`\n",
       "\n",
       "Search for `n_images` images on Google, matching `search_term` and `size` requirements, download them into `path`/`search_term` and verify them, using `max_workers` threads. "
      ],
      "text/plain": [
       "<IPython.core.display.Markdown object>"
      ]
     },
     "metadata": {},
     "output_type": "display_data"
    }
   ],
   "source": [
    "show_doc(download_google_images)"
   ]
  },
  {
   "cell_type": "markdown",
   "metadata": {},
   "source": [
    "After populating images with [`ImageDownloader`](/widgets.image_downloader.html#ImageDownloader), you can get a an [`ImageDataBunch`](/vision.data.html#ImageDataBunch) by calling `ImageDataBunch.from_folder(path, size=size)`, or using the data block API."
   ]
  },
  {
   "cell_type": "code",
   "execution_count": null,
   "metadata": {},
   "outputs": [],
   "source": [
    "# Setup path and labels to search for\n",
    "path = Config.data_path()/'image_downloader'\n",
    "labels = ['boston terrier', 'french bulldog']\n",
    "\n",
    "# Download images\n",
    "for label in labels: \n",
    "    download_google_images(path, label, size='>400*300', n_images=50)\n",
    "\n",
    "# Build a databunch and train! \n",
    "src = (ImageItemList.from_folder(path)\n",
    "       .random_split_by_pct()\n",
    "       .label_from_folder()\n",
    "       .transform(get_transforms(), size=224))\n",
    "\n",
    "db  = src.databunch(bs=16, num_workers=0)\n",
    "\n",
    "learn = create_cnn(db, models.resnet34, metrics=[accuracy])\n",
    "learn.fit_one_cycle(3)"
   ]
  },
  {
   "cell_type": "markdown",
   "metadata": {},
   "source": [
    "#### Downloading more than a hundred images\n",
    "\n",
    "To fetch more than a hundred images, [`ImageDownloader`](/widgets.image_downloader.html#ImageDownloader) uses `selenium` and `chromedriver` to scroll through the Google Images search results page and scrape image URLs. They're not required as dependencies by default. If you don't have them installed on your system, the widget will show you an error message.\n",
    "\n",
    "To install `selenium`, just `pip install selenium` in your fastai environment.\n",
    "\n",
    "**On a mac**, you can install `chromedriver` with `brew cask install chromedriver`.\n",
    "\n",
    "**On Ubuntu**\n",
    "Take a look at the latest Chromedriver version available, then something like:\n",
    "\n",
    "```\n",
    "wget https://chromedriver.storage.googleapis.com/2.45/chromedriver_linux64.zip\n",
    "unzip chromedriver_linux64.zip\n",
    "```"
   ]
  },
  {
   "cell_type": "markdown",
   "metadata": {},
   "source": [
    "Note that downloading under 100 images doesn't require any dependencies other than fastai itself, however downloading more than a hundred images [uses `selenium` and `chromedriver`](/widgets.image_cleaner.html#Downloading-more-than-a-hundred-images).\n",
    "\n",
    "`size` can be one of:\n",
    "\n",
    "```\n",
    "'>400*300'\n",
    "'>640*480'\n",
    "'>800*600'\n",
    "'>1024*768'\n",
    "'>2MP'\n",
    "'>4MP'\n",
    "'>6MP'\n",
    "'>8MP'\n",
    "'>10MP'\n",
    "'>12MP'\n",
    "'>15MP'\n",
    "'>20MP'\n",
    "'>40MP'\n",
    "'>70MP'\n",
    "```"
   ]
  },
  {
   "cell_type": "markdown",
   "metadata": {},
   "source": [
    "## Methods"
   ]
  },
  {
   "cell_type": "markdown",
   "metadata": {},
   "source": [
    "## Undocumented Methods - Methods moved below this line will intentionally be hidden"
   ]
  },
  {
   "cell_type": "code",
   "execution_count": null,
   "metadata": {
    "hide_input": true
   },
   "outputs": [
    {
     "data": {
      "text/markdown": [
       "<h4 id=\"ImageCleaner.make_dropdown_widget\"><code>make_dropdown_widget</code><a href=\"https://github.com/fastai/fastai/blob/master/fastai/widgets/image_cleaner.py#L126\" class=\"source_link\">[source]</a></h4>\n",
       "\n",
       "> <code>make_dropdown_widget</code>(<b>`description`</b>=<b><i>`'Description'`</i></b>, <b>`options`</b>=<b><i>`['Label 1', 'Label 2']`</i></b>, <b>`value`</b>=<b><i>`'Label 1'`</i></b>, <b>`file_path`</b>=<b><i>`None`</i></b>, <b>`layout`</b>=<b><i>`Layout()`</i></b>, <b>`handler`</b>=<b><i>`None`</i></b>)\n",
       "\n",
       "Return a Dropdown widget with specified `handler`.  "
      ],
      "text/plain": [
       "<IPython.core.display.Markdown object>"
      ]
     },
     "metadata": {},
     "output_type": "display_data"
    }
   ],
   "source": [
    "show_doc(ImageCleaner.make_dropdown_widget)"
   ]
  },
  {
   "cell_type": "code",
   "execution_count": null,
   "metadata": {
    "hide_input": true
   },
   "outputs": [
    {
     "data": {
      "text/markdown": [
       "<h4 id=\"ImageCleaner.next_batch\"><code>next_batch</code><a href=\"https://github.com/fastai/fastai/blob/master/fastai/widgets/image_cleaner.py#L164\" class=\"source_link\">[source]</a></h4>\n",
       "\n",
       "> <code>next_batch</code>(<b>`_`</b>)\n",
       "\n",
       "Handler for 'Next Batch' button click. Delete all flagged images and renders next batch.  "
      ],
      "text/plain": [
       "<IPython.core.display.Markdown object>"
      ]
     },
     "metadata": {},
     "output_type": "display_data"
    }
   ],
   "source": [
    "show_doc(ImageCleaner.next_batch)"
   ]
  },
  {
   "cell_type": "markdown",
   "metadata": {},
   "source": []
  },
  {
   "cell_type": "code",
   "execution_count": null,
   "metadata": {
    "hide_input": true
   },
   "outputs": [
    {
     "data": {
      "text/markdown": [
       "<h4 id=\"DatasetFormatter.sort_idxs\"><code>sort_idxs</code><a href=\"https://github.com/fastai/fastai/blob/master/fastai/widgets/image_cleaner.py#L89\" class=\"source_link\">[source]</a></h4>\n",
       "\n",
       "> <code>sort_idxs</code>(<b>`similarities`</b>)\n",
       "\n",
       "Sorts `similarities` and return the indexes in pairs ordered by highest similarity.  "
      ],
      "text/plain": [
       "<IPython.core.display.Markdown object>"
      ]
     },
     "metadata": {},
     "output_type": "display_data"
    }
   ],
   "source": [
    "show_doc(DatasetFormatter.sort_idxs)"
   ]
  },
  {
   "cell_type": "markdown",
   "metadata": {},
   "source": []
  },
  {
   "cell_type": "code",
   "execution_count": null,
   "metadata": {
    "hide_input": true
   },
   "outputs": [
    {
     "data": {
      "text/markdown": [
       "<h4 id=\"ImageCleaner.make_vertical_box\"><code>make_vertical_box</code><a href=\"https://github.com/fastai/fastai/blob/master/fastai/widgets/image_cleaner.py#L140\" class=\"source_link\">[source]</a></h4>\n",
       "\n",
       "> <code>make_vertical_box</code>(<b>`children`</b>, <b>`layout`</b>=<b><i>`Layout()`</i></b>, <b>`duplicates`</b>=<b><i>`False`</i></b>)\n",
       "\n",
       "Make a vertical box with [`children`](/torch_core.html#children) and `layout`.  "
      ],
      "text/plain": [
       "<IPython.core.display.Markdown object>"
      ]
     },
     "metadata": {},
     "output_type": "display_data"
    }
   ],
   "source": [
    "show_doc(ImageCleaner.make_vertical_box)"
   ]
  },
  {
   "cell_type": "markdown",
   "metadata": {},
   "source": []
  },
  {
   "cell_type": "code",
   "execution_count": null,
   "metadata": {
    "hide_input": true
   },
   "outputs": [
    {
     "data": {
      "text/markdown": [
       "<h4 id=\"ImageCleaner.relabel\"><code>relabel</code><a href=\"https://github.com/fastai/fastai/blob/master/fastai/widgets/image_cleaner.py#L157\" class=\"source_link\">[source]</a></h4>\n",
       "\n",
       "> <code>relabel</code>(<b>`change`</b>)\n",
       "\n",
       "Relabel images by moving from parent dir with old label `class_old` to parent dir with new label `class_new`.  "
      ],
      "text/plain": [
       "<IPython.core.display.Markdown object>"
      ]
     },
     "metadata": {},
     "output_type": "display_data"
    }
   ],
   "source": [
    "show_doc(ImageCleaner.relabel)"
   ]
  },
  {
   "cell_type": "markdown",
   "metadata": {},
   "source": []
  },
  {
   "cell_type": "code",
   "execution_count": null,
   "metadata": {
    "hide_input": true
   },
   "outputs": [
    {
     "data": {
      "text/markdown": [
       "<h4 id=\"DatasetFormatter.largest_indices\"><code>largest_indices</code><a href=\"https://github.com/fastai/fastai/blob/master/fastai/widgets/image_cleaner.py#L81\" class=\"source_link\">[source]</a></h4>\n",
       "\n",
       "> <code>largest_indices</code>(<b>`arr`</b>, <b>`n`</b>)\n",
       "\n",
       "Returns the `n` largest indices from a numpy array `arr`.  "
      ],
      "text/plain": [
       "<IPython.core.display.Markdown object>"
      ]
     },
     "metadata": {},
     "output_type": "display_data"
    }
   ],
   "source": [
    "show_doc(DatasetFormatter.largest_indices)"
   ]
  },
  {
   "cell_type": "markdown",
   "metadata": {},
   "source": []
  },
  {
   "cell_type": "code",
   "execution_count": null,
   "metadata": {
    "hide_input": true
   },
   "outputs": [
    {
     "data": {
      "text/markdown": [
       "<h4 id=\"ImageCleaner.delete_image\"><code>delete_image</code><a href=\"https://github.com/fastai/fastai/blob/master/fastai/widgets/image_cleaner.py#L182\" class=\"source_link\">[source]</a></h4>\n",
       "\n",
       "> <code>delete_image</code>(<b>`file_path`</b>)"
      ],
      "text/plain": [
       "<IPython.core.display.Markdown object>"
      ]
     },
     "metadata": {},
     "output_type": "display_data"
    }
   ],
   "source": [
    "show_doc(ImageCleaner.delete_image)"
   ]
  },
  {
   "cell_type": "markdown",
   "metadata": {},
   "source": []
  },
  {
   "cell_type": "code",
   "execution_count": null,
   "metadata": {
    "hide_input": true
   },
   "outputs": [
    {
     "data": {
      "text/markdown": [
       "<h4 id=\"ImageCleaner.empty\"><code>empty</code><a href=\"https://github.com/fastai/fastai/blob/master/fastai/widgets/image_cleaner.py#L185\" class=\"source_link\">[source]</a></h4>\n",
       "\n",
       "> <code>empty</code>()"
      ],
      "text/plain": [
       "<IPython.core.display.Markdown object>"
      ]
     },
     "metadata": {},
     "output_type": "display_data"
    }
   ],
   "source": [
    "show_doc(ImageCleaner.empty)"
   ]
  },
  {
   "cell_type": "markdown",
   "metadata": {},
   "source": []
  },
  {
   "cell_type": "code",
   "execution_count": null,
   "metadata": {
    "hide_input": true
   },
   "outputs": [
    {
     "data": {
      "text/markdown": [
       "<h4 id=\"ImageCleaner.empty_batch\"><code>empty_batch</code><a href=\"https://github.com/fastai/fastai/blob/master/fastai/widgets/image_cleaner.py#L180\" class=\"source_link\">[source]</a></h4>\n",
       "\n",
       "> <code>empty_batch</code>()"
      ],
      "text/plain": [
       "<IPython.core.display.Markdown object>"
      ]
     },
     "metadata": {},
     "output_type": "display_data"
    }
   ],
   "source": [
    "show_doc(ImageCleaner.empty_batch)"
   ]
  },
  {
   "cell_type": "markdown",
   "metadata": {},
   "source": []
  },
  {
   "cell_type": "code",
   "execution_count": null,
   "metadata": {
    "hide_input": true
   },
   "outputs": [
    {
     "data": {
      "text/markdown": [
       "<h4 id=\"DatasetFormatter.comb_similarity\"><code>comb_similarity</code><a href=\"https://github.com/fastai/fastai/blob/master/fastai/widgets/image_cleaner.py#L70\" class=\"source_link\">[source]</a></h4>\n",
       "\n",
       "> <code>comb_similarity</code>(<b>`t1`</b>:`Tensor`, <b>`t2`</b>:`Tensor`, <b>`kwargs`</b>)\n",
       "\n",
       "Computes the similarity function between each embedding of `t1` and `t2` matrices.  "
      ],
      "text/plain": [
       "<IPython.core.display.Markdown object>"
      ]
     },
     "metadata": {},
     "output_type": "display_data"
    }
   ],
   "source": [
    "show_doc(DatasetFormatter.comb_similarity)"
   ]
  },
  {
   "cell_type": "markdown",
   "metadata": {},
   "source": []
  },
  {
   "cell_type": "code",
   "execution_count": null,
   "metadata": {
    "hide_input": true
   },
   "outputs": [
    {
     "data": {
      "text/markdown": [
       "<h4 id=\"ImageCleaner.get_widgets\"><code>get_widgets</code><a href=\"https://github.com/fastai/fastai/blob/master/fastai/widgets/image_cleaner.py#L188\" class=\"source_link\">[source]</a></h4>\n",
       "\n",
       "> <code>get_widgets</code>(<b>`duplicates`</b>)\n",
       "\n",
       "Create and format widget set.  "
      ],
      "text/plain": [
       "<IPython.core.display.Markdown object>"
      ]
     },
     "metadata": {},
     "output_type": "display_data"
    }
   ],
   "source": [
    "show_doc(ImageCleaner.get_widgets)"
   ]
  },
  {
   "cell_type": "markdown",
   "metadata": {},
   "source": []
  },
  {
   "cell_type": "code",
   "execution_count": null,
   "metadata": {
    "hide_input": true
   },
   "outputs": [
    {
     "data": {
      "text/markdown": [
       "<h4 id=\"ImageCleaner.write_csv\"><code>write_csv</code><a href=\"https://github.com/fastai/fastai/blob/master/fastai/widgets/image_cleaner.py#L208\" class=\"source_link\">[source]</a></h4>\n",
       "\n",
       "> <code>write_csv</code>()"
      ],
      "text/plain": [
       "<IPython.core.display.Markdown object>"
      ]
     },
     "metadata": {},
     "output_type": "display_data"
    }
   ],
   "source": [
    "show_doc(ImageCleaner.write_csv)"
   ]
  },
  {
   "cell_type": "markdown",
   "metadata": {},
   "source": []
  },
  {
   "cell_type": "code",
   "execution_count": null,
   "metadata": {
    "hide_input": true
   },
   "outputs": [
    {
     "data": {
      "text/markdown": [
       "<h4 id=\"ImageCleaner.create_image_list\"><code>create_image_list</code><a href=\"https://github.com/fastai/fastai/blob/master/fastai/widgets/image_cleaner.py#L146\" class=\"source_link\">[source]</a></h4>\n",
       "\n",
       "> <code>create_image_list</code>(<b>`dataset`</b>, <b>`fns_idxs`</b>)\n",
       "\n",
       "Create a list of images, filenames and labels but first removing files that are not supposed to be displayed.  "
      ],
      "text/plain": [
       "<IPython.core.display.Markdown object>"
      ]
     },
     "metadata": {},
     "output_type": "display_data"
    }
   ],
   "source": [
    "show_doc(ImageCleaner.create_image_list)"
   ]
  },
  {
   "cell_type": "markdown",
   "metadata": {},
   "source": []
  },
  {
   "cell_type": "code",
   "execution_count": null,
   "metadata": {
    "hide_input": true
   },
   "outputs": [
    {
     "data": {
      "text/markdown": [
       "<h4 id=\"ImageCleaner.render\"><code>render</code><a href=\"https://github.com/fastai/fastai/blob/master/fastai/widgets/image_cleaner.py#L219\" class=\"source_link\">[source]</a></h4>\n",
       "\n",
       "> <code>render</code>()\n",
       "\n",
       "Re-render Jupyter cell for batch of images.  "
      ],
      "text/plain": [
       "<IPython.core.display.Markdown object>"
      ]
     },
     "metadata": {},
     "output_type": "display_data"
    }
   ],
   "source": [
    "show_doc(ImageCleaner.render)"
   ]
  },
  {
   "cell_type": "markdown",
   "metadata": {},
   "source": []
  },
  {
   "cell_type": "code",
   "execution_count": null,
   "metadata": {
    "hide_input": true
   },
   "outputs": [
    {
     "data": {
      "text/markdown": [
       "<h4 id=\"DatasetFormatter.get_similars_idxs\"><code>get_similars_idxs</code><a href=\"https://github.com/fastai/fastai/blob/master/fastai/widgets/image_cleaner.py#L41\" class=\"source_link\">[source]</a></h4>\n",
       "\n",
       "> <code>get_similars_idxs</code>(<b>`learn`</b>, <b>`layer_ls`</b>, <b>`kwargs`</b>)\n",
       "\n",
       "Gets the indices for the most similar images in `ds_type` dataset  "
      ],
      "text/plain": [
       "<IPython.core.display.Markdown object>"
      ]
     },
     "metadata": {},
     "output_type": "display_data"
    }
   ],
   "source": [
    "show_doc(DatasetFormatter.get_similars_idxs)"
   ]
  },
  {
   "cell_type": "markdown",
   "metadata": {},
   "source": []
  },
  {
   "cell_type": "code",
   "execution_count": null,
   "metadata": {
    "hide_input": true
   },
   "outputs": [
    {
     "data": {
      "text/markdown": [
       "<h4 id=\"ImageCleaner.on_delete\"><code>on_delete</code><a href=\"https://github.com/fastai/fastai/blob/master/fastai/widgets/image_cleaner.py#L175\" class=\"source_link\">[source]</a></h4>\n",
       "\n",
       "> <code>on_delete</code>(<b>`btn`</b>)\n",
       "\n",
       "Flag this image as delete or keep.  "
      ],
      "text/plain": [
       "<IPython.core.display.Markdown object>"
      ]
     },
     "metadata": {},
     "output_type": "display_data"
    }
   ],
   "source": [
    "show_doc(ImageCleaner.on_delete)"
   ]
  },
  {
   "cell_type": "markdown",
   "metadata": {},
   "source": []
  },
  {
   "cell_type": "code",
   "execution_count": null,
   "metadata": {
    "hide_input": true
   },
   "outputs": [
    {
     "data": {
      "text/markdown": [
       "<h4 id=\"ImageCleaner.make_button_widget\"><code>make_button_widget</code><a href=\"https://github.com/fastai/fastai/blob/master/fastai/widgets/image_cleaner.py#L116\" class=\"source_link\">[source]</a></h4>\n",
       "\n",
       "> <code>make_button_widget</code>(<b>`label`</b>, <b>`file_path`</b>=<b><i>`None`</i></b>, <b>`handler`</b>=<b><i>`None`</i></b>, <b>`style`</b>=<b><i>`None`</i></b>, <b>`layout`</b>=<b><i>`Layout(width='auto')`</i></b>)\n",
       "\n",
       "Return a Button widget with specified `handler`.  "
      ],
      "text/plain": [
       "<IPython.core.display.Markdown object>"
      ]
     },
     "metadata": {},
     "output_type": "display_data"
    }
   ],
   "source": [
    "show_doc(ImageCleaner.make_button_widget)"
   ]
  },
  {
   "cell_type": "markdown",
   "metadata": {},
   "source": []
  },
  {
   "cell_type": "code",
   "execution_count": null,
   "metadata": {
    "hide_input": true
   },
   "outputs": [
    {
     "data": {
      "text/markdown": [
       "<h4 id=\"ImageCleaner.make_img_widget\"><code>make_img_widget</code><a href=\"https://github.com/fastai/fastai/blob/master/fastai/widgets/image_cleaner.py#L111\" class=\"source_link\">[source]</a></h4>\n",
       "\n",
       "> <code>make_img_widget</code>(<b>`img`</b>, <b>`layout`</b>=<b><i>`Layout()`</i></b>, <b>`format`</b>=<b><i>`'jpg'`</i></b>)\n",
       "\n",
       "Returns an image widget for specified file name `img`.  "
      ],
      "text/plain": [
       "<IPython.core.display.Markdown object>"
      ]
     },
     "metadata": {},
     "output_type": "display_data"
    }
   ],
   "source": [
    "show_doc(ImageCleaner.make_img_widget)"
   ]
  },
  {
   "cell_type": "markdown",
   "metadata": {},
   "source": []
  },
  {
   "cell_type": "code",
   "execution_count": null,
   "metadata": {
    "hide_input": true
   },
   "outputs": [
    {
     "data": {
      "text/markdown": [
       "<h4 id=\"DatasetFormatter.get_actns\"><code>get_actns</code><a href=\"https://github.com/fastai/fastai/blob/master/fastai/widgets/image_cleaner.py#L52\" class=\"source_link\">[source]</a></h4>\n",
       "\n",
       "> <code>get_actns</code>(<b>`learn`</b>, <b>`hook`</b>:[`Hook`](/callbacks.hooks.html#Hook), <b>`dl`</b>:[`DataLoader`](https://pytorch.org/docs/stable/data.html#torch.utils.data.DataLoader), <b>`pool`</b>=<b><i>`'AdaptiveConcatPool2d'`</i></b>, <b>`pool_dim`</b>:`int`=<b><i>`4`</i></b>, <b>`kwargs`</b>)\n",
       "\n",
       "Gets activations at the layer specified by `hook`, applies `pool` of dim `pool_dim` and concatenates  "
      ],
      "text/plain": [
       "<IPython.core.display.Markdown object>"
      ]
     },
     "metadata": {},
     "output_type": "display_data"
    }
   ],
   "source": [
    "show_doc(DatasetFormatter.get_actns)"
   ]
  },
  {
   "cell_type": "markdown",
   "metadata": {},
   "source": []
  },
  {
   "cell_type": "code",
   "execution_count": null,
   "metadata": {
    "hide_input": true
   },
   "outputs": [
    {
     "data": {
      "text/markdown": [
       "<h4 id=\"ImageCleaner.batch_contains_deleted\"><code>batch_contains_deleted</code><a href=\"https://github.com/fastai/fastai/blob/master/fastai/widgets/image_cleaner.py#L202\" class=\"source_link\">[source]</a></h4>\n",
       "\n",
       "> <code>batch_contains_deleted</code>()\n",
       "\n",
       "Check if current batch contains already deleted images.  "
      ],
      "text/plain": [
       "<IPython.core.display.Markdown object>"
      ]
     },
     "metadata": {},
     "output_type": "display_data"
    }
   ],
   "source": [
    "show_doc(ImageCleaner.batch_contains_deleted)"
   ]
  },
  {
   "cell_type": "markdown",
   "metadata": {},
   "source": []
  },
  {
   "cell_type": "code",
   "execution_count": null,
   "metadata": {
    "hide_input": true
   },
   "outputs": [
    {
     "data": {
      "text/markdown": [
       "<h4 id=\"ImageCleaner.make_horizontal_box\"><code>make_horizontal_box</code><a href=\"https://github.com/fastai/fastai/blob/master/fastai/widgets/image_cleaner.py#L135\" class=\"source_link\">[source]</a></h4>\n",
       "\n",
       "> <code>make_horizontal_box</code>(<b>`children`</b>, <b>`layout`</b>=<b><i>`Layout()`</i></b>)\n",
       "\n",
       "Make a horizontal box with [`children`](/torch_core.html#children) and `layout`.  "
      ],
      "text/plain": [
       "<IPython.core.display.Markdown object>"
      ]
     },
     "metadata": {},
     "output_type": "display_data"
    }
   ],
   "source": [
    "show_doc(ImageCleaner.make_horizontal_box)"
   ]
  },
  {
   "cell_type": "markdown",
   "metadata": {},
   "source": []
  },
  {
   "cell_type": "code",
   "execution_count": null,
   "metadata": {
    "hide_input": true
   },
   "outputs": [
    {
     "data": {
      "text/markdown": [
       "<h4 id=\"DatasetFormatter.get_toplosses_idxs\"><code>get_toplosses_idxs</code><a href=\"https://github.com/fastai/fastai/blob/master/fastai/widgets/image_cleaner.py#L22\" class=\"source_link\">[source]</a></h4>\n",
       "\n",
       "> <code>get_toplosses_idxs</code>(<b>`learn`</b>, <b>`n_imgs`</b>, <b>`kwargs`</b>)\n",
       "\n",
       "Sorts `ds_type` dataset by top losses and returns dataset and sorted indices.  "
      ],
      "text/plain": [
       "<IPython.core.display.Markdown object>"
      ]
     },
     "metadata": {},
     "output_type": "display_data"
    }
   ],
   "source": [
    "show_doc(DatasetFormatter.get_toplosses_idxs)"
   ]
  },
  {
   "cell_type": "markdown",
   "metadata": {},
   "source": []
  },
  {
   "cell_type": "code",
   "execution_count": null,
   "metadata": {
    "hide_input": true
   },
   "outputs": [
    {
     "data": {
      "text/markdown": [
       "<h4 id=\"DatasetFormatter.padded_ds\"><code>padded_ds</code><a href=\"https://github.com/fastai/fastai/blob/master/fastai/widgets/image_cleaner.py#L31\" class=\"source_link\">[source]</a></h4>\n",
       "\n",
       "> <code>padded_ds</code>(<b>`ll_input`</b>, <b>`size`</b>=<b><i>`(250, 300)`</i></b>, <b>`resize_method`</b>=<b><i>`<ResizeMethod.CROP: 1>`</i></b>, <b>`padding_mode`</b>=<b><i>`'zeros'`</i></b>, <b>`kwargs`</b>)\n",
       "\n",
       "For a LabelList `ll_input`, resize each image to `size` using `resize_method` and `padding_mode`.  "
      ],
      "text/plain": [
       "<IPython.core.display.Markdown object>"
      ]
     },
     "metadata": {},
     "output_type": "display_data"
    }
   ],
   "source": [
    "show_doc(DatasetFormatter.padded_ds)"
   ]
  },
  {
   "cell_type": "markdown",
   "metadata": {},
   "source": []
  },
  {
   "cell_type": "markdown",
   "metadata": {},
   "source": [
    "## New Methods - Please document or move to the undocumented section"
   ]
  }
 ],
 "metadata": {
  "kernelspec": {
   "display_name": "Python 3",
   "language": "python",
   "name": "python3"
  }
 },
 "nbformat": 4,
 "nbformat_minor": 2
}

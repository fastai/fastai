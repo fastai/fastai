{
 "cells": [
  {
   "cell_type": "markdown",
   "metadata": {},
   "source": [
    "# widgets.image_cleaner"
   ]
  },
  {
   "cell_type": "markdown",
   "metadata": {},
   "source": [
    "fastai offers several widgets to support the workflow of a deep learning practitioner. The purpose of the widgets are to help you organize, clean, and prepare your data for your model. Widgets are separated by data type."
   ]
  },
  {
   "cell_type": "code",
   "execution_count": null,
   "metadata": {
    "hide_input": true
   },
   "outputs": [],
   "source": [
    "from fastai.vision import *\n",
    "from fastai.widgets import DatasetFormatter, ImageCleaner, ImageDownloader, download_google_images\n",
    "from fastai.gen_doc.nbdoc import show_doc"
   ]
  },
  {
   "cell_type": "code",
   "execution_count": null,
   "metadata": {
    "hide_input": true
   },
   "outputs": [],
   "source": [
    "%reload_ext autoreload\n",
    "%autoreload 2"
   ]
  },
  {
   "cell_type": "code",
   "execution_count": null,
   "metadata": {},
   "outputs": [],
   "source": [
    "path = untar_data(URLs.MNIST_SAMPLE)\n",
    "data = ImageDataBunch.from_folder(path)"
   ]
  },
  {
   "cell_type": "code",
   "execution_count": null,
   "metadata": {},
   "outputs": [],
   "source": [
    "learn = create_cnn(data, models.resnet18, metrics=error_rate)"
   ]
  },
  {
   "cell_type": "code",
   "execution_count": null,
   "metadata": {},
   "outputs": [],
   "source": [
    "learn.fit_one_cycle(2)"
   ]
  },
  {
   "cell_type": "code",
   "execution_count": null,
   "metadata": {},
   "outputs": [],
   "source": [
    "learn.save('stage-1')"
   ]
  },
  {
   "cell_type": "markdown",
   "metadata": {},
   "source": [
    "We create a databunch with all the data in the training set and no validation set (DatasetFormatter uses only the training set)"
   ]
  },
  {
   "cell_type": "code",
   "execution_count": null,
   "metadata": {},
   "outputs": [],
   "source": [
    "db = (ImageItemList.from_folder(path)\n",
    "                   .no_split()\n",
    "                   .label_from_folder()\n",
    "                   .databunch())"
   ]
  },
  {
   "cell_type": "code",
   "execution_count": null,
   "metadata": {},
   "outputs": [],
   "source": [
    "learn = create_cnn(db, models.resnet18, metrics=[accuracy])\n",
    "learn.load('stage-1');"
   ]
  },
  {
   "cell_type": "code",
   "execution_count": null,
   "metadata": {
    "hide_input": true
   },
   "outputs": [
    {
     "data": {
      "text/markdown": [
       "<h2 id=\"DatasetFormatter\"><code>class</code> <code>DatasetFormatter</code><a href=\"https://github.com/fastai/fastai/blob/master/fastai/widgets/image_cleaner.py#L14\" class=\"source_link\">[source]</a></h2>\n",
       "\n",
       "> <code>DatasetFormatter</code>()\n",
       "\n",
       "Returns a dataset with the appropriate format and file indices to be displayed.  "
      ],
      "text/plain": [
       "<IPython.core.display.Markdown object>"
      ]
     },
     "metadata": {},
     "output_type": "display_data"
    }
   ],
   "source": [
    "show_doc(DatasetFormatter)"
   ]
  },
  {
   "cell_type": "markdown",
   "metadata": {},
   "source": [
    "The [`DatasetFormatter`](/widgets.image_cleaner.html#DatasetFormatter) class prepares your image dataset for widgets by returning a formatted [`DatasetTfm`](/vision.data.html#DatasetTfm) based on the [`DatasetType`](/basic_data.html#DatasetType) specified. Use `from_toplosses` to grab the most problematic images directly from your learner. Optionally, you can restrict the formatted dataset returned to `n_imgs`."
   ]
  },
  {
   "cell_type": "code",
   "execution_count": null,
   "metadata": {
    "hide_input": true
   },
   "outputs": [
    {
     "data": {
      "text/markdown": [
       "<h4 id=\"DatasetFormatter.from_similars\"><code>from_similars</code><a href=\"https://github.com/fastai/fastai/blob/master/fastai/widgets/image_cleaner.py#L35\" class=\"source_link\">[source]</a></h4>\n",
       "\n",
       "> <code>from_similars</code>(<b>`learn`</b>, <b>`layer_ls`</b>:`list`=<b><i>`[0, 7, 2]`</i></b>, <b>`kwargs`</b>)\n",
       "\n",
       "Gets the indices for the most similar images.  "
      ],
      "text/plain": [
       "<IPython.core.display.Markdown object>"
      ]
     },
     "metadata": {},
     "output_type": "display_data"
    }
   ],
   "source": [
    "show_doc(DatasetFormatter.from_similars)"
   ]
  },
  {
   "cell_type": "code",
   "execution_count": null,
   "metadata": {
    "hide_input": true
   },
   "outputs": [],
   "source": [
    "from fastai.gen_doc.nbdoc import *\n",
    "from fastai.widgets.image_cleaner import * "
   ]
  },
  {
   "cell_type": "code",
   "execution_count": null,
   "metadata": {
    "hide_input": true
   },
   "outputs": [
    {
     "data": {
      "text/markdown": [
       "<h4 id=\"DatasetFormatter.from_toplosses\"><code>from_toplosses</code><a href=\"https://github.com/fastai/fastai/blob/master/fastai/widgets/image_cleaner.py#L16\" class=\"source_link\">[source]</a></h4>\n",
       "\n",
       "> <code>from_toplosses</code>(<b>`learn`</b>, <b>`n_imgs`</b>=<b><i>`None`</i></b>, <b>`kwargs`</b>)\n",
       "\n",
       "Gets indices with top losses.  "
      ],
      "text/plain": [
       "<IPython.core.display.Markdown object>"
      ]
     },
     "metadata": {},
     "output_type": "display_data"
    }
   ],
   "source": [
    "show_doc(DatasetFormatter.from_toplosses)"
   ]
  },
  {
   "cell_type": "code",
   "execution_count": null,
   "metadata": {
    "hide_input": true
   },
   "outputs": [
    {
     "data": {
      "text/markdown": [
       "<h2 id=\"ImageCleaner\"><code>class</code> <code>ImageCleaner</code><a href=\"https://github.com/fastai/fastai/blob/master/fastai/widgets/image_cleaner.py#L96\" class=\"source_link\">[source]</a></h2>\n",
       "\n",
       "> <code>ImageCleaner</code>(<b>`dataset`</b>, <b>`fns_idxs`</b>, <b>`path`</b>, <b>`batch_size`</b>:`int`=<b><i>`5`</i></b>, <b>`duplicates`</b>=<b><i>`False`</i></b>)\n",
       "\n",
       "Displays images for relabeling or deletion and saves changes in `path` as 'cleaned.csv'.  "
      ],
      "text/plain": [
       "<IPython.core.display.Markdown object>"
      ]
     },
     "metadata": {},
     "output_type": "display_data"
    }
   ],
   "source": [
    "show_doc(ImageCleaner)"
   ]
  },
  {
   "cell_type": "markdown",
   "metadata": {},
   "source": [
    "[`ImageCleaner`](/widgets.image_cleaner.html#ImageCleaner) is for cleaning up images that don't belong in your dataset. It renders images in a row and gives you the opportunity to delete the file from your file system. To use [`ImageCleaner`](/widgets.image_cleaner.html#ImageCleaner) we must first use `DatasetFormatter().from_toplosses` to get the suggested indices for misclassified images."
   ]
  },
  {
   "cell_type": "code",
   "execution_count": null,
   "metadata": {},
   "outputs": [],
   "source": [
    "ds, idxs = DatasetFormatter().from_toplosses(learn)"
   ]
  },
  {
   "cell_type": "code",
   "execution_count": null,
   "metadata": {},
   "outputs": [],
   "source": [
    "ImageCleaner(ds, idxs, path)"
   ]
  },
  {
   "cell_type": "markdown",
   "metadata": {},
   "source": [
    "[`ImageCleaner`](/widgets.image_cleaner.html#ImageCleaner) does not change anything on disk (neither labels or existence of images). Instead, it creates a 'cleaned.csv' file in your data path from which you need to load your new databunch for the files to changes to be applied. "
   ]
  },
  {
   "cell_type": "code",
   "execution_count": null,
   "metadata": {},
   "outputs": [],
   "source": [
    "df = pd.read_csv(path/'cleaned.csv', header='infer')"
   ]
  },
  {
   "cell_type": "code",
   "execution_count": null,
   "metadata": {},
   "outputs": [],
   "source": [
    "# We create a databunch from our csv. We include the data in the training set and we don't use a validation set (DatasetFormatter uses only the training set)\n",
    "np.random.seed(42)\n",
    "db = (ImageItemList.from_df(df, path)\n",
    "                   .no_split()\n",
    "                   .label_from_df()\n",
    "                   .databunch(bs=64))"
   ]
  },
  {
   "cell_type": "code",
   "execution_count": null,
   "metadata": {},
   "outputs": [],
   "source": [
    "learn = create_cnn(db, models.resnet18, metrics=error_rate)\n",
    "learn = learn.load('stage-1')"
   ]
  },
  {
   "cell_type": "markdown",
   "metadata": {},
   "source": [
    "You can then use [`ImageCleaner`](/widgets.image_cleaner.html#ImageCleaner) again to find duplicates in the dataset. To do this, you can specify `duplicates=True` while calling ImageCleaner after getting the indices and dataset from `.from_similars`. Note that if you are using a layer's output which has dimensions [n_batches, n_features, 1, 1] then you don't need any pooling (this is the case with the last layer). The suggested use of `.from_similars()` with resnets is using the last layer and no pooling, like in the following cell."
   ]
  },
  {
   "cell_type": "code",
   "execution_count": null,
   "metadata": {},
   "outputs": [
    {
     "name": "stdout",
     "output_type": "stream",
     "text": [
      "Getting activations...\n"
     ]
    },
    {
     "data": {
      "text/html": [
       "\n",
       "    <div>\n",
       "        <style>\n",
       "            /* Turns off some styling */\n",
       "            progress {\n",
       "                /* gets rid of default border in Firefox and Opera. */\n",
       "                border: none;\n",
       "                /* Needs to be in here for Safari polyfill so background images work as expected. */\n",
       "                background-size: auto;\n",
       "            }\n",
       "            .progress-bar-interrupted, .progress-bar-interrupted::-webkit-progress-bar {\n",
       "                background: #F44336;\n",
       "            }\n",
       "        </style>\n",
       "      <progress value='194' class='' max='194', style='width:300px; height:20px; vertical-align: middle;'></progress>\n",
       "      100.00% [194/194 00:02<00:00]\n",
       "    </div>\n",
       "    "
      ],
      "text/plain": [
       "<IPython.core.display.HTML object>"
      ]
     },
     "metadata": {},
     "output_type": "display_data"
    },
    {
     "name": "stdout",
     "output_type": "stream",
     "text": [
      "Computing similarities...\n"
     ]
    }
   ],
   "source": [
    "ds, idxs = DatasetFormatter().from_similars(learn, layer_ls=[0,7,1], pool=None)"
   ]
  },
  {
   "cell_type": "code",
   "execution_count": null,
   "metadata": {},
   "outputs": [
    {
     "data": {
      "application/vnd.jupyter.widget-view+json": {
       "model_id": "7b2c5b6f32954f799eaa56b04684ac61",
       "version_major": 2,
       "version_minor": 0
      },
      "text/plain": [
       "HBox(children=(VBox(children=(Image(value=b'\\xff\\xd8\\xff\\xe0\\x00\\x10JFIF\\x00\\x01\\x01\\x01\\x00d\\x00d\\x00\\x00\\xff…"
      ]
     },
     "metadata": {},
     "output_type": "display_data"
    },
    {
     "data": {
      "application/vnd.jupyter.widget-view+json": {
       "model_id": "612654a68cfd4643b32d0ab499144510",
       "version_major": 2,
       "version_minor": 0
      },
      "text/plain": [
       "Button(button_style='primary', description='Next Batch', layout=Layout(width='auto'), style=ButtonStyle())"
      ]
     },
     "metadata": {},
     "output_type": "display_data"
    }
   ],
   "source": [
    "ImageCleaner(ds, idxs, path, duplicates=True)"
   ]
  },
  {
   "cell_type": "code",
   "execution_count": null,
   "metadata": {},
   "outputs": [
    {
     "data": {
      "text/markdown": [
       "<h2 id=\"ImageDownloader\"><code>class</code> <code>ImageDownloader</code><a href=\"https://github.com/fastai/fastai/blob/master/fastai/widgets/image_downloader.py#L11\" class=\"source_link\">[source]</a></h2>\n",
       "\n",
       "> <code>ImageDownloader</code>(<b>`path`</b>:`PathOrStr`=<b><i>`'data'`</i></b>)\n",
       "\n",
       "Displays a widget that allows searching and downloading images from google images search in a Jupyter Notebook or Lab. "
      ],
      "text/plain": [
       "<IPython.core.display.Markdown object>"
      ]
     },
     "metadata": {},
     "output_type": "display_data"
    }
   ],
   "source": [
    "show_doc(ImageDownloader)"
   ]
  },
  {
   "cell_type": "markdown",
   "metadata": {},
   "source": [
    "[`ImageDownloader`](/widgets.image_downloader.html#ImageDownloader) widget gives you a way to quickly bootstrap your image dataset without leaving the notebook. It searches and downloads images that match the search criteria and resolution / quality requirements and stores them on your filesystem within the provided `path`.\n",
    "\n",
    "Images for each search query (or label) are stored in a separate folder within `path`. For example, if you pupulate `tiger` with a `path` setup to `./data`, you'll get a folder `./data/tiger/` with the tiger images in it.\n",
    "\n",
    "[`ImageDownloader`](/widgets.image_downloader.html#ImageDownloader) will automatically clean up and verify the downloaded images with [`verify_images()`](/vision.data.html#verify_images) after downloading them."
   ]
  },
  {
   "cell_type": "code",
   "execution_count": null,
   "metadata": {},
   "outputs": [
    {
     "data": {
      "application/vnd.jupyter.widget-view+json": {
       "model_id": "4a129e16aa6e47f38ba84e8d6b2be30e",
       "version_major": 2,
       "version_minor": 0
      },
      "text/plain": [
       "VBox(children=(HBox(children=(Text(value='tesla model 3', placeholder='What images to search for?'), BoundedIn…"
      ]
     },
     "metadata": {},
     "output_type": "display_data"
    }
   ],
   "source": [
    "path = Path('./image_downloader_data')\n",
    "ImageDownloader(path)"
   ]
  },
  {
   "cell_type": "markdown",
   "metadata": {},
   "source": [
    "After populating images with [`ImageDownloader`](/widgets.image_downloader.html#ImageDownloader), you can get a an [`ImageDataBunch`](/vision.data.html#ImageDataBunch) by calling `ImageDataBunch.from_folder(path, size=size)`, or using the data block API."
   ]
  },
  {
   "cell_type": "code",
   "execution_count": null,
   "metadata": {},
   "outputs": [],
   "source": [
    "path.ls()"
   ]
  },
  {
   "cell_type": "code",
   "execution_count": null,
   "metadata": {},
   "outputs": [],
   "source": [
    "src = (ImageItemList.from_folder(path)\n",
    "       .random_split_by_pct()\n",
    "       .label_from_folder()\n",
    "       .transform(get_transforms(), size=224))\n",
    "db  = src.databunch(bs=16)"
   ]
  },
  {
   "cell_type": "code",
   "execution_count": null,
   "metadata": {},
   "outputs": [],
   "source": [
    "learn = create_cnn(db, models.resnet34, metrics=[accuracy])"
   ]
  },
  {
   "cell_type": "code",
   "execution_count": null,
   "metadata": {},
   "outputs": [],
   "source": [
    "learn.fit_one_cycle(3)"
   ]
  },
  {
   "cell_type": "markdown",
   "metadata": {},
   "source": [
    "#### Downloading more than a hundred images\n",
    "\n",
    "To fetch more than a hundred images, [`ImageDownloader`](/widgets.image_downloader.html#ImageDownloader) uses `selenium` and `chromedriver` to scroll through the Google Images search results page and scrape image URLs. They're not required as dependencies by default. If you don't have them installed on your system, the widget will show you an error message.\n",
    "\n",
    "To install `selenium`, just `pip install selenium` in your fastai environment.\n",
    "\n",
    "**On a mac**, you can install `chromedriver` with `brew cask install chromedriver`.\n",
    "\n",
    "**On Ubuntu**\n",
    "Take a look at the latest Chromedriver version available, then something like:\n",
    "\n",
    "```\n",
    "wget https://chromedriver.storage.googleapis.com/2.45/chromedriver_linux64.zip\n",
    "unzip chromedriver_linux64.zip\n",
    "```"
   ]
  },
  {
   "cell_type": "markdown",
   "metadata": {},
   "source": [
    "#### Downloading images in python scripts outside Jupyter notebooks"
   ]
  },
  {
   "cell_type": "code",
   "execution_count": null,
   "metadata": {},
   "outputs": [],
   "source": [
    "path = Path('image_downloader_data')"
   ]
  },
  {
   "cell_type": "code",
   "execution_count": null,
   "metadata": {},
   "outputs": [],
   "source": [
    "download_google_images(path, 'aussie shepherd', size='>1024*768', n_images=150)"
   ]
  },
  {
   "cell_type": "code",
   "execution_count": null,
   "metadata": {},
   "outputs": [
    {
     "data": {
      "text/markdown": [
       "<h4 id=\"download_google_images\"><code>download_google_images</code><a href=\"https://github.com/fastai/fastai/blob/master/fastai/widgets/image_downloader.py#L93\" class=\"source_link\">[source]</a></h4>\n",
       "\n",
       "> <code>download_google_images</code>(<b>`path`</b>:`PathOrStr`, <b>`search_term`</b>:`str`, <b>`size`</b>:`str`=<b><i>`'>400*300'`</i></b>, <b>`n_images`</b>:`int`=<b><i>`10`</i></b>, <b>`format`</b>:`str`=<b><i>`'jpg'`</i></b>, <b>`max_workers`</b>:`int`=<b><i>`8`</i></b>, <b>`timeout`</b>:`int`=<b><i>`4`</i></b>) → `FilePathList`\n",
       "\n",
       "Search for `n_images` images on Google, matching `search_term` and `size` requirements, and download them into `path`/`search_term` directory.\n",
       "\n",
       "Automatically [`verify_images`](/vision.data.html#verify_images) and return the image file names list.\n",
       "\n",
       "Uses `max_workers` threads to download and verify images. "
      ],
      "text/plain": [
       "<IPython.core.display.Markdown object>"
      ]
     },
     "metadata": {},
     "output_type": "display_data"
    }
   ],
   "source": [
    "show_doc(download_google_images)"
   ]
  },
  {
   "cell_type": "markdown",
   "metadata": {},
   "source": [
    "Note that downloading under 100 images doesn't require any dependencies other than fastai itself, however downloading more than a hundred images [uses `selenium` and `chromedriver`](/widgets.image_cleaner.html#Downloading-more-than-a-hundred-images).\n",
    "\n",
    "`size` can be one of:\n",
    "\n",
    "```\n",
    "'>400*300'\n",
    "'>640*480'\n",
    "'>800*600'\n",
    "'>1024*768'\n",
    "'>2MP'\n",
    "'>4MP'\n",
    "'>6MP'\n",
    "'>8MP'\n",
    "'>10MP'\n",
    "'>12MP'\n",
    "'>15MP'\n",
    "'>20MP'\n",
    "'>40MP'\n",
    "'>70MP'\n",
    "```"
   ]
  },
  {
   "cell_type": "markdown",
   "metadata": {},
   "source": [
    "## Methods"
   ]
  },
  {
   "cell_type": "markdown",
   "metadata": {},
   "source": [
    "## Undocumented Methods - Methods moved below this line will intentionally be hidden"
   ]
  },
  {
   "cell_type": "markdown",
   "metadata": {},
   "source": [
    "## New Methods - Please document or move to the undocumented section"
   ]
  },
  {
   "cell_type": "code",
   "execution_count": null,
   "metadata": {
    "hide_input": true
   },
   "outputs": [
    {
     "data": {
      "text/markdown": [
       "<h4 id=\"ImageCleaner.make_dropdown_widget\"><code>make_dropdown_widget</code><a href=\"https://github.com/fastai/fastai/blob/master/fastai/widgets/image_cleaner.py#L126\" class=\"source_link\">[source]</a></h4>\n",
       "\n",
       "> <code>make_dropdown_widget</code>(<b>`description`</b>=<b><i>`'Description'`</i></b>, <b>`options`</b>=<b><i>`['Label 1', 'Label 2']`</i></b>, <b>`value`</b>=<b><i>`'Label 1'`</i></b>, <b>`file_path`</b>=<b><i>`None`</i></b>, <b>`layout`</b>=<b><i>`Layout()`</i></b>, <b>`handler`</b>=<b><i>`None`</i></b>)\n",
       "\n",
       "Return a Dropdown widget with specified `handler`.  "
      ],
      "text/plain": [
       "<IPython.core.display.Markdown object>"
      ]
     },
     "metadata": {},
     "output_type": "display_data"
    }
   ],
   "source": [
    "show_doc(ImageCleaner.make_dropdown_widget)"
   ]
  }
 ],
 "metadata": {
  "kernelspec": {
   "display_name": "Python 3",
   "language": "python",
   "name": "python3"
  }
 },
 "nbformat": 4,
 "nbformat_minor": 2
}

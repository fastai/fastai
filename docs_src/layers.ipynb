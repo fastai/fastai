{
 "cells": [
  {
   "cell_type": "markdown",
   "metadata": {},
   "source": [
    "# Model Layers"
   ]
  },
  {
   "cell_type": "markdown",
   "metadata": {},
   "source": [
    "This module contains many layer classes that we might be interested in using in our models. These layers complement the default [Pytorch layers](https://pytorch.org/docs/stable/nn.html) which we can also use as predefined layers."
   ]
  },
  {
   "cell_type": "code",
   "execution_count": null,
   "metadata": {
    "hide_input": true
   },
   "outputs": [],
   "source": [
    "from fastai import *\n",
    "from fastai.vision import *\n",
    "from fastai.gen_doc.nbdoc import *"
   ]
  },
  {
   "cell_type": "markdown",
   "metadata": {},
   "source": [
    "## Custom fastai modules"
   ]
  },
  {
   "cell_type": "code",
   "execution_count": null,
   "metadata": {
    "hide_input": true
   },
   "outputs": [
    {
     "data": {
      "text/markdown": [
       "<h3 id=\"AdaptiveConcatPool2d\"><code>class</code> <code>AdaptiveConcatPool2d</code><a href=\"https://github.com/fastai/fastai/blob/master/fastai/layers.py#L165\" class=\"source_link\">[source]</a></h3>\n",
       "\n",
       "> <code>AdaptiveConcatPool2d</code>(`sz`:`Optional`\\[`int`\\]=`None`) :: [`Module`](https://pytorch.org/docs/stable/nn.html#torch.nn.Module)\n",
       "\n",
       "Layer that concats `AdaptiveAvgPool2d` and `AdaptiveMaxPool2d`.  "
      ],
      "text/plain": [
       "<IPython.core.display.Markdown object>"
      ]
     },
     "metadata": {},
     "output_type": "display_data"
    }
   ],
   "source": [
    "show_doc(AdaptiveConcatPool2d, title_level=3)"
   ]
  },
  {
   "cell_type": "code",
   "execution_count": null,
   "metadata": {
    "hide_input": true
   },
   "outputs": [],
   "source": [
    "from fastai.gen_doc.nbdoc import *\n",
    "from fastai.layers import * "
   ]
  },
  {
   "cell_type": "markdown",
   "metadata": {},
   "source": [
    "The output will be `2*sz`, or just 2 if `sz` is None."
   ]
  },
  {
   "cell_type": "markdown",
   "metadata": {},
   "source": [
    "The [`AdaptiveConcatPool2d`](/layers.html#AdaptiveConcatPool2d) object uses adaptive average pooling and adaptive max pooling and concatenates them both. We use this because it provides the model with the information of both methods and improves performance. This technique is called `adaptive` because it allows us to decide on what output dimensions we want, instead of choosing the input's dimensions to fit a desired output size.\n",
    "\n",
    "Let's try training with Adaptive Average Pooling first, then with Adaptive Max Pooling and finally with the concatenation of them both to see how they fare in performance.\n",
    "\n",
    "We will first define a [`simple_cnn`](/layers.html#simple_cnn) using [Adapative Max Pooling](https://pytorch.org/docs/stable/nn.html#torch.nn.AdaptiveMaxPool2d) by changing the source code a bit."
   ]
  },
  {
   "cell_type": "code",
   "execution_count": null,
   "metadata": {},
   "outputs": [],
   "source": [
    "path = untar_data(URLs.MNIST_SAMPLE)\n",
    "data = ImageDataBunch.from_folder(path)"
   ]
  },
  {
   "cell_type": "code",
   "execution_count": null,
   "metadata": {},
   "outputs": [],
   "source": [
    "def simple_cnn_max(actns:Collection[int], kernel_szs:Collection[int]=None,\n",
    "               strides:Collection[int]=None) -> nn.Sequential:\n",
    "    \"CNN with `conv2d_relu` layers defined by `actns`, `kernel_szs` and `strides`\"\n",
    "    nl = len(actns)-1\n",
    "    kernel_szs = ifnone(kernel_szs, [3]*nl)\n",
    "    strides    = ifnone(strides   , [2]*nl)\n",
    "    layers = [conv_layer(actns[i], actns[i+1], kernel_szs[i], stride=strides[i])\n",
    "        for i in range(len(strides))]\n",
    "    layers.append(nn.Sequential(nn.AdaptiveMaxPool2d(1), Flatten()))\n",
    "    return nn.Sequential(*layers)"
   ]
  },
  {
   "cell_type": "code",
   "execution_count": null,
   "metadata": {},
   "outputs": [
    {
     "data": {
      "text/html": [
       "Total time: 00:02 <p><table style='width:300px; margin-bottom:10px'>\n",
       "  <tr>\n",
       "    <th>epoch</th>\n",
       "    <th>train_loss</th>\n",
       "    <th>valid_loss</th>\n",
       "    <th>accuracy</th>\n",
       "  </tr>\n",
       "  <tr>\n",
       "    <th>1</th>\n",
       "    <th>0.104029</th>\n",
       "    <th>0.073855</th>\n",
       "    <th>0.982336</th>\n",
       "  </tr>\n",
       "</table>\n"
      ],
      "text/plain": [
       "<IPython.core.display.HTML object>"
      ]
     },
     "metadata": {},
     "output_type": "display_data"
    }
   ],
   "source": [
    "model = simple_cnn_max((3,16,16,2))\n",
    "learner = Learner(data, model, metrics=[accuracy])\n",
    "learner.fit(1)"
   ]
  },
  {
   "cell_type": "markdown",
   "metadata": {},
   "source": [
    "Now let's try with [Adapative Average Pooling](https://pytorch.org/docs/stable/nn.html#torch.nn.AdaptiveAvgPool2d) now."
   ]
  },
  {
   "cell_type": "code",
   "execution_count": null,
   "metadata": {},
   "outputs": [],
   "source": [
    "def simple_cnn_avg(actns:Collection[int], kernel_szs:Collection[int]=None,\n",
    "               strides:Collection[int]=None) -> nn.Sequential:\n",
    "    \"CNN with `conv2d_relu` layers defined by `actns`, `kernel_szs` and `strides`\"\n",
    "    nl = len(actns)-1\n",
    "    kernel_szs = ifnone(kernel_szs, [3]*nl)\n",
    "    strides    = ifnone(strides   , [2]*nl)\n",
    "    layers = [conv_layer(actns[i], actns[i+1], kernel_szs[i], stride=strides[i])\n",
    "        for i in range(len(strides))]\n",
    "    layers.append(nn.Sequential(nn.AdaptiveAvgPool2d(1), Flatten()))\n",
    "    return nn.Sequential(*layers)"
   ]
  },
  {
   "cell_type": "code",
   "execution_count": null,
   "metadata": {},
   "outputs": [
    {
     "data": {
      "text/html": [
       "Total time: 00:02 <p><table style='width:300px; margin-bottom:10px'>\n",
       "  <tr>\n",
       "    <th>epoch</th>\n",
       "    <th>train_loss</th>\n",
       "    <th>valid_loss</th>\n",
       "    <th>accuracy</th>\n",
       "  </tr>\n",
       "  <tr>\n",
       "    <th>1</th>\n",
       "    <th>0.326732</th>\n",
       "    <th>0.269070</th>\n",
       "    <th>0.967125</th>\n",
       "  </tr>\n",
       "</table>\n"
      ],
      "text/plain": [
       "<IPython.core.display.HTML object>"
      ]
     },
     "metadata": {},
     "output_type": "display_data"
    }
   ],
   "source": [
    "model = simple_cnn_avg((3,16,16,2))\n",
    "learner = Learner(data, model, metrics=[accuracy])\n",
    "learner.fit(1)"
   ]
  },
  {
   "cell_type": "markdown",
   "metadata": {},
   "source": [
    "Finally we will try with the concatenation of them both [`AdaptiveConcatPool2d`](/layers.html#AdaptiveConcatPool2d). We will see that, in fact, it increases our accuracy and decreases our loss considerably!"
   ]
  },
  {
   "cell_type": "code",
   "execution_count": null,
   "metadata": {},
   "outputs": [],
   "source": [
    "def simple_cnn(actns:Collection[int], kernel_szs:Collection[int]=None,\n",
    "               strides:Collection[int]=None) -> nn.Sequential:\n",
    "    \"CNN with `conv2d_relu` layers defined by `actns`, `kernel_szs` and `strides`\"\n",
    "    nl = len(actns)-1\n",
    "    kernel_szs = ifnone(kernel_szs, [3]*nl)\n",
    "    strides    = ifnone(strides   , [2]*nl)\n",
    "    layers = [conv_layer(actns[i], actns[i+1], kernel_szs[i], stride=strides[i])\n",
    "        for i in range(len(strides))]\n",
    "    layers.append(nn.Sequential(AdaptiveConcatPool2d(1), Flatten()))\n",
    "    return nn.Sequential(*layers)"
   ]
  },
  {
   "cell_type": "code",
   "execution_count": null,
   "metadata": {},
   "outputs": [
    {
     "data": {
      "text/html": [
       "Total time: 00:02 <p><table style='width:300px; margin-bottom:10px'>\n",
       "  <tr>\n",
       "    <th>epoch</th>\n",
       "    <th>train_loss</th>\n",
       "    <th>valid_loss</th>\n",
       "    <th>accuracy</th>\n",
       "  </tr>\n",
       "  <tr>\n",
       "    <th>1</th>\n",
       "    <th>0.172055</th>\n",
       "    <th>0.113439</th>\n",
       "    <th>0.975957</th>\n",
       "  </tr>\n",
       "</table>\n"
      ],
      "text/plain": [
       "<IPython.core.display.HTML object>"
      ]
     },
     "metadata": {},
     "output_type": "display_data"
    }
   ],
   "source": [
    "model = simple_cnn((3,16,16,2))\n",
    "learner = Learner(data, model, metrics=[accuracy])\n",
    "learner.fit(1)"
   ]
  },
  {
   "cell_type": "code",
   "execution_count": null,
   "metadata": {
    "hide_input": true
   },
   "outputs": [
    {
     "data": {
      "text/markdown": [
       "<h3 id=\"Lambda\"><code>class</code> <code>Lambda</code><a href=\"https://github.com/fastai/fastai/blob/master/fastai/layers.py#L10\" class=\"source_link\">[source]</a></h3>\n",
       "\n",
       "> <code>Lambda</code>(`func`:`LambdaFunc`) :: [`Module`](https://pytorch.org/docs/stable/nn.html#torch.nn.Module)\n",
       "\n",
       "An easy way to create a pytorch layer for a simple `func`.  "
      ],
      "text/plain": [
       "<IPython.core.display.Markdown object>"
      ]
     },
     "metadata": {},
     "output_type": "display_data"
    }
   ],
   "source": [
    "show_doc(Lambda, title_level=3)"
   ]
  },
  {
   "cell_type": "markdown",
   "metadata": {},
   "source": [
    "This is very useful to use functions as layers in our networks inside a [Sequential](https://pytorch.org/docs/stable/nn.html#torch.nn.Sequential) object. So, for example, say we want to apply a [log_softmax loss](https://pytorch.org/docs/stable/nn.html#torch.nn.functional.log_softmax) and we need to change the shape of our output batches to be able to use this loss. We can add a layer that applies the necessary change in shape by calling:\n",
    "\n",
    "`Lambda(lambda x: x.view(x.size(0),-1))`"
   ]
  },
  {
   "cell_type": "markdown",
   "metadata": {},
   "source": [
    "Let's see an example of how the shape of our output can change when we add this layer."
   ]
  },
  {
   "cell_type": "code",
   "execution_count": null,
   "metadata": {},
   "outputs": [
    {
     "name": "stdout",
     "output_type": "stream",
     "text": [
      "torch.Size([64, 10, 1, 1])\n"
     ]
    }
   ],
   "source": [
    "model = nn.Sequential(\n",
    "    nn.Conv2d(3,  16, kernel_size=3, stride=2, padding=1), nn.ReLU(),\n",
    "    nn.Conv2d(16, 16, kernel_size=3, stride=2, padding=1), nn.ReLU(),\n",
    "    nn.Conv2d(16, 10, kernel_size=3, stride=2, padding=1), nn.ReLU(),\n",
    "    nn.AdaptiveAvgPool2d(1),\n",
    ")\n",
    "\n",
    "model.cuda()\n",
    "\n",
    "for xb, yb in data.train_dl:\n",
    "    out = (model(*[xb]))\n",
    "    print(out.size())\n",
    "    break"
   ]
  },
  {
   "cell_type": "code",
   "execution_count": null,
   "metadata": {},
   "outputs": [
    {
     "name": "stdout",
     "output_type": "stream",
     "text": [
      "torch.Size([64, 10])\n"
     ]
    }
   ],
   "source": [
    "model = nn.Sequential(\n",
    "    nn.Conv2d(3,  16, kernel_size=3, stride=2, padding=1), nn.ReLU(),\n",
    "    nn.Conv2d(16, 16, kernel_size=3, stride=2, padding=1), nn.ReLU(),\n",
    "    nn.Conv2d(16, 10, kernel_size=3, stride=2, padding=1), nn.ReLU(),\n",
    "    nn.AdaptiveAvgPool2d(1),\n",
    "    Lambda(lambda x: x.view(x.size(0),-1))\n",
    ")\n",
    "\n",
    "model.cuda()\n",
    "\n",
    "for xb, yb in data.train_dl:\n",
    "    out = (model(*[xb]))\n",
    "    print(out.size())\n",
    "    break"
   ]
  },
  {
   "cell_type": "code",
   "execution_count": null,
   "metadata": {
    "hide_input": true
   },
   "outputs": [
    {
     "data": {
      "text/markdown": [
       "<h4 id=\"Flatten\"><code>Flatten</code><a href=\"https://github.com/fastai/fastai/blob/master/fastai/layers.py#L23\" class=\"source_link\">[source]</a></h4>\n",
       "\n",
       "> <code>Flatten</code>(`full`:`bool`=`False`) → `Tensor`\n",
       "\n",
       "Flatten `x` to a single dimension, often used at the end of a model. `full` for rank-1 tensor  "
      ],
      "text/plain": [
       "<IPython.core.display.Markdown object>"
      ]
     },
     "metadata": {},
     "output_type": "display_data"
    }
   ],
   "source": [
    "show_doc(Flatten)"
   ]
  },
  {
   "cell_type": "markdown",
   "metadata": {},
   "source": [
    "The function we build above is actually implemented in our library as [`Flatten`](/layers.html#Flatten). We can see that it returns the same size when we run it."
   ]
  },
  {
   "cell_type": "code",
   "execution_count": null,
   "metadata": {},
   "outputs": [
    {
     "name": "stdout",
     "output_type": "stream",
     "text": [
      "torch.Size([64, 10])\n"
     ]
    }
   ],
   "source": [
    "model = nn.Sequential(\n",
    "    nn.Conv2d(3,  16, kernel_size=3, stride=2, padding=1), nn.ReLU(),\n",
    "    nn.Conv2d(16, 16, kernel_size=3, stride=2, padding=1), nn.ReLU(),\n",
    "    nn.Conv2d(16, 10, kernel_size=3, stride=2, padding=1), nn.ReLU(),\n",
    "    nn.AdaptiveAvgPool2d(1),\n",
    "    Flatten(),\n",
    ")\n",
    "\n",
    "model.cuda()\n",
    "\n",
    "for xb, yb in data.train_dl:\n",
    "    out = (model(*[xb]))\n",
    "    print(out.size())\n",
    "    break"
   ]
  },
  {
   "cell_type": "code",
   "execution_count": null,
   "metadata": {
    "hide_input": true
   },
   "outputs": [
    {
     "data": {
      "text/markdown": [
       "<h4 id=\"PoolFlatten\"><code>PoolFlatten</code><a href=\"https://github.com/fastai/fastai/blob/master/fastai/layers.py#L28\" class=\"source_link\">[source]</a></h4>\n",
       "\n",
       "> <code>PoolFlatten</code>() → [`Sequential`](https://pytorch.org/docs/stable/nn.html#torch.nn.Sequential)\n",
       "\n",
       "Apply [`nn.AdaptiveAvgPool2d`](https://pytorch.org/docs/stable/nn.html#torch.nn.AdaptiveAvgPool2d) to `x` and then flatten the result.  "
      ],
      "text/plain": [
       "<IPython.core.display.Markdown object>"
      ]
     },
     "metadata": {},
     "output_type": "display_data"
    }
   ],
   "source": [
    "show_doc(PoolFlatten)"
   ]
  },
  {
   "cell_type": "markdown",
   "metadata": {},
   "source": [
    "We can combine these two final layers ([AdaptiveAvgPool2d](https://pytorch.org/docs/stable/nn.html#torch.nn.AdaptiveAvgPool2d) and [`Flatten`](/layers.html#Flatten)) by using [`PoolFlatten`](/layers.html#PoolFlatten)."
   ]
  },
  {
   "cell_type": "code",
   "execution_count": null,
   "metadata": {},
   "outputs": [
    {
     "name": "stdout",
     "output_type": "stream",
     "text": [
      "torch.Size([64, 10])\n"
     ]
    }
   ],
   "source": [
    "model = nn.Sequential(\n",
    "    nn.Conv2d(3,  16, kernel_size=3, stride=2, padding=1), nn.ReLU(),\n",
    "    nn.Conv2d(16, 16, kernel_size=3, stride=2, padding=1), nn.ReLU(),\n",
    "    nn.Conv2d(16, 10, kernel_size=3, stride=2, padding=1), nn.ReLU(),\n",
    "    PoolFlatten()\n",
    ")\n",
    "\n",
    "model.cuda()\n",
    "\n",
    "for xb, yb in data.train_dl:\n",
    "    out = (model(*[xb]))\n",
    "    print(out.size())\n",
    "    break"
   ]
  },
  {
   "cell_type": "markdown",
   "metadata": {},
   "source": [
    "Another use we give to the Lambda function is to resize batches with [`ResizeBatch`](/layers.html#ResizeBatch) when we have a layer that expects a different input than what comes from the previous one."
   ]
  },
  {
   "cell_type": "code",
   "execution_count": null,
   "metadata": {
    "hide_input": true
   },
   "outputs": [
    {
     "data": {
      "text/markdown": [
       "<h4 id=\"ResizeBatch\"><code>ResizeBatch</code><a href=\"https://github.com/fastai/fastai/blob/master/fastai/layers.py#L19\" class=\"source_link\">[source]</a></h4>\n",
       "\n",
       "> <code>ResizeBatch</code>(`size`:`int`) → `Tensor`\n",
       "\n",
       "Layer that resizes x to `size`, good for connecting mismatched layers.  "
      ],
      "text/plain": [
       "<IPython.core.display.Markdown object>"
      ]
     },
     "metadata": {},
     "output_type": "display_data"
    }
   ],
   "source": [
    "show_doc(ResizeBatch)"
   ]
  },
  {
   "cell_type": "code",
   "execution_count": null,
   "metadata": {},
   "outputs": [
    {
     "name": "stdout",
     "output_type": "stream",
     "text": [
      "tensor([[ 1., -1.],\n",
      "        [ 1., -1.]])\n"
     ]
    }
   ],
   "source": [
    "a = torch.tensor([[1., -1.], [1., -1.]])\n",
    "print(a)"
   ]
  },
  {
   "cell_type": "code",
   "execution_count": null,
   "metadata": {},
   "outputs": [
    {
     "name": "stdout",
     "output_type": "stream",
     "text": [
      "tensor([[ 1., -1.,  1., -1.]])\n"
     ]
    }
   ],
   "source": [
    "out = ResizeBatch(4)\n",
    "print(out(a))"
   ]
  },
  {
   "cell_type": "code",
   "execution_count": null,
   "metadata": {
    "hide_input": true
   },
   "outputs": [
    {
     "data": {
      "text/markdown": [
       "<h3 id=\"Debugger\"><code>class</code> <code>Debugger</code><a href=\"https://github.com/fastai/fastai/blob/master/fastai/layers.py#L174\" class=\"source_link\">[source]</a></h3>\n",
       "\n",
       "> <code>Debugger</code>() :: [`Module`](https://pytorch.org/docs/stable/nn.html#torch.nn.Module)\n",
       "\n",
       "A module to debug inside a model.  "
      ],
      "text/plain": [
       "<IPython.core.display.Markdown object>"
      ]
     },
     "metadata": {},
     "output_type": "display_data"
    }
   ],
   "source": [
    "show_doc(Debugger, title_level=3)"
   ]
  },
  {
   "cell_type": "markdown",
   "metadata": {},
   "source": [
    "The debugger module allows us to peek inside a network while its training and see in detail what is going on. We can see inputs, ouputs and sizes at any point in the network.\n",
    "\n",
    "For instance, if you run the following:\n",
    "\n",
    "``` python\n",
    "model = nn.Sequential(\n",
    "    nn.Conv2d(3,  16, kernel_size=3, stride=2, padding=1), nn.ReLU(),\n",
    "    Debugger(),\n",
    "    nn.Conv2d(16, 16, kernel_size=3, stride=2, padding=1), nn.ReLU(),\n",
    "    nn.Conv2d(16, 10, kernel_size=3, stride=2, padding=1), nn.ReLU(),\n",
    ")\n",
    "\n",
    "model.cuda()\n",
    "\n",
    "learner = Learner(data, model, metrics=[accuracy])\n",
    "learner.fit(5)\n",
    "```\n",
    "... you'll see something like this:\n",
    "\n",
    "```\n",
    "/home/ubuntu/fastai/fastai/layers.py(74)forward()\n",
    "     72     def forward(self,x:Tensor) -> Tensor:\n",
    "     73         set_trace()\n",
    "---> 74         return x\n",
    "     75 \n",
    "     76 class StdUpsample(nn.Module):\n",
    "\n",
    "ipdb>\n",
    "```"
   ]
  },
  {
   "cell_type": "code",
   "execution_count": null,
   "metadata": {
    "hide_input": true
   },
   "outputs": [
    {
     "data": {
      "text/markdown": [
       "<h3 id=\"PixelShuffle_ICNR\"><code>class</code> <code>PixelShuffle_ICNR</code><a href=\"https://github.com/fastai/fastai/blob/master/fastai/layers.py#L190\" class=\"source_link\">[source]</a></h3>\n",
       "\n",
       "> <code>PixelShuffle_ICNR</code>(`ni`:`int`, `nf`:`int`=`None`, `scale`:`int`=`2`, `blur`:`bool`=`False`, `norm_type`=`<NormType.Weight: 3>`, `leaky`:`float`=`None`) :: [`Module`](https://pytorch.org/docs/stable/nn.html#torch.nn.Module)\n",
       "\n",
       "Upsample by `scale` from `ni` filters to `nf` (default `ni`), using [`nn.PixelShuffle`](https://pytorch.org/docs/stable/nn.html#torch.nn.PixelShuffle), [`icnr`](/layers.html#icnr) init, and [`weight_norm`](https://pytorch.org/docs/stable/nn.html#torch.nn.weight_norm).  "
      ],
      "text/plain": [
       "<IPython.core.display.Markdown object>"
      ]
     },
     "metadata": {},
     "output_type": "display_data"
    }
   ],
   "source": [
    "show_doc(PixelShuffle_ICNR, title_level=3)"
   ]
  },
  {
   "cell_type": "code",
   "execution_count": null,
   "metadata": {
    "hide_input": true
   },
   "outputs": [
    {
     "data": {
      "text/markdown": [
       "<h3 id=\"MergeLayer\"><code>class</code> <code>MergeLayer</code><a href=\"https://github.com/fastai/fastai/blob/master/fastai/layers.py#L126\" class=\"source_link\">[source]</a></h3>\n",
       "\n",
       "> <code>MergeLayer</code>(`dense`:`bool`=`False`) :: [`Module`](https://pytorch.org/docs/stable/nn.html#torch.nn.Module)\n",
       "\n",
       "Merge a shortcut with the result of the module by adding them or concatenating thme if `dense=True`.  "
      ],
      "text/plain": [
       "<IPython.core.display.Markdown object>"
      ]
     },
     "metadata": {},
     "output_type": "display_data"
    }
   ],
   "source": [
    "show_doc(MergeLayer, title_level=3)"
   ]
  },
  {
   "cell_type": "code",
   "execution_count": null,
   "metadata": {
    "hide_input": true
   },
   "outputs": [
    {
     "data": {
      "text/markdown": [
       "<h3 id=\"PartialLayer\"><code>class</code> <code>PartialLayer</code><a href=\"https://github.com/fastai/fastai/blob/master/fastai/layers.py#L155\" class=\"source_link\">[source]</a></h3>\n",
       "\n",
       "> <code>PartialLayer</code>(`func`, `kwargs`) :: [`Module`](https://pytorch.org/docs/stable/nn.html#torch.nn.Module)\n",
       "\n",
       "Layer that applies `partial(func, **kwargs)`.  "
      ],
      "text/plain": [
       "<IPython.core.display.Markdown object>"
      ]
     },
     "metadata": {},
     "output_type": "display_data"
    }
   ],
   "source": [
    "show_doc(PartialLayer, title_level=3)"
   ]
  },
  {
   "cell_type": "code",
   "execution_count": null,
   "metadata": {
    "hide_input": true
   },
   "outputs": [
    {
     "data": {
      "text/markdown": [
       "<h3 id=\"SigmoidRange\"><code>class</code> <code>SigmoidRange</code><a href=\"https://github.com/fastai/fastai/blob/master/fastai/layers.py#L147\" class=\"source_link\">[source]</a></h3>\n",
       "\n",
       "> <code>SigmoidRange</code>(`low`, `high`) :: [`Module`](https://pytorch.org/docs/stable/nn.html#torch.nn.Module)\n",
       "\n",
       "Sigmoid module with range `(low,x_max)`  "
      ],
      "text/plain": [
       "<IPython.core.display.Markdown object>"
      ]
     },
     "metadata": {},
     "output_type": "display_data"
    }
   ],
   "source": [
    "show_doc(SigmoidRange, title_level=3)"
   ]
  },
  {
   "cell_type": "code",
   "execution_count": null,
   "metadata": {
    "hide_input": true
   },
   "outputs": [
    {
     "data": {
      "text/markdown": [
       "<h3 id=\"SequentialEx\"><code>class</code> <code>SequentialEx</code><a href=\"https://github.com/fastai/fastai/blob/master/fastai/layers.py#L105\" class=\"source_link\">[source]</a></h3>\n",
       "\n",
       "> <code>SequentialEx</code>(`layers`) :: [`Module`](https://pytorch.org/docs/stable/nn.html#torch.nn.Module)\n",
       "\n",
       "Like [`nn.Sequential`](https://pytorch.org/docs/stable/nn.html#torch.nn.Sequential), but with ModuleList semantics, and can access module input  "
      ],
      "text/plain": [
       "<IPython.core.display.Markdown object>"
      ]
     },
     "metadata": {},
     "output_type": "display_data"
    }
   ],
   "source": [
    "show_doc(SequentialEx, title_level=3)"
   ]
  },
  {
   "cell_type": "code",
   "execution_count": null,
   "metadata": {
    "hide_input": true
   },
   "outputs": [
    {
     "data": {
      "text/markdown": [
       "<h3 id=\"SelfAttention\"><code>class</code> <code>SelfAttention</code><a href=\"https://github.com/fastai/fastai/blob/master/fastai/layers.py#L57\" class=\"source_link\">[source]</a></h3>\n",
       "\n",
       "> <code>SelfAttention</code>(`n_channels`:`int`) :: [`Module`](https://pytorch.org/docs/stable/nn.html#torch.nn.Module)\n",
       "\n",
       "Self attention layer for 2d.  "
      ],
      "text/plain": [
       "<IPython.core.display.Markdown object>"
      ]
     },
     "metadata": {},
     "output_type": "display_data"
    }
   ],
   "source": [
    "show_doc(SelfAttention, title_level=3)"
   ]
  },
  {
   "cell_type": "markdown",
   "metadata": {},
   "source": [
    "## Loss functions"
   ]
  },
  {
   "cell_type": "code",
   "execution_count": null,
   "metadata": {
    "hide_input": true
   },
   "outputs": [
    {
     "data": {
      "text/markdown": [
       "<h3 id=\"FlattenedLoss\"><code>class</code> <code>FlattenedLoss</code><a href=\"https://github.com/fastai/fastai/blob/master/fastai/layers.py#L209\" class=\"source_link\">[source]</a></h3>\n",
       "\n",
       "> <code>FlattenedLoss</code>(`func`, `args`, `axis`:`int`=`-1`, `floatify`:`bool`=`False`, `is_2d`:`bool`=`True`, `kwargs`)\n",
       "\n",
       "Same as `func`, but flattens input and target.  "
      ],
      "text/plain": [
       "<IPython.core.display.Markdown object>"
      ]
     },
     "metadata": {},
     "output_type": "display_data"
    }
   ],
   "source": [
    "show_doc(FlattenedLoss, title_level=3)"
   ]
  },
  {
   "cell_type": "markdown",
   "metadata": {},
   "source": [
    "Create an instance of `func` with `args` and `kwargs`. When passing an output and target, it\n",
    "- puts `axis` first in output and target with a transpose\n",
    "- casts the target to `float` is `floatify=True`\n",
    "- squeezes the `output` to two dimensions if `is_2d`, otherwise one dimension, squeezes the target to one dimension\n",
    "- applied the instance of `func`."
   ]
  },
  {
   "cell_type": "code",
   "execution_count": null,
   "metadata": {
    "hide_input": true
   },
   "outputs": [
    {
     "data": {
      "text/markdown": [
       "<h4 id=\"BCEFlat\"><code>BCEFlat</code><a href=\"https://github.com/fastai/fastai/blob/master/fastai/layers.py#L234\" class=\"source_link\">[source]</a></h4>\n",
       "\n",
       "> <code>BCEFlat</code>(`args`, `axis`:`int`=`-1`, `floatify`:`bool`=`True`, `kwargs`)\n",
       "\n",
       "Same as [`nn.BCELoss`](https://pytorch.org/docs/stable/nn.html#torch.nn.BCELoss), but flattens input and target.  "
      ],
      "text/plain": [
       "<IPython.core.display.Markdown object>"
      ]
     },
     "metadata": {},
     "output_type": "display_data"
    }
   ],
   "source": [
    "show_doc(BCEFlat)"
   ]
  },
  {
   "cell_type": "code",
   "execution_count": null,
   "metadata": {
    "hide_input": true
   },
   "outputs": [
    {
     "data": {
      "text/markdown": [
       "<h4 id=\"BCEWithLogitsFlat\"><code>BCEWithLogitsFlat</code><a href=\"https://github.com/fastai/fastai/blob/master/fastai/layers.py#L230\" class=\"source_link\">[source]</a></h4>\n",
       "\n",
       "> <code>BCEWithLogitsFlat</code>(`args`, `axis`:`int`=`-1`, `floatify`:`bool`=`True`, `kwargs`)\n",
       "\n",
       "Same as [`nn.BCEWithLogitsLoss`](https://pytorch.org/docs/stable/nn.html#torch.nn.BCEWithLogitsLoss), but flattens input and target.  "
      ],
      "text/plain": [
       "<IPython.core.display.Markdown object>"
      ]
     },
     "metadata": {},
     "output_type": "display_data"
    }
   ],
   "source": [
    "show_doc(BCEWithLogitsFlat)"
   ]
  },
  {
   "cell_type": "code",
   "execution_count": null,
   "metadata": {
    "hide_input": true
   },
   "outputs": [
    {
     "data": {
      "text/markdown": [
       "<h4 id=\"CrossEntropyFlat\"><code>CrossEntropyFlat</code><a href=\"https://github.com/fastai/fastai/blob/master/fastai/layers.py#L226\" class=\"source_link\">[source]</a></h4>\n",
       "\n",
       "> <code>CrossEntropyFlat</code>(`args`, `axis`:`int`=`-1`, `kwargs`)\n",
       "\n",
       "Same as [`nn.CrossEntropyLoss`](https://pytorch.org/docs/stable/nn.html#torch.nn.CrossEntropyLoss), but flattens input and target.  "
      ],
      "text/plain": [
       "<IPython.core.display.Markdown object>"
      ]
     },
     "metadata": {},
     "output_type": "display_data"
    }
   ],
   "source": [
    "show_doc(CrossEntropyFlat)"
   ]
  },
  {
   "cell_type": "code",
   "execution_count": null,
   "metadata": {
    "hide_input": true
   },
   "outputs": [
    {
     "data": {
      "text/markdown": [
       "<h4 id=\"MSELossFlat\"><code>MSELossFlat</code><a href=\"https://github.com/fastai/fastai/blob/master/fastai/layers.py#L238\" class=\"source_link\">[source]</a></h4>\n",
       "\n",
       "> <code>MSELossFlat</code>(`args`, `axis`:`int`=`-1`, `floatify`:`bool`=`True`, `kwargs`)\n",
       "\n",
       "Same as [`nn.MSELoss`](https://pytorch.org/docs/stable/nn.html#torch.nn.MSELoss), but flattens input and target.  "
      ],
      "text/plain": [
       "<IPython.core.display.Markdown object>"
      ]
     },
     "metadata": {},
     "output_type": "display_data"
    }
   ],
   "source": [
    "show_doc(MSELossFlat)"
   ]
  },
  {
   "cell_type": "code",
   "execution_count": null,
   "metadata": {
    "hide_input": true
   },
   "outputs": [
    {
     "data": {
      "text/markdown": [
       "<h2 id=\"NoopLoss\"><code>class</code> <code>NoopLoss</code><a href=\"https://github.com/fastai/fastai/blob/master/fastai/layers.py#L242\" class=\"source_link\">[source]</a></h2>\n",
       "\n",
       "> <code>NoopLoss</code>() :: [`Module`](https://pytorch.org/docs/stable/nn.html#torch.nn.Module)\n",
       "\n",
       "Just returns the mean of the `output`.  "
      ],
      "text/plain": [
       "<IPython.core.display.Markdown object>"
      ]
     },
     "metadata": {},
     "output_type": "display_data"
    }
   ],
   "source": [
    "show_doc(NoopLoss)"
   ]
  },
  {
   "cell_type": "code",
   "execution_count": null,
   "metadata": {
    "hide_input": true
   },
   "outputs": [
    {
     "data": {
      "text/markdown": [
       "<h2 id=\"WassersteinLoss\"><code>class</code> <code>WassersteinLoss</code><a href=\"https://github.com/fastai/fastai/blob/master/fastai/layers.py#L246\" class=\"source_link\">[source]</a></h2>\n",
       "\n",
       "> <code>WassersteinLoss</code>() :: [`Module`](https://pytorch.org/docs/stable/nn.html#torch.nn.Module)\n",
       "\n",
       "For WGAN.  "
      ],
      "text/plain": [
       "<IPython.core.display.Markdown object>"
      ]
     },
     "metadata": {},
     "output_type": "display_data"
    }
   ],
   "source": [
    "show_doc(WassersteinLoss)"
   ]
  },
  {
   "cell_type": "markdown",
   "metadata": {},
   "source": [
    "## Helper functions to create modules"
   ]
  },
  {
   "cell_type": "code",
   "execution_count": null,
   "metadata": {
    "hide_input": true
   },
   "outputs": [
    {
     "data": {
      "text/markdown": [
       "<h4 id=\"bn_drop_lin\"><code>bn_drop_lin</code><a href=\"https://github.com/fastai/fastai/blob/master/fastai/layers.py#L42\" class=\"source_link\">[source]</a></h4>\n",
       "\n",
       "> <code>bn_drop_lin</code>(`n_in`:`int`, `n_out`:`int`, `bn`:`bool`=`True`, `p`:`float`=`0.0`, `actn`:`Optional`\\[[`Module`](https://pytorch.org/docs/stable/nn.html#torch.nn.Module)\\]=`None`)"
      ],
      "text/plain": [
       "<IPython.core.display.Markdown object>"
      ]
     },
     "metadata": {},
     "output_type": "display_data"
    }
   ],
   "source": [
    "show_doc(bn_drop_lin, doc_string=False)"
   ]
  },
  {
   "cell_type": "markdown",
   "metadata": {},
   "source": [
    "The [`bn_drop_lin`](/layers.html#bn_drop_lin) function returns a sequence of [batch normalization](https://arxiv.org/abs/1502.03167), [dropout](https://www.cs.toronto.edu/~hinton/absps/JMLRdropout.pdf) and a linear layer. This custom layer is usually used at the end of a model. \n",
    "\n",
    "`n_in` represents the number of size of the input `n_out` the size of the output, `bn` whether we want batch norm or not, `p` is how much dropout and `actn` is an optional parameter to add an activation function at the end."
   ]
  },
  {
   "cell_type": "code",
   "execution_count": null,
   "metadata": {
    "hide_input": true
   },
   "outputs": [
    {
     "data": {
      "text/markdown": [
       "<h4 id=\"conv2d\"><code>conv2d</code><a href=\"https://github.com/fastai/fastai/blob/master/fastai/layers.py#L75\" class=\"source_link\">[source]</a></h4>\n",
       "\n",
       "> <code>conv2d</code>(`ni`:`int`, `nf`:`int`, `ks`:`int`=`3`, `stride`:`int`=`1`, `padding`:`int`=`None`, `bias`=`False`, `init`:`LayerFunc`=`'kaiming_normal_'`) → [`Conv2d`](https://pytorch.org/docs/stable/nn.html#torch.nn.Conv2d)\n",
       "\n",
       "Create and initialize [`nn.Conv2d`](https://pytorch.org/docs/stable/nn.html#torch.nn.Conv2d) layer. `padding` defaults to `ks//2`.  "
      ],
      "text/plain": [
       "<IPython.core.display.Markdown object>"
      ]
     },
     "metadata": {},
     "output_type": "display_data"
    }
   ],
   "source": [
    "show_doc(conv2d)"
   ]
  },
  {
   "cell_type": "code",
   "execution_count": null,
   "metadata": {
    "hide_input": true
   },
   "outputs": [
    {
     "data": {
      "text/markdown": [
       "<h4 id=\"conv2d_trans\"><code>conv2d_trans</code><a href=\"https://github.com/fastai/fastai/blob/master/fastai/layers.py#L80\" class=\"source_link\">[source]</a></h4>\n",
       "\n",
       "> <code>conv2d_trans</code>(`ni`:`int`, `nf`:`int`, `ks`:`int`=`2`, `stride`:`int`=`2`, `padding`:`int`=`0`, `bias`=`False`) → [`ConvTranspose2d`](https://pytorch.org/docs/stable/nn.html#torch.nn.ConvTranspose2d)\n",
       "\n",
       "Create [`nn.ConvTranspose2d`](https://pytorch.org/docs/stable/nn.html#torch.nn.ConvTranspose2d) layer.  "
      ],
      "text/plain": [
       "<IPython.core.display.Markdown object>"
      ]
     },
     "metadata": {},
     "output_type": "display_data"
    }
   ],
   "source": [
    "show_doc(conv2d_trans)"
   ]
  },
  {
   "cell_type": "code",
   "execution_count": null,
   "metadata": {
    "hide_input": true
   },
   "outputs": [
    {
     "data": {
      "text/markdown": [
       "<h4 id=\"conv_layer\"><code>conv_layer</code><a href=\"https://github.com/fastai/fastai/blob/master/fastai/layers.py#L88\" class=\"source_link\">[source]</a></h4>\n",
       "\n",
       "> <code>conv_layer</code>(`ni`:`int`, `nf`:`int`, `ks`:`int`=`3`, `stride`:`int`=`1`, `padding`:`int`=`None`, `bias`:`bool`=`None`, `is_1d`:`bool`=`False`, `norm_type`:`Optional`\\[[`NormType`](/layers.html#NormType)\\]=`<NormType.Batch: 1>`, `use_activ`:`bool`=`True`, `leaky`:`float`=`None`, `transpose`:`bool`=`False`, `init`:`Callable`=`'kaiming_normal_'`, `self_attention`:`bool`=`False`)"
      ],
      "text/plain": [
       "<IPython.core.display.Markdown object>"
      ]
     },
     "metadata": {},
     "output_type": "display_data"
    }
   ],
   "source": [
    "show_doc(conv_layer, doc_string=False)"
   ]
  },
  {
   "cell_type": "markdown",
   "metadata": {},
   "source": [
    "The [`conv_layer`](/layers.html#conv_layer) function returns a sequence of [nn.Conv2D](https://pytorch.org/docs/stable/nn.html#torch.nn.Conv2d), [BatchNorm](https://arxiv.org/abs/1502.03167) and a ReLU or [leaky RELU](https://ai.stanford.edu/~amaas/papers/relu_hybrid_icml2013_final.pdf) activation function.\n",
    "\n",
    "`n_in` represents the number of size of the input `n_out` the size of the output, `ks` kernel size, `stride` the stride with which we want to apply the convolutions. `bias` will decide if they have bias or not (if None, defaults to True unless using batchnorm). `norm_type` selects type of normalization (or `None`). If `leaky` is None, the activation is a standard `ReLU`, otherwise it's a `LearkyReLU` of slope `leaky`. Finally if `transpose=True`, the convolution is replaced by a `ConvTranspose2D`."
   ]
  },
  {
   "cell_type": "code",
   "execution_count": null,
   "metadata": {
    "hide_input": true
   },
   "outputs": [
    {
     "data": {
      "text/markdown": [
       "<h4 id=\"embedding\"><code>embedding</code><a href=\"https://github.com/fastai/fastai/blob/master/fastai/layers.py#L266\" class=\"source_link\">[source]</a></h4>\n",
       "\n",
       "> <code>embedding</code>(`ni`:`int`, `nf`:`int`) → [`Module`](https://pytorch.org/docs/stable/nn.html#torch.nn.Module)"
      ],
      "text/plain": [
       "<IPython.core.display.Markdown object>"
      ]
     },
     "metadata": {},
     "output_type": "display_data"
    }
   ],
   "source": [
    "show_doc(embedding, doc_string=False)"
   ]
  },
  {
   "cell_type": "markdown",
   "metadata": {},
   "source": [
    "Create an [embedding layer](https://arxiv.org/abs/1711.09160) with input size `ni` and output size `nf`."
   ]
  },
  {
   "cell_type": "code",
   "execution_count": null,
   "metadata": {
    "hide_input": true
   },
   "outputs": [
    {
     "data": {
      "text/markdown": [
       "<h4 id=\"relu\"><code>relu</code><a href=\"https://github.com/fastai/fastai/blob/master/fastai/layers.py#L84\" class=\"source_link\">[source]</a></h4>\n",
       "\n",
       "> <code>relu</code>(`inplace`:`bool`=`False`, `leaky`:`float`=`None`)\n",
       "\n",
       "Return a relu activation, maybe `leaky` and `inplace`.  "
      ],
      "text/plain": [
       "<IPython.core.display.Markdown object>"
      ]
     },
     "metadata": {},
     "output_type": "display_data"
    }
   ],
   "source": [
    "show_doc(relu)"
   ]
  },
  {
   "cell_type": "code",
   "execution_count": null,
   "metadata": {
    "hide_input": true
   },
   "outputs": [
    {
     "data": {
      "text/markdown": [
       "<h4 id=\"res_block\"><code>res_block</code><a href=\"https://github.com/fastai/fastai/blob/master/fastai/layers.py#L134\" class=\"source_link\">[source]</a></h4>\n",
       "\n",
       "> <code>res_block</code>(`nf`, `dense`:`bool`=`False`, `norm_type`:`Optional`\\[[`NormType`](/layers.html#NormType)\\]=`<NormType.Batch: 1>`, `bottle`:`bool`=`False`, `kwargs`)\n",
       "\n",
       "Resnet block of `nf` features.  "
      ],
      "text/plain": [
       "<IPython.core.display.Markdown object>"
      ]
     },
     "metadata": {},
     "output_type": "display_data"
    }
   ],
   "source": [
    "show_doc(res_block)"
   ]
  },
  {
   "cell_type": "code",
   "execution_count": null,
   "metadata": {
    "hide_input": true
   },
   "outputs": [
    {
     "data": {
      "text/markdown": [
       "<h4 id=\"sigmoid_range\"><code>sigmoid_range</code><a href=\"https://github.com/fastai/fastai/blob/master/fastai/layers.py#L143\" class=\"source_link\">[source]</a></h4>\n",
       "\n",
       "> <code>sigmoid_range</code>(`x`, `low`, `high`)\n",
       "\n",
       "Sigmoid function with range `(low, high)`  "
      ],
      "text/plain": [
       "<IPython.core.display.Markdown object>"
      ]
     },
     "metadata": {},
     "output_type": "display_data"
    }
   ],
   "source": [
    "show_doc(sigmoid_range)"
   ]
  },
  {
   "cell_type": "code",
   "execution_count": null,
   "metadata": {
    "hide_input": true
   },
   "outputs": [
    {
     "data": {
      "text/markdown": [
       "<h4 id=\"simple_cnn\"><code>simple_cnn</code><a href=\"https://github.com/fastai/fastai/blob/master/fastai/layers.py#L250\" class=\"source_link\">[source]</a></h4>\n",
       "\n",
       "> <code>simple_cnn</code>(`actns`:`Collection`\\[`int`\\], `kernel_szs`:`Collection`\\[`int`\\]=`None`, `strides`:`Collection`\\[`int`\\]=`None`, `bn`=`False`) → [`Sequential`](https://pytorch.org/docs/stable/nn.html#torch.nn.Sequential)\n",
       "\n",
       "CNN with [`conv_layer`](/layers.html#conv_layer) defined by `actns`, `kernel_szs` and `strides`, plus batchnorm if `bn`.  "
      ],
      "text/plain": [
       "<IPython.core.display.Markdown object>"
      ]
     },
     "metadata": {},
     "output_type": "display_data"
    }
   ],
   "source": [
    "show_doc(simple_cnn)"
   ]
  },
  {
   "cell_type": "markdown",
   "metadata": {},
   "source": [
    "## Initialization of modules"
   ]
  },
  {
   "cell_type": "code",
   "execution_count": null,
   "metadata": {
    "hide_input": true
   },
   "outputs": [
    {
     "data": {
      "text/markdown": [
       "<h4 id=\"batchnorm_2d\"><code>batchnorm_2d</code><a href=\"https://github.com/fastai/fastai/blob/master/fastai/layers.py#L34\" class=\"source_link\">[source]</a></h4>\n",
       "\n",
       "> <code>batchnorm_2d</code>(`nf`:`int`, `norm_type`:[`NormType`](/layers.html#NormType)=`<NormType.Batch: 1>`)\n",
       "\n",
       "A batchnorm2d layer with `nf` features initialized depending on `norm_type`.  "
      ],
      "text/plain": [
       "<IPython.core.display.Markdown object>"
      ]
     },
     "metadata": {},
     "output_type": "display_data"
    }
   ],
   "source": [
    "show_doc(batchnorm_2d)"
   ]
  },
  {
   "cell_type": "code",
   "execution_count": null,
   "metadata": {
    "hide_input": true
   },
   "outputs": [
    {
     "data": {
      "text/markdown": [
       "<h4 id=\"icnr\"><code>icnr</code><a href=\"https://github.com/fastai/fastai/blob/master/fastai/layers.py#L180\" class=\"source_link\">[source]</a></h4>\n",
       "\n",
       "> <code>icnr</code>(`x`, `scale`=`2`, `init`=`'kaiming_normal_'`)\n",
       "\n",
       "ICNR init of `x`, with `scale` and `init` function.  "
      ],
      "text/plain": [
       "<IPython.core.display.Markdown object>"
      ]
     },
     "metadata": {},
     "output_type": "display_data"
    }
   ],
   "source": [
    "show_doc(icnr)"
   ]
  },
  {
   "cell_type": "code",
   "execution_count": null,
   "metadata": {
    "hide_input": true
   },
   "outputs": [
    {
     "data": {
      "text/markdown": [
       "<h4 id=\"trunc_normal_\"><code>trunc_normal_</code><a href=\"https://github.com/fastai/fastai/blob/master/fastai/layers.py#L261\" class=\"source_link\">[source]</a></h4>\n",
       "\n",
       "> <code>trunc_normal_</code>(`x`:`Tensor`, `mean`:`float`=`0.0`, `std`:`float`=`1.0`) → `Tensor`\n",
       "\n",
       "Truncated normal initialization.  "
      ],
      "text/plain": [
       "<IPython.core.display.Markdown object>"
      ]
     },
     "metadata": {},
     "output_type": "display_data"
    }
   ],
   "source": [
    "show_doc(trunc_normal_)"
   ]
  },
  {
   "cell_type": "code",
   "execution_count": null,
   "metadata": {
    "hide_input": true
   },
   "outputs": [
    {
     "data": {
      "text/markdown": [
       "<h4 id=\"icnr\"><code>icnr</code><a href=\"https://github.com/fastai/fastai/blob/master/fastai/layers.py#L180\" class=\"source_link\">[source]</a></h4>\n",
       "\n",
       "> <code>icnr</code>(`x`, `scale`=`2`, `init`=`'kaiming_normal_'`)\n",
       "\n",
       "ICNR init of `x`, with `scale` and `init` function.  "
      ],
      "text/plain": [
       "<IPython.core.display.Markdown object>"
      ]
     },
     "metadata": {},
     "output_type": "display_data"
    }
   ],
   "source": [
    "show_doc(icnr)"
   ]
  },
  {
   "cell_type": "code",
   "execution_count": null,
   "metadata": {
    "hide_input": true
   },
   "outputs": [
    {
     "data": {
      "text/markdown": [
       "<h2 id=\"NormType\">`NormType`</h2>\n",
       "\n",
       "> <code>Enum</code> = [Batch, BatchZero, Weight, Spectral]\n",
       "\n",
       "An enumeration.  "
      ],
      "text/plain": [
       "<IPython.core.display.Markdown object>"
      ]
     },
     "metadata": {},
     "output_type": "display_data"
    }
   ],
   "source": [
    "show_doc(NormType)"
   ]
  },
  {
   "cell_type": "markdown",
   "metadata": {},
   "source": [
    "## Undocumented Methods - Methods moved below this line will intentionally be hidden"
   ]
  },
  {
   "cell_type": "code",
   "execution_count": null,
   "metadata": {},
   "outputs": [
    {
     "data": {
      "text/markdown": [
       "<h4 id=\"Debugger.forward\"><code>forward</code><a href=\"https://github.com/fastai/fastai/blob/master/fastai/layers.py#L176\" class=\"source_link\">[source]</a></h4>\n",
       "\n",
       "> <code>forward</code>(`x`:`Tensor`) → `Tensor`\n",
       "\n",
       "Defines the computation performed at every call. Should be overridden by all subclasses.\n",
       "\n",
       ".. note::\n",
       "    Although the recipe for forward pass needs to be defined within\n",
       "    this function, one should call the :class:`Module` instance afterwards\n",
       "    instead of this since the former takes care of running the\n",
       "    registered hooks while the latter silently ignores them. "
      ],
      "text/plain": [
       "<IPython.core.display.Markdown object>"
      ]
     },
     "metadata": {},
     "output_type": "display_data"
    }
   ],
   "source": [
    "show_doc(Debugger.forward)"
   ]
  },
  {
   "cell_type": "code",
   "execution_count": null,
   "metadata": {},
   "outputs": [
    {
     "data": {
      "text/markdown": [
       "<h4 id=\"Lambda.forward\"><code>forward</code><a href=\"https://github.com/fastai/fastai/blob/master/fastai/layers.py#L17\" class=\"source_link\">[source]</a></h4>\n",
       "\n",
       "> <code>forward</code>(`x`)\n",
       "\n",
       "Defines the computation performed at every call. Should be overridden by all subclasses.\n",
       "\n",
       ".. note::\n",
       "    Although the recipe for forward pass needs to be defined within\n",
       "    this function, one should call the :class:`Module` instance afterwards\n",
       "    instead of this since the former takes care of running the\n",
       "    registered hooks while the latter silently ignores them. "
      ],
      "text/plain": [
       "<IPython.core.display.Markdown object>"
      ]
     },
     "metadata": {},
     "output_type": "display_data"
    }
   ],
   "source": [
    "show_doc(Lambda.forward)"
   ]
  },
  {
   "cell_type": "code",
   "execution_count": null,
   "metadata": {},
   "outputs": [
    {
     "data": {
      "text/markdown": [
       "<h4 id=\"AdaptiveConcatPool2d.forward\"><code>forward</code><a href=\"https://github.com/fastai/fastai/blob/master/fastai/layers.py#L172\" class=\"source_link\">[source]</a></h4>\n",
       "\n",
       "> <code>forward</code>(`x`)\n",
       "\n",
       "Defines the computation performed at every call. Should be overridden by all subclasses.\n",
       "\n",
       ".. note::\n",
       "    Although the recipe for forward pass needs to be defined within\n",
       "    this function, one should call the :class:`Module` instance afterwards\n",
       "    instead of this since the former takes care of running the\n",
       "    registered hooks while the latter silently ignores them. "
      ],
      "text/plain": [
       "<IPython.core.display.Markdown object>"
      ]
     },
     "metadata": {},
     "output_type": "display_data"
    }
   ],
   "source": [
    "show_doc(AdaptiveConcatPool2d.forward)"
   ]
  },
  {
   "cell_type": "code",
   "execution_count": null,
   "metadata": {},
   "outputs": [
    {
     "data": {
      "text/markdown": [
       "<h4 id=\"NoopLoss.forward\"><code>forward</code><a href=\"https://github.com/fastai/fastai/blob/master/fastai/layers.py#L244\" class=\"source_link\">[source]</a></h4>\n",
       "\n",
       "> <code>forward</code>(`output`, `args`)\n",
       "\n",
       "Defines the computation performed at every call. Should be overridden by all subclasses.\n",
       "\n",
       ".. note::\n",
       "    Although the recipe for forward pass needs to be defined within\n",
       "    this function, one should call the :class:`Module` instance afterwards\n",
       "    instead of this since the former takes care of running the\n",
       "    registered hooks while the latter silently ignores them. "
      ],
      "text/plain": [
       "<IPython.core.display.Markdown object>"
      ]
     },
     "metadata": {},
     "output_type": "display_data"
    }
   ],
   "source": [
    "show_doc(NoopLoss.forward)"
   ]
  },
  {
   "cell_type": "code",
   "execution_count": null,
   "metadata": {},
   "outputs": [
    {
     "data": {
      "text/markdown": [
       "<h4 id=\"PixelShuffle_ICNR.forward\"><code>forward</code><a href=\"https://github.com/fastai/fastai/blob/master/fastai/layers.py#L205\" class=\"source_link\">[source]</a></h4>\n",
       "\n",
       "> <code>forward</code>(`x`)\n",
       "\n",
       "Defines the computation performed at every call. Should be overridden by all subclasses.\n",
       "\n",
       ".. note::\n",
       "    Although the recipe for forward pass needs to be defined within\n",
       "    this function, one should call the :class:`Module` instance afterwards\n",
       "    instead of this since the former takes care of running the\n",
       "    registered hooks while the latter silently ignores them. "
      ],
      "text/plain": [
       "<IPython.core.display.Markdown object>"
      ]
     },
     "metadata": {},
     "output_type": "display_data"
    }
   ],
   "source": [
    "show_doc(PixelShuffle_ICNR.forward)"
   ]
  },
  {
   "cell_type": "code",
   "execution_count": null,
   "metadata": {},
   "outputs": [
    {
     "data": {
      "text/markdown": [
       "<h4 id=\"WassersteinLoss.forward\"><code>forward</code><a href=\"https://github.com/fastai/fastai/blob/master/fastai/layers.py#L248\" class=\"source_link\">[source]</a></h4>\n",
       "\n",
       "> <code>forward</code>(`real`, `fake`)\n",
       "\n",
       "Defines the computation performed at every call. Should be overridden by all subclasses.\n",
       "\n",
       ".. note::\n",
       "    Although the recipe for forward pass needs to be defined within\n",
       "    this function, one should call the :class:`Module` instance afterwards\n",
       "    instead of this since the former takes care of running the\n",
       "    registered hooks while the latter silently ignores them. "
      ],
      "text/plain": [
       "<IPython.core.display.Markdown object>"
      ]
     },
     "metadata": {},
     "output_type": "display_data"
    }
   ],
   "source": [
    "show_doc(WassersteinLoss.forward)"
   ]
  },
  {
   "cell_type": "code",
   "execution_count": null,
   "metadata": {},
   "outputs": [
    {
     "data": {
      "text/markdown": [
       "<h4 id=\"MergeLayer.forward\"><code>forward</code><a href=\"https://github.com/fastai/fastai/blob/master/fastai/layers.py#L132\" class=\"source_link\">[source]</a></h4>\n",
       "\n",
       "> <code>forward</code>(`x`)\n",
       "\n",
       "Defines the computation performed at every call. Should be overridden by all subclasses.\n",
       "\n",
       ".. note::\n",
       "    Although the recipe for forward pass needs to be defined within\n",
       "    this function, one should call the :class:`Module` instance afterwards\n",
       "    instead of this since the former takes care of running the\n",
       "    registered hooks while the latter silently ignores them. "
      ],
      "text/plain": [
       "<IPython.core.display.Markdown object>"
      ]
     },
     "metadata": {},
     "output_type": "display_data"
    }
   ],
   "source": [
    "show_doc(MergeLayer.forward)"
   ]
  },
  {
   "cell_type": "code",
   "execution_count": null,
   "metadata": {},
   "outputs": [
    {
     "data": {
      "text/markdown": [
       "<h4 id=\"SigmoidRange.forward\"><code>forward</code><a href=\"https://github.com/fastai/fastai/blob/master/fastai/layers.py#L152\" class=\"source_link\">[source]</a></h4>\n",
       "\n",
       "> <code>forward</code>(`x`)\n",
       "\n",
       "Defines the computation performed at every call. Should be overridden by all subclasses.\n",
       "\n",
       ".. note::\n",
       "    Although the recipe for forward pass needs to be defined within\n",
       "    this function, one should call the :class:`Module` instance afterwards\n",
       "    instead of this since the former takes care of running the\n",
       "    registered hooks while the latter silently ignores them. "
      ],
      "text/plain": [
       "<IPython.core.display.Markdown object>"
      ]
     },
     "metadata": {},
     "output_type": "display_data"
    }
   ],
   "source": [
    "show_doc(SigmoidRange.forward)"
   ]
  },
  {
   "cell_type": "code",
   "execution_count": null,
   "metadata": {},
   "outputs": [
    {
     "data": {
      "text/markdown": [
       "<h4 id=\"MergeLayer.forward\"><code>forward</code><a href=\"https://github.com/fastai/fastai/blob/master/fastai/layers.py#L132\" class=\"source_link\">[source]</a></h4>\n",
       "\n",
       "> <code>forward</code>(`x`)\n",
       "\n",
       "Defines the computation performed at every call. Should be overridden by all subclasses.\n",
       "\n",
       ".. note::\n",
       "    Although the recipe for forward pass needs to be defined within\n",
       "    this function, one should call the :class:`Module` instance afterwards\n",
       "    instead of this since the former takes care of running the\n",
       "    registered hooks while the latter silently ignores them. "
      ],
      "text/plain": [
       "<IPython.core.display.Markdown object>"
      ]
     },
     "metadata": {},
     "output_type": "display_data"
    }
   ],
   "source": [
    "show_doc(MergeLayer.forward)"
   ]
  },
  {
   "cell_type": "code",
   "execution_count": null,
   "metadata": {},
   "outputs": [
    {
     "data": {
      "text/markdown": [
       "<h4 id=\"SelfAttention.forward\"><code>forward</code><a href=\"https://github.com/fastai/fastai/blob/master/fastai/layers.py#L66\" class=\"source_link\">[source]</a></h4>\n",
       "\n",
       "> <code>forward</code>(`x`)\n",
       "\n",
       "Defines the computation performed at every call. Should be overridden by all subclasses.\n",
       "\n",
       ".. note::\n",
       "    Although the recipe for forward pass needs to be defined within\n",
       "    this function, one should call the :class:`Module` instance afterwards\n",
       "    instead of this since the former takes care of running the\n",
       "    registered hooks while the latter silently ignores them. "
      ],
      "text/plain": [
       "<IPython.core.display.Markdown object>"
      ]
     },
     "metadata": {},
     "output_type": "display_data"
    }
   ],
   "source": [
    "show_doc(SelfAttention.forward)"
   ]
  },
  {
   "cell_type": "code",
   "execution_count": null,
   "metadata": {},
   "outputs": [
    {
     "data": {
      "text/markdown": [
       "<h4 id=\"SequentialEx.forward\"><code>forward</code><a href=\"https://github.com/fastai/fastai/blob/master/fastai/layers.py#L111\" class=\"source_link\">[source]</a></h4>\n",
       "\n",
       "> <code>forward</code>(`x`)\n",
       "\n",
       "Defines the computation performed at every call. Should be overridden by all subclasses.\n",
       "\n",
       ".. note::\n",
       "    Although the recipe for forward pass needs to be defined within\n",
       "    this function, one should call the :class:`Module` instance afterwards\n",
       "    instead of this since the former takes care of running the\n",
       "    registered hooks while the latter silently ignores them. "
      ],
      "text/plain": [
       "<IPython.core.display.Markdown object>"
      ]
     },
     "metadata": {},
     "output_type": "display_data"
    }
   ],
   "source": [
    "show_doc(SequentialEx.forward)"
   ]
  },
  {
   "cell_type": "code",
   "execution_count": null,
   "metadata": {},
   "outputs": [
    {
     "data": {
      "text/markdown": [
       "<h4 id=\"SequentialEx.append\"><code>append</code><a href=\"https://github.com/fastai/fastai/blob/master/fastai/layers.py#L122\" class=\"source_link\">[source]</a></h4>\n",
       "\n",
       "> <code>append</code>(`l`)"
      ],
      "text/plain": [
       "<IPython.core.display.Markdown object>"
      ]
     },
     "metadata": {},
     "output_type": "display_data"
    }
   ],
   "source": [
    "show_doc(SequentialEx.append)"
   ]
  },
  {
   "cell_type": "code",
   "execution_count": null,
   "metadata": {},
   "outputs": [
    {
     "data": {
      "text/markdown": [
       "<h4 id=\"SequentialEx.extend\"><code>extend</code><a href=\"https://github.com/fastai/fastai/blob/master/fastai/layers.py#L123\" class=\"source_link\">[source]</a></h4>\n",
       "\n",
       "> <code>extend</code>(`l`)"
      ],
      "text/plain": [
       "<IPython.core.display.Markdown object>"
      ]
     },
     "metadata": {},
     "output_type": "display_data"
    }
   ],
   "source": [
    "show_doc(SequentialEx.extend)"
   ]
  },
  {
   "cell_type": "code",
   "execution_count": null,
   "metadata": {},
   "outputs": [
    {
     "data": {
      "text/markdown": [
       "<h4 id=\"SequentialEx.insert\"><code>insert</code><a href=\"https://github.com/fastai/fastai/blob/master/fastai/layers.py#L124\" class=\"source_link\">[source]</a></h4>\n",
       "\n",
       "> <code>insert</code>(`i`, `l`)"
      ],
      "text/plain": [
       "<IPython.core.display.Markdown object>"
      ]
     },
     "metadata": {},
     "output_type": "display_data"
    }
   ],
   "source": [
    "show_doc(SequentialEx.insert)"
   ]
  },
  {
   "cell_type": "code",
   "execution_count": null,
   "metadata": {},
   "outputs": [
    {
     "data": {
      "text/markdown": [
       "<h4 id=\"PartialLayer.forward\"><code>forward</code><a href=\"https://github.com/fastai/fastai/blob/master/fastai/layers.py#L162\" class=\"source_link\">[source]</a></h4>\n",
       "\n",
       "> <code>forward</code>(`x`)\n",
       "\n",
       "Defines the computation performed at every call. Should be overridden by all subclasses.\n",
       "\n",
       ".. note::\n",
       "    Although the recipe for forward pass needs to be defined within\n",
       "    this function, one should call the :class:`Module` instance afterwards\n",
       "    instead of this since the former takes care of running the\n",
       "    registered hooks while the latter silently ignores them. "
      ],
      "text/plain": [
       "<IPython.core.display.Markdown object>"
      ]
     },
     "metadata": {},
     "output_type": "display_data"
    }
   ],
   "source": [
    "show_doc(PartialLayer.forward)"
   ]
  },
  {
   "cell_type": "markdown",
   "metadata": {},
   "source": [
    "## New Methods - Please document or move to the undocumented section"
   ]
  }
 ],
 "metadata": {
  "jekyll": {
   "keywords": "fastai",
   "summary": "Provides essential functions to building and modifying `Model` architectures.",
   "title": "layers"
  },
  "kernelspec": {
   "display_name": "Python 3",
   "language": "python",
   "name": "python3"
  }
 },
 "nbformat": 4,
 "nbformat_minor": 2
}

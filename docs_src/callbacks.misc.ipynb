{
 "cells": [
  {
   "cell_type": "markdown",
   "metadata": {},
   "source": [
    "## callbacks.misc"
   ]
  },
  {
   "cell_type": "markdown",
   "metadata": {},
   "source": [
    "Miscellaneous callbacks that don't belong to any specific group are to be found here."
   ]
  },
  {
   "cell_type": "code",
   "execution_count": null,
   "metadata": {
    "hide_input": true
   },
   "outputs": [],
   "source": [
    "from fastai.gen_doc.nbdoc import *\n",
    "from fastai.callbacks.misc import * "
   ]
  },
  {
   "cell_type": "code",
   "execution_count": null,
   "metadata": {
    "hide_input": true
   },
   "outputs": [
    {
     "data": {
      "text/markdown": [
       "<h2 id=\"StopAfterNBatches\" class=\"doc_header\"><code>class</code> <code>StopAfterNBatches</code><a href=\"https://github.com/fastai/fastai/blob/master/fastai/callbacks/misc.py#L5\" class=\"source_link\" style=\"float:right\">[source]</a><a class=\"source_link\" data-toggle=\"collapse\" data-target=\"#StopAfterNBatches-pytest\" style=\"float:right; padding-right:10px\">[test]</a></h2>\n",
       "\n",
       "> <code>StopAfterNBatches</code>(**`n_batches`**:`int`=***`2`***) :: [`Callback`](/callback.html#Callback)\n",
       "\n",
       "<div class=\"collapse\" id=\"StopAfterNBatches-pytest\"><div class=\"card card-body pytest_card\"><a type=\"button\" data-toggle=\"collapse\" data-target=\"#StopAfterNBatches-pytest\" class=\"close\" aria-label=\"Close\"><span aria-hidden=\"true\">&times;</span></a><p>Tests found for <code>StopAfterNBatches</code>:</p><ul><li><code>pytest -sv tests/test_callbacks_misc.py::test_stop_after_n_batches</code> <a href=\"https://github.com/fastai/fastai/blob/master/tests/test_callbacks_misc.py#L22\" class=\"source_link\" style=\"float:right\">[source]</a></li></ul><p>To run tests please refer to this <a href=\"/dev/test.html#quick-guide\">guide</a>.</p></div></div>\n",
       "\n",
       "Stop training after n batches of the first epoch.  "
      ],
      "text/plain": [
       "<IPython.core.display.Markdown object>"
      ]
     },
     "metadata": {},
     "output_type": "display_data"
    }
   ],
   "source": [
    "show_doc(StopAfterNBatches)"
   ]
  },
  {
   "cell_type": "markdown",
   "metadata": {},
   "source": [
    "[`StopAfterNBatches`](/callbacks.misc.html#StopAfterNBatches)"
   ]
  },
  {
   "cell_type": "markdown",
   "metadata": {},
   "source": [
    "There could be various uses for this handy callback. \n",
    "\n",
    "The initial purpose of it was to be able to quickly check memory requirements for a given set of hyperparamaters like `bs` and `size`.\n",
    "\n",
    "Since all the required GPU memory is setup during the first batch of the first epoch [see tutorial](https://docs.fast.ai/tutorial.resources.html#gpu-memory-usage-anatomy), it's enough to run just 1-2 batches to measure whether your hyperparameters are right and won't lead to Out-Of-Memory (OOM) errors. So instead of waiting for minutes or hours to just discover that your `bs` or `size` are too large, this callback allows you to do it seconds.\n",
    "\n",
    "You can deploy it on a specific learner (or fit call) just like with any other callback:\n",
    "\n",
    "```\n",
    "from fastai.callbacks.misc import StopAfterNBatches\n",
    "[...]\n",
    "learn = cnn_learner([...])\n",
    "learn.callbacks.append(StopAfterNBatches(learn, n_batches=2))\n",
    "learn.fit_one_cycle(3, max_lr=1e-2)\n",
    "```\n",
    "and it'll either fit into the existing memory or it'll immediately fail with OOM error. You may want to add [ipyexperiments](https://github.com/stas00/ipyexperiments/) to show you the memory usage, including the peak usage.\n",
    "\n",
    "This is good, but it's cumbersome since you have to change the notebook source code and often you will have multiple learners and fit calls in the same notebook, so here is how to do it globally by placing the following code somewhere on top of your notebook and leaving the rest of your notebook unmodified:\n",
    "\n",
    "```\n",
    "from fastai.callbacks.misc import StopAfterNBatches\n",
    "# True turns the speedup on, False return to normal behavior\n",
    "tune = True\n",
    "#tune = False\n",
    "if tune:\n",
    "    defaults.silent = True # don't print the fit metric headers\n",
    "    defaults.extra_callbacks = [StopAfterNBatches(n_batches=2)]\n",
    "else:\n",
    "    defaults.silent = False\n",
    "    defaults.extra_callbacks = None  \n",
    "```\n",
    "When you're done tuning your hyper-parameters, just set `tune` to `False` and re-run the notebook to do true fitting.\n",
    "\n",
    "The setting `defaults.silent` controls whether [`fit`](/basic_train.html#fit) calls print out any output.\n",
    "\n",
    "Do note that when you run this callback, each fit call will be interrupted resulting in the red colored output - that's just an indication that the normal fit didn't happen, so you shouldn't expect any qualitative results out of it."
   ]
  },
  {
   "cell_type": "markdown",
   "metadata": {},
   "source": [
    "## Undocumented Methods - Methods moved below this line will intentionally be hidden"
   ]
  },
  {
   "cell_type": "code",
   "execution_count": null,
   "metadata": {},
   "outputs": [],
   "source": []
  }
 ],
 "metadata": {
  "kernelspec": {
   "display_name": "Python 3",
   "language": "python",
   "name": "python3"
  }
 },
 "nbformat": 4,
 "nbformat_minor": 2
}

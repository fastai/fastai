{
 "cells": [
  {
   "cell_type": "markdown",
   "metadata": {},
   "source": [
    "# Variation Autoencoders in fastai\n",
    "### Adaption of https://github.com/pytorch/examples/tree/master/vae to work with fastai"
   ]
  },
  {
   "cell_type": "code",
   "execution_count": null,
   "metadata": {},
   "outputs": [],
   "source": [
    "%matplotlib inline\n",
    "from fastai.vision import * \n",
    "from fastai import *\n",
    "from torch.autograd import Variable"
   ]
  },
  {
   "cell_type": "markdown",
   "metadata": {},
   "source": [
    "## Grab the MNIST sample dataset\n",
    "\n",
    "**Note:** the fastai library currently only supports image classification, so our y values will be the classes of the \n",
    "MNIST images. However, we'll just ignore the y values set by fastai here and instead include the original image as part of the output of our model. This has the added advantage that we can make use of fastai's data augmentation techniques as well!\n"
   ]
  },
  {
   "cell_type": "code",
   "execution_count": null,
   "metadata": {},
   "outputs": [],
   "source": [
    "path = untar_data(URLs.MNIST_SAMPLE)\n",
    "data = ImageDataBunch.from_folder(path)"
   ]
  },
  {
   "cell_type": "markdown",
   "metadata": {},
   "source": [
    "## Define out model"
   ]
  },
  {
   "cell_type": "code",
   "execution_count": null,
   "metadata": {},
   "outputs": [],
   "source": [
    "class VAE(nn.Module):\n",
    "    def __init__(self, zdims):\n",
    "        super(VAE, self).__init__()\n",
    "        \n",
    "        self.zdims = 20\n",
    "        self.fc1 = nn.Linear(784, 400)\n",
    "        self.fc21 = nn.Linear(400, zdims)\n",
    "        self.fc22 = nn.Linear(400, zdims)\n",
    "        self.fc3 = nn.Linear(zdims, 400)\n",
    "        self.fc4 = nn.Linear(400, 784)\n",
    "\n",
    "    def encode(self, x):\n",
    "        h1 = F.relu(self.fc1(x))\n",
    "        return self.fc21(h1), self.fc22(h1)\n",
    "\n",
    "    def reparameterize(self, mu, logvar):\n",
    "        std = torch.exp(0.5*logvar)\n",
    "        eps = torch.randn_like(std)\n",
    "        return eps.mul(std).add_(mu)\n",
    "\n",
    "    def decode(self, z):\n",
    "        h3 = F.relu(self.fc3(z))\n",
    "        return torch.sigmoid(self.fc4(h3))\n",
    "\n",
    "    def forward(self, x):\n",
    "        \"\"\"\n",
    "        outputs the reconstructed image, the image we trained on, mu, and log(variance)\n",
    "        \"\"\"\n",
    "        mu, logvar = self.encode(x.view(-1, 784))\n",
    "        z = self.reparameterize(mu, logvar)\n",
    "        return self.decode(z), x, mu, logvar"
   ]
  },
  {
   "cell_type": "markdown",
   "metadata": {},
   "source": [
    "## Loss Function\n",
    "\n",
    "See https://github.com/pytorch/examples/blob/master/vae/main.py  for a deeper explanation of the loss function.\n",
    "\n",
    "fastai will take all of our outputs from our model's `forward` method and pass it as a tuple into the first argument of our loss function.  As noted above, we'll ignore the y values, as we don't care about the labels for our images"
   ]
  },
  {
   "cell_type": "code",
   "execution_count": null,
   "metadata": {},
   "outputs": [],
   "source": [
    "def loss_function(out, _) -> Variable:\n",
    "    recon_x, x, mu, logvar = out\n",
    "    batch_size = x.shape[0]\n",
    "    BCE = F.binary_cross_entropy(recon_x, x.view(-1, 784))\n",
    "    KLD = -0.5 * torch.sum(1 + logvar - mu.pow(2) - logvar.exp())\n",
    "    KLD /= batch_size * 784\n",
    "    return BCE + KLD"
   ]
  },
  {
   "cell_type": "code",
   "execution_count": null,
   "metadata": {},
   "outputs": [],
   "source": [
    "vae = VAE(20)"
   ]
  },
  {
   "cell_type": "code",
   "execution_count": null,
   "metadata": {},
   "outputs": [],
   "source": [
    "learn = Learner(data, vae, loss_func=loss_function)"
   ]
  },
  {
   "cell_type": "code",
   "execution_count": null,
   "metadata": {},
   "outputs": [
    {
     "name": "stdout",
     "output_type": "stream",
     "text": [
      "Total time: 00:27\n",
      "epoch  train_loss  valid_loss\n",
      "1      0.196566    0.186746    (00:02)\n",
      "2      0.179038    0.173951    (00:02)\n",
      "3      0.171522    0.169113    (00:02)\n",
      "4      0.169041    0.166268    (00:02)\n",
      "5      0.166219    0.165584    (00:02)\n",
      "6      0.165616    0.164444    (00:02)\n",
      "7      0.164781    0.163765    (00:02)\n",
      "8      0.163487    0.162520    (00:02)\n",
      "9      0.162315    0.161844    (00:02)\n",
      "10     0.162938    0.161012    (00:02)\n",
      "\n"
     ]
    }
   ],
   "source": [
    "learn.fit(10)"
   ]
  },
  {
   "cell_type": "code",
   "execution_count": null,
   "metadata": {},
   "outputs": [],
   "source": [
    "itera = iter(data.valid_dl)"
   ]
  },
  {
   "cell_type": "code",
   "execution_count": null,
   "metadata": {},
   "outputs": [],
   "source": [
    "valid_batch, _ = next(itera)\n",
    "valid_batch = valid_batch[0].unsqueeze(0).cpu()"
   ]
  },
  {
   "cell_type": "code",
   "execution_count": null,
   "metadata": {},
   "outputs": [],
   "source": [
    "orig_img = Image(valid_batch[0])"
   ]
  },
  {
   "cell_type": "code",
   "execution_count": null,
   "metadata": {},
   "outputs": [],
   "source": [
    "with torch.no_grad():\n",
    "    d = Variable(valid_batch).cuda()\n",
    "    recon_batch, mu, logvar, original = vae(d)\n",
    "    recon_batch = recon_batch.view(-1,3,28,28).cpu()"
   ]
  },
  {
   "cell_type": "code",
   "execution_count": null,
   "metadata": {},
   "outputs": [],
   "source": [
    "recon_img = Image(recon_batch[0])"
   ]
  },
  {
   "cell_type": "code",
   "execution_count": null,
   "metadata": {},
   "outputs": [
    {
     "data": {
      "text/plain": [
       "<matplotlib.axes._subplots.AxesSubplot at 0x7f6d10346898>"
      ]
     },
     "execution_count": null,
     "metadata": {},
     "output_type": "execute_result"
    },
    {
     "data": {
      "image/png": "[encoded data removed]",
      "text/plain": [
       "<Figure size 216x216 with 1 Axes>"
      ]
     },
     "metadata": {
      "needs_background": "light"
     },
     "output_type": "display_data"
    },
    {
     "data": {
      "image/png": "[encoded data removed]",
      "text/plain": [
       "<Figure size 216x216 with 1 Axes>"
      ]
     },
     "metadata": {
      "needs_background": "light"
     },
     "output_type": "display_data"
    }
   ],
   "source": [
    "show_image(orig_img)\n",
    "show_image(recon_img)"
   ]
  }
 ],
 "metadata": {
  "kernelspec": {
   "display_name": "fastai",
   "language": "python",
   "name": "fastai"
  }
 },
 "nbformat": 4,
 "nbformat_minor": 2
}

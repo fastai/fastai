{
 "cells": [
  {
   "cell_type": "code",
   "execution_count": null,
   "metadata": {},
   "outputs": [],
   "source": [
    "%matplotlib inline\n",
    "%reload_ext autoreload\n",
    "%autoreload 2"
   ]
  },
  {
   "cell_type": "code",
   "execution_count": null,
   "metadata": {},
   "outputs": [],
   "source": [
    "from fastai.conv_learner import *\n",
    "from fastai.dataset import *\n",
    "from fastai.models.resnet import vgg_resnet50\n",
    "\n",
    "import json"
   ]
  },
  {
   "cell_type": "code",
   "execution_count": null,
   "metadata": {},
   "outputs": [],
   "source": [
    "torch.cuda.set_device(3)"
   ]
  },
  {
   "cell_type": "code",
   "execution_count": null,
   "metadata": {},
   "outputs": [],
   "source": [
    "torch.backends.cudnn.benchmark=True"
   ]
  },
  {
   "cell_type": "markdown",
   "metadata": {},
   "source": [
    "## Data"
   ]
  },
  {
   "cell_type": "code",
   "execution_count": null,
   "metadata": {},
   "outputs": [],
   "source": [
    "PATH = Path('data/carvana')\n",
    "MASKS_FN = 'train_masks.csv'\n",
    "META_FN = 'metadata.csv'\n",
    "masks_csv = pd.read_csv(PATH/MASKS_FN)\n",
    "meta_csv = pd.read_csv(PATH/META_FN)"
   ]
  },
  {
   "cell_type": "code",
   "execution_count": null,
   "metadata": {},
   "outputs": [],
   "source": [
    "def show_img(im, figsize=None, ax=None, alpha=None):\n",
    "    if not ax: fig,ax = plt.subplots(figsize=figsize)\n",
    "    ax.imshow(im, alpha=alpha)\n",
    "    ax.set_axis_off()\n",
    "    return ax"
   ]
  },
  {
   "cell_type": "code",
   "execution_count": null,
   "metadata": {},
   "outputs": [],
   "source": [
    "TRAIN_DN = 'train'\n",
    "MASKS_DN = 'train_masks_png'\n",
    "sz = 128\n",
    "bs = 64\n",
    "nw = 16"
   ]
  },
  {
   "cell_type": "code",
   "execution_count": null,
   "metadata": {},
   "outputs": [],
   "source": [
    "TRAIN_DN = 'train-128'\n",
    "MASKS_DN = 'train_masks-128'\n",
    "sz = 128\n",
    "bs = 64\n",
    "nw = 16"
   ]
  },
  {
   "cell_type": "code",
   "execution_count": null,
   "metadata": {},
   "outputs": [],
   "source": [
    "class MatchedFilesDataset(FilesDataset):\n",
    "    def __init__(self, fnames, y, transform, path):\n",
    "        self.y=y\n",
    "        assert(len(fnames)==len(y))\n",
    "        super().__init__(fnames, transform, path)\n",
    "    def get_y(self, i): return open_image(os.path.join(self.path, self.y[i]))\n",
    "    def get_c(self): return 0"
   ]
  },
  {
   "cell_type": "code",
   "execution_count": null,
   "metadata": {},
   "outputs": [],
   "source": [
    "x_names = np.array([Path(TRAIN_DN)/o for o in masks_csv['img']])\n",
    "y_names = np.array([Path(MASKS_DN)/f'{o[:-4]}_mask.png' for o in masks_csv['img']])"
   ]
  },
  {
   "cell_type": "code",
   "execution_count": null,
   "metadata": {},
   "outputs": [],
   "source": [
    "val_idxs = list(range(1008))\n",
    "((val_x,trn_x),(val_y,trn_y)) = split_by_idx(val_idxs, x_names, y_names)"
   ]
  },
  {
   "cell_type": "code",
   "execution_count": null,
   "metadata": {},
   "outputs": [],
   "source": [
    "aug_tfms = [RandomRotate(4, tfm_y=TfmType.CLASS),\n",
    "            RandomFlip(tfm_y=TfmType.CLASS),\n",
    "            RandomLighting(0.05, 0.05, tfm_y=TfmType.CLASS)]"
   ]
  },
  {
   "cell_type": "code",
   "execution_count": null,
   "metadata": {},
   "outputs": [],
   "source": [
    "tfms = tfms_from_model(resnet34, sz, crop_type=CropType.NO, tfm_y=TfmType.CLASS, aug_tfms=aug_tfms)\n",
    "datasets = ImageData.get_ds(MatchedFilesDataset, (trn_x,trn_y), (val_x,val_y), tfms, path=PATH)\n",
    "md = ImageData(PATH, datasets, bs, num_workers=16, classes=None)\n",
    "denorm = md.trn_ds.denorm"
   ]
  },
  {
   "cell_type": "code",
   "execution_count": null,
   "metadata": {},
   "outputs": [],
   "source": [
    "x,y = next(iter(md.trn_dl))"
   ]
  },
  {
   "cell_type": "code",
   "execution_count": null,
   "metadata": {},
   "outputs": [
    {
     "data": {
      "text/plain": [
       "(torch.Size([64, 3, 128, 128]), torch.Size([64, 128, 128]))"
      ]
     },
     "execution_count": null,
     "metadata": {},
     "output_type": "execute_result"
    }
   ],
   "source": [
    "x.shape,y.shape"
   ]
  },
  {
   "cell_type": "markdown",
   "metadata": {},
   "source": [
    "## Simple upsample"
   ]
  },
  {
   "cell_type": "code",
   "execution_count": null,
   "metadata": {},
   "outputs": [],
   "source": [
    "f = resnet34\n",
    "cut,lr_cut = model_meta[f]"
   ]
  },
  {
   "cell_type": "code",
   "execution_count": null,
   "metadata": {},
   "outputs": [],
   "source": [
    "def get_base():\n",
    "    layers = cut_model(f(True), cut)\n",
    "    return nn.Sequential(*layers)"
   ]
  },
  {
   "cell_type": "code",
   "execution_count": null,
   "metadata": {},
   "outputs": [],
   "source": [
    "def dice(pred, targs):\n",
    "    pred = (pred>0).float()\n",
    "    return 2. * (pred*targs).sum() / (pred+targs).sum()"
   ]
  },
  {
   "cell_type": "code",
   "execution_count": null,
   "metadata": {},
   "outputs": [],
   "source": [
    "class StdUpsample(nn.Module):\n",
    "    def __init__(self, nin, nout):\n",
    "        super().__init__()\n",
    "        self.conv = nn.ConvTranspose2d(nin, nout, 2, stride=2)\n",
    "        self.bn = nn.BatchNorm2d(nout)\n",
    "        \n",
    "    def forward(self, x): return self.bn(F.relu(self.conv(x)))"
   ]
  },
  {
   "cell_type": "code",
   "execution_count": null,
   "metadata": {},
   "outputs": [],
   "source": [
    "class Upsample34(nn.Module):\n",
    "    def __init__(self, rn):\n",
    "        super().__init__()\n",
    "        self.rn = rn\n",
    "        self.features = nn.Sequential(\n",
    "            rn, nn.ReLU(),\n",
    "            StdUpsample(512,256),\n",
    "            StdUpsample(256,256),\n",
    "            StdUpsample(256,256),\n",
    "            StdUpsample(256,256),\n",
    "            nn.ConvTranspose2d(256, 1, 2, stride=2))\n",
    "        \n",
    "    def forward(self,x): return self.features(x)[:,0]"
   ]
  },
  {
   "cell_type": "code",
   "execution_count": null,
   "metadata": {},
   "outputs": [],
   "source": [
    "class UpsampleModel():\n",
    "    def __init__(self,model,name='upsample'):\n",
    "        self.model,self.name = model,name\n",
    "\n",
    "    def get_layer_groups(self, precompute):\n",
    "        lgs = list(split_by_idxs(children(self.model.rn), [lr_cut]))\n",
    "        return lgs + [children(self.model.features)[1:]]"
   ]
  },
  {
   "cell_type": "code",
   "execution_count": null,
   "metadata": {},
   "outputs": [],
   "source": [
    "m_base = get_base()"
   ]
  },
  {
   "cell_type": "code",
   "execution_count": null,
   "metadata": {},
   "outputs": [],
   "source": [
    "m = to_gpu(Upsample34(m_base))\n",
    "models = UpsampleModel(m)"
   ]
  },
  {
   "cell_type": "code",
   "execution_count": null,
   "metadata": {},
   "outputs": [],
   "source": [
    "learn = ConvLearner(md, models)\n",
    "learn.opt_fn=optim.Adam\n",
    "learn.crit=nn.BCEWithLogitsLoss()\n",
    "learn.metrics=[accuracy_thresh(0.5),dice]"
   ]
  },
  {
   "cell_type": "code",
   "execution_count": null,
   "metadata": {},
   "outputs": [
    {
     "data": {
      "text/plain": [
       "OrderedDict([('Conv2d-1',\n",
       "              OrderedDict([('input_shape', [-1, 3, 128, 128]),\n",
       "                           ('output_shape', [-1, 64, 64, 64]),\n",
       "                           ('trainable', False),\n",
       "                           ('nb_params', tensor(9408))])),\n",
       "             ('Conv2d-2',\n",
       "              OrderedDict([('input_shape', [-1, 3, 128, 128]),\n",
       "                           ('output_shape', [-1, 64, 64, 64]),\n",
       "                           ('trainable', False),\n",
       "                           ('nb_params', tensor(9408))])),\n",
       "             ('BatchNorm2d-3',\n",
       "              OrderedDict([('input_shape', [-1, 64, 64, 64]),\n",
       "                           ('output_shape', [-1, 64, 64, 64]),\n",
       "                           ('trainable', False),\n",
       "                           ('nb_params', tensor(128))])),\n",
       "             ('BatchNorm2d-4',\n",
       "              OrderedDict([('input_shape', [-1, 64, 64, 64]),\n",
       "                           ('output_shape', [-1, 64, 64, 64]),\n",
       "                           ('trainable', False),\n",
       "                           ('nb_params', tensor(128))])),\n",
       "             ('ReLU-5',\n",
       "              OrderedDict([('input_shape', [-1, 64, 64, 64]),\n",
       "                           ('output_shape', [-1, 64, 64, 64]),\n",
       "                           ('nb_params', 0)])),\n",
       "             ('ReLU-6',\n",
       "              OrderedDict([('input_shape', [-1, 64, 64, 64]),\n",
       "                           ('output_shape', [-1, 64, 64, 64]),\n",
       "                           ('nb_params', 0)])),\n",
       "             ('MaxPool2d-7',\n",
       "              OrderedDict([('input_shape', [-1, 64, 64, 64]),\n",
       "                           ('output_shape', [-1, 64, 32, 32]),\n",
       "                           ('nb_params', 0)])),\n",
       "             ('MaxPool2d-8',\n",
       "              OrderedDict([('input_shape', [-1, 64, 64, 64]),\n",
       "                           ('output_shape', [-1, 64, 32, 32]),\n",
       "                           ('nb_params', 0)])),\n",
       "             ('Conv2d-9',\n",
       "              OrderedDict([('input_shape', [-1, 64, 32, 32]),\n",
       "                           ('output_shape', [-1, 64, 32, 32]),\n",
       "                           ('trainable', False),\n",
       "                           ('nb_params', tensor(36864))])),\n",
       "             ('Conv2d-10',\n",
       "              OrderedDict([('input_shape', [-1, 64, 32, 32]),\n",
       "                           ('output_shape', [-1, 64, 32, 32]),\n",
       "                           ('trainable', False),\n",
       "                           ('nb_params', tensor(36864))])),\n",
       "             ('BatchNorm2d-11',\n",
       "              OrderedDict([('input_shape', [-1, 64, 32, 32]),\n",
       "                           ('output_shape', [-1, 64, 32, 32]),\n",
       "                           ('trainable', False),\n",
       "                           ('nb_params', tensor(128))])),\n",
       "             ('BatchNorm2d-12',\n",
       "              OrderedDict([('input_shape', [-1, 64, 32, 32]),\n",
       "                           ('output_shape', [-1, 64, 32, 32]),\n",
       "                           ('trainable', False),\n",
       "                           ('nb_params', tensor(128))])),\n",
       "             ('ReLU-13',\n",
       "              OrderedDict([('input_shape', [-1, 64, 32, 32]),\n",
       "                           ('output_shape', [-1, 64, 32, 32]),\n",
       "                           ('nb_params', 0)])),\n",
       "             ('ReLU-14',\n",
       "              OrderedDict([('input_shape', [-1, 64, 32, 32]),\n",
       "                           ('output_shape', [-1, 64, 32, 32]),\n",
       "                           ('nb_params', 0)])),\n",
       "             ('Conv2d-15',\n",
       "              OrderedDict([('input_shape', [-1, 64, 32, 32]),\n",
       "                           ('output_shape', [-1, 64, 32, 32]),\n",
       "                           ('trainable', False),\n",
       "                           ('nb_params', tensor(36864))])),\n",
       "             ('Conv2d-16',\n",
       "              OrderedDict([('input_shape', [-1, 64, 32, 32]),\n",
       "                           ('output_shape', [-1, 64, 32, 32]),\n",
       "                           ('trainable', False),\n",
       "                           ('nb_params', tensor(36864))])),\n",
       "             ('BatchNorm2d-17',\n",
       "              OrderedDict([('input_shape', [-1, 64, 32, 32]),\n",
       "                           ('output_shape', [-1, 64, 32, 32]),\n",
       "                           ('trainable', False),\n",
       "                           ('nb_params', tensor(128))])),\n",
       "             ('BatchNorm2d-18',\n",
       "              OrderedDict([('input_shape', [-1, 64, 32, 32]),\n",
       "                           ('output_shape', [-1, 64, 32, 32]),\n",
       "                           ('trainable', False),\n",
       "                           ('nb_params', tensor(128))])),\n",
       "             ('ReLU-19',\n",
       "              OrderedDict([('input_shape', [-1, 64, 32, 32]),\n",
       "                           ('output_shape', [-1, 64, 32, 32]),\n",
       "                           ('nb_params', 0)])),\n",
       "             ('ReLU-20',\n",
       "              OrderedDict([('input_shape', [-1, 64, 32, 32]),\n",
       "                           ('output_shape', [-1, 64, 32, 32]),\n",
       "                           ('nb_params', 0)])),\n",
       "             ('BasicBlock-21',\n",
       "              OrderedDict([('input_shape', [-1, 64, 32, 32]),\n",
       "                           ('output_shape', [-1, 64, 32, 32]),\n",
       "                           ('nb_params', 0)])),\n",
       "             ('BasicBlock-22',\n",
       "              OrderedDict([('input_shape', [-1, 64, 32, 32]),\n",
       "                           ('output_shape', [-1, 64, 32, 32]),\n",
       "                           ('nb_params', 0)])),\n",
       "             ('Conv2d-23',\n",
       "              OrderedDict([('input_shape', [-1, 64, 32, 32]),\n",
       "                           ('output_shape', [-1, 64, 32, 32]),\n",
       "                           ('trainable', False),\n",
       "                           ('nb_params', tensor(36864))])),\n",
       "             ('Conv2d-24',\n",
       "              OrderedDict([('input_shape', [-1, 64, 32, 32]),\n",
       "                           ('output_shape', [-1, 64, 32, 32]),\n",
       "                           ('trainable', False),\n",
       "                           ('nb_params', tensor(36864))])),\n",
       "             ('BatchNorm2d-25',\n",
       "              OrderedDict([('input_shape', [-1, 64, 32, 32]),\n",
       "                           ('output_shape', [-1, 64, 32, 32]),\n",
       "                           ('trainable', False),\n",
       "                           ('nb_params', tensor(128))])),\n",
       "             ('BatchNorm2d-26',\n",
       "              OrderedDict([('input_shape', [-1, 64, 32, 32]),\n",
       "                           ('output_shape', [-1, 64, 32, 32]),\n",
       "                           ('trainable', False),\n",
       "                           ('nb_params', tensor(128))])),\n",
       "             ('ReLU-27',\n",
       "              OrderedDict([('input_shape', [-1, 64, 32, 32]),\n",
       "                           ('output_shape', [-1, 64, 32, 32]),\n",
       "                           ('nb_params', 0)])),\n",
       "             ('ReLU-28',\n",
       "              OrderedDict([('input_shape', [-1, 64, 32, 32]),\n",
       "                           ('output_shape', [-1, 64, 32, 32]),\n",
       "                           ('nb_params', 0)])),\n",
       "             ('Conv2d-29',\n",
       "              OrderedDict([('input_shape', [-1, 64, 32, 32]),\n",
       "                           ('output_shape', [-1, 64, 32, 32]),\n",
       "                           ('trainable', False),\n",
       "                           ('nb_params', tensor(36864))])),\n",
       "             ('Conv2d-30',\n",
       "              OrderedDict([('input_shape', [-1, 64, 32, 32]),\n",
       "                           ('output_shape', [-1, 64, 32, 32]),\n",
       "                           ('trainable', False),\n",
       "                           ('nb_params', tensor(36864))])),\n",
       "             ('BatchNorm2d-31',\n",
       "              OrderedDict([('input_shape', [-1, 64, 32, 32]),\n",
       "                           ('output_shape', [-1, 64, 32, 32]),\n",
       "                           ('trainable', False),\n",
       "                           ('nb_params', tensor(128))])),\n",
       "             ('BatchNorm2d-32',\n",
       "              OrderedDict([('input_shape', [-1, 64, 32, 32]),\n",
       "                           ('output_shape', [-1, 64, 32, 32]),\n",
       "                           ('trainable', False),\n",
       "                           ('nb_params', tensor(128))])),\n",
       "             ('ReLU-33',\n",
       "              OrderedDict([('input_shape', [-1, 64, 32, 32]),\n",
       "                           ('output_shape', [-1, 64, 32, 32]),\n",
       "                           ('nb_params', 0)])),\n",
       "             ('ReLU-34',\n",
       "              OrderedDict([('input_shape', [-1, 64, 32, 32]),\n",
       "                           ('output_shape', [-1, 64, 32, 32]),\n",
       "                           ('nb_params', 0)])),\n",
       "             ('BasicBlock-35',\n",
       "              OrderedDict([('input_shape', [-1, 64, 32, 32]),\n",
       "                           ('output_shape', [-1, 64, 32, 32]),\n",
       "                           ('nb_params', 0)])),\n",
       "             ('BasicBlock-36',\n",
       "              OrderedDict([('input_shape', [-1, 64, 32, 32]),\n",
       "                           ('output_shape', [-1, 64, 32, 32]),\n",
       "                           ('nb_params', 0)])),\n",
       "             ('Conv2d-37',\n",
       "              OrderedDict([('input_shape', [-1, 64, 32, 32]),\n",
       "                           ('output_shape', [-1, 64, 32, 32]),\n",
       "                           ('trainable', False),\n",
       "                           ('nb_params', tensor(36864))])),\n",
       "             ('Conv2d-38',\n",
       "              OrderedDict([('input_shape', [-1, 64, 32, 32]),\n",
       "                           ('output_shape', [-1, 64, 32, 32]),\n",
       "                           ('trainable', False),\n",
       "                           ('nb_params', tensor(36864))])),\n",
       "             ('BatchNorm2d-39',\n",
       "              OrderedDict([('input_shape', [-1, 64, 32, 32]),\n",
       "                           ('output_shape', [-1, 64, 32, 32]),\n",
       "                           ('trainable', False),\n",
       "                           ('nb_params', tensor(128))])),\n",
       "             ('BatchNorm2d-40',\n",
       "              OrderedDict([('input_shape', [-1, 64, 32, 32]),\n",
       "                           ('output_shape', [-1, 64, 32, 32]),\n",
       "                           ('trainable', False),\n",
       "                           ('nb_params', tensor(128))])),\n",
       "             ('ReLU-41',\n",
       "              OrderedDict([('input_shape', [-1, 64, 32, 32]),\n",
       "                           ('output_shape', [-1, 64, 32, 32]),\n",
       "                           ('nb_params', 0)])),\n",
       "             ('ReLU-42',\n",
       "              OrderedDict([('input_shape', [-1, 64, 32, 32]),\n",
       "                           ('output_shape', [-1, 64, 32, 32]),\n",
       "                           ('nb_params', 0)])),\n",
       "             ('Conv2d-43',\n",
       "              OrderedDict([('input_shape', [-1, 64, 32, 32]),\n",
       "                           ('output_shape', [-1, 64, 32, 32]),\n",
       "                           ('trainable', False),\n",
       "                           ('nb_params', tensor(36864))])),\n",
       "             ('Conv2d-44',\n",
       "              OrderedDict([('input_shape', [-1, 64, 32, 32]),\n",
       "                           ('output_shape', [-1, 64, 32, 32]),\n",
       "                           ('trainable', False),\n",
       "                           ('nb_params', tensor(36864))])),\n",
       "             ('BatchNorm2d-45',\n",
       "              OrderedDict([('input_shape', [-1, 64, 32, 32]),\n",
       "                           ('output_shape', [-1, 64, 32, 32]),\n",
       "                           ('trainable', False),\n",
       "                           ('nb_params', tensor(128))])),\n",
       "             ('BatchNorm2d-46',\n",
       "              OrderedDict([('input_shape', [-1, 64, 32, 32]),\n",
       "                           ('output_shape', [-1, 64, 32, 32]),\n",
       "                           ('trainable', False),\n",
       "                           ('nb_params', tensor(128))])),\n",
       "             ('ReLU-47',\n",
       "              OrderedDict([('input_shape', [-1, 64, 32, 32]),\n",
       "                           ('output_shape', [-1, 64, 32, 32]),\n",
       "                           ('nb_params', 0)])),\n",
       "             ('ReLU-48',\n",
       "              OrderedDict([('input_shape', [-1, 64, 32, 32]),\n",
       "                           ('output_shape', [-1, 64, 32, 32]),\n",
       "                           ('nb_params', 0)])),\n",
       "             ('BasicBlock-49',\n",
       "              OrderedDict([('input_shape', [-1, 64, 32, 32]),\n",
       "                           ('output_shape', [-1, 64, 32, 32]),\n",
       "                           ('nb_params', 0)])),\n",
       "             ('BasicBlock-50',\n",
       "              OrderedDict([('input_shape', [-1, 64, 32, 32]),\n",
       "                           ('output_shape', [-1, 64, 32, 32]),\n",
       "                           ('nb_params', 0)])),\n",
       "             ('Conv2d-51',\n",
       "              OrderedDict([('input_shape', [-1, 64, 32, 32]),\n",
       "                           ('output_shape', [-1, 128, 16, 16]),\n",
       "                           ('trainable', False),\n",
       "                           ('nb_params', tensor(73728))])),\n",
       "             ('Conv2d-52',\n",
       "              OrderedDict([('input_shape', [-1, 64, 32, 32]),\n",
       "                           ('output_shape', [-1, 128, 16, 16]),\n",
       "                           ('trainable', False),\n",
       "                           ('nb_params', tensor(73728))])),\n",
       "             ('BatchNorm2d-53',\n",
       "              OrderedDict([('input_shape', [-1, 128, 16, 16]),\n",
       "                           ('output_shape', [-1, 128, 16, 16]),\n",
       "                           ('trainable', False),\n",
       "                           ('nb_params', tensor(256))])),\n",
       "             ('BatchNorm2d-54',\n",
       "              OrderedDict([('input_shape', [-1, 128, 16, 16]),\n",
       "                           ('output_shape', [-1, 128, 16, 16]),\n",
       "                           ('trainable', False),\n",
       "                           ('nb_params', tensor(256))])),\n",
       "             ('ReLU-55',\n",
       "              OrderedDict([('input_shape', [-1, 128, 16, 16]),\n",
       "                           ('output_shape', [-1, 128, 16, 16]),\n",
       "                           ('nb_params', 0)])),\n",
       "             ('ReLU-56',\n",
       "              OrderedDict([('input_shape', [-1, 128, 16, 16]),\n",
       "                           ('output_shape', [-1, 128, 16, 16]),\n",
       "                           ('nb_params', 0)])),\n",
       "             ('Conv2d-57',\n",
       "              OrderedDict([('input_shape', [-1, 128, 16, 16]),\n",
       "                           ('output_shape', [-1, 128, 16, 16]),\n",
       "                           ('trainable', False),\n",
       "                           ('nb_params', tensor(1.4746e+05))])),\n",
       "             ('Conv2d-58',\n",
       "              OrderedDict([('input_shape', [-1, 128, 16, 16]),\n",
       "                           ('output_shape', [-1, 128, 16, 16]),\n",
       "                           ('trainable', False),\n",
       "                           ('nb_params', tensor(1.4746e+05))])),\n",
       "             ('BatchNorm2d-59',\n",
       "              OrderedDict([('input_shape', [-1, 128, 16, 16]),\n",
       "                           ('output_shape', [-1, 128, 16, 16]),\n",
       "                           ('trainable', False),\n",
       "                           ('nb_params', tensor(256))])),\n",
       "             ('BatchNorm2d-60',\n",
       "              OrderedDict([('input_shape', [-1, 128, 16, 16]),\n",
       "                           ('output_shape', [-1, 128, 16, 16]),\n",
       "                           ('trainable', False),\n",
       "                           ('nb_params', tensor(256))])),\n",
       "             ('Conv2d-61',\n",
       "              OrderedDict([('input_shape', [-1, 64, 32, 32]),\n",
       "                           ('output_shape', [-1, 128, 16, 16]),\n",
       "                           ('trainable', False),\n",
       "                           ('nb_params', tensor(8192))])),\n",
       "             ('Conv2d-62',\n",
       "              OrderedDict([('input_shape', [-1, 64, 32, 32]),\n",
       "                           ('output_shape', [-1, 128, 16, 16]),\n",
       "                           ('trainable', False),\n",
       "                           ('nb_params', tensor(8192))])),\n",
       "             ('BatchNorm2d-63',\n",
       "              OrderedDict([('input_shape', [-1, 128, 16, 16]),\n",
       "                           ('output_shape', [-1, 128, 16, 16]),\n",
       "                           ('trainable', False),\n",
       "                           ('nb_params', tensor(256))])),\n",
       "             ('BatchNorm2d-64',\n",
       "              OrderedDict([('input_shape', [-1, 128, 16, 16]),\n",
       "                           ('output_shape', [-1, 128, 16, 16]),\n",
       "                           ('trainable', False),\n",
       "                           ('nb_params', tensor(256))])),\n",
       "             ('ReLU-65',\n",
       "              OrderedDict([('input_shape', [-1, 128, 16, 16]),\n",
       "                           ('output_shape', [-1, 128, 16, 16]),\n",
       "                           ('nb_params', 0)])),\n",
       "             ('ReLU-66',\n",
       "              OrderedDict([('input_shape', [-1, 128, 16, 16]),\n",
       "                           ('output_shape', [-1, 128, 16, 16]),\n",
       "                           ('nb_params', 0)])),\n",
       "             ('BasicBlock-67',\n",
       "              OrderedDict([('input_shape', [-1, 64, 32, 32]),\n",
       "                           ('output_shape', [-1, 128, 16, 16]),\n",
       "                           ('nb_params', 0)])),\n",
       "             ('BasicBlock-68',\n",
       "              OrderedDict([('input_shape', [-1, 64, 32, 32]),\n",
       "                           ('output_shape', [-1, 128, 16, 16]),\n",
       "                           ('nb_params', 0)])),\n",
       "             ('Conv2d-69',\n",
       "              OrderedDict([('input_shape', [-1, 128, 16, 16]),\n",
       "                           ('output_shape', [-1, 128, 16, 16]),\n",
       "                           ('trainable', False),\n",
       "                           ('nb_params', tensor(1.4746e+05))])),\n",
       "             ('Conv2d-70',\n",
       "              OrderedDict([('input_shape', [-1, 128, 16, 16]),\n",
       "                           ('output_shape', [-1, 128, 16, 16]),\n",
       "                           ('trainable', False),\n",
       "                           ('nb_params', tensor(1.4746e+05))])),\n",
       "             ('BatchNorm2d-71',\n",
       "              OrderedDict([('input_shape', [-1, 128, 16, 16]),\n",
       "                           ('output_shape', [-1, 128, 16, 16]),\n",
       "                           ('trainable', False),\n",
       "                           ('nb_params', tensor(256))])),\n",
       "             ('BatchNorm2d-72',\n",
       "              OrderedDict([('input_shape', [-1, 128, 16, 16]),\n",
       "                           ('output_shape', [-1, 128, 16, 16]),\n",
       "                           ('trainable', False),\n",
       "                           ('nb_params', tensor(256))])),\n",
       "             ('ReLU-73',\n",
       "              OrderedDict([('input_shape', [-1, 128, 16, 16]),\n",
       "                           ('output_shape', [-1, 128, 16, 16]),\n",
       "                           ('nb_params', 0)])),\n",
       "             ('ReLU-74',\n",
       "              OrderedDict([('input_shape', [-1, 128, 16, 16]),\n",
       "                           ('output_shape', [-1, 128, 16, 16]),\n",
       "                           ('nb_params', 0)])),\n",
       "             ('Conv2d-75',\n",
       "              OrderedDict([('input_shape', [-1, 128, 16, 16]),\n",
       "                           ('output_shape', [-1, 128, 16, 16]),\n",
       "                           ('trainable', False),\n",
       "                           ('nb_params', tensor(1.4746e+05))])),\n",
       "             ('Conv2d-76',\n",
       "              OrderedDict([('input_shape', [-1, 128, 16, 16]),\n",
       "                           ('output_shape', [-1, 128, 16, 16]),\n",
       "                           ('trainable', False),\n",
       "                           ('nb_params', tensor(1.4746e+05))])),\n",
       "             ('BatchNorm2d-77',\n",
       "              OrderedDict([('input_shape', [-1, 128, 16, 16]),\n",
       "                           ('output_shape', [-1, 128, 16, 16]),\n",
       "                           ('trainable', False),\n",
       "                           ('nb_params', tensor(256))])),\n",
       "             ('BatchNorm2d-78',\n",
       "              OrderedDict([('input_shape', [-1, 128, 16, 16]),\n",
       "                           ('output_shape', [-1, 128, 16, 16]),\n",
       "                           ('trainable', False),\n",
       "                           ('nb_params', tensor(256))])),\n",
       "             ('ReLU-79',\n",
       "              OrderedDict([('input_shape', [-1, 128, 16, 16]),\n",
       "                           ('output_shape', [-1, 128, 16, 16]),\n",
       "                           ('nb_params', 0)])),\n",
       "             ('ReLU-80',\n",
       "              OrderedDict([('input_shape', [-1, 128, 16, 16]),\n",
       "                           ('output_shape', [-1, 128, 16, 16]),\n",
       "                           ('nb_params', 0)])),\n",
       "             ('BasicBlock-81',\n",
       "              OrderedDict([('input_shape', [-1, 128, 16, 16]),\n",
       "                           ('output_shape', [-1, 128, 16, 16]),\n",
       "                           ('nb_params', 0)])),\n",
       "             ('BasicBlock-82',\n",
       "              OrderedDict([('input_shape', [-1, 128, 16, 16]),\n",
       "                           ('output_shape', [-1, 128, 16, 16]),\n",
       "                           ('nb_params', 0)])),\n",
       "             ('Conv2d-83',\n",
       "              OrderedDict([('input_shape', [-1, 128, 16, 16]),\n",
       "                           ('output_shape', [-1, 128, 16, 16]),\n",
       "                           ('trainable', False),\n",
       "                           ('nb_params', tensor(1.4746e+05))])),\n",
       "             ('Conv2d-84',\n",
       "              OrderedDict([('input_shape', [-1, 128, 16, 16]),\n",
       "                           ('output_shape', [-1, 128, 16, 16]),\n",
       "                           ('trainable', False),\n",
       "                           ('nb_params', tensor(1.4746e+05))])),\n",
       "             ('BatchNorm2d-85',\n",
       "              OrderedDict([('input_shape', [-1, 128, 16, 16]),\n",
       "                           ('output_shape', [-1, 128, 16, 16]),\n",
       "                           ('trainable', False),\n",
       "                           ('nb_params', tensor(256))])),\n",
       "             ('BatchNorm2d-86',\n",
       "              OrderedDict([('input_shape', [-1, 128, 16, 16]),\n",
       "                           ('output_shape', [-1, 128, 16, 16]),\n",
       "                           ('trainable', False),\n",
       "                           ('nb_params', tensor(256))])),\n",
       "             ('ReLU-87',\n",
       "              OrderedDict([('input_shape', [-1, 128, 16, 16]),\n",
       "                           ('output_shape', [-1, 128, 16, 16]),\n",
       "                           ('nb_params', 0)])),\n",
       "             ('ReLU-88',\n",
       "              OrderedDict([('input_shape', [-1, 128, 16, 16]),\n",
       "                           ('output_shape', [-1, 128, 16, 16]),\n",
       "                           ('nb_params', 0)])),\n",
       "             ('Conv2d-89',\n",
       "              OrderedDict([('input_shape', [-1, 128, 16, 16]),\n",
       "                           ('output_shape', [-1, 128, 16, 16]),\n",
       "                           ('trainable', False),\n",
       "                           ('nb_params', tensor(1.4746e+05))])),\n",
       "             ('Conv2d-90',\n",
       "              OrderedDict([('input_shape', [-1, 128, 16, 16]),\n",
       "                           ('output_shape', [-1, 128, 16, 16]),\n",
       "                           ('trainable', False),\n",
       "                           ('nb_params', tensor(1.4746e+05))])),\n",
       "             ('BatchNorm2d-91',\n",
       "              OrderedDict([('input_shape', [-1, 128, 16, 16]),\n",
       "                           ('output_shape', [-1, 128, 16, 16]),\n",
       "                           ('trainable', False),\n",
       "                           ('nb_params', tensor(256))])),\n",
       "             ('BatchNorm2d-92',\n",
       "              OrderedDict([('input_shape', [-1, 128, 16, 16]),\n",
       "                           ('output_shape', [-1, 128, 16, 16]),\n",
       "                           ('trainable', False),\n",
       "                           ('nb_params', tensor(256))])),\n",
       "             ('ReLU-93',\n",
       "              OrderedDict([('input_shape', [-1, 128, 16, 16]),\n",
       "                           ('output_shape', [-1, 128, 16, 16]),\n",
       "                           ('nb_params', 0)])),\n",
       "             ('ReLU-94',\n",
       "              OrderedDict([('input_shape', [-1, 128, 16, 16]),\n",
       "                           ('output_shape', [-1, 128, 16, 16]),\n",
       "                           ('nb_params', 0)])),\n",
       "             ('BasicBlock-95',\n",
       "              OrderedDict([('input_shape', [-1, 128, 16, 16]),\n",
       "                           ('output_shape', [-1, 128, 16, 16]),\n",
       "                           ('nb_params', 0)])),\n",
       "             ('BasicBlock-96',\n",
       "              OrderedDict([('input_shape', [-1, 128, 16, 16]),\n",
       "                           ('output_shape', [-1, 128, 16, 16]),\n",
       "                           ('nb_params', 0)])),\n",
       "             ('Conv2d-97',\n",
       "              OrderedDict([('input_shape', [-1, 128, 16, 16]),\n",
       "                           ('output_shape', [-1, 128, 16, 16]),\n",
       "                           ('trainable', False),\n",
       "                           ('nb_params', tensor(1.4746e+05))])),\n",
       "             ('Conv2d-98',\n",
       "              OrderedDict([('input_shape', [-1, 128, 16, 16]),\n",
       "                           ('output_shape', [-1, 128, 16, 16]),\n",
       "                           ('trainable', False),\n",
       "                           ('nb_params', tensor(1.4746e+05))])),\n",
       "             ('BatchNorm2d-99',\n",
       "              OrderedDict([('input_shape', [-1, 128, 16, 16]),\n",
       "                           ('output_shape', [-1, 128, 16, 16]),\n",
       "                           ('trainable', False),\n",
       "                           ('nb_params', tensor(256))])),\n",
       "             ('BatchNorm2d-100',\n",
       "              OrderedDict([('input_shape', [-1, 128, 16, 16]),\n",
       "                           ('output_shape', [-1, 128, 16, 16]),\n",
       "                           ('trainable', False),\n",
       "                           ('nb_params', tensor(256))])),\n",
       "             ('ReLU-101',\n",
       "              OrderedDict([('input_shape', [-1, 128, 16, 16]),\n",
       "                           ('output_shape', [-1, 128, 16, 16]),\n",
       "                           ('nb_params', 0)])),\n",
       "             ('ReLU-102',\n",
       "              OrderedDict([('input_shape', [-1, 128, 16, 16]),\n",
       "                           ('output_shape', [-1, 128, 16, 16]),\n",
       "                           ('nb_params', 0)])),\n",
       "             ('Conv2d-103',\n",
       "              OrderedDict([('input_shape', [-1, 128, 16, 16]),\n",
       "                           ('output_shape', [-1, 128, 16, 16]),\n",
       "                           ('trainable', False),\n",
       "                           ('nb_params', tensor(1.4746e+05))])),\n",
       "             ('Conv2d-104',\n",
       "              OrderedDict([('input_shape', [-1, 128, 16, 16]),\n",
       "                           ('output_shape', [-1, 128, 16, 16]),\n",
       "                           ('trainable', False),\n",
       "                           ('nb_params', tensor(1.4746e+05))])),\n",
       "             ('BatchNorm2d-105',\n",
       "              OrderedDict([('input_shape', [-1, 128, 16, 16]),\n",
       "                           ('output_shape', [-1, 128, 16, 16]),\n",
       "                           ('trainable', False),\n",
       "                           ('nb_params', tensor(256))])),\n",
       "             ('BatchNorm2d-106',\n",
       "              OrderedDict([('input_shape', [-1, 128, 16, 16]),\n",
       "                           ('output_shape', [-1, 128, 16, 16]),\n",
       "                           ('trainable', False),\n",
       "                           ('nb_params', tensor(256))])),\n",
       "             ('ReLU-107',\n",
       "              OrderedDict([('input_shape', [-1, 128, 16, 16]),\n",
       "                           ('output_shape', [-1, 128, 16, 16]),\n",
       "                           ('nb_params', 0)])),\n",
       "             ('ReLU-108',\n",
       "              OrderedDict([('input_shape', [-1, 128, 16, 16]),\n",
       "                           ('output_shape', [-1, 128, 16, 16]),\n",
       "                           ('nb_params', 0)])),\n",
       "             ('BasicBlock-109',\n",
       "              OrderedDict([('input_shape', [-1, 128, 16, 16]),\n",
       "                           ('output_shape', [-1, 128, 16, 16]),\n",
       "                           ('nb_params', 0)])),\n",
       "             ('BasicBlock-110',\n",
       "              OrderedDict([('input_shape', [-1, 128, 16, 16]),\n",
       "                           ('output_shape', [-1, 128, 16, 16]),\n",
       "                           ('nb_params', 0)])),\n",
       "             ('Conv2d-111',\n",
       "              OrderedDict([('input_shape', [-1, 128, 16, 16]),\n",
       "                           ('output_shape', [-1, 256, 8, 8]),\n",
       "                           ('trainable', False),\n",
       "                           ('nb_params', tensor(2.9491e+05))])),\n",
       "             ('Conv2d-112',\n",
       "              OrderedDict([('input_shape', [-1, 128, 16, 16]),\n",
       "                           ('output_shape', [-1, 256, 8, 8]),\n",
       "                           ('trainable', False),\n",
       "                           ('nb_params', tensor(2.9491e+05))])),\n",
       "             ('BatchNorm2d-113',\n",
       "              OrderedDict([('input_shape', [-1, 256, 8, 8]),\n",
       "                           ('output_shape', [-1, 256, 8, 8]),\n",
       "                           ('trainable', False),\n",
       "                           ('nb_params', tensor(512))])),\n",
       "             ('BatchNorm2d-114',\n",
       "              OrderedDict([('input_shape', [-1, 256, 8, 8]),\n",
       "                           ('output_shape', [-1, 256, 8, 8]),\n",
       "                           ('trainable', False),\n",
       "                           ('nb_params', tensor(512))])),\n",
       "             ('ReLU-115',\n",
       "              OrderedDict([('input_shape', [-1, 256, 8, 8]),\n",
       "                           ('output_shape', [-1, 256, 8, 8]),\n",
       "                           ('nb_params', 0)])),\n",
       "             ('ReLU-116',\n",
       "              OrderedDict([('input_shape', [-1, 256, 8, 8]),\n",
       "                           ('output_shape', [-1, 256, 8, 8]),\n",
       "                           ('nb_params', 0)])),\n",
       "             ('Conv2d-117',\n",
       "              OrderedDict([('input_shape', [-1, 256, 8, 8]),\n",
       "                           ('output_shape', [-1, 256, 8, 8]),\n",
       "                           ('trainable', False),\n",
       "                           ('nb_params', tensor(5.8982e+05))])),\n",
       "             ('Conv2d-118',\n",
       "              OrderedDict([('input_shape', [-1, 256, 8, 8]),\n",
       "                           ('output_shape', [-1, 256, 8, 8]),\n",
       "                           ('trainable', False),\n",
       "                           ('nb_params', tensor(5.8982e+05))])),\n",
       "             ('BatchNorm2d-119',\n",
       "              OrderedDict([('input_shape', [-1, 256, 8, 8]),\n",
       "                           ('output_shape', [-1, 256, 8, 8]),\n",
       "                           ('trainable', False),\n",
       "                           ('nb_params', tensor(512))])),\n",
       "             ('BatchNorm2d-120',\n",
       "              OrderedDict([('input_shape', [-1, 256, 8, 8]),\n",
       "                           ('output_shape', [-1, 256, 8, 8]),\n",
       "                           ('trainable', False),\n",
       "                           ('nb_params', tensor(512))])),\n",
       "             ('Conv2d-121',\n",
       "              OrderedDict([('input_shape', [-1, 128, 16, 16]),\n",
       "                           ('output_shape', [-1, 256, 8, 8]),\n",
       "                           ('trainable', False),\n",
       "                           ('nb_params', tensor(32768))])),\n",
       "             ('Conv2d-122',\n",
       "              OrderedDict([('input_shape', [-1, 128, 16, 16]),\n",
       "                           ('output_shape', [-1, 256, 8, 8]),\n",
       "                           ('trainable', False),\n",
       "                           ('nb_params', tensor(32768))])),\n",
       "             ('BatchNorm2d-123',\n",
       "              OrderedDict([('input_shape', [-1, 256, 8, 8]),\n",
       "                           ('output_shape', [-1, 256, 8, 8]),\n",
       "                           ('trainable', False),\n",
       "                           ('nb_params', tensor(512))])),\n",
       "             ('BatchNorm2d-124',\n",
       "              OrderedDict([('input_shape', [-1, 256, 8, 8]),\n",
       "                           ('output_shape', [-1, 256, 8, 8]),\n",
       "                           ('trainable', False),\n",
       "                           ('nb_params', tensor(512))])),\n",
       "             ('ReLU-125',\n",
       "              OrderedDict([('input_shape', [-1, 256, 8, 8]),\n",
       "                           ('output_shape', [-1, 256, 8, 8]),\n",
       "                           ('nb_params', 0)])),\n",
       "             ('ReLU-126',\n",
       "              OrderedDict([('input_shape', [-1, 256, 8, 8]),\n",
       "                           ('output_shape', [-1, 256, 8, 8]),\n",
       "                           ('nb_params', 0)])),\n",
       "             ('BasicBlock-127',\n",
       "              OrderedDict([('input_shape', [-1, 128, 16, 16]),\n",
       "                           ('output_shape', [-1, 256, 8, 8]),\n",
       "                           ('nb_params', 0)])),\n",
       "             ('BasicBlock-128',\n",
       "              OrderedDict([('input_shape', [-1, 128, 16, 16]),\n",
       "                           ('output_shape', [-1, 256, 8, 8]),\n",
       "                           ('nb_params', 0)])),\n",
       "             ('Conv2d-129',\n",
       "              OrderedDict([('input_shape', [-1, 256, 8, 8]),\n",
       "                           ('output_shape', [-1, 256, 8, 8]),\n",
       "                           ('trainable', False),\n",
       "                           ('nb_params', tensor(5.8982e+05))])),\n",
       "             ('Conv2d-130',\n",
       "              OrderedDict([('input_shape', [-1, 256, 8, 8]),\n",
       "                           ('output_shape', [-1, 256, 8, 8]),\n",
       "                           ('trainable', False),\n",
       "                           ('nb_params', tensor(5.8982e+05))])),\n",
       "             ('BatchNorm2d-131',\n",
       "              OrderedDict([('input_shape', [-1, 256, 8, 8]),\n",
       "                           ('output_shape', [-1, 256, 8, 8]),\n",
       "                           ('trainable', False),\n",
       "                           ('nb_params', tensor(512))])),\n",
       "             ('BatchNorm2d-132',\n",
       "              OrderedDict([('input_shape', [-1, 256, 8, 8]),\n",
       "                           ('output_shape', [-1, 256, 8, 8]),\n",
       "                           ('trainable', False),\n",
       "                           ('nb_params', tensor(512))])),\n",
       "             ('ReLU-133',\n",
       "              OrderedDict([('input_shape', [-1, 256, 8, 8]),\n",
       "                           ('output_shape', [-1, 256, 8, 8]),\n",
       "                           ('nb_params', 0)])),\n",
       "             ('ReLU-134',\n",
       "              OrderedDict([('input_shape', [-1, 256, 8, 8]),\n",
       "                           ('output_shape', [-1, 256, 8, 8]),\n",
       "                           ('nb_params', 0)])),\n",
       "             ('Conv2d-135',\n",
       "              OrderedDict([('input_shape', [-1, 256, 8, 8]),\n",
       "                           ('output_shape', [-1, 256, 8, 8]),\n",
       "                           ('trainable', False),\n",
       "                           ('nb_params', tensor(5.8982e+05))])),\n",
       "             ('Conv2d-136',\n",
       "              OrderedDict([('input_shape', [-1, 256, 8, 8]),\n",
       "                           ('output_shape', [-1, 256, 8, 8]),\n",
       "                           ('trainable', False),\n",
       "                           ('nb_params', tensor(5.8982e+05))])),\n",
       "             ('BatchNorm2d-137',\n",
       "              OrderedDict([('input_shape', [-1, 256, 8, 8]),\n",
       "                           ('output_shape', [-1, 256, 8, 8]),\n",
       "                           ('trainable', False),\n",
       "                           ('nb_params', tensor(512))])),\n",
       "             ('BatchNorm2d-138',\n",
       "              OrderedDict([('input_shape', [-1, 256, 8, 8]),\n",
       "                           ('output_shape', [-1, 256, 8, 8]),\n",
       "                           ('trainable', False),\n",
       "                           ('nb_params', tensor(512))])),\n",
       "             ('ReLU-139',\n",
       "              OrderedDict([('input_shape', [-1, 256, 8, 8]),\n",
       "                           ('output_shape', [-1, 256, 8, 8]),\n",
       "                           ('nb_params', 0)])),\n",
       "             ('ReLU-140',\n",
       "              OrderedDict([('input_shape', [-1, 256, 8, 8]),\n",
       "                           ('output_shape', [-1, 256, 8, 8]),\n",
       "                           ('nb_params', 0)])),\n",
       "             ('BasicBlock-141',\n",
       "              OrderedDict([('input_shape', [-1, 256, 8, 8]),\n",
       "                           ('output_shape', [-1, 256, 8, 8]),\n",
       "                           ('nb_params', 0)])),\n",
       "             ('BasicBlock-142',\n",
       "              OrderedDict([('input_shape', [-1, 256, 8, 8]),\n",
       "                           ('output_shape', [-1, 256, 8, 8]),\n",
       "                           ('nb_params', 0)])),\n",
       "             ('Conv2d-143',\n",
       "              OrderedDict([('input_shape', [-1, 256, 8, 8]),\n",
       "                           ('output_shape', [-1, 256, 8, 8]),\n",
       "                           ('trainable', False),\n",
       "                           ('nb_params', tensor(5.8982e+05))])),\n",
       "             ('Conv2d-144',\n",
       "              OrderedDict([('input_shape', [-1, 256, 8, 8]),\n",
       "                           ('output_shape', [-1, 256, 8, 8]),\n",
       "                           ('trainable', False),\n",
       "                           ('nb_params', tensor(5.8982e+05))])),\n",
       "             ('BatchNorm2d-145',\n",
       "              OrderedDict([('input_shape', [-1, 256, 8, 8]),\n",
       "                           ('output_shape', [-1, 256, 8, 8]),\n",
       "                           ('trainable', False),\n",
       "                           ('nb_params', tensor(512))])),\n",
       "             ('BatchNorm2d-146',\n",
       "              OrderedDict([('input_shape', [-1, 256, 8, 8]),\n",
       "                           ('output_shape', [-1, 256, 8, 8]),\n",
       "                           ('trainable', False),\n",
       "                           ('nb_params', tensor(512))])),\n",
       "             ('ReLU-147',\n",
       "              OrderedDict([('input_shape', [-1, 256, 8, 8]),\n",
       "                           ('output_shape', [-1, 256, 8, 8]),\n",
       "                           ('nb_params', 0)])),\n",
       "             ('ReLU-148',\n",
       "              OrderedDict([('input_shape', [-1, 256, 8, 8]),\n",
       "                           ('output_shape', [-1, 256, 8, 8]),\n",
       "                           ('nb_params', 0)])),\n",
       "             ('Conv2d-149',\n",
       "              OrderedDict([('input_shape', [-1, 256, 8, 8]),\n",
       "                           ('output_shape', [-1, 256, 8, 8]),\n",
       "                           ('trainable', False),\n",
       "                           ('nb_params', tensor(5.8982e+05))])),\n",
       "             ('Conv2d-150',\n",
       "              OrderedDict([('input_shape', [-1, 256, 8, 8]),\n",
       "                           ('output_shape', [-1, 256, 8, 8]),\n",
       "                           ('trainable', False),\n",
       "                           ('nb_params', tensor(5.8982e+05))])),\n",
       "             ('BatchNorm2d-151',\n",
       "              OrderedDict([('input_shape', [-1, 256, 8, 8]),\n",
       "                           ('output_shape', [-1, 256, 8, 8]),\n",
       "                           ('trainable', False),\n",
       "                           ('nb_params', tensor(512))])),\n",
       "             ('BatchNorm2d-152',\n",
       "              OrderedDict([('input_shape', [-1, 256, 8, 8]),\n",
       "                           ('output_shape', [-1, 256, 8, 8]),\n",
       "                           ('trainable', False),\n",
       "                           ('nb_params', tensor(512))])),\n",
       "             ('ReLU-153',\n",
       "              OrderedDict([('input_shape', [-1, 256, 8, 8]),\n",
       "                           ('output_shape', [-1, 256, 8, 8]),\n",
       "                           ('nb_params', 0)])),\n",
       "             ('ReLU-154',\n",
       "              OrderedDict([('input_shape', [-1, 256, 8, 8]),\n",
       "                           ('output_shape', [-1, 256, 8, 8]),\n",
       "                           ('nb_params', 0)])),\n",
       "             ('BasicBlock-155',\n",
       "              OrderedDict([('input_shape', [-1, 256, 8, 8]),\n",
       "                           ('output_shape', [-1, 256, 8, 8]),\n",
       "                           ('nb_params', 0)])),\n",
       "             ('BasicBlock-156',\n",
       "              OrderedDict([('input_shape', [-1, 256, 8, 8]),\n",
       "                           ('output_shape', [-1, 256, 8, 8]),\n",
       "                           ('nb_params', 0)])),\n",
       "             ('Conv2d-157',\n",
       "              OrderedDict([('input_shape', [-1, 256, 8, 8]),\n",
       "                           ('output_shape', [-1, 256, 8, 8]),\n",
       "                           ('trainable', False),\n",
       "                           ('nb_params', tensor(5.8982e+05))])),\n",
       "             ('Conv2d-158',\n",
       "              OrderedDict([('input_shape', [-1, 256, 8, 8]),\n",
       "                           ('output_shape', [-1, 256, 8, 8]),\n",
       "                           ('trainable', False),\n",
       "                           ('nb_params', tensor(5.8982e+05))])),\n",
       "             ('BatchNorm2d-159',\n",
       "              OrderedDict([('input_shape', [-1, 256, 8, 8]),\n",
       "                           ('output_shape', [-1, 256, 8, 8]),\n",
       "                           ('trainable', False),\n",
       "                           ('nb_params', tensor(512))])),\n",
       "             ('BatchNorm2d-160',\n",
       "              OrderedDict([('input_shape', [-1, 256, 8, 8]),\n",
       "                           ('output_shape', [-1, 256, 8, 8]),\n",
       "                           ('trainable', False),\n",
       "                           ('nb_params', tensor(512))])),\n",
       "             ('ReLU-161',\n",
       "              OrderedDict([('input_shape', [-1, 256, 8, 8]),\n",
       "                           ('output_shape', [-1, 256, 8, 8]),\n",
       "                           ('nb_params', 0)])),\n",
       "             ('ReLU-162',\n",
       "              OrderedDict([('input_shape', [-1, 256, 8, 8]),\n",
       "                           ('output_shape', [-1, 256, 8, 8]),\n",
       "                           ('nb_params', 0)])),\n",
       "             ('Conv2d-163',\n",
       "              OrderedDict([('input_shape', [-1, 256, 8, 8]),\n",
       "                           ('output_shape', [-1, 256, 8, 8]),\n",
       "                           ('trainable', False),\n",
       "                           ('nb_params', tensor(5.8982e+05))])),\n",
       "             ('Conv2d-164',\n",
       "              OrderedDict([('input_shape', [-1, 256, 8, 8]),\n",
       "                           ('output_shape', [-1, 256, 8, 8]),\n",
       "                           ('trainable', False),\n",
       "                           ('nb_params', tensor(5.8982e+05))])),\n",
       "             ('BatchNorm2d-165',\n",
       "              OrderedDict([('input_shape', [-1, 256, 8, 8]),\n",
       "                           ('output_shape', [-1, 256, 8, 8]),\n",
       "                           ('trainable', False),\n",
       "                           ('nb_params', tensor(512))])),\n",
       "             ('BatchNorm2d-166',\n",
       "              OrderedDict([('input_shape', [-1, 256, 8, 8]),\n",
       "                           ('output_shape', [-1, 256, 8, 8]),\n",
       "                           ('trainable', False),\n",
       "                           ('nb_params', tensor(512))])),\n",
       "             ('ReLU-167',\n",
       "              OrderedDict([('input_shape', [-1, 256, 8, 8]),\n",
       "                           ('output_shape', [-1, 256, 8, 8]),\n",
       "                           ('nb_params', 0)])),\n",
       "             ('ReLU-168',\n",
       "              OrderedDict([('input_shape', [-1, 256, 8, 8]),\n",
       "                           ('output_shape', [-1, 256, 8, 8]),\n",
       "                           ('nb_params', 0)])),\n",
       "             ('BasicBlock-169',\n",
       "              OrderedDict([('input_shape', [-1, 256, 8, 8]),\n",
       "                           ('output_shape', [-1, 256, 8, 8]),\n",
       "                           ('nb_params', 0)])),\n",
       "             ('BasicBlock-170',\n",
       "              OrderedDict([('input_shape', [-1, 256, 8, 8]),\n",
       "                           ('output_shape', [-1, 256, 8, 8]),\n",
       "                           ('nb_params', 0)])),\n",
       "             ('Conv2d-171',\n",
       "              OrderedDict([('input_shape', [-1, 256, 8, 8]),\n",
       "                           ('output_shape', [-1, 256, 8, 8]),\n",
       "                           ('trainable', False),\n",
       "                           ('nb_params', tensor(5.8982e+05))])),\n",
       "             ('Conv2d-172',\n",
       "              OrderedDict([('input_shape', [-1, 256, 8, 8]),\n",
       "                           ('output_shape', [-1, 256, 8, 8]),\n",
       "                           ('trainable', False),\n",
       "                           ('nb_params', tensor(5.8982e+05))])),\n",
       "             ('BatchNorm2d-173',\n",
       "              OrderedDict([('input_shape', [-1, 256, 8, 8]),\n",
       "                           ('output_shape', [-1, 256, 8, 8]),\n",
       "                           ('trainable', False),\n",
       "                           ('nb_params', tensor(512))])),\n",
       "             ('BatchNorm2d-174',\n",
       "              OrderedDict([('input_shape', [-1, 256, 8, 8]),\n",
       "                           ('output_shape', [-1, 256, 8, 8]),\n",
       "                           ('trainable', False),\n",
       "                           ('nb_params', tensor(512))])),\n",
       "             ('ReLU-175',\n",
       "              OrderedDict([('input_shape', [-1, 256, 8, 8]),\n",
       "                           ('output_shape', [-1, 256, 8, 8]),\n",
       "                           ('nb_params', 0)])),\n",
       "             ('ReLU-176',\n",
       "              OrderedDict([('input_shape', [-1, 256, 8, 8]),\n",
       "                           ('output_shape', [-1, 256, 8, 8]),\n",
       "                           ('nb_params', 0)])),\n",
       "             ('Conv2d-177',\n",
       "              OrderedDict([('input_shape', [-1, 256, 8, 8]),\n",
       "                           ('output_shape', [-1, 256, 8, 8]),\n",
       "                           ('trainable', False),\n",
       "                           ('nb_params', tensor(5.8982e+05))])),\n",
       "             ('Conv2d-178',\n",
       "              OrderedDict([('input_shape', [-1, 256, 8, 8]),\n",
       "                           ('output_shape', [-1, 256, 8, 8]),\n",
       "                           ('trainable', False),\n",
       "                           ('nb_params', tensor(5.8982e+05))])),\n",
       "             ('BatchNorm2d-179',\n",
       "              OrderedDict([('input_shape', [-1, 256, 8, 8]),\n",
       "                           ('output_shape', [-1, 256, 8, 8]),\n",
       "                           ('trainable', False),\n",
       "                           ('nb_params', tensor(512))])),\n",
       "             ('BatchNorm2d-180',\n",
       "              OrderedDict([('input_shape', [-1, 256, 8, 8]),\n",
       "                           ('output_shape', [-1, 256, 8, 8]),\n",
       "                           ('trainable', False),\n",
       "                           ('nb_params', tensor(512))])),\n",
       "             ('ReLU-181',\n",
       "              OrderedDict([('input_shape', [-1, 256, 8, 8]),\n",
       "                           ('output_shape', [-1, 256, 8, 8]),\n",
       "                           ('nb_params', 0)])),\n",
       "             ('ReLU-182',\n",
       "              OrderedDict([('input_shape', [-1, 256, 8, 8]),\n",
       "                           ('output_shape', [-1, 256, 8, 8]),\n",
       "                           ('nb_params', 0)])),\n",
       "             ('BasicBlock-183',\n",
       "              OrderedDict([('input_shape', [-1, 256, 8, 8]),\n",
       "                           ('output_shape', [-1, 256, 8, 8]),\n",
       "                           ('nb_params', 0)])),\n",
       "             ('BasicBlock-184',\n",
       "              OrderedDict([('input_shape', [-1, 256, 8, 8]),\n",
       "                           ('output_shape', [-1, 256, 8, 8]),\n",
       "                           ('nb_params', 0)])),\n",
       "             ('Conv2d-185',\n",
       "              OrderedDict([('input_shape', [-1, 256, 8, 8]),\n",
       "                           ('output_shape', [-1, 256, 8, 8]),\n",
       "                           ('trainable', False),\n",
       "                           ('nb_params', tensor(5.8982e+05))])),\n",
       "             ('Conv2d-186',\n",
       "              OrderedDict([('input_shape', [-1, 256, 8, 8]),\n",
       "                           ('output_shape', [-1, 256, 8, 8]),\n",
       "                           ('trainable', False),\n",
       "                           ('nb_params', tensor(5.8982e+05))])),\n",
       "             ('BatchNorm2d-187',\n",
       "              OrderedDict([('input_shape', [-1, 256, 8, 8]),\n",
       "                           ('output_shape', [-1, 256, 8, 8]),\n",
       "                           ('trainable', False),\n",
       "                           ('nb_params', tensor(512))])),\n",
       "             ('BatchNorm2d-188',\n",
       "              OrderedDict([('input_shape', [-1, 256, 8, 8]),\n",
       "                           ('output_shape', [-1, 256, 8, 8]),\n",
       "                           ('trainable', False),\n",
       "                           ('nb_params', tensor(512))])),\n",
       "             ('ReLU-189',\n",
       "              OrderedDict([('input_shape', [-1, 256, 8, 8]),\n",
       "                           ('output_shape', [-1, 256, 8, 8]),\n",
       "                           ('nb_params', 0)])),\n",
       "             ('ReLU-190',\n",
       "              OrderedDict([('input_shape', [-1, 256, 8, 8]),\n",
       "                           ('output_shape', [-1, 256, 8, 8]),\n",
       "                           ('nb_params', 0)])),\n",
       "             ('Conv2d-191',\n",
       "              OrderedDict([('input_shape', [-1, 256, 8, 8]),\n",
       "                           ('output_shape', [-1, 256, 8, 8]),\n",
       "                           ('trainable', False),\n",
       "                           ('nb_params', tensor(5.8982e+05))])),\n",
       "             ('Conv2d-192',\n",
       "              OrderedDict([('input_shape', [-1, 256, 8, 8]),\n",
       "                           ('output_shape', [-1, 256, 8, 8]),\n",
       "                           ('trainable', False),\n",
       "                           ('nb_params', tensor(5.8982e+05))])),\n",
       "             ('BatchNorm2d-193',\n",
       "              OrderedDict([('input_shape', [-1, 256, 8, 8]),\n",
       "                           ('output_shape', [-1, 256, 8, 8]),\n",
       "                           ('trainable', False),\n",
       "                           ('nb_params', tensor(512))])),\n",
       "             ('BatchNorm2d-194',\n",
       "              OrderedDict([('input_shape', [-1, 256, 8, 8]),\n",
       "                           ('output_shape', [-1, 256, 8, 8]),\n",
       "                           ('trainable', False),\n",
       "                           ('nb_params', tensor(512))])),\n",
       "             ('ReLU-195',\n",
       "              OrderedDict([('input_shape', [-1, 256, 8, 8]),\n",
       "                           ('output_shape', [-1, 256, 8, 8]),\n",
       "                           ('nb_params', 0)])),\n",
       "             ('ReLU-196',\n",
       "              OrderedDict([('input_shape', [-1, 256, 8, 8]),\n",
       "                           ('output_shape', [-1, 256, 8, 8]),\n",
       "                           ('nb_params', 0)])),\n",
       "             ('BasicBlock-197',\n",
       "              OrderedDict([('input_shape', [-1, 256, 8, 8]),\n",
       "                           ('output_shape', [-1, 256, 8, 8]),\n",
       "                           ('nb_params', 0)])),\n",
       "             ('BasicBlock-198',\n",
       "              OrderedDict([('input_shape', [-1, 256, 8, 8]),\n",
       "                           ('output_shape', [-1, 256, 8, 8]),\n",
       "                           ('nb_params', 0)])),\n",
       "             ('Conv2d-199',\n",
       "              OrderedDict([('input_shape', [-1, 256, 8, 8]),\n",
       "                           ('output_shape', [-1, 512, 4, 4]),\n",
       "                           ('trainable', False),\n",
       "                           ('nb_params', tensor(1.1796e+06))])),\n",
       "             ('Conv2d-200',\n",
       "              OrderedDict([('input_shape', [-1, 256, 8, 8]),\n",
       "                           ('output_shape', [-1, 512, 4, 4]),\n",
       "                           ('trainable', False),\n",
       "                           ('nb_params', tensor(1.1796e+06))])),\n",
       "             ('BatchNorm2d-201',\n",
       "              OrderedDict([('input_shape', [-1, 512, 4, 4]),\n",
       "                           ('output_shape', [-1, 512, 4, 4]),\n",
       "                           ('trainable', False),\n",
       "                           ('nb_params', tensor(1024))])),\n",
       "             ('BatchNorm2d-202',\n",
       "              OrderedDict([('input_shape', [-1, 512, 4, 4]),\n",
       "                           ('output_shape', [-1, 512, 4, 4]),\n",
       "                           ('trainable', False),\n",
       "                           ('nb_params', tensor(1024))])),\n",
       "             ('ReLU-203',\n",
       "              OrderedDict([('input_shape', [-1, 512, 4, 4]),\n",
       "                           ('output_shape', [-1, 512, 4, 4]),\n",
       "                           ('nb_params', 0)])),\n",
       "             ('ReLU-204',\n",
       "              OrderedDict([('input_shape', [-1, 512, 4, 4]),\n",
       "                           ('output_shape', [-1, 512, 4, 4]),\n",
       "                           ('nb_params', 0)])),\n",
       "             ('Conv2d-205',\n",
       "              OrderedDict([('input_shape', [-1, 512, 4, 4]),\n",
       "                           ('output_shape', [-1, 512, 4, 4]),\n",
       "                           ('trainable', False),\n",
       "                           ('nb_params', tensor(2.3593e+06))])),\n",
       "             ('Conv2d-206',\n",
       "              OrderedDict([('input_shape', [-1, 512, 4, 4]),\n",
       "                           ('output_shape', [-1, 512, 4, 4]),\n",
       "                           ('trainable', False),\n",
       "                           ('nb_params', tensor(2.3593e+06))])),\n",
       "             ('BatchNorm2d-207',\n",
       "              OrderedDict([('input_shape', [-1, 512, 4, 4]),\n",
       "                           ('output_shape', [-1, 512, 4, 4]),\n",
       "                           ('trainable', False),\n",
       "                           ('nb_params', tensor(1024))])),\n",
       "             ('BatchNorm2d-208',\n",
       "              OrderedDict([('input_shape', [-1, 512, 4, 4]),\n",
       "                           ('output_shape', [-1, 512, 4, 4]),\n",
       "                           ('trainable', False),\n",
       "                           ('nb_params', tensor(1024))])),\n",
       "             ('Conv2d-209',\n",
       "              OrderedDict([('input_shape', [-1, 256, 8, 8]),\n",
       "                           ('output_shape', [-1, 512, 4, 4]),\n",
       "                           ('trainable', False),\n",
       "                           ('nb_params', tensor(1.3107e+05))])),\n",
       "             ('Conv2d-210',\n",
       "              OrderedDict([('input_shape', [-1, 256, 8, 8]),\n",
       "                           ('output_shape', [-1, 512, 4, 4]),\n",
       "                           ('trainable', False),\n",
       "                           ('nb_params', tensor(1.3107e+05))])),\n",
       "             ('BatchNorm2d-211',\n",
       "              OrderedDict([('input_shape', [-1, 512, 4, 4]),\n",
       "                           ('output_shape', [-1, 512, 4, 4]),\n",
       "                           ('trainable', False),\n",
       "                           ('nb_params', tensor(1024))])),\n",
       "             ('BatchNorm2d-212',\n",
       "              OrderedDict([('input_shape', [-1, 512, 4, 4]),\n",
       "                           ('output_shape', [-1, 512, 4, 4]),\n",
       "                           ('trainable', False),\n",
       "                           ('nb_params', tensor(1024))])),\n",
       "             ('ReLU-213',\n",
       "              OrderedDict([('input_shape', [-1, 512, 4, 4]),\n",
       "                           ('output_shape', [-1, 512, 4, 4]),\n",
       "                           ('nb_params', 0)])),\n",
       "             ('ReLU-214',\n",
       "              OrderedDict([('input_shape', [-1, 512, 4, 4]),\n",
       "                           ('output_shape', [-1, 512, 4, 4]),\n",
       "                           ('nb_params', 0)])),\n",
       "             ('BasicBlock-215',\n",
       "              OrderedDict([('input_shape', [-1, 256, 8, 8]),\n",
       "                           ('output_shape', [-1, 512, 4, 4]),\n",
       "                           ('nb_params', 0)])),\n",
       "             ('BasicBlock-216',\n",
       "              OrderedDict([('input_shape', [-1, 256, 8, 8]),\n",
       "                           ('output_shape', [-1, 512, 4, 4]),\n",
       "                           ('nb_params', 0)])),\n",
       "             ('Conv2d-217',\n",
       "              OrderedDict([('input_shape', [-1, 512, 4, 4]),\n",
       "                           ('output_shape', [-1, 512, 4, 4]),\n",
       "                           ('trainable', False),\n",
       "                           ('nb_params', tensor(2.3593e+06))])),\n",
       "             ('Conv2d-218',\n",
       "              OrderedDict([('input_shape', [-1, 512, 4, 4]),\n",
       "                           ('output_shape', [-1, 512, 4, 4]),\n",
       "                           ('trainable', False),\n",
       "                           ('nb_params', tensor(2.3593e+06))])),\n",
       "             ('BatchNorm2d-219',\n",
       "              OrderedDict([('input_shape', [-1, 512, 4, 4]),\n",
       "                           ('output_shape', [-1, 512, 4, 4]),\n",
       "                           ('trainable', False),\n",
       "                           ('nb_params', tensor(1024))])),\n",
       "             ('BatchNorm2d-220',\n",
       "              OrderedDict([('input_shape', [-1, 512, 4, 4]),\n",
       "                           ('output_shape', [-1, 512, 4, 4]),\n",
       "                           ('trainable', False),\n",
       "                           ('nb_params', tensor(1024))])),\n",
       "             ('ReLU-221',\n",
       "              OrderedDict([('input_shape', [-1, 512, 4, 4]),\n",
       "                           ('output_shape', [-1, 512, 4, 4]),\n",
       "                           ('nb_params', 0)])),\n",
       "             ('ReLU-222',\n",
       "              OrderedDict([('input_shape', [-1, 512, 4, 4]),\n",
       "                           ('output_shape', [-1, 512, 4, 4]),\n",
       "                           ('nb_params', 0)])),\n",
       "             ('Conv2d-223',\n",
       "              OrderedDict([('input_shape', [-1, 512, 4, 4]),\n",
       "                           ('output_shape', [-1, 512, 4, 4]),\n",
       "                           ('trainable', False),\n",
       "                           ('nb_params', tensor(2.3593e+06))])),\n",
       "             ('Conv2d-224',\n",
       "              OrderedDict([('input_shape', [-1, 512, 4, 4]),\n",
       "                           ('output_shape', [-1, 512, 4, 4]),\n",
       "                           ('trainable', False),\n",
       "                           ('nb_params', tensor(2.3593e+06))])),\n",
       "             ('BatchNorm2d-225',\n",
       "              OrderedDict([('input_shape', [-1, 512, 4, 4]),\n",
       "                           ('output_shape', [-1, 512, 4, 4]),\n",
       "                           ('trainable', False),\n",
       "                           ('nb_params', tensor(1024))])),\n",
       "             ('BatchNorm2d-226',\n",
       "              OrderedDict([('input_shape', [-1, 512, 4, 4]),\n",
       "                           ('output_shape', [-1, 512, 4, 4]),\n",
       "                           ('trainable', False),\n",
       "                           ('nb_params', tensor(1024))])),\n",
       "             ('ReLU-227',\n",
       "              OrderedDict([('input_shape', [-1, 512, 4, 4]),\n",
       "                           ('output_shape', [-1, 512, 4, 4]),\n",
       "                           ('nb_params', 0)])),\n",
       "             ('ReLU-228',\n",
       "              OrderedDict([('input_shape', [-1, 512, 4, 4]),\n",
       "                           ('output_shape', [-1, 512, 4, 4]),\n",
       "                           ('nb_params', 0)])),\n",
       "             ('BasicBlock-229',\n",
       "              OrderedDict([('input_shape', [-1, 512, 4, 4]),\n",
       "                           ('output_shape', [-1, 512, 4, 4]),\n",
       "                           ('nb_params', 0)])),\n",
       "             ('BasicBlock-230',\n",
       "              OrderedDict([('input_shape', [-1, 512, 4, 4]),\n",
       "                           ('output_shape', [-1, 512, 4, 4]),\n",
       "                           ('nb_params', 0)])),\n",
       "             ('Conv2d-231',\n",
       "              OrderedDict([('input_shape', [-1, 512, 4, 4]),\n",
       "                           ('output_shape', [-1, 512, 4, 4]),\n",
       "                           ('trainable', False),\n",
       "                           ('nb_params', tensor(2.3593e+06))])),\n",
       "             ('Conv2d-232',\n",
       "              OrderedDict([('input_shape', [-1, 512, 4, 4]),\n",
       "                           ('output_shape', [-1, 512, 4, 4]),\n",
       "                           ('trainable', False),\n",
       "                           ('nb_params', tensor(2.3593e+06))])),\n",
       "             ('BatchNorm2d-233',\n",
       "              OrderedDict([('input_shape', [-1, 512, 4, 4]),\n",
       "                           ('output_shape', [-1, 512, 4, 4]),\n",
       "                           ('trainable', False),\n",
       "                           ('nb_params', tensor(1024))])),\n",
       "             ('BatchNorm2d-234',\n",
       "              OrderedDict([('input_shape', [-1, 512, 4, 4]),\n",
       "                           ('output_shape', [-1, 512, 4, 4]),\n",
       "                           ('trainable', False),\n",
       "                           ('nb_params', tensor(1024))])),\n",
       "             ('ReLU-235',\n",
       "              OrderedDict([('input_shape', [-1, 512, 4, 4]),\n",
       "                           ('output_shape', [-1, 512, 4, 4]),\n",
       "                           ('nb_params', 0)])),\n",
       "             ('ReLU-236',\n",
       "              OrderedDict([('input_shape', [-1, 512, 4, 4]),\n",
       "                           ('output_shape', [-1, 512, 4, 4]),\n",
       "                           ('nb_params', 0)])),\n",
       "             ('Conv2d-237',\n",
       "              OrderedDict([('input_shape', [-1, 512, 4, 4]),\n",
       "                           ('output_shape', [-1, 512, 4, 4]),\n",
       "                           ('trainable', False),\n",
       "                           ('nb_params', tensor(2.3593e+06))])),\n",
       "             ('Conv2d-238',\n",
       "              OrderedDict([('input_shape', [-1, 512, 4, 4]),\n",
       "                           ('output_shape', [-1, 512, 4, 4]),\n",
       "                           ('trainable', False),\n",
       "                           ('nb_params', tensor(2.3593e+06))])),\n",
       "             ('BatchNorm2d-239',\n",
       "              OrderedDict([('input_shape', [-1, 512, 4, 4]),\n",
       "                           ('output_shape', [-1, 512, 4, 4]),\n",
       "                           ('trainable', False),\n",
       "                           ('nb_params', tensor(1024))])),\n",
       "             ('BatchNorm2d-240',\n",
       "              OrderedDict([('input_shape', [-1, 512, 4, 4]),\n",
       "                           ('output_shape', [-1, 512, 4, 4]),\n",
       "                           ('trainable', False),\n",
       "                           ('nb_params', tensor(1024))])),\n",
       "             ('ReLU-241',\n",
       "              OrderedDict([('input_shape', [-1, 512, 4, 4]),\n",
       "                           ('output_shape', [-1, 512, 4, 4]),\n",
       "                           ('nb_params', 0)])),\n",
       "             ('ReLU-242',\n",
       "              OrderedDict([('input_shape', [-1, 512, 4, 4]),\n",
       "                           ('output_shape', [-1, 512, 4, 4]),\n",
       "                           ('nb_params', 0)])),\n",
       "             ('BasicBlock-243',\n",
       "              OrderedDict([('input_shape', [-1, 512, 4, 4]),\n",
       "                           ('output_shape', [-1, 512, 4, 4]),\n",
       "                           ('nb_params', 0)])),\n",
       "             ('BasicBlock-244',\n",
       "              OrderedDict([('input_shape', [-1, 512, 4, 4]),\n",
       "                           ('output_shape', [-1, 512, 4, 4]),\n",
       "                           ('nb_params', 0)])),\n",
       "             ('ReLU-245',\n",
       "              OrderedDict([('input_shape', [-1, 512, 4, 4]),\n",
       "                           ('output_shape', [-1, 512, 4, 4]),\n",
       "                           ('nb_params', 0)])),\n",
       "             ('ConvTranspose2d-246',\n",
       "              OrderedDict([('input_shape', [-1, 512, 4, 4]),\n",
       "                           ('output_shape', [-1, 256, 8, 8]),\n",
       "                           ('trainable', True),\n",
       "                           ('nb_params', tensor(5.2454e+05))])),\n",
       "             ('BatchNorm2d-247',\n",
       "              OrderedDict([('input_shape', [-1, 256, 8, 8]),\n",
       "                           ('output_shape', [-1, 256, 8, 8]),\n",
       "                           ('trainable', True),\n",
       "                           ('nb_params', tensor(512))])),\n",
       "             ('StdUpsample-248',\n",
       "              OrderedDict([('input_shape', [-1, 512, 4, 4]),\n",
       "                           ('output_shape', [-1, 256, 8, 8]),\n",
       "                           ('nb_params', 0)])),\n",
       "             ('ConvTranspose2d-249',\n",
       "              OrderedDict([('input_shape', [-1, 256, 8, 8]),\n",
       "                           ('output_shape', [-1, 256, 16, 16]),\n",
       "                           ('trainable', True),\n",
       "                           ('nb_params', tensor(2.6240e+05))])),\n",
       "             ('BatchNorm2d-250',\n",
       "              OrderedDict([('input_shape', [-1, 256, 16, 16]),\n",
       "                           ('output_shape', [-1, 256, 16, 16]),\n",
       "                           ('trainable', True),\n",
       "                           ('nb_params', tensor(512))])),\n",
       "             ('StdUpsample-251',\n",
       "              OrderedDict([('input_shape', [-1, 256, 8, 8]),\n",
       "                           ('output_shape', [-1, 256, 16, 16]),\n",
       "                           ('nb_params', 0)])),\n",
       "             ('ConvTranspose2d-252',\n",
       "              OrderedDict([('input_shape', [-1, 256, 16, 16]),\n",
       "                           ('output_shape', [-1, 256, 32, 32]),\n",
       "                           ('trainable', True),\n",
       "                           ('nb_params', tensor(2.6240e+05))])),\n",
       "             ('BatchNorm2d-253',\n",
       "              OrderedDict([('input_shape', [-1, 256, 32, 32]),\n",
       "                           ('output_shape', [-1, 256, 32, 32]),\n",
       "                           ('trainable', True),\n",
       "                           ('nb_params', tensor(512))])),\n",
       "             ('StdUpsample-254',\n",
       "              OrderedDict([('input_shape', [-1, 256, 16, 16]),\n",
       "                           ('output_shape', [-1, 256, 32, 32]),\n",
       "                           ('nb_params', 0)])),\n",
       "             ('ConvTranspose2d-255',\n",
       "              OrderedDict([('input_shape', [-1, 256, 32, 32]),\n",
       "                           ('output_shape', [-1, 256, 64, 64]),\n",
       "                           ('trainable', True),\n",
       "                           ('nb_params', tensor(2.6240e+05))])),\n",
       "             ('BatchNorm2d-256',\n",
       "              OrderedDict([('input_shape', [-1, 256, 64, 64]),\n",
       "                           ('output_shape', [-1, 256, 64, 64]),\n",
       "                           ('trainable', True),\n",
       "                           ('nb_params', tensor(512))])),\n",
       "             ('StdUpsample-257',\n",
       "              OrderedDict([('input_shape', [-1, 256, 32, 32]),\n",
       "                           ('output_shape', [-1, 256, 64, 64]),\n",
       "                           ('nb_params', 0)])),\n",
       "             ('ConvTranspose2d-258',\n",
       "              OrderedDict([('input_shape', [-1, 256, 64, 64]),\n",
       "                           ('output_shape', [-1, 1, 128, 128]),\n",
       "                           ('trainable', True),\n",
       "                           ('nb_params', tensor(1025))]))])"
      ]
     },
     "execution_count": null,
     "metadata": {},
     "output_type": "execute_result"
    }
   ],
   "source": [
    "learn.summary()"
   ]
  },
  {
   "cell_type": "code",
   "execution_count": null,
   "metadata": {},
   "outputs": [],
   "source": [
    "learn.freeze_to(1)"
   ]
  },
  {
   "cell_type": "code",
   "execution_count": null,
   "metadata": {},
   "outputs": [
    {
     "data": {
      "application/vnd.jupyter.widget-view+json": {
       "model_id": "e4667e9fa899453da7cbf0a0524fb426",
       "version_major": 2,
       "version_minor": 0
      },
      "text/html": [
       "<p>Failed to display Jupyter Widget of type <code>HBox</code>.</p>\n",
       "<p>\n",
       "  If you're reading this message in the Jupyter Notebook or JupyterLab Notebook, it may mean\n",
       "  that the widgets JavaScript is still loading. If this message persists, it\n",
       "  likely means that the widgets JavaScript library is either not installed or\n",
       "  not enabled. See the <a href=\"https://ipywidgets.readthedocs.io/en/stable/user_install.html\">Jupyter\n",
       "  Widgets Documentation</a> for setup instructions.\n",
       "</p>\n",
       "<p>\n",
       "  If you're reading this message in another frontend (for example, a static\n",
       "  rendering on GitHub or <a href=\"https://nbviewer.jupyter.org/\">NBViewer</a>),\n",
       "  it may mean that your frontend doesn't currently support widgets.\n",
       "</p>\n"
      ],
      "text/plain": [
       "HBox(children=(IntProgress(value=0, description='Epoch', max=1), HTML(value='')))"
      ]
     },
     "metadata": {},
     "output_type": "display_data"
    },
    {
     "name": "stdout",
     "output_type": "stream",
     "text": [
      " 86%|█████████████████████████████████████████████████████████████          | 55/64 [00:22<00:03,  2.46it/s, loss=3.21]"
     ]
    },
    {
     "data": {
      "image/png": "[encoded data removed]",
      "text/plain": [
       "<Figure size 432x288 with 1 Axes>"
      ]
     },
     "metadata": {},
     "output_type": "display_data"
    }
   ],
   "source": [
    "learn.lr_find()\n",
    "learn.sched.plot()"
   ]
  },
  {
   "cell_type": "code",
   "execution_count": null,
   "metadata": {},
   "outputs": [],
   "source": [
    "lr=4e-2\n",
    "wd=1e-7\n",
    "lrs = np.array([lr/100,lr/10,lr])/2"
   ]
  },
  {
   "cell_type": "code",
   "execution_count": null,
   "metadata": {},
   "outputs": [
    {
     "data": {
      "application/vnd.jupyter.widget-view+json": {
       "model_id": "0dfb71a3eb494433bd0f58647124a177",
       "version_major": 2,
       "version_minor": 0
      },
      "text/plain": [
       "HBox(children=(IntProgress(value=0, description='Epoch', max=4), HTML(value='')))"
      ]
     },
     "metadata": {},
     "output_type": "display_data"
    },
    {
     "name": "stdout",
     "output_type": "stream",
     "text": [
      "  0%|          | 0/64 [00:00<?, ?it/s]\n",
      "epoch      trn_loss   val_loss   <lambda>   dice           \n",
      "    0      0.216882   0.133512   0.938017   0.855221  \n",
      "    1      0.169544   0.115158   0.946518   0.878381       \n",
      "    2      0.153114   0.099104   0.957748   0.903353       \n",
      "    3      0.144105   0.093337   0.964404   0.915084       \n",
      "\n"
     ]
    },
    {
     "data": {
      "text/plain": [
       "[0.09333742126112893, 0.9644036065964472, 0.9150839788573129]"
      ]
     },
     "execution_count": null,
     "metadata": {},
     "output_type": "execute_result"
    }
   ],
   "source": [
    "learn.fit(lr,1, wds=wd, cycle_len=4,use_clr=(20,8))"
   ]
  },
  {
   "cell_type": "code",
   "execution_count": null,
   "metadata": {},
   "outputs": [],
   "source": [
    "learn.save('tmp')"
   ]
  },
  {
   "cell_type": "code",
   "execution_count": null,
   "metadata": {},
   "outputs": [],
   "source": [
    "learn.load('tmp')"
   ]
  },
  {
   "cell_type": "code",
   "execution_count": null,
   "metadata": {},
   "outputs": [],
   "source": [
    "learn.unfreeze()\n",
    "learn.bn_freeze(True)"
   ]
  },
  {
   "cell_type": "code",
   "execution_count": null,
   "metadata": {},
   "outputs": [
    {
     "data": {
      "application/vnd.jupyter.widget-view+json": {
       "model_id": "f8176783850a4cf48c3ba20494fac24e",
       "version_major": 2,
       "version_minor": 0
      },
      "text/plain": [
       "HBox(children=(IntProgress(value=0, description='Epoch', max=4), HTML(value='')))"
      ]
     },
     "metadata": {},
     "output_type": "display_data"
    },
    {
     "name": "stdout",
     "output_type": "stream",
     "text": [
      "epoch      trn_loss   val_loss   <lambda>   dice           \n",
      "    0      0.174897   0.061603   0.976321   0.94382   \n",
      "    1      0.122911   0.053625   0.982206   0.957624       \n",
      "    2      0.106837   0.046653   0.985577   0.965792       \n",
      "    3      0.099075   0.042291   0.986519   0.968925        \n",
      "\n"
     ]
    },
    {
     "data": {
      "text/plain": [
       "[0.042291240323157536, 0.986519161670927, 0.9689251193924556]"
      ]
     },
     "execution_count": null,
     "metadata": {},
     "output_type": "execute_result"
    }
   ],
   "source": [
    "learn.fit(lrs,1,cycle_len=4,use_clr=(20,8))"
   ]
  },
  {
   "cell_type": "code",
   "execution_count": null,
   "metadata": {},
   "outputs": [],
   "source": [
    "learn.save('128')"
   ]
  },
  {
   "cell_type": "code",
   "execution_count": null,
   "metadata": {},
   "outputs": [],
   "source": [
    "x,y = next(iter(md.val_dl))\n",
    "py = to_np(learn.model(V(x)))"
   ]
  },
  {
   "cell_type": "code",
   "execution_count": null,
   "metadata": {},
   "outputs": [
    {
     "data": {
      "image/png": "[encoded data removed]",
      "text/plain": [
       "<Figure size 432x288 with 1 Axes>"
      ]
     },
     "metadata": {},
     "output_type": "display_data"
    }
   ],
   "source": [
    "show_img(py[0]>0);"
   ]
  },
  {
   "cell_type": "code",
   "execution_count": null,
   "metadata": {},
   "outputs": [
    {
     "data": {
      "image/png": "[encoded data removed]",
      "text/plain": [
       "<Figure size 432x288 with 1 Axes>"
      ]
     },
     "metadata": {},
     "output_type": "display_data"
    }
   ],
   "source": [
    "show_img(y[0]);"
   ]
  },
  {
   "cell_type": "markdown",
   "metadata": {},
   "source": [
    "## U-net (ish)"
   ]
  },
  {
   "cell_type": "code",
   "execution_count": null,
   "metadata": {},
   "outputs": [],
   "source": [
    "class SaveFeatures():\n",
    "    features=None\n",
    "    def __init__(self, m): self.hook = m.register_forward_hook(self.hook_fn)\n",
    "    def hook_fn(self, module, input, output): self.features = output\n",
    "    def remove(self): self.hook.remove()"
   ]
  },
  {
   "cell_type": "code",
   "execution_count": null,
   "metadata": {},
   "outputs": [],
   "source": [
    "class UnetBlock(nn.Module):\n",
    "    def __init__(self, up_in, x_in, n_out):\n",
    "        super().__init__()\n",
    "        up_out = x_out = n_out//2\n",
    "        self.x_conv  = nn.Conv2d(x_in,  x_out,  1)\n",
    "        self.tr_conv = nn.ConvTranspose2d(up_in, up_out, 2, stride=2)\n",
    "        self.bn = nn.BatchNorm2d(n_out)\n",
    "        \n",
    "    def forward(self, up_p, x_p):\n",
    "        up_p = self.tr_conv(up_p)\n",
    "        x_p = self.x_conv(x_p)\n",
    "        cat_p = torch.cat([up_p,x_p], dim=1)\n",
    "        return self.bn(F.relu(cat_p))"
   ]
  },
  {
   "cell_type": "code",
   "execution_count": null,
   "metadata": {},
   "outputs": [],
   "source": [
    "class Unet34(nn.Module):\n",
    "    def __init__(self, rn):\n",
    "        super().__init__()\n",
    "        self.rn = rn\n",
    "        self.sfs = [SaveFeatures(rn[i]) for i in [2,4,5,6]]\n",
    "        self.up1 = UnetBlock(512,256,256)\n",
    "        self.up2 = UnetBlock(256,128,256)\n",
    "        self.up3 = UnetBlock(256,64,256)\n",
    "        self.up4 = UnetBlock(256,64,256)\n",
    "        self.up5 = UnetBlock(256,3,16)\n",
    "        self.up6 = nn.ConvTranspose2d(16, 1, 1)\n",
    "        \n",
    "    def forward(self,x):\n",
    "        inp = x\n",
    "        x = F.relu(self.rn(x))\n",
    "        x = self.up1(x, self.sfs[3].features)\n",
    "        x = self.up2(x, self.sfs[2].features)\n",
    "        x = self.up3(x, self.sfs[1].features)\n",
    "        x = self.up4(x, self.sfs[0].features)\n",
    "        x = self.up5(x, inp)\n",
    "        x = self.up6(x)\n",
    "        return x[:,0]\n",
    "    \n",
    "    def close(self):\n",
    "        for sf in self.sfs: sf.remove()"
   ]
  },
  {
   "cell_type": "code",
   "execution_count": null,
   "metadata": {},
   "outputs": [],
   "source": [
    "class UnetModel():\n",
    "    def __init__(self,model,name='unet'):\n",
    "        self.model,self.name = model,name\n",
    "\n",
    "    def get_layer_groups(self, precompute):\n",
    "        lgs = list(split_by_idxs(children(self.model.rn), [lr_cut]))\n",
    "        return lgs + [children(self.model)[1:]]"
   ]
  },
  {
   "cell_type": "code",
   "execution_count": null,
   "metadata": {},
   "outputs": [],
   "source": [
    "m_base = get_base()"
   ]
  },
  {
   "cell_type": "code",
   "execution_count": null,
   "metadata": {},
   "outputs": [],
   "source": [
    "m = to_gpu(Unet34(m_base))\n",
    "models = UnetModel(m)"
   ]
  },
  {
   "cell_type": "code",
   "execution_count": null,
   "metadata": {},
   "outputs": [],
   "source": [
    "learn = ConvLearner(md, models)\n",
    "learn.opt_fn=optim.Adam\n",
    "learn.crit=nn.BCEWithLogitsLoss()\n",
    "learn.metrics=[accuracy_thresh(0.5),dice]"
   ]
  },
  {
   "cell_type": "code",
   "execution_count": null,
   "metadata": {},
   "outputs": [
    {
     "data": {
      "text/plain": [
       "[torch.Size([3, 64, 64, 64]),\n",
       " torch.Size([3, 64, 32, 32]),\n",
       " torch.Size([3, 128, 16, 16]),\n",
       " torch.Size([3, 256, 8, 8])]"
      ]
     },
     "execution_count": null,
     "metadata": {},
     "output_type": "execute_result"
    }
   ],
   "source": [
    "[o.features.size() for o in m.sfs]"
   ]
  },
  {
   "cell_type": "code",
   "execution_count": null,
   "metadata": {},
   "outputs": [],
   "source": [
    "learn.freeze_to(1)"
   ]
  },
  {
   "cell_type": "code",
   "execution_count": null,
   "metadata": {},
   "outputs": [
    {
     "data": {
      "application/vnd.jupyter.widget-view+json": {
       "model_id": "e780adff2688489c9489dd8e03f9bb51",
       "version_major": 2,
       "version_minor": 0
      },
      "text/plain": [
       "HBox(children=(IntProgress(value=0, description='Epoch', max=1), HTML(value='')))"
      ]
     },
     "metadata": {},
     "output_type": "display_data"
    },
    {
     "name": "stdout",
     "output_type": "stream",
     "text": [
      "  9%|▉         | 6/64 [00:05<00:50,  1.14it/s, loss=0.669]\n",
      " 91%|█████████ | 58/64 [00:13<00:01,  4.39it/s, loss=1.57] "
     ]
    },
    {
     "data": {
      "image/png": "[encoded data removed]",
      "text/plain": [
       "<Figure size 432x288 with 1 Axes>"
      ]
     },
     "metadata": {},
     "output_type": "display_data"
    }
   ],
   "source": [
    "learn.lr_find()\n",
    "learn.sched.plot()"
   ]
  },
  {
   "cell_type": "code",
   "execution_count": null,
   "metadata": {},
   "outputs": [],
   "source": [
    "lr=4e-2\n",
    "wd=1e-7\n",
    "\n",
    "lrs = np.array([lr/200,lr/20,lr])/2"
   ]
  },
  {
   "cell_type": "code",
   "execution_count": null,
   "metadata": {},
   "outputs": [
    {
     "data": {
      "application/vnd.jupyter.widget-view+json": {
       "model_id": "36115a7f3cf8435bb659daed3ae54a6c",
       "version_major": 2,
       "version_minor": 0
      },
      "text/plain": [
       "HBox(children=(IntProgress(value=0, description='Epoch', max=8), HTML(value='')))"
      ]
     },
     "metadata": {},
     "output_type": "display_data"
    },
    {
     "name": "stdout",
     "output_type": "stream",
     "text": [
      "epoch      trn_loss   val_loss   <lambda>   dice           \n",
      "    0      0.142851   0.038569   0.988547   0.971717  \n",
      "    1      0.101173   0.03713    0.988605   0.975992       \n",
      "    2      0.08908    0.039838   0.986759   0.972326        \n",
      "    3      0.081489   0.029241   0.992063   0.979739        \n",
      "    4      0.079016   0.028968   0.991646   0.97719         \n",
      "    5      0.076655   0.023804   0.992451   0.982042        \n",
      "    6      0.07636    0.024756   0.992738   0.983401        \n",
      "    7      0.07495    0.028137   0.993225   0.983095        \n",
      "\n"
     ]
    },
    {
     "data": {
      "text/plain": [
       "[0.028136500290461948, 0.993224613250248, 0.9830952419175042]"
      ]
     },
     "execution_count": null,
     "metadata": {},
     "output_type": "execute_result"
    }
   ],
   "source": [
    "learn.fit(lr,1,wds=wd,cycle_len=8,use_clr=(5,8))"
   ]
  },
  {
   "cell_type": "code",
   "execution_count": null,
   "metadata": {},
   "outputs": [],
   "source": [
    "learn.save('128urn-tmp')"
   ]
  },
  {
   "cell_type": "code",
   "execution_count": null,
   "metadata": {},
   "outputs": [],
   "source": [
    "learn.load('128urn-tmp')"
   ]
  },
  {
   "cell_type": "code",
   "execution_count": null,
   "metadata": {},
   "outputs": [],
   "source": [
    "learn.unfreeze()\n",
    "learn.bn_freeze(True)"
   ]
  },
  {
   "cell_type": "code",
   "execution_count": null,
   "metadata": {},
   "outputs": [
    {
     "data": {
      "application/vnd.jupyter.widget-view+json": {
       "model_id": "55d3f172690042b3a9e2d04bbc9fe760",
       "version_major": 2,
       "version_minor": 0
      },
      "text/plain": [
       "HBox(children=(IntProgress(value=0, description='Epoch', max=10), HTML(value='')))"
      ]
     },
     "metadata": {},
     "output_type": "display_data"
    },
    {
     "name": "stdout",
     "output_type": "stream",
     "text": [
      "epoch      trn_loss   val_loss   <lambda>   dice            \n",
      "    0      0.074118   0.020005   0.993274   0.983666  \n",
      "    1      0.073695   0.021194   0.993121   0.984339        \n",
      "    2      0.073121   0.024444   0.993327   0.984351        \n",
      "    3      0.071765   0.021549   0.993588   0.984733        \n",
      "    4      0.072239   0.019336   0.993528   0.985078        \n",
      "    5      0.071364   0.01934    0.993351   0.985128        \n",
      "    6      0.071399   0.018902   0.993654   0.985341        \n",
      "    7      0.071632   0.020567   0.993527   0.985378        \n",
      "    8      0.070797   0.019375   0.993866   0.985641        \n",
      "    9      0.070172   0.019292   0.993802   0.985716        \n",
      "\n"
     ]
    },
    {
     "data": {
      "text/plain": [
       "[0.019291689264632407, 0.9938022683537195, 0.9857159994897389]"
      ]
     },
     "execution_count": null,
     "metadata": {},
     "output_type": "execute_result"
    }
   ],
   "source": [
    "learn.fit(lrs/2, 1, wds=wd, cycle_len=10,use_clr=(20,10))"
   ]
  },
  {
   "cell_type": "code",
   "execution_count": null,
   "metadata": {},
   "outputs": [],
   "source": [
    "learn.save('128urn-0')"
   ]
  },
  {
   "cell_type": "code",
   "execution_count": null,
   "metadata": {},
   "outputs": [],
   "source": [
    "learn.load('128urn-0')"
   ]
  },
  {
   "cell_type": "code",
   "execution_count": null,
   "metadata": {},
   "outputs": [],
   "source": [
    "x,y = next(iter(md.val_dl))\n",
    "py = to_np(learn.model(V(x)))"
   ]
  },
  {
   "cell_type": "code",
   "execution_count": null,
   "metadata": {},
   "outputs": [
    {
     "data": {
      "image/png": "[encoded data removed]",
      "text/plain": [
       "<Figure size 432x288 with 1 Axes>"
      ]
     },
     "metadata": {},
     "output_type": "display_data"
    }
   ],
   "source": [
    "show_img(py[0]>0);"
   ]
  },
  {
   "cell_type": "code",
   "execution_count": null,
   "metadata": {},
   "outputs": [
    {
     "data": {
      "image/png": "[encoded data removed]",
      "text/plain": [
       "<Figure size 432x288 with 1 Axes>"
      ]
     },
     "metadata": {},
     "output_type": "display_data"
    }
   ],
   "source": [
    "show_img(y[0]);"
   ]
  },
  {
   "cell_type": "code",
   "execution_count": null,
   "metadata": {},
   "outputs": [],
   "source": [
    "m.close()"
   ]
  },
  {
   "cell_type": "markdown",
   "metadata": {},
   "source": [
    "## 512x512"
   ]
  },
  {
   "cell_type": "code",
   "execution_count": null,
   "metadata": {},
   "outputs": [],
   "source": [
    "TRAIN_DN = 'train'\n",
    "MASKS_DN = 'train_masks_png'"
   ]
  },
  {
   "cell_type": "code",
   "execution_count": null,
   "metadata": {},
   "outputs": [],
   "source": [
    "sz=512\n",
    "bs=8"
   ]
  },
  {
   "cell_type": "code",
   "execution_count": null,
   "metadata": {},
   "outputs": [],
   "source": [
    "x_names = np.array([Path(TRAIN_DN)/o for o in masks_csv['img']])\n",
    "y_names = np.array([Path(MASKS_DN)/f'{o[:-4]}_mask.png' for o in masks_csv['img']])"
   ]
  },
  {
   "cell_type": "code",
   "execution_count": null,
   "metadata": {},
   "outputs": [],
   "source": [
    "val_idxs = list(range(1008))\n",
    "((val_x,trn_x),(val_y,trn_y)) = split_by_idx(val_idxs, x_names, y_names)"
   ]
  },
  {
   "cell_type": "code",
   "execution_count": null,
   "metadata": {},
   "outputs": [],
   "source": [
    "tfms = tfms_from_model(resnet34, sz, crop_type=CropType.NO, tfm_y=TfmType.CLASS, aug_tfms=aug_tfms)\n",
    "datasets = ImageData.get_ds(MatchedFilesDataset, (trn_x,trn_y), (val_x,val_y), tfms, path=PATH)\n",
    "md = ImageData(PATH, datasets, bs, num_workers=16, classes=None)\n",
    "denorm = md.trn_ds.denorm"
   ]
  },
  {
   "cell_type": "code",
   "execution_count": null,
   "metadata": {},
   "outputs": [],
   "source": [
    "lr=2e-2\n",
    "wd=1e-7\n",
    "\n",
    "lrs = np.array([lr/200,lr/20,lr])/2"
   ]
  },
  {
   "cell_type": "code",
   "execution_count": null,
   "metadata": {},
   "outputs": [],
   "source": [
    "m_base = get_base()\n",
    "m = to_gpu(Unet34(m_base))\n",
    "models = UnetModel(m)"
   ]
  },
  {
   "cell_type": "code",
   "execution_count": null,
   "metadata": {},
   "outputs": [],
   "source": [
    "learn = ConvLearner(md, models)\n",
    "learn.opt_fn=optim.Adam\n",
    "learn.crit=nn.BCEWithLogitsLoss()\n",
    "learn.metrics=[accuracy_thresh(0.5),dice]"
   ]
  },
  {
   "cell_type": "code",
   "execution_count": null,
   "metadata": {},
   "outputs": [],
   "source": [
    "learn.freeze_to(1)"
   ]
  },
  {
   "cell_type": "code",
   "execution_count": null,
   "metadata": {},
   "outputs": [],
   "source": [
    "learn.load('128urn-0')"
   ]
  },
  {
   "cell_type": "code",
   "execution_count": null,
   "metadata": {},
   "outputs": [
    {
     "data": {
      "application/vnd.jupyter.widget-view+json": {
       "model_id": "4578d3f60dcc4d2cafd7c62582ab19f3",
       "version_major": 2,
       "version_minor": 0
      },
      "text/plain": [
       "HBox(children=(IntProgress(value=0, description='Epoch', max=5), HTML(value='')))"
      ]
     },
     "metadata": {},
     "output_type": "display_data"
    },
    {
     "name": "stdout",
     "output_type": "stream",
     "text": [
      "epoch      trn_loss   val_loss   <lambda>   dice              \n",
      "    0      0.072306   0.024262   0.995649   0.990836  \n",
      "    1      0.070101   0.018257   0.996652   0.992687          \n",
      "    2      0.068719   0.013143   0.996877   0.992726          \n",
      "    3      0.067462   0.01673    0.997156   0.993161          \n",
      "    4      0.069176   0.010519   0.997248   0.993573          \n",
      "\n"
     ]
    },
    {
     "data": {
      "text/plain": [
       "[0.010519474116523587, 0.9972476694318984, 0.9935726703159393]"
      ]
     },
     "execution_count": null,
     "metadata": {},
     "output_type": "execute_result"
    }
   ],
   "source": [
    "learn.fit(lr,1,wds=wd, cycle_len=5,use_clr=(5,5))"
   ]
  },
  {
   "cell_type": "code",
   "execution_count": null,
   "metadata": {},
   "outputs": [],
   "source": [
    "learn.save('512urn-tmp')"
   ]
  },
  {
   "cell_type": "code",
   "execution_count": null,
   "metadata": {},
   "outputs": [],
   "source": [
    "learn.unfreeze()\n",
    "learn.bn_freeze(True)"
   ]
  },
  {
   "cell_type": "code",
   "execution_count": null,
   "metadata": {},
   "outputs": [],
   "source": [
    "learn.load('512urn-tmp')"
   ]
  },
  {
   "cell_type": "code",
   "execution_count": null,
   "metadata": {},
   "outputs": [
    {
     "data": {
      "application/vnd.jupyter.widget-view+json": {
       "model_id": "8d12dfb5b6fd499092869025343e105e",
       "version_major": 2,
       "version_minor": 0
      },
      "text/plain": [
       "HBox(children=(IntProgress(value=0, description='Epoch', max=8), HTML(value='')))"
      ]
     },
     "metadata": {},
     "output_type": "display_data"
    },
    {
     "name": "stdout",
     "output_type": "stream",
     "text": [
      "epoch      trn_loss   val_loss   <lambda>   dice              \n",
      "    0      0.066793   0.009628   0.997183   0.993656  \n",
      "    1      0.064545   0.010879   0.997386   0.993893          \n",
      "    2      0.06125    0.010519   0.997421   0.994018          \n",
      "    3      0.06288    0.01147    0.997403   0.99407           \n",
      "    4      0.064336   0.008862   0.997411   0.994132          \n",
      "    5      0.063767   0.009989   0.997463   0.994194          \n",
      "    6      0.063922   0.009927   0.997504   0.994277          \n",
      "    7      0.06392    0.008977   0.997514   0.994242          \n",
      "\n"
     ]
    },
    {
     "data": {
      "text/plain": [
       "[0.00897712022110465, 0.9975136726621597, 0.9942418502436744]"
      ]
     },
     "execution_count": null,
     "metadata": {},
     "output_type": "execute_result"
    }
   ],
   "source": [
    "learn.fit(lrs/2,1,wds=wd, cycle_len=8,use_clr=(20,8))"
   ]
  },
  {
   "cell_type": "code",
   "execution_count": null,
   "metadata": {},
   "outputs": [
    {
     "data": {
      "application/vnd.jupyter.widget-view+json": {
       "model_id": "8768382fe1fe4b8e94e6647899e20575",
       "version_major": 2,
       "version_minor": 0
      },
      "text/plain": [
       "HBox(children=(IntProgress(value=0, description='Epoch', max=8), HTML(value='')))"
      ]
     },
     "metadata": {},
     "output_type": "display_data"
    },
    {
     "name": "stdout",
     "output_type": "stream",
     "text": [
      "epoch      trn_loss   val_loss   <lambda>   dice              \n",
      "    0      0.06605    0.013602   0.997      0.993014  \n",
      "    1      0.066885   0.011252   0.997248   0.993563          \n",
      "    2      0.065796   0.009802   0.997223   0.993817          \n",
      "    3      0.065089   0.009668   0.997296   0.993744          \n",
      "    4      0.064552   0.011683   0.997269   0.993835          \n",
      "    5      0.065089   0.010553   0.997415   0.993827          \n",
      "    6      0.064303   0.009472   0.997431   0.994046          \n",
      "    7      0.062506   0.009623   0.997441   0.994118          \n",
      "\n"
     ]
    },
    {
     "data": {
      "text/plain": [
       "[0.009623114736602894, 0.9974409020136273, 0.9941179137381296]"
      ]
     },
     "execution_count": null,
     "metadata": {},
     "output_type": "execute_result"
    }
   ],
   "source": [
    "learn.fit(lrs/2,1,wds=wd, cycle_len=8,use_clr=(20,8))"
   ]
  },
  {
   "cell_type": "code",
   "execution_count": null,
   "metadata": {},
   "outputs": [],
   "source": [
    "learn.save('512urn')"
   ]
  },
  {
   "cell_type": "code",
   "execution_count": null,
   "metadata": {},
   "outputs": [],
   "source": [
    "learn.load('512urn')"
   ]
  },
  {
   "cell_type": "code",
   "execution_count": null,
   "metadata": {},
   "outputs": [],
   "source": [
    "x,y = next(iter(md.val_dl))\n",
    "py = to_np(learn.model(V(x)))"
   ]
  },
  {
   "cell_type": "code",
   "execution_count": null,
   "metadata": {},
   "outputs": [
    {
     "data": {
      "image/png": "[encoded data removed]",
      "text/plain": [
       "<Figure size 432x288 with 1 Axes>"
      ]
     },
     "metadata": {},
     "output_type": "display_data"
    }
   ],
   "source": [
    "show_img(py[0]>0);"
   ]
  },
  {
   "cell_type": "code",
   "execution_count": null,
   "metadata": {},
   "outputs": [
    {
     "data": {
      "image/png": "[encoded data removed]",
      "text/plain": [
       "<Figure size 432x288 with 1 Axes>"
      ]
     },
     "metadata": {},
     "output_type": "display_data"
    }
   ],
   "source": [
    "show_img(y[0]);"
   ]
  },
  {
   "cell_type": "code",
   "execution_count": null,
   "metadata": {},
   "outputs": [],
   "source": [
    "m.close()"
   ]
  },
  {
   "cell_type": "markdown",
   "metadata": {},
   "source": [
    "## 1024x1024"
   ]
  },
  {
   "cell_type": "code",
   "execution_count": null,
   "metadata": {},
   "outputs": [],
   "source": [
    "sz=1024\n",
    "bs=4"
   ]
  },
  {
   "cell_type": "code",
   "execution_count": null,
   "metadata": {},
   "outputs": [],
   "source": [
    "tfms = tfms_from_model(resnet34, sz, crop_type=CropType.NO, tfm_y=TfmType.CLASS)\n",
    "datasets = ImageData.get_ds(MatchedFilesDataset, (trn_x,trn_y), (val_x,val_y), tfms, path=PATH)\n",
    "md = ImageData(PATH, datasets, bs, num_workers=16, classes=None)\n",
    "denorm = md.trn_ds.denorm"
   ]
  },
  {
   "cell_type": "code",
   "execution_count": null,
   "metadata": {},
   "outputs": [],
   "source": [
    "m_base = get_base()\n",
    "m = to_gpu(Unet34(m_base))\n",
    "models = UnetModel(m)"
   ]
  },
  {
   "cell_type": "code",
   "execution_count": null,
   "metadata": {},
   "outputs": [],
   "source": [
    "learn = ConvLearner(md, models)\n",
    "learn.opt_fn=optim.Adam\n",
    "learn.crit=nn.BCEWithLogitsLoss()\n",
    "learn.metrics=[accuracy_thresh(0.5),dice]"
   ]
  },
  {
   "cell_type": "code",
   "execution_count": null,
   "metadata": {},
   "outputs": [],
   "source": [
    "learn.load('512urn')"
   ]
  },
  {
   "cell_type": "code",
   "execution_count": null,
   "metadata": {},
   "outputs": [],
   "source": [
    "learn.freeze_to(1)"
   ]
  },
  {
   "cell_type": "code",
   "execution_count": null,
   "metadata": {},
   "outputs": [
    {
     "data": {
      "application/vnd.jupyter.widget-view+json": {
       "model_id": "a864769b63b7438fa112cf68e2835a0e",
       "version_major": 2,
       "version_minor": 0
      },
      "text/plain": [
       "HBox(children=(IntProgress(value=0, description='Epoch', max=2), HTML(value='')))"
      ]
     },
     "metadata": {},
     "output_type": "display_data"
    },
    {
     "name": "stdout",
     "output_type": "stream",
     "text": [
      "epoch      trn_loss   val_loss   <lambda>   dice                 \n",
      "    0      0.007656   0.008155   0.997247   0.99353   \n",
      "    1      0.004706   0.00509    0.998039   0.995437             \n",
      "\n"
     ]
    },
    {
     "data": {
      "text/plain": [
       "[0.005090427414942828, 0.9980387706605215, 0.995437301104031]"
      ]
     },
     "execution_count": null,
     "metadata": {},
     "output_type": "execute_result"
    }
   ],
   "source": [
    "learn.fit(lr,1, wds=wd, cycle_len=2,use_clr=(5,4))"
   ]
  },
  {
   "cell_type": "code",
   "execution_count": null,
   "metadata": {},
   "outputs": [],
   "source": [
    "learn.save('1024urn-tmp')"
   ]
  },
  {
   "cell_type": "code",
   "execution_count": null,
   "metadata": {},
   "outputs": [],
   "source": [
    "learn.load('1024urn-tmp')"
   ]
  },
  {
   "cell_type": "code",
   "execution_count": null,
   "metadata": {},
   "outputs": [],
   "source": [
    "learn.unfreeze()\n",
    "learn.bn_freeze(True)"
   ]
  },
  {
   "cell_type": "code",
   "execution_count": null,
   "metadata": {},
   "outputs": [],
   "source": [
    "lrs = np.array([lr/200,lr/30,lr])"
   ]
  },
  {
   "cell_type": "code",
   "execution_count": null,
   "metadata": {},
   "outputs": [
    {
     "data": {
      "application/vnd.jupyter.widget-view+json": {
       "model_id": "",
       "version_major": 2,
       "version_minor": 0
      },
      "text/plain": [
       "HBox(children=(IntProgress(value=0, description='Epoch', max=4), HTML(value='')))"
      ]
     },
     "metadata": {},
     "output_type": "display_data"
    },
    {
     "name": "stdout",
     "output_type": "stream",
     "text": [
      "epoch      trn_loss   val_loss   <lambda>   dice                 \n",
      "    0      0.005688   0.006135   0.997616   0.994616  \n",
      "    1      0.004412   0.005223   0.997983   0.995349             \n",
      "    2      0.004186   0.004975   0.99806    0.99554              \n",
      "    3      0.004016   0.004899   0.99812    0.995627             \n",
      "\n"
     ]
    },
    {
     "data": {
      "text/plain": [
       "[0.004898778487196458, 0.9981196409180051, 0.9956271404784823]"
      ]
     },
     "execution_count": null,
     "metadata": {},
     "output_type": "execute_result"
    }
   ],
   "source": [
    "learn.fit(lrs/10,1, wds=wd,cycle_len=4,use_clr=(20,8))"
   ]
  },
  {
   "cell_type": "code",
   "execution_count": null,
   "metadata": {},
   "outputs": [
    {
     "data": {
      "application/vnd.jupyter.widget-view+json": {
       "model_id": "6ba1a0b69230449da669623edfd3f6c1",
       "version_major": 2,
       "version_minor": 0
      },
      "text/plain": [
       "HBox(children=(IntProgress(value=0, description='Epoch', max=4), HTML(value='')))"
      ]
     },
     "metadata": {},
     "output_type": "display_data"
    },
    {
     "name": "stdout",
     "output_type": "stream",
     "text": [
      "epoch      trn_loss   val_loss   <lambda>   dice                 \n",
      "    0      0.004169   0.004962   0.998049   0.995517  \n",
      "    1      0.004022   0.004595   0.99823    0.995818             \n",
      "    2      0.003772   0.004497   0.998215   0.995916             \n",
      "    3      0.003618   0.004435   0.998291   0.995991             \n",
      "\n"
     ]
    },
    {
     "data": {
      "text/plain": [
       "[0.004434524739663753, 0.9982911745707194, 0.9959913929776539]"
      ]
     },
     "execution_count": null,
     "metadata": {},
     "output_type": "execute_result"
    }
   ],
   "source": [
    "learn.fit(lrs/10,1, wds=wd,cycle_len=4,use_clr=(20,8))"
   ]
  },
  {
   "cell_type": "code",
   "execution_count": null,
   "metadata": {},
   "outputs": [
    {
     "data": {
      "image/png": "[encoded data removed]",
      "text/plain": [
       "<Figure size 432x288 with 1 Axes>"
      ]
     },
     "metadata": {},
     "output_type": "display_data"
    }
   ],
   "source": [
    "learn.sched.plot_loss()"
   ]
  },
  {
   "cell_type": "code",
   "execution_count": null,
   "metadata": {},
   "outputs": [],
   "source": [
    "learn.save('1024urn')"
   ]
  },
  {
   "cell_type": "code",
   "execution_count": null,
   "metadata": {},
   "outputs": [],
   "source": [
    "learn.load('1024urn')"
   ]
  },
  {
   "cell_type": "code",
   "execution_count": null,
   "metadata": {},
   "outputs": [],
   "source": [
    "x,y = next(iter(md.val_dl))\n",
    "py = to_np(learn.model(V(x)))"
   ]
  },
  {
   "cell_type": "code",
   "execution_count": null,
   "metadata": {},
   "outputs": [
    {
     "data": {
      "image/png": "[encoded data removed]",
      "text/plain": [
       "<Figure size 432x288 with 1 Axes>"
      ]
     },
     "metadata": {},
     "output_type": "display_data"
    }
   ],
   "source": [
    "show_img(py[0]>0);"
   ]
  },
  {
   "cell_type": "code",
   "execution_count": null,
   "metadata": {},
   "outputs": [
    {
     "data": {
      "image/png": "[encoded data removed]",
      "text/plain": [
       "<Figure size 432x288 with 1 Axes>"
      ]
     },
     "metadata": {},
     "output_type": "display_data"
    }
   ],
   "source": [
    "show_img(y[0]);"
   ]
  },
  {
   "cell_type": "code",
   "execution_count": null,
   "metadata": {},
   "outputs": [],
   "source": []
  }
 ],
 "metadata": {
  "kernelspec": {
   "display_name": "Python 3",
   "language": "python",
   "name": "python3"
  }
 },
 "nbformat": 4,
 "nbformat_minor": 2
}

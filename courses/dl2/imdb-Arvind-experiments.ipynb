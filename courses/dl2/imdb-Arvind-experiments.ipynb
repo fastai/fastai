{
 "cells": [
  {
   "cell_type": "markdown",
   "metadata": {},
   "source": [
    "## IMDb"
   ]
  },
  {
   "cell_type": "markdown",
   "metadata": {},
   "source": [
    "Fast.ai has introduced a new module called fastai.text which replaces the torchtext library. Torchtext was used in our dl1 2018 course. The fastai.text module also supersedes the fastai.nlp library but retains many of the functions.\n",
    "\n",
    "We also import HTML so that we can unescape HTML tags in data during tokenization"
   ]
  },
  {
   "cell_type": "code",
   "execution_count": 2,
   "metadata": {},
   "outputs": [],
   "source": [
    "from fastai.text import *\n",
    "import html"
   ]
  },
  {
   "cell_type": "markdown",
   "metadata": {},
   "source": [
    "The BOS and FLD are custom tokens to be inserted into the text data during tokenization.\n",
    "BOS is beginning of stream, which means one stream(block of text like a movie review) has ended and another begun\n",
    "FLD is used if the text data has many fields. In the case of IMDB, we have only one text field, the review itself. So this new token might not have a lot of value, but we still insert it anyway.\n",
    "\n",
    "There are more tokens introduced like t_up which is inserted into the text data in front of fully UP-CASE words (could mean shouting or emphasis). This saves us the information loss with lower() or also not having to learn 2 tokens for the same word - i.e. the lower and upper case versions. t_up tells the model that the following word was originally UP-CASED but i've downcased it for you. * more details below in the tokenizer section *\n",
    "\n",
    "You also need to download IMDB large movie reviews from this site: http://ai.stanford.edu/~amaas/data/sentiment/\n",
    "Direct link : [Link](http://ai.stanford.edu/~amaas/data/sentiment/aclImdb_v1.tar.gz) and untar it into the PATH location. Path is pathlib which makes directory traveral a breeze."
   ]
  },
  {
   "cell_type": "code",
   "execution_count": 4,
   "metadata": {},
   "outputs": [],
   "source": [
    "BOS = 'xbos'  # beginning-of-sentence tag\n",
    "FLD = 'xfld'  # data field tag\n",
    "\n",
    "PATH=Path('data/aclImdb/')"
   ]
  },
  {
   "cell_type": "markdown",
   "metadata": {},
   "source": [
    "## Standardize format"
   ]
  },
  {
   "cell_type": "markdown",
   "metadata": {},
   "source": [
    "We create 2 paths:\n",
    "\n",
    "**CLAS** is for the classifier model and data & \n",
    "**LM** is for the language model and data"
   ]
  },
  {
   "cell_type": "code",
   "execution_count": 5,
   "metadata": {},
   "outputs": [],
   "source": [
    "CLAS_PATH=Path('data/imdb_clas/')\n",
    "CLAS_PATH.mkdir(exist_ok=True)\n",
    "\n",
    "LM_PATH=Path('data/imdb_lm/')\n",
    "LM_PATH.mkdir(exist_ok=True)"
   ]
  },
  {
   "cell_type": "markdown",
   "metadata": {},
   "source": [
    "The imdb dataset has 3 classes. positive, negative and unsupervised(sentiment is unknown). The README file in the imdb corpus directory explains how the data is laid out. \n",
    "\n",
    "The get_texts fn is used to read the step into the directory for each class(p,n,u) and read all the files and store them as entries in an array called texts. We also create another array called labels and fill it up with 0 for pos, 1 for neg and 2 for unsup reviews."
   ]
  },
  {
   "cell_type": "code",
   "execution_count": 7,
   "metadata": {},
   "outputs": [],
   "source": [
    "CLASSES = ['neg', 'pos', 'unsup']\n",
    "\n",
    "def get_texts(path):\n",
    "    texts,labels = [],[]\n",
    "    for idx,label in enumerate(CLASSES):\n",
    "        for fname in (path/label).glob('*.*'):\n",
    "            texts.append(fname.open('r').read())\n",
    "            labels.append(idx)\n",
    "    return np.array(texts),np.array(labels)"
   ]
  },
  {
   "cell_type": "markdown",
   "metadata": {},
   "source": [
    "We use get_texts fn to read all the training reviews and test reviews"
   ]
  },
  {
   "cell_type": "code",
   "execution_count": 8,
   "metadata": {},
   "outputs": [],
   "source": [
    "trn_texts,trn_labels = get_texts(PATH/'train')\n",
    "val_texts,val_labels = get_texts(PATH/'test')"
   ]
  },
  {
   "cell_type": "markdown",
   "metadata": {},
   "source": [
    "There are 75k training reviews(12.5k pos, 12.5k neg, 50k unsup)\n",
    "\n",
    "There are 25k training reviews(12.5k pos, 12.5k neg & no unsup)"
   ]
  },
  {
   "cell_type": "code",
   "execution_count": 11,
   "metadata": {},
   "outputs": [
    {
     "data": {
      "text/plain": [
       "(75000, 25000)"
      ]
     },
     "execution_count": 11,
     "metadata": {},
     "output_type": "execute_result"
    }
   ],
   "source": [
    "len(trn_texts),len(val_texts)"
   ]
  },
  {
   "cell_type": "code",
   "execution_count": 12,
   "metadata": {},
   "outputs": [],
   "source": [
    "col_names = ['labels','text'] # setup column names because pandas dataframe will ask for it"
   ]
  },
  {
   "cell_type": "markdown",
   "metadata": {},
   "source": [
    "Use a random permutation np array to shuffle the text reviews."
   ]
  },
  {
   "cell_type": "code",
   "execution_count": 15,
   "metadata": {},
   "outputs": [],
   "source": [
    "np.random.seed(42) # the random seed ensures that the next 2 random permutations result in the same order.\n",
    "trn_idx = np.random.permutation(len(trn_texts)) # Create an array of numbers for randomly shuffling training review texts\n",
    "val_idx = np.random.permutation(len(val_texts)) # Create an array of numbers for randomly shuffling test review texts"
   ]
  },
  {
   "cell_type": "code",
   "execution_count": 21,
   "metadata": {},
   "outputs": [
    {
     "name": "stdout",
     "output_type": "stream",
     "text": [
      "[26837  2592 18359 73292 60127 71737 26473  1040 32622 44679 17262 65288  9908 70558  5897 46462  2679 30356\n",
      " 36732 48199] \n",
      " [23481 13606 13639  1170  6803 18371 12360 13547 13215 21187  6251 23086  4688 15580 11756  2906 20742  2455\n",
      "  1454 17650]\n"
     ]
    }
   ],
   "source": [
    "print (trn_idx[:20],'\\n', val_idx[:20]) # see first 20 indices"
   ]
  },
  {
   "cell_type": "markdown",
   "metadata": {},
   "source": [
    "You can pass the whole random array as an index to the texts and store the shuffled text in an array."
   ]
  },
  {
   "cell_type": "code",
   "execution_count": 22,
   "metadata": {},
   "outputs": [],
   "source": [
    "trn_texts = trn_texts[trn_idx] #use trn index\n",
    "val_texts = val_texts[val_idx] # ditto for val texts\n",
    "\n",
    "trn_labels = trn_labels[trn_idx] # use same trn idx to get labels shuffled in same order\n",
    "val_labels = val_labels[val_idx] # ditto for val labels"
   ]
  },
  {
   "cell_type": "markdown",
   "metadata": {},
   "source": [
    "All the training and text files/labels should be shuffled now and ready to get loaded into a pandas DF."
   ]
  },
  {
   "cell_type": "code",
   "execution_count": 26,
   "metadata": {},
   "outputs": [
    {
     "data": {
      "text/plain": [
       "(75000, 75000, 25000, 25000)"
      ]
     },
     "execution_count": 26,
     "metadata": {},
     "output_type": "execute_result"
    }
   ],
   "source": [
    "len(trn_texts),len(trn_labels),len(val_texts),len(val_labels) #75k 75k 25k 25k"
   ]
  },
  {
   "cell_type": "markdown",
   "metadata": {},
   "source": [
    "The pandas dataframe is used to store text data in a newly evolving standard format of label followed by text columns. This was influenced by a paper by Yann LeCun. Fastai adopts this new format. In the case of IMDB, there is only one text column."
   ]
  },
  {
   "cell_type": "code",
   "execution_count": 29,
   "metadata": {},
   "outputs": [
    {
     "data": {
      "text/html": [
       "<div>\n",
       "<style scoped>\n",
       "    .dataframe tbody tr th:only-of-type {\n",
       "        vertical-align: middle;\n",
       "    }\n",
       "\n",
       "    .dataframe tbody tr th {\n",
       "        vertical-align: top;\n",
       "    }\n",
       "\n",
       "    .dataframe thead th {\n",
       "        text-align: right;\n",
       "    }\n",
       "</style>\n",
       "<table border=\"1\" class=\"dataframe\">\n",
       "  <thead>\n",
       "    <tr style=\"text-align: right;\">\n",
       "      <th></th>\n",
       "      <th>labels</th>\n",
       "      <th>text</th>\n",
       "    </tr>\n",
       "  </thead>\n",
       "  <tbody>\n",
       "    <tr>\n",
       "      <th>0</th>\n",
       "      <td>0</td>\n",
       "      <td>Dr Steven Segal saves the world from a deadly ...</td>\n",
       "    </tr>\n",
       "    <tr>\n",
       "      <th>1</th>\n",
       "      <td>1</td>\n",
       "      <td>Cleopatra 2525 is a very funny, entertaining s...</td>\n",
       "    </tr>\n",
       "    <tr>\n",
       "      <th>2</th>\n",
       "      <td>1</td>\n",
       "      <td>I was recently at a sleepover birthday party w...</td>\n",
       "    </tr>\n",
       "    <tr>\n",
       "      <th>3</th>\n",
       "      <td>0</td>\n",
       "      <td>Why? Why? Why on earth no one tells the truth ...</td>\n",
       "    </tr>\n",
       "    <tr>\n",
       "      <th>4</th>\n",
       "      <td>0</td>\n",
       "      <td>Unlike most reviewers here, I hated this movie...</td>\n",
       "    </tr>\n",
       "  </tbody>\n",
       "</table>\n",
       "</div>"
      ],
      "text/plain": [
       "   labels                                               text\n",
       "0       0  Dr Steven Segal saves the world from a deadly ...\n",
       "1       1  Cleopatra 2525 is a very funny, entertaining s...\n",
       "2       1  I was recently at a sleepover birthday party w...\n",
       "3       0  Why? Why? Why on earth no one tells the truth ...\n",
       "4       0  Unlike most reviewers here, I hated this movie..."
      ]
     },
     "execution_count": 29,
     "metadata": {},
     "output_type": "execute_result"
    }
   ],
   "source": [
    "df_trn = pd.DataFrame({'text':trn_texts, 'labels':trn_labels}, columns=col_names)\n",
    "df_val = pd.DataFrame({'text':val_texts, 'labels':val_labels}, columns=col_names)\n",
    "df_val.head()"
   ]
  },
  {
   "cell_type": "markdown",
   "metadata": {},
   "source": [
    "Save the dataframe as CSV files in the CLAS path. Since CLAS is for the classifier data, we discard the unsup training reviews. So in CLAS_PATH/'train.csv' you will see only 1(pos) and 0(neg) reviews. The CSV mirrors the DF structure.\n",
    "\n",
    "All 3 classes are stored in a classes.txt file."
   ]
  },
  {
   "cell_type": "code",
   "execution_count": 30,
   "metadata": {},
   "outputs": [],
   "source": [
    "df_trn[df_trn['labels']!=2].to_csv(CLAS_PATH/'train.csv', header=False, index=False)\n",
    "df_val.to_csv(CLAS_PATH/'test.csv', header=False, index=False)\n",
    "\n",
    "(CLAS_PATH/'classes.txt').open('w').writelines(f'{o}\\n' for o in CLASSES)"
   ]
  },
  {
   "cell_type": "markdown",
   "metadata": {},
   "source": [
    "Now that the Classifier data is stored, we will not need it for a while. We need to get a good language model for IMDB first.\n",
    "\n",
    "Let's start by creating the data for the Language Model(LM). The LM's goal is to learn the structure of the english language. It learns language by trying to predict the next word given a set of previous words(ngrams). We really don't need to classify reviews as pos, neg etc. and labels can be ignored because we are not classifying anything in the LM.\n",
    "(*The labels are only used in the classifier model we will see later in this notebook.*)\n",
    "\n",
    "The LM can benefit from all the textual data and there is no need to exclude the unsup/unclassified movie reviews.\n",
    "\n",
    "We first concat all the train(pos/neg/unsup = **75k**) and test(pos/neg=**25k**) reviews into a big chunk of **100k** reviews. And then we use sklearn splitter to divide up the 100k texts into 90% training and 10% validation sets. *Again, the goal of the LM is to learn english by trying to predict words*"
   ]
  },
  {
   "cell_type": "code",
   "execution_count": 31,
   "metadata": {},
   "outputs": [],
   "source": [
    "trn_texts,val_texts = sklearn.model_selection.train_test_split(\n",
    "    np.concatenate([trn_texts,val_texts]), test_size=0.1)"
   ]
  },
  {
   "cell_type": "code",
   "execution_count": 34,
   "metadata": {},
   "outputs": [
    {
     "data": {
      "text/plain": [
       "(90000, 10000)"
      ]
     },
     "execution_count": 34,
     "metadata": {},
     "output_type": "execute_result"
    }
   ],
   "source": [
    "len(trn_texts), len(val_texts) # 90k to train and 10k to predict prose"
   ]
  },
  {
   "cell_type": "code",
   "execution_count": 36,
   "metadata": {},
   "outputs": [
    {
     "data": {
      "text/plain": [
       "'I really like the show and the virile \"manliness\" and cool humor exhibited by Darren Gavin. I\\'m sorry he has passed on. Some feminists might find the humor demeaning, but we have to remember it was mid-60s. My only criticism is that it was mainly filmed in Hollywood except for a very few exterior shots of New York. It is very Californiaish, particularly in some outdoors shots which are definitely not New York countryside. That\\'s a failing if you really want authenticity about a New York detective, particularly when you compare it to \"Naked City\" which was filmed on the streets of the city. Luckily some of the episodes are now on DVD. (I wish there would be more of these classic series on TV.)'"
      ]
     },
     "execution_count": 36,
     "metadata": {},
     "output_type": "execute_result"
    }
   ],
   "source": [
    "trn_texts[0] # print first moview review from the training set"
   ]
  },
  {
   "cell_type": "markdown",
   "metadata": {},
   "source": [
    "Since we now have a standard format of textual data, we need to store the reviews again in train.csv(90k) and test.csv(10k) in the LM path. This is just like the CLAS path files we stored earlier. We put labels first and then the text columns. Since we don't have labels in the LM case, we just put 0s in the label column."
   ]
  },
  {
   "cell_type": "code",
   "execution_count": 39,
   "metadata": {},
   "outputs": [
    {
     "data": {
      "text/html": [
       "<div>\n",
       "<style scoped>\n",
       "    .dataframe tbody tr th:only-of-type {\n",
       "        vertical-align: middle;\n",
       "    }\n",
       "\n",
       "    .dataframe tbody tr th {\n",
       "        vertical-align: top;\n",
       "    }\n",
       "\n",
       "    .dataframe thead th {\n",
       "        text-align: right;\n",
       "    }\n",
       "</style>\n",
       "<table border=\"1\" class=\"dataframe\">\n",
       "  <thead>\n",
       "    <tr style=\"text-align: right;\">\n",
       "      <th></th>\n",
       "      <th>labels</th>\n",
       "      <th>text</th>\n",
       "    </tr>\n",
       "  </thead>\n",
       "  <tbody>\n",
       "    <tr>\n",
       "      <th>0</th>\n",
       "      <td>0</td>\n",
       "      <td>I really like the show and the virile \"manline...</td>\n",
       "    </tr>\n",
       "    <tr>\n",
       "      <th>1</th>\n",
       "      <td>0</td>\n",
       "      <td>Michael Pitt can't act PLEASE make him stop tr...</td>\n",
       "    </tr>\n",
       "    <tr>\n",
       "      <th>2</th>\n",
       "      <td>0</td>\n",
       "      <td>Misty Ayers had a smoking body, and that's all...</td>\n",
       "    </tr>\n",
       "    <tr>\n",
       "      <th>3</th>\n",
       "      <td>0</td>\n",
       "      <td>Which do you think the average person would kn...</td>\n",
       "    </tr>\n",
       "    <tr>\n",
       "      <th>4</th>\n",
       "      <td>0</td>\n",
       "      <td>This ground breaking movie, much like the grou...</td>\n",
       "    </tr>\n",
       "  </tbody>\n",
       "</table>\n",
       "</div>"
      ],
      "text/plain": [
       "   labels                                               text\n",
       "0       0  I really like the show and the virile \"manline...\n",
       "1       0  Michael Pitt can't act PLEASE make him stop tr...\n",
       "2       0  Misty Ayers had a smoking body, and that's all...\n",
       "3       0  Which do you think the average person would kn...\n",
       "4       0  This ground breaking movie, much like the grou..."
      ]
     },
     "execution_count": 39,
     "metadata": {},
     "output_type": "execute_result"
    }
   ],
   "source": [
    "df_trn = pd.DataFrame({'text':trn_texts, 'labels':[0]*len(trn_texts)}, columns=col_names)\n",
    "df_val = pd.DataFrame({'text':val_texts, 'labels':[0]*len(val_texts)}, columns=col_names)\n",
    "\n",
    "df_trn.to_csv(LM_PATH/'train.csv', header=False, index=False) #save LM train.csv\n",
    "df_val.to_csv(LM_PATH/'test.csv', header=False, index=False) #save LM test.csv\n",
    "\n",
    "df_trn.head() # print few rows from the pandas dataframe - labels are just 0."
   ]
  },
  {
   "cell_type": "markdown",
   "metadata": {},
   "source": [
    "## Language model tokens"
   ]
  },
  {
   "cell_type": "markdown",
   "metadata": {},
   "source": [
    "The previous section was all about storing the textual data into LM and CLAS paths in a standard format we have adopted at fastai. In this section, we will start cleaning up the messy text. There are 2 main activities we need to perform:\n",
    "\n",
    "1. Clean up extra spaces, tab chars, new ln chars and other characters and replace them with standard ones\n",
    "2. Use the awesome [spacy](http://spacy.io) library to tokenize the data. Since spacy does not provide a parallel/multicore version of the tokenizer, the fastai library adds this functionality. This parallel version uses all the cores of your CPUs and runs much faster than the serial version of the spacy tokenizer.\n",
    "\n",
    "Tokenization is the process of splitting the text into separate tokens so that each token can be assigned a unique index. This means we can convert the text into pure numbers our models can use. *the indexes are integers but our models like to use real numbers - we will see how to convert these indexes to real numbers later.*\n",
    "\n",
    "A big issue with the tokenization process is that it is memory intensive - we use a chunksize of 24k to process the data in chunks."
   ]
  },
  {
   "cell_type": "code",
   "execution_count": 52,
   "metadata": {},
   "outputs": [],
   "source": [
    "chunksize=24000"
   ]
  },
  {
   "cell_type": "markdown",
   "metadata": {},
   "source": [
    "The fixup fn standardizes text and unescapes HTML tags. The get_texts fn uses the parallel tokenizer and creates the tokens in tok."
   ]
  },
  {
   "cell_type": "code",
   "execution_count": 41,
   "metadata": {},
   "outputs": [],
   "source": [
    "re1 = re.compile(r'  +')\n",
    "\n",
    "def fixup(x):\n",
    "    x = x.replace('#39;', \"'\").replace('amp;', '&').replace('#146;', \"'\").replace(\n",
    "        'nbsp;', ' ').replace('#36;', '$').replace('\\\\n', \"\\n\").replace('quot;', \"'\").replace(\n",
    "        '<br />', \"\\n\").replace('\\\\\"', '\"').replace('<unk>','u_n').replace(' @.@ ','.').replace(\n",
    "        ' @-@ ','-').replace('\\\\', ' \\\\ ')\n",
    "    return re1.sub(' ', html.unescape(x))"
   ]
  },
  {
   "cell_type": "code",
   "execution_count": 42,
   "metadata": {},
   "outputs": [],
   "source": [
    "def get_texts(df, n_lbls=1):\n",
    "    labels = df.iloc[:,range(n_lbls)].values.astype(np.int64)\n",
    "    texts = f'\\n{BOS} {FLD} 1 ' + df[n_lbls].astype(str)\n",
    "    for i in range(n_lbls+1, len(df.columns)): texts += f' {FLD} {i-n_lbls} ' + df[i].astype(str)\n",
    "    texts = texts.apply(fixup).values.astype(str)\n",
    "\n",
    "    tok = Tokenizer().proc_all_mp(partition_by_cores(texts))\n",
    "    return tok, list(labels)"
   ]
  },
  {
   "cell_type": "code",
   "execution_count": 43,
   "metadata": {},
   "outputs": [],
   "source": [
    "def get_all(df, n_lbls):\n",
    "    tok, labels = [], []\n",
    "    for i, r in enumerate(df):\n",
    "        print(i) # print out the loop number for each chunk of DF processed. chunksize is set above.\n",
    "        tok_, labels_ = get_texts(r, n_lbls)\n",
    "        tok += tok_;\n",
    "        labels += labels_\n",
    "    return tok, labels"
   ]
  },
  {
   "cell_type": "code",
   "execution_count": 54,
   "metadata": {},
   "outputs": [],
   "source": [
    "df_trn = pd.read_csv(LM_PATH/'train.csv', header=None, chunksize=chunksize)\n",
    "df_val = pd.read_csv(LM_PATH/'test.csv', header=None, chunksize=chunksize)"
   ]
  },
  {
   "cell_type": "code",
   "execution_count": 55,
   "metadata": {
    "scrolled": false
   },
   "outputs": [
    {
     "name": "stdout",
     "output_type": "stream",
     "text": [
      "0\n",
      "1\n",
      "2\n",
      "3\n",
      "0\n"
     ]
    }
   ],
   "source": [
    "#Since we have 24k chunks you should see the loop run for each 24k chunk.\n",
    "#chunksize=100000 # Do this if you have enough RAM.\n",
    "tok_trn, trn_labels = get_all(df_trn, 1) # 4 loops (0,1,2,3) for 90k of training data\n",
    "tok_val, val_labels = get_all(df_val, 1) # 1 loop (0) for 10k of training data"
   ]
  },
  {
   "cell_type": "markdown",
   "metadata": {},
   "source": [
    "Make a temporary directory and store all the tokenized data as numpy arrays that can be loaded up in the future."
   ]
  },
  {
   "cell_type": "code",
   "execution_count": 56,
   "metadata": {},
   "outputs": [],
   "source": [
    "(LM_PATH/'tmp').mkdir(exist_ok=True)"
   ]
  },
  {
   "cell_type": "code",
   "execution_count": 57,
   "metadata": {},
   "outputs": [],
   "source": [
    "np.save(LM_PATH/'tmp'/'tok_trn.npy', tok_trn)\n",
    "np.save(LM_PATH/'tmp'/'tok_val.npy', tok_val)"
   ]
  },
  {
   "cell_type": "code",
   "execution_count": 115,
   "metadata": {},
   "outputs": [
    {
     "name": "stdout",
     "output_type": "stream",
     "text": [
      "data/imdb_lm/test.csv  data/imdb_lm/train.csv\r\n",
      "\r\n",
      "data/imdb_lm/tmp:\r\n",
      "itos.pkl  tok_trn.npy  tok_val.npy  trn_ids.npy  val_ids.npy\r\n"
     ]
    }
   ],
   "source": [
    "#Check saved files\n",
    "!ls $LM_PATH/*"
   ]
  },
  {
   "cell_type": "code",
   "execution_count": 66,
   "metadata": {},
   "outputs": [
    {
     "data": {
      "text/plain": [
       "90000"
      ]
     },
     "execution_count": 66,
     "metadata": {},
     "output_type": "execute_result"
    }
   ],
   "source": [
    "len(tok_trn) # 90k training data text properly tokenized."
   ]
  },
  {
   "cell_type": "code",
   "execution_count": 71,
   "metadata": {},
   "outputs": [
    {
     "data": {
      "text/plain": [
       "['\\n',\n",
       " 'xbos',\n",
       " 'xfld',\n",
       " '1',\n",
       " 'costner',\n",
       " \"'s\",\n",
       " 'films',\n",
       " 'continue',\n",
       " 'without',\n",
       " 'heart']"
      ]
     },
     "execution_count": 71,
     "metadata": {},
     "output_type": "execute_result"
    }
   ],
   "source": [
    "tok_trn[100][:10] #101th review shown as tokens - only first 10 tokens are shown."
   ]
  },
  {
   "cell_type": "code",
   "execution_count": 73,
   "metadata": {},
   "outputs": [
    {
     "data": {
      "text/plain": [
       "\"\\n xbos xfld 1 costner 's films continue without heart or soul . each is an appendage to the only film he ever made . this episode is more properly judged in the genre of videos , as this film substitutes any plot or character development , and certainly any acting for bland cinematography and overdone music . discard comments regarding sexism and ignore comparisons to tombstone , i feel sorry for him and his costars , some of whom actually deliver strong , believable performances . doc holliday is always entertaining . i was particularly saddened that the writers chose to trivialize the friendship between doc and wyatt by basing it upon a few meaningful looks and friendly handshakes . showing doc save wyatt 's life would have made for better watching and historical accuracy . and may i say , i love this legend ...\""
      ]
     },
     "execution_count": 73,
     "metadata": {},
     "output_type": "execute_result"
    }
   ],
   "source": [
    "' '.join(tok_trn[100]) #101th review in training set - shown as tokenized text."
   ]
  },
  {
   "cell_type": "markdown",
   "metadata": {},
   "source": [
    "In the future, you can avoid the tokenization and cleaning process if you have stored the data in numpy files. You can simply load them up!"
   ]
  },
  {
   "cell_type": "code",
   "execution_count": 74,
   "metadata": {},
   "outputs": [],
   "source": [
    "tok_trn = np.load(LM_PATH/'tmp'/'tok_trn.npy')\n",
    "tok_val = np.load(LM_PATH/'tmp'/'tok_val.npy')"
   ]
  },
  {
   "cell_type": "markdown",
   "metadata": {},
   "source": [
    "We can use python's Counter class to get the counts for each token in our data set. This can be useful to see which tokens/words are most used. Usually in normal text like english movie reviews, you'll find the words *a,the,and,of* etc. as the most frequent tokens."
   ]
  },
  {
   "cell_type": "code",
   "execution_count": 75,
   "metadata": {
    "scrolled": true
   },
   "outputs": [
    {
     "data": {
      "text/plain": [
       "[('the', 1209774),\n",
       " ('.', 992434),\n",
       " (',', 985208),\n",
       " ('and', 587218),\n",
       " ('a', 583337),\n",
       " ('of', 524995),\n",
       " ('to', 485571),\n",
       " ('is', 393545),\n",
       " ('it', 341509),\n",
       " ('in', 337883),\n",
       " ('i', 307894),\n",
       " ('this', 270449),\n",
       " ('that', 261016),\n",
       " ('\"', 237586),\n",
       " (\"'s\", 221225),\n",
       " ('-', 187707),\n",
       " ('was', 180504),\n",
       " ('\\n\\n', 179085),\n",
       " ('as', 166306),\n",
       " ('with', 159178),\n",
       " ('for', 158681),\n",
       " ('movie', 157557),\n",
       " ('but', 150450),\n",
       " ('film', 144288),\n",
       " ('you', 124032)]"
      ]
     },
     "execution_count": 75,
     "metadata": {},
     "output_type": "execute_result"
    }
   ],
   "source": [
    "freq = Counter(p for o in tok_trn for p in o) # for each object in tok_trn, take out the pieces. And foe each piece, run a count.\n",
    "freq.most_common(25) # display in descending order of count the top 25 tokens. "
   ]
  },
  {
   "cell_type": "markdown",
   "metadata": {},
   "source": [
    "The *vocab* is the **unique set of all tokens** in our dataset. The vocab provides us a way for us to simply replace each word in our datasets with a unique integer called an index. This way we can convert textual data into numbers that our models can use. You might recall that an embedding layer is sometimes used to convert these indexes to real numbers which neural nets prefer.\n",
    "\n",
    "In a large corpus of data one might find some rare words which are only used a few times in the whole dataset. In such cases, there is no point wasting time, trying to learn meaningful patterns out of them and we can choose to discard them. Here we have set a minimum frequency of occurence to 2 times. If any token does not appear atleast twice in our full dataset, we will set it to a token called \\_unk\\_\n",
    "\n",
    "It has been observed by NLP practicioners that a maximum vocab of 60k usually yields good results for classification tasks. So we set maz_vocab to 60000."
   ]
  },
  {
   "cell_type": "code",
   "execution_count": 76,
   "metadata": {},
   "outputs": [],
   "source": [
    "max_vocab = 60000\n",
    "min_freq = 2"
   ]
  },
  {
   "cell_type": "markdown",
   "metadata": {},
   "source": [
    "We create a mapping of the vocab indexes so that we can represent all of our corpus data as a big set of integers. We call this mapping itos. itos is created descending order of frequency of our corpus tokens. Since we set max_vocab to 60k, we have itos length as 60000. In addition we add a couple more tokens for unknown and pad characters."
   ]
  },
  {
   "cell_type": "code",
   "execution_count": 97,
   "metadata": {},
   "outputs": [],
   "source": [
    "itos = [o for o,c in freq.most_common(max_vocab) if c>min_freq]\n",
    "itos.insert(0, '_pad_')\n",
    "itos.insert(0, '_unk_')"
   ]
  },
  {
   "cell_type": "code",
   "execution_count": 98,
   "metadata": {},
   "outputs": [
    {
     "data": {
      "text/plain": [
       "['_unk_', '_pad_', 'the', '.', ',', 'and', 'a', 'of', 'to', 'is']"
      ]
     },
     "execution_count": 98,
     "metadata": {},
     "output_type": "execute_result"
    }
   ],
   "source": [
    "itos[:10] #here are the top 10 tokens from the itos mapping"
   ]
  },
  {
   "cell_type": "markdown",
   "metadata": {},
   "source": [
    "60k most frequent words of the corpus in descending order + \\_unk\\_ & \\_pad\\_ tokens make up our vocab of size 60002"
   ]
  },
  {
   "cell_type": "code",
   "execution_count": 99,
   "metadata": {},
   "outputs": [
    {
     "data": {
      "text/plain": [
       "60002"
      ]
     },
     "execution_count": 99,
     "metadata": {},
     "output_type": "execute_result"
    }
   ],
   "source": [
    "len(itos)"
   ]
  },
  {
   "cell_type": "markdown",
   "metadata": {},
   "source": [
    "Now that we have an itos, we can quickly create a reverse mapping called stoi which is useful to lookup the index of a given token. stoi also has the same number of elements as itos."
   ]
  },
  {
   "cell_type": "code",
   "execution_count": 101,
   "metadata": {},
   "outputs": [
    {
     "data": {
      "text/plain": [
       "60002"
      ]
     },
     "execution_count": 101,
     "metadata": {},
     "output_type": "execute_result"
    }
   ],
   "source": [
    "stoi = collections.defaultdict(lambda:0, {v:k for k,v in enumerate(itos)})\n",
    "len(itos)"
   ]
  },
  {
   "cell_type": "markdown",
   "metadata": {},
   "source": [
    "We use a high performance container called [collections.defaultdict](https://docs.python.org/2/library/collections.html#collections.defaultdict) to store our stoi mapping. It looks and feels like a typical dictionary in python, but is immune to missing values. \n",
    "\n",
    "Here are 10 elements in stoi."
   ]
  },
  {
   "cell_type": "code",
   "execution_count": 107,
   "metadata": {},
   "outputs": [
    {
     "data": {
      "text/plain": [
       "['_unk_', '_pad_', 'the', '.', ',', 'and', 'a', 'of', 'to', 'is']"
      ]
     },
     "execution_count": 107,
     "metadata": {},
     "output_type": "execute_result"
    }
   ],
   "source": [
    "list(stoi)[:10] # displaying 10 elements after casting as a list."
   ]
  },
  {
   "cell_type": "markdown",
   "metadata": {},
   "source": [
    "We now convert our 90k training and 10k test tokens into integer indexes."
   ]
  },
  {
   "cell_type": "code",
   "execution_count": 151,
   "metadata": {},
   "outputs": [
    {
     "data": {
      "text/plain": [
       "1"
      ]
     },
     "execution_count": 151,
     "metadata": {},
     "output_type": "execute_result"
    }
   ],
   "source": [
    "stoi['_pad_'] #get the index of the _pad_ token"
   ]
  },
  {
   "cell_type": "code",
   "execution_count": 150,
   "metadata": {},
   "outputs": [],
   "source": [
    "trn_lm = np.array([[stoi[o] for o in p] for p in tok_trn])\n",
    "val_lm = np.array([[stoi[o] for o in p] for p in tok_val])"
   ]
  },
  {
   "cell_type": "code",
   "execution_count": 128,
   "metadata": {},
   "outputs": [
    {
     "data": {
      "text/plain": [
       "((90000,), (10000,))"
      ]
     },
     "execution_count": 128,
     "metadata": {},
     "output_type": "execute_result"
    }
   ],
   "source": [
    "trn_lm.shape,val_lm.shape #np arrays after tokenization and indexing."
   ]
  },
  {
   "cell_type": "code",
   "execution_count": 162,
   "metadata": {},
   "outputs": [
    {
     "data": {
      "text/plain": [
       "'[40, 41, 42, 39, 12, 82, 52, 2, 140, 5, 2, 20552, 15, 36157, 15, 5, 602, 469, 13103, 46, 7364, 13699, 3, 12, 166, 771, 34, 59, 2186, 28, 3, 64, 17309, 252, 185, 2, 469, 15219, 4, 24, 89, 36, 8, 418, 10, 18, 39743, 3, 76, 80, 2840, 9, 14, 10, 18, 1430, 760, 11, 361, 565, 22, 6, 69, 189, 6246, 688, 7, 179, 786, 3, 10, 9, 69, 0, 4, 612, 11, 64, 12880, 688, 79, 33, 423, 32, 179, 786, 4424, 3, 14, 16, 6, 4198, 62, 26, 82, 203, 5754, 58, 6, 179, 786, 1210, 4, 612, 67, 26, 1723, 10, 8, 15, 1278, 515, 15, 79, 18, 760, 28, 2, 1817, 7, 2, 515, 3, 3808, 64, 7, 2, 770, 33, 165, 28, 31, 288, 3, 30, 12, 662, 53, 72, 37, 68, 7, 150, 389, 226, 28, 264, 3, 27]'"
      ]
     },
     "execution_count": 162,
     "metadata": {},
     "output_type": "execute_result"
    }
   ],
   "source": [
    "str(trn_lm[0]) #The first training movie review expressed purely as integer indexes - numericalized version."
   ]
  },
  {
   "cell_type": "code",
   "execution_count": 148,
   "metadata": {},
   "outputs": [
    {
     "data": {
      "text/plain": [
       "array(['\\n', 'xbos', 'xfld', '1', 'i', 'really', 'like', 'the', 'show', 'and', 'the', 'virile', '\"',\n",
       "       'manliness', '\"', 'and', 'cool', 'humor', 'exhibited', 'by', 'darren', 'gavin', '.', 'i', \"'m\",\n",
       "       'sorry', 'he', 'has', 'passed', 'on', '.', 'some', 'feminists', 'might', 'find', 'the', 'humor',\n",
       "       'demeaning', ',', 'but', 'we', 'have', 'to', 'remember', 'it', 'was', 'mid-60s', '.', 'my', 'only',\n",
       "       'criticism', 'is', 'that', 'it', 'was', 'mainly', 'filmed', 'in', 'hollywood', 'except', 'for', 'a',\n",
       "       'very', 'few', 'exterior', 'shots', 'of', 'new', 'york', '.', 'it', 'is', 'very', '_unk_', ',',\n",
       "       'particularly', 'in', 'some', 'outdoors', 'shots', 'which', 'are', 'definitely', 'not', 'new', 'york',\n",
       "       'countryside', '.', 'that', \"'s\", 'a', 'failing', 'if', 'you', 'really', 'want', 'authenticity',\n",
       "       'about', 'a', 'new', 'york', 'detective', ',', 'particularly', 'when', 'you', 'compare', 'it', 'to',\n",
       "       '\"', 'naked', 'city', '\"', 'which', 'was', 'filmed', 'on', 'the', 'streets', 'of', 'the', 'city', '.',\n",
       "       'luckily', 'some', 'of', 'the', 'episodes', 'are', 'now', 'on', 't_up', 'dvd', '.', '(', 'i', 'wish',\n",
       "       'there', 'would', 'be', 'more', 'of', 'these', 'classic', 'series', 'on', 'tv', '.', ')'],\n",
       "      dtype='<U34')"
      ]
     },
     "execution_count": 148,
     "metadata": {},
     "output_type": "execute_result"
    }
   ],
   "source": [
    "itos_arr = np.array(itos)\n",
    "itos_arr[trn_lm[0]] # showing the first movie review as a reverse lookup of trn_lm[0] from itos"
   ]
  },
  {
   "cell_type": "markdown",
   "metadata": {},
   "source": [
    " We now save our indexed data as numpy arrays. Saving the array can save us time in the future and we can load the datasets.\n",
    " We also save our itos mapping because we will be using it in the future for lookups."
   ]
  },
  {
   "cell_type": "code",
   "execution_count": 110,
   "metadata": {},
   "outputs": [],
   "source": [
    "np.save(LM_PATH/'tmp'/'trn_ids.npy', trn_lm)\n",
    "np.save(LM_PATH/'tmp'/'val_ids.npy', val_lm)\n",
    "pickle.dump(itos, open(LM_PATH/'tmp'/'itos.pkl', 'wb'))"
   ]
  },
  {
   "cell_type": "code",
   "execution_count": 116,
   "metadata": {},
   "outputs": [
    {
     "name": "stdout",
     "output_type": "stream",
     "text": [
      "data/imdb_lm/test.csv  data/imdb_lm/train.csv\r\n",
      "\r\n",
      "data/imdb_lm/tmp:\r\n",
      "itos.pkl  tok_trn.npy  tok_val.npy  trn_ids.npy  val_ids.npy\r\n"
     ]
    }
   ],
   "source": [
    "#Check the saved files\n",
    "!ls $LM_PATH/*"
   ]
  },
  {
   "cell_type": "markdown",
   "metadata": {},
   "source": [
    "**NOTE: For the time being, I'm sacrificing accuracy to check the LM - So, only 100 rows are used to in the lm dataset - and sent to the dataloader**"
   ]
  },
  {
   "cell_type": "code",
   "execution_count": 154,
   "metadata": {},
   "outputs": [],
   "source": [
    "#trn_lm = np.load(LM_PATH/'tmp'/'trn_ids.npy')\n",
    "#val_lm = np.load(LM_PATH/'tmp'/'val_ids.npy')\n",
    "\n",
    "#For quick notebook validation - load back only 100 training and 100 validation reviews from our LM npys.\n",
    "trn_lm = np.load(LM_PATH/'tmp'/'trn_ids.npy')[:100]\n",
    "val_lm = np.load(LM_PATH/'tmp'/'val_ids.npy')[:100]\n",
    "itos = pickle.load(open(LM_PATH/'tmp'/'itos.pkl', 'rb'))a"
   ]
  },
  {
   "cell_type": "code",
   "execution_count": 156,
   "metadata": {},
   "outputs": [
    {
     "data": {
      "text/plain": [
       "(60002, 100)"
      ]
     },
     "execution_count": 156,
     "metadata": {},
     "output_type": "execute_result"
    }
   ],
   "source": [
    "vs=len(itos) #vocab size\n",
    "vs,len(trn_lm)"
   ]
  },
  {
   "cell_type": "markdown",
   "metadata": {},
   "source": [
    "## wikitext103 conversion"
   ]
  },
  {
   "cell_type": "markdown",
   "metadata": {},
   "source": [
    "We are now going to build a language model for the IMDB corpus. We could start from scratch and try to learn the structure of the english language. But we use a technique called transfer learning to make this process easier. In transfer learning (a fairly recent idea for NLP) a pre-trained LM that has been trained on a large generic corpus(_like wikipedia articles_) can be used to transfer it's knowledge to a target LM and the weights can be fine-tuned. The source and target LMs should have data in the same  natural language(_english in our case_).\n",
    "\n",
    "Our source LM is the wikitext103 LM created by Stephen Merity @ Salesforce research. [Link to dataset](https://www.salesforce.com/products/einstein/ai-research/the-wikitext-dependency-language-modeling-dataset/)\n",
    "The language model for wikitext103 has already been created for us using the AWD LSTM model and the weights can be downloaded here: [Link](http://files.fast.ai/models/wt103/)\n",
    "\n",
    "Our target LM is the IMDB LM. "
   ]
  },
  {
   "cell_type": "code",
   "execution_count": 163,
   "metadata": {},
   "outputs": [],
   "source": [
    "# use wget to download the files from the fast.ai link\n",
    "# ! wget -nH -r -np http://files.fast.ai/models/wt103/"
   ]
  },
  {
   "cell_type": "markdown",
   "metadata": {},
   "source": [
    "The pre-trained LM weights have been created with an embedding size of 400, 1150 hidden units and just 3 layers. _The model is based on AWD LSTM seen in lesson 4 and contains lot of droput values placed strategically throughout the model._\n",
    "\n",
    "We need to match these values (emedding size, number of hidden and total layers) with the target IMDB LM so that the weights can be loaded up."
   ]
  },
  {
   "cell_type": "code",
   "execution_count": 164,
   "metadata": {},
   "outputs": [],
   "source": [
    "em_sz,nh,nl = 400,1150,3"
   ]
  },
  {
   "cell_type": "markdown",
   "metadata": {},
   "source": [
    "The downloaded pre-trained model weights are placed in a separate directory called PRE_PATH."
   ]
  },
  {
   "cell_type": "code",
   "execution_count": 166,
   "metadata": {},
   "outputs": [],
   "source": [
    "PRE_PATH = PATH/'models'/'wt103'\n",
    "PRE_LM_PATH = PRE_PATH/'fwd_wt103.h5'"
   ]
  },
  {
   "cell_type": "code",
   "execution_count": 167,
   "metadata": {},
   "outputs": [
    {
     "data": {
      "text/plain": [
       "PosixPath('data/aclImdb/models/wt103')"
      ]
     },
     "execution_count": 167,
     "metadata": {},
     "output_type": "execute_result"
    }
   ],
   "source": [
    "PRE_PATH"
   ]
  },
  {
   "cell_type": "markdown",
   "metadata": {},
   "source": [
    "We load the weights using torch.load that returns an ordered dictionary. The odict contains the number of elements matching the number of layers we have in the model."
   ]
  },
  {
   "cell_type": "code",
   "execution_count": 171,
   "metadata": {},
   "outputs": [],
   "source": [
    "wgts = torch.load(PRE_LM_PATH, map_location=lambda storage, loc: storage)"
   ]
  },
  {
   "cell_type": "code",
   "execution_count": 172,
   "metadata": {},
   "outputs": [
    {
     "data": {
      "text/plain": [
       "odict_keys(['0.encoder.weight', '0.encoder_with_dropout.embed.weight', '0.rnns.0.module.weight_ih_l0', '0.rnns.0.module.bias_ih_l0', '0.rnns.0.module.bias_hh_l0', '0.rnns.0.module.weight_hh_l0_raw', '0.rnns.1.module.weight_ih_l0', '0.rnns.1.module.bias_ih_l0', '0.rnns.1.module.bias_hh_l0', '0.rnns.1.module.weight_hh_l0_raw', '0.rnns.2.module.weight_ih_l0', '0.rnns.2.module.bias_ih_l0', '0.rnns.2.module.bias_hh_l0', '0.rnns.2.module.weight_hh_l0_raw', '1.decoder.weight'])"
      ]
     },
     "execution_count": 172,
     "metadata": {},
     "output_type": "execute_result"
    }
   ],
   "source": [
    "wgts.keys()"
   ]
  },
  {
   "cell_type": "markdown",
   "metadata": {},
   "source": [
    "As you can see, there are weights and biases for many encoder, rnn layers. We can also see weights for a decoder (_last key_). But as you'll see, we are mainly interested in the encoders - the encoders are the layers which contain the knowledge of \"english language structure\" that we want to eventually use in our classifier(_last section of this notebook_)."
   ]
  },
  {
   "cell_type": "code",
   "execution_count": 177,
   "metadata": {},
   "outputs": [],
   "source": [
    "enc_wgts = to_np(wgts['0.encoder.weight'])\n",
    "row_m = enc_wgts.mean(0) # calculate mean of encoder layer 0 weights."
   ]
  },
  {
   "cell_type": "markdown",
   "metadata": {},
   "source": [
    "We calculate the mean of the layer0 encoder weights. This can be used to assign weights to unknown tokens when we transfer to target IMDB LM."
   ]
  },
  {
   "cell_type": "code",
   "execution_count": 179,
   "metadata": {},
   "outputs": [
    {
     "data": {
      "text/plain": [
       "((400,),\n",
       " array([-0.0183 , -0.13826,  0.01438, -0.01285,  0.00407,  0.01944,  0.01149, -0.13282, -0.02295, -0.01722],\n",
       "       dtype=float32))"
      ]
     },
     "execution_count": 179,
     "metadata": {},
     "output_type": "execute_result"
    }
   ],
   "source": [
    "row_m.shape, row_m[:10] #the mean has same size as the embedding. Shown are first 10 values"
   ]
  },
  {
   "cell_type": "markdown",
   "metadata": {},
   "source": [
    "Before we try to transfer the knowledge from wikitext to IMDB model, we need to match up the vocab words and their indexes. We load the wikitext103 tokens into a list called itos2 and use it to create the stoi2 reverse mapping. \n",
    "\n",
    "We use the defaultdict container once again, that gives us the option of creating missing key values on lookup. We choose to initialize missing token lookups to -1. There shouldn't be any -1 when we start, but when we try to find IMDB words in wikitext103 stoi2, we could find some missing words. At that point, stoi2 will automatically set the values for those missing tokens to -1."
   ]
  },
  {
   "cell_type": "code",
   "execution_count": 190,
   "metadata": {},
   "outputs": [],
   "source": [
    "itos2 = pickle.load((PRE_PATH/'itos_wt103.pkl').open('rb'))\n",
    "stoi2 = collections.defaultdict(lambda:-1, {v:k for k,v in enumerate(itos2)})"
   ]
  },
  {
   "cell_type": "code",
   "execution_count": 191,
   "metadata": {},
   "outputs": [
    {
     "data": {
      "text/plain": [
       "(238462,\n",
       " ['create',\n",
       "  '1998',\n",
       "  'upper',\n",
       "  'longer',\n",
       "  'soldiers',\n",
       "  'your',\n",
       "  'jackson',\n",
       "  'done',\n",
       "  'trade',\n",
       "  'fort'])"
      ]
     },
     "execution_count": 191,
     "metadata": {},
     "output_type": "execute_result"
    }
   ],
   "source": [
    "# the wikitext103 contains 238462 tokens. \n",
    "#Here are 10 of them. 'create' seems to be the 1000th most common word in wikitext103\n",
    "len(itos2),itos2[999:1009]"
   ]
  },
  {
   "cell_type": "markdown",
   "metadata": {},
   "source": [
    "Next we start creating an embedding matrix for the target IMDB LM. The embedding matrix is of size (vocab size, embedding size) which is common between both LMs.\n",
    "\n",
    "We initialize the embedding matrix with a zeros np array and start filling it up by a cross-lookup between IMDB and wikitext103 tokens. We take a token from itos(IMDB), and do a reverse lookup in stoi2(Wikitext103). If it is found, we take the weights of that token and plug them into our embedding matrix. If we hit a missing token (that's in IMDB and not wikitext) stoi2 will automatically set it to -1. So we check for those numbers less than 0(missing tokens) and initialize them with mean weights(*row_m calculated earlier*).\n",
    "\n",
    "*The missing token embedding weights can be initialized randomly as well but the model might find it easier to tune weights from the mean point.*\n",
    "\n",
    "While the embedding layer tokens are initialized with well trained weights from wikitext, the missing token weights need to be tuned well before use."
   ]
  },
  {
   "cell_type": "code",
   "execution_count": 221,
   "metadata": {},
   "outputs": [],
   "source": [
    "new_w = np.zeros((vs, em_sz), dtype=np.float32)\n",
    "for i,w in enumerate(itos):\n",
    "    r = stoi2[w]\n",
    "    new_w[i] = enc_wgts[r] if r>=0 else row_m"
   ]
  },
  {
   "cell_type": "code",
   "execution_count": 222,
   "metadata": {},
   "outputs": [
    {
     "data": {
      "text/plain": [
       "(60002, 400)"
      ]
     },
     "execution_count": 222,
     "metadata": {},
     "output_type": "execute_result"
    }
   ],
   "source": [
    "new_w.shape # our new IMDB embedding matrix is of IMDB vocab size X emb_sz"
   ]
  },
  {
   "cell_type": "markdown",
   "metadata": {},
   "source": [
    "We now overwrite the weights into the wgts odict, by first converting np arrays to tensors. If we don't make copies of NP arrays before assignment the torch tensors will share memory space and won't train well.\n",
    "\n",
    "*The decoder module, which we will explore in detail is also loaded with the same weights due to an idea called weight tying. Weight tying is a concept of using the same set of weights for multiple parameters by having the model point to the same memoray locations where the weights are stored. This usually results is a lot less parameters to train and speeds up the process. Sometimes, it is beneficial to tie weights across layers to have more control over the activations from those layers.*"
   ]
  },
  {
   "cell_type": "code",
   "execution_count": 224,
   "metadata": {},
   "outputs": [],
   "source": [
    "wgts['0.encoder.weight'] = T(new_w)\n",
    "wgts['0.encoder_with_dropout.embed.weight'] = T(np.copy(new_w))\n",
    "wgts['1.decoder.weight'] = T(np.copy(new_w))"
   ]
  },
  {
   "cell_type": "code",
   "execution_count": 226,
   "metadata": {},
   "outputs": [
    {
     "data": {
      "text/plain": [
       "torch.Size([60002, 400])"
      ]
     },
     "execution_count": 226,
     "metadata": {},
     "output_type": "execute_result"
    }
   ],
   "source": [
    "# Check tensor size of named element weights\n",
    "wgts['1.decoder.weight'].shape"
   ]
  },
  {
   "cell_type": "markdown",
   "metadata": {},
   "source": [
    "Now that we have the weights prepared, we are ready to create and start training our new IMDB language pytorch model!"
   ]
  },
  {
   "cell_type": "markdown",
   "metadata": {},
   "source": [
    "## Language model"
   ]
  },
  {
   "cell_type": "markdown",
   "metadata": {},
   "source": [
    "It is fairly straightforward to create a new language model using the fastai library. Like every other lesson, our model will have a backbone and a custom head. The backbone in our case is the IMDB LM pre-trained with wikitext and the custom head is a linear classifier. In this section we will focus on the backbone LM and the next section will talk about the classifier custom head."
   ]
  },
  {
   "cell_type": "markdown",
   "metadata": {},
   "source": [
    "We start by initializing the following core settings for our model: \n",
    "Weight decay, back prop through time (*the approximate number of tokens we read in each batch to predict the target token*), batch size (*the number of inputs processed in each mini-batch*) and the optimizer we want to use.\n",
    "\n",
    "bptt (*also known traditionally in NLP LM as ngrams*) in fastai LMs is approximated to a std. deviation around 70, by perturbing the sequence length on a per-batch basis. This is akin to shuffling our data in computer vision, only that in NLP we cannot shuffle inputs and we have to maintain statefulness. \n",
    "\n",
    "Since we are predicting words using ngrams, we want our next batch to line up with the end-points of the previous mini-batch's items. batch-size is constant and but the fastai library expands and contracts bptt each mini-batch using a clever stochastic implementation of a batch, whose original credits are attributed to [Smerity](https://twitter.com/jeremyphoward/status/980227258395770882)!"
   ]
  },
  {
   "cell_type": "code",
   "execution_count": 228,
   "metadata": {},
   "outputs": [],
   "source": [
    "wd=1e-7 #weight decay\n",
    "bptt=70 # we mention 70 but fastai uses some approximate value around 70\n",
    "bs=100 #batch size\n",
    "opt_fn = partial(optim.Adam, betas=(0.8, 0.99)) # use adam optimizer with low betas - RNNs tend to work better with this setting"
   ]
  },
  {
   "cell_type": "markdown",
   "metadata": {},
   "source": [
    "The goal of the LM is to learn to predict a word/token given a preceeding set of words(tokens). We take all the movie reviews in both the 90k training set and 10k validation set and concatenate them to form long strings of tokens. In fastai, we use the `LanguageModelLoader` to create a data loader which makes it easy to create and use bptt sized mini batches. The  `LanguageModelLoader` takes a concatenated string of tokens and returns a loader.\n",
    "\n",
    "Then we chuck both those training and validation loaders into a model data object. We have a special class for LMs called `LanguageModelData`. Using this class, we can conveniently ask the fastai library to automatically give us the model itself."
   ]
  },
  {
   "cell_type": "code",
   "execution_count": 229,
   "metadata": {},
   "outputs": [],
   "source": [
    "trn_dl = LanguageModelLoader(np.concatenate(trn_lm), bs, bptt)\n",
    "val_dl = LanguageModelLoader(np.concatenate(val_lm), bs, bptt)\n",
    "md = LanguageModelData(PATH, 1, vs, trn_dl, val_dl, bs=bs, bptt=bptt)"
   ]
  },
  {
   "cell_type": "markdown",
   "metadata": {},
   "source": [
    "**Definition of the `LanguageModelLoader` class**: Return an iterator of bs X bptt by batchifying a train/validation or test set \n",
    "\n",
    "```python\n",
    "Init signature: LanguageModelLoader(nums, bs, bptt, backwards=False)\n",
    "Docstring:      <no docstring>\n",
    "Source:        \n",
    "class LanguageModelLoader():\n",
    "    def __init__(self, nums, bs, bptt, backwards=False):\n",
    "        self.bs,self.bptt,self.backwards = bs,bptt,backwards\n",
    "        self.data = self.batchify(nums)\n",
    "        self.i,self.iter = 0,0\n",
    "        self.n = len(self.data)\n",
    "\n",
    "    def __iter__(self):                #Iteratively returns approximately mini batch of size bs X (approx bptt)\n",
    "        self.i,self.iter = 0,0\n",
    "        while self.i < self.n-1 and self.iter<len(self):\n",
    "            bptt = self.bptt if np.random.random() < 0.95 else self.bptt / 2.\n",
    "            seq_len = max(5, int(np.random.normal(bptt, 5)))\n",
    "            res = self.get_batch(self.i, seq_len)\n",
    "            self.i += seq_len\n",
    "            self.iter += 1\n",
    "            yield res \n",
    "\n",
    "    def __len__(self): return self.n // self.bptt - 1\n",
    "\n",
    "    def batchify(self, data):         #breaks up the whole dataset into bs number of chunks\n",
    "        nb = data.shape[0] // self.bs\n",
    "        data = np.array(data[:nb*self.bs])\n",
    "        data = data.reshape(self.bs, -1).T\n",
    "        if self.backwards: data=data[::-1]\n",
    "        return T(data)\n",
    "\n",
    "    def get_batch(self, i, seq_len):\n",
    "        source = self.data\n",
    "        seq_len = min(seq_len, len(source) - 1 - i)\n",
    "        return source[i:i+seq_len], source[i+1:i+1+seq_len].view(-1)\n",
    "File:           ~/fastai2/fastai/courses/dl2/fastai/text.py\n",
    "Type:           type\n",
    "\n",
    "\n",
    "```\n",
    "\n",
    "\n"
   ]
  },
  {
   "cell_type": "markdown",
   "metadata": {},
   "source": [
    "**Definition of the `LanguageModelData` class** : Initialize core settings and retrieve model from `get_language_model` and return it as using `RNN_Learner`.\n",
    "\n",
    "The magic happens the `get_model` fn where the `get_language_model` fn is used to return a `SequentialRNN` model.\n",
    "In the SequentialRNN model, an RNN_Encoder layer is instantiated using the parameters provided. This is followed by the creation of a LinearDecoder layer. Also by default (i.e. tie_weights = True), the embedding matrix used in the RNN_Encoder is used to  instantiate the weights for the LinearDecoder layer. As a final step, the learner which gets returned is a special type called `RNN_Learner` where the loss fn is set to cross-entropy. We need this loss to make sure the LM effectively learns to predict subsequent words.\n",
    "\n",
    "    The SequentialRNN layer is the native torch's Sequential wrapper that puts the RNN_Encoder and\n",
    "    LinearDecoder layers sequentially in the model.\n",
    "```python\n",
    "Init signature: LanguageModelData(path, pad_idx, nt, trn_dl, val_dl, test_dl=None, bptt=70, backwards=False, **kwargs)\n",
    "Docstring:      <no docstring>\n",
    "Source:        \n",
    "class LanguageModelData():\n",
    "    def __init__(self, path, pad_idx, nt, trn_dl, val_dl, test_dl=None, bptt=70, backwards=False, **kwargs):\n",
    "        self.path,self.pad_idx,self.nt = path,pad_idx,nt\n",
    "        self.trn_dl,self.val_dl,self.test_dl = trn_dl,val_dl,test_dl\n",
    "\n",
    "    def get_model(self, opt_fn, emb_sz, n_hid, n_layers, **kwargs):\n",
    "        m = get_language_model(self.nt, emb_sz, n_hid, n_layers, self.pad_idx, **kwargs)\n",
    "        model = LanguageModel(to_gpu(m))\n",
    "        #return RNN_Learner(self, nn.DataParallel(model), opt_fn=opt_fn)\n",
    "        return RNN_Learner(self, model, opt_fn=opt_fn)\n",
    "File:           ~/fastai2/fastai/courses/dl2/fastai/text.py\n",
    "Type:           type\n",
    "```"
   ]
  },
  {
   "cell_type": "code",
   "execution_count": 239,
   "metadata": {},
   "outputs": [],
   "source": [
    "??RNN_Learner"
   ]
  },
  {
   "cell_type": "markdown",
   "metadata": {},
   "source": [
    "We setup the dropouts for the model - these values have been chosen after experimentation. If you need to update them for custom LMs, you can change the weighting factor (0.7 here) based on the amount of data you have. For more data, you can reduce dropout factor and for small datasets, you can reduce overfitting by choosing a higher dropout factor. *No other dropout value requires tuning*"
   ]
  },
  {
   "cell_type": "code",
   "execution_count": 236,
   "metadata": {},
   "outputs": [],
   "source": [
    "drops = np.array([0.25, 0.1, 0.2, 0.02, 0.15])*0.7 #setup dropout values and control them using a weighting factor: 0.7 here"
   ]
  },
  {
   "cell_type": "markdown",
   "metadata": {},
   "source": [
    "Now that we have a model data object for our IMDB LM, it is a straightforward process to get the model from it and name it `learner`. One of the first things to tune in the encoder(and the decoder because of default weight tying) is the last embedding layer. This is mainly done so that the missing tokens initialized with mean weights get tuned properly. So we freeze everything except the last layer."
   ]
  },
  {
   "cell_type": "code",
   "execution_count": 255,
   "metadata": {},
   "outputs": [],
   "source": [
    "learner= md.get_model(opt_fn, em_sz, nh, nl, \n",
    "    dropouti=drops[0], dropout=drops[1], wdrop=drops[2], dropoute=drops[3], dropouth=drops[4])\n",
    "\n",
    "learner.metrics = [accuracy]\n",
    "learner.freeze_to(-1) # Freeze until the last embedding layer\n",
    "#learner.unfreeze()"
   ]
  },
  {
   "cell_type": "markdown",
   "metadata": {},
   "source": [
    "As you can see, the learner is a typical pytorch module with an (0)encoder and a (1)decoder.\n",
    "\n",
    "The encoder contains the embedding layer and 3 hidden LSTM layers. The decoder is a linear layer with *vocab_size* number of tokens for predicting output probabilities of each of the tokens in the vocab."
   ]
  },
  {
   "cell_type": "code",
   "execution_count": 256,
   "metadata": {},
   "outputs": [
    {
     "data": {
      "text/plain": [
       "SequentialRNN(\n",
       "  (0): RNN_Encoder(\n",
       "    (encoder): Embedding(60002, 400, padding_idx=1)\n",
       "    (encoder_with_dropout): EmbeddingDropout(\n",
       "      (embed): Embedding(60002, 400, padding_idx=1)\n",
       "    )\n",
       "    (rnns): ModuleList(\n",
       "      (0): WeightDrop(\n",
       "        (module): LSTM(400, 1150, dropout=0.105)\n",
       "      )\n",
       "      (1): WeightDrop(\n",
       "        (module): LSTM(1150, 1150, dropout=0.105)\n",
       "      )\n",
       "      (2): WeightDrop(\n",
       "        (module): LSTM(1150, 400, dropout=0.105)\n",
       "      )\n",
       "    )\n",
       "    (dropouti): LockedDropout(\n",
       "    )\n",
       "    (dropouths): ModuleList(\n",
       "      (0): LockedDropout(\n",
       "      )\n",
       "      (1): LockedDropout(\n",
       "      )\n",
       "      (2): LockedDropout(\n",
       "      )\n",
       "    )\n",
       "  )\n",
       "  (1): LinearDecoder(\n",
       "    (decoder): Linear(in_features=400, out_features=60002, bias=False)\n",
       "    (dropout): LockedDropout(\n",
       "    )\n",
       "  )\n",
       ")"
      ]
     },
     "execution_count": 256,
     "metadata": {},
     "output_type": "execute_result"
    }
   ],
   "source": [
    "learner #Show the full model"
   ]
  },
  {
   "cell_type": "code",
   "execution_count": 257,
   "metadata": {},
   "outputs": [
    {
     "data": {
      "text/plain": [
       "OrderedDict([('0.encoder.weight', \n",
       "               0.0676 -0.0510  0.0617  ...  -0.0848  0.0321  0.0716\n",
       "               0.0672  0.0265  0.0298  ...   0.0638  0.0968 -0.0329\n",
       "              -0.0119  0.0022 -0.0030  ...   0.0645 -0.0806  0.0679\n",
       "                        ...             ⋱             ...          \n",
       "               0.0074 -0.0083  0.0296  ...   0.0371  0.0334 -0.0621\n",
       "              -0.0100  0.0115  0.0054  ...  -0.0695  0.0668 -0.0989\n",
       "               0.0970  0.0534 -0.0448  ...   0.0264 -0.0076 -0.0402\n",
       "              [torch.FloatTensor of size 60002x400]),\n",
       "             ('0.encoder_with_dropout.embed.weight', \n",
       "               0.0676 -0.0510  0.0617  ...  -0.0848  0.0321  0.0716\n",
       "               0.0672  0.0265  0.0298  ...   0.0638  0.0968 -0.0329\n",
       "              -0.0119  0.0022 -0.0030  ...   0.0645 -0.0806  0.0679\n",
       "                        ...             ⋱             ...          \n",
       "               0.0074 -0.0083  0.0296  ...   0.0371  0.0334 -0.0621\n",
       "              -0.0100  0.0115  0.0054  ...  -0.0695  0.0668 -0.0989\n",
       "               0.0970  0.0534 -0.0448  ...   0.0264 -0.0076 -0.0402\n",
       "              [torch.FloatTensor of size 60002x400]),\n",
       "             ('0.rnns.0.module.weight_ih_l0', \n",
       "               2.6760e-02  1.8656e-02 -2.8584e-02  ...   6.4010e-03 -2.3807e-03  6.5946e-03\n",
       "              -1.9742e-02 -1.8077e-02  1.0809e-02  ...   6.5002e-04 -1.2346e-02 -1.1271e-02\n",
       "              -1.4300e-02  9.7758e-03 -1.8166e-04  ...  -1.7179e-02  2.9470e-02  1.6653e-02\n",
       "                              ...                   ⋱                   ...                \n",
       "               8.8191e-03 -1.4824e-02 -1.3223e-02  ...   8.0783e-03 -2.2985e-02 -2.6820e-02\n",
       "              -1.4690e-02  5.0693e-03  1.4939e-02  ...  -2.4526e-02 -2.3279e-02 -1.1754e-02\n",
       "              -2.0119e-02  1.9096e-02 -2.7934e-02  ...   8.3901e-03 -6.3521e-03  2.1374e-02\n",
       "              [torch.FloatTensor of size 4600x400]),\n",
       "             ('0.rnns.0.module.bias_ih_l0', \n",
       "              1.00000e-02 *\n",
       "               -1.0154\n",
       "                0.0500\n",
       "               -1.2052\n",
       "                  ⋮   \n",
       "               -0.6798\n",
       "                1.7756\n",
       "                1.8385\n",
       "              [torch.FloatTensor of size 4600]),\n",
       "             ('0.rnns.0.module.bias_hh_l0', \n",
       "              1.00000e-02 *\n",
       "               -1.8510\n",
       "                1.8437\n",
       "               -2.8223\n",
       "                  ⋮   \n",
       "                0.8863\n",
       "               -0.6205\n",
       "               -0.6875\n",
       "              [torch.FloatTensor of size 4600]),\n",
       "             ('0.rnns.0.module.weight_hh_l0_raw', \n",
       "              -8.4351e-03 -2.7104e-02 -5.1294e-03  ...   2.4843e-02  4.5757e-04  1.5326e-02\n",
       "               2.5324e-02  2.5369e-02  1.6262e-02  ...  -2.8916e-02 -2.4430e-02 -2.1458e-02\n",
       "              -2.9231e-02 -9.3349e-04 -4.1260e-03  ...  -2.2222e-03 -2.3458e-02 -1.1135e-02\n",
       "                              ...                   ⋱                   ...                \n",
       "              -2.5735e-02  2.9360e-02 -1.7863e-02  ...   9.9484e-03 -5.1910e-03 -2.4852e-02\n",
       "              -9.0387e-03 -3.8634e-04 -2.8675e-02  ...  -1.5823e-02  2.2701e-02  6.0549e-03\n",
       "               1.9179e-02  1.2636e-02  9.2736e-04  ...  -2.3832e-02 -4.1920e-03 -9.4183e-03\n",
       "              [torch.FloatTensor of size 4600x1150]),\n",
       "             ('0.rnns.1.module.weight_ih_l0', \n",
       "               2.9340e-02  1.6505e-03 -2.7523e-02  ...   6.4218e-03 -2.8036e-02 -8.6387e-03\n",
       "               2.1036e-02  1.6515e-02 -1.0027e-02  ...   2.6036e-02 -1.4801e-02 -2.1610e-02\n",
       "              -1.1338e-02  1.7890e-02  1.5818e-02  ...  -2.6958e-02 -2.5186e-02 -1.9274e-02\n",
       "                              ...                   ⋱                   ...                \n",
       "               4.1021e-03  5.1510e-05 -2.6759e-02  ...  -2.1294e-02 -2.8819e-02 -1.1077e-02\n",
       "              -2.3736e-02 -6.3544e-03 -5.5161e-03  ...   1.9659e-02 -1.7197e-02 -1.4988e-02\n",
       "               1.0893e-02  2.3476e-02 -1.0757e-02  ...  -1.3809e-02  2.1239e-02  1.7999e-02\n",
       "              [torch.FloatTensor of size 4600x1150]),\n",
       "             ('0.rnns.1.module.bias_ih_l0', \n",
       "              1.00000e-02 *\n",
       "                0.0224\n",
       "               -0.6739\n",
       "                2.1840\n",
       "                  ⋮   \n",
       "                2.2955\n",
       "               -0.8660\n",
       "                0.9616\n",
       "              [torch.FloatTensor of size 4600]),\n",
       "             ('0.rnns.1.module.bias_hh_l0', \n",
       "              1.00000e-02 *\n",
       "                1.5333\n",
       "                0.1944\n",
       "                1.1917\n",
       "                  ⋮   \n",
       "               -1.7989\n",
       "                1.5608\n",
       "               -1.2016\n",
       "              [torch.FloatTensor of size 4600]),\n",
       "             ('0.rnns.1.module.weight_hh_l0_raw', \n",
       "              1.00000e-02 *\n",
       "               0.8967  0.2968  0.5144  ...  -1.2057 -2.1270  0.0524\n",
       "              -0.1912  0.6382  2.4874  ...   0.6097 -2.4468 -1.5746\n",
       "               0.6660 -1.7908 -1.0793  ...  -2.0224 -0.5250  1.7669\n",
       "                        ...             ⋱             ...          \n",
       "              -1.8246  2.2317  0.6559  ...   2.0754 -1.7072  0.9403\n",
       "               2.8802  2.2444 -2.9051  ...  -2.3975 -0.8228  1.2990\n",
       "              -1.5868 -1.2555  0.5250  ...  -1.4278  2.6850  1.1723\n",
       "              [torch.FloatTensor of size 4600x1150]),\n",
       "             ('0.rnns.2.module.weight_ih_l0', \n",
       "               1.4302e-03  3.5697e-02 -2.8231e-02  ...  -7.7525e-03 -2.9733e-03 -4.0140e-02\n",
       "               2.6500e-02 -2.7245e-02 -4.4374e-02  ...  -3.7141e-02  3.9958e-02 -4.2265e-02\n",
       "               5.3277e-03 -2.0050e-02 -1.6155e-02  ...  -8.2470e-03 -2.2769e-02 -1.7780e-02\n",
       "                              ...                   ⋱                   ...                \n",
       "               2.9349e-02  2.1426e-03  4.7387e-02  ...  -2.1501e-03  1.3338e-02 -2.4982e-02\n",
       "              -2.5082e-02  3.2728e-02 -3.4479e-02  ...  -3.1603e-02 -3.0674e-02 -8.6129e-03\n",
       "              -4.0703e-02  3.2792e-02  9.8799e-03  ...  -8.5211e-03  4.2555e-02 -4.7734e-02\n",
       "              [torch.FloatTensor of size 1600x1150]),\n",
       "             ('0.rnns.2.module.bias_ih_l0', \n",
       "              1.00000e-02 *\n",
       "               -3.5141\n",
       "               -3.0325\n",
       "                1.9370\n",
       "                  ⋮   \n",
       "               -2.9902\n",
       "                3.0151\n",
       "                4.8949\n",
       "              [torch.FloatTensor of size 1600]),\n",
       "             ('0.rnns.2.module.bias_hh_l0', \n",
       "              1.00000e-02 *\n",
       "               -3.6511\n",
       "               -3.7604\n",
       "                4.0547\n",
       "                  ⋮   \n",
       "               -2.9855\n",
       "               -2.7076\n",
       "               -2.8216\n",
       "              [torch.FloatTensor of size 1600]),\n",
       "             ('0.rnns.2.module.weight_hh_l0_raw', \n",
       "              -4.8149e-02  4.2305e-02 -1.4591e-02  ...   3.0080e-02 -2.3588e-02  2.1497e-02\n",
       "              -2.6269e-02  2.3875e-03 -2.3776e-02  ...   3.6061e-03 -9.6844e-03 -2.4127e-02\n",
       "               4.1638e-02 -2.0504e-02  2.6105e-02  ...  -2.3031e-02 -4.7880e-02  1.8952e-02\n",
       "                              ...                   ⋱                   ...                \n",
       "               3.0830e-02 -1.5607e-02  3.7896e-02  ...   2.0714e-02 -4.4020e-02  9.6817e-03\n",
       "              -1.8264e-02 -3.7490e-02 -1.9460e-02  ...  -3.5068e-02 -1.6359e-02  6.9477e-03\n",
       "               1.0879e-02  2.8403e-02  2.7099e-02  ...   4.8319e-02  4.3994e-02 -3.0772e-02\n",
       "              [torch.FloatTensor of size 1600x400]),\n",
       "             ('1.decoder.weight', \n",
       "               0.0676 -0.0510  0.0617  ...  -0.0848  0.0321  0.0716\n",
       "               0.0672  0.0265  0.0298  ...   0.0638  0.0968 -0.0329\n",
       "              -0.0119  0.0022 -0.0030  ...   0.0645 -0.0806  0.0679\n",
       "                        ...             ⋱             ...          \n",
       "               0.0074 -0.0083  0.0296  ...   0.0371  0.0334 -0.0621\n",
       "              -0.0100  0.0115  0.0054  ...  -0.0695  0.0668 -0.0989\n",
       "               0.0970  0.0534 -0.0448  ...   0.0264 -0.0076 -0.0402\n",
       "              [torch.FloatTensor of size 60002x400])])"
      ]
     },
     "execution_count": 257,
     "metadata": {},
     "output_type": "execute_result"
    }
   ],
   "source": [
    "learner.model.state_dict() # Let's check our model weights"
   ]
  },
  {
   "cell_type": "code",
   "execution_count": 258,
   "metadata": {},
   "outputs": [],
   "source": [
    "??learner.model.load_state_dict()"
   ]
  },
  {
   "cell_type": "markdown",
   "metadata": {},
   "source": [
    "We now copy our weights from the `wgts` state dictionary using the fastai `load_state_dict` function. It copied the parameters and buffers from `wgts` into our model's module and its descendants. The attribute`strict` is ``True`` by default and it forces the the keys of `wgts` to exactly match the keys returned by our module's `state_dict()` function."
   ]
  },
  {
   "cell_type": "code",
   "execution_count": 259,
   "metadata": {},
   "outputs": [],
   "source": [
    "learner.model.load_state_dict(wgts) # Load the weights into our learner model"
   ]
  },
  {
   "cell_type": "markdown",
   "metadata": {},
   "source": [
    "We set learning rates and fit our IMDB LM. We first run one epoch to tune the last layer which contains the embedding weights. This should help the missing tokens in the wikitext103 learn better weights."
   ]
  },
  {
   "cell_type": "code",
   "execution_count": 260,
   "metadata": {},
   "outputs": [],
   "source": [
    "lr=1e-3\n",
    "lrs = lr"
   ]
  },
  {
   "cell_type": "code",
   "execution_count": 32,
   "metadata": {},
   "outputs": [
    {
     "data": {
      "application/vnd.jupyter.widget-view+json": {
       "model_id": "f737acee03bf4f6688706a248bb4a13c",
       "version_major": 2,
       "version_minor": 0
      },
      "text/plain": [
       "HBox(children=(IntProgress(value=0, description='Epoch', max=1), HTML(value='')))"
      ]
     },
     "metadata": {},
     "output_type": "display_data"
    },
    {
     "name": "stdout",
     "output_type": "stream",
     "text": [
      "epoch      trn_loss   val_loss   accuracy               \n",
      "    0      5.602066   5.413144   0.218776  \n",
      "\n"
     ]
    },
    {
     "data": {
      "text/plain": [
       "[5.413143873214722, 0.21877604166666667]"
      ]
     },
     "execution_count": 32,
     "metadata": {},
     "output_type": "execute_result"
    }
   ],
   "source": [
    "learner.fit(lrs/2, 1, wds=wd, use_clr=(32,2), cycle_len=1)"
   ]
  },
  {
   "cell_type": "markdown",
   "metadata": {},
   "source": [
    "Note that we print out accuracy and keep track of how often we end up predicting the target word correctly. While this is a good metric to check, it is not part of our loss function as it can get quite bumpy. We only minimize cross-entropy loss in the LM.\n",
    "\n",
    "The exponent of the cross-entropy loss is called the perplexity of the LM. A low perplexity is a potential indicator of a good LM. If an LM is perplexed, it cannot speak good english."
   ]
  },
  {
   "cell_type": "code",
   "execution_count": null,
   "metadata": {},
   "outputs": [],
   "source": [
    "learner.save('lm_last_ft') # save last layer fit model"
   ]
  },
  {
   "cell_type": "code",
   "execution_count": null,
   "metadata": {},
   "outputs": [],
   "source": [
    "learner.load('lm_last_ft') # load last layer fit model in future"
   ]
  },
  {
   "cell_type": "markdown",
   "metadata": {},
   "source": [
    "We now unfreeze the model layers and get ready to fine tune some more."
   ]
  },
  {
   "cell_type": "code",
   "execution_count": null,
   "metadata": {},
   "outputs": [],
   "source": [
    "learner.unfreeze()"
   ]
  },
  {
   "cell_type": "code",
   "execution_count": 36,
   "metadata": {},
   "outputs": [
    {
     "data": {
      "application/vnd.jupyter.widget-view+json": {
       "model_id": "c75e696864e345fbb9cc95184c0f0eb6",
       "version_major": 2,
       "version_minor": 0
      },
      "text/plain": [
       "HBox(children=(IntProgress(value=0, description='Epoch', max=1), HTML(value='')))"
      ]
     },
     "metadata": {},
     "output_type": "display_data"
    },
    {
     "name": "stdout",
     "output_type": "stream",
     "text": [
      "epoch      trn_loss   val_loss   accuracy               \n",
      "    0      5.583637   6.30935    0.194163  \n",
      "\n"
     ]
    }
   ],
   "source": [
    "learner.lr_find(start_lr=lrs/10, end_lr=lrs*10, linear=True)"
   ]
  },
  {
   "cell_type": "code",
   "execution_count": null,
   "metadata": {},
   "outputs": [],
   "source": [
    "learner.sched.plot()"
   ]
  },
  {
   "cell_type": "code",
   "execution_count": 38,
   "metadata": {
    "scrolled": false
   },
   "outputs": [
    {
     "data": {
      "application/vnd.jupyter.widget-view+json": {
       "model_id": "1b4caec17fc94f289b3921e0ec6ecf0f",
       "version_major": 2,
       "version_minor": 0
      },
      "text/plain": [
       "HBox(children=(IntProgress(value=0, description='Epoch', max=15), HTML(value='')))"
      ]
     },
     "metadata": {},
     "output_type": "display_data"
    },
    {
     "name": "stdout",
     "output_type": "stream",
     "text": [
      "epoch      trn_loss   val_loss   accuracy               \n",
      "    0      5.536444   5.312485   0.223434  \n",
      "    1      5.459926   5.120803   0.230434               \n",
      "    2      5.323185   5.0591     0.229125               \n",
      "    3      5.192071   5.010774   0.23125                \n",
      "    4      5.074899   4.98609    0.231264               \n",
      "    5      4.982038   4.949386   0.238163               \n",
      "    6      4.884302   4.977661   0.23335                \n",
      "    7      4.792179   4.95419    0.239158               \n",
      "    8      4.704118   5.017949   0.231487               \n",
      "    9      4.623066   5.017501   0.229992               \n",
      "    10     4.549517   5.029907   0.231253               \n",
      "    11     4.478839   5.049689   0.229848               \n",
      "    12     4.422343   5.052155   0.229095               \n",
      "    13     4.362847   5.062611   0.230302               \n",
      "    14     4.315576   5.065027   0.229792               \n",
      "\n"
     ]
    },
    {
     "data": {
      "text/plain": [
       "[5.065026760101318, 0.22979234616220917]"
      ]
     },
     "execution_count": 38,
     "metadata": {},
     "output_type": "execute_result"
    }
   ],
   "source": [
    "learner.fit(lrs, 1, wds=wd, use_clr=(20,10), cycle_len=15)"
   ]
  },
  {
   "cell_type": "markdown",
   "metadata": {},
   "source": [
    "We save the trained model weights and separately save the encoder part of the LM model as well. This will serve as our backbone in the classification task model."
   ]
  },
  {
   "cell_type": "code",
   "execution_count": null,
   "metadata": {},
   "outputs": [],
   "source": [
    "learner.save('lm1')"
   ]
  },
  {
   "cell_type": "code",
   "execution_count": null,
   "metadata": {},
   "outputs": [],
   "source": [
    "learner.save_encoder('lm1_enc')"
   ]
  },
  {
   "cell_type": "code",
   "execution_count": 41,
   "metadata": {},
   "outputs": [
    {
     "data": {
      "image/png": "[encoded data removed]",
      "text/plain": [
       "<Figure size 432x288 with 1 Axes>"
      ]
     },
     "metadata": {},
     "output_type": "display_data"
    }
   ],
   "source": [
    "learner.sched.plot_loss()"
   ]
  },
  {
   "cell_type": "markdown",
   "metadata": {},
   "source": [
    "## Classifier tokens"
   ]
  },
  {
   "cell_type": "markdown",
   "metadata": {},
   "source": [
    "The classifier model is basically a linear layer custom head on top of the LM backbone. Before we create the classifier model and train it, we need to setup the data. \n",
    "\n",
    "Setting up the classifier data is similar to the LM data setup except that we cannot use the unsup movie reviews this time. In the LM, our goal was to learn english and the unsup reviews were used. Now, with actual pos/neg labels coming into play we discard the unsup reviews and use only the pos/neg ones.\n",
    "\n",
    "We read the original train and test CSV files we had in the `CLAS_PATH` saved and perform the same sequence of steps to get the tokens, numericalized arrays and the `itos` and `stoi` mappings."
   ]
  },
  {
   "cell_type": "code",
   "execution_count": null,
   "metadata": {},
   "outputs": [],
   "source": [
    "# Create dataframes\n",
    "df_trn = pd.read_csv(CLAS_PATH/'train.csv', header=None, chunksize=chunksize)\n",
    "df_val = pd.read_csv(CLAS_PATH/'test.csv', header=None, chunksize=chunksize)"
   ]
  },
  {
   "cell_type": "code",
   "execution_count": 43,
   "metadata": {},
   "outputs": [
    {
     "name": "stdout",
     "output_type": "stream",
     "text": [
      "0\n",
      "1\n",
      "0\n",
      "1\n"
     ]
    }
   ],
   "source": [
    "tok_trn, trn_labels = get_all(df_trn, 1)\n",
    "tok_val, val_labels = get_all(df_val, 1)"
   ]
  },
  {
   "cell_type": "code",
   "execution_count": null,
   "metadata": {},
   "outputs": [],
   "source": [
    "# Save the numericalized data as npy arrays for future quick loads\n",
    "(CLAS_PATH/'tmp').mkdir(exist_ok=True)\n",
    "\n",
    "np.save(CLAS_PATH/'tmp'/'tok_trn.npy', tok_trn)\n",
    "np.save(CLAS_PATH/'tmp'/'tok_val.npy', tok_val)\n",
    "\n",
    "np.save(CLAS_PATH/'tmp'/'trn_labels.npy', trn_labels)\n",
    "np.save(CLAS_PATH/'tmp'/'val_labels.npy', val_labels)"
   ]
  },
  {
   "cell_type": "code",
   "execution_count": 262,
   "metadata": {},
   "outputs": [],
   "source": [
    "tok_trn = np.load(CLAS_PATH/'tmp'/'tok_trn.npy')\n",
    "tok_val = np.load(CLAS_PATH/'tmp'/'tok_val.npy')"
   ]
  },
  {
   "cell_type": "code",
   "execution_count": 263,
   "metadata": {},
   "outputs": [
    {
     "data": {
      "text/plain": [
       "60002"
      ]
     },
     "execution_count": 263,
     "metadata": {},
     "output_type": "execute_result"
    }
   ],
   "source": [
    "# Create the itos mapping and stoi reverse mapping for tokens in the IMDB vocab.\n",
    "itos = pickle.load((LM_PATH/'tmp'/'itos.pkl').open('rb'))\n",
    "stoi = collections.defaultdict(lambda:0, {v:k for k,v in enumerate(itos)})\n",
    "len(itos)"
   ]
  },
  {
   "cell_type": "code",
   "execution_count": null,
   "metadata": {},
   "outputs": [],
   "source": [
    "# Get final data for classifier model\n",
    "trn_clas = np.array([[stoi[o] for o in p] for p in tok_trn])\n",
    "val_clas = np.array([[stoi[o] for o in p] for p in tok_val])"
   ]
  },
  {
   "cell_type": "code",
   "execution_count": null,
   "metadata": {},
   "outputs": [],
   "source": [
    "np.save(CLAS_PATH/'tmp'/'trn_ids.npy', trn_clas)\n",
    "np.save(CLAS_PATH/'tmp'/'val_ids.npy', val_clas)"
   ]
  },
  {
   "cell_type": "markdown",
   "metadata": {},
   "source": [
    "At this point we have training data for the classifier model in `trn_clas` and validation data in `val_clas`."
   ]
  },
  {
   "cell_type": "markdown",
   "metadata": {},
   "source": [
    "## Classifier"
   ]
  },
  {
   "cell_type": "markdown",
   "metadata": {},
   "source": [
    "Now we can create our final model, a classifier which is really a custom linear head over our trained IMDB backbone. The steps to create the classifier model are similar to the ones for the LM.\n",
    "\n",
    "We first pickup the data and labels for creating the new modeldata object."
   ]
  },
  {
   "cell_type": "code",
   "execution_count": null,
   "metadata": {},
   "outputs": [],
   "source": [
    "trn_clas = np.load(CLAS_PATH/'tmp'/'trn_ids.npy')\n",
    "val_clas = np.load(CLAS_PATH/'tmp'/'val_ids.npy')"
   ]
  },
  {
   "cell_type": "code",
   "execution_count": null,
   "metadata": {},
   "outputs": [],
   "source": [
    "trn_labels = np.squeeze(np.load(CLAS_PATH/'tmp'/'trn_labels.npy'))\n",
    "val_labels = np.squeeze(np.load(CLAS_PATH/'tmp'/'val_labels.npy'))"
   ]
  },
  {
   "cell_type": "markdown",
   "metadata": {},
   "source": [
    "You can pick a batch size that you can comfortably fit into memory while training the classifier."
   ]
  },
  {
   "cell_type": "code",
   "execution_count": null,
   "metadata": {},
   "outputs": [],
   "source": [
    "bptt,em_sz,nh,nl = 70,400,1150,3\n",
    "vs = len(itos)\n",
    "opt_fn = partial(optim.Adam, betas=(0.8, 0.99))\n",
    "bs = 48"
   ]
  },
  {
   "cell_type": "code",
   "execution_count": null,
   "metadata": {},
   "outputs": [],
   "source": [
    "min_lbl = trn_labels.min()\n",
    "trn_labels -= min_lbl\n",
    "val_labels -= min_lbl\n",
    "c=int(trn_labels.max())+1"
   ]
  },
  {
   "cell_type": "markdown",
   "metadata": {},
   "source": [
    "In the classifier, unlike LM, we need to read a movie review at a time and ;earn to predict the it's sentiment as pos/neg. We do not deal with equal bptt size batches, so we have to pad the sequences to the same length in each batch. Now, some movie reviews (like my documentation) can be quite lengthy and will result in the rest of the batch getting padded like crazy. To avoid this, a cool trick called the sortish sampler was invented by, wait for it, [@Smerity](https://twitter.com/Smerity) and [@jekbradbury](https://twitter.com/jekbradbury)\n",
    "\n",
    "The sortishSampler approximately sorts in ascending order of sequence length the movie reviews so that we create batches where similar sized reviews get bundled into mini-batches. This cuts down the overall number of padding tokens the classifier ends up seeing."
   ]
  },
  {
   "cell_type": "code",
   "execution_count": null,
   "metadata": {},
   "outputs": [],
   "source": [
    "trn_ds = TextDataset(trn_clas, trn_labels)\n",
    "val_ds = TextDataset(val_clas, val_labels)\n",
    "trn_samp = SortishSampler(trn_clas, key=lambda x: len(trn_clas[x]), bs=bs//2)\n",
    "val_samp = SortSampler(val_clas, key=lambda x: len(val_clas[x]))\n",
    "trn_dl = DataLoader(trn_ds, bs//2, transpose=True, num_workers=1, pad_idx=1, sampler=trn_samp)\n",
    "val_dl = DataLoader(val_ds, bs, transpose=True, num_workers=1, pad_idx=1, sampler=val_samp)\n",
    "md = ModelData(PATH, trn_dl, val_dl)"
   ]
  },
  {
   "cell_type": "code",
   "execution_count": null,
   "metadata": {},
   "outputs": [],
   "source": [
    "# part 1\n",
    "dps = np.array([0.4, 0.5, 0.05, 0.3, 0.1])"
   ]
  },
  {
   "cell_type": "code",
   "execution_count": null,
   "metadata": {},
   "outputs": [],
   "source": [
    "dps = np.array([0.4,0.5,0.05,0.3,0.4])*0.5"
   ]
  },
  {
   "cell_type": "code",
   "execution_count": null,
   "metadata": {},
   "outputs": [],
   "source": [
    "m = get_rnn_classifer(bptt, 20*70, c, vs, emb_sz=em_sz, n_hid=nh, n_layers=nl, pad_token=1,\n",
    "          layers=[em_sz*3, 50, c], drops=[dps[4], 0.1],\n",
    "          dropouti=dps[0], wdrop=dps[1], dropoute=dps[2], dropouth=dps[3])"
   ]
  },
  {
   "cell_type": "code",
   "execution_count": null,
   "metadata": {},
   "outputs": [],
   "source": [
    "opt_fn = partial(optim.Adam, betas=(0.7, 0.99))"
   ]
  },
  {
   "cell_type": "markdown",
   "metadata": {},
   "source": [
    "The `RNN_Learner` is the learner class with the same encoder as our LM but a pooling linear classifier as the decoder(which gets trained more, while the LM encoder is slightly trained in the end after unfreezing)."
   ]
  },
  {
   "cell_type": "code",
   "execution_count": null,
   "metadata": {},
   "outputs": [],
   "source": [
    "learn = RNN_Learner(md, TextModel(to_gpu(m)), opt_fn=opt_fn)\n",
    "learn.reg_fn = partial(seq2seq_reg, alpha=2, beta=1)\n",
    "learn.clip=25.\n",
    "learn.metrics = [accuracy]"
   ]
  },
  {
   "cell_type": "code",
   "execution_count": null,
   "metadata": {},
   "outputs": [],
   "source": [
    "lr=3e-3\n",
    "lrm = 2.6\n",
    "lrs = np.array([lr/(lrm**4), lr/(lrm**3), lr/(lrm**2), lr/lrm, lr])"
   ]
  },
  {
   "cell_type": "code",
   "execution_count": null,
   "metadata": {},
   "outputs": [],
   "source": [
    "lrs=np.array([1e-4,1e-4,1e-4,1e-3,1e-2])"
   ]
  },
  {
   "cell_type": "code",
   "execution_count": null,
   "metadata": {},
   "outputs": [],
   "source": [
    "wd = 1e-7\n",
    "wd = 0\n",
    "learn.load_encoder('lm1_enc')"
   ]
  },
  {
   "cell_type": "code",
   "execution_count": null,
   "metadata": {},
   "outputs": [],
   "source": [
    "learn.freeze_to(-1)"
   ]
  },
  {
   "cell_type": "code",
   "execution_count": 64,
   "metadata": {},
   "outputs": [
    {
     "data": {
      "application/vnd.jupyter.widget-view+json": {
       "model_id": "39e989e4c7e94c5c941716d889fce581",
       "version_major": 2,
       "version_minor": 0
      },
      "text/plain": [
       "HBox(children=(IntProgress(value=0, description='Epoch', max=1), HTML(value='')))"
      ]
     },
     "metadata": {},
     "output_type": "display_data"
    },
    {
     "name": "stdout",
     "output_type": "stream",
     "text": [
      " 79%|███████▉  | 822/1042 [1:03:47<17:04,  4.66s/it, loss=1.99] "
     ]
    },
    {
     "data": {
      "image/png": "[encoded data removed]",
      "text/plain": [
       "<Figure size 432x288 with 1 Axes>"
      ]
     },
     "metadata": {},
     "output_type": "display_data"
    }
   ],
   "source": [
    "learn.lr_find(lrs/1000)\n",
    "learn.sched.plot()"
   ]
  },
  {
   "cell_type": "code",
   "execution_count": null,
   "metadata": {},
   "outputs": [],
   "source": [
    "learn.fit(lrs, 1, wds=wd, cycle_len=1, use_clr=(8,3))"
   ]
  },
  {
   "cell_type": "code",
   "execution_count": null,
   "metadata": {},
   "outputs": [],
   "source": [
    "learn.save('clas_0')"
   ]
  },
  {
   "cell_type": "code",
   "execution_count": null,
   "metadata": {},
   "outputs": [],
   "source": [
    "learn.load('clas_0')"
   ]
  },
  {
   "cell_type": "code",
   "execution_count": null,
   "metadata": {},
   "outputs": [],
   "source": [
    "learn.freeze_to(-2)"
   ]
  },
  {
   "cell_type": "code",
   "execution_count": 69,
   "metadata": {},
   "outputs": [
    {
     "data": {
      "application/vnd.jupyter.widget-view+json": {
       "model_id": "de9b5290d74c407799efe07bbceec217",
       "version_major": 2,
       "version_minor": 0
      },
      "text/plain": [
       "HBox(children=(IntProgress(value=0, description='Epoch', max=1), HTML(value='')))"
      ]
     },
     "metadata": {},
     "output_type": "display_data"
    },
    {
     "name": "stdout",
     "output_type": "stream",
     "text": [
      "epoch      trn_loss   val_loss   accuracy                        \n",
      "    0      0.369499   0.29496    0.875496  \n",
      "\n"
     ]
    },
    {
     "data": {
      "text/plain": [
       "[0.29495994311948653, 0.8754958413307742]"
      ]
     },
     "execution_count": 69,
     "metadata": {},
     "output_type": "execute_result"
    }
   ],
   "source": [
    "learn.fit(lrs, 1, wds=wd, cycle_len=1, use_clr=(8,3))"
   ]
  },
  {
   "cell_type": "code",
   "execution_count": null,
   "metadata": {},
   "outputs": [],
   "source": [
    "learn.save('clas_1')"
   ]
  },
  {
   "cell_type": "code",
   "execution_count": null,
   "metadata": {},
   "outputs": [],
   "source": [
    "learn.load('clas_1')"
   ]
  },
  {
   "cell_type": "code",
   "execution_count": null,
   "metadata": {},
   "outputs": [],
   "source": [
    "learn.unfreeze()"
   ]
  },
  {
   "cell_type": "code",
   "execution_count": null,
   "metadata": {},
   "outputs": [
    {
     "data": {
      "application/vnd.jupyter.widget-view+json": {
       "model_id": "3de1f26cced4420e8bbe8c2cadc35f89",
       "version_major": 2,
       "version_minor": 0
      },
      "text/plain": [
       "HBox(children=(IntProgress(value=0, description='Epoch', max=14), HTML(value='')))"
      ]
     },
     "metadata": {},
     "output_type": "display_data"
    },
    {
     "name": "stdout",
     "output_type": "stream",
     "text": [
      "epoch      trn_loss   val_loss   accuracy                         \n",
      "    0      0.346185   0.244749   0.901056  \n",
      "    1      0.263001   0.214615   0.916787                         \n",
      "    2      0.244726   0.195925   0.923664                         \n",
      "    3      0.182181   0.189529   0.928399                         \n",
      " 63%|██████▎   | 661/1042 [2:11:29<1:15:47, 11.93s/it, loss=0.142]"
     ]
    },
    {
     "name": "stderr",
     "output_type": "stream",
     "text": [
      "IOPub message rate exceeded.\n",
      "The notebook server will temporarily stop sending output\n",
      "to the client in order to avoid crashing it.\n",
      "To change this limit, set the config variable\n",
      "`--NotebookApp.iopub_msg_rate_limit`.\n",
      "\n",
      "Current values:\n",
      "NotebookApp.iopub_msg_rate_limit=1000.0 (msgs/sec)\n",
      "NotebookApp.rate_limit_window=3.0 (secs)\n",
      "\n"
     ]
    }
   ],
   "source": [
    "learn.fit(lrs, 1, wds=wd, cycle_len=14, use_clr=(32,10))"
   ]
  },
  {
   "cell_type": "code",
   "execution_count": 74,
   "metadata": {},
   "outputs": [
    {
     "data": {
      "image/png": "[encoded data removed]",
      "text/plain": [
       "<Figure size 432x288 with 1 Axes>"
      ]
     },
     "metadata": {},
     "output_type": "display_data"
    }
   ],
   "source": [
    "learn.sched.plot_loss()"
   ]
  },
  {
   "cell_type": "code",
   "execution_count": null,
   "metadata": {},
   "outputs": [],
   "source": [
    "learn.save('clas_2')"
   ]
  },
  {
   "cell_type": "code",
   "execution_count": 82,
   "metadata": {},
   "outputs": [
    {
     "data": {
      "application/vnd.jupyter.widget-view+json": {
       "model_id": "e4c17f00c1e04d5bbb13f75497cf661e",
       "version_major": 2,
       "version_minor": 0
      },
      "text/plain": [
       "HBox(children=(IntProgress(value=0, description='Epoch', max=1), HTML(value='')))"
      ]
     },
     "metadata": {},
     "output_type": "display_data"
    },
    {
     "name": "stdout",
     "output_type": "stream",
     "text": [
      "1it [00:11, 11.62s/it, loss=0.091] epoch      trn_loss   val_loss   accuracy   \n",
      "    0      0.091031   0.208004   0.927303  \n",
      "\n"
     ]
    },
    {
     "data": {
      "text/plain": [
       "[0.20800437038539124, 0.9273032629558541]"
      ]
     },
     "execution_count": 82,
     "metadata": {},
     "output_type": "execute_result"
    }
   ],
   "source": [
    "learn.fit(lrs, 0, wds=wd, cycle_len=14, use_clr=(32,10))"
   ]
  },
  {
   "cell_type": "code",
   "execution_count": null,
   "metadata": {},
   "outputs": [
    {
     "data": {
      "application/vnd.jupyter.widget-view+json": {
       "model_id": "6038399748d341788c48c682262dce90",
       "version_major": 2,
       "version_minor": 0
      },
      "text/plain": [
       "HBox(children=(IntProgress(value=0, description='Epoch', max=14), HTML(value='')))"
      ]
     },
     "metadata": {},
     "output_type": "display_data"
    },
    {
     "name": "stdout",
     "output_type": "stream",
     "text": [
      " 43%|████▎     | 450/1042 [1:22:06<1:48:00, 10.95s/it, loss=0.0897]"
     ]
    }
   ],
   "source": [
    "learn.fit(lrs, 1, wds=wd, cycle_len=14, use_clr=(32,10))"
   ]
  },
  {
   "cell_type": "markdown",
   "metadata": {},
   "source": [
    "From original Jeremy's notebook: *The previous state of the art result was 94.1% accuracy (5.9% error). With bidir we get 95.4% accuracy (4.6% error).*\n",
    "\n",
    "Note: Since we have trained a weaker LM model(only 100 rows) and run fewer epochs on the classifier, we get lesser accuracy than Jeremy - But will more LM finetuning & more classifier training it should be possible to achieve the 94.7% accuracy.\n",
    "\n",
    "***This notebook will be continuously updated with more information - If you spotted any errors in the descriptions, please notify @narvind2003 in the fast.ai forums. Thanks!***"
   ]
  },
  {
   "cell_type": "markdown",
   "metadata": {},
   "source": [
    "## Backwards"
   ]
  },
  {
   "cell_type": "markdown",
   "metadata": {},
   "source": [
    "**tbd: reverse the data tokens and train a backwards model - just like a bidirectional RNN and use the avg(forward preds, backward preds) should yield much better accuracy **"
   ]
  },
  {
   "cell_type": "code",
   "execution_count": null,
   "metadata": {},
   "outputs": [],
   "source": []
  }
 ],
 "metadata": {
  "_draft": {
   "nbviewer_url": "https://gist.github.com/0dd0df21cf404cf2bb51d0148c8b7d8b"
  },
  "gist": {
   "data": {
    "description": "fastai.text imdb example",
    "public": true
   },
   "id": "0dd0df21cf404cf2bb51d0148c8b7d8b"
  },
  "kernelspec": {
   "display_name": "Python 3",
   "language": "python",
   "name": "python3"
  },
  "language_info": {
   "codemirror_mode": {
    "name": "ipython",
    "version": 3
   },
   "file_extension": ".py",
   "mimetype": "text/x-python",
   "name": "python",
   "nbconvert_exporter": "python",
   "pygments_lexer": "ipython3",
   "version": "3.6.5"
  },
  "toc": {
   "colors": {
    "hover_highlight": "#DAA520",
    "navigate_num": "#000000",
    "navigate_text": "#333333",
    "running_highlight": "#FF0000",
    "selected_highlight": "#FFD700",
    "sidebar_border": "#EEEEEE",
    "wrapper_background": "#FFFFFF"
   },
   "moveMenuLeft": true,
   "nav_menu": {
    "height": "86px",
    "width": "252px"
   },
   "navigate_menu": true,
   "number_sections": true,
   "sideBar": true,
   "threshold": 4,
   "toc_cell": false,
   "toc_section_display": "block",
   "toc_window_display": false,
   "widenNotebook": false
  }
 },
 "nbformat": 4,
 "nbformat_minor": 2
}

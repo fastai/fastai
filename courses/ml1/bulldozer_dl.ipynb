{
 "cells": [
  {
   "cell_type": "markdown",
   "metadata": {},
   "source": [
    "# Deep learning for Bulldozers"
   ]
  },
  {
   "cell_type": "code",
   "execution_count": 1,
   "metadata": {
    "collapsed": true
   },
   "outputs": [],
   "source": [
    "%load_ext autoreload\n",
    "%autoreload 2"
   ]
  },
  {
   "cell_type": "code",
   "execution_count": 2,
   "metadata": {
    "collapsed": true
   },
   "outputs": [],
   "source": [
    "%matplotlib inline\n",
    "\n",
    "from fastai.imports import *\n",
    "from fastai.torch_imports import *\n",
    "from fastai.dataset import *\n",
    "from fastai.learner import *\n",
    "from fastai.structured import *\n",
    "from fastai.column_data import *"
   ]
  },
  {
   "cell_type": "markdown",
   "metadata": {},
   "source": [
    "# Load in our data from last lesson"
   ]
  },
  {
   "cell_type": "code",
   "execution_count": 53,
   "metadata": {
    "collapsed": true
   },
   "outputs": [],
   "source": [
    "dep = 'SalePrice'\n",
    "PATH = \"data/bulldozers/\"\n",
    "df_raw = pd.read_feather('tmp/bulldozers-raw')\n",
    "keep_cols = list(np.load('tmp/keep_cols.npy'))"
   ]
  },
  {
   "cell_type": "code",
   "execution_count": 54,
   "metadata": {
    "collapsed": true
   },
   "outputs": [],
   "source": [
    "df_raw.loc[df_raw.YearMade<1950, 'YearMade'] = 1950\n",
    "df_raw['age'] = df_raw.saleYear-df_raw.YearMade\n",
    "df_raw = df_raw[keep_cols+['age', dep]].copy()\n",
    "df_indep = df_raw.drop(dep,axis=1)\n",
    "\n",
    "n_valid = 12000\n",
    "n_trn = len(df_raw)-n_valid"
   ]
  },
  {
   "cell_type": "code",
   "execution_count": 55,
   "metadata": {},
   "outputs": [
    {
     "data": {
      "text/plain": [
       "'YearMade Coupler_System ProductSize fiProductClassDesc ModelID saleElapsed fiSecondaryDesc Enclosure fiModelDesc Hydraulics_Flow fiModelDescriptor Hydraulics Drive_System ProductGroupDesc ProductGroup state saleDay Track_Type saleDayofyear Stick_Length age'"
      ]
     },
     "execution_count": 55,
     "metadata": {},
     "output_type": "execute_result"
    }
   ],
   "source": [
    "cat_flds = [n for n in df_indep.columns if df_raw[n].nunique()<n_trn/50]\n",
    "' '.join(cat_flds)"
   ]
  },
  {
   "cell_type": "code",
   "execution_count": 56,
   "metadata": {},
   "outputs": [
    {
     "data": {
      "text/plain": [
       "[]"
      ]
     },
     "execution_count": 56,
     "metadata": {},
     "output_type": "execute_result"
    }
   ],
   "source": [
    "for o in ['saleElapsed', 'saleDayofyear', 'saleDay', 'age', 'YearMade']: cat_flds.remove(o)\n",
    "[n for n in df_indep.drop(cat_flds,axis=1).columns if not is_numeric_dtype(df_raw[n])]"
   ]
  },
  {
   "cell_type": "code",
   "execution_count": 57,
   "metadata": {},
   "outputs": [
    {
     "data": {
      "text/plain": [
       "'YearMade saleElapsed SalesID MachineID saleDay saleDayofyear age'"
      ]
     },
     "execution_count": 57,
     "metadata": {},
     "output_type": "execute_result"
    }
   ],
   "source": [
    "for n in cat_flds: df_raw[n] = df_raw[n].astype('category').cat.as_ordered()\n",
    "\n",
    "cont_flds = [n for n in df_indep.columns if n not in cat_flds]\n",
    "' '.join(cont_flds)"
   ]
  },
  {
   "cell_type": "code",
   "execution_count": 58,
   "metadata": {
    "collapsed": true
   },
   "outputs": [],
   "source": [
    "df_raw = df_raw[cat_flds+cont_flds+[dep]]\n",
    "df, y, nas, mapper = proc_df(df_raw, 'SalePrice', do_scale=True)\n",
    "\n",
    "val_idx = list(range(n_trn, len(df)))"
   ]
  },
  {
   "cell_type": "code",
   "execution_count": 59,
   "metadata": {
    "collapsed": true
   },
   "outputs": [],
   "source": [
    "md = ColumnarModelData.from_data_frame(PATH, val_idx, df, y, cat_flds=cat_flds, bs=64)"
   ]
  },
  {
   "cell_type": "code",
   "execution_count": 60,
   "metadata": {},
   "outputs": [
    {
     "data": {
      "text/html": [
       "<div>\n",
       "<style>\n",
       "    .dataframe thead tr:only-child th {\n",
       "        text-align: right;\n",
       "    }\n",
       "\n",
       "    .dataframe thead th {\n",
       "        text-align: left;\n",
       "    }\n",
       "\n",
       "    .dataframe tbody tr th {\n",
       "        vertical-align: top;\n",
       "    }\n",
       "</style>\n",
       "<table border=\"1\" class=\"dataframe\">\n",
       "  <thead>\n",
       "    <tr style=\"text-align: right;\">\n",
       "      <th></th>\n",
       "      <th>Coupler_System</th>\n",
       "      <th>ProductSize</th>\n",
       "      <th>fiProductClassDesc</th>\n",
       "      <th>ModelID</th>\n",
       "      <th>fiSecondaryDesc</th>\n",
       "      <th>Enclosure</th>\n",
       "      <th>fiModelDesc</th>\n",
       "      <th>Hydraulics_Flow</th>\n",
       "      <th>fiModelDescriptor</th>\n",
       "      <th>Hydraulics</th>\n",
       "      <th>...</th>\n",
       "      <th>state</th>\n",
       "      <th>Track_Type</th>\n",
       "      <th>Stick_Length</th>\n",
       "      <th>YearMade</th>\n",
       "      <th>saleElapsed</th>\n",
       "      <th>SalesID</th>\n",
       "      <th>MachineID</th>\n",
       "      <th>saleDay</th>\n",
       "      <th>saleDayofyear</th>\n",
       "      <th>age</th>\n",
       "    </tr>\n",
       "  </thead>\n",
       "  <tbody>\n",
       "    <tr>\n",
       "      <th>0</th>\n",
       "      <td>0</td>\n",
       "      <td>0</td>\n",
       "      <td>59</td>\n",
       "      <td>644</td>\n",
       "      <td>41</td>\n",
       "      <td>3</td>\n",
       "      <td>950</td>\n",
       "      <td>0</td>\n",
       "      <td>0</td>\n",
       "      <td>1</td>\n",
       "      <td>...</td>\n",
       "      <td>1</td>\n",
       "      <td>0</td>\n",
       "      <td>0</td>\n",
       "      <td>0.913196</td>\n",
       "      <td>0.397377</td>\n",
       "      <td>-0.858580</td>\n",
       "      <td>-0.496185</td>\n",
       "      <td>-0.013101</td>\n",
       "      <td>1.352092</td>\n",
       "      <td>-0.828814</td>\n",
       "    </tr>\n",
       "    <tr>\n",
       "      <th>1</th>\n",
       "      <td>0</td>\n",
       "      <td>4</td>\n",
       "      <td>62</td>\n",
       "      <td>11</td>\n",
       "      <td>55</td>\n",
       "      <td>3</td>\n",
       "      <td>1725</td>\n",
       "      <td>0</td>\n",
       "      <td>0</td>\n",
       "      <td>1</td>\n",
       "      <td>...</td>\n",
       "      <td>33</td>\n",
       "      <td>0</td>\n",
       "      <td>0</td>\n",
       "      <td>0.405756</td>\n",
       "      <td>-0.061496</td>\n",
       "      <td>-0.858578</td>\n",
       "      <td>-2.494936</td>\n",
       "      <td>1.173518</td>\n",
       "      <td>-0.907472</td>\n",
       "      <td>-0.430749</td>\n",
       "    </tr>\n",
       "    <tr>\n",
       "      <th>2</th>\n",
       "      <td>1</td>\n",
       "      <td>0</td>\n",
       "      <td>39</td>\n",
       "      <td>1542</td>\n",
       "      <td>0</td>\n",
       "      <td>6</td>\n",
       "      <td>331</td>\n",
       "      <td>3</td>\n",
       "      <td>0</td>\n",
       "      <td>4</td>\n",
       "      <td>...</td>\n",
       "      <td>32</td>\n",
       "      <td>0</td>\n",
       "      <td>0</td>\n",
       "      <td>0.722906</td>\n",
       "      <td>-0.075286</td>\n",
       "      <td>-0.858577</td>\n",
       "      <td>-1.775759</td>\n",
       "      <td>1.173518</td>\n",
       "      <td>-1.187503</td>\n",
       "      <td>-0.762470</td>\n",
       "    </tr>\n",
       "    <tr>\n",
       "      <th>3</th>\n",
       "      <td>0</td>\n",
       "      <td>6</td>\n",
       "      <td>8</td>\n",
       "      <td>110</td>\n",
       "      <td>0</td>\n",
       "      <td>3</td>\n",
       "      <td>3674</td>\n",
       "      <td>0</td>\n",
       "      <td>0</td>\n",
       "      <td>1</td>\n",
       "      <td>...</td>\n",
       "      <td>44</td>\n",
       "      <td>0</td>\n",
       "      <td>0</td>\n",
       "      <td>0.722906</td>\n",
       "      <td>1.179600</td>\n",
       "      <td>-0.858574</td>\n",
       "      <td>-0.434096</td>\n",
       "      <td>0.342885</td>\n",
       "      <td>-0.395690</td>\n",
       "      <td>-0.298060</td>\n",
       "    </tr>\n",
       "    <tr>\n",
       "      <th>4</th>\n",
       "      <td>1</td>\n",
       "      <td>0</td>\n",
       "      <td>40</td>\n",
       "      <td>3540</td>\n",
       "      <td>0</td>\n",
       "      <td>1</td>\n",
       "      <td>4208</td>\n",
       "      <td>3</td>\n",
       "      <td>0</td>\n",
       "      <td>4</td>\n",
       "      <td>...</td>\n",
       "      <td>32</td>\n",
       "      <td>0</td>\n",
       "      <td>0</td>\n",
       "      <td>1.103486</td>\n",
       "      <td>0.863382</td>\n",
       "      <td>-0.858572</td>\n",
       "      <td>-0.364020</td>\n",
       "      <td>0.817532</td>\n",
       "      <td>0.231967</td>\n",
       "      <td>-0.828814</td>\n",
       "    </tr>\n",
       "  </tbody>\n",
       "</table>\n",
       "<p>5 rows × 23 columns</p>\n",
       "</div>"
      ],
      "text/plain": [
       "   Coupler_System  ProductSize  fiProductClassDesc  ModelID  fiSecondaryDesc  \\\n",
       "0               0            0                  59      644               41   \n",
       "1               0            4                  62       11               55   \n",
       "2               1            0                  39     1542                0   \n",
       "3               0            6                   8      110                0   \n",
       "4               1            0                  40     3540                0   \n",
       "\n",
       "   Enclosure  fiModelDesc  Hydraulics_Flow  fiModelDescriptor  Hydraulics  \\\n",
       "0          3          950                0                  0           1   \n",
       "1          3         1725                0                  0           1   \n",
       "2          6          331                3                  0           4   \n",
       "3          3         3674                0                  0           1   \n",
       "4          1         4208                3                  0           4   \n",
       "\n",
       "     ...     state  Track_Type  Stick_Length  YearMade  saleElapsed   SalesID  \\\n",
       "0    ...         1           0             0  0.913196     0.397377 -0.858580   \n",
       "1    ...        33           0             0  0.405756    -0.061496 -0.858578   \n",
       "2    ...        32           0             0  0.722906    -0.075286 -0.858577   \n",
       "3    ...        44           0             0  0.722906     1.179600 -0.858574   \n",
       "4    ...        32           0             0  1.103486     0.863382 -0.858572   \n",
       "\n",
       "   MachineID   saleDay  saleDayofyear       age  \n",
       "0  -0.496185 -0.013101       1.352092 -0.828814  \n",
       "1  -2.494936  1.173518      -0.907472 -0.430749  \n",
       "2  -1.775759  1.173518      -1.187503 -0.762470  \n",
       "3  -0.434096  0.342885      -0.395690 -0.298060  \n",
       "4  -0.364020  0.817532       0.231967 -0.828814  \n",
       "\n",
       "[5 rows x 23 columns]"
      ]
     },
     "execution_count": 60,
     "metadata": {},
     "output_type": "execute_result"
    }
   ],
   "source": [
    "df.head()"
   ]
  },
  {
   "cell_type": "markdown",
   "metadata": {
    "collapsed": true
   },
   "source": [
    "# Model"
   ]
  },
  {
   "cell_type": "code",
   "execution_count": 61,
   "metadata": {
    "collapsed": true
   },
   "outputs": [],
   "source": [
    "def rmse(x,y): return math.sqrt(((x-y)**2).mean())"
   ]
  },
  {
   "cell_type": "code",
   "execution_count": 62,
   "metadata": {},
   "outputs": [
    {
     "data": {
      "text/plain": [
       "{'Coupler_System': 3,\n",
       " 'Drive_System': 5,\n",
       " 'Enclosure': 7,\n",
       " 'Hydraulics': 13,\n",
       " 'Hydraulics_Flow': 4,\n",
       " 'ModelID': 5219,\n",
       " 'ProductGroup': 7,\n",
       " 'ProductGroupDesc': 7,\n",
       " 'ProductSize': 7,\n",
       " 'Stick_Length': 30,\n",
       " 'Track_Type': 3,\n",
       " 'fiModelDesc': 5000,\n",
       " 'fiModelDescriptor': 140,\n",
       " 'fiProductClassDesc': 75,\n",
       " 'fiSecondaryDesc': 176,\n",
       " 'state': 54}"
      ]
     },
     "execution_count": 62,
     "metadata": {},
     "output_type": "execute_result"
    }
   ],
   "source": [
    "emb_c = {n: len(c.cat.categories)+1 for n,c in df_raw[cat_flds].items()}\n",
    "emb_c"
   ]
  },
  {
   "cell_type": "code",
   "execution_count": 63,
   "metadata": {
    "collapsed": true
   },
   "outputs": [],
   "source": [
    "emb_szs = [(c, min(50, (c+1)//2)) for _,c in emb_c.items()]\n",
    "metrics=[rmse]"
   ]
  },
  {
   "cell_type": "code",
   "execution_count": 64,
   "metadata": {
    "collapsed": true
   },
   "outputs": [],
   "source": [
    "y_range=(0,np.max(y)*1.2)"
   ]
  },
  {
   "cell_type": "code",
   "execution_count": 106,
   "metadata": {
    "collapsed": true
   },
   "outputs": [],
   "source": [
    "m = md.get_learner(emb_szs, len(cont_flds), 0.05, 1, [500,250], [0.5,0.05],\n",
    "                   y_range=y_range, use_bn=True)"
   ]
  },
  {
   "cell_type": "code",
   "execution_count": 19,
   "metadata": {
    "collapsed": true
   },
   "outputs": [
    {
     "data": {
      "application/vnd.jupyter.widget-view+json": {
       "model_id": "f044a0aa354945f7a061ab97c4a05a87",
       "version_major": 2,
       "version_minor": 0
      },
      "text/plain": [
       "A Jupyter Widget"
      ]
     },
     "metadata": {},
     "output_type": "display_data"
    },
    {
     "name": "stdout",
     "output_type": "stream",
     "text": [
      " 63%|██████▎   | 3812/6081 [00:28<00:14, 154.49it/s, loss=0.202] "
     ]
    }
   ],
   "source": [
    "m.lr_find()"
   ]
  },
  {
   "cell_type": "code",
   "execution_count": 21,
   "metadata": {
    "collapsed": true
   },
   "outputs": [
    {
     "data": {
      "image/png": "[encoded data removed]",
      "text/plain": [
       "<matplotlib.figure.Figure at 0x7f3a419a2b38>"
      ]
     },
     "metadata": {},
     "output_type": "display_data"
    },
    {
     "name": "stdout",
     "output_type": "stream",
     "text": [
      "\r",
      "          \r",
      " 63%|██████▎   | 3812/6081 [00:40<00:23, 95.21it/s, loss=0.314]"
     ]
    }
   ],
   "source": [
    "m.sched.plot(1300)"
   ]
  },
  {
   "cell_type": "code",
   "execution_count": 93,
   "metadata": {
    "collapsed": true
   },
   "outputs": [],
   "source": [
    "lr=1e-3; wd=1e-7"
   ]
  },
  {
   "cell_type": "code",
   "execution_count": 74,
   "metadata": {},
   "outputs": [
    {
     "data": {
      "application/vnd.jupyter.widget-view+json": {
       "model_id": "6d1f92b2e46c41a8b7b1f491c62b34ac",
       "version_major": 2,
       "version_minor": 0
      },
      "text/plain": [
       "A Jupyter Widget"
      ]
     },
     "metadata": {},
     "output_type": "display_data"
    },
    {
     "name": "stdout",
     "output_type": "stream",
     "text": [
      "[ 0.       0.06207  0.09731]                                     \n",
      "[ 1.       0.06048  0.07684]                                     \n",
      "[ 2.       0.05326  0.06389]                                     \n",
      "\n"
     ]
    }
   ],
   "source": [
    "m.fit(lr, 2, wd, cycle_len=1, cycle_mult=2)"
   ]
  },
  {
   "cell_type": "code",
   "execution_count": 75,
   "metadata": {},
   "outputs": [
    {
     "data": {
      "application/vnd.jupyter.widget-view+json": {
       "model_id": "4f331b172ac8477ea2ac80f15a0fe06f",
       "version_major": 2,
       "version_minor": 0
      },
      "text/plain": [
       "A Jupyter Widget"
      ]
     },
     "metadata": {},
     "output_type": "display_data"
    },
    {
     "name": "stdout",
     "output_type": "stream",
     "text": [
      "[ 0.       0.05471  0.0523 ]                                     \n",
      "[ 1.       0.04767  0.0512 ]                                     \n",
      "[ 2.       0.05249  0.05747]                                     \n",
      "[ 3.       0.04643  0.05393]                                     \n",
      "[ 4.       0.04984  0.04934]                                     \n",
      "[ 5.       0.04277  0.04869]                                     \n",
      "\n"
     ]
    }
   ],
   "source": [
    "m.fit(lr, 2, wd, cycle_len=2, cycle_mult=2)"
   ]
  },
  {
   "cell_type": "code",
   "execution_count": 77,
   "metadata": {},
   "outputs": [
    {
     "data": {
      "text/plain": [
       "0.22068076490713912"
      ]
     },
     "execution_count": 77,
     "metadata": {},
     "output_type": "execute_result"
    }
   ],
   "source": [
    "math.sqrt(0.0487)"
   ]
  }
 ],
 "metadata": {
  "kernelspec": {
   "display_name": "Python 3",
   "language": "python",
   "name": "python3"
  },
  "language_info": {
   "codemirror_mode": {
    "name": "ipython",
    "version": 3
   },
   "file_extension": ".py",
   "mimetype": "text/x-python",
   "name": "python",
   "nbconvert_exporter": "python",
   "pygments_lexer": "ipython3",
   "version": "3.6.2"
  },
  "toc": {
   "colors": {
    "hover_highlight": "#DAA520",
    "navigate_num": "#000000",
    "navigate_text": "#333333",
    "running_highlight": "#FF0000",
    "selected_highlight": "#FFD700",
    "sidebar_border": "#EEEEEE",
    "wrapper_background": "#FFFFFF"
   },
   "moveMenuLeft": true,
   "nav_menu": {
    "height": "512px",
    "width": "252px"
   },
   "navigate_menu": true,
   "number_sections": true,
   "sideBar": true,
   "threshold": 4,
   "toc_cell": false,
   "toc_section_display": "block",
   "toc_window_display": false,
   "widenNotebook": false
  }
 },
 "nbformat": 4,
 "nbformat_minor": 2
}

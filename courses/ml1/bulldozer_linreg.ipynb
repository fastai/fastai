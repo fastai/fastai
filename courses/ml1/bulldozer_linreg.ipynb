{
 "cells": [
  {
   "cell_type": "markdown",
   "metadata": {},
   "source": [
    "# A Linear Model for Bulldozers"
   ]
  },
  {
   "cell_type": "code",
   "execution_count": 4,
   "metadata": {
    "collapsed": true
   },
   "outputs": [],
   "source": [
    "%load_ext autoreload\n",
    "%autoreload 2"
   ]
  },
  {
   "cell_type": "code",
   "execution_count": 5,
   "metadata": {
    "collapsed": true
   },
   "outputs": [],
   "source": [
    "%matplotlib inline\n",
    "\n",
    "from fastai.imports import *\n",
    "from fastai.structured import *\n",
    "from pandas_summary import DataFrameSummary\n",
    "from sklearn.ensemble import RandomForestRegressor, RandomForestClassifier\n",
    "from IPython.display import display\n",
    "from sklearn import metrics\n",
    "from sklearn.linear_model import LinearRegression, Ridge, RidgeCV, Lasso, LassoCV"
   ]
  },
  {
   "cell_type": "code",
   "execution_count": 6,
   "metadata": {
    "collapsed": true
   },
   "outputs": [],
   "source": [
    "set_plot_sizes(12,14,16)"
   ]
  },
  {
   "cell_type": "markdown",
   "metadata": {},
   "source": [
    "## Load in our data from last lesson"
   ]
  },
  {
   "cell_type": "code",
   "execution_count": 7,
   "metadata": {},
   "outputs": [],
   "source": [
    "PATH = \"data/bulldozers/\"\n",
    "\n",
    "df_raw = pd.read_feather('tmp/raw')"
   ]
  },
  {
   "cell_type": "code",
   "execution_count": 10,
   "metadata": {},
   "outputs": [],
   "source": [
    "df_raw['age'] = df_raw.saleYear-df_raw.YearMade"
   ]
  },
  {
   "cell_type": "code",
   "execution_count": 11,
   "metadata": {},
   "outputs": [],
   "source": [
    "df, y, nas, mapper = proc_df(df_raw, 'SalePrice', max_n_cat=10, do_scale=True)"
   ]
  },
  {
   "cell_type": "code",
   "execution_count": 12,
   "metadata": {},
   "outputs": [],
   "source": [
    "def split_vals(a,n): return a[:n], a[n:]\n",
    "n_valid = 12000\n",
    "n_trn = len(df)-n_valid\n",
    "y_train, y_valid = split_vals(y, n_trn)\n",
    "raw_train, raw_valid = split_vals(df_raw, n_trn)"
   ]
  },
  {
   "cell_type": "code",
   "execution_count": 13,
   "metadata": {
    "collapsed": true
   },
   "outputs": [],
   "source": [
    "def rmse(x,y): return math.sqrt(((x-y)**2).mean())"
   ]
  },
  {
   "cell_type": "markdown",
   "metadata": {
    "collapsed": true
   },
   "source": [
    "# Linear regression for Bulldozers"
   ]
  },
  {
   "cell_type": "markdown",
   "metadata": {},
   "source": [
    "## Data scaling"
   ]
  },
  {
   "cell_type": "code",
   "execution_count": 14,
   "metadata": {
    "collapsed": true
   },
   "outputs": [
    {
     "data": {
      "text/html": [
       "<div>\n",
       "<style scoped>\n",
       "    .dataframe tbody tr th:only-of-type {\n",
       "        vertical-align: middle;\n",
       "    }\n",
       "\n",
       "    .dataframe tbody tr th {\n",
       "        vertical-align: top;\n",
       "    }\n",
       "\n",
       "    .dataframe thead th {\n",
       "        text-align: right;\n",
       "    }\n",
       "</style>\n",
       "<table border=\"1\" class=\"dataframe\">\n",
       "  <thead>\n",
       "    <tr style=\"text-align: right;\">\n",
       "      <th></th>\n",
       "      <th>count</th>\n",
       "      <th>mean</th>\n",
       "      <th>std</th>\n",
       "      <th>min</th>\n",
       "      <th>25%</th>\n",
       "      <th>50%</th>\n",
       "      <th>75%</th>\n",
       "      <th>max</th>\n",
       "    </tr>\n",
       "  </thead>\n",
       "  <tbody>\n",
       "    <tr>\n",
       "      <th>SalesID</th>\n",
       "      <td>401125.0</td>\n",
       "      <td>3.147483e-15</td>\n",
       "      <td>1.000001</td>\n",
       "      <td>-0.858580</td>\n",
       "      <td>-0.551518</td>\n",
       "      <td>-0.308344</td>\n",
       "      <td>0.355322</td>\n",
       "      <td>4.855369</td>\n",
       "    </tr>\n",
       "    <tr>\n",
       "      <th>MachineID</th>\n",
       "      <td>401125.0</td>\n",
       "      <td>2.895953e-15</td>\n",
       "      <td>1.000001</td>\n",
       "      <td>-2.761738</td>\n",
       "      <td>-0.292989</td>\n",
       "      <td>0.139657</td>\n",
       "      <td>0.567277</td>\n",
       "      <td>2.876309</td>\n",
       "    </tr>\n",
       "    <tr>\n",
       "      <th>ModelID</th>\n",
       "      <td>401125.0</td>\n",
       "      <td>-1.300773e-13</td>\n",
       "      <td>1.000001</td>\n",
       "      <td>-1.102854</td>\n",
       "      <td>-0.583548</td>\n",
       "      <td>-0.367372</td>\n",
       "      <td>0.294819</td>\n",
       "      <td>4.871330</td>\n",
       "    </tr>\n",
       "    <tr>\n",
       "      <th>datasource</th>\n",
       "      <td>401125.0</td>\n",
       "      <td>-6.855920e-13</td>\n",
       "      <td>1.000001</td>\n",
       "      <td>-1.524823</td>\n",
       "      <td>-0.297450</td>\n",
       "      <td>-0.297450</td>\n",
       "      <td>0.148868</td>\n",
       "      <td>4.165727</td>\n",
       "    </tr>\n",
       "    <tr>\n",
       "      <th>auctioneerID</th>\n",
       "      <td>401125.0</td>\n",
       "      <td>-1.064768e-13</td>\n",
       "      <td>1.000001</td>\n",
       "      <td>-0.381738</td>\n",
       "      <td>-0.321407</td>\n",
       "      <td>-0.261075</td>\n",
       "      <td>-0.140412</td>\n",
       "      <td>5.591096</td>\n",
       "    </tr>\n",
       "    <tr>\n",
       "      <th>YearMade</th>\n",
       "      <td>401125.0</td>\n",
       "      <td>6.797770e-16</td>\n",
       "      <td>1.000001</td>\n",
       "      <td>-3.081446</td>\n",
       "      <td>0.294188</td>\n",
       "      <td>0.328458</td>\n",
       "      <td>0.345593</td>\n",
       "      <td>0.390145</td>\n",
       "    </tr>\n",
       "    <tr>\n",
       "      <th>MachineHoursCurrentMeter</th>\n",
       "      <td>401125.0</td>\n",
       "      <td>8.635210e-14</td>\n",
       "      <td>1.000001</td>\n",
       "      <td>-0.074396</td>\n",
       "      <td>-0.074396</td>\n",
       "      <td>-0.074396</td>\n",
       "      <td>-0.074396</td>\n",
       "      <td>150.038499</td>\n",
       "    </tr>\n",
       "    <tr>\n",
       "      <th>fiModelDesc</th>\n",
       "      <td>401125.0</td>\n",
       "      <td>1.673709e+03</td>\n",
       "      <td>1263.331163</td>\n",
       "      <td>1.000000</td>\n",
       "      <td>631.000000</td>\n",
       "      <td>1395.000000</td>\n",
       "      <td>2292.000000</td>\n",
       "      <td>4999.000000</td>\n",
       "    </tr>\n",
       "    <tr>\n",
       "      <th>fiBaseModel</th>\n",
       "      <td>401125.0</td>\n",
       "      <td>5.591654e+02</td>\n",
       "      <td>469.310266</td>\n",
       "      <td>1.000000</td>\n",
       "      <td>206.000000</td>\n",
       "      <td>406.000000</td>\n",
       "      <td>704.000000</td>\n",
       "      <td>1950.000000</td>\n",
       "    </tr>\n",
       "    <tr>\n",
       "      <th>fiSecondaryDesc</th>\n",
       "      <td>401125.0</td>\n",
       "      <td>3.668504e+01</td>\n",
       "      <td>38.228243</td>\n",
       "      <td>0.000000</td>\n",
       "      <td>0.000000</td>\n",
       "      <td>29.000000</td>\n",
       "      <td>57.000000</td>\n",
       "      <td>175.000000</td>\n",
       "    </tr>\n",
       "    <tr>\n",
       "      <th>fiModelSeries</th>\n",
       "      <td>401125.0</td>\n",
       "      <td>9.192686e+00</td>\n",
       "      <td>27.006859</td>\n",
       "      <td>0.000000</td>\n",
       "      <td>0.000000</td>\n",
       "      <td>0.000000</td>\n",
       "      <td>0.000000</td>\n",
       "      <td>122.000000</td>\n",
       "    </tr>\n",
       "    <tr>\n",
       "      <th>fiModelDescriptor</th>\n",
       "      <td>401125.0</td>\n",
       "      <td>1.223343e+01</td>\n",
       "      <td>29.041950</td>\n",
       "      <td>0.000000</td>\n",
       "      <td>0.000000</td>\n",
       "      <td>0.000000</td>\n",
       "      <td>0.000000</td>\n",
       "      <td>139.000000</td>\n",
       "    </tr>\n",
       "    <tr>\n",
       "      <th>fiProductClassDesc</th>\n",
       "      <td>401125.0</td>\n",
       "      <td>3.226222e+01</td>\n",
       "      <td>22.596618</td>\n",
       "      <td>1.000000</td>\n",
       "      <td>11.000000</td>\n",
       "      <td>35.000000</td>\n",
       "      <td>52.000000</td>\n",
       "      <td>74.000000</td>\n",
       "    </tr>\n",
       "    <tr>\n",
       "      <th>state</th>\n",
       "      <td>401125.0</td>\n",
       "      <td>2.350832e+01</td>\n",
       "      <td>15.732898</td>\n",
       "      <td>1.000000</td>\n",
       "      <td>9.000000</td>\n",
       "      <td>22.000000</td>\n",
       "      <td>41.000000</td>\n",
       "      <td>53.000000</td>\n",
       "    </tr>\n",
       "    <tr>\n",
       "      <th>Hydraulics</th>\n",
       "      <td>401125.0</td>\n",
       "      <td>4.253801e+00</td>\n",
       "      <td>4.809368</td>\n",
       "      <td>0.000000</td>\n",
       "      <td>1.000000</td>\n",
       "      <td>1.000000</td>\n",
       "      <td>12.000000</td>\n",
       "      <td>12.000000</td>\n",
       "    </tr>\n",
       "    <tr>\n",
       "      <th>Tire_Size</th>\n",
       "      <td>401125.0</td>\n",
       "      <td>3.059847e+00</td>\n",
       "      <td>5.950781</td>\n",
       "      <td>0.000000</td>\n",
       "      <td>0.000000</td>\n",
       "      <td>0.000000</td>\n",
       "      <td>0.000000</td>\n",
       "      <td>17.000000</td>\n",
       "    </tr>\n",
       "    <tr>\n",
       "      <th>Undercarriage_Pad_Width</th>\n",
       "      <td>401125.0</td>\n",
       "      <td>4.311895e+00</td>\n",
       "      <td>7.741894</td>\n",
       "      <td>0.000000</td>\n",
       "      <td>0.000000</td>\n",
       "      <td>0.000000</td>\n",
       "      <td>0.000000</td>\n",
       "      <td>19.000000</td>\n",
       "    </tr>\n",
       "    <tr>\n",
       "      <th>Stick_Length</th>\n",
       "      <td>401125.0</td>\n",
       "      <td>6.535564e+00</td>\n",
       "      <td>11.923308</td>\n",
       "      <td>0.000000</td>\n",
       "      <td>0.000000</td>\n",
       "      <td>0.000000</td>\n",
       "      <td>0.000000</td>\n",
       "      <td>29.000000</td>\n",
       "    </tr>\n",
       "    <tr>\n",
       "      <th>saleYear</th>\n",
       "      <td>401125.0</td>\n",
       "      <td>-2.781277e-13</td>\n",
       "      <td>1.000001</td>\n",
       "      <td>-2.623435</td>\n",
       "      <td>-0.711783</td>\n",
       "      <td>0.330937</td>\n",
       "      <td>0.852297</td>\n",
       "      <td>1.199870</td>\n",
       "    </tr>\n",
       "    <tr>\n",
       "      <th>saleMonth</th>\n",
       "      <td>401125.0</td>\n",
       "      <td>2.443335e-14</td>\n",
       "      <td>1.000001</td>\n",
       "      <td>-1.578894</td>\n",
       "      <td>-0.994879</td>\n",
       "      <td>-0.118857</td>\n",
       "      <td>0.757165</td>\n",
       "      <td>1.633187</td>\n",
       "    </tr>\n",
       "    <tr>\n",
       "      <th>saleWeek</th>\n",
       "      <td>401125.0</td>\n",
       "      <td>-9.469515e-15</td>\n",
       "      <td>1.000001</td>\n",
       "      <td>-1.702718</td>\n",
       "      <td>-0.891252</td>\n",
       "      <td>-0.079785</td>\n",
       "      <td>0.866926</td>\n",
       "      <td>1.813637</td>\n",
       "    </tr>\n",
       "    <tr>\n",
       "      <th>saleDay</th>\n",
       "      <td>401125.0</td>\n",
       "      <td>-1.649883e-15</td>\n",
       "      <td>1.000001</td>\n",
       "      <td>-1.793028</td>\n",
       "      <td>-0.843733</td>\n",
       "      <td>-0.013101</td>\n",
       "      <td>0.817532</td>\n",
       "      <td>1.766827</td>\n",
       "    </tr>\n",
       "    <tr>\n",
       "      <th>saleDayofweek</th>\n",
       "      <td>401125.0</td>\n",
       "      <td>5.134902e-14</td>\n",
       "      <td>1.000001</td>\n",
       "      <td>-1.850225</td>\n",
       "      <td>-0.427508</td>\n",
       "      <td>0.283850</td>\n",
       "      <td>0.283850</td>\n",
       "      <td>2.417924</td>\n",
       "    </tr>\n",
       "    <tr>\n",
       "      <th>saleDayofyear</th>\n",
       "      <td>401125.0</td>\n",
       "      <td>3.377684e-15</td>\n",
       "      <td>1.000001</td>\n",
       "      <td>-1.718597</td>\n",
       "      <td>-0.926784</td>\n",
       "      <td>-0.115659</td>\n",
       "      <td>0.878936</td>\n",
       "      <td>1.786624</td>\n",
       "    </tr>\n",
       "    <tr>\n",
       "      <th>saleis_month_end</th>\n",
       "      <td>401125.0</td>\n",
       "      <td>3.491732e-14</td>\n",
       "      <td>1.000001</td>\n",
       "      <td>-0.186900</td>\n",
       "      <td>-0.186900</td>\n",
       "      <td>-0.186900</td>\n",
       "      <td>-0.186900</td>\n",
       "      <td>5.350455</td>\n",
       "    </tr>\n",
       "    <tr>\n",
       "      <th>saleis_month_start</th>\n",
       "      <td>401125.0</td>\n",
       "      <td>8.367190e-14</td>\n",
       "      <td>1.000001</td>\n",
       "      <td>-0.161180</td>\n",
       "      <td>-0.161180</td>\n",
       "      <td>-0.161180</td>\n",
       "      <td>-0.161180</td>\n",
       "      <td>6.204230</td>\n",
       "    </tr>\n",
       "    <tr>\n",
       "      <th>saleis_quarter_end</th>\n",
       "      <td>401125.0</td>\n",
       "      <td>4.067403e-14</td>\n",
       "      <td>1.000001</td>\n",
       "      <td>-0.124679</td>\n",
       "      <td>-0.124679</td>\n",
       "      <td>-0.124679</td>\n",
       "      <td>-0.124679</td>\n",
       "      <td>8.020586</td>\n",
       "    </tr>\n",
       "    <tr>\n",
       "      <th>saleis_quarter_start</th>\n",
       "      <td>401125.0</td>\n",
       "      <td>1.443002e-14</td>\n",
       "      <td>1.000001</td>\n",
       "      <td>-0.079495</td>\n",
       "      <td>-0.079495</td>\n",
       "      <td>-0.079495</td>\n",
       "      <td>-0.079495</td>\n",
       "      <td>12.579339</td>\n",
       "    </tr>\n",
       "    <tr>\n",
       "      <th>saleis_year_end</th>\n",
       "      <td>401125.0</td>\n",
       "      <td>-1.624260e-14</td>\n",
       "      <td>1.000001</td>\n",
       "      <td>-0.001579</td>\n",
       "      <td>-0.001579</td>\n",
       "      <td>-0.001579</td>\n",
       "      <td>-0.001579</td>\n",
       "      <td>633.343509</td>\n",
       "    </tr>\n",
       "    <tr>\n",
       "      <th>saleis_year_start</th>\n",
       "      <td>401125.0</td>\n",
       "      <td>0.000000e+00</td>\n",
       "      <td>0.000000</td>\n",
       "      <td>0.000000</td>\n",
       "      <td>0.000000</td>\n",
       "      <td>0.000000</td>\n",
       "      <td>0.000000</td>\n",
       "      <td>0.000000</td>\n",
       "    </tr>\n",
       "    <tr>\n",
       "      <th>...</th>\n",
       "      <td>...</td>\n",
       "      <td>...</td>\n",
       "      <td>...</td>\n",
       "      <td>...</td>\n",
       "      <td>...</td>\n",
       "      <td>...</td>\n",
       "      <td>...</td>\n",
       "      <td>...</td>\n",
       "    </tr>\n",
       "    <tr>\n",
       "      <th>Blade_Type_Angle</th>\n",
       "      <td>401125.0</td>\n",
       "      <td>4.143347e-03</td>\n",
       "      <td>0.064235</td>\n",
       "      <td>0.000000</td>\n",
       "      <td>0.000000</td>\n",
       "      <td>0.000000</td>\n",
       "      <td>0.000000</td>\n",
       "      <td>1.000000</td>\n",
       "    </tr>\n",
       "    <tr>\n",
       "      <th>Blade_Type_Coal</th>\n",
       "      <td>401125.0</td>\n",
       "      <td>2.742287e-05</td>\n",
       "      <td>0.005237</td>\n",
       "      <td>0.000000</td>\n",
       "      <td>0.000000</td>\n",
       "      <td>0.000000</td>\n",
       "      <td>0.000000</td>\n",
       "      <td>1.000000</td>\n",
       "    </tr>\n",
       "    <tr>\n",
       "      <th>Blade_Type_Landfill</th>\n",
       "      <td>401125.0</td>\n",
       "      <td>6.232471e-05</td>\n",
       "      <td>0.007894</td>\n",
       "      <td>0.000000</td>\n",
       "      <td>0.000000</td>\n",
       "      <td>0.000000</td>\n",
       "      <td>0.000000</td>\n",
       "      <td>1.000000</td>\n",
       "    </tr>\n",
       "    <tr>\n",
       "      <th>Blade_Type_No</th>\n",
       "      <td>401125.0</td>\n",
       "      <td>1.852290e-03</td>\n",
       "      <td>0.042998</td>\n",
       "      <td>0.000000</td>\n",
       "      <td>0.000000</td>\n",
       "      <td>0.000000</td>\n",
       "      <td>0.000000</td>\n",
       "      <td>1.000000</td>\n",
       "    </tr>\n",
       "    <tr>\n",
       "      <th>Blade_Type_None or Unspecified</th>\n",
       "      <td>401125.0</td>\n",
       "      <td>2.849735e-02</td>\n",
       "      <td>0.166389</td>\n",
       "      <td>0.000000</td>\n",
       "      <td>0.000000</td>\n",
       "      <td>0.000000</td>\n",
       "      <td>0.000000</td>\n",
       "      <td>1.000000</td>\n",
       "    </tr>\n",
       "    <tr>\n",
       "      <th>Blade_Type_PAT</th>\n",
       "      <td>401125.0</td>\n",
       "      <td>9.625927e-02</td>\n",
       "      <td>0.294947</td>\n",
       "      <td>0.000000</td>\n",
       "      <td>0.000000</td>\n",
       "      <td>0.000000</td>\n",
       "      <td>0.000000</td>\n",
       "      <td>1.000000</td>\n",
       "    </tr>\n",
       "    <tr>\n",
       "      <th>Blade_Type_Semi U</th>\n",
       "      <td>401125.0</td>\n",
       "      <td>2.148208e-02</td>\n",
       "      <td>0.144985</td>\n",
       "      <td>0.000000</td>\n",
       "      <td>0.000000</td>\n",
       "      <td>0.000000</td>\n",
       "      <td>0.000000</td>\n",
       "      <td>1.000000</td>\n",
       "    </tr>\n",
       "    <tr>\n",
       "      <th>Blade_Type_Straight</th>\n",
       "      <td>401125.0</td>\n",
       "      <td>3.321409e-02</td>\n",
       "      <td>0.179195</td>\n",
       "      <td>0.000000</td>\n",
       "      <td>0.000000</td>\n",
       "      <td>0.000000</td>\n",
       "      <td>0.000000</td>\n",
       "      <td>1.000000</td>\n",
       "    </tr>\n",
       "    <tr>\n",
       "      <th>Blade_Type_U</th>\n",
       "      <td>401125.0</td>\n",
       "      <td>4.641945e-03</td>\n",
       "      <td>0.067974</td>\n",
       "      <td>0.000000</td>\n",
       "      <td>0.000000</td>\n",
       "      <td>0.000000</td>\n",
       "      <td>0.000000</td>\n",
       "      <td>1.000000</td>\n",
       "    </tr>\n",
       "    <tr>\n",
       "      <th>Blade_Type_VPAT</th>\n",
       "      <td>401125.0</td>\n",
       "      <td>8.842630e-03</td>\n",
       "      <td>0.093619</td>\n",
       "      <td>0.000000</td>\n",
       "      <td>0.000000</td>\n",
       "      <td>0.000000</td>\n",
       "      <td>0.000000</td>\n",
       "      <td>1.000000</td>\n",
       "    </tr>\n",
       "    <tr>\n",
       "      <th>Blade_Type_nan</th>\n",
       "      <td>401125.0</td>\n",
       "      <td>8.009773e-01</td>\n",
       "      <td>0.399266</td>\n",
       "      <td>0.000000</td>\n",
       "      <td>1.000000</td>\n",
       "      <td>1.000000</td>\n",
       "      <td>1.000000</td>\n",
       "      <td>1.000000</td>\n",
       "    </tr>\n",
       "    <tr>\n",
       "      <th>Travel_Controls_1 Speed</th>\n",
       "      <td>401125.0</td>\n",
       "      <td>2.492988e-05</td>\n",
       "      <td>0.004993</td>\n",
       "      <td>0.000000</td>\n",
       "      <td>0.000000</td>\n",
       "      <td>0.000000</td>\n",
       "      <td>0.000000</td>\n",
       "      <td>1.000000</td>\n",
       "    </tr>\n",
       "    <tr>\n",
       "      <th>Travel_Controls_2 Pedal</th>\n",
       "      <td>401125.0</td>\n",
       "      <td>2.846993e-03</td>\n",
       "      <td>0.053281</td>\n",
       "      <td>0.000000</td>\n",
       "      <td>0.000000</td>\n",
       "      <td>0.000000</td>\n",
       "      <td>0.000000</td>\n",
       "      <td>1.000000</td>\n",
       "    </tr>\n",
       "    <tr>\n",
       "      <th>Travel_Controls_Differential Steer</th>\n",
       "      <td>401125.0</td>\n",
       "      <td>1.216329e-02</td>\n",
       "      <td>0.109615</td>\n",
       "      <td>0.000000</td>\n",
       "      <td>0.000000</td>\n",
       "      <td>0.000000</td>\n",
       "      <td>0.000000</td>\n",
       "      <td>1.000000</td>\n",
       "    </tr>\n",
       "    <tr>\n",
       "      <th>Travel_Controls_Finger Tip</th>\n",
       "      <td>401125.0</td>\n",
       "      <td>6.541602e-03</td>\n",
       "      <td>0.080615</td>\n",
       "      <td>0.000000</td>\n",
       "      <td>0.000000</td>\n",
       "      <td>0.000000</td>\n",
       "      <td>0.000000</td>\n",
       "      <td>1.000000</td>\n",
       "    </tr>\n",
       "    <tr>\n",
       "      <th>Travel_Controls_Lever</th>\n",
       "      <td>401125.0</td>\n",
       "      <td>2.094110e-03</td>\n",
       "      <td>0.045714</td>\n",
       "      <td>0.000000</td>\n",
       "      <td>0.000000</td>\n",
       "      <td>0.000000</td>\n",
       "      <td>0.000000</td>\n",
       "      <td>1.000000</td>\n",
       "    </tr>\n",
       "    <tr>\n",
       "      <th>Travel_Controls_None or Unspecified</th>\n",
       "      <td>401125.0</td>\n",
       "      <td>1.743172e-01</td>\n",
       "      <td>0.379383</td>\n",
       "      <td>0.000000</td>\n",
       "      <td>0.000000</td>\n",
       "      <td>0.000000</td>\n",
       "      <td>0.000000</td>\n",
       "      <td>1.000000</td>\n",
       "    </tr>\n",
       "    <tr>\n",
       "      <th>Travel_Controls_Pedal</th>\n",
       "      <td>401125.0</td>\n",
       "      <td>1.037083e-03</td>\n",
       "      <td>0.032187</td>\n",
       "      <td>0.000000</td>\n",
       "      <td>0.000000</td>\n",
       "      <td>0.000000</td>\n",
       "      <td>0.000000</td>\n",
       "      <td>1.000000</td>\n",
       "    </tr>\n",
       "    <tr>\n",
       "      <th>Travel_Controls_nan</th>\n",
       "      <td>401125.0</td>\n",
       "      <td>8.009748e-01</td>\n",
       "      <td>0.399268</td>\n",
       "      <td>0.000000</td>\n",
       "      <td>1.000000</td>\n",
       "      <td>1.000000</td>\n",
       "      <td>1.000000</td>\n",
       "      <td>1.000000</td>\n",
       "    </tr>\n",
       "    <tr>\n",
       "      <th>Differential_Type_Limited Slip</th>\n",
       "      <td>401125.0</td>\n",
       "      <td>2.817077e-03</td>\n",
       "      <td>0.053001</td>\n",
       "      <td>0.000000</td>\n",
       "      <td>0.000000</td>\n",
       "      <td>0.000000</td>\n",
       "      <td>0.000000</td>\n",
       "      <td>1.000000</td>\n",
       "    </tr>\n",
       "    <tr>\n",
       "      <th>Differential_Type_Locking</th>\n",
       "      <td>401125.0</td>\n",
       "      <td>4.985977e-06</td>\n",
       "      <td>0.002233</td>\n",
       "      <td>0.000000</td>\n",
       "      <td>0.000000</td>\n",
       "      <td>0.000000</td>\n",
       "      <td>0.000000</td>\n",
       "      <td>1.000000</td>\n",
       "    </tr>\n",
       "    <tr>\n",
       "      <th>Differential_Type_No Spin</th>\n",
       "      <td>401125.0</td>\n",
       "      <td>5.135556e-04</td>\n",
       "      <td>0.022656</td>\n",
       "      <td>0.000000</td>\n",
       "      <td>0.000000</td>\n",
       "      <td>0.000000</td>\n",
       "      <td>0.000000</td>\n",
       "      <td>1.000000</td>\n",
       "    </tr>\n",
       "    <tr>\n",
       "      <th>Differential_Type_Standard</th>\n",
       "      <td>401125.0</td>\n",
       "      <td>1.697052e-01</td>\n",
       "      <td>0.375374</td>\n",
       "      <td>0.000000</td>\n",
       "      <td>0.000000</td>\n",
       "      <td>0.000000</td>\n",
       "      <td>0.000000</td>\n",
       "      <td>1.000000</td>\n",
       "    </tr>\n",
       "    <tr>\n",
       "      <th>Differential_Type_nan</th>\n",
       "      <td>401125.0</td>\n",
       "      <td>8.269592e-01</td>\n",
       "      <td>0.378283</td>\n",
       "      <td>0.000000</td>\n",
       "      <td>1.000000</td>\n",
       "      <td>1.000000</td>\n",
       "      <td>1.000000</td>\n",
       "      <td>1.000000</td>\n",
       "    </tr>\n",
       "    <tr>\n",
       "      <th>Steering_Controls_Command Control</th>\n",
       "      <td>401125.0</td>\n",
       "      <td>1.338735e-03</td>\n",
       "      <td>0.036564</td>\n",
       "      <td>0.000000</td>\n",
       "      <td>0.000000</td>\n",
       "      <td>0.000000</td>\n",
       "      <td>0.000000</td>\n",
       "      <td>1.000000</td>\n",
       "    </tr>\n",
       "    <tr>\n",
       "      <th>Steering_Controls_Conventional</th>\n",
       "      <td>401125.0</td>\n",
       "      <td>1.712160e-01</td>\n",
       "      <td>0.376698</td>\n",
       "      <td>0.000000</td>\n",
       "      <td>0.000000</td>\n",
       "      <td>0.000000</td>\n",
       "      <td>0.000000</td>\n",
       "      <td>1.000000</td>\n",
       "    </tr>\n",
       "    <tr>\n",
       "      <th>Steering_Controls_Four Wheel Standard</th>\n",
       "      <td>401125.0</td>\n",
       "      <td>3.440324e-04</td>\n",
       "      <td>0.018545</td>\n",
       "      <td>0.000000</td>\n",
       "      <td>0.000000</td>\n",
       "      <td>0.000000</td>\n",
       "      <td>0.000000</td>\n",
       "      <td>1.000000</td>\n",
       "    </tr>\n",
       "    <tr>\n",
       "      <th>Steering_Controls_No</th>\n",
       "      <td>401125.0</td>\n",
       "      <td>2.492988e-06</td>\n",
       "      <td>0.001579</td>\n",
       "      <td>0.000000</td>\n",
       "      <td>0.000000</td>\n",
       "      <td>0.000000</td>\n",
       "      <td>0.000000</td>\n",
       "      <td>1.000000</td>\n",
       "    </tr>\n",
       "    <tr>\n",
       "      <th>Steering_Controls_Wheel</th>\n",
       "      <td>401125.0</td>\n",
       "      <td>3.490184e-05</td>\n",
       "      <td>0.005908</td>\n",
       "      <td>0.000000</td>\n",
       "      <td>0.000000</td>\n",
       "      <td>0.000000</td>\n",
       "      <td>0.000000</td>\n",
       "      <td>1.000000</td>\n",
       "    </tr>\n",
       "    <tr>\n",
       "      <th>Steering_Controls_nan</th>\n",
       "      <td>401125.0</td>\n",
       "      <td>8.270639e-01</td>\n",
       "      <td>0.378193</td>\n",
       "      <td>0.000000</td>\n",
       "      <td>1.000000</td>\n",
       "      <td>1.000000</td>\n",
       "      <td>1.000000</td>\n",
       "      <td>1.000000</td>\n",
       "    </tr>\n",
       "  </tbody>\n",
       "</table>\n",
       "<p>192 rows × 8 columns</p>\n",
       "</div>"
      ],
      "text/plain": [
       "                                          count          mean          std  \\\n",
       "SalesID                                401125.0  3.147483e-15     1.000001   \n",
       "MachineID                              401125.0  2.895953e-15     1.000001   \n",
       "ModelID                                401125.0 -1.300773e-13     1.000001   \n",
       "datasource                             401125.0 -6.855920e-13     1.000001   \n",
       "auctioneerID                           401125.0 -1.064768e-13     1.000001   \n",
       "YearMade                               401125.0  6.797770e-16     1.000001   \n",
       "MachineHoursCurrentMeter               401125.0  8.635210e-14     1.000001   \n",
       "fiModelDesc                            401125.0  1.673709e+03  1263.331163   \n",
       "fiBaseModel                            401125.0  5.591654e+02   469.310266   \n",
       "fiSecondaryDesc                        401125.0  3.668504e+01    38.228243   \n",
       "fiModelSeries                          401125.0  9.192686e+00    27.006859   \n",
       "fiModelDescriptor                      401125.0  1.223343e+01    29.041950   \n",
       "fiProductClassDesc                     401125.0  3.226222e+01    22.596618   \n",
       "state                                  401125.0  2.350832e+01    15.732898   \n",
       "Hydraulics                             401125.0  4.253801e+00     4.809368   \n",
       "Tire_Size                              401125.0  3.059847e+00     5.950781   \n",
       "Undercarriage_Pad_Width                401125.0  4.311895e+00     7.741894   \n",
       "Stick_Length                           401125.0  6.535564e+00    11.923308   \n",
       "saleYear                               401125.0 -2.781277e-13     1.000001   \n",
       "saleMonth                              401125.0  2.443335e-14     1.000001   \n",
       "saleWeek                               401125.0 -9.469515e-15     1.000001   \n",
       "saleDay                                401125.0 -1.649883e-15     1.000001   \n",
       "saleDayofweek                          401125.0  5.134902e-14     1.000001   \n",
       "saleDayofyear                          401125.0  3.377684e-15     1.000001   \n",
       "saleis_month_end                       401125.0  3.491732e-14     1.000001   \n",
       "saleis_month_start                     401125.0  8.367190e-14     1.000001   \n",
       "saleis_quarter_end                     401125.0  4.067403e-14     1.000001   \n",
       "saleis_quarter_start                   401125.0  1.443002e-14     1.000001   \n",
       "saleis_year_end                        401125.0 -1.624260e-14     1.000001   \n",
       "saleis_year_start                      401125.0  0.000000e+00     0.000000   \n",
       "...                                         ...           ...          ...   \n",
       "Blade_Type_Angle                       401125.0  4.143347e-03     0.064235   \n",
       "Blade_Type_Coal                        401125.0  2.742287e-05     0.005237   \n",
       "Blade_Type_Landfill                    401125.0  6.232471e-05     0.007894   \n",
       "Blade_Type_No                          401125.0  1.852290e-03     0.042998   \n",
       "Blade_Type_None or Unspecified         401125.0  2.849735e-02     0.166389   \n",
       "Blade_Type_PAT                         401125.0  9.625927e-02     0.294947   \n",
       "Blade_Type_Semi U                      401125.0  2.148208e-02     0.144985   \n",
       "Blade_Type_Straight                    401125.0  3.321409e-02     0.179195   \n",
       "Blade_Type_U                           401125.0  4.641945e-03     0.067974   \n",
       "Blade_Type_VPAT                        401125.0  8.842630e-03     0.093619   \n",
       "Blade_Type_nan                         401125.0  8.009773e-01     0.399266   \n",
       "Travel_Controls_1 Speed                401125.0  2.492988e-05     0.004993   \n",
       "Travel_Controls_2 Pedal                401125.0  2.846993e-03     0.053281   \n",
       "Travel_Controls_Differential Steer     401125.0  1.216329e-02     0.109615   \n",
       "Travel_Controls_Finger Tip             401125.0  6.541602e-03     0.080615   \n",
       "Travel_Controls_Lever                  401125.0  2.094110e-03     0.045714   \n",
       "Travel_Controls_None or Unspecified    401125.0  1.743172e-01     0.379383   \n",
       "Travel_Controls_Pedal                  401125.0  1.037083e-03     0.032187   \n",
       "Travel_Controls_nan                    401125.0  8.009748e-01     0.399268   \n",
       "Differential_Type_Limited Slip         401125.0  2.817077e-03     0.053001   \n",
       "Differential_Type_Locking              401125.0  4.985977e-06     0.002233   \n",
       "Differential_Type_No Spin              401125.0  5.135556e-04     0.022656   \n",
       "Differential_Type_Standard             401125.0  1.697052e-01     0.375374   \n",
       "Differential_Type_nan                  401125.0  8.269592e-01     0.378283   \n",
       "Steering_Controls_Command Control      401125.0  1.338735e-03     0.036564   \n",
       "Steering_Controls_Conventional         401125.0  1.712160e-01     0.376698   \n",
       "Steering_Controls_Four Wheel Standard  401125.0  3.440324e-04     0.018545   \n",
       "Steering_Controls_No                   401125.0  2.492988e-06     0.001579   \n",
       "Steering_Controls_Wheel                401125.0  3.490184e-05     0.005908   \n",
       "Steering_Controls_nan                  401125.0  8.270639e-01     0.378193   \n",
       "\n",
       "                                            min         25%          50%  \\\n",
       "SalesID                               -0.858580   -0.551518    -0.308344   \n",
       "MachineID                             -2.761738   -0.292989     0.139657   \n",
       "ModelID                               -1.102854   -0.583548    -0.367372   \n",
       "datasource                            -1.524823   -0.297450    -0.297450   \n",
       "auctioneerID                          -0.381738   -0.321407    -0.261075   \n",
       "YearMade                              -3.081446    0.294188     0.328458   \n",
       "MachineHoursCurrentMeter              -0.074396   -0.074396    -0.074396   \n",
       "fiModelDesc                            1.000000  631.000000  1395.000000   \n",
       "fiBaseModel                            1.000000  206.000000   406.000000   \n",
       "fiSecondaryDesc                        0.000000    0.000000    29.000000   \n",
       "fiModelSeries                          0.000000    0.000000     0.000000   \n",
       "fiModelDescriptor                      0.000000    0.000000     0.000000   \n",
       "fiProductClassDesc                     1.000000   11.000000    35.000000   \n",
       "state                                  1.000000    9.000000    22.000000   \n",
       "Hydraulics                             0.000000    1.000000     1.000000   \n",
       "Tire_Size                              0.000000    0.000000     0.000000   \n",
       "Undercarriage_Pad_Width                0.000000    0.000000     0.000000   \n",
       "Stick_Length                           0.000000    0.000000     0.000000   \n",
       "saleYear                              -2.623435   -0.711783     0.330937   \n",
       "saleMonth                             -1.578894   -0.994879    -0.118857   \n",
       "saleWeek                              -1.702718   -0.891252    -0.079785   \n",
       "saleDay                               -1.793028   -0.843733    -0.013101   \n",
       "saleDayofweek                         -1.850225   -0.427508     0.283850   \n",
       "saleDayofyear                         -1.718597   -0.926784    -0.115659   \n",
       "saleis_month_end                      -0.186900   -0.186900    -0.186900   \n",
       "saleis_month_start                    -0.161180   -0.161180    -0.161180   \n",
       "saleis_quarter_end                    -0.124679   -0.124679    -0.124679   \n",
       "saleis_quarter_start                  -0.079495   -0.079495    -0.079495   \n",
       "saleis_year_end                       -0.001579   -0.001579    -0.001579   \n",
       "saleis_year_start                      0.000000    0.000000     0.000000   \n",
       "...                                         ...         ...          ...   \n",
       "Blade_Type_Angle                       0.000000    0.000000     0.000000   \n",
       "Blade_Type_Coal                        0.000000    0.000000     0.000000   \n",
       "Blade_Type_Landfill                    0.000000    0.000000     0.000000   \n",
       "Blade_Type_No                          0.000000    0.000000     0.000000   \n",
       "Blade_Type_None or Unspecified         0.000000    0.000000     0.000000   \n",
       "Blade_Type_PAT                         0.000000    0.000000     0.000000   \n",
       "Blade_Type_Semi U                      0.000000    0.000000     0.000000   \n",
       "Blade_Type_Straight                    0.000000    0.000000     0.000000   \n",
       "Blade_Type_U                           0.000000    0.000000     0.000000   \n",
       "Blade_Type_VPAT                        0.000000    0.000000     0.000000   \n",
       "Blade_Type_nan                         0.000000    1.000000     1.000000   \n",
       "Travel_Controls_1 Speed                0.000000    0.000000     0.000000   \n",
       "Travel_Controls_2 Pedal                0.000000    0.000000     0.000000   \n",
       "Travel_Controls_Differential Steer     0.000000    0.000000     0.000000   \n",
       "Travel_Controls_Finger Tip             0.000000    0.000000     0.000000   \n",
       "Travel_Controls_Lever                  0.000000    0.000000     0.000000   \n",
       "Travel_Controls_None or Unspecified    0.000000    0.000000     0.000000   \n",
       "Travel_Controls_Pedal                  0.000000    0.000000     0.000000   \n",
       "Travel_Controls_nan                    0.000000    1.000000     1.000000   \n",
       "Differential_Type_Limited Slip         0.000000    0.000000     0.000000   \n",
       "Differential_Type_Locking              0.000000    0.000000     0.000000   \n",
       "Differential_Type_No Spin              0.000000    0.000000     0.000000   \n",
       "Differential_Type_Standard             0.000000    0.000000     0.000000   \n",
       "Differential_Type_nan                  0.000000    1.000000     1.000000   \n",
       "Steering_Controls_Command Control      0.000000    0.000000     0.000000   \n",
       "Steering_Controls_Conventional         0.000000    0.000000     0.000000   \n",
       "Steering_Controls_Four Wheel Standard  0.000000    0.000000     0.000000   \n",
       "Steering_Controls_No                   0.000000    0.000000     0.000000   \n",
       "Steering_Controls_Wheel                0.000000    0.000000     0.000000   \n",
       "Steering_Controls_nan                  0.000000    1.000000     1.000000   \n",
       "\n",
       "                                               75%          max  \n",
       "SalesID                                   0.355322     4.855369  \n",
       "MachineID                                 0.567277     2.876309  \n",
       "ModelID                                   0.294819     4.871330  \n",
       "datasource                                0.148868     4.165727  \n",
       "auctioneerID                             -0.140412     5.591096  \n",
       "YearMade                                  0.345593     0.390145  \n",
       "MachineHoursCurrentMeter                 -0.074396   150.038499  \n",
       "fiModelDesc                            2292.000000  4999.000000  \n",
       "fiBaseModel                             704.000000  1950.000000  \n",
       "fiSecondaryDesc                          57.000000   175.000000  \n",
       "fiModelSeries                             0.000000   122.000000  \n",
       "fiModelDescriptor                         0.000000   139.000000  \n",
       "fiProductClassDesc                       52.000000    74.000000  \n",
       "state                                    41.000000    53.000000  \n",
       "Hydraulics                               12.000000    12.000000  \n",
       "Tire_Size                                 0.000000    17.000000  \n",
       "Undercarriage_Pad_Width                   0.000000    19.000000  \n",
       "Stick_Length                              0.000000    29.000000  \n",
       "saleYear                                  0.852297     1.199870  \n",
       "saleMonth                                 0.757165     1.633187  \n",
       "saleWeek                                  0.866926     1.813637  \n",
       "saleDay                                   0.817532     1.766827  \n",
       "saleDayofweek                             0.283850     2.417924  \n",
       "saleDayofyear                             0.878936     1.786624  \n",
       "saleis_month_end                         -0.186900     5.350455  \n",
       "saleis_month_start                       -0.161180     6.204230  \n",
       "saleis_quarter_end                       -0.124679     8.020586  \n",
       "saleis_quarter_start                     -0.079495    12.579339  \n",
       "saleis_year_end                          -0.001579   633.343509  \n",
       "saleis_year_start                         0.000000     0.000000  \n",
       "...                                            ...          ...  \n",
       "Blade_Type_Angle                          0.000000     1.000000  \n",
       "Blade_Type_Coal                           0.000000     1.000000  \n",
       "Blade_Type_Landfill                       0.000000     1.000000  \n",
       "Blade_Type_No                             0.000000     1.000000  \n",
       "Blade_Type_None or Unspecified            0.000000     1.000000  \n",
       "Blade_Type_PAT                            0.000000     1.000000  \n",
       "Blade_Type_Semi U                         0.000000     1.000000  \n",
       "Blade_Type_Straight                       0.000000     1.000000  \n",
       "Blade_Type_U                              0.000000     1.000000  \n",
       "Blade_Type_VPAT                           0.000000     1.000000  \n",
       "Blade_Type_nan                            1.000000     1.000000  \n",
       "Travel_Controls_1 Speed                   0.000000     1.000000  \n",
       "Travel_Controls_2 Pedal                   0.000000     1.000000  \n",
       "Travel_Controls_Differential Steer        0.000000     1.000000  \n",
       "Travel_Controls_Finger Tip                0.000000     1.000000  \n",
       "Travel_Controls_Lever                     0.000000     1.000000  \n",
       "Travel_Controls_None or Unspecified       0.000000     1.000000  \n",
       "Travel_Controls_Pedal                     0.000000     1.000000  \n",
       "Travel_Controls_nan                       1.000000     1.000000  \n",
       "Differential_Type_Limited Slip            0.000000     1.000000  \n",
       "Differential_Type_Locking                 0.000000     1.000000  \n",
       "Differential_Type_No Spin                 0.000000     1.000000  \n",
       "Differential_Type_Standard                0.000000     1.000000  \n",
       "Differential_Type_nan                     1.000000     1.000000  \n",
       "Steering_Controls_Command Control         0.000000     1.000000  \n",
       "Steering_Controls_Conventional            0.000000     1.000000  \n",
       "Steering_Controls_Four Wheel Standard     0.000000     1.000000  \n",
       "Steering_Controls_No                      0.000000     1.000000  \n",
       "Steering_Controls_Wheel                   0.000000     1.000000  \n",
       "Steering_Controls_nan                     1.000000     1.000000  \n",
       "\n",
       "[192 rows x 8 columns]"
      ]
     },
     "execution_count": 14,
     "metadata": {},
     "output_type": "execute_result"
    }
   ],
   "source": [
    "df.describe().transpose()"
   ]
  },
  {
   "cell_type": "code",
   "execution_count": 15,
   "metadata": {
    "collapsed": true
   },
   "outputs": [],
   "source": [
    "X_train, X_valid = split_vals(df, n_trn)"
   ]
  },
  {
   "cell_type": "code",
   "execution_count": 16,
   "metadata": {},
   "outputs": [
    {
     "data": {
      "text/plain": [
       "0.31399415664841568"
      ]
     },
     "execution_count": 16,
     "metadata": {},
     "output_type": "execute_result"
    }
   ],
   "source": [
    "m = LinearRegression().fit(X_train, y_train)\n",
    "m.score(X_valid, y_valid)"
   ]
  },
  {
   "cell_type": "code",
   "execution_count": 17,
   "metadata": {},
   "outputs": [
    {
     "data": {
      "text/plain": [
       "0.60966668735322171"
      ]
     },
     "execution_count": 17,
     "metadata": {},
     "output_type": "execute_result"
    }
   ],
   "source": [
    "m.score(X_train, y_train)"
   ]
  },
  {
   "cell_type": "code",
   "execution_count": 18,
   "metadata": {
    "collapsed": true
   },
   "outputs": [],
   "source": [
    "preds = m.predict(X_valid)"
   ]
  },
  {
   "cell_type": "code",
   "execution_count": 19,
   "metadata": {},
   "outputs": [
    {
     "data": {
      "text/plain": [
       "0.6197833720320716"
      ]
     },
     "execution_count": 19,
     "metadata": {},
     "output_type": "execute_result"
    }
   ],
   "source": [
    "rmse(preds, y_valid)"
   ]
  },
  {
   "cell_type": "code",
   "execution_count": 20,
   "metadata": {},
   "outputs": [
    {
     "data": {
      "image/png": "[encoded data removed]",
      "text/plain": [
       "<matplotlib.figure.Figure at 0x7ff22e389940>"
      ]
     },
     "metadata": {},
     "output_type": "display_data"
    }
   ],
   "source": [
    "plt.scatter(preds, y_valid, alpha=0.1, s=2);"
   ]
  },
  {
   "cell_type": "markdown",
   "metadata": {},
   "source": [
    "## Feature selection from RF"
   ]
  },
  {
   "cell_type": "code",
   "execution_count": 204,
   "metadata": {},
   "outputs": [
    {
     "data": {
      "text/plain": [
       "'YearMade, Coupler_System, ProductSize, fiProductClassDesc, ModelID, Hydraulics_Flow, saleElapsed, fiSecondaryDesc, Enclosure, fiModelDesc, SalesID, fiModelDescriptor, MachineID, ProductGroupDesc, ProductGroup, Drive_System, Hydraulics, state, saleDay, Tire_Size, saleDayofyear'"
      ]
     },
     "execution_count": 204,
     "metadata": {},
     "output_type": "execute_result"
    }
   ],
   "source": [
    "keep_cols = list(np.load('tmp/keep_cols.npy'))\n",
    "', '.join(keep_cols)"
   ]
  },
  {
   "cell_type": "code",
   "execution_count": 205,
   "metadata": {},
   "outputs": [],
   "source": [
    "df_sub = df_raw[keep_cols+['age', 'SalePrice']]"
   ]
  },
  {
   "cell_type": "code",
   "execution_count": 206,
   "metadata": {},
   "outputs": [],
   "source": [
    "df, y, mapper, nas = proc_df(df_sub, 'SalePrice', max_n_cat=10, do_scale=True)"
   ]
  },
  {
   "cell_type": "code",
   "execution_count": 207,
   "metadata": {
    "collapsed": true
   },
   "outputs": [],
   "source": [
    "X_train, X_valid = split_vals(df, n_trn)"
   ]
  },
  {
   "cell_type": "code",
   "execution_count": 208,
   "metadata": {},
   "outputs": [
    {
     "data": {
      "text/plain": [
       "0.67602943126238957"
      ]
     },
     "execution_count": 208,
     "metadata": {},
     "output_type": "execute_result"
    }
   ],
   "source": [
    "m = LinearRegression().fit(X_train, y_train)\n",
    "m.score(X_valid, y_valid)"
   ]
  },
  {
   "cell_type": "code",
   "execution_count": 209,
   "metadata": {},
   "outputs": [
    {
     "data": {
      "text/plain": [
       "0.42592074374245537"
      ]
     },
     "execution_count": 209,
     "metadata": {},
     "output_type": "execute_result"
    }
   ],
   "source": [
    "rmse(m.predict(X_valid), y_valid)"
   ]
  },
  {
   "cell_type": "code",
   "execution_count": 210,
   "metadata": {
    "collapsed": true
   },
   "outputs": [],
   "source": [
    "from operator import itemgetter"
   ]
  },
  {
   "cell_type": "code",
   "execution_count": 211,
   "metadata": {
    "scrolled": false
   },
   "outputs": [
    {
     "data": {
      "text/plain": [
       "[('saleElapsed', -145.64883869187287),\n",
       " ('ProductSize_Compact', -0.54007475122954363),\n",
       " ('ProductSize_Mini', -0.50048058229134851),\n",
       " ('Drive_System_Two Wheel Drive', -0.26738317785805954),\n",
       " ('ProductGroupDesc_Skid Steer Loaders', -0.24922453667794642),\n",
       " ('ProductGroup_SSL', -0.24922453667794109),\n",
       " ('Enclosure_None or Unspecified', -0.24279691741993142),\n",
       " ('Enclosure_nan', -0.18422637193293984),\n",
       " ('Drive_System_nan', -0.17481049937861393),\n",
       " ('Hydraulics_Flow_Standard', -0.16350014357513842),\n",
       " ('Enclosure_EROPS AC', -0.13844787814745835),\n",
       " ('Enclosure_OROPS', -0.11883972857575564),\n",
       " ('ProductSize_nan', -0.091923065651293712),\n",
       " ('MachineID', -0.074919067087428459),\n",
       " ('Drive_System_Four Wheel Drive', -0.070763049128190758),\n",
       " ('Enclosure_EROPS', -0.054481426247864562),\n",
       " ('Hydraulics_Flow_High Flow', -0.04086147315765426),\n",
       " ('ProductGroupDesc_Track Type Tractors', -0.0040345196773952097),\n",
       " ('ProductGroup_TTT', -0.0040345196773863279),\n",
       " ('Coupler_System_nan', -0.0033786325283386986),\n",
       " ('Tire_Size', -0.0029100702750870511),\n",
       " ('saleDay', -0.0018416299990260399),\n",
       " ('SalesID', -0.00054830445029807606),\n",
       " ('state', -0.00024678007480360975),\n",
       " ('Coupler_System_None or Unspecified', -5.2370856060690585e-06),\n",
       " ('ProductGroupDesc_nan', 0.0),\n",
       " ('ProductGroup_nan', 0.0),\n",
       " ('fiModelDesc', 4.2934486685908269e-06),\n",
       " ('Hydraulics', 0.00040543370646162202),\n",
       " ('fiModelDescriptor', 0.0021681557153456765),\n",
       " ('fiSecondaryDesc', 0.0027035894408982131),\n",
       " ('Coupler_System_Yes', 0.0033838696139043556),\n",
       " ('Hydraulics_Flow_nan', 0.004228336726749049),\n",
       " ('fiProductClassDesc', 0.0056127773827328031),\n",
       " ('ModelID', 0.015501818523116384),\n",
       " ('ProductGroup_WL', 0.02704461444028361),\n",
       " ('ProductGroupDesc_Wheel Loader', 0.027044614440295156),\n",
       " ('ProductGroup_TEX', 0.052690045537289176),\n",
       " ('ProductGroupDesc_Track Excavators', 0.052690045537290064),\n",
       " ('ProductGroupDesc_Backhoe Loaders', 0.059547357765127318),\n",
       " ('ProductGroup_BL', 0.05954735776512976),\n",
       " ('ProductGroup_MG', 0.11397703861262443),\n",
       " ('ProductGroupDesc_Motor Graders', 0.1139770386126262),\n",
       " ('Drive_System_No', 0.17580439323345765),\n",
       " ('ProductSize_Small', 0.17871767761687707),\n",
       " ('Hydraulics_Flow_None or Unspecified', 0.20013328000603833),\n",
       " ('ProductSize_Medium', 0.25052367123948038),\n",
       " ('ProductSize_Large', 0.28820495005131264),\n",
       " ('Enclosure_EROPS w AC', 0.28910815935957146),\n",
       " ('Drive_System_All Wheel Drive', 0.33715233313139936),\n",
       " ('ProductSize_Large / Medium', 0.41503210026451676),\n",
       " ('Enclosure_NO ROPS', 0.44968416296443187),\n",
       " ('saleDayofyear', 7.1497706071154195),\n",
       " ('YearMade', 145.69251462398279),\n",
       " ('age', 182.96050934738616)]"
      ]
     },
     "execution_count": 211,
     "metadata": {},
     "output_type": "execute_result"
    }
   ],
   "source": [
    "sorted(list(zip(X_valid.columns, m.coef_)), key=itemgetter(1))"
   ]
  },
  {
   "cell_type": "code",
   "execution_count": 212,
   "metadata": {},
   "outputs": [
    {
     "data": {
      "text/plain": [
       "0.634974200475658"
      ]
     },
     "execution_count": 212,
     "metadata": {},
     "output_type": "execute_result"
    }
   ],
   "source": [
    "m = LassoCV().fit(X_train, y_train)\n",
    "m.score(X_valid, y_valid)"
   ]
  },
  {
   "cell_type": "code",
   "execution_count": 213,
   "metadata": {},
   "outputs": [
    {
     "data": {
      "text/plain": [
       "0.452103421164379"
      ]
     },
     "execution_count": 213,
     "metadata": {},
     "output_type": "execute_result"
    }
   ],
   "source": [
    "rmse(m.predict(X_valid), y_valid)"
   ]
  },
  {
   "cell_type": "code",
   "execution_count": 214,
   "metadata": {},
   "outputs": [
    {
     "data": {
      "text/plain": [
       "0.015888143202334452"
      ]
     },
     "execution_count": 214,
     "metadata": {},
     "output_type": "execute_result"
    }
   ],
   "source": [
    "m.alpha_"
   ]
  },
  {
   "cell_type": "code",
   "execution_count": 215,
   "metadata": {
    "scrolled": true
   },
   "outputs": [
    {
     "data": {
      "text/plain": [
       "[('ProductSize_Mini', -0.32283011739021739),\n",
       " ('ProductGroupDesc_Skid Steer Loaders', -0.29197866480532003),\n",
       " ('ProductSize_nan', -0.16481153369955914),\n",
       " ('Enclosure_OROPS', -0.10072067167233209),\n",
       " ('MachineID', -0.077025231732003333),\n",
       " ('age', -0.07146167736242677),\n",
       " ('saleDayofyear', -0.005420434471588245),\n",
       " ('ProductGroup_SSL', -0.00026018612542580649),\n",
       " ('state', -0.00020510032574012273),\n",
       " ('ModelID', -0.0),\n",
       " ('saleElapsed', -0.0),\n",
       " ('SalesID', -0.0),\n",
       " ('Hydraulics', -0.0),\n",
       " ('saleDay', -0.0),\n",
       " ('Coupler_System_None or Unspecified', -0.0),\n",
       " ('Coupler_System_Yes', -0.0),\n",
       " ('ProductSize_Compact', -0.0),\n",
       " ('ProductSize_Large', 0.0),\n",
       " ('ProductSize_Medium', 0.0),\n",
       " ('ProductSize_Small', 0.0),\n",
       " ('Hydraulics_Flow_High Flow', -0.0),\n",
       " ('Hydraulics_Flow_None or Unspecified', 0.0),\n",
       " ('Hydraulics_Flow_Standard', -0.0),\n",
       " ('Hydraulics_Flow_nan', 0.0),\n",
       " ('Enclosure_EROPS', 0.0),\n",
       " ('Enclosure_EROPS AC', -0.0),\n",
       " ('Enclosure_NO ROPS', 0.0),\n",
       " ('Enclosure_None or Unspecified', -0.0),\n",
       " ('Enclosure_nan', -0.0),\n",
       " ('ProductGroupDesc_Backhoe Loaders', -0.0),\n",
       " ('ProductGroupDesc_Track Excavators', 0.0),\n",
       " ('ProductGroupDesc_Track Type Tractors', 0.0),\n",
       " ('ProductGroupDesc_Wheel Loader', -0.0),\n",
       " ('ProductGroupDesc_nan', 0.0),\n",
       " ('ProductGroup_BL', -0.0),\n",
       " ('ProductGroup_MG', 0.0),\n",
       " ('ProductGroup_TEX', 0.0),\n",
       " ('ProductGroup_TTT', 0.0),\n",
       " ('ProductGroup_WL', -0.0),\n",
       " ('ProductGroup_nan', 0.0),\n",
       " ('Drive_System_All Wheel Drive', 0.0),\n",
       " ('Drive_System_Four Wheel Drive', 0.0),\n",
       " ('Drive_System_No', 0.0),\n",
       " ('Drive_System_Two Wheel Drive', -0.0),\n",
       " ('Drive_System_nan', -0.0),\n",
       " ('fiModelDesc', 5.509329640857254e-06),\n",
       " ('fiProductClassDesc', 0.0022891561283628222),\n",
       " ('fiSecondaryDesc', 0.0030514019161731946),\n",
       " ('fiModelDescriptor', 0.0034724295356978328),\n",
       " ('Tire_Size', 0.0095336232150601847),\n",
       " ('YearMade', 0.088383969701718024),\n",
       " ('ProductGroupDesc_Motor Graders', 0.11373349421170943),\n",
       " ('ProductSize_Large / Medium', 0.15991368864779024),\n",
       " ('Coupler_System_nan', 0.2023810180165819),\n",
       " ('Enclosure_EROPS w AC', 0.34461861098943347)]"
      ]
     },
     "execution_count": 215,
     "metadata": {},
     "output_type": "execute_result"
    }
   ],
   "source": [
    "coefs = sorted(list(zip(X_valid.columns, m.coef_)), key=itemgetter(1))\n",
    "coefs"
   ]
  },
  {
   "cell_type": "code",
   "execution_count": 216,
   "metadata": {
    "collapsed": true
   },
   "outputs": [],
   "source": [
    "skip = [n for n,c in coefs if abs(c)<0.01]"
   ]
  },
  {
   "cell_type": "code",
   "execution_count": 217,
   "metadata": {
    "collapsed": true
   },
   "outputs": [],
   "source": [
    "df.drop(skip, axis=1, inplace=True)\n",
    "\n",
    "# for n,c in df.items():\n",
    "#     if '_' not in n: df[n+'2'] = df[n]**2"
   ]
  },
  {
   "cell_type": "code",
   "execution_count": 218,
   "metadata": {
    "collapsed": true
   },
   "outputs": [],
   "source": [
    "X_train, X_valid = split_vals(df, n_trn)"
   ]
  },
  {
   "cell_type": "code",
   "execution_count": 219,
   "metadata": {},
   "outputs": [
    {
     "data": {
      "text/plain": [
       "0.63678168860529394"
      ]
     },
     "execution_count": 219,
     "metadata": {},
     "output_type": "execute_result"
    }
   ],
   "source": [
    "m = LassoCV().fit(X_train, y_train)\n",
    "m.score(X_valid, y_valid)"
   ]
  },
  {
   "cell_type": "code",
   "execution_count": 220,
   "metadata": {},
   "outputs": [
    {
     "data": {
      "text/plain": [
       "0.4509826980922721"
      ]
     },
     "execution_count": 220,
     "metadata": {},
     "output_type": "execute_result"
    }
   ],
   "source": [
    "rmse(m.predict(X_valid), y_valid)"
   ]
  },
  {
   "cell_type": "code",
   "execution_count": 221,
   "metadata": {
    "scrolled": false
   },
   "outputs": [
    {
     "data": {
      "text/plain": [
       "[('ProductSize_Mini', -0.77420353132504083),\n",
       " ('ProductSize_nan', -0.37649627504627403),\n",
       " ('ProductGroupDesc_Skid Steer Loaders', -0.31232507784064917),\n",
       " ('MachineID', -0.092899281127635194),\n",
       " ('Enclosure_OROPS', -0.034526809361612412),\n",
       " ('age', -0.024367657576137017),\n",
       " ('ProductSize_Large / Medium', 0.08968235308777571),\n",
       " ('YearMade', 0.15983396599807115),\n",
       " ('Enclosure_EROPS w AC', 0.40652833657308551),\n",
       " ('Coupler_System_nan', 0.42191856864836064),\n",
       " ('ProductGroupDesc_Motor Graders', 0.49456961585974812)]"
      ]
     },
     "execution_count": 221,
     "metadata": {},
     "output_type": "execute_result"
    }
   ],
   "source": [
    "coefs = sorted(list(zip(X_valid.columns, m.coef_)), key=itemgetter(1))\n",
    "coefs"
   ]
  },
  {
   "cell_type": "code",
   "execution_count": 222,
   "metadata": {
    "collapsed": true
   },
   "outputs": [],
   "source": [
    "np.savez(f'{PATH}tmp/regr_resid', m.predict(X_train), m.predict(X_valid))"
   ]
  },
  {
   "cell_type": "code",
   "execution_count": null,
   "metadata": {
    "collapsed": true
   },
   "outputs": [],
   "source": []
  }
 ],
 "metadata": {
  "kernelspec": {
   "display_name": "Python 3",
   "language": "python",
   "name": "python3"
  },
  "language_info": {
   "codemirror_mode": {
    "name": "ipython",
    "version": 3
   },
   "file_extension": ".py",
   "mimetype": "text/x-python",
   "name": "python",
   "nbconvert_exporter": "python",
   "pygments_lexer": "ipython3",
   "version": "3.6.2"
  },
  "toc": {
   "colors": {
    "hover_highlight": "#DAA520",
    "navigate_num": "#000000",
    "navigate_text": "#333333",
    "running_highlight": "#FF0000",
    "selected_highlight": "#FFD700",
    "sidebar_border": "#EEEEEE",
    "wrapper_background": "#FFFFFF"
   },
   "moveMenuLeft": true,
   "nav_menu": {
    "height": "512px",
    "width": "252px"
   },
   "navigate_menu": true,
   "number_sections": true,
   "sideBar": true,
   "threshold": 4,
   "toc_cell": false,
   "toc_section_display": "block",
   "toc_window_display": false,
   "widenNotebook": false
  }
 },
 "nbformat": 4,
 "nbformat_minor": 2
}

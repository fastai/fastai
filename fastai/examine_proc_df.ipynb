{
 "cells": [
  {
   "cell_type": "code",
   "execution_count": 1,
   "metadata": {
    "ExecuteTime": {
     "end_time": "2018-03-24T22:26:51.601110Z",
     "start_time": "2018-03-24T22:26:50.859587Z"
    }
   },
   "outputs": [],
   "source": [
    "from fastai.imports import *\n",
    "from fastai.structured import *\n",
    "from fastai.column_data import *"
   ]
  },
  {
   "cell_type": "code",
   "execution_count": 2,
   "metadata": {
    "ExecuteTime": {
     "end_time": "2018-03-24T22:26:51.986665Z",
     "start_time": "2018-03-24T22:26:51.958293Z"
    }
   },
   "outputs": [],
   "source": [
    "def mapper_check(mapper):\n",
    "    for feat_tup in mapper.features:\n",
    "        print('col: {0}, mean: {1}, std_dev: {2}'.format(feat_tup[0][0], feat_tup[1].mean_, feat_tup[1].var_))"
   ]
  },
  {
   "cell_type": "code",
   "execution_count": 3,
   "metadata": {
    "ExecuteTime": {
     "end_time": "2018-03-24T22:26:52.905178Z",
     "start_time": "2018-03-24T22:26:52.428489Z"
    }
   },
   "outputs": [
    {
     "name": "stderr",
     "output_type": "stream",
     "text": [
      "/home/justin/anaconda3/lib/python3.6/site-packages/ipykernel_launcher.py:10: SettingWithCopyWarning: \n",
      "A value is trying to be set on a copy of a slice from a DataFrame\n",
      "\n",
      "See the caveats in the documentation: http://pandas.pydata.org/pandas-docs/stable/indexing.html#indexing-view-versus-copy\n",
      "  # Remove the CWD from sys.path while we load stuff.\n"
     ]
    }
   ],
   "source": [
    "train = pd.DataFrame(np.zeros([1000000,2]))\n",
    "train[[0,1]] = np.random.normal(size=(1000000,2))\n",
    "train[2] = np.nan\n",
    "train[2][-100000:] = np.random.normal(size=(100000))\n",
    "train[3] = np.nan\n",
    "train[3][:-50000] = np.random.choice([np.nan, 'a', 'b', 'c'], size=950000)\n",
    "train.columns = ['num_0','num_1','num_2','categorical']\n",
    "valid = train[-50000:].copy()\n",
    "train = train[:-50000]\n",
    "valid['categorical'][-50000:] = np.random.choice([np.nan, 'a', 'b', 'c', 'd', 'e'], size=50000)"
   ]
  },
  {
   "cell_type": "code",
   "execution_count": 4,
   "metadata": {
    "ExecuteTime": {
     "end_time": "2018-03-24T22:26:53.530693Z",
     "start_time": "2018-03-24T22:26:53.342087Z"
    }
   },
   "outputs": [
    {
     "name": "stdout",
     "output_type": "stream",
     "text": [
      "unique vals in col \"categorical\": 4\n"
     ]
    },
    {
     "data": {
      "text/html": [
       "<div>\n",
       "<style scoped>\n",
       "    .dataframe tbody tr th:only-of-type {\n",
       "        vertical-align: middle;\n",
       "    }\n",
       "\n",
       "    .dataframe tbody tr th {\n",
       "        vertical-align: top;\n",
       "    }\n",
       "\n",
       "    .dataframe thead th {\n",
       "        text-align: right;\n",
       "    }\n",
       "</style>\n",
       "<table border=\"1\" class=\"dataframe\">\n",
       "  <thead>\n",
       "    <tr style=\"text-align: right;\">\n",
       "      <th></th>\n",
       "      <th>num_0</th>\n",
       "      <th>num_1</th>\n",
       "      <th>num_2</th>\n",
       "    </tr>\n",
       "  </thead>\n",
       "  <tbody>\n",
       "    <tr>\n",
       "      <th>count</th>\n",
       "      <td>950000.000000</td>\n",
       "      <td>950000.000000</td>\n",
       "      <td>50000.000000</td>\n",
       "    </tr>\n",
       "    <tr>\n",
       "      <th>mean</th>\n",
       "      <td>0.001484</td>\n",
       "      <td>0.000419</td>\n",
       "      <td>0.007199</td>\n",
       "    </tr>\n",
       "    <tr>\n",
       "      <th>std</th>\n",
       "      <td>1.000304</td>\n",
       "      <td>1.001274</td>\n",
       "      <td>0.996604</td>\n",
       "    </tr>\n",
       "    <tr>\n",
       "      <th>min</th>\n",
       "      <td>-4.736283</td>\n",
       "      <td>-4.927042</td>\n",
       "      <td>-4.207608</td>\n",
       "    </tr>\n",
       "    <tr>\n",
       "      <th>25%</th>\n",
       "      <td>-0.674277</td>\n",
       "      <td>-0.674927</td>\n",
       "      <td>-0.662512</td>\n",
       "    </tr>\n",
       "    <tr>\n",
       "      <th>50%</th>\n",
       "      <td>0.001677</td>\n",
       "      <td>-0.000116</td>\n",
       "      <td>0.007616</td>\n",
       "    </tr>\n",
       "    <tr>\n",
       "      <th>75%</th>\n",
       "      <td>0.677395</td>\n",
       "      <td>0.675339</td>\n",
       "      <td>0.676824</td>\n",
       "    </tr>\n",
       "    <tr>\n",
       "      <th>max</th>\n",
       "      <td>4.940119</td>\n",
       "      <td>4.869177</td>\n",
       "      <td>3.940715</td>\n",
       "    </tr>\n",
       "  </tbody>\n",
       "</table>\n",
       "</div>"
      ],
      "text/plain": [
       "               num_0          num_1         num_2\n",
       "count  950000.000000  950000.000000  50000.000000\n",
       "mean        0.001484       0.000419      0.007199\n",
       "std         1.000304       1.001274      0.996604\n",
       "min        -4.736283      -4.927042     -4.207608\n",
       "25%        -0.674277      -0.674927     -0.662512\n",
       "50%         0.001677      -0.000116      0.007616\n",
       "75%         0.677395       0.675339      0.676824\n",
       "max         4.940119       4.869177      3.940715"
      ]
     },
     "execution_count": 4,
     "metadata": {},
     "output_type": "execute_result"
    }
   ],
   "source": [
    "print('unique vals in col \"categorical\": {0}'.format(len(train['categorical'].unique())))\n",
    "train.describe()"
   ]
  },
  {
   "cell_type": "code",
   "execution_count": 5,
   "metadata": {
    "ExecuteTime": {
     "end_time": "2018-03-24T22:26:55.300007Z",
     "start_time": "2018-03-24T22:26:55.253964Z"
    }
   },
   "outputs": [
    {
     "name": "stdout",
     "output_type": "stream",
     "text": [
      "unique vals in col \"categorical\": 6\n"
     ]
    },
    {
     "data": {
      "text/html": [
       "<div>\n",
       "<style scoped>\n",
       "    .dataframe tbody tr th:only-of-type {\n",
       "        vertical-align: middle;\n",
       "    }\n",
       "\n",
       "    .dataframe tbody tr th {\n",
       "        vertical-align: top;\n",
       "    }\n",
       "\n",
       "    .dataframe thead th {\n",
       "        text-align: right;\n",
       "    }\n",
       "</style>\n",
       "<table border=\"1\" class=\"dataframe\">\n",
       "  <thead>\n",
       "    <tr style=\"text-align: right;\">\n",
       "      <th></th>\n",
       "      <th>num_0</th>\n",
       "      <th>num_1</th>\n",
       "      <th>num_2</th>\n",
       "    </tr>\n",
       "  </thead>\n",
       "  <tbody>\n",
       "    <tr>\n",
       "      <th>count</th>\n",
       "      <td>50000.000000</td>\n",
       "      <td>50000.000000</td>\n",
       "      <td>50000.000000</td>\n",
       "    </tr>\n",
       "    <tr>\n",
       "      <th>mean</th>\n",
       "      <td>0.000935</td>\n",
       "      <td>-0.004427</td>\n",
       "      <td>-0.008899</td>\n",
       "    </tr>\n",
       "    <tr>\n",
       "      <th>std</th>\n",
       "      <td>0.995222</td>\n",
       "      <td>1.002839</td>\n",
       "      <td>0.997322</td>\n",
       "    </tr>\n",
       "    <tr>\n",
       "      <th>min</th>\n",
       "      <td>-4.158127</td>\n",
       "      <td>-3.929174</td>\n",
       "      <td>-3.866122</td>\n",
       "    </tr>\n",
       "    <tr>\n",
       "      <th>25%</th>\n",
       "      <td>-0.671504</td>\n",
       "      <td>-0.676850</td>\n",
       "      <td>-0.684508</td>\n",
       "    </tr>\n",
       "    <tr>\n",
       "      <th>50%</th>\n",
       "      <td>0.006233</td>\n",
       "      <td>-0.005086</td>\n",
       "      <td>-0.014740</td>\n",
       "    </tr>\n",
       "    <tr>\n",
       "      <th>75%</th>\n",
       "      <td>0.670213</td>\n",
       "      <td>0.675853</td>\n",
       "      <td>0.663687</td>\n",
       "    </tr>\n",
       "    <tr>\n",
       "      <th>max</th>\n",
       "      <td>3.811489</td>\n",
       "      <td>4.477588</td>\n",
       "      <td>4.019393</td>\n",
       "    </tr>\n",
       "  </tbody>\n",
       "</table>\n",
       "</div>"
      ],
      "text/plain": [
       "              num_0         num_1         num_2\n",
       "count  50000.000000  50000.000000  50000.000000\n",
       "mean       0.000935     -0.004427     -0.008899\n",
       "std        0.995222      1.002839      0.997322\n",
       "min       -4.158127     -3.929174     -3.866122\n",
       "25%       -0.671504     -0.676850     -0.684508\n",
       "50%        0.006233     -0.005086     -0.014740\n",
       "75%        0.670213      0.675853      0.663687\n",
       "max        3.811489      4.477588      4.019393"
      ]
     },
     "execution_count": 5,
     "metadata": {},
     "output_type": "execute_result"
    }
   ],
   "source": [
    "print('unique vals in col \"categorical\": {0}'.format(len(valid['categorical'].unique())))\n",
    "valid.describe()"
   ]
  },
  {
   "cell_type": "code",
   "execution_count": 6,
   "metadata": {
    "ExecuteTime": {
     "end_time": "2018-03-24T22:26:56.686903Z",
     "start_time": "2018-03-24T22:26:55.898930Z"
    }
   },
   "outputs": [
    {
     "name": "stdout",
     "output_type": "stream",
     "text": [
      "col: num_0, mean: [ 0.00148], std_dev: [ 1.00061]\n",
      "col: num_1, mean: [ 0.00042], std_dev: [ 1.00255]\n",
      "col: num_2, mean: [ 0.00759], std_dev: [ 0.05227]\n",
      "col: num_2_na, mean: [ 0.94737], std_dev: [ 0.04986]\n"
     ]
    }
   ],
   "source": [
    "train_cats(train)\n",
    "X_train, y_train, nas_train, mapper_train = proc_df(train, do_scale=True)\n",
    "mapper_check(mapper_train)"
   ]
  },
  {
   "cell_type": "code",
   "execution_count": 7,
   "metadata": {
    "ExecuteTime": {
     "end_time": "2018-03-24T22:26:56.738746Z",
     "start_time": "2018-03-24T22:26:56.688790Z"
    }
   },
   "outputs": [],
   "source": [
    "train_cats(valid)\n",
    "X_valid, y_valid, nas_valid, _ = proc_df(valid, do_scale=True, na_dict=nas_train)\n",
    "assert(nas_train == nas_valid)"
   ]
  },
  {
   "cell_type": "markdown",
   "metadata": {},
   "source": [
    "# proposed changes proc_df"
   ]
  },
  {
   "cell_type": "code",
   "execution_count": 8,
   "metadata": {
    "ExecuteTime": {
     "end_time": "2018-03-24T22:26:59.947821Z",
     "start_time": "2018-03-24T22:26:59.812630Z"
    }
   },
   "outputs": [],
   "source": [
    "from sklearn.base import TransformerMixin, BaseEstimator\n",
    "\n",
    "class StandardScalerNew(TransformerMixin, BaseEstimator):\n",
    "    def __init__(self, copy=True, with_mean=True, with_std=True):\n",
    "        self.with_mean = with_mean\n",
    "        self.with_std = with_std\n",
    "        self.copy = copy\n",
    "    \n",
    "    def fit(self, X, y=None):\n",
    "        # fits without nas via pandas library\n",
    "        if type(X) == np.ndarray:\n",
    "            X = pd.Series(X.reshape(-1))\n",
    "        self.mean_ = X.dropna().mean()\n",
    "        self.var_ = X.dropna().var()\n",
    "        return self\n",
    "\n",
    "    def transform(self, X):\n",
    "        mean = self.mean_\n",
    "        std_dev = np.sqrt(self.var_)\n",
    "        if std_dev == 0:\n",
    "            return X\n",
    "        return (X-mean)/std_dev\n",
    "    \n",
    "def fit_scalers(df, mapper):\n",
    "    warnings.filterwarnings('ignore', category=sklearn.exceptions.DataConversionWarning)\n",
    "    if mapper is None:\n",
    "        map_f = [([n],StandardScalerNew()) for n in df.columns if is_numeric_dtype(df[n])]\n",
    "        mapper = DataFrameMapper(map_f).fit(df)\n",
    "    return mapper\n",
    "\n",
    "def count_emb_lvls(c, n):\n",
    "    return (n, len(c.cat.categories)+1)\n",
    "\n",
    "def proc_df_new(df, y_fld=None, skip_flds=None, do_scale=False, na_dict=None, preproc_fn=None, max_n_cat=None, subset=None, mapper=None):\n",
    "    if not skip_flds: skip_flds=[]\n",
    "    if subset: df = get_sample(df,subset)\n",
    "    df = df.copy()\n",
    "    if preproc_fn: preproc_fn(df)\n",
    "    if y_fld is None: y = None\n",
    "    else:\n",
    "        if not is_numeric_dtype(df[y_fld]): df[y_fld] = df[y_fld].cat.codes\n",
    "        y = df[y_fld].values\n",
    "        skip_flds += [y_fld]\n",
    "    df.drop(skip_flds, axis=1, inplace=True)\n",
    "\n",
    "    # fit the scalers\n",
    "    if do_scale: mapper = fit_scalers(df, mapper)    \n",
    "    if na_dict is None: na_dict = {}\n",
    "    # then fillna\n",
    "    for n,c in df.items(): na_dict = fix_missing(df, c, n, na_dict)\n",
    "    # finally transform\n",
    "    df[mapper.transformed_names_] = mapper.transform(df)\n",
    "    # numericalize cats and count emb_lvls\n",
    "    emb_lvls=[]\n",
    "    for n,c in df.items():\n",
    "        numericalize(df, c, n, max_n_cat)\n",
    "        if not is_numeric_dtype(c):\n",
    "            emb_lvls.append(count_emb_lvls(c, n))\n",
    "    df = pd.get_dummies(df, dummy_na=True)\n",
    "    # return the result\n",
    "    res = [pd.get_dummies(df, dummy_na=True), y, na_dict, emb_lvls]\n",
    "    if do_scale: res = res + [mapper]\n",
    "    return res"
   ]
  },
  {
   "cell_type": "code",
   "execution_count": 9,
   "metadata": {
    "ExecuteTime": {
     "end_time": "2018-03-24T22:27:00.836667Z",
     "start_time": "2018-03-24T22:27:00.331243Z"
    }
   },
   "outputs": [
    {
     "name": "stdout",
     "output_type": "stream",
     "text": [
      "[('categorical', 5)]\n",
      "col: num_0, mean: 0.0014843667751694922, std_dev: 1.0006075935637342\n",
      "col: num_1, mean: 0.00041876392460569605, std_dev: 1.0025497097410379\n",
      "col: num_2, mean: 0.007199023519144798, std_dev: 0.9932198460835925\n"
     ]
    }
   ],
   "source": [
    "X_train_n, y_train_n, nas_train_n, emb_lvls_train_n, mapper_train_n = proc_df_new(train, do_scale=True)\n",
    "print(emb_lvls_train_n)\n",
    "mapper_check(mapper_train_n)"
   ]
  },
  {
   "cell_type": "code",
   "execution_count": 10,
   "metadata": {
    "ExecuteTime": {
     "end_time": "2018-03-24T22:27:00.939186Z",
     "start_time": "2018-03-24T22:27:00.891194Z"
    }
   },
   "outputs": [
    {
     "name": "stdout",
     "output_type": "stream",
     "text": [
      "[('categorical', 7)]\n"
     ]
    }
   ],
   "source": [
    "X_valid_n, y_valid_n, nas_valid_n, emb_lvls_valid_n, mapper_valid_n = proc_df_new(valid, do_scale=True, na_dict=nas_train)\n",
    "print(emb_lvls_valid_n)\n",
    "assert(nas_train == nas_valid)"
   ]
  },
  {
   "cell_type": "code",
   "execution_count": 16,
   "metadata": {
    "ExecuteTime": {
     "end_time": "2018-03-24T22:28:31.769431Z",
     "start_time": "2018-03-24T22:28:31.714230Z"
    }
   },
   "outputs": [
    {
     "data": {
      "text/html": [
       "<div>\n",
       "<style scoped>\n",
       "    .dataframe tbody tr th:only-of-type {\n",
       "        vertical-align: middle;\n",
       "    }\n",
       "\n",
       "    .dataframe tbody tr th {\n",
       "        vertical-align: top;\n",
       "    }\n",
       "\n",
       "    .dataframe thead th {\n",
       "        text-align: right;\n",
       "    }\n",
       "</style>\n",
       "<table border=\"1\" class=\"dataframe\">\n",
       "  <thead>\n",
       "    <tr style=\"text-align: right;\">\n",
       "      <th></th>\n",
       "      <th>num_0</th>\n",
       "      <th>num_1</th>\n",
       "      <th>num_2</th>\n",
       "      <th>categorical</th>\n",
       "      <th>num_2_na</th>\n",
       "      <th>num_0_n</th>\n",
       "      <th>num_1_n</th>\n",
       "      <th>num_2_n</th>\n",
       "      <th>categorical_n</th>\n",
       "      <th>num_2_na_n</th>\n",
       "    </tr>\n",
       "  </thead>\n",
       "  <tbody>\n",
       "    <tr>\n",
       "      <th>0</th>\n",
       "      <td>0.898383</td>\n",
       "      <td>-0.093202</td>\n",
       "      <td>0.000096</td>\n",
       "      <td>4</td>\n",
       "      <td>0.235702</td>\n",
       "      <td>0.898382</td>\n",
       "      <td>-0.093202</td>\n",
       "      <td>0.000418</td>\n",
       "      <td>4</td>\n",
       "      <td>True</td>\n",
       "    </tr>\n",
       "    <tr>\n",
       "      <th>1</th>\n",
       "      <td>-1.160443</td>\n",
       "      <td>-0.924158</td>\n",
       "      <td>0.000096</td>\n",
       "      <td>3</td>\n",
       "      <td>0.235702</td>\n",
       "      <td>-1.160442</td>\n",
       "      <td>-0.924157</td>\n",
       "      <td>0.000418</td>\n",
       "      <td>3</td>\n",
       "      <td>True</td>\n",
       "    </tr>\n",
       "    <tr>\n",
       "      <th>949998</th>\n",
       "      <td>-0.896605</td>\n",
       "      <td>-0.174400</td>\n",
       "      <td>-7.596479</td>\n",
       "      <td>3</td>\n",
       "      <td>-4.242641</td>\n",
       "      <td>-0.896604</td>\n",
       "      <td>-0.174400</td>\n",
       "      <td>-1.742338</td>\n",
       "      <td>3</td>\n",
       "      <td>False</td>\n",
       "    </tr>\n",
       "    <tr>\n",
       "      <th>949999</th>\n",
       "      <td>-0.594665</td>\n",
       "      <td>-1.370013</td>\n",
       "      <td>-6.794065</td>\n",
       "      <td>3</td>\n",
       "      <td>-4.242641</td>\n",
       "      <td>-0.594665</td>\n",
       "      <td>-1.370012</td>\n",
       "      <td>-1.558254</td>\n",
       "      <td>3</td>\n",
       "      <td>False</td>\n",
       "    </tr>\n",
       "  </tbody>\n",
       "</table>\n",
       "</div>"
      ],
      "text/plain": [
       "           num_0     num_1     num_2  categorical  num_2_na   num_0_n  \\\n",
       "0       0.898383 -0.093202  0.000096            4  0.235702  0.898382   \n",
       "1      -1.160443 -0.924158  0.000096            3  0.235702 -1.160442   \n",
       "949998 -0.896605 -0.174400 -7.596479            3 -4.242641 -0.896604   \n",
       "949999 -0.594665 -1.370013 -6.794065            3 -4.242641 -0.594665   \n",
       "\n",
       "         num_1_n   num_2_n  categorical_n  num_2_na_n  \n",
       "0      -0.093202  0.000418              4        True  \n",
       "1      -0.924157  0.000418              3        True  \n",
       "949998 -0.174400 -1.742338              3       False  \n",
       "949999 -1.370012 -1.558254              3       False  "
      ]
     },
     "execution_count": 16,
     "metadata": {},
     "output_type": "execute_result"
    }
   ],
   "source": [
    "pd.concat([X_train.join(X_train_n, how='outer', rsuffix='_n').head(2),X_train.join(X_train_n, how='outer', rsuffix='_n').tail(2)])"
   ]
  },
  {
   "cell_type": "code",
   "execution_count": 17,
   "metadata": {
    "ExecuteTime": {
     "end_time": "2018-03-24T22:28:47.190983Z",
     "start_time": "2018-03-24T22:28:47.148517Z"
    }
   },
   "outputs": [
    {
     "data": {
      "text/html": [
       "<div>\n",
       "<style scoped>\n",
       "    .dataframe tbody tr th:only-of-type {\n",
       "        vertical-align: middle;\n",
       "    }\n",
       "\n",
       "    .dataframe tbody tr th {\n",
       "        vertical-align: top;\n",
       "    }\n",
       "\n",
       "    .dataframe thead th {\n",
       "        text-align: right;\n",
       "    }\n",
       "</style>\n",
       "<table border=\"1\" class=\"dataframe\">\n",
       "  <thead>\n",
       "    <tr style=\"text-align: right;\">\n",
       "      <th></th>\n",
       "      <th>num_0</th>\n",
       "      <th>num_1</th>\n",
       "      <th>num_2</th>\n",
       "      <th>categorical</th>\n",
       "      <th>num_2_na</th>\n",
       "      <th>num_0_n</th>\n",
       "      <th>num_1_n</th>\n",
       "      <th>num_2_n</th>\n",
       "      <th>categorical_n</th>\n",
       "      <th>num_2_na_n</th>\n",
       "    </tr>\n",
       "  </thead>\n",
       "  <tbody>\n",
       "    <tr>\n",
       "      <th>950000</th>\n",
       "      <td>0.469347</td>\n",
       "      <td>-0.293232</td>\n",
       "      <td>-0.445110</td>\n",
       "      <td>1</td>\n",
       "      <td>0.0</td>\n",
       "      <td>0.469342</td>\n",
       "      <td>-0.293229</td>\n",
       "      <td>-0.445105</td>\n",
       "      <td>1</td>\n",
       "      <td>False</td>\n",
       "    </tr>\n",
       "    <tr>\n",
       "      <th>950001</th>\n",
       "      <td>1.142744</td>\n",
       "      <td>-1.798259</td>\n",
       "      <td>0.536568</td>\n",
       "      <td>4</td>\n",
       "      <td>0.0</td>\n",
       "      <td>1.142733</td>\n",
       "      <td>-1.798241</td>\n",
       "      <td>0.536562</td>\n",
       "      <td>4</td>\n",
       "      <td>False</td>\n",
       "    </tr>\n",
       "    <tr>\n",
       "      <th>999998</th>\n",
       "      <td>-0.533348</td>\n",
       "      <td>-0.551918</td>\n",
       "      <td>-0.562895</td>\n",
       "      <td>6</td>\n",
       "      <td>0.0</td>\n",
       "      <td>-0.533343</td>\n",
       "      <td>-0.551913</td>\n",
       "      <td>-0.562889</td>\n",
       "      <td>6</td>\n",
       "      <td>False</td>\n",
       "    </tr>\n",
       "    <tr>\n",
       "      <th>999999</th>\n",
       "      <td>2.912771</td>\n",
       "      <td>0.267068</td>\n",
       "      <td>-0.583958</td>\n",
       "      <td>5</td>\n",
       "      <td>0.0</td>\n",
       "      <td>2.912742</td>\n",
       "      <td>0.267066</td>\n",
       "      <td>-0.583952</td>\n",
       "      <td>5</td>\n",
       "      <td>False</td>\n",
       "    </tr>\n",
       "  </tbody>\n",
       "</table>\n",
       "</div>"
      ],
      "text/plain": [
       "           num_0     num_1     num_2  categorical  num_2_na   num_0_n  \\\n",
       "950000  0.469347 -0.293232 -0.445110            1       0.0  0.469342   \n",
       "950001  1.142744 -1.798259  0.536568            4       0.0  1.142733   \n",
       "999998 -0.533348 -0.551918 -0.562895            6       0.0 -0.533343   \n",
       "999999  2.912771  0.267068 -0.583958            5       0.0  2.912742   \n",
       "\n",
       "         num_1_n   num_2_n  categorical_n  num_2_na_n  \n",
       "950000 -0.293229 -0.445105              1       False  \n",
       "950001 -1.798241  0.536562              4       False  \n",
       "999998 -0.551913 -0.562889              6       False  \n",
       "999999  0.267066 -0.583952              5       False  "
      ]
     },
     "execution_count": 17,
     "metadata": {},
     "output_type": "execute_result"
    }
   ],
   "source": [
    "pd.concat([X_valid.join(X_valid_n, how='outer', rsuffix='_n').head(2),X_valid.join(X_valid_n, how='outer', rsuffix='_n').tail(2)])"
   ]
  },
  {
   "cell_type": "code",
   "execution_count": null,
   "metadata": {},
   "outputs": [],
   "source": []
  }
 ],
 "metadata": {
  "kernelspec": {
   "display_name": "Python 3",
   "language": "python",
   "name": "python3"
  },
  "language_info": {
   "codemirror_mode": {
    "name": "ipython",
    "version": 3
   },
   "file_extension": ".py",
   "mimetype": "text/x-python",
   "name": "python",
   "nbconvert_exporter": "python",
   "pygments_lexer": "ipython3",
   "version": "3.6.3"
  }
 },
 "nbformat": 4,
 "nbformat_minor": 2
}

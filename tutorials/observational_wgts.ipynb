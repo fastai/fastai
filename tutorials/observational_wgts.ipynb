{
 "cells": [
  {
   "cell_type": "code",
   "execution_count": 1,
   "metadata": {},
   "outputs": [
    {
     "data": {
      "application/javascript": [
       "IPython.notebook.set_autosave_interval(0)"
      ]
     },
     "metadata": {},
     "output_type": "display_data"
    },
    {
     "name": "stdout",
     "output_type": "stream",
     "text": [
      "Autosave disabled\n"
     ]
    }
   ],
   "source": [
    "%reload_ext autoreload\n",
    "%autoreload 2\n",
    "%matplotlib inline\n",
    "%autosave 0\n",
    "from fastai.column_data import *\n",
    "import seaborn as sns\n",
    "warnings.filterwarnings('ignore')"
   ]
  },
  {
   "cell_type": "markdown",
   "metadata": {},
   "source": [
    "### Generate Data"
   ]
  },
  {
   "cell_type": "markdown",
   "metadata": {},
   "source": [
    "Create input features - x1, x2, and x3 - and their effect on the reponse variable through the `scale` object. We'll later pass `scale` to numpy's `random.gamma()` method to generate a gamma-distributed response variable."
   ]
  },
  {
   "cell_type": "code",
   "execution_count": 2,
   "metadata": {},
   "outputs": [
    {
     "data": {
      "text/plain": [
       "<matplotlib.axes._subplots.AxesSubplot at 0x1fc1d851748>"
      ]
     },
     "execution_count": 2,
     "metadata": {},
     "output_type": "execute_result"
    },
    {
     "data": {
      "image/png": "[encoded data removed]",
      "text/plain": [
       "<Figure size 432x288 with 1 Axes>"
      ]
     },
     "metadata": {},
     "output_type": "display_data"
    }
   ],
   "source": [
    "n = 10000\n",
    "np.random.seed(90210)\n",
    "x1 = np.random.uniform(0, 5, n)\n",
    "x2 = np.random.normal(100, 20, n)\n",
    "x3 = np.random.choice((1,2,3,4,5), n, p = (0.35, 0.2, 0.05, 0.25, 0.15))\n",
    "scale = np.clip(3.2 * x1 + 0.05 * x2 + 2.15 * x3 - 0.12*x1*x3, a_min = 5, a_max = 1e15)\n",
    "sns.distplot(scale)"
   ]
  },
  {
   "cell_type": "markdown",
   "metadata": {},
   "source": [
    "Observation weights, `w`, will also be randomly generated. Each record in the dataset will be observed between 0.5 and 1.5 time units. This type of data often appears in modeling problems where observation periods vary between records in the dataset or when new records are created when something about the observational unit changes throughout the observation period. It is very common in insurance modeling, for instance."
   ]
  },
  {
   "cell_type": "code",
   "execution_count": 3,
   "metadata": {},
   "outputs": [],
   "source": [
    "w = np.random.uniform(0.5, 1.5, n)"
   ]
  },
  {
   "cell_type": "markdown",
   "metadata": {},
   "source": [
    "Standardize the numerical features for the neural network. We'll assume that `x3` is categorical and so this only needs to be done for `x1` and `x2`. Note tha we standardize with the weighted mean and weighted standard deviation. It woud likely be fine to not standardize with weights."
   ]
  },
  {
   "cell_type": "code",
   "execution_count": 4,
   "metadata": {},
   "outputs": [],
   "source": [
    "def standardize(x, w):\n",
    "    wgtd_avg = np.average(x, weights = w)\n",
    "    wgtd_avg_2 = np.average(x**2, weights = w)\n",
    "    return (x - wgtd_avg) / np.sqrt(wgtd_avg_2 - wgtd_avg**2)"
   ]
  },
  {
   "cell_type": "code",
   "execution_count": 5,
   "metadata": {},
   "outputs": [],
   "source": [
    "x1 = standardize(x1, w)\n",
    "x2 = standardize(x2, w)"
   ]
  },
  {
   "cell_type": "markdown",
   "metadata": {},
   "source": [
    "Bundle the input features into both a numpy array and then a pandas dataframe. For our model, we'll need to select an embedding size for feature `x3`. We'll use the formula: \\begin{equation*} embeddings = floor(\\frac{cardinality\\ of\\ feature + 1}{2}) \\end{equation*}"
   ]
  },
  {
   "cell_type": "code",
   "execution_count": 6,
   "metadata": {},
   "outputs": [],
   "source": [
    "x = np.stack((x1, x2, x3), axis = 1)\n",
    "df = pd.DataFrame(x, columns = ['x1', 'x2', 'x3'])\n",
    "df['x3'] = df.x3.astype('category').cat.codes\n",
    "x3_uniques = df.x3.nunique()\n",
    "emb_sz = [(x3_uniques, (x3_uniques + 1)//2)]"
   ]
  },
  {
   "cell_type": "markdown",
   "metadata": {},
   "source": [
    "Finally, create a gamma-distributed response variable, `y`, which is assumed to have a scale parameter defined by the linear combination of the input features encoded into `scale` with a constant shape parameter of `1.2`."
   ]
  },
  {
   "cell_type": "code",
   "execution_count": 7,
   "metadata": {},
   "outputs": [
    {
     "data": {
      "text/plain": [
       "<matplotlib.axes._subplots.AxesSubplot at 0x1fc1d95c5c0>"
      ]
     },
     "execution_count": 7,
     "metadata": {},
     "output_type": "execute_result"
    },
    {
     "data": {
      "image/png": "[encoded data removed]",
      "text/plain": [
       "<Figure size 432x288 with 1 Axes>"
      ]
     },
     "metadata": {},
     "output_type": "display_data"
    }
   ],
   "source": [
    "y = np.random.gamma(shape = 1.2, scale = scale, size = n)\n",
    "y_range = [0., y.max()]\n",
    "sns.distplot(y)"
   ]
  },
  {
   "cell_type": "markdown",
   "metadata": {},
   "source": [
    "### Model Data Object"
   ]
  },
  {
   "cell_type": "markdown",
   "metadata": {},
   "source": [
    "We'll make model data object from the pandas dataframe, `x` that we created above. Notice the new method `from_data_frame_wgts` and the argument `w` for observation weights. Every method that has been updated to account for observation weights will have a `_wgts` suffix and will take a `w` argument"
   ]
  },
  {
   "cell_type": "code",
   "execution_count": 8,
   "metadata": {},
   "outputs": [],
   "source": [
    "val_idxs = np.random.permutation(len(y))[:3000]"
   ]
  },
  {
   "cell_type": "code",
   "execution_count": 9,
   "metadata": {},
   "outputs": [],
   "source": [
    "md_frame = ColumnarModelData.from_data_frame_wgts(path = '.', val_idxs = val_idxs, df = df, y = y, w = w, cat_flds = ['x3'], bs = 64)"
   ]
  },
  {
   "cell_type": "markdown",
   "metadata": {},
   "source": [
    "Let's make sure that we can find the observation weights in the training dataset"
   ]
  },
  {
   "cell_type": "code",
   "execution_count": 10,
   "metadata": {},
   "outputs": [
    {
     "data": {
      "text/plain": [
       "((7000, 1), array([[1.27281],\n",
       "        [0.60026],\n",
       "        [1.17155],\n",
       "        [0.8497 ],\n",
       "        [0.52879],\n",
       "        [0.50638],\n",
       "        [1.25269],\n",
       "        [1.40499],\n",
       "        [0.96872],\n",
       "        [1.38995]]))"
      ]
     },
     "execution_count": 10,
     "metadata": {},
     "output_type": "execute_result"
    }
   ],
   "source": [
    "md_frame.trn_w.shape, md_frame.trn_w[0:10]"
   ]
  },
  {
   "cell_type": "markdown",
   "metadata": {},
   "source": [
    "### Custom Loss and Evaluation Metric"
   ]
  },
  {
   "cell_type": "markdown",
   "metadata": {},
   "source": [
    "Now that we have observational weights in our datasets and data loaders, we need to make sure our model's loss function and our evaluation metric that we'll be using to monitor learning can accept observational weights. Not doing so will cause an error. PyTorch doesn't not supply weighted loss functions, so we'll need to create our own. Deviance, which is a general distance measure between prediction and response that accounts for non-nomal response distributions, is a good choice for our loss function. It is proportional to negative loglikelihood. See https://en.wikipedia.org/wiki/Deviance_(statistics). To monitor training we'll use weighted Mean Absolute Error."
   ]
  },
  {
   "cell_type": "code",
   "execution_count": 11,
   "metadata": {},
   "outputs": [],
   "source": [
    "def wgtd_dev(prds, resp, wgts):\n",
    "    prds.data.clamp_(min = 1e-5) # predictions must be positive\n",
    "    dev = -2.0 * wgts * (torch.log(resp/prds) - (resp - prds) / prds)\n",
    "    return dev.sum() / wgts.sum()\n",
    "\n",
    "def wgtd_mae(prds, resp, wgts):\n",
    "    ae = torch.abs(prds - resp)\n",
    "    return ae.sum() / wgts.sum()"
   ]
  },
  {
   "cell_type": "markdown",
   "metadata": {},
   "source": [
    "### Train model"
   ]
  },
  {
   "cell_type": "markdown",
   "metadata": {},
   "source": [
    "On the first pass, we'll not use a fastai `learner`. Instead, we'll pass the model data and model itself to the `fit` function."
   ]
  },
  {
   "cell_type": "code",
   "execution_count": 12,
   "metadata": {},
   "outputs": [
    {
     "data": {
      "application/vnd.jupyter.widget-view+json": {
       "model_id": "7a5370acfad146c5928a7a1246423191",
       "version_major": 2,
       "version_minor": 0
      },
      "text/plain": [
       "HBox(children=(IntProgress(value=0, description='Epoch', max=3), HTML(value='')))"
      ]
     },
     "metadata": {},
     "output_type": "display_data"
    },
    {
     "name": "stdout",
     "output_type": "stream",
     "text": [
      "epoch      trn_loss   val_loss   wgtd_mae                                                                              \n",
      "    0      2.551857   2.260304   62.414538 \n",
      "    1      1.4651     1.075139   18.005387                                                                             \n",
      "    2      1.083785   0.984699   15.648591                                                                             \n",
      "\n"
     ]
    },
    {
     "data": {
      "text/plain": [
       "[array([0.9847]), 15.64859113387261]"
      ]
     },
     "execution_count": 12,
     "metadata": {},
     "output_type": "execute_result"
    }
   ],
   "source": [
    "m = MixedInputModel(emb_szs = emb_sz, n_cont = len(df.columns)-1, emb_drop = 0., out_sz = 1, szs = [10],\n",
    "                    drops = [0.1], y_range = y_range, use_bn = True)\n",
    "opt = optim.Adam(m.parameters(), 1e-3)\n",
    "fit(model = m, data = md_frame, n_epochs = 3, opt = opt, crit = wgtd_dev, metrics = [wgtd_mae])"
   ]
  },
  {
   "cell_type": "markdown",
   "metadata": {},
   "source": [
    "Now we'll use a `learner` object so that we can find a good learning rate. Notice that we need to pass our user-defined loss function to `crit=`."
   ]
  },
  {
   "cell_type": "code",
   "execution_count": 13,
   "metadata": {},
   "outputs": [],
   "source": [
    "learner = md_frame.get_learner(emb_szs = emb_sz, n_cont = len(df.columns)-1, emb_drop = 0., out_sz = 1,\n",
    "                               szs = [10], drops = [0.1], y_range = y_range, use_bn = True, \n",
    "                               crit = wgtd_dev, metrics = [wgtd_mae])"
   ]
  },
  {
   "cell_type": "code",
   "execution_count": 14,
   "metadata": {},
   "outputs": [
    {
     "data": {
      "application/vnd.jupyter.widget-view+json": {
       "model_id": "dd426df2dc0546d8934d25e02a15f659",
       "version_major": 2,
       "version_minor": 0
      },
      "text/plain": [
       "HBox(children=(IntProgress(value=0, description='Epoch', max=1), HTML(value='')))"
      ]
     },
     "metadata": {},
     "output_type": "display_data"
    },
    {
     "name": "stdout",
     "output_type": "stream",
     "text": [
      " 44%|██████████████████████████████                                       | 48/110 [00:00<00:00, 479.98it/s, loss=2.64]\n",
      "                                                                                                                       \r"
     ]
    }
   ],
   "source": [
    "learner.lr_find()"
   ]
  },
  {
   "cell_type": "code",
   "execution_count": 15,
   "metadata": {},
   "outputs": [
    {
     "data": {
      "image/png": "[encoded data removed]",
      "text/plain": [
       "<Figure size 432x288 with 1 Axes>"
      ]
     },
     "metadata": {},
     "output_type": "display_data"
    }
   ],
   "source": [
    "learner.sched.plot(n_skip_end = 0)"
   ]
  },
  {
   "cell_type": "markdown",
   "metadata": {},
   "source": [
    "Looks like we can select a large learning rate. Let's select `0.2`"
   ]
  },
  {
   "cell_type": "code",
   "execution_count": 16,
   "metadata": {},
   "outputs": [
    {
     "data": {
      "application/vnd.jupyter.widget-view+json": {
       "model_id": "139614a9605a4419a39f7441183ed061",
       "version_major": 2,
       "version_minor": 0
      },
      "text/plain": [
       "HBox(children=(IntProgress(value=0, description='Epoch', max=3), HTML(value='')))"
      ]
     },
     "metadata": {},
     "output_type": "display_data"
    },
    {
     "name": "stdout",
     "output_type": "stream",
     "text": [
      "epoch      trn_loss   val_loss   wgtd_mae                                                                              \n",
      "    0      1.060752   0.948967   14.140661 \n",
      "    1      1.001423   1.033588   13.873948                                                                             \n",
      "    2      0.980037   0.986358   15.62873                                                                              \n",
      "\n"
     ]
    },
    {
     "data": {
      "text/plain": [
       "[array([0.98636]), 15.6287303577572]"
      ]
     },
     "execution_count": 16,
     "metadata": {},
     "output_type": "execute_result"
    }
   ],
   "source": [
    "learner.fit(lrs = 0.2, n_cycle = 3)"
   ]
  }
 ],
 "metadata": {
  "kernelspec": {
   "display_name": "Python 3",
   "language": "python",
   "name": "python3"
  },
  "language_info": {
   "codemirror_mode": {
    "name": "ipython",
    "version": 3
   },
   "file_extension": ".py",
   "mimetype": "text/x-python",
   "name": "python",
   "nbconvert_exporter": "python",
   "pygments_lexer": "ipython3",
   "version": "3.6.6"
  }
 },
 "nbformat": 4,
 "nbformat_minor": 2
}

{
 "cells": [
  {
   "cell_type": "code",
   "execution_count": 1,
   "metadata": {},
   "outputs": [],
   "source": [
    "%reload_ext autoreload\n",
    "%autoreload 2\n",
    "%matplotlib inline"
   ]
  },
  {
   "cell_type": "code",
   "execution_count": 2,
   "metadata": {},
   "outputs": [],
   "source": [
    "from fastai.gen_doc import nbdoc\n",
    "from fastai.gen_doc.nbdoc import *"
   ]
  },
  {
   "cell_type": "code",
   "execution_count": 3,
   "metadata": {},
   "outputs": [],
   "source": [
    "from pathlib import Path\n",
    "import inspect\n",
    "import re\n",
    "import os"
   ]
  },
  {
   "cell_type": "code",
   "execution_count": 4,
   "metadata": {},
   "outputs": [],
   "source": [
    "def get_test_dir(elt):\n",
    "    fp = inspect.getfile(elt)\n",
    "    fp.index('fastai/fastai')\n",
    "    test_dir = Path(re.sub(r\"fastai/fastai/.*\", \"fastai/tests\", fp))\n",
    "    if not test_dir.exists(): raise Exception('Could not find test path at this location:', test_dir)\n",
    "    return test_dir"
   ]
  },
  {
   "cell_type": "code",
   "execution_count": 5,
   "metadata": {},
   "outputs": [],
   "source": [
    "def submodule(elt):\n",
    "    modules = elt.__module__.split('.')\n",
    "    if len(modules) > 2:\n",
    "        return modules[1]\n",
    "    return None"
   ]
  },
  {
   "cell_type": "code",
   "execution_count": 6,
   "metadata": {},
   "outputs": [],
   "source": [
    "def get_test_files(elt):\n",
    "    test_dir = get_test_dir(elt)\n",
    "    fp = inspect.getfile(elt)\n",
    "    def is_match(file_name):\n",
    "        sub_dir = submodule(elt)\n",
    "        if sub_dir is not None:\n",
    "            return re.match(f'test_{sub_dir}\\w*{Path(fp).stem}\\w*\\.py', file_name)\n",
    "        return re.match(f'test\\w*{Path(fp).stem}\\w*\\.py', file_name)\n",
    "    matches = [test_dir/o.name for o in os.scandir(test_dir) if is_match(o.name)]\n",
    "    if len(matches) != 1: \n",
    "        print('Could not find exact file match:', matches)\n",
    "    return matches"
   ]
  },
  {
   "cell_type": "code",
   "execution_count": 7,
   "metadata": {},
   "outputs": [],
   "source": [
    "def find_direct_test_function_match(elt, lines):\n",
    "    fn_name = nbdoc.fn_name(elt)\n",
    "    result = []\n",
    "    for idx,line in enumerate(lines):\n",
    "        if re.match(f'^def test_\\w*{fn_name}\\w*\\(.*', line):\n",
    "            result.append((idx,line))\n",
    "    return result"
   ]
  },
  {
   "cell_type": "code",
   "execution_count": 8,
   "metadata": {},
   "outputs": [],
   "source": [
    "def get_lines(file):\n",
    "    with open(file, 'r') as f:\n",
    "        return f.readlines()"
   ]
  },
  {
   "cell_type": "code",
   "execution_count": 9,
   "metadata": {},
   "outputs": [],
   "source": [
    "def _fuzzy_line_match(elt, lines):\n",
    "    fn_name = nbdoc.fn_name(elt)\n",
    "    result = []\n",
    "    for idx,line in enumerate(lines):\n",
    "        if re.match(f'.*[\\s\\.\\(]{fn_name}[\\.\\(]', line):\n",
    "            result.append((idx,line))\n",
    "    return result"
   ]
  },
  {
   "cell_type": "code",
   "execution_count": 10,
   "metadata": {},
   "outputs": [],
   "source": [
    "def _get_parent_func(lineno, lines):\n",
    "    for idx,l in enumerate(reversed(lines[:lineno])):\n",
    "        if re.match(f'^def test', l):\n",
    "            return (lineno - (idx+1)), l\n",
    "    return None"
   ]
  },
  {
   "cell_type": "code",
   "execution_count": 11,
   "metadata": {},
   "outputs": [],
   "source": [
    "def fuzzy_match(elt, lines):\n",
    "    fuzzy_line_matches = _fuzzy_line_match(elt, lines)\n",
    "    fuzzy_matches = [_get_parent_func(lineno, lines) for lineno,line in fuzzy_line_matches]\n",
    "    fuzzy_matches = list(filter(None.__ne__, fuzzy_matches))\n",
    "    return fuzzy_matches"
   ]
  },
  {
   "cell_type": "code",
   "execution_count": 12,
   "metadata": {},
   "outputs": [],
   "source": [
    "def find_test_lines(elt, test_file):\n",
    "    with open(test_file, 'r') as f:\n",
    "        lines = f.readlines()\n",
    "    direct_matches = find_direct_test_function_match(elt, lines)\n",
    "    fuzzy_matches = fuzzy_match(elt, lines)\n",
    "    return direct_matches, fuzzy_matches"
   ]
  },
  {
   "cell_type": "code",
   "execution_count": null,
   "metadata": {},
   "outputs": [],
   "source": [
    "def relative_test_path(test_file)\n",
    "    return '/'.join(test_file.parts[-2:])"
   ]
  },
  {
   "cell_type": "code",
   "execution_count": 34,
   "metadata": {},
   "outputs": [],
   "source": [
    "def pytest_command(line, test_file):\n",
    "    test_name = re.match(f'^def (test\\w*)', line).groups(0)[0]\n",
    "    test_path = relative_test_path(test_file)\n",
    "    return f'pytest -sv -k {test_name} {test_path}'"
   ]
  },
  {
   "cell_type": "code",
   "execution_count": 35,
   "metadata": {},
   "outputs": [],
   "source": [
    "from fastai.basic_data import DataBunch"
   ]
  },
  {
   "cell_type": "code",
   "execution_count": 36,
   "metadata": {},
   "outputs": [],
   "source": [
    "from fastai.text.data import TextList"
   ]
  },
  {
   "cell_type": "code",
   "execution_count": 37,
   "metadata": {},
   "outputs": [],
   "source": [
    "elt = TextList"
   ]
  },
  {
   "cell_type": "code",
   "execution_count": null,
   "metadata": {},
   "outputs": [],
   "source": [
    "SOURCE_URL = 'https://github.com/fastai/fastai/blob/master/'"
   ]
  },
  {
   "cell_type": "code",
   "execution_count": null,
   "metadata": {},
   "outputs": [],
   "source": [
    "def source_link(lno, test_file):\n",
    "    test_path = relative_test_path(test_file)\n",
    "    return f'{SOURCE_URL}{test_path}#L{lno}'\n"
   ]
  },
  {
   "cell_type": "code",
   "execution_count": null,
   "metadata": {},
   "outputs": [],
   "source": [
    "def get_links(lno, line, test_file):\n",
    "    return source_link(lno, test_file), pytest_command(l, test_file)"
   ]
  },
  {
   "cell_type": "code",
   "execution_count": 38,
   "metadata": {},
   "outputs": [],
   "source": [
    "def get_tests(elt):\n",
    "    test_dir = get_test_dir(elt)\n",
    "    test_files = get_test_files(elt)\n",
    "    all_direct_matches = []\n",
    "    all_fuzzy_matches = []\n",
    "    for test_file in test_files:\n",
    "        direct_matches, fuzzy_matches = find_test_lines(elt, test_file)\n",
    "        for lno,l in direct_matches: all_direct_matches.append(get_links(lno,l,test_file))\n",
    "        for lno,l in fuzzy_matches: all_fuzzy_matches.append(get_links(lno,l,test_file))\n",
    "    return all_direct_matches, all_fuzzy_matches"
   ]
  },
  {
   "cell_type": "code",
   "execution_count": 40,
   "metadata": {},
   "outputs": [
    {
     "data": {
      "text/plain": [
       "([(17, 'pytest -sv -k test_DataBunch_Create tests/test_basic_data.py'),\n",
       "  (30, 'pytest -sv -k test_DataBunch_onebatch tests/test_basic_data.py'),\n",
       "  (38, 'pytest -sv -k test_DataBunch_oneitem tests/test_basic_data.py'),\n",
       "  (45, 'pytest -sv -k test_DataBunch_show_batch tests/test_basic_data.py')],\n",
       " [(17, 'pytest -sv -k test_DataBunch_Create tests/test_basic_data.py')])"
      ]
     },
     "execution_count": 40,
     "metadata": {},
     "output_type": "execute_result"
    }
   ],
   "source": [
    "get_tests(DataBunch)"
   ]
  },
  {
   "cell_type": "code",
   "execution_count": 58,
   "metadata": {},
   "outputs": [],
   "source": [
    "from nbconvert import HTMLExporter\n",
    "from IPython.core import page\n",
    "from IPython.core.display import display, Markdown, HTML"
   ]
  },
  {
   "cell_type": "code",
   "execution_count": 132,
   "metadata": {},
   "outputs": [],
   "source": [
    "def show_doctest(elt, markdown=True):\n",
    "    fn_name = nbdoc.fn_name(elt)\n",
    "    md = f'Tests found for `{fn_name}`:'\n",
    "    duplicates = set()\n",
    "    dms, fms = get_tests(elt)\n",
    "    dm_str = ''\n",
    "    for link,cmd in dms:\n",
    "        if link in duplicates: continue\n",
    "        dm_str += '\\n * `{cmd}` [\\[source\\]]({link})'\n",
    "        duplicates.add(link)\n",
    "    if dm_str: md += '\\n\\nDirect Tests:' + dm_str\n",
    "        \n",
    "    \n",
    "    fm_str = ''\n",
    "    for link,cmd in fms:\n",
    "        if link in duplicates: continue\n",
    "        fm_str += f'\\n * `{cmd}` [\\[source\\]]({link})'\n",
    "        duplicates.add(link)\n",
    "    if fm_str: md += '\\n\\nAncillary Tests:' + fm_str\n",
    "    md += f'\\n\\nSkeleton test:\\n```\\n{create_skeleton_test(elt)}\\n```'\n",
    "    if markdown: display(Markdown(md))\n",
    "    else: return md"
   ]
  },
  {
   "cell_type": "markdown",
   "metadata": {},
   "source": [
    "* Hello"
   ]
  },
  {
   "cell_type": "code",
   "execution_count": 133,
   "metadata": {},
   "outputs": [
    {
     "data": {
      "text/markdown": [
       "hey \n",
       " * hello"
      ],
      "text/plain": [
       "<IPython.core.display.Markdown object>"
      ]
     },
     "metadata": {},
     "output_type": "display_data"
    }
   ],
   "source": [
    "display(Markdown('hey \\n * hello'))"
   ]
  },
  {
   "cell_type": "code",
   "execution_count": 134,
   "metadata": {},
   "outputs": [],
   "source": [
    "def doctest(elt):\n",
    "    md = show_doctest(elt, markdown=False)\n",
    "    output = HTMLExporter().markdown2html(md)\n",
    "    try:    page.page({'text/html': output})\n",
    "    except: display(Markdown(md))"
   ]
  },
  {
   "cell_type": "code",
   "execution_count": 135,
   "metadata": {},
   "outputs": [
    {
     "data": {
      "text/markdown": [
       "Tests found for `TextList`:\n",
       "\n",
       "Ancillary Tests:\n",
       " * `pytest -sv -k test_from_folder tests/test_text_data.py` [\\[source\\]](28)\n",
       " * `pytest -sv -k test_filter_classes tests/test_text_data.py` [\\[source\\]](39)\n",
       " * `pytest -sv -k test_regression tests/test_text_data.py` [\\[source\\]](161)\n",
       "\n",
       "Skeleton test:\n",
       "```\n",
       "def test_TextList():\n",
       "\tpass\n",
       "```"
      ],
      "text/plain": [
       "<IPython.core.display.Markdown object>"
      ]
     },
     "metadata": {},
     "output_type": "display_data"
    }
   ],
   "source": [
    "show_doctest(elt)"
   ]
  },
  {
   "cell_type": "code",
   "execution_count": 119,
   "metadata": {},
   "outputs": [],
   "source": [
    "def create_skeleton_test(elt):\n",
    "    fn_name = nbdoc.fn_name(elt)\n",
    "    return f'def test_{fn_name}():\\n\\tpass'"
   ]
  },
  {
   "cell_type": "code",
   "execution_count": 95,
   "metadata": {},
   "outputs": [],
   "source": [
    "doctest(elt)"
   ]
  },
  {
   "cell_type": "code",
   "execution_count": 65,
   "metadata": {},
   "outputs": [
    {
     "data": {
      "text/plain": [
       "PosixPath('/Users/andrewshaw/Projects/ML/fastai/tests')"
      ]
     },
     "execution_count": 65,
     "metadata": {},
     "output_type": "execute_result"
    }
   ],
   "source": [
    "test_dir = get_test_dir(elt); test_dir"
   ]
  },
  {
   "cell_type": "code",
   "execution_count": 66,
   "metadata": {},
   "outputs": [
    {
     "data": {
      "text/plain": [
       "[PosixPath('/Users/andrewshaw/Projects/ML/fastai/tests/test_text_data.py')]"
      ]
     },
     "execution_count": 66,
     "metadata": {},
     "output_type": "execute_result"
    }
   ],
   "source": [
    "test_files = get_test_files(elt); test_files"
   ]
  },
  {
   "cell_type": "code",
   "execution_count": 67,
   "metadata": {},
   "outputs": [],
   "source": [
    "lines = get_lines(test_files[0])"
   ]
  },
  {
   "cell_type": "code",
   "execution_count": 68,
   "metadata": {},
   "outputs": [
    {
     "data": {
      "text/plain": [
       "[(31, \"    data = (TextList.from_folder(path/'temp')\\n\"),\n",
       " (43, \"        data = (TextList.from_folder(path/'temp')\\n\"),\n",
       " (164, \"    data = (TextList.from_df(df, path, cols='text')\\n\")]"
      ]
     },
     "execution_count": 68,
     "metadata": {},
     "output_type": "execute_result"
    }
   ],
   "source": [
    "fuzzy_match(elt, lines)"
   ]
  },
  {
   "cell_type": "code",
   "execution_count": 69,
   "metadata": {},
   "outputs": [
    {
     "data": {
      "text/plain": [
       "([],\n",
       " [(28, 'def test_from_folder():\\n'),\n",
       "  (39, 'def test_filter_classes():\\n'),\n",
       "  (161, 'def test_regression():\\n')])"
      ]
     },
     "execution_count": 69,
     "metadata": {},
     "output_type": "execute_result"
    }
   ],
   "source": [
    "find_test_lines(elt, test_files[0])"
   ]
  },
  {
   "cell_type": "code",
   "execution_count": 6,
   "metadata": {},
   "outputs": [],
   "source": [
    "def show_doc(elt, doc_string:bool=True, full_name:str=None, arg_comments:dict=None, title_level=None, alt_doc_string:str='',\n",
    "             ignore_warn:bool=False, markdown=True):\n",
    "    \"Show documentation for element `elt`. Supported types: class, Callable, and enum.\"\n",
    "    arg_comments = ifnone(arg_comments, {})\n",
    "    anchor_id = full_name or get_anchor(elt)\n",
    "    elt = getattr(elt, '__func__', elt)\n",
    "    full_name = full_name or fn_name(elt)\n",
    "    if inspect.isclass(elt):\n",
    "        if is_enum(elt.__class__):   name,args = get_enum_doc(elt, full_name)\n",
    "        else:                        name,args = get_cls_doc(elt, full_name)\n",
    "    elif isinstance(elt, Callable):  name,args = format_ft_def(elt, full_name)\n",
    "    else: raise Exception(f'doc definition not supported for {full_name}')\n",
    "    source_link = get_function_source(elt) if is_fastai_class(elt) else \"\"\n",
    "    title_level = ifnone(title_level, 2 if inspect.isclass(elt) else 4)\n",
    "    doc =  f'<h{title_level} id=\"{anchor_id}\">{name}{source_link}</h{title_level}>'\n",
    "    doc += f'\\n\\n> {args}'\n",
    "    if doc_string and (inspect.getdoc(elt) or arg_comments):\n",
    "        doc += format_docstring(elt, arg_comments, alt_doc_string, ignore_warn) + ' '\n",
    "    if markdown: display(Markdown(doc))\n",
    "    else: return doc\n",
    "\n",
    "def doc(elt):\n",
    "    \"Show `show_doc` info in preview window along with link to full docs.\"\n",
    "    global use_relative_links\n",
    "    use_relative_links = False\n",
    "    elt = getattr(elt, '__func__', elt)\n",
    "    md = show_doc(elt, markdown=False)\n",
    "    if is_fastai_class(elt):\n",
    "        md += f'\\n\\n<a href=\"{get_fn_link(elt)}\" target=\"_blank\" rel=\"noreferrer noopener\">Show in docs</a>'\n",
    "    output = HTMLExporter().markdown2html(md)\n",
    "    use_relative_links = True\n",
    "    page.page({'text/html': output})\n",
    "    #display(Markdown(md))"
   ]
  }
 ],
 "metadata": {
  "kernelspec": {
   "display_name": "Python 3",
   "language": "python",
   "name": "python3"
  },
  "language_info": {
   "codemirror_mode": {
    "name": "ipython",
    "version": 3
   },
   "file_extension": ".py",
   "mimetype": "text/x-python",
   "name": "python",
   "nbconvert_exporter": "python",
   "pygments_lexer": "ipython3",
   "version": "3.7.0"
  }
 },
 "nbformat": 4,
 "nbformat_minor": 2
}

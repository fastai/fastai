{
 "cells": [
  {
   "cell_type": "code",
   "execution_count": 1,
   "metadata": {},
   "outputs": [],
   "source": [
    "%reload_ext autoreload\n",
    "%autoreload 2\n",
    "%matplotlib inline"
   ]
  },
  {
   "cell_type": "code",
   "execution_count": 3,
   "metadata": {},
   "outputs": [],
   "source": [
    "from fastai.gen_doc.nbdoctest import show_doctest, doctest"
   ]
  },
  {
   "cell_type": "code",
   "execution_count": 5,
   "metadata": {},
   "outputs": [],
   "source": [
    "from fastai.basic_data import DataBunch"
   ]
  },
  {
   "cell_type": "code",
   "execution_count": 6,
   "metadata": {},
   "outputs": [],
   "source": [
    "from fastai.text.data import TextList"
   ]
  },
  {
   "cell_type": "code",
   "execution_count": 9,
   "metadata": {},
   "outputs": [
    {
     "data": {
      "text/markdown": [
       "Tests found for `DataBunch`:\n",
       "\n",
       "Direct Tests:\n",
       " * `pytest -sv -k test_DataBunch_Create tests/test_basic_data.py` [\\[source\\]](https://github.com/fastai/fastai/blob/master/tests/test_basic_data.py#L17)\n",
       " * `pytest -sv -k test_DataBunch_onebatch tests/test_basic_data.py` [\\[source\\]](https://github.com/fastai/fastai/blob/master/tests/test_basic_data.py#L30)\n",
       " * `pytest -sv -k test_DataBunch_oneitem tests/test_basic_data.py` [\\[source\\]](https://github.com/fastai/fastai/blob/master/tests/test_basic_data.py#L38)\n",
       " * `pytest -sv -k test_DataBunch_show_batch tests/test_basic_data.py` [\\[source\\]](https://github.com/fastai/fastai/blob/master/tests/test_basic_data.py#L45)\n",
       "\n",
       "Skeleton test:\n",
       "```\n",
       "def test_DataBunch():\n",
       "\tpass\n",
       "```"
      ],
      "text/plain": [
       "<IPython.core.display.Markdown object>"
      ]
     },
     "metadata": {},
     "output_type": "display_data"
    }
   ],
   "source": [
    "show_doctest(DataBunch)"
   ]
  },
  {
   "cell_type": "code",
   "execution_count": 10,
   "metadata": {},
   "outputs": [
    {
     "data": {
      "text/markdown": [
       "Tests found for `TextList`:\n",
       "\n",
       "Ancillary Tests:\n",
       " * `pytest -sv -k test_from_folder tests/test_text_data.py` [\\[source\\]](https://github.com/fastai/fastai/blob/master/tests/test_text_data.py#L28)\n",
       " * `pytest -sv -k test_filter_classes tests/test_text_data.py` [\\[source\\]](https://github.com/fastai/fastai/blob/master/tests/test_text_data.py#L39)\n",
       " * `pytest -sv -k test_regression tests/test_text_data.py` [\\[source\\]](https://github.com/fastai/fastai/blob/master/tests/test_text_data.py#L161)\n",
       "\n",
       "Skeleton test:\n",
       "```\n",
       "def test_TextList():\n",
       "\tpass\n",
       "```"
      ],
      "text/plain": [
       "<IPython.core.display.Markdown object>"
      ]
     },
     "metadata": {},
     "output_type": "display_data"
    }
   ],
   "source": [
    "show_doctest(TextList)"
   ]
  },
  {
   "cell_type": "code",
   "execution_count": 11,
   "metadata": {},
   "outputs": [
    {
     "data": {
      "text/markdown": [
       "Tests found for `from_folder`:\n",
       "\n",
       "Direct Tests:\n",
       " * `pytest -sv -k test_from_folder tests/test_text_data.py` [\\[source\\]](https://github.com/fastai/fastai/blob/master/tests/test_text_data.py#L28)\n",
       "\n",
       "Ancillary Tests:\n",
       " * `pytest -sv -k test_filter_classes tests/test_text_data.py` [\\[source\\]](https://github.com/fastai/fastai/blob/master/tests/test_text_data.py#L39)\n",
       "\n",
       "Skeleton test:\n",
       "```\n",
       "def test_from_folder():\n",
       "\tpass\n",
       "```"
      ],
      "text/plain": [
       "<IPython.core.display.Markdown object>"
      ]
     },
     "metadata": {},
     "output_type": "display_data"
    }
   ],
   "source": [
    "show_doctest(TextList.from_folder)"
   ]
  }
 ],
 "metadata": {
  "kernelspec": {
   "display_name": "Python 3",
   "language": "python",
   "name": "python3"
  },
  "language_info": {
   "codemirror_mode": {
    "name": "ipython",
    "version": 3
   },
   "file_extension": ".py",
   "mimetype": "text/x-python",
   "name": "python",
   "nbconvert_exporter": "python",
   "pygments_lexer": "ipython3",
   "version": "3.7.0"
  }
 },
 "nbformat": 4,
 "nbformat_minor": 2
}

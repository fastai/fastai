{
 "cells": [
  {
   "cell_type": "code",
   "execution_count": 1,
   "metadata": {},
   "outputs": [],
   "source": [
    "%matplotlib inline\n",
    "%reload_ext autoreload\n",
    "%autoreload 2"
   ]
  },
  {
   "cell_type": "code",
   "execution_count": 2,
   "metadata": {},
   "outputs": [],
   "source": [
    "from fastai.conv_learner import *\n",
    "PATH = Path(\"../../Deeplearning/data/cifar10/\")"
   ]
  },
  {
   "cell_type": "code",
   "execution_count": 3,
   "metadata": {},
   "outputs": [
    {
     "name": "stdout",
     "output_type": "stream",
     "text": [
      " Volume in drive D has no label.\n",
      " Volume Serial Number is 625A-AF7A\n",
      "\n",
      " Directory of D:\\Work\\Deeplearning\\data\\cifar10\n",
      "\n",
      "04/06/2018  09:19 AM    <DIR>          .\n",
      "04/06/2018  09:19 AM    <DIR>          ..\n",
      "04/05/2018  04:51 PM            35,978 experiment0.png\n",
      "04/05/2018  04:57 PM            50,294 experiment1.png\n",
      "04/05/2018  04:50 PM            60,942 experiment2.png\n",
      "04/05/2018  07:02 PM            38,327 experiment3.png\n",
      "04/05/2018  07:25 PM            60,254 experiment4.png\n",
      "04/04/2018  11:25 AM                60 labels.txt\n",
      "04/05/2018  09:57 PM            27,226 lr_plot.png\n",
      "04/04/2018  11:51 AM    <DIR>          models\n",
      "04/06/2018  09:19 AM            45,830 schedule.png\n",
      "04/04/2018  11:50 AM    <DIR>          test\n",
      "04/04/2018  01:07 PM            35,731 test.jpg\n",
      "04/04/2018  01:09 PM            27,077 test.png\n",
      "04/04/2018  11:50 AM    <DIR>          tmp\n",
      "04/04/2018  11:48 AM    <DIR>          train\n",
      "              10 File(s)        381,719 bytes\n",
      "               6 Dir(s)  667,645,018,112 bytes free\n"
     ]
    }
   ],
   "source": [
    "! dir {PATH}"
   ]
  },
  {
   "cell_type": "code",
   "execution_count": 4,
   "metadata": {},
   "outputs": [],
   "source": [
    "classes = ('plane', 'car', 'bird', 'cat', 'deer', 'dog', 'frog', 'horse', 'ship', 'truck')\n",
    "stats = (np.array([ 0.4914 ,  0.48216,  0.44653]), np.array([ 0.24703,  0.24349,  0.26159]))"
   ]
  },
  {
   "cell_type": "code",
   "execution_count": 5,
   "metadata": {},
   "outputs": [],
   "source": [
    "def get_data(sz,bs):\n",
    "    tfms = tfms_from_stats(stats, sz, aug_tfms=[RandomFlip()], pad=sz//8)\n",
    "    return ImageClassifierData.from_paths(PATH, val_name='test', tfms=tfms, bs=bs)"
   ]
  },
  {
   "cell_type": "code",
   "execution_count": 6,
   "metadata": {},
   "outputs": [],
   "source": [
    "size = 32\n",
    "batch_size = 64"
   ]
  },
  {
   "cell_type": "code",
   "execution_count": 7,
   "metadata": {},
   "outputs": [],
   "source": [
    "data = get_data(size,batch_size)"
   ]
  },
  {
   "cell_type": "code",
   "execution_count": 8,
   "metadata": {},
   "outputs": [],
   "source": [
    "data_iter = iter(data.val_dl)"
   ]
  },
  {
   "cell_type": "code",
   "execution_count": 9,
   "metadata": {},
   "outputs": [],
   "source": [
    "x,y=next(data_iter)"
   ]
  },
  {
   "cell_type": "code",
   "execution_count": null,
   "metadata": {},
   "outputs": [],
   "source": []
  },
  {
   "cell_type": "code",
   "execution_count": 10,
   "metadata": {},
   "outputs": [
    {
     "data": {
      "image/png": "[encoded data removed]",
      "text/plain": [
       "<Figure size 432x288 with 1 Axes>"
      ]
     },
     "metadata": {},
     "output_type": "display_data"
    }
   ],
   "source": [
    "plt.imshow(data.trn_ds.denorm(x)[0]);"
   ]
  },
  {
   "cell_type": "code",
   "execution_count": 8,
   "metadata": {},
   "outputs": [],
   "source": [
    "class SimpleNet(nn.Module):\n",
    "    def __init__(self, layers):\n",
    "        super().__init__()\n",
    "        self.layers = nn.ModuleList([\n",
    "            nn.Linear(layers[i], layers[i + 1]) for i in range(len(layers) - 1)])\n",
    "        \n",
    "    def forward(self, x):\n",
    "        x = x.view(x.size(0), -1)\n",
    "        for l in self.layers:\n",
    "            l_x = l(x)\n",
    "            x = F.relu(l_x)\n",
    "        return F.log_softmax(l_x, dim=-1)"
   ]
  },
  {
   "cell_type": "code",
   "execution_count": 9,
   "metadata": {},
   "outputs": [],
   "source": [
    "learn = ConvLearner.from_model_data(SimpleNet([32*32*3, 40,10]), data)"
   ]
  },
  {
   "cell_type": "code",
   "execution_count": 20,
   "metadata": {},
   "outputs": [],
   "source": [
    "learn.opt_fn = optim.Adam"
   ]
  },
  {
   "cell_type": "code",
   "execution_count": 22,
   "metadata": {},
   "outputs": [
    {
     "data": {
      "application/vnd.jupyter.widget-view+json": {
       "model_id": "b06eb29717f44ae5bde654a234befcee",
       "version_major": 2,
       "version_minor": 0
      },
      "text/html": [
       "<p>Failed to display Jupyter Widget of type <code>HBox</code>.</p>\n",
       "<p>\n",
       "  If you're reading this message in the Jupyter Notebook or JupyterLab Notebook, it may mean\n",
       "  that the widgets JavaScript is still loading. If this message persists, it\n",
       "  likely means that the widgets JavaScript library is either not installed or\n",
       "  not enabled. See the <a href=\"https://ipywidgets.readthedocs.io/en/stable/user_install.html\">Jupyter\n",
       "  Widgets Documentation</a> for setup instructions.\n",
       "</p>\n",
       "<p>\n",
       "  If you're reading this message in another frontend (for example, a static\n",
       "  rendering on GitHub or <a href=\"https://nbviewer.jupyter.org/\">NBViewer</a>),\n",
       "  it may mean that your frontend doesn't currently support widgets.\n",
       "</p>\n"
      ],
      "text/plain": [
       "HBox(children=(IntProgress(value=0, description='Epoch', max=1), HTML(value='')))"
      ]
     },
     "metadata": {},
     "output_type": "display_data"
    },
    {
     "name": "stdout",
     "output_type": "stream",
     "text": [
      "                                                                                                                       \r"
     ]
    }
   ],
   "source": [
    "learn.lr_find2(num_it=50,wds=1e-4, use_wd_sched=True)"
   ]
  },
  {
   "cell_type": "code",
   "execution_count": 24,
   "metadata": {},
   "outputs": [
    {
     "data": {
      "application/vnd.jupyter.widget-view+json": {
       "model_id": "ab10d767d9ad436ba1c963d9c5e27910",
       "version_major": 2,
       "version_minor": 0
      },
      "text/html": [
       "<p>Failed to display Jupyter Widget of type <code>HBox</code>.</p>\n",
       "<p>\n",
       "  If you're reading this message in the Jupyter Notebook or JupyterLab Notebook, it may mean\n",
       "  that the widgets JavaScript is still loading. If this message persists, it\n",
       "  likely means that the widgets JavaScript library is either not installed or\n",
       "  not enabled. See the <a href=\"https://ipywidgets.readthedocs.io/en/stable/user_install.html\">Jupyter\n",
       "  Widgets Documentation</a> for setup instructions.\n",
       "</p>\n",
       "<p>\n",
       "  If you're reading this message in another frontend (for example, a static\n",
       "  rendering on GitHub or <a href=\"https://nbviewer.jupyter.org/\">NBViewer</a>),\n",
       "  it may mean that your frontend doesn't currently support widgets.\n",
       "</p>\n"
      ],
      "text/plain": [
       "HBox(children=(IntProgress(value=0, description='Epoch', max=2), HTML(value='')))"
      ]
     },
     "metadata": {},
     "output_type": "display_data"
    },
    {
     "name": "stdout",
     "output_type": "stream",
     "text": [
      " 23%|███████████████▉                                                     | 180/782 [00:09<00:31, 18.89it/s, loss=1.97]\n"
     ]
    },
    {
     "name": "stderr",
     "output_type": "stream",
     "text": [
      "Exception in thread Thread-10:\n",
      "Traceback (most recent call last):\n",
      "  File \"C:\\Users\\Sylvain\\Anaconda3\\envs\\fastai\\lib\\threading.py\", line 916, in _bootstrap_inner\n",
      "    self.run()\n",
      "  File \"C:\\Users\\Sylvain\\Anaconda3\\envs\\fastai\\lib\\site-packages\\tqdm\\_tqdm.py\", line 144, in run\n",
      "    for instance in self.tqdm_cls._instances:\n",
      "  File \"C:\\Users\\Sylvain\\Anaconda3\\envs\\fastai\\lib\\_weakrefset.py\", line 60, in __iter__\n",
      "    for itemref in self.data:\n",
      "RuntimeError: Set changed size during iteration\n",
      "\n"
     ]
    },
    {
     "name": "stdout",
     "output_type": "stream",
     "text": [
      " 27%|██████████████████▍                                                  | 209/782 [00:11<00:30, 18.93it/s, loss=1.96]\n"
     ]
    },
    {
     "ename": "KeyboardInterrupt",
     "evalue": "",
     "output_type": "error",
     "traceback": [
      "\u001b[1;31m---------------------------------------------------------------------------\u001b[0m",
      "\u001b[1;31mKeyboardInterrupt\u001b[0m                         Traceback (most recent call last)",
      "\u001b[1;32m<ipython-input-24-c8c2de38da4a>\u001b[0m in \u001b[0;36m<module>\u001b[1;34m()\u001b[0m\n\u001b[1;32m----> 1\u001b[1;33m \u001b[0mlearn\u001b[0m\u001b[1;33m.\u001b[0m\u001b[0mfit\u001b[0m\u001b[1;33m(\u001b[0m\u001b[1;36m0.01\u001b[0m\u001b[1;33m,\u001b[0m\u001b[1;36m1\u001b[0m\u001b[1;33m,\u001b[0m\u001b[0mcycle_len\u001b[0m\u001b[1;33m=\u001b[0m\u001b[1;36m2\u001b[0m\u001b[1;33m,\u001b[0m\u001b[0muse_clr_beta\u001b[0m\u001b[1;33m=\u001b[0m\u001b[1;33m(\u001b[0m\u001b[1;36m10\u001b[0m\u001b[1;33m,\u001b[0m\u001b[1;36m10\u001b[0m\u001b[1;33m,\u001b[0m\u001b[1;36m0.95\u001b[0m\u001b[1;33m,\u001b[0m\u001b[1;36m0.85\u001b[0m\u001b[1;33m)\u001b[0m\u001b[1;33m)\u001b[0m\u001b[1;33m\u001b[0m\u001b[0m\n\u001b[0m",
      "\u001b[1;32mD:\\Work\\Github\\fastai\\fastai\\learner.py\u001b[0m in \u001b[0;36mfit\u001b[1;34m(self, lrs, n_cycle, wds, **kwargs)\u001b[0m\n\u001b[0;32m    250\u001b[0m         \u001b[0mself\u001b[0m\u001b[1;33m.\u001b[0m\u001b[0msched\u001b[0m \u001b[1;33m=\u001b[0m \u001b[1;32mNone\u001b[0m\u001b[1;33m\u001b[0m\u001b[0m\n\u001b[0;32m    251\u001b[0m         \u001b[0mlayer_opt\u001b[0m \u001b[1;33m=\u001b[0m \u001b[0mself\u001b[0m\u001b[1;33m.\u001b[0m\u001b[0mget_layer_opt\u001b[0m\u001b[1;33m(\u001b[0m\u001b[0mlrs\u001b[0m\u001b[1;33m,\u001b[0m \u001b[0mwds\u001b[0m\u001b[1;33m)\u001b[0m\u001b[1;33m\u001b[0m\u001b[0m\n\u001b[1;32m--> 252\u001b[1;33m         \u001b[1;32mreturn\u001b[0m \u001b[0mself\u001b[0m\u001b[1;33m.\u001b[0m\u001b[0mfit_gen\u001b[0m\u001b[1;33m(\u001b[0m\u001b[0mself\u001b[0m\u001b[1;33m.\u001b[0m\u001b[0mmodel\u001b[0m\u001b[1;33m,\u001b[0m \u001b[0mself\u001b[0m\u001b[1;33m.\u001b[0m\u001b[0mdata\u001b[0m\u001b[1;33m,\u001b[0m \u001b[0mlayer_opt\u001b[0m\u001b[1;33m,\u001b[0m \u001b[0mn_cycle\u001b[0m\u001b[1;33m,\u001b[0m \u001b[1;33m**\u001b[0m\u001b[0mkwargs\u001b[0m\u001b[1;33m)\u001b[0m\u001b[1;33m\u001b[0m\u001b[0m\n\u001b[0m\u001b[0;32m    253\u001b[0m \u001b[1;33m\u001b[0m\u001b[0m\n\u001b[0;32m    254\u001b[0m     \u001b[1;32mdef\u001b[0m \u001b[0mwarm_up\u001b[0m\u001b[1;33m(\u001b[0m\u001b[0mself\u001b[0m\u001b[1;33m,\u001b[0m \u001b[0mlr\u001b[0m\u001b[1;33m,\u001b[0m \u001b[0mwds\u001b[0m\u001b[1;33m=\u001b[0m\u001b[1;32mNone\u001b[0m\u001b[1;33m)\u001b[0m\u001b[1;33m:\u001b[0m\u001b[1;33m\u001b[0m\u001b[0m\n",
      "\u001b[1;32mD:\\Work\\Github\\fastai\\fastai\\learner.py\u001b[0m in \u001b[0;36mfit_gen\u001b[1;34m(self, model, data, layer_opt, n_cycle, cycle_len, cycle_mult, cycle_save_name, best_save_name, use_clr, use_clr_beta, metrics, callbacks, use_wd_sched, norm_wds, wds_sched_mult, all_val, **kwargs)\u001b[0m\n\u001b[0;32m    197\u001b[0m         \u001b[0mn_epoch\u001b[0m \u001b[1;33m=\u001b[0m \u001b[0msum_geom\u001b[0m\u001b[1;33m(\u001b[0m\u001b[0mcycle_len\u001b[0m \u001b[1;32mif\u001b[0m \u001b[0mcycle_len\u001b[0m \u001b[1;32melse\u001b[0m \u001b[1;36m1\u001b[0m\u001b[1;33m,\u001b[0m \u001b[0mcycle_mult\u001b[0m\u001b[1;33m,\u001b[0m \u001b[0mn_cycle\u001b[0m\u001b[1;33m)\u001b[0m\u001b[1;33m\u001b[0m\u001b[0m\n\u001b[0;32m    198\u001b[0m         return fit(model, data, n_epoch, layer_opt.opt, self.crit,\n\u001b[1;32m--> 199\u001b[1;33m             metrics=metrics, callbacks=callbacks, reg_fn=self.reg_fn, clip=self.clip, all_val=all_val, **kwargs)\n\u001b[0m\u001b[0;32m    200\u001b[0m \u001b[1;33m\u001b[0m\u001b[0m\n\u001b[0;32m    201\u001b[0m     \u001b[1;32mdef\u001b[0m \u001b[0mget_layer_groups\u001b[0m\u001b[1;33m(\u001b[0m\u001b[0mself\u001b[0m\u001b[1;33m)\u001b[0m\u001b[1;33m:\u001b[0m \u001b[1;32mreturn\u001b[0m \u001b[0mself\u001b[0m\u001b[1;33m.\u001b[0m\u001b[0mmodels\u001b[0m\u001b[1;33m.\u001b[0m\u001b[0mget_layer_groups\u001b[0m\u001b[1;33m(\u001b[0m\u001b[1;33m)\u001b[0m\u001b[1;33m\u001b[0m\u001b[0m\n",
      "\u001b[1;32mD:\\Work\\Github\\fastai\\fastai\\model.py\u001b[0m in \u001b[0;36mfit\u001b[1;34m(model, data, epochs, opt, crit, metrics, callbacks, stepper, all_val, **kwargs)\u001b[0m\n\u001b[0;32m    118\u001b[0m         \u001b[0mi\u001b[0m \u001b[1;33m=\u001b[0m \u001b[1;36m0\u001b[0m\u001b[1;33m\u001b[0m\u001b[0m\n\u001b[0;32m    119\u001b[0m         \u001b[1;32mif\u001b[0m \u001b[0mall_val\u001b[0m\u001b[1;33m:\u001b[0m \u001b[0mval_iter\u001b[0m \u001b[1;33m=\u001b[0m \u001b[0miter_batch\u001b[0m\u001b[1;33m(\u001b[0m\u001b[0mdata\u001b[0m\u001b[1;33m.\u001b[0m\u001b[0mval_dl\u001b[0m\u001b[1;33m)\u001b[0m\u001b[1;33m\u001b[0m\u001b[0m\n\u001b[1;32m--> 120\u001b[1;33m         \u001b[1;32mfor\u001b[0m \u001b[1;33m(\u001b[0m\u001b[1;33m*\u001b[0m\u001b[0mx\u001b[0m\u001b[1;33m,\u001b[0m\u001b[0my\u001b[0m\u001b[1;33m)\u001b[0m \u001b[1;32min\u001b[0m \u001b[0mt\u001b[0m\u001b[1;33m:\u001b[0m\u001b[1;33m\u001b[0m\u001b[0m\n\u001b[0m\u001b[0;32m    121\u001b[0m             \u001b[0mbatch_num\u001b[0m \u001b[1;33m+=\u001b[0m \u001b[1;36m1\u001b[0m\u001b[1;33m\u001b[0m\u001b[0m\n\u001b[0;32m    122\u001b[0m             \u001b[1;32mfor\u001b[0m \u001b[0mcb\u001b[0m \u001b[1;32min\u001b[0m \u001b[0mcallbacks\u001b[0m\u001b[1;33m:\u001b[0m \u001b[0mcb\u001b[0m\u001b[1;33m.\u001b[0m\u001b[0mon_batch_begin\u001b[0m\u001b[1;33m(\u001b[0m\u001b[1;33m)\u001b[0m\u001b[1;33m\u001b[0m\u001b[0m\n",
      "\u001b[1;32m~\\Anaconda3\\envs\\fastai\\lib\\site-packages\\tqdm\\_tqdm.py\u001b[0m in \u001b[0;36m__iter__\u001b[1;34m(self)\u001b[0m\n\u001b[0;32m    953\u001b[0m \"\"\", fp_write=getattr(self.fp, 'write', sys.stderr.write))\n\u001b[0;32m    954\u001b[0m \u001b[1;33m\u001b[0m\u001b[0m\n\u001b[1;32m--> 955\u001b[1;33m             \u001b[1;32mfor\u001b[0m \u001b[0mobj\u001b[0m \u001b[1;32min\u001b[0m \u001b[0miterable\u001b[0m\u001b[1;33m:\u001b[0m\u001b[1;33m\u001b[0m\u001b[0m\n\u001b[0m\u001b[0;32m    956\u001b[0m                 \u001b[1;32myield\u001b[0m \u001b[0mobj\u001b[0m\u001b[1;33m\u001b[0m\u001b[0m\n\u001b[0;32m    957\u001b[0m                 \u001b[1;31m# Update and possibly print the progressbar.\u001b[0m\u001b[1;33m\u001b[0m\u001b[1;33m\u001b[0m\u001b[0m\n",
      "\u001b[1;32mD:\\Work\\Github\\fastai\\fastai\\dataloader.py\u001b[0m in \u001b[0;36m__iter__\u001b[1;34m(self)\u001b[0m\n\u001b[0;32m     82\u001b[0m                 \u001b[1;31m# avoid py3.6 issue where queue is infinite and can result in memory exhaustion\u001b[0m\u001b[1;33m\u001b[0m\u001b[1;33m\u001b[0m\u001b[0m\n\u001b[0;32m     83\u001b[0m                 \u001b[1;32mfor\u001b[0m \u001b[0mc\u001b[0m \u001b[1;32min\u001b[0m \u001b[0mchunk_iter\u001b[0m\u001b[1;33m(\u001b[0m\u001b[0miter\u001b[0m\u001b[1;33m(\u001b[0m\u001b[0mself\u001b[0m\u001b[1;33m.\u001b[0m\u001b[0mbatch_sampler\u001b[0m\u001b[1;33m)\u001b[0m\u001b[1;33m,\u001b[0m \u001b[0mself\u001b[0m\u001b[1;33m.\u001b[0m\u001b[0mnum_workers\u001b[0m\u001b[1;33m*\u001b[0m\u001b[1;36m10\u001b[0m\u001b[1;33m)\u001b[0m\u001b[1;33m:\u001b[0m\u001b[1;33m\u001b[0m\u001b[0m\n\u001b[1;32m---> 84\u001b[1;33m                     \u001b[1;32mfor\u001b[0m \u001b[0mbatch\u001b[0m \u001b[1;32min\u001b[0m \u001b[0me\u001b[0m\u001b[1;33m.\u001b[0m\u001b[0mmap\u001b[0m\u001b[1;33m(\u001b[0m\u001b[0mself\u001b[0m\u001b[1;33m.\u001b[0m\u001b[0mget_batch\u001b[0m\u001b[1;33m,\u001b[0m \u001b[0mc\u001b[0m\u001b[1;33m)\u001b[0m\u001b[1;33m:\u001b[0m \u001b[1;32myield\u001b[0m \u001b[0mget_tensor\u001b[0m\u001b[1;33m(\u001b[0m\u001b[0mbatch\u001b[0m\u001b[1;33m,\u001b[0m \u001b[0mself\u001b[0m\u001b[1;33m.\u001b[0m\u001b[0mpin_memory\u001b[0m\u001b[1;33m)\u001b[0m\u001b[1;33m\u001b[0m\u001b[0m\n\u001b[0m\u001b[0;32m     85\u001b[0m \u001b[1;33m\u001b[0m\u001b[0m\n",
      "\u001b[1;32m~\\Anaconda3\\envs\\fastai\\lib\\concurrent\\futures\\_base.py\u001b[0m in \u001b[0;36mresult_iterator\u001b[1;34m()\u001b[0m\n\u001b[0;32m    584\u001b[0m                     \u001b[1;31m# Careful not to keep a reference to the popped future\u001b[0m\u001b[1;33m\u001b[0m\u001b[1;33m\u001b[0m\u001b[0m\n\u001b[0;32m    585\u001b[0m                     \u001b[1;32mif\u001b[0m \u001b[0mtimeout\u001b[0m \u001b[1;32mis\u001b[0m \u001b[1;32mNone\u001b[0m\u001b[1;33m:\u001b[0m\u001b[1;33m\u001b[0m\u001b[0m\n\u001b[1;32m--> 586\u001b[1;33m                         \u001b[1;32myield\u001b[0m \u001b[0mfs\u001b[0m\u001b[1;33m.\u001b[0m\u001b[0mpop\u001b[0m\u001b[1;33m(\u001b[0m\u001b[1;33m)\u001b[0m\u001b[1;33m.\u001b[0m\u001b[0mresult\u001b[0m\u001b[1;33m(\u001b[0m\u001b[1;33m)\u001b[0m\u001b[1;33m\u001b[0m\u001b[0m\n\u001b[0m\u001b[0;32m    587\u001b[0m                     \u001b[1;32melse\u001b[0m\u001b[1;33m:\u001b[0m\u001b[1;33m\u001b[0m\u001b[0m\n\u001b[0;32m    588\u001b[0m                         \u001b[1;32myield\u001b[0m \u001b[0mfs\u001b[0m\u001b[1;33m.\u001b[0m\u001b[0mpop\u001b[0m\u001b[1;33m(\u001b[0m\u001b[1;33m)\u001b[0m\u001b[1;33m.\u001b[0m\u001b[0mresult\u001b[0m\u001b[1;33m(\u001b[0m\u001b[0mend_time\u001b[0m \u001b[1;33m-\u001b[0m \u001b[0mtime\u001b[0m\u001b[1;33m.\u001b[0m\u001b[0mtime\u001b[0m\u001b[1;33m(\u001b[0m\u001b[1;33m)\u001b[0m\u001b[1;33m)\u001b[0m\u001b[1;33m\u001b[0m\u001b[0m\n",
      "\u001b[1;32m~\\Anaconda3\\envs\\fastai\\lib\\concurrent\\futures\\_base.py\u001b[0m in \u001b[0;36mresult\u001b[1;34m(self, timeout)\u001b[0m\n\u001b[0;32m    425\u001b[0m                 \u001b[1;32mreturn\u001b[0m \u001b[0mself\u001b[0m\u001b[1;33m.\u001b[0m\u001b[0m__get_result\u001b[0m\u001b[1;33m(\u001b[0m\u001b[1;33m)\u001b[0m\u001b[1;33m\u001b[0m\u001b[0m\n\u001b[0;32m    426\u001b[0m \u001b[1;33m\u001b[0m\u001b[0m\n\u001b[1;32m--> 427\u001b[1;33m             \u001b[0mself\u001b[0m\u001b[1;33m.\u001b[0m\u001b[0m_condition\u001b[0m\u001b[1;33m.\u001b[0m\u001b[0mwait\u001b[0m\u001b[1;33m(\u001b[0m\u001b[0mtimeout\u001b[0m\u001b[1;33m)\u001b[0m\u001b[1;33m\u001b[0m\u001b[0m\n\u001b[0m\u001b[0;32m    428\u001b[0m \u001b[1;33m\u001b[0m\u001b[0m\n\u001b[0;32m    429\u001b[0m             \u001b[1;32mif\u001b[0m \u001b[0mself\u001b[0m\u001b[1;33m.\u001b[0m\u001b[0m_state\u001b[0m \u001b[1;32min\u001b[0m \u001b[1;33m[\u001b[0m\u001b[0mCANCELLED\u001b[0m\u001b[1;33m,\u001b[0m \u001b[0mCANCELLED_AND_NOTIFIED\u001b[0m\u001b[1;33m]\u001b[0m\u001b[1;33m:\u001b[0m\u001b[1;33m\u001b[0m\u001b[0m\n",
      "\u001b[1;32m~\\Anaconda3\\envs\\fastai\\lib\\threading.py\u001b[0m in \u001b[0;36mwait\u001b[1;34m(self, timeout)\u001b[0m\n\u001b[0;32m    293\u001b[0m         \u001b[1;32mtry\u001b[0m\u001b[1;33m:\u001b[0m    \u001b[1;31m# restore state no matter what (e.g., KeyboardInterrupt)\u001b[0m\u001b[1;33m\u001b[0m\u001b[0m\n\u001b[0;32m    294\u001b[0m             \u001b[1;32mif\u001b[0m \u001b[0mtimeout\u001b[0m \u001b[1;32mis\u001b[0m \u001b[1;32mNone\u001b[0m\u001b[1;33m:\u001b[0m\u001b[1;33m\u001b[0m\u001b[0m\n\u001b[1;32m--> 295\u001b[1;33m                 \u001b[0mwaiter\u001b[0m\u001b[1;33m.\u001b[0m\u001b[0macquire\u001b[0m\u001b[1;33m(\u001b[0m\u001b[1;33m)\u001b[0m\u001b[1;33m\u001b[0m\u001b[0m\n\u001b[0m\u001b[0;32m    296\u001b[0m                 \u001b[0mgotit\u001b[0m \u001b[1;33m=\u001b[0m \u001b[1;32mTrue\u001b[0m\u001b[1;33m\u001b[0m\u001b[0m\n\u001b[0;32m    297\u001b[0m             \u001b[1;32melse\u001b[0m\u001b[1;33m:\u001b[0m\u001b[1;33m\u001b[0m\u001b[0m\n",
      "\u001b[1;31mKeyboardInterrupt\u001b[0m: "
     ]
    },
    {
     "name": "stdout",
     "output_type": "stream",
     "text": [
      "\r",
      " 27%|██████████████████▍                                                  | 209/782 [00:30<01:22,  6.96it/s, loss=1.96]"
     ]
    }
   ],
   "source": [
    "learn.fit(0.01,1,cycle_len=2,use_clr_beta=(10,10,0.95,0.85))"
   ]
  },
  {
   "cell_type": "code",
   "execution_count": 128,
   "metadata": {},
   "outputs": [
    {
     "data": {
      "image/png": "[encoded data removed]",
      "text/plain": [
       "<Figure size 432x864 with 3 Axes>"
      ]
     },
     "metadata": {},
     "output_type": "display_data"
    }
   ],
   "source": [
    "learn.sched.plot(n_skip_end=20)"
   ]
  },
  {
   "cell_type": "code",
   "execution_count": 116,
   "metadata": {},
   "outputs": [],
   "source": [
    "iters = learn.sched.iterations"
   ]
  },
  {
   "cell_type": "code",
   "execution_count": 117,
   "metadata": {},
   "outputs": [
    {
     "data": {
      "text/plain": [
       "490"
      ]
     },
     "execution_count": 117,
     "metadata": {},
     "output_type": "execute_result"
    }
   ],
   "source": [
    "len(iters)"
   ]
  },
  {
   "cell_type": "code",
   "execution_count": 118,
   "metadata": {},
   "outputs": [],
   "source": [
    "val_losses = learn.sched.val_losses\n",
    "losses = learn.sched.losses\n",
    "rec_metrics = learn.sched.rec_metrics"
   ]
  },
  {
   "cell_type": "code",
   "execution_count": 119,
   "metadata": {},
   "outputs": [
    {
     "data": {
      "text/plain": [
       "491"
      ]
     },
     "execution_count": 119,
     "metadata": {},
     "output_type": "execute_result"
    }
   ],
   "source": [
    "len(rec_metrics)"
   ]
  },
  {
   "cell_type": "raw",
   "metadata": {},
   "source": []
  },
  {
   "cell_type": "code",
   "execution_count": null,
   "metadata": {},
   "outputs": [],
   "source": []
  },
  {
   "cell_type": "code",
   "execution_count": 67,
   "metadata": {},
   "outputs": [
    {
     "data": {
      "text/plain": [
       "[<matplotlib.lines.Line2D at 0x270155262e8>]"
      ]
     },
     "execution_count": 67,
     "metadata": {},
     "output_type": "execute_result"
    },
    {
     "data": {
      "image/png": "[encoded data removed]",
      "text/plain": [
       "<Figure size 432x288 with 1 Axes>"
      ]
     },
     "metadata": {},
     "output_type": "display_data"
    }
   ],
   "source": [
    "plt.plot(learn.sched.iterations[:-10], learn.sched.val_losses[:-11])4"
   ]
  },
  {
   "cell_type": "code",
   "execution_count": 68,
   "metadata": {},
   "outputs": [],
   "source": [
    "accuracies = [learn.sched.rec_metrics[i]['accuracy'] for i in range(len(learn.sched.rec_metrics))]"
   ]
  },
  {
   "cell_type": "code",
   "execution_count": null,
   "metadata": {},
   "outputs": [],
   "source": [
    "plt.plot(learn.sched.iterations[:-10], learn.sched.val_losses[:-11])"
   ]
  },
  {
   "cell_type": "code",
   "execution_count": 69,
   "metadata": {},
   "outputs": [
    {
     "data": {
      "text/plain": [
       "[<matplotlib.lines.Line2D at 0x270027427f0>]"
      ]
     },
     "execution_count": 69,
     "metadata": {},
     "output_type": "execute_result"
    },
    {
     "data": {
      "image/png": "[encoded data removed]",
      "text/plain": [
       "<Figure size 432x288 with 1 Axes>"
      ]
     },
     "metadata": {},
     "output_type": "display_data"
    }
   ],
   "source": [
    "plt.plot(learn.sched.iterations[:-10], accuracies[:-11])"
   ]
  },
  {
   "cell_type": "code",
   "execution_count": 61,
   "metadata": {},
   "outputs": [
    {
     "data": {
      "text/plain": [
       "1445"
      ]
     },
     "execution_count": 61,
     "metadata": {},
     "output_type": "execute_result"
    }
   ],
   "source": [
    "len(learn.sched.val_losses)"
   ]
  },
  {
   "cell_type": "code",
   "execution_count": 46,
   "metadata": {},
   "outputs": [
    {
     "data": {
      "text/plain": [
       "[{'accuracy': [0.046875]},\n",
       " {'accuracy': [0.046875]},\n",
       " {'accuracy': [0.046875]},\n",
       " {'accuracy': [0.046875]},\n",
       " {'accuracy': [0.046875]},\n",
       " {'accuracy': [0.046875]},\n",
       " {'accuracy': [0.046875]},\n",
       " {'accuracy': [0.046875]},\n",
       " {'accuracy': [0.046875]},\n",
       " {'accuracy': [0.046875]},\n",
       " {'accuracy': [0.046875]},\n",
       " {'accuracy': [0.046875]},\n",
       " {'accuracy': [0.046875]},\n",
       " {'accuracy': [0.046875]},\n",
       " {'accuracy': [0.046875]},\n",
       " {'accuracy': [0.046875]},\n",
       " {'accuracy': [0.046875]},\n",
       " {'accuracy': [0.046875]},\n",
       " {'accuracy': [0.046875]},\n",
       " {'accuracy': [0.046875]},\n",
       " {'accuracy': [0.046875]},\n",
       " {'accuracy': [0.046875]},\n",
       " {'accuracy': [0.046875]},\n",
       " {'accuracy': [0.046875]},\n",
       " {'accuracy': [0.046875]},\n",
       " {'accuracy': [0.046875]},\n",
       " {'accuracy': [0.046875]},\n",
       " {'accuracy': [0.046875]},\n",
       " {'accuracy': [0.0625]},\n",
       " {'accuracy': [0.078125]},\n",
       " {'accuracy': [0.078125]},\n",
       " {'accuracy': [0.078125]},\n",
       " {'accuracy': [0.078125]},\n",
       " {'accuracy': [0.078125]},\n",
       " {'accuracy': [0.078125]},\n",
       " {'accuracy': [0.078125]},\n",
       " {'accuracy': [0.078125]},\n",
       " {'accuracy': [0.078125]},\n",
       " {'accuracy': [0.078125]},\n",
       " {'accuracy': [0.078125]},\n",
       " {'accuracy': [0.078125]},\n",
       " {'accuracy': [0.078125]},\n",
       " {'accuracy': [0.078125]},\n",
       " {'accuracy': [0.078125]},\n",
       " {'accuracy': [0.078125]},\n",
       " {'accuracy': [0.078125]},\n",
       " {'accuracy': [0.078125]},\n",
       " {'accuracy': [0.078125]},\n",
       " {'accuracy': [0.078125]},\n",
       " {'accuracy': [0.078125]},\n",
       " {'accuracy': [0.09375]},\n",
       " {'accuracy': [0.09375]},\n",
       " {'accuracy': [0.109375]},\n",
       " {'accuracy': [0.109375]},\n",
       " {'accuracy': [0.109375]},\n",
       " {'accuracy': [0.109375]},\n",
       " {'accuracy': [0.109375]},\n",
       " {'accuracy': [0.109375]},\n",
       " {'accuracy': [0.109375]},\n",
       " {'accuracy': [0.109375]},\n",
       " {'accuracy': [0.109375]},\n",
       " {'accuracy': [0.109375]},\n",
       " {'accuracy': [0.125]},\n",
       " {'accuracy': [0.125]},\n",
       " {'accuracy': [0.125]},\n",
       " {'accuracy': [0.125]},\n",
       " {'accuracy': [0.125]},\n",
       " {'accuracy': [0.125]},\n",
       " {'accuracy': [0.125]},\n",
       " {'accuracy': [0.125]},\n",
       " {'accuracy': [0.125]},\n",
       " {'accuracy': [0.125]},\n",
       " {'accuracy': [0.125]},\n",
       " {'accuracy': [0.125]},\n",
       " {'accuracy': [0.125]},\n",
       " {'accuracy': [0.140625]},\n",
       " {'accuracy': [0.140625]},\n",
       " {'accuracy': [0.140625]},\n",
       " {'accuracy': [0.140625]},\n",
       " {'accuracy': [0.140625]},\n",
       " {'accuracy': [0.140625]},\n",
       " {'accuracy': [0.15625]},\n",
       " {'accuracy': [0.15625]},\n",
       " {'accuracy': [0.15625]},\n",
       " {'accuracy': [0.15625]},\n",
       " {'accuracy': [0.15625]},\n",
       " {'accuracy': [0.15625]},\n",
       " {'accuracy': [0.15625]},\n",
       " {'accuracy': [0.15625]},\n",
       " {'accuracy': [0.15625]},\n",
       " {'accuracy': [0.171875]},\n",
       " {'accuracy': [0.171875]},\n",
       " {'accuracy': [0.1875]},\n",
       " {'accuracy': [0.1875]},\n",
       " {'accuracy': [0.1875]},\n",
       " {'accuracy': [0.1875]},\n",
       " {'accuracy': [0.1875]},\n",
       " {'accuracy': [0.1875]},\n",
       " {'accuracy': [0.1875]},\n",
       " {'accuracy': [0.1875]},\n",
       " {'accuracy': [0.1875]},\n",
       " {'accuracy': [0.1875]},\n",
       " {'accuracy': [0.1875]},\n",
       " {'accuracy': [0.1875]},\n",
       " {'accuracy': [0.1875]},\n",
       " {'accuracy': [0.203125]},\n",
       " {'accuracy': [0.203125]},\n",
       " {'accuracy': [0.21875]},\n",
       " {'accuracy': [0.21875]},\n",
       " {'accuracy': [0.21875]},\n",
       " {'accuracy': [0.21875]},\n",
       " {'accuracy': [0.21875]},\n",
       " {'accuracy': [0.21875]},\n",
       " {'accuracy': [0.21875]},\n",
       " {'accuracy': [0.21875]},\n",
       " {'accuracy': [0.21875]},\n",
       " {'accuracy': [0.21875]},\n",
       " {'accuracy': [0.21875]},\n",
       " {'accuracy': [0.21875]},\n",
       " {'accuracy': [0.21875]},\n",
       " {'accuracy': [0.21875]},\n",
       " {'accuracy': [0.21875]},\n",
       " {'accuracy': [0.21875]},\n",
       " {'accuracy': [0.21875]},\n",
       " {'accuracy': [0.21875]},\n",
       " {'accuracy': [0.21875]},\n",
       " {'accuracy': [0.234375]},\n",
       " {'accuracy': [0.234375]},\n",
       " {'accuracy': [0.234375]},\n",
       " {'accuracy': [0.234375]},\n",
       " {'accuracy': [0.234375]},\n",
       " {'accuracy': [0.234375]},\n",
       " {'accuracy': [0.234375]},\n",
       " {'accuracy': [0.25]},\n",
       " {'accuracy': [0.25]},\n",
       " {'accuracy': [0.25]},\n",
       " {'accuracy': [0.25]},\n",
       " {'accuracy': [0.265625]},\n",
       " {'accuracy': [0.265625]},\n",
       " {'accuracy': [0.265625]},\n",
       " {'accuracy': [0.28125]},\n",
       " {'accuracy': [0.28125]},\n",
       " {'accuracy': [0.28125]},\n",
       " {'accuracy': [0.28125]},\n",
       " {'accuracy': [0.28125]},\n",
       " {'accuracy': [0.28125]},\n",
       " {'accuracy': [0.28125]},\n",
       " {'accuracy': [0.28125]},\n",
       " {'accuracy': [0.28125]},\n",
       " {'accuracy': [0.296875]},\n",
       " {'accuracy': [0.296875]},\n",
       " {'accuracy': [0.296875]},\n",
       " {'accuracy': [0.296875]},\n",
       " {'accuracy': [0.296875]},\n",
       " {'accuracy': [0.296875]},\n",
       " {'accuracy': [0.296875]},\n",
       " {'accuracy': [0.296875]},\n",
       " {'accuracy': [0.296875]},\n",
       " {'accuracy': [0.3125]},\n",
       " {'accuracy': [0.3125]},\n",
       " {'accuracy': [0.3125]},\n",
       " {'accuracy': [0.328125]},\n",
       " {'accuracy': [0.34375]},\n",
       " {'accuracy': [0.34375]},\n",
       " {'accuracy': [0.34375]},\n",
       " {'accuracy': [0.34375]},\n",
       " {'accuracy': [0.34375]},\n",
       " {'accuracy': [0.34375]},\n",
       " {'accuracy': [0.34375]},\n",
       " {'accuracy': [0.34375]},\n",
       " {'accuracy': [0.34375]},\n",
       " {'accuracy': [0.34375]},\n",
       " {'accuracy': [0.34375]},\n",
       " {'accuracy': [0.34375]},\n",
       " {'accuracy': [0.34375]},\n",
       " {'accuracy': [0.359375]},\n",
       " {'accuracy': [0.359375]},\n",
       " {'accuracy': [0.359375]},\n",
       " {'accuracy': [0.359375]},\n",
       " {'accuracy': [0.359375]},\n",
       " {'accuracy': [0.359375]},\n",
       " {'accuracy': [0.359375]},\n",
       " {'accuracy': [0.359375]},\n",
       " {'accuracy': [0.359375]},\n",
       " {'accuracy': [0.359375]},\n",
       " {'accuracy': [0.359375]},\n",
       " {'accuracy': [0.359375]},\n",
       " {'accuracy': [0.359375]},\n",
       " {'accuracy': [0.359375]},\n",
       " {'accuracy': [0.359375]},\n",
       " {'accuracy': [0.359375]},\n",
       " {'accuracy': [0.359375]},\n",
       " {'accuracy': [0.359375]},\n",
       " {'accuracy': [0.359375]},\n",
       " {'accuracy': [0.359375]},\n",
       " {'accuracy': [0.359375]},\n",
       " {'accuracy': [0.359375]},\n",
       " {'accuracy': [0.359375]},\n",
       " {'accuracy': [0.359375]},\n",
       " {'accuracy': [0.359375]},\n",
       " {'accuracy': [0.359375]},\n",
       " {'accuracy': [0.359375]},\n",
       " {'accuracy': [0.359375]},\n",
       " {'accuracy': [0.359375]},\n",
       " {'accuracy': [0.359375]},\n",
       " {'accuracy': [0.359375]},\n",
       " {'accuracy': [0.359375]},\n",
       " {'accuracy': [0.359375]},\n",
       " {'accuracy': [0.359375]},\n",
       " {'accuracy': [0.375]},\n",
       " {'accuracy': [0.375]},\n",
       " {'accuracy': [0.375]},\n",
       " {'accuracy': [0.375]},\n",
       " {'accuracy': [0.375]},\n",
       " {'accuracy': [0.375]},\n",
       " {'accuracy': [0.375]},\n",
       " {'accuracy': [0.375]},\n",
       " {'accuracy': [0.375]},\n",
       " {'accuracy': [0.375]},\n",
       " {'accuracy': [0.375]},\n",
       " {'accuracy': [0.375]},\n",
       " {'accuracy': [0.375]},\n",
       " {'accuracy': [0.375]},\n",
       " {'accuracy': [0.375]},\n",
       " {'accuracy': [0.375]},\n",
       " {'accuracy': [0.375]},\n",
       " {'accuracy': [0.375]},\n",
       " {'accuracy': [0.375]},\n",
       " {'accuracy': [0.375]},\n",
       " {'accuracy': [0.375]},\n",
       " {'accuracy': [0.375]},\n",
       " {'accuracy': [0.375]},\n",
       " {'accuracy': [0.375]},\n",
       " {'accuracy': [0.375]},\n",
       " {'accuracy': [0.375]},\n",
       " {'accuracy': [0.375]},\n",
       " {'accuracy': [0.375]},\n",
       " {'accuracy': [0.375]},\n",
       " {'accuracy': [0.375]},\n",
       " {'accuracy': [0.375]},\n",
       " {'accuracy': [0.375]},\n",
       " {'accuracy': [0.375]},\n",
       " {'accuracy': [0.375]},\n",
       " {'accuracy': [0.375]},\n",
       " {'accuracy': [0.375]},\n",
       " {'accuracy': [0.375]},\n",
       " {'accuracy': [0.375]},\n",
       " {'accuracy': [0.375]},\n",
       " {'accuracy': [0.375]},\n",
       " {'accuracy': [0.390625]},\n",
       " {'accuracy': [0.390625]},\n",
       " {'accuracy': [0.390625]},\n",
       " {'accuracy': [0.390625]},\n",
       " {'accuracy': [0.390625]},\n",
       " {'accuracy': [0.390625]},\n",
       " {'accuracy': [0.390625]},\n",
       " {'accuracy': [0.390625]},\n",
       " {'accuracy': [0.390625]},\n",
       " {'accuracy': [0.390625]},\n",
       " {'accuracy': [0.40625]},\n",
       " {'accuracy': [0.40625]},\n",
       " {'accuracy': [0.40625]},\n",
       " {'accuracy': [0.40625]},\n",
       " {'accuracy': [0.40625]},\n",
       " {'accuracy': [0.421875]},\n",
       " {'accuracy': [0.453125]},\n",
       " {'accuracy': [0.453125]},\n",
       " {'accuracy': [0.453125]},\n",
       " {'accuracy': [0.453125]},\n",
       " {'accuracy': [0.453125]},\n",
       " {'accuracy': [0.453125]},\n",
       " {'accuracy': [0.453125]},\n",
       " {'accuracy': [0.453125]},\n",
       " {'accuracy': [0.453125]},\n",
       " {'accuracy': [0.453125]},\n",
       " {'accuracy': [0.4375]},\n",
       " {'accuracy': [0.4375]},\n",
       " {'accuracy': [0.4375]},\n",
       " {'accuracy': [0.4375]},\n",
       " {'accuracy': [0.4375]},\n",
       " {'accuracy': [0.4375]},\n",
       " {'accuracy': [0.4375]},\n",
       " {'accuracy': [0.4375]},\n",
       " {'accuracy': [0.4375]},\n",
       " {'accuracy': [0.4375]},\n",
       " {'accuracy': [0.4375]},\n",
       " {'accuracy': [0.4375]},\n",
       " {'accuracy': [0.4375]},\n",
       " {'accuracy': [0.4375]},\n",
       " {'accuracy': [0.4375]},\n",
       " {'accuracy': [0.4375]},\n",
       " {'accuracy': [0.453125]},\n",
       " {'accuracy': [0.453125]},\n",
       " {'accuracy': [0.453125]},\n",
       " {'accuracy': [0.453125]},\n",
       " {'accuracy': [0.453125]},\n",
       " {'accuracy': [0.453125]},\n",
       " {'accuracy': [0.453125]},\n",
       " {'accuracy': [0.453125]},\n",
       " {'accuracy': [0.453125]},\n",
       " {'accuracy': [0.453125]},\n",
       " {'accuracy': [0.453125]},\n",
       " {'accuracy': [0.453125]},\n",
       " {'accuracy': [0.453125]},\n",
       " {'accuracy': [0.453125]},\n",
       " {'accuracy': [0.453125]},\n",
       " {'accuracy': [0.453125]},\n",
       " {'accuracy': [0.453125]},\n",
       " {'accuracy': [0.453125]},\n",
       " {'accuracy': [0.453125]},\n",
       " {'accuracy': [0.453125]},\n",
       " {'accuracy': [0.453125]},\n",
       " {'accuracy': [0.46875]},\n",
       " {'accuracy': [0.46875]},\n",
       " {'accuracy': [0.46875]},\n",
       " {'accuracy': [0.46875]},\n",
       " {'accuracy': [0.46875]},\n",
       " {'accuracy': [0.46875]},\n",
       " {'accuracy': [0.46875]},\n",
       " {'accuracy': [0.46875]},\n",
       " {'accuracy': [0.46875]},\n",
       " {'accuracy': [0.46875]},\n",
       " {'accuracy': [0.46875]},\n",
       " {'accuracy': [0.46875]},\n",
       " {'accuracy': [0.46875]},\n",
       " {'accuracy': [0.46875]},\n",
       " {'accuracy': [0.46875]},\n",
       " {'accuracy': [0.46875]},\n",
       " {'accuracy': [0.46875]},\n",
       " {'accuracy': [0.46875]},\n",
       " {'accuracy': [0.46875]},\n",
       " {'accuracy': [0.46875]},\n",
       " {'accuracy': [0.46875]},\n",
       " {'accuracy': [0.46875]},\n",
       " {'accuracy': [0.46875]},\n",
       " {'accuracy': [0.46875]},\n",
       " {'accuracy': [0.46875]},\n",
       " {'accuracy': [0.46875]},\n",
       " {'accuracy': [0.46875]},\n",
       " {'accuracy': [0.46875]},\n",
       " {'accuracy': [0.46875]},\n",
       " {'accuracy': [0.46875]},\n",
       " {'accuracy': [0.46875]},\n",
       " {'accuracy': [0.46875]},\n",
       " {'accuracy': [0.46875]},\n",
       " {'accuracy': [0.46875]},\n",
       " {'accuracy': [0.46875]},\n",
       " {'accuracy': [0.46875]},\n",
       " {'accuracy': [0.46875]},\n",
       " {'accuracy': [0.46875]},\n",
       " {'accuracy': [0.46875]},\n",
       " {'accuracy': [0.46875]},\n",
       " {'accuracy': [0.46875]},\n",
       " {'accuracy': [0.46875]},\n",
       " {'accuracy': [0.46875]},\n",
       " {'accuracy': [0.46875]},\n",
       " {'accuracy': [0.46875]},\n",
       " {'accuracy': [0.46875]},\n",
       " {'accuracy': [0.46875]},\n",
       " {'accuracy': [0.46875]},\n",
       " {'accuracy': [0.46875]},\n",
       " {'accuracy': [0.46875]},\n",
       " {'accuracy': [0.46875]},\n",
       " {'accuracy': [0.46875]},\n",
       " {'accuracy': [0.46875]},\n",
       " {'accuracy': [0.46875]},\n",
       " {'accuracy': [0.46875]},\n",
       " {'accuracy': [0.46875]},\n",
       " {'accuracy': [0.46875]},\n",
       " {'accuracy': [0.46875]},\n",
       " {'accuracy': [0.46875]},\n",
       " {'accuracy': [0.46875]},\n",
       " {'accuracy': [0.46875]},\n",
       " {'accuracy': [0.46875]},\n",
       " {'accuracy': [0.46875]},\n",
       " {'accuracy': [0.46875]},\n",
       " {'accuracy': [0.46875]},\n",
       " {'accuracy': [0.46875]},\n",
       " {'accuracy': [0.46875]},\n",
       " {'accuracy': [0.46875]},\n",
       " {'accuracy': [0.46875]},\n",
       " {'accuracy': [0.46875]},\n",
       " {'accuracy': [0.46875]},\n",
       " {'accuracy': [0.46875]},\n",
       " {'accuracy': [0.46875]},\n",
       " {'accuracy': [0.46875]},\n",
       " {'accuracy': [0.46875]},\n",
       " {'accuracy': [0.46875]},\n",
       " {'accuracy': [0.46875]},\n",
       " {'accuracy': [0.484375]},\n",
       " {'accuracy': [0.5]},\n",
       " {'accuracy': [0.5]},\n",
       " {'accuracy': [0.5]},\n",
       " {'accuracy': [0.5]},\n",
       " {'accuracy': [0.5]},\n",
       " {'accuracy': [0.5]},\n",
       " {'accuracy': [0.5]},\n",
       " {'accuracy': [0.5]},\n",
       " {'accuracy': [0.5]},\n",
       " {'accuracy': [0.5]},\n",
       " {'accuracy': [0.5]},\n",
       " {'accuracy': [0.5]},\n",
       " {'accuracy': [0.5]},\n",
       " {'accuracy': [0.5]},\n",
       " {'accuracy': [0.5]},\n",
       " {'accuracy': [0.5]},\n",
       " {'accuracy': [0.5]},\n",
       " {'accuracy': [0.5]},\n",
       " {'accuracy': [0.5]},\n",
       " {'accuracy': [0.5]},\n",
       " {'accuracy': [0.5]},\n",
       " {'accuracy': [0.5]},\n",
       " {'accuracy': [0.5]},\n",
       " {'accuracy': [0.5]},\n",
       " {'accuracy': [0.5]},\n",
       " {'accuracy': [0.5]},\n",
       " {'accuracy': [0.5]},\n",
       " {'accuracy': [0.5]},\n",
       " {'accuracy': [0.5]},\n",
       " {'accuracy': [0.5]},\n",
       " {'accuracy': [0.5]},\n",
       " {'accuracy': [0.5]},\n",
       " {'accuracy': [0.515625]},\n",
       " {'accuracy': [0.515625]},\n",
       " {'accuracy': [0.515625]},\n",
       " {'accuracy': [0.53125]},\n",
       " {'accuracy': [0.53125]},\n",
       " {'accuracy': [0.53125]},\n",
       " {'accuracy': [0.53125]},\n",
       " {'accuracy': [0.53125]},\n",
       " {'accuracy': [0.53125]},\n",
       " {'accuracy': [0.515625]},\n",
       " {'accuracy': [0.515625]},\n",
       " {'accuracy': [0.515625]},\n",
       " {'accuracy': [0.515625]},\n",
       " {'accuracy': [0.515625]},\n",
       " {'accuracy': [0.515625]},\n",
       " {'accuracy': [0.515625]},\n",
       " {'accuracy': [0.515625]},\n",
       " {'accuracy': [0.515625]},\n",
       " {'accuracy': [0.515625]},\n",
       " {'accuracy': [0.515625]},\n",
       " {'accuracy': [0.515625]},\n",
       " {'accuracy': [0.515625]},\n",
       " {'accuracy': [0.515625]},\n",
       " {'accuracy': [0.53125]},\n",
       " {'accuracy': [0.53125]},\n",
       " {'accuracy': [0.53125]},\n",
       " {'accuracy': [0.53125]},\n",
       " {'accuracy': [0.515625]},\n",
       " {'accuracy': [0.515625]},\n",
       " {'accuracy': [0.515625]},\n",
       " {'accuracy': [0.515625]},\n",
       " {'accuracy': [0.515625]},\n",
       " {'accuracy': [0.515625]},\n",
       " {'accuracy': [0.515625]},\n",
       " {'accuracy': [0.515625]},\n",
       " {'accuracy': [0.515625]},\n",
       " {'accuracy': [0.515625]},\n",
       " {'accuracy': [0.515625]},\n",
       " {'accuracy': [0.515625]},\n",
       " {'accuracy': [0.515625]},\n",
       " {'accuracy': [0.515625]},\n",
       " {'accuracy': [0.515625]},\n",
       " {'accuracy': [0.515625]},\n",
       " {'accuracy': [0.515625]},\n",
       " {'accuracy': [0.515625]},\n",
       " {'accuracy': [0.515625]},\n",
       " {'accuracy': [0.515625]},\n",
       " {'accuracy': [0.515625]},\n",
       " {'accuracy': [0.515625]},\n",
       " {'accuracy': [0.515625]},\n",
       " {'accuracy': [0.515625]},\n",
       " {'accuracy': [0.515625]},\n",
       " {'accuracy': [0.515625]},\n",
       " {'accuracy': [0.515625]},\n",
       " {'accuracy': [0.515625]},\n",
       " {'accuracy': [0.53125]},\n",
       " {'accuracy': [0.53125]},\n",
       " {'accuracy': [0.53125]},\n",
       " {'accuracy': [0.53125]},\n",
       " {'accuracy': [0.53125]},\n",
       " {'accuracy': [0.53125]},\n",
       " {'accuracy': [0.53125]},\n",
       " {'accuracy': [0.53125]},\n",
       " {'accuracy': [0.53125]},\n",
       " {'accuracy': [0.515625]},\n",
       " {'accuracy': [0.515625]},\n",
       " {'accuracy': [0.515625]},\n",
       " {'accuracy': [0.515625]},\n",
       " {'accuracy': [0.515625]},\n",
       " {'accuracy': [0.515625]},\n",
       " {'accuracy': [0.515625]},\n",
       " {'accuracy': [0.515625]},\n",
       " {'accuracy': [0.515625]},\n",
       " {'accuracy': [0.515625]},\n",
       " {'accuracy': [0.546875]},\n",
       " {'accuracy': [0.546875]},\n",
       " {'accuracy': [0.546875]},\n",
       " {'accuracy': [0.546875]},\n",
       " {'accuracy': [0.546875]},\n",
       " {'accuracy': [0.546875]},\n",
       " {'accuracy': [0.546875]},\n",
       " {'accuracy': [0.546875]},\n",
       " {'accuracy': [0.546875]},\n",
       " {'accuracy': [0.546875]},\n",
       " {'accuracy': [0.546875]},\n",
       " {'accuracy': [0.546875]},\n",
       " {'accuracy': [0.546875]},\n",
       " {'accuracy': [0.546875]},\n",
       " {'accuracy': [0.546875]},\n",
       " {'accuracy': [0.546875]},\n",
       " {'accuracy': [0.546875]},\n",
       " {'accuracy': [0.546875]},\n",
       " {'accuracy': [0.546875]},\n",
       " {'accuracy': [0.546875]},\n",
       " {'accuracy': [0.546875]},\n",
       " {'accuracy': [0.546875]},\n",
       " {'accuracy': [0.546875]},\n",
       " {'accuracy': [0.546875]},\n",
       " {'accuracy': [0.546875]},\n",
       " {'accuracy': [0.546875]},\n",
       " {'accuracy': [0.546875]},\n",
       " {'accuracy': [0.546875]},\n",
       " {'accuracy': [0.546875]},\n",
       " {'accuracy': [0.546875]},\n",
       " {'accuracy': [0.546875]},\n",
       " {'accuracy': [0.546875]},\n",
       " {'accuracy': [0.546875]},\n",
       " {'accuracy': [0.546875]},\n",
       " {'accuracy': [0.546875]},\n",
       " {'accuracy': [0.546875]},\n",
       " {'accuracy': [0.546875]},\n",
       " {'accuracy': [0.546875]},\n",
       " {'accuracy': [0.546875]},\n",
       " {'accuracy': [0.546875]},\n",
       " {'accuracy': [0.546875]},\n",
       " {'accuracy': [0.546875]},\n",
       " {'accuracy': [0.546875]},\n",
       " {'accuracy': [0.546875]},\n",
       " {'accuracy': [0.546875]},\n",
       " {'accuracy': [0.546875]},\n",
       " {'accuracy': [0.546875]},\n",
       " {'accuracy': [0.546875]},\n",
       " {'accuracy': [0.546875]},\n",
       " {'accuracy': [0.546875]},\n",
       " {'accuracy': [0.546875]},\n",
       " {'accuracy': [0.546875]},\n",
       " {'accuracy': [0.546875]},\n",
       " {'accuracy': [0.5625]},\n",
       " {'accuracy': [0.5625]},\n",
       " {'accuracy': [0.5625]},\n",
       " {'accuracy': [0.5625]},\n",
       " {'accuracy': [0.5625]},\n",
       " {'accuracy': [0.5625]},\n",
       " {'accuracy': [0.5625]},\n",
       " {'accuracy': [0.5625]},\n",
       " {'accuracy': [0.5625]},\n",
       " {'accuracy': [0.5625]},\n",
       " {'accuracy': [0.5625]},\n",
       " {'accuracy': [0.578125]},\n",
       " {'accuracy': [0.578125]},\n",
       " {'accuracy': [0.578125]},\n",
       " {'accuracy': [0.578125]},\n",
       " {'accuracy': [0.546875]},\n",
       " {'accuracy': [0.53125]},\n",
       " {'accuracy': [0.53125]},\n",
       " {'accuracy': [0.53125]},\n",
       " {'accuracy': [0.53125]},\n",
       " {'accuracy': [0.546875]},\n",
       " {'accuracy': [0.546875]},\n",
       " {'accuracy': [0.53125]},\n",
       " {'accuracy': [0.53125]},\n",
       " {'accuracy': [0.53125]},\n",
       " {'accuracy': [0.53125]},\n",
       " {'accuracy': [0.515625]},\n",
       " {'accuracy': [0.515625]},\n",
       " {'accuracy': [0.515625]},\n",
       " {'accuracy': [0.515625]},\n",
       " {'accuracy': [0.515625]},\n",
       " {'accuracy': [0.515625]},\n",
       " {'accuracy': [0.515625]},\n",
       " {'accuracy': [0.53125]},\n",
       " {'accuracy': [0.53125]},\n",
       " {'accuracy': [0.53125]},\n",
       " {'accuracy': [0.53125]},\n",
       " {'accuracy': [0.546875]},\n",
       " {'accuracy': [0.546875]},\n",
       " {'accuracy': [0.53125]},\n",
       " {'accuracy': [0.546875]},\n",
       " {'accuracy': [0.546875]},\n",
       " {'accuracy': [0.546875]},\n",
       " {'accuracy': [0.546875]},\n",
       " {'accuracy': [0.546875]},\n",
       " {'accuracy': [0.53125]},\n",
       " {'accuracy': [0.53125]},\n",
       " {'accuracy': [0.53125]},\n",
       " {'accuracy': [0.53125]},\n",
       " {'accuracy': [0.53125]},\n",
       " {'accuracy': [0.53125]},\n",
       " {'accuracy': [0.53125]},\n",
       " {'accuracy': [0.515625]},\n",
       " {'accuracy': [0.484375]},\n",
       " {'accuracy': [0.484375]},\n",
       " {'accuracy': [0.46875]},\n",
       " {'accuracy': [0.453125]},\n",
       " {'accuracy': [0.453125]},\n",
       " {'accuracy': [0.453125]},\n",
       " {'accuracy': [0.453125]},\n",
       " {'accuracy': [0.453125]},\n",
       " {'accuracy': [0.453125]},\n",
       " {'accuracy': [0.4375]},\n",
       " {'accuracy': [0.4375]},\n",
       " {'accuracy': [0.421875]},\n",
       " {'accuracy': [0.421875]},\n",
       " {'accuracy': [0.421875]},\n",
       " {'accuracy': [0.421875]},\n",
       " {'accuracy': [0.40625]},\n",
       " {'accuracy': [0.40625]},\n",
       " {'accuracy': [0.421875]},\n",
       " {'accuracy': [0.421875]},\n",
       " {'accuracy': [0.421875]},\n",
       " {'accuracy': [0.4375]},\n",
       " {'accuracy': [0.46875]},\n",
       " {'accuracy': [0.484375]},\n",
       " {'accuracy': [0.484375]},\n",
       " {'accuracy': [0.484375]},\n",
       " {'accuracy': [0.515625]},\n",
       " {'accuracy': [0.515625]},\n",
       " {'accuracy': [0.515625]},\n",
       " {'accuracy': [0.515625]},\n",
       " {'accuracy': [0.515625]},\n",
       " {'accuracy': [0.515625]},\n",
       " {'accuracy': [0.515625]},\n",
       " {'accuracy': [0.515625]},\n",
       " {'accuracy': [0.515625]},\n",
       " {'accuracy': [0.515625]},\n",
       " {'accuracy': [0.515625]},\n",
       " {'accuracy': [0.515625]},\n",
       " {'accuracy': [0.53125]},\n",
       " {'accuracy': [0.53125]},\n",
       " {'accuracy': [0.515625]},\n",
       " {'accuracy': [0.515625]},\n",
       " {'accuracy': [0.515625]},\n",
       " {'accuracy': [0.515625]},\n",
       " {'accuracy': [0.515625]},\n",
       " {'accuracy': [0.515625]},\n",
       " {'accuracy': [0.515625]},\n",
       " {'accuracy': [0.515625]},\n",
       " {'accuracy': [0.5]},\n",
       " {'accuracy': [0.5]},\n",
       " {'accuracy': [0.5]},\n",
       " {'accuracy': [0.484375]},\n",
       " {'accuracy': [0.484375]},\n",
       " {'accuracy': [0.484375]},\n",
       " {'accuracy': [0.484375]},\n",
       " {'accuracy': [0.484375]},\n",
       " {'accuracy': [0.484375]},\n",
       " {'accuracy': [0.484375]},\n",
       " {'accuracy': [0.484375]},\n",
       " {'accuracy': [0.484375]},\n",
       " {'accuracy': [0.484375]},\n",
       " {'accuracy': [0.5]},\n",
       " {'accuracy': [0.515625]},\n",
       " {'accuracy': [0.515625]},\n",
       " {'accuracy': [0.515625]},\n",
       " {'accuracy': [0.515625]},\n",
       " {'accuracy': [0.515625]},\n",
       " {'accuracy': [0.53125]},\n",
       " {'accuracy': [0.53125]},\n",
       " {'accuracy': [0.53125]},\n",
       " {'accuracy': [0.53125]},\n",
       " {'accuracy': [0.53125]},\n",
       " {'accuracy': [0.53125]},\n",
       " {'accuracy': [0.546875]},\n",
       " {'accuracy': [0.546875]},\n",
       " {'accuracy': [0.546875]},\n",
       " {'accuracy': [0.546875]},\n",
       " {'accuracy': [0.546875]},\n",
       " {'accuracy': [0.53125]},\n",
       " {'accuracy': [0.53125]},\n",
       " {'accuracy': [0.53125]},\n",
       " {'accuracy': [0.53125]},\n",
       " {'accuracy': [0.53125]},\n",
       " {'accuracy': [0.515625]},\n",
       " {'accuracy': [0.515625]},\n",
       " {'accuracy': [0.515625]},\n",
       " {'accuracy': [0.515625]},\n",
       " {'accuracy': [0.515625]},\n",
       " {'accuracy': [0.515625]},\n",
       " {'accuracy': [0.515625]},\n",
       " {'accuracy': [0.515625]},\n",
       " {'accuracy': [0.515625]},\n",
       " {'accuracy': [0.515625]},\n",
       " {'accuracy': [0.515625]},\n",
       " {'accuracy': [0.515625]},\n",
       " {'accuracy': [0.515625]},\n",
       " {'accuracy': [0.5]},\n",
       " {'accuracy': [0.515625]},\n",
       " {'accuracy': [0.53125]},\n",
       " {'accuracy': [0.515625]},\n",
       " {'accuracy': [0.515625]},\n",
       " {'accuracy': [0.515625]},\n",
       " {'accuracy': [0.5]},\n",
       " {'accuracy': [0.515625]},\n",
       " {'accuracy': [0.515625]},\n",
       " {'accuracy': [0.53125]},\n",
       " {'accuracy': [0.53125]},\n",
       " {'accuracy': [0.546875]},\n",
       " {'accuracy': [0.546875]},\n",
       " {'accuracy': [0.546875]},\n",
       " {'accuracy': [0.546875]},\n",
       " {'accuracy': [0.546875]},\n",
       " {'accuracy': [0.5625]},\n",
       " {'accuracy': [0.578125]},\n",
       " {'accuracy': [0.578125]},\n",
       " {'accuracy': [0.59375]},\n",
       " {'accuracy': [0.59375]},\n",
       " {'accuracy': [0.59375]},\n",
       " {'accuracy': [0.59375]},\n",
       " {'accuracy': [0.578125]},\n",
       " {'accuracy': [0.578125]},\n",
       " {'accuracy': [0.578125]},\n",
       " {'accuracy': [0.578125]},\n",
       " {'accuracy': [0.5625]},\n",
       " {'accuracy': [0.5625]},\n",
       " {'accuracy': [0.5625]},\n",
       " {'accuracy': [0.5625]},\n",
       " {'accuracy': [0.5625]},\n",
       " {'accuracy': [0.546875]},\n",
       " {'accuracy': [0.5625]},\n",
       " {'accuracy': [0.546875]},\n",
       " {'accuracy': [0.546875]},\n",
       " {'accuracy': [0.546875]},\n",
       " {'accuracy': [0.546875]},\n",
       " {'accuracy': [0.546875]},\n",
       " {'accuracy': [0.546875]},\n",
       " {'accuracy': [0.546875]},\n",
       " {'accuracy': [0.546875]},\n",
       " {'accuracy': [0.53125]},\n",
       " {'accuracy': [0.53125]},\n",
       " {'accuracy': [0.53125]},\n",
       " {'accuracy': [0.53125]},\n",
       " {'accuracy': [0.53125]},\n",
       " {'accuracy': [0.515625]},\n",
       " {'accuracy': [0.515625]},\n",
       " {'accuracy': [0.515625]},\n",
       " {'accuracy': [0.5]},\n",
       " {'accuracy': [0.5]},\n",
       " {'accuracy': [0.5]},\n",
       " {'accuracy': [0.5]},\n",
       " {'accuracy': [0.5]},\n",
       " {'accuracy': [0.5]},\n",
       " {'accuracy': [0.5]},\n",
       " {'accuracy': [0.5]},\n",
       " {'accuracy': [0.5]},\n",
       " {'accuracy': [0.5]},\n",
       " {'accuracy': [0.515625]},\n",
       " {'accuracy': [0.515625]},\n",
       " {'accuracy': [0.53125]},\n",
       " {'accuracy': [0.53125]},\n",
       " {'accuracy': [0.546875]},\n",
       " {'accuracy': [0.53125]},\n",
       " {'accuracy': [0.53125]},\n",
       " {'accuracy': [0.5]},\n",
       " {'accuracy': [0.484375]},\n",
       " {'accuracy': [0.46875]},\n",
       " {'accuracy': [0.46875]},\n",
       " {'accuracy': [0.46875]},\n",
       " {'accuracy': [0.484375]},\n",
       " {'accuracy': [0.484375]},\n",
       " {'accuracy': [0.46875]},\n",
       " {'accuracy': [0.4375]},\n",
       " {'accuracy': [0.4375]},\n",
       " {'accuracy': [0.4375]},\n",
       " {'accuracy': [0.4375]},\n",
       " {'accuracy': [0.46875]},\n",
       " {'accuracy': [0.46875]},\n",
       " {'accuracy': [0.46875]},\n",
       " {'accuracy': [0.453125]},\n",
       " {'accuracy': [0.4375]},\n",
       " {'accuracy': [0.46875]},\n",
       " {'accuracy': [0.484375]},\n",
       " {'accuracy': [0.5]},\n",
       " {'accuracy': [0.5]},\n",
       " {'accuracy': [0.515625]},\n",
       " {'accuracy': [0.53125]},\n",
       " {'accuracy': [0.5625]},\n",
       " {'accuracy': [0.5625]},\n",
       " {'accuracy': [0.578125]},\n",
       " {'accuracy': [0.578125]},\n",
       " {'accuracy': [0.578125]},\n",
       " {'accuracy': [0.578125]},\n",
       " {'accuracy': [0.578125]},\n",
       " {'accuracy': [0.59375]},\n",
       " {'accuracy': [0.59375]},\n",
       " {'accuracy': [0.59375]},\n",
       " {'accuracy': [0.59375]},\n",
       " {'accuracy': [0.59375]},\n",
       " {'accuracy': [0.578125]},\n",
       " {'accuracy': [0.5625]},\n",
       " {'accuracy': [0.5625]},\n",
       " {'accuracy': [0.5625]},\n",
       " {'accuracy': [0.5625]},\n",
       " {'accuracy': [0.53125]},\n",
       " {'accuracy': [0.515625]},\n",
       " {'accuracy': [0.515625]},\n",
       " {'accuracy': [0.515625]},\n",
       " {'accuracy': [0.5]},\n",
       " {'accuracy': [0.484375]},\n",
       " {'accuracy': [0.484375]},\n",
       " {'accuracy': [0.484375]},\n",
       " {'accuracy': [0.5]},\n",
       " {'accuracy': [0.5]},\n",
       " {'accuracy': [0.5]},\n",
       " {'accuracy': [0.5]},\n",
       " {'accuracy': [0.5]},\n",
       " {'accuracy': [0.515625]},\n",
       " {'accuracy': [0.515625]},\n",
       " {'accuracy': [0.5]},\n",
       " {'accuracy': [0.515625]},\n",
       " {'accuracy': [0.546875]},\n",
       " {'accuracy': [0.5625]},\n",
       " {'accuracy': [0.5625]},\n",
       " {'accuracy': [0.5625]},\n",
       " {'accuracy': [0.5625]},\n",
       " {'accuracy': [0.53125]},\n",
       " {'accuracy': [0.515625]},\n",
       " {'accuracy': [0.515625]},\n",
       " {'accuracy': [0.515625]},\n",
       " {'accuracy': [0.46875]},\n",
       " {'accuracy': [0.453125]},\n",
       " {'accuracy': [0.4375]},\n",
       " {'accuracy': [0.40625]},\n",
       " {'accuracy': [0.421875]},\n",
       " {'accuracy': [0.40625]},\n",
       " {'accuracy': [0.390625]},\n",
       " {'accuracy': [0.390625]},\n",
       " {'accuracy': [0.359375]},\n",
       " {'accuracy': [0.359375]},\n",
       " {'accuracy': [0.375]},\n",
       " {'accuracy': [0.390625]},\n",
       " {'accuracy': [0.375]},\n",
       " {'accuracy': [0.375]},\n",
       " {'accuracy': [0.390625]},\n",
       " {'accuracy': [0.40625]},\n",
       " {'accuracy': [0.421875]},\n",
       " {'accuracy': [0.421875]},\n",
       " {'accuracy': [0.421875]},\n",
       " {'accuracy': [0.4375]},\n",
       " {'accuracy': [0.453125]},\n",
       " {'accuracy': [0.5]},\n",
       " {'accuracy': [0.53125]},\n",
       " {'accuracy': [0.53125]},\n",
       " {'accuracy': [0.546875]},\n",
       " {'accuracy': [0.515625]},\n",
       " {'accuracy': [0.515625]},\n",
       " {'accuracy': [0.53125]},\n",
       " {'accuracy': [0.53125]},\n",
       " {'accuracy': [0.53125]},\n",
       " {'accuracy': [0.515625]},\n",
       " {'accuracy': [0.515625]},\n",
       " {'accuracy': [0.515625]},\n",
       " {'accuracy': [0.515625]},\n",
       " {'accuracy': [0.53125]},\n",
       " {'accuracy': [0.515625]},\n",
       " {'accuracy': [0.484375]},\n",
       " {'accuracy': [0.484375]},\n",
       " {'accuracy': [0.46875]},\n",
       " {'accuracy': [0.453125]},\n",
       " {'accuracy': [0.453125]},\n",
       " {'accuracy': [0.453125]},\n",
       " {'accuracy': [0.421875]},\n",
       " {'accuracy': [0.40625]},\n",
       " {'accuracy': [0.359375]},\n",
       " {'accuracy': [0.375]},\n",
       " {'accuracy': [0.375]},\n",
       " {'accuracy': [0.40625]},\n",
       " {'accuracy': [0.453125]},\n",
       " {'accuracy': [0.40625]},\n",
       " {'accuracy': [0.40625]},\n",
       " {'accuracy': [0.4375]},\n",
       " {'accuracy': [0.4375]},\n",
       " {'accuracy': [0.46875]},\n",
       " {'accuracy': [0.5]},\n",
       " {'accuracy': [0.5]},\n",
       " {'accuracy': [0.53125]},\n",
       " {'accuracy': [0.546875]},\n",
       " {'accuracy': [0.546875]},\n",
       " {'accuracy': [0.5625]},\n",
       " {'accuracy': [0.5625]},\n",
       " {'accuracy': [0.5625]},\n",
       " {'accuracy': [0.546875]},\n",
       " {'accuracy': [0.53125]},\n",
       " {'accuracy': [0.515625]},\n",
       " {'accuracy': [0.5]},\n",
       " {'accuracy': [0.5]},\n",
       " {'accuracy': [0.484375]},\n",
       " {'accuracy': [0.46875]},\n",
       " {'accuracy': [0.453125]},\n",
       " {'accuracy': [0.4375]},\n",
       " {'accuracy': [0.40625]},\n",
       " {'accuracy': [0.390625]},\n",
       " {'accuracy': [0.390625]},\n",
       " {'accuracy': [0.390625]},\n",
       " {'accuracy': [0.390625]},\n",
       " {'accuracy': [0.390625]},\n",
       " {'accuracy': [0.40625]},\n",
       " {'accuracy': [0.40625]},\n",
       " {'accuracy': [0.40625]},\n",
       " {'accuracy': [0.421875]},\n",
       " {'accuracy': [0.4375]},\n",
       " {'accuracy': [0.46875]},\n",
       " {'accuracy': [0.5]},\n",
       " {'accuracy': [0.515625]},\n",
       " {'accuracy': [0.546875]},\n",
       " {'accuracy': [0.546875]},\n",
       " {'accuracy': [0.546875]},\n",
       " {'accuracy': [0.546875]},\n",
       " {'accuracy': [0.546875]},\n",
       " {'accuracy': [0.484375]},\n",
       " {'accuracy': [0.453125]},\n",
       " {'accuracy': [0.421875]},\n",
       " {'accuracy': [0.359375]},\n",
       " {'accuracy': [0.34375]},\n",
       " {'accuracy': [0.28125]},\n",
       " {'accuracy': [0.28125]},\n",
       " {'accuracy': [0.265625]},\n",
       " {'accuracy': [0.265625]},\n",
       " {'accuracy': [0.265625]},\n",
       " {'accuracy': [0.265625]},\n",
       " {'accuracy': [0.265625]},\n",
       " {'accuracy': [0.265625]},\n",
       " {'accuracy': [0.3125]},\n",
       " {'accuracy': [0.359375]},\n",
       " {'accuracy': [0.390625]},\n",
       " {'accuracy': [0.4375]},\n",
       " {'accuracy': [0.4375]},\n",
       " {'accuracy': [0.46875]},\n",
       " {'accuracy': [0.53125]},\n",
       " {'accuracy': [0.5625]},\n",
       " {'accuracy': [0.578125]},\n",
       " {'accuracy': [0.59375]},\n",
       " {'accuracy': [0.59375]},\n",
       " {'accuracy': [0.59375]},\n",
       " {'accuracy': [0.609375]},\n",
       " {'accuracy': [0.578125]},\n",
       " {'accuracy': [0.59375]},\n",
       " {'accuracy': [0.5625]},\n",
       " {'accuracy': [0.53125]},\n",
       " {'accuracy': [0.5]},\n",
       " {'accuracy': [0.484375]},\n",
       " {'accuracy': [0.4375]},\n",
       " {'accuracy': [0.390625]},\n",
       " {'accuracy': [0.375]},\n",
       " {'accuracy': [0.375]},\n",
       " {'accuracy': [0.375]},\n",
       " {'accuracy': [0.375]},\n",
       " {'accuracy': [0.375]},\n",
       " {'accuracy': [0.359375]},\n",
       " {'accuracy': [0.40625]},\n",
       " {'accuracy': [0.40625]},\n",
       " {'accuracy': [0.40625]},\n",
       " {'accuracy': [0.40625]},\n",
       " {'accuracy': [0.453125]},\n",
       " {'accuracy': [0.46875]},\n",
       " {'accuracy': [0.484375]},\n",
       " {'accuracy': [0.484375]},\n",
       " {'accuracy': [0.53125]},\n",
       " {'accuracy': [0.546875]},\n",
       " {'accuracy': [0.546875]},\n",
       " {'accuracy': [0.53125]},\n",
       " {'accuracy': [0.46875]},\n",
       " {'accuracy': [0.421875]},\n",
       " {'accuracy': [0.375]},\n",
       " {'accuracy': [0.359375]},\n",
       " {'accuracy': [0.3125]},\n",
       " {'accuracy': [0.296875]},\n",
       " {'accuracy': [0.296875]},\n",
       " {'accuracy': [0.296875]},\n",
       " {'accuracy': [0.34375]},\n",
       " {'accuracy': [0.34375]},\n",
       " {'accuracy': [0.40625]},\n",
       " {'accuracy': [0.453125]},\n",
       " {'accuracy': [0.46875]},\n",
       " {'accuracy': [0.5]},\n",
       " {'accuracy': [0.5]},\n",
       " {'accuracy': [0.5]},\n",
       " {'accuracy': [0.5]},\n",
       " {'accuracy': [0.46875]},\n",
       " {'accuracy': [0.46875]},\n",
       " {'accuracy': [0.5]},\n",
       " {'accuracy': [0.5]},\n",
       " {'accuracy': [0.515625]},\n",
       " {'accuracy': [0.546875]},\n",
       " {'accuracy': [0.578125]},\n",
       " {'accuracy': [0.609375]},\n",
       " {'accuracy': [0.625]},\n",
       " {'accuracy': [0.625]},\n",
       " {'accuracy': [0.59375]},\n",
       " ...]"
      ]
     },
     "execution_count": 46,
     "metadata": {},
     "output_type": "execute_result"
    }
   ],
   "source": [
    "learn.sched.rec_metrics"
   ]
  },
  {
   "cell_type": "code",
   "execution_count": null,
   "metadata": {},
   "outputs": [],
   "source": []
  },
  {
   "cell_type": "code",
   "execution_count": null,
   "metadata": {},
   "outputs": [],
   "source": []
  },
  {
   "cell_type": "code",
   "execution_count": 17,
   "metadata": {},
   "outputs": [],
   "source": [
    "lay_opt = learn.sched.layer_opt"
   ]
  },
  {
   "cell_type": "code",
   "execution_count": 18,
   "metadata": {},
   "outputs": [
    {
     "data": {
      "text/plain": [
       "[{'betas': (0.9, 0.999),\n",
       "  'eps': 1e-08,\n",
       "  'lr': 4.109705879287773e-05,\n",
       "  'params': [Parameter containing:\n",
       "   -7.6291e-03  1.0435e-02 -5.4283e-04  ...   1.1248e-02 -1.8135e-03 -1.7815e-02\n",
       "    2.9777e-03 -1.2929e-02  1.5696e-02  ...  -3.3291e-03  1.4445e-02 -8.9108e-03\n",
       "    3.8690e-03 -3.3641e-03 -1.6537e-02  ...   5.0355e-03  1.1230e-02  9.9307e-03\n",
       "                   ...                   ⋱                   ...                \n",
       "    1.4148e-02  3.4371e-03 -1.5090e-02  ...   1.0123e-02 -1.1727e-02 -8.7970e-03\n",
       "   -4.1093e-03 -1.5130e-02  1.4766e-02  ...   9.7148e-03 -7.0287e-03  1.7132e-02\n",
       "   -1.7386e-02  1.7735e-02 -8.2158e-03  ...   1.1735e-02  1.4976e-02  9.7531e-03\n",
       "   [torch.cuda.FloatTensor of size 40x3072 (GPU 0)], Parameter containing:\n",
       "   1.00000e-02 *\n",
       "    -0.6478\n",
       "     0.5530\n",
       "     0.6499\n",
       "     0.3658\n",
       "     1.0449\n",
       "     1.0604\n",
       "    -1.3180\n",
       "    -1.1204\n",
       "     0.4309\n",
       "     1.0034\n",
       "     1.6303\n",
       "    -1.6536\n",
       "    -0.0545\n",
       "    -1.2577\n",
       "    -0.5422\n",
       "    -1.2785\n",
       "     0.5496\n",
       "    -0.6565\n",
       "    -0.4163\n",
       "    -0.4368\n",
       "    -1.3940\n",
       "    -0.7818\n",
       "    -1.0831\n",
       "     0.7818\n",
       "     1.0275\n",
       "     0.9793\n",
       "     0.0195\n",
       "    -1.3346\n",
       "    -1.3133\n",
       "    -0.2081\n",
       "    -0.3729\n",
       "     0.9320\n",
       "     0.3496\n",
       "     0.3669\n",
       "     1.1147\n",
       "     1.6124\n",
       "    -0.7178\n",
       "     0.1441\n",
       "     0.4453\n",
       "    -0.0311\n",
       "   [torch.cuda.FloatTensor of size 40 (GPU 0)], Parameter containing:\n",
       "   \n",
       "   Columns 0 to 9 \n",
       "   -0.1426  0.0566 -0.1301 -0.1228  0.0535 -0.1250  0.0490 -0.0739  0.0604  0.0474\n",
       "   -0.0363  0.0777  0.0732  0.0572  0.1273  0.0559  0.0490  0.1433 -0.1190 -0.0060\n",
       "   -0.1559 -0.1048  0.1401  0.0019  0.1457  0.0968 -0.1382 -0.0399 -0.0048 -0.1287\n",
       "    0.1296 -0.0523 -0.0673  0.0416  0.1386 -0.0060 -0.0297  0.0803  0.1256  0.1556\n",
       "   -0.1501  0.0526 -0.0700 -0.0203 -0.0588 -0.1232 -0.1351  0.0979  0.1304  0.0408\n",
       "    0.1175 -0.0047 -0.0823 -0.0959  0.1090 -0.1070 -0.0950  0.1547  0.1400 -0.0401\n",
       "    0.0258 -0.0461  0.0418 -0.0975  0.0246  0.0307 -0.0224  0.1187  0.0031 -0.1588\n",
       "    0.1203  0.0615  0.0523 -0.0894 -0.1512  0.0750  0.1487  0.1204 -0.1132  0.0531\n",
       "    0.0779  0.0194 -0.0831 -0.1446  0.0351  0.0782 -0.1576  0.0667  0.1049  0.0791\n",
       "    0.0809  0.0627  0.0631  0.0160 -0.1003 -0.0341  0.0648  0.1501 -0.0806  0.1394\n",
       "   \n",
       "   Columns 10 to 19 \n",
       "    0.0117  0.0043 -0.0356  0.0869  0.1457 -0.1419  0.0217  0.1350 -0.0597 -0.0173\n",
       "   -0.1130  0.1024  0.1532  0.0708  0.1153  0.1308 -0.0208 -0.1428  0.0050 -0.0038\n",
       "    0.1485 -0.0161 -0.0540 -0.1282  0.1183  0.0996  0.0832  0.0034 -0.0123  0.1502\n",
       "   -0.0511 -0.0482  0.0951 -0.0348  0.1558 -0.0772  0.1177 -0.1360 -0.0294  0.0406\n",
       "   -0.0138 -0.0511 -0.0461 -0.0064  0.0514  0.0311 -0.0202  0.1401 -0.1324 -0.1067\n",
       "   -0.0726 -0.1419 -0.1319 -0.0177  0.0993 -0.0573 -0.1162  0.1352 -0.1182  0.1136\n",
       "    0.0194  0.1411  0.0179  0.1357  0.0085 -0.0817  0.0843  0.0468 -0.1510 -0.0252\n",
       "    0.0997 -0.1157 -0.0855  0.1215 -0.0714  0.0711  0.0484  0.1327  0.1135 -0.0866\n",
       "    0.1185 -0.1300 -0.0644 -0.1465 -0.0322  0.1077  0.1538 -0.0003  0.0654 -0.0773\n",
       "    0.0242 -0.0197 -0.0163  0.1302  0.0272  0.0397  0.0246  0.1133 -0.0576 -0.0545\n",
       "   \n",
       "   Columns 20 to 29 \n",
       "   -0.0183 -0.0011 -0.1366  0.1531  0.0643  0.0100  0.0449  0.0828 -0.0967 -0.0719\n",
       "   -0.1458 -0.0323  0.0701  0.0003  0.0917  0.1036 -0.0076 -0.1246  0.1408 -0.0983\n",
       "   -0.1540  0.1042  0.1362  0.0234  0.0066  0.1563  0.0734 -0.1524  0.0712  0.0894\n",
       "   -0.0927 -0.0698 -0.1552  0.1076  0.0316 -0.0192 -0.0721 -0.0951 -0.0430 -0.1124\n",
       "    0.0757 -0.0007  0.1138 -0.1056  0.0067 -0.1555 -0.1578 -0.0217  0.1040 -0.0337\n",
       "    0.0424 -0.0239 -0.0572 -0.1091  0.1108  0.0904  0.1209  0.0989 -0.0048 -0.1496\n",
       "   -0.0806  0.1350  0.0644 -0.0322  0.0221  0.1367 -0.0495 -0.1419 -0.0681 -0.0472\n",
       "   -0.0535  0.0206 -0.1136  0.1417  0.0004 -0.1530 -0.0763  0.1485 -0.0179 -0.0576\n",
       "   -0.0436 -0.0571 -0.0755 -0.1261  0.0690  0.0865 -0.0407 -0.0207 -0.0433 -0.1351\n",
       "   -0.0501 -0.0150  0.0067 -0.0311  0.0773  0.0464  0.1391  0.0009  0.0794  0.0308\n",
       "   \n",
       "   Columns 30 to 39 \n",
       "   -0.1037 -0.1370  0.1236  0.0920  0.1471  0.0372 -0.1496 -0.0727 -0.0705 -0.0472\n",
       "   -0.0136 -0.1080 -0.1402  0.1457 -0.1062  0.1451  0.0733 -0.1505  0.0845  0.0229\n",
       "    0.1123 -0.1047  0.1020 -0.0255  0.1541 -0.1098  0.0538 -0.1473 -0.0375 -0.0473\n",
       "    0.0276 -0.0076  0.0060 -0.1390 -0.0187 -0.0727 -0.0829  0.0778  0.0028 -0.0529\n",
       "    0.0608 -0.0001  0.0767 -0.0115 -0.0004 -0.1172 -0.0429 -0.0894 -0.0781  0.0203\n",
       "   -0.0517  0.0411 -0.0269 -0.0786 -0.0754 -0.0099  0.1567 -0.0755 -0.0538 -0.0311\n",
       "   -0.1493 -0.0269  0.0876  0.1301 -0.0422 -0.0162  0.0834 -0.1388  0.0736  0.0024\n",
       "   -0.1297 -0.0137 -0.0586  0.1255  0.1000 -0.0037  0.1093  0.1128  0.0552 -0.1369\n",
       "    0.0892 -0.1585 -0.1010  0.0894  0.1369 -0.1167 -0.1460  0.0895 -0.0303  0.1197\n",
       "   -0.0660  0.0007 -0.0477  0.0207  0.1289 -0.1024 -0.1377 -0.1410  0.0534  0.0101\n",
       "   [torch.cuda.FloatTensor of size 10x40 (GPU 0)], Parameter containing:\n",
       "   -0.0787\n",
       "   -0.0623\n",
       "    0.0791\n",
       "    0.1072\n",
       "   -0.1191\n",
       "   -0.0091\n",
       "   -0.1562\n",
       "    0.0570\n",
       "    0.1000\n",
       "    0.1516\n",
       "   [torch.cuda.FloatTensor of size 10 (GPU 0)]],\n",
       "  'weight_decay': 0.0}]"
      ]
     },
     "execution_count": 18,
     "metadata": {},
     "output_type": "execute_result"
    }
   ],
   "source": [
    "lay_opt.opt.param_groups"
   ]
  },
  {
   "cell_type": "code",
   "execution_count": null,
   "metadata": {},
   "outputs": [],
   "source": []
  },
  {
   "cell_type": "code",
   "execution_count": 21,
   "metadata": {},
   "outputs": [
    {
     "data": {
      "application/vnd.jupyter.widget-view+json": {
       "model_id": "b143a7911f9648c1a826d7e481235f22",
       "version_major": 2,
       "version_minor": 0
      },
      "text/html": [
       "<p>Failed to display Jupyter Widget of type <code>HBox</code>.</p>\n",
       "<p>\n",
       "  If you're reading this message in the Jupyter Notebook or JupyterLab Notebook, it may mean\n",
       "  that the widgets JavaScript is still loading. If this message persists, it\n",
       "  likely means that the widgets JavaScript library is either not installed or\n",
       "  not enabled. See the <a href=\"https://ipywidgets.readthedocs.io/en/stable/user_install.html\">Jupyter\n",
       "  Widgets Documentation</a> for setup instructions.\n",
       "</p>\n",
       "<p>\n",
       "  If you're reading this message in another frontend (for example, a static\n",
       "  rendering on GitHub or <a href=\"https://nbviewer.jupyter.org/\">NBViewer</a>),\n",
       "  it may mean that your frontend doesn't currently support widgets.\n",
       "</p>\n"
      ],
      "text/plain": [
       "HBox(children=(IntProgress(value=0, description='Epoch', max=1), HTML(value='')))"
      ]
     },
     "metadata": {},
     "output_type": "display_data"
    },
    {
     "name": "stdout",
     "output_type": "stream",
     "text": [
      "  0%|▏                                                                      | 1/391 [00:06<42:04,  6.47s/it, loss=2.31]\n",
      "  1%|▌                                                                      | 3/391 [00:06<14:01,  2.17s/it, loss=2.32]"
     ]
    },
    {
     "name": "stderr",
     "output_type": "stream",
     "text": [
      "Exception in thread Thread-8:\n",
      "Traceback (most recent call last):\n",
      "  File \"C:\\Users\\Sylvain\\Anaconda3\\envs\\fastai\\lib\\threading.py\", line 916, in _bootstrap_inner\n",
      "    self.run()\n",
      "  File \"C:\\Users\\Sylvain\\Anaconda3\\envs\\fastai\\lib\\site-packages\\tqdm\\_tqdm.py\", line 144, in run\n",
      "    for instance in self.tqdm_cls._instances:\n",
      "  File \"C:\\Users\\Sylvain\\Anaconda3\\envs\\fastai\\lib\\_weakrefset.py\", line 60, in __iter__\n",
      "    for itemref in self.data:\n",
      "RuntimeError: Set changed size during iteration\n",
      "\n"
     ]
    },
    {
     "name": "stdout",
     "output_type": "stream",
     "text": [
      " 71%|████████████████████████████████████████████████▉                    | 277/391 [02:36<01:04,  1.76it/s, loss=13.8]\n"
     ]
    }
   ],
   "source": [
    "learn.lr_find()"
   ]
  },
  {
   "cell_type": "code",
   "execution_count": 22,
   "metadata": {},
   "outputs": [
    {
     "data": {
      "image/png": "[encoded data removed]",
      "text/plain": [
       "<Figure size 432x288 with 1 Axes>"
      ]
     },
     "metadata": {},
     "output_type": "display_data"
    }
   ],
   "source": [
    "learn.sched.plot()"
   ]
  },
  {
   "cell_type": "code",
   "execution_count": 26,
   "metadata": {},
   "outputs": [
    {
     "data": {
      "application/vnd.jupyter.widget-view+json": {
       "model_id": "2c0540516f274c75a681bc8a4195f63f",
       "version_major": 2,
       "version_minor": 0
      },
      "text/html": [
       "<p>Failed to display Jupyter Widget of type <code>HBox</code>.</p>\n",
       "<p>\n",
       "  If you're reading this message in the Jupyter Notebook or JupyterLab Notebook, it may mean\n",
       "  that the widgets JavaScript is still loading. If this message persists, it\n",
       "  likely means that the widgets JavaScript library is either not installed or\n",
       "  not enabled. See the <a href=\"https://ipywidgets.readthedocs.io/en/stable/user_install.html\">Jupyter\n",
       "  Widgets Documentation</a> for setup instructions.\n",
       "</p>\n",
       "<p>\n",
       "  If you're reading this message in another frontend (for example, a static\n",
       "  rendering on GitHub or <a href=\"https://nbviewer.jupyter.org/\">NBViewer</a>),\n",
       "  it may mean that your frontend doesn't currently support widgets.\n",
       "</p>\n"
      ],
      "text/plain": [
       "HBox(children=(IntProgress(value=0, description='Epoch', max=1), HTML(value='')))"
      ]
     },
     "metadata": {},
     "output_type": "display_data"
    },
    {
     "name": "stdout",
     "output_type": "stream",
     "text": [
      "epoch      trn_loss   val_loss   accuracy                                                                              \n",
      "    0      1.649389   1.556277   0.451642  \n",
      "\n"
     ]
    },
    {
     "data": {
      "text/plain": [
       "[1.5562772328340555, 0.4516416139240506]"
      ]
     },
     "execution_count": 26,
     "metadata": {},
     "output_type": "execute_result"
    }
   ],
   "source": [
    "learn.fit(1e-2, 1, cycle_len=1, use_clr_beta=(10,10,0.95,0.85))"
   ]
  },
  {
   "cell_type": "code",
   "execution_count": 25,
   "metadata": {},
   "outputs": [
    {
     "data": {
      "image/png": "[encoded data removed]",
      "text/plain": [
       "<Figure size 864x288 with 2 Axes>"
      ]
     },
     "metadata": {},
     "output_type": "display_data"
    }
   ],
   "source": [
    "learn.sched.plot_lr()"
   ]
  },
  {
   "cell_type": "code",
   "execution_count": 23,
   "metadata": {},
   "outputs": [
    {
     "data": {
      "text/plain": [
       "0.9"
      ]
     },
     "execution_count": 23,
     "metadata": {},
     "output_type": "execute_result"
    }
   ],
   "source": [
    "learn.sched.layer_opt.opt.param_groups[0]['momentum']"
   ]
  },
  {
   "cell_type": "code",
   "execution_count": 24,
   "metadata": {},
   "outputs": [],
   "source": [
    "use_clr = (32,8,0.85,0.95)"
   ]
  },
  {
   "cell_type": "code",
   "execution_count": 26,
   "metadata": {},
   "outputs": [],
   "source": [
    "a,b = use_clr[:2]\n",
    "moms = use_clr[2:]"
   ]
  },
  {
   "cell_type": "code",
   "execution_count": 27,
   "metadata": {},
   "outputs": [
    {
     "data": {
      "text/plain": [
       "(0.85, 0.95)"
      ]
     },
     "execution_count": 27,
     "metadata": {},
     "output_type": "execute_result"
    }
   ],
   "source": [
    "moms"
   ]
  },
  {
   "cell_type": "code",
   "execution_count": 47,
   "metadata": {},
   "outputs": [
    {
     "data": {
      "application/vnd.jupyter.widget-view+json": {
       "model_id": "070ff163ed0f482bb098dc52916f1213",
       "version_major": 2,
       "version_minor": 0
      },
      "text/html": [
       "<p>Failed to display Jupyter Widget of type <code>HBox</code>.</p>\n",
       "<p>\n",
       "  If you're reading this message in the Jupyter Notebook or JupyterLab Notebook, it may mean\n",
       "  that the widgets JavaScript is still loading. If this message persists, it\n",
       "  likely means that the widgets JavaScript library is either not installed or\n",
       "  not enabled. See the <a href=\"https://ipywidgets.readthedocs.io/en/stable/user_install.html\">Jupyter\n",
       "  Widgets Documentation</a> for setup instructions.\n",
       "</p>\n",
       "<p>\n",
       "  If you're reading this message in another frontend (for example, a static\n",
       "  rendering on GitHub or <a href=\"https://nbviewer.jupyter.org/\">NBViewer</a>),\n",
       "  it may mean that your frontend doesn't currently support widgets.\n",
       "</p>\n"
      ],
      "text/plain": [
       "HBox(children=(IntProgress(value=0, description='Epoch', max=4), HTML(value='')))"
      ]
     },
     "metadata": {},
     "output_type": "display_data"
    },
    {
     "name": "stdout",
     "output_type": "stream",
     "text": [
      "epoch      trn_loss   val_loss   accuracy                                                                              \n",
      "    0      1.799052   1.690951   0.410843  \n",
      "    1      1.710081   1.601665   0.433506                                                                              \n",
      "    2      1.659519   1.556936   0.452476                                                                              \n",
      "    3      1.652943   1.534778   0.460663                                                                              \n",
      "\n"
     ]
    },
    {
     "data": {
      "text/plain": [
       "[1.5347778, 0.4606629392971246]"
      ]
     },
     "execution_count": 47,
     "metadata": {},
     "output_type": "execute_result"
    }
   ],
   "source": [
    "learn.fit(1e-3, 1, cycle_len=4, use_clr=(10,4,0.85,0.95))"
   ]
  },
  {
   "cell_type": "code",
   "execution_count": 53,
   "metadata": {},
   "outputs": [
    {
     "data": {
      "image/png": "[encoded data removed]",
      "text/plain": [
       "<Figure size 864x288 with 2 Axes>"
      ]
     },
     "metadata": {},
     "output_type": "display_data"
    }
   ],
   "source": [
    "learn.sched.plot_lr()"
   ]
  },
  {
   "cell_type": "code",
   "execution_count": 49,
   "metadata": {},
   "outputs": [],
   "source": [
    "iterations = learn.sched.iterations\n",
    "lrs = learn.sched.lrs\n",
    "momentums = learn.sched.momentums"
   ]
  },
  {
   "cell_type": "markdown",
   "metadata": {},
   "source": [
    "# Shallow 3 layers"
   ]
  },
  {
   "cell_type": "code",
   "execution_count": 135,
   "metadata": {},
   "outputs": [],
   "source": [
    "class ShallowNet(nn.Module):\n",
    "    def __init__(self):\n",
    "        super().__init__()\n",
    "        self.conv1 = nn.Conv2d(3,20,5,padding=2)\n",
    "        self.conv2 = nn.Conv2d(20,50,5,padding=2)\n",
    "        self.linear = nn.Linear(50*8*8, 500)\n",
    "        self.out = nn.Linear(500,10)\n",
    "    \n",
    "    def forward(self,x):\n",
    "        x = F.max_pool2d(F.relu(self.conv1(x)),2)\n",
    "        x = F.max_pool2d(F.relu(self.conv2(x)),2)\n",
    "        x = x.view(x.size(0),-1)\n",
    "        x = F.relu(self.linear(x))\n",
    "        return F.log_softmax(self.out(x))"
   ]
  },
  {
   "cell_type": "code",
   "execution_count": 136,
   "metadata": {},
   "outputs": [],
   "source": [
    "learn = ConvLearner.from_model_data(ShallowNet(), data)\n",
    "learn.crit = F.nll_loss"
   ]
  },
  {
   "cell_type": "code",
   "execution_count": 137,
   "metadata": {},
   "outputs": [
    {
     "data": {
      "application/vnd.jupyter.widget-view+json": {
       "model_id": "c26133731ae14309b445efe3ad09afae",
       "version_major": 2,
       "version_minor": 0
      },
      "text/html": [
       "<p>Failed to display Jupyter Widget of type <code>HBox</code>.</p>\n",
       "<p>\n",
       "  If you're reading this message in the Jupyter Notebook or JupyterLab Notebook, it may mean\n",
       "  that the widgets JavaScript is still loading. If this message persists, it\n",
       "  likely means that the widgets JavaScript library is either not installed or\n",
       "  not enabled. See the <a href=\"https://ipywidgets.readthedocs.io/en/stable/user_install.html\">Jupyter\n",
       "  Widgets Documentation</a> for setup instructions.\n",
       "</p>\n",
       "<p>\n",
       "  If you're reading this message in another frontend (for example, a static\n",
       "  rendering on GitHub or <a href=\"https://nbviewer.jupyter.org/\">NBViewer</a>),\n",
       "  it may mean that your frontend doesn't currently support widgets.\n",
       "</p>\n"
      ],
      "text/plain": [
       "HBox(children=(IntProgress(value=0, description='Epoch', max=1), HTML(value='')))"
      ]
     },
     "metadata": {},
     "output_type": "display_data"
    },
    {
     "name": "stdout",
     "output_type": "stream",
     "text": [
      "                                                                                                                       \r"
     ]
    }
   ],
   "source": [
    "learn.lr_find()"
   ]
  },
  {
   "cell_type": "code",
   "execution_count": 138,
   "metadata": {},
   "outputs": [
    {
     "data": {
      "image/png": "[encoded data removed]",
      "text/plain": [
       "<Figure size 432x288 with 1 Axes>"
      ]
     },
     "metadata": {},
     "output_type": "display_data"
    }
   ],
   "source": [
    "learn.sched.plot()"
   ]
  },
  {
   "cell_type": "code",
   "execution_count": 139,
   "metadata": {},
   "outputs": [],
   "source": [
    "x,y = next(iter(data.aug_dl))"
   ]
  },
  {
   "cell_type": "code",
   "execution_count": 141,
   "metadata": {},
   "outputs": [
    {
     "data": {
      "text/plain": [
       "torch.Size([3, 32, 32])"
      ]
     },
     "execution_count": 141,
     "metadata": {},
     "output_type": "execute_result"
    }
   ],
   "source": [
    "x[0].shape"
   ]
  },
  {
   "cell_type": "code",
   "execution_count": 144,
   "metadata": {},
   "outputs": [
    {
     "name": "stderr",
     "output_type": "stream",
     "text": [
      "Clipping input data to the valid range for imshow with RGB data ([0..1] for floats or [0..255] for integers).\n"
     ]
    },
    {
     "data": {
      "text/plain": [
       "<matplotlib.image.AxesImage at 0x2701c71c0b8>"
      ]
     },
     "execution_count": 144,
     "metadata": {},
     "output_type": "execute_result"
    },
    {
     "data": {
      "image/png": "[encoded data removed]",
      "text/plain": [
       "<Figure size 432x288 with 1 Axes>"
      ]
     },
     "metadata": {},
     "output_type": "display_data"
    }
   ],
   "source": [
    "plt.imshow(np.transpose(x[1],(1,2,0)))"
   ]
  },
  {
   "cell_type": "code",
   "execution_count": 21,
   "metadata": {
    "scrolled": true
   },
   "outputs": [
    {
     "data": {
      "application/vnd.jupyter.widget-view+json": {
       "model_id": "e9ca326472f64c24aab45d3e05d7413a",
       "version_major": 2,
       "version_minor": 0
      },
      "text/html": [
       "<p>Failed to display Jupyter Widget of type <code>HBox</code>.</p>\n",
       "<p>\n",
       "  If you're reading this message in the Jupyter Notebook or JupyterLab Notebook, it may mean\n",
       "  that the widgets JavaScript is still loading. If this message persists, it\n",
       "  likely means that the widgets JavaScript library is either not installed or\n",
       "  not enabled. See the <a href=\"https://ipywidgets.readthedocs.io/en/stable/user_install.html\">Jupyter\n",
       "  Widgets Documentation</a> for setup instructions.\n",
       "</p>\n",
       "<p>\n",
       "  If you're reading this message in another frontend (for example, a static\n",
       "  rendering on GitHub or <a href=\"https://nbviewer.jupyter.org/\">NBViewer</a>),\n",
       "  it may mean that your frontend doesn't currently support widgets.\n",
       "</p>\n"
      ],
      "text/plain": [
       "HBox(children=(IntProgress(value=0, description='Epoch', max=4), HTML(value='')))"
      ]
     },
     "metadata": {},
     "output_type": "display_data"
    },
    {
     "name": "stdout",
     "output_type": "stream",
     "text": [
      "epoch      trn_loss   val_loss   accuracy                                                                              \n",
      "    0      1.166266   1.152554   0.596222  \n",
      "    1      1.215572   1.166726   0.586432                                                                              \n",
      "    2      1.1776     1.152374   0.592761                                                                              \n",
      "    3      1.128169   1.08678    0.617385                                                                              \n"
     ]
    },
    {
     "data": {
      "text/plain": [
       "[1.086779915833775, 0.6173852848101266]"
      ]
     },
     "execution_count": 21,
     "metadata": {},
     "output_type": "execute_result"
    }
   ],
   "source": [
    "learn.fit(1e-2, 1, cycle_len=4, use_clr=(10,2,0.95,0.85), wds=3e-3)"
   ]
  },
  {
   "cell_type": "code",
   "execution_count": 22,
   "metadata": {},
   "outputs": [
    {
     "data": {
      "image/png": "[encoded data removed]",
      "text/plain": [
       "<Figure size 864x288 with 2 Axes>"
      ]
     },
     "metadata": {},
     "output_type": "display_data"
    }
   ],
   "source": [
    "learn.sched.plot_lr()"
   ]
  },
  {
   "cell_type": "code",
   "execution_count": 19,
   "metadata": {},
   "outputs": [
    {
     "data": {
      "application/vnd.jupyter.widget-view+json": {
       "model_id": "947a5de65c32436ca75b8abd86eb83bf",
       "version_major": 2,
       "version_minor": 0
      },
      "text/html": [
       "<p>Failed to display Jupyter Widget of type <code>HBox</code>.</p>\n",
       "<p>\n",
       "  If you're reading this message in the Jupyter Notebook or JupyterLab Notebook, it may mean\n",
       "  that the widgets JavaScript is still loading. If this message persists, it\n",
       "  likely means that the widgets JavaScript library is either not installed or\n",
       "  not enabled. See the <a href=\"https://ipywidgets.readthedocs.io/en/stable/user_install.html\">Jupyter\n",
       "  Widgets Documentation</a> for setup instructions.\n",
       "</p>\n",
       "<p>\n",
       "  If you're reading this message in another frontend (for example, a static\n",
       "  rendering on GitHub or <a href=\"https://nbviewer.jupyter.org/\">NBViewer</a>),\n",
       "  it may mean that your frontend doesn't currently support widgets.\n",
       "</p>\n"
      ],
      "text/plain": [
       "HBox(children=(IntProgress(value=0, description='Epoch', max=10), HTML(value='')))"
      ]
     },
     "metadata": {},
     "output_type": "display_data"
    },
    {
     "name": "stdout",
     "output_type": "stream",
     "text": [
      "epoch      trn_loss   val_loss   accuracy                                                                              \n",
      "    0      1.184064   1.160499   0.589992  \n",
      "    1      1.225595   1.173991   0.581586                                                                              \n",
      "    2      1.213392   1.152305   0.594541                                                                              \n",
      "    3      1.143425   1.096187   0.61788                                                                               \n",
      " 37%|█████████████████████████▏                                           | 143/391 [00:07<00:12, 20.40it/s, loss=1.11]"
     ]
    },
    {
     "ename": "KeyboardInterrupt",
     "evalue": "",
     "output_type": "error",
     "traceback": [
      "\u001b[1;31m---------------------------------------------------------------------------\u001b[0m",
      "\u001b[1;31mKeyboardInterrupt\u001b[0m                         Traceback (most recent call last)",
      "\u001b[1;32m<ipython-input-19-e783b2ab0511>\u001b[0m in \u001b[0;36m<module>\u001b[1;34m()\u001b[0m\n\u001b[1;32m----> 1\u001b[1;33m \u001b[0mlearn\u001b[0m\u001b[1;33m.\u001b[0m\u001b[0mfit\u001b[0m\u001b[1;33m(\u001b[0m\u001b[1;36m1e-2\u001b[0m\u001b[1;33m,\u001b[0m \u001b[1;36m1\u001b[0m\u001b[1;33m,\u001b[0m \u001b[0mcycle_len\u001b[0m\u001b[1;33m=\u001b[0m\u001b[1;36m10\u001b[0m\u001b[1;33m,\u001b[0m \u001b[0muse_clr1\u001b[0m\u001b[1;33m=\u001b[0m\u001b[1;33m(\u001b[0m\u001b[1;36m10\u001b[0m\u001b[1;33m,\u001b[0m\u001b[1;36m2\u001b[0m\u001b[1;33m,\u001b[0m\u001b[1;36m100\u001b[0m\u001b[1;33m,\u001b[0m\u001b[1;36m0.95\u001b[0m\u001b[1;33m,\u001b[0m\u001b[1;36m0.85\u001b[0m\u001b[1;33m)\u001b[0m\u001b[1;33m,\u001b[0m \u001b[0mwds\u001b[0m\u001b[1;33m=\u001b[0m\u001b[1;36m3e-3\u001b[0m\u001b[1;33m)\u001b[0m\u001b[1;33m\u001b[0m\u001b[0m\n\u001b[0m",
      "\u001b[1;32mD:\\Work\\Deeplearning\\Notebooks\\fastai\\learner.py\u001b[0m in \u001b[0;36mfit\u001b[1;34m(self, lrs, n_cycle, wds, **kwargs)\u001b[0m\n\u001b[0;32m    231\u001b[0m         \u001b[0mself\u001b[0m\u001b[1;33m.\u001b[0m\u001b[0msched\u001b[0m \u001b[1;33m=\u001b[0m \u001b[1;32mNone\u001b[0m\u001b[1;33m\u001b[0m\u001b[0m\n\u001b[0;32m    232\u001b[0m         \u001b[0mlayer_opt\u001b[0m \u001b[1;33m=\u001b[0m \u001b[0mself\u001b[0m\u001b[1;33m.\u001b[0m\u001b[0mget_layer_opt\u001b[0m\u001b[1;33m(\u001b[0m\u001b[0mlrs\u001b[0m\u001b[1;33m,\u001b[0m \u001b[0mwds\u001b[0m\u001b[1;33m)\u001b[0m\u001b[1;33m\u001b[0m\u001b[0m\n\u001b[1;32m--> 233\u001b[1;33m         \u001b[1;32mreturn\u001b[0m \u001b[0mself\u001b[0m\u001b[1;33m.\u001b[0m\u001b[0mfit_gen\u001b[0m\u001b[1;33m(\u001b[0m\u001b[0mself\u001b[0m\u001b[1;33m.\u001b[0m\u001b[0mmodel\u001b[0m\u001b[1;33m,\u001b[0m \u001b[0mself\u001b[0m\u001b[1;33m.\u001b[0m\u001b[0mdata\u001b[0m\u001b[1;33m,\u001b[0m \u001b[0mlayer_opt\u001b[0m\u001b[1;33m,\u001b[0m \u001b[0mn_cycle\u001b[0m\u001b[1;33m,\u001b[0m \u001b[1;33m**\u001b[0m\u001b[0mkwargs\u001b[0m\u001b[1;33m)\u001b[0m\u001b[1;33m\u001b[0m\u001b[0m\n\u001b[0m\u001b[0;32m    234\u001b[0m \u001b[1;33m\u001b[0m\u001b[0m\n\u001b[0;32m    235\u001b[0m     \u001b[1;32mdef\u001b[0m \u001b[0mwarm_up\u001b[0m\u001b[1;33m(\u001b[0m\u001b[0mself\u001b[0m\u001b[1;33m,\u001b[0m \u001b[0mlr\u001b[0m\u001b[1;33m,\u001b[0m \u001b[0mwds\u001b[0m\u001b[1;33m=\u001b[0m\u001b[1;32mNone\u001b[0m\u001b[1;33m)\u001b[0m\u001b[1;33m:\u001b[0m\u001b[1;33m\u001b[0m\u001b[0m\n",
      "\u001b[1;32mD:\\Work\\Deeplearning\\Notebooks\\fastai\\learner.py\u001b[0m in \u001b[0;36mfit_gen\u001b[1;34m(self, model, data, layer_opt, n_cycle, cycle_len, cycle_mult, cycle_save_name, best_save_name, use_clr, use_clr1, metrics, callbacks, use_wd_sched, norm_wds, wds_sched_mult, **kwargs)\u001b[0m\n\u001b[0;32m    178\u001b[0m         \u001b[0mn_epoch\u001b[0m \u001b[1;33m=\u001b[0m \u001b[0msum_geom\u001b[0m\u001b[1;33m(\u001b[0m\u001b[0mcycle_len\u001b[0m \u001b[1;32mif\u001b[0m \u001b[0mcycle_len\u001b[0m \u001b[1;32melse\u001b[0m \u001b[1;36m1\u001b[0m\u001b[1;33m,\u001b[0m \u001b[0mcycle_mult\u001b[0m\u001b[1;33m,\u001b[0m \u001b[0mn_cycle\u001b[0m\u001b[1;33m)\u001b[0m\u001b[1;33m\u001b[0m\u001b[0m\n\u001b[0;32m    179\u001b[0m         return fit(model, data, n_epoch, layer_opt.opt, self.crit,\n\u001b[1;32m--> 180\u001b[1;33m             metrics=metrics, callbacks=callbacks, reg_fn=self.reg_fn, clip=self.clip, **kwargs)\n\u001b[0m\u001b[0;32m    181\u001b[0m \u001b[1;33m\u001b[0m\u001b[0m\n\u001b[0;32m    182\u001b[0m     \u001b[1;32mdef\u001b[0m \u001b[0mget_layer_groups\u001b[0m\u001b[1;33m(\u001b[0m\u001b[0mself\u001b[0m\u001b[1;33m)\u001b[0m\u001b[1;33m:\u001b[0m \u001b[1;32mreturn\u001b[0m \u001b[0mself\u001b[0m\u001b[1;33m.\u001b[0m\u001b[0mmodels\u001b[0m\u001b[1;33m.\u001b[0m\u001b[0mget_layer_groups\u001b[0m\u001b[1;33m(\u001b[0m\u001b[1;33m)\u001b[0m\u001b[1;33m\u001b[0m\u001b[0m\n",
      "\u001b[1;32mD:\\Work\\Deeplearning\\Notebooks\\fastai\\model.py\u001b[0m in \u001b[0;36mfit\u001b[1;34m(model, data, epochs, opt, crit, metrics, callbacks, stepper, **kwargs)\u001b[0m\n\u001b[0;32m     97\u001b[0m             \u001b[0mavg_loss\u001b[0m \u001b[1;33m=\u001b[0m \u001b[0mavg_loss\u001b[0m \u001b[1;33m*\u001b[0m \u001b[0mavg_mom\u001b[0m \u001b[1;33m+\u001b[0m \u001b[0mloss\u001b[0m \u001b[1;33m*\u001b[0m \u001b[1;33m(\u001b[0m\u001b[1;36m1\u001b[0m\u001b[1;33m-\u001b[0m\u001b[0mavg_mom\u001b[0m\u001b[1;33m)\u001b[0m\u001b[1;33m\u001b[0m\u001b[0m\n\u001b[0;32m     98\u001b[0m             \u001b[0mdebias_loss\u001b[0m \u001b[1;33m=\u001b[0m \u001b[0mavg_loss\u001b[0m \u001b[1;33m/\u001b[0m \u001b[1;33m(\u001b[0m\u001b[1;36m1\u001b[0m \u001b[1;33m-\u001b[0m \u001b[0mavg_mom\u001b[0m\u001b[1;33m**\u001b[0m\u001b[0mbatch_num\u001b[0m\u001b[1;33m)\u001b[0m\u001b[1;33m\u001b[0m\u001b[0m\n\u001b[1;32m---> 99\u001b[1;33m             \u001b[0mt\u001b[0m\u001b[1;33m.\u001b[0m\u001b[0mset_postfix\u001b[0m\u001b[1;33m(\u001b[0m\u001b[0mloss\u001b[0m\u001b[1;33m=\u001b[0m\u001b[0mdebias_loss\u001b[0m\u001b[1;33m)\u001b[0m\u001b[1;33m\u001b[0m\u001b[0m\n\u001b[0m\u001b[0;32m    100\u001b[0m             \u001b[0mstop\u001b[0m\u001b[1;33m=\u001b[0m\u001b[1;32mFalse\u001b[0m\u001b[1;33m\u001b[0m\u001b[0m\n\u001b[0;32m    101\u001b[0m             \u001b[1;32mfor\u001b[0m \u001b[0mcb\u001b[0m \u001b[1;32min\u001b[0m \u001b[0mcallbacks\u001b[0m\u001b[1;33m:\u001b[0m \u001b[0mstop\u001b[0m \u001b[1;33m=\u001b[0m \u001b[0mstop\u001b[0m \u001b[1;32mor\u001b[0m \u001b[0mcb\u001b[0m\u001b[1;33m.\u001b[0m\u001b[0mon_batch_end\u001b[0m\u001b[1;33m(\u001b[0m\u001b[0mdebias_loss\u001b[0m\u001b[1;33m)\u001b[0m\u001b[1;33m\u001b[0m\u001b[0m\n",
      "\u001b[1;32m~\\Anaconda3\\envs\\fastai\\lib\\site-packages\\tqdm\\_tqdm.py\u001b[0m in \u001b[0;36mset_postfix\u001b[1;34m(self, ordered_dict, refresh, **kwargs)\u001b[0m\n\u001b[0;32m   1206\u001b[0m                                  for key in postfix.keys())\n\u001b[0;32m   1207\u001b[0m         \u001b[1;32mif\u001b[0m \u001b[0mrefresh\u001b[0m\u001b[1;33m:\u001b[0m\u001b[1;33m\u001b[0m\u001b[0m\n\u001b[1;32m-> 1208\u001b[1;33m             \u001b[0mself\u001b[0m\u001b[1;33m.\u001b[0m\u001b[0mrefresh\u001b[0m\u001b[1;33m(\u001b[0m\u001b[1;33m)\u001b[0m\u001b[1;33m\u001b[0m\u001b[0m\n\u001b[0m\u001b[0;32m   1209\u001b[0m \u001b[1;33m\u001b[0m\u001b[0m\n\u001b[0;32m   1210\u001b[0m     \u001b[1;32mdef\u001b[0m \u001b[0mset_postfix_str\u001b[0m\u001b[1;33m(\u001b[0m\u001b[0mself\u001b[0m\u001b[1;33m,\u001b[0m \u001b[0ms\u001b[0m\u001b[1;33m=\u001b[0m\u001b[1;34m''\u001b[0m\u001b[1;33m,\u001b[0m \u001b[0mrefresh\u001b[0m\u001b[1;33m=\u001b[0m\u001b[1;32mTrue\u001b[0m\u001b[1;33m)\u001b[0m\u001b[1;33m:\u001b[0m\u001b[1;33m\u001b[0m\u001b[0m\n",
      "\u001b[1;32m~\\Anaconda3\\envs\\fastai\\lib\\site-packages\\tqdm\\_tqdm.py\u001b[0m in \u001b[0;36mrefresh\u001b[1;34m(self, nolock)\u001b[0m\n\u001b[0;32m   1245\u001b[0m         \u001b[1;32mif\u001b[0m \u001b[1;32mnot\u001b[0m \u001b[0mnolock\u001b[0m\u001b[1;33m:\u001b[0m\u001b[1;33m\u001b[0m\u001b[0m\n\u001b[0;32m   1246\u001b[0m             \u001b[0mself\u001b[0m\u001b[1;33m.\u001b[0m\u001b[0m_lock\u001b[0m\u001b[1;33m.\u001b[0m\u001b[0macquire\u001b[0m\u001b[1;33m(\u001b[0m\u001b[1;33m)\u001b[0m\u001b[1;33m\u001b[0m\u001b[0m\n\u001b[1;32m-> 1247\u001b[1;33m         \u001b[0mself\u001b[0m\u001b[1;33m.\u001b[0m\u001b[0mmoveto\u001b[0m\u001b[1;33m(\u001b[0m\u001b[0mself\u001b[0m\u001b[1;33m.\u001b[0m\u001b[0mpos\u001b[0m\u001b[1;33m)\u001b[0m\u001b[1;33m\u001b[0m\u001b[0m\n\u001b[0m\u001b[0;32m   1248\u001b[0m         \u001b[0mself\u001b[0m\u001b[1;33m.\u001b[0m\u001b[0msp\u001b[0m\u001b[1;33m(\u001b[0m\u001b[0mself\u001b[0m\u001b[1;33m.\u001b[0m\u001b[0m__repr__\u001b[0m\u001b[1;33m(\u001b[0m\u001b[1;33m)\u001b[0m\u001b[1;33m)\u001b[0m\u001b[1;33m\u001b[0m\u001b[0m\n\u001b[0;32m   1249\u001b[0m         \u001b[0mself\u001b[0m\u001b[1;33m.\u001b[0m\u001b[0mmoveto\u001b[0m\u001b[1;33m(\u001b[0m\u001b[1;33m-\u001b[0m\u001b[0mself\u001b[0m\u001b[1;33m.\u001b[0m\u001b[0mpos\u001b[0m\u001b[1;33m)\u001b[0m\u001b[1;33m\u001b[0m\u001b[0m\n",
      "\u001b[1;32m~\\Anaconda3\\envs\\fastai\\lib\\site-packages\\tqdm\\_tqdm.py\u001b[0m in \u001b[0;36mmoveto\u001b[1;34m(self, n)\u001b[0m\n\u001b[0;32m   1218\u001b[0m     \u001b[1;32mdef\u001b[0m \u001b[0mmoveto\u001b[0m\u001b[1;33m(\u001b[0m\u001b[0mself\u001b[0m\u001b[1;33m,\u001b[0m \u001b[0mn\u001b[0m\u001b[1;33m)\u001b[0m\u001b[1;33m:\u001b[0m\u001b[1;33m\u001b[0m\u001b[0m\n\u001b[0;32m   1219\u001b[0m         \u001b[0mself\u001b[0m\u001b[1;33m.\u001b[0m\u001b[0mfp\u001b[0m\u001b[1;33m.\u001b[0m\u001b[0mwrite\u001b[0m\u001b[1;33m(\u001b[0m\u001b[0m_unicode\u001b[0m\u001b[1;33m(\u001b[0m\u001b[1;34m'\\n'\u001b[0m \u001b[1;33m*\u001b[0m \u001b[0mn\u001b[0m \u001b[1;33m+\u001b[0m \u001b[0m_term_move_up\u001b[0m\u001b[1;33m(\u001b[0m\u001b[1;33m)\u001b[0m \u001b[1;33m*\u001b[0m \u001b[1;33m-\u001b[0m\u001b[0mn\u001b[0m\u001b[1;33m)\u001b[0m\u001b[1;33m)\u001b[0m\u001b[1;33m\u001b[0m\u001b[0m\n\u001b[1;32m-> 1220\u001b[1;33m         \u001b[0mself\u001b[0m\u001b[1;33m.\u001b[0m\u001b[0mfp\u001b[0m\u001b[1;33m.\u001b[0m\u001b[0mflush\u001b[0m\u001b[1;33m(\u001b[0m\u001b[1;33m)\u001b[0m\u001b[1;33m\u001b[0m\u001b[0m\n\u001b[0m\u001b[0;32m   1221\u001b[0m \u001b[1;33m\u001b[0m\u001b[0m\n\u001b[0;32m   1222\u001b[0m     \u001b[1;32mdef\u001b[0m \u001b[0mclear\u001b[0m\u001b[1;33m(\u001b[0m\u001b[0mself\u001b[0m\u001b[1;33m,\u001b[0m \u001b[0mnolock\u001b[0m\u001b[1;33m=\u001b[0m\u001b[1;32mFalse\u001b[0m\u001b[1;33m)\u001b[0m\u001b[1;33m:\u001b[0m\u001b[1;33m\u001b[0m\u001b[0m\n",
      "\u001b[1;32m~\\Anaconda3\\envs\\fastai\\lib\\site-packages\\ipykernel\\iostream.py\u001b[0m in \u001b[0;36mflush\u001b[1;34m(self)\u001b[0m\n\u001b[0;32m    332\u001b[0m         \u001b[1;32mif\u001b[0m \u001b[0mself\u001b[0m\u001b[1;33m.\u001b[0m\u001b[0mpub_thread\u001b[0m\u001b[1;33m.\u001b[0m\u001b[0mthread\u001b[0m\u001b[1;33m.\u001b[0m\u001b[0mis_alive\u001b[0m\u001b[1;33m(\u001b[0m\u001b[1;33m)\u001b[0m\u001b[1;33m:\u001b[0m\u001b[1;33m\u001b[0m\u001b[0m\n\u001b[0;32m    333\u001b[0m             \u001b[1;31m# request flush on the background thread\u001b[0m\u001b[1;33m\u001b[0m\u001b[1;33m\u001b[0m\u001b[0m\n\u001b[1;32m--> 334\u001b[1;33m             \u001b[0mself\u001b[0m\u001b[1;33m.\u001b[0m\u001b[0mpub_thread\u001b[0m\u001b[1;33m.\u001b[0m\u001b[0mschedule\u001b[0m\u001b[1;33m(\u001b[0m\u001b[0mself\u001b[0m\u001b[1;33m.\u001b[0m\u001b[0m_flush\u001b[0m\u001b[1;33m)\u001b[0m\u001b[1;33m\u001b[0m\u001b[0m\n\u001b[0m\u001b[0;32m    335\u001b[0m             \u001b[1;31m# wait for flush to actually get through, if we can.\u001b[0m\u001b[1;33m\u001b[0m\u001b[1;33m\u001b[0m\u001b[0m\n\u001b[0;32m    336\u001b[0m             \u001b[1;31m# waiting across threads during import can cause deadlocks\u001b[0m\u001b[1;33m\u001b[0m\u001b[1;33m\u001b[0m\u001b[0m\n",
      "\u001b[1;32m~\\Anaconda3\\envs\\fastai\\lib\\site-packages\\ipykernel\\iostream.py\u001b[0m in \u001b[0;36mschedule\u001b[1;34m(self, f)\u001b[0m\n\u001b[0;32m    201\u001b[0m             \u001b[0mself\u001b[0m\u001b[1;33m.\u001b[0m\u001b[0m_events\u001b[0m\u001b[1;33m.\u001b[0m\u001b[0mappend\u001b[0m\u001b[1;33m(\u001b[0m\u001b[0mf\u001b[0m\u001b[1;33m)\u001b[0m\u001b[1;33m\u001b[0m\u001b[0m\n\u001b[0;32m    202\u001b[0m             \u001b[1;31m# wake event thread (message content is ignored)\u001b[0m\u001b[1;33m\u001b[0m\u001b[1;33m\u001b[0m\u001b[0m\n\u001b[1;32m--> 203\u001b[1;33m             \u001b[0mself\u001b[0m\u001b[1;33m.\u001b[0m\u001b[0m_event_pipe\u001b[0m\u001b[1;33m.\u001b[0m\u001b[0msend\u001b[0m\u001b[1;33m(\u001b[0m\u001b[1;34mb''\u001b[0m\u001b[1;33m)\u001b[0m\u001b[1;33m\u001b[0m\u001b[0m\n\u001b[0m\u001b[0;32m    204\u001b[0m         \u001b[1;32melse\u001b[0m\u001b[1;33m:\u001b[0m\u001b[1;33m\u001b[0m\u001b[0m\n\u001b[0;32m    205\u001b[0m             \u001b[0mf\u001b[0m\u001b[1;33m(\u001b[0m\u001b[1;33m)\u001b[0m\u001b[1;33m\u001b[0m\u001b[0m\n",
      "\u001b[1;32m~\\Anaconda3\\envs\\fastai\\lib\\site-packages\\zmq\\sugar\\socket.py\u001b[0m in \u001b[0;36msend\u001b[1;34m(self, data, flags, copy, track, routing_id, group)\u001b[0m\n\u001b[0;32m    389\u001b[0m                                  copy_threshold=self.copy_threshold)\n\u001b[0;32m    390\u001b[0m             \u001b[0mdata\u001b[0m\u001b[1;33m.\u001b[0m\u001b[0mgroup\u001b[0m \u001b[1;33m=\u001b[0m \u001b[0mgroup\u001b[0m\u001b[1;33m\u001b[0m\u001b[0m\n\u001b[1;32m--> 391\u001b[1;33m         \u001b[1;32mreturn\u001b[0m \u001b[0msuper\u001b[0m\u001b[1;33m(\u001b[0m\u001b[0mSocket\u001b[0m\u001b[1;33m,\u001b[0m \u001b[0mself\u001b[0m\u001b[1;33m)\u001b[0m\u001b[1;33m.\u001b[0m\u001b[0msend\u001b[0m\u001b[1;33m(\u001b[0m\u001b[0mdata\u001b[0m\u001b[1;33m,\u001b[0m \u001b[0mflags\u001b[0m\u001b[1;33m=\u001b[0m\u001b[0mflags\u001b[0m\u001b[1;33m,\u001b[0m \u001b[0mcopy\u001b[0m\u001b[1;33m=\u001b[0m\u001b[0mcopy\u001b[0m\u001b[1;33m,\u001b[0m \u001b[0mtrack\u001b[0m\u001b[1;33m=\u001b[0m\u001b[0mtrack\u001b[0m\u001b[1;33m)\u001b[0m\u001b[1;33m\u001b[0m\u001b[0m\n\u001b[0m\u001b[0;32m    392\u001b[0m \u001b[1;33m\u001b[0m\u001b[0m\n\u001b[0;32m    393\u001b[0m     \u001b[1;32mdef\u001b[0m \u001b[0msend_multipart\u001b[0m\u001b[1;33m(\u001b[0m\u001b[0mself\u001b[0m\u001b[1;33m,\u001b[0m \u001b[0mmsg_parts\u001b[0m\u001b[1;33m,\u001b[0m \u001b[0mflags\u001b[0m\u001b[1;33m=\u001b[0m\u001b[1;36m0\u001b[0m\u001b[1;33m,\u001b[0m \u001b[0mcopy\u001b[0m\u001b[1;33m=\u001b[0m\u001b[1;32mTrue\u001b[0m\u001b[1;33m,\u001b[0m \u001b[0mtrack\u001b[0m\u001b[1;33m=\u001b[0m\u001b[1;32mFalse\u001b[0m\u001b[1;33m,\u001b[0m \u001b[1;33m**\u001b[0m\u001b[0mkwargs\u001b[0m\u001b[1;33m)\u001b[0m\u001b[1;33m:\u001b[0m\u001b[1;33m\u001b[0m\u001b[0m\n",
      "\u001b[1;32mzmq/backend/cython/socket.pyx\u001b[0m in \u001b[0;36mzmq.backend.cython.socket.Socket.send\u001b[1;34m()\u001b[0m\n",
      "\u001b[1;32mzmq/backend/cython/socket.pyx\u001b[0m in \u001b[0;36mzmq.backend.cython.socket.Socket.send\u001b[1;34m()\u001b[0m\n",
      "\u001b[1;32mzmq/backend/cython/socket.pyx\u001b[0m in \u001b[0;36mzmq.backend.cython.socket._send_copy\u001b[1;34m()\u001b[0m\n",
      "\u001b[1;32m~\\Anaconda3\\envs\\fastai\\lib\\site-packages\\zmq\\backend\\cython\\checkrc.pxd\u001b[0m in \u001b[0;36mzmq.backend.cython.checkrc._check_rc\u001b[1;34m()\u001b[0m\n",
      "\u001b[1;31mKeyboardInterrupt\u001b[0m: "
     ]
    }
   ],
   "source": [
    "learn.fit(1e-2, 1, cycle_len=10, use_clr1=(10,2,100,0.95,0.85), wds=3e-3)"
   ]
  },
  {
   "cell_type": "code",
   "execution_count": 20,
   "metadata": {},
   "outputs": [
    {
     "data": {
      "image/png": "[encoded data removed]",
      "text/plain": [
       "<Figure size 864x288 with 2 Axes>"
      ]
     },
     "metadata": {},
     "output_type": "display_data"
    }
   ],
   "source": [
    "learn.sched.plot_lr()"
   ]
  },
  {
   "cell_type": "markdown",
   "metadata": {},
   "source": [
    "# 3 conv layers"
   ]
  },
  {
   "cell_type": "code",
   "execution_count": 27,
   "metadata": {},
   "outputs": [],
   "source": [
    "class ConvBN(nn.Module):\n",
    "    def __init__(self, n_in, n_out, stride):\n",
    "        super().__init__()\n",
    "        self.conv = nn.Conv2d(n_in,n_out,3,stride=stride,padding=1)\n",
    "        self.bn = nn.BatchNorm2d(n_out)\n",
    "        \n",
    "    def forward(self,x):\n",
    "        return self.bn(self.conv(x))"
   ]
  },
  {
   "cell_type": "code",
   "execution_count": 28,
   "metadata": {},
   "outputs": [],
   "source": [
    "class ShallowConvNet(nn.Module):\n",
    "    def __init__(self):\n",
    "        super().__init__()\n",
    "        self.conv1 = ConvBN(3,64,2)\n",
    "        self.conv2 = ConvBN(64,128,2)\n",
    "        self.out = nn.Linear(128,10)\n",
    "    \n",
    "    def forward(self,x):\n",
    "        x = self.conv1(x)\n",
    "        x = self.conv2(x)\n",
    "        x = F.adaptive_avg_pool2d(x,1)\n",
    "        x = x.view(x.size(0),-1)\n",
    "        return F.log_softmax(self.out(x))"
   ]
  },
  {
   "cell_type": "code",
   "execution_count": 45,
   "metadata": {},
   "outputs": [],
   "source": [
    "learn = ConvLearner.from_model_data(ShallowNet(), data)\n",
    "learn.crit = F.nll_loss"
   ]
  },
  {
   "cell_type": "code",
   "execution_count": 46,
   "metadata": {},
   "outputs": [
    {
     "data": {
      "text/plain": [
       "OrderedDict([('Linear-1',\n",
       "              OrderedDict([('input_shape', [-1, 3072]),\n",
       "                           ('output_shape', [-1, 1024]),\n",
       "                           ('trainable', True),\n",
       "                           ('nb_params', 3146752)])),\n",
       "             ('Linear-2',\n",
       "              OrderedDict([('input_shape', [-1, 1024]),\n",
       "                           ('output_shape', [-1, 1024]),\n",
       "                           ('trainable', True),\n",
       "                           ('nb_params', 1049600)])),\n",
       "             ('Linear-3',\n",
       "              OrderedDict([('input_shape', [-1, 1024]),\n",
       "                           ('output_shape', [-1, 10]),\n",
       "                           ('trainable', True),\n",
       "                           ('nb_params', 10250)]))])"
      ]
     },
     "execution_count": 46,
     "metadata": {},
     "output_type": "execute_result"
    }
   ],
   "source": [
    "learn.summary()"
   ]
  },
  {
   "cell_type": "code",
   "execution_count": 47,
   "metadata": {},
   "outputs": [
    {
     "data": {
      "application/vnd.jupyter.widget-view+json": {
       "model_id": "bdfd6dc509c9474cbdf8cab1f31083fd",
       "version_major": 2,
       "version_minor": 0
      },
      "text/html": [
       "<p>Failed to display Jupyter Widget of type <code>HBox</code>.</p>\n",
       "<p>\n",
       "  If you're reading this message in the Jupyter Notebook or JupyterLab Notebook, it may mean\n",
       "  that the widgets JavaScript is still loading. If this message persists, it\n",
       "  likely means that the widgets JavaScript library is either not installed or\n",
       "  not enabled. See the <a href=\"https://ipywidgets.readthedocs.io/en/stable/user_install.html\">Jupyter\n",
       "  Widgets Documentation</a> for setup instructions.\n",
       "</p>\n",
       "<p>\n",
       "  If you're reading this message in another frontend (for example, a static\n",
       "  rendering on GitHub or <a href=\"https://nbviewer.jupyter.org/\">NBViewer</a>),\n",
       "  it may mean that your frontend doesn't currently support widgets.\n",
       "</p>\n"
      ],
      "text/plain": [
       "HBox(children=(IntProgress(value=0, description='Epoch', max=1), HTML(value='')))"
      ]
     },
     "metadata": {},
     "output_type": "display_data"
    },
    {
     "name": "stdout",
     "output_type": "stream",
     "text": [
      " 79%|██████████████████████████████████████████████████████▏              | 307/391 [00:09<00:02, 32.07it/s, loss=45.7]\n",
      "                                                                                                                       \r"
     ]
    }
   ],
   "source": [
    "learn.lr_find()"
   ]
  },
  {
   "cell_type": "code",
   "execution_count": 48,
   "metadata": {},
   "outputs": [
    {
     "data": {
      "image/png": "[encoded data removed]",
      "text/plain": [
       "<Figure size 432x288 with 1 Axes>"
      ]
     },
     "metadata": {},
     "output_type": "display_data"
    }
   ],
   "source": [
    "learn.sched.plot()"
   ]
  },
  {
   "cell_type": "code",
   "execution_count": 49,
   "metadata": {},
   "outputs": [
    {
     "data": {
      "application/vnd.jupyter.widget-view+json": {
       "model_id": "b453ab9cfbce4b81ad6393ad452f9465",
       "version_major": 2,
       "version_minor": 0
      },
      "text/html": [
       "<p>Failed to display Jupyter Widget of type <code>HBox</code>.</p>\n",
       "<p>\n",
       "  If you're reading this message in the Jupyter Notebook or JupyterLab Notebook, it may mean\n",
       "  that the widgets JavaScript is still loading. If this message persists, it\n",
       "  likely means that the widgets JavaScript library is either not installed or\n",
       "  not enabled. See the <a href=\"https://ipywidgets.readthedocs.io/en/stable/user_install.html\">Jupyter\n",
       "  Widgets Documentation</a> for setup instructions.\n",
       "</p>\n",
       "<p>\n",
       "  If you're reading this message in another frontend (for example, a static\n",
       "  rendering on GitHub or <a href=\"https://nbviewer.jupyter.org/\">NBViewer</a>),\n",
       "  it may mean that your frontend doesn't currently support widgets.\n",
       "</p>\n"
      ],
      "text/plain": [
       "HBox(children=(IntProgress(value=0, description='Epoch', max=25), HTML(value='')))"
      ]
     },
     "metadata": {},
     "output_type": "display_data"
    },
    {
     "name": "stdout",
     "output_type": "stream",
     "text": [
      "epoch      trn_loss   val_loss   accuracy                                                                              \n",
      "    0      1.660267   1.582494   0.43839   \n",
      "    1      1.560502   1.490084   0.46697                                                                               \n",
      "    2      1.533817   1.448728   0.483287                                                                              \n",
      "    3      1.474159   1.410726   0.505142                                                                              \n",
      "    4      1.475201   1.373148   0.513449                                                                              \n",
      "    5      1.475229   1.368782   0.510779                                                                              \n",
      "    6      1.482839   1.404723   0.50178                                                                               \n",
      " 38%|██████████████████████████▍                                          | 150/391 [00:04<00:07, 30.21it/s, loss=1.47]\n"
     ]
    },
    {
     "ename": "KeyboardInterrupt",
     "evalue": "",
     "output_type": "error",
     "traceback": [
      "\u001b[1;31m---------------------------------------------------------------------------\u001b[0m",
      "\u001b[1;31mKeyboardInterrupt\u001b[0m                         Traceback (most recent call last)",
      "\u001b[1;32m<ipython-input-49-0108a29950d4>\u001b[0m in \u001b[0;36m<module>\u001b[1;34m()\u001b[0m\n\u001b[1;32m----> 1\u001b[1;33m \u001b[0mlearn\u001b[0m\u001b[1;33m.\u001b[0m\u001b[0mfit\u001b[0m\u001b[1;33m(\u001b[0m\u001b[1;36m5e-2\u001b[0m\u001b[1;33m,\u001b[0m \u001b[1;36m1\u001b[0m\u001b[1;33m,\u001b[0m \u001b[0mcycle_len\u001b[0m\u001b[1;33m=\u001b[0m\u001b[1;36m25\u001b[0m\u001b[1;33m,\u001b[0m \u001b[0muse_clr\u001b[0m\u001b[1;33m=\u001b[0m\u001b[1;33m(\u001b[0m\u001b[1;36m10\u001b[0m\u001b[1;33m,\u001b[0m\u001b[1;36m25\u001b[0m\u001b[1;33m/\u001b[0m\u001b[1;36m11\u001b[0m\u001b[1;33m,\u001b[0m\u001b[1;36m0.95\u001b[0m\u001b[1;33m,\u001b[0m\u001b[1;36m0.85\u001b[0m\u001b[1;33m)\u001b[0m\u001b[1;33m)\u001b[0m\u001b[1;33m\u001b[0m\u001b[0m\n\u001b[0m",
      "\u001b[1;32mD:\\Work\\Deeplearning\\Notebooks\\fastai\\learner.py\u001b[0m in \u001b[0;36mfit\u001b[1;34m(self, lrs, n_cycle, wds, **kwargs)\u001b[0m\n\u001b[0;32m    225\u001b[0m         \u001b[0mself\u001b[0m\u001b[1;33m.\u001b[0m\u001b[0msched\u001b[0m \u001b[1;33m=\u001b[0m \u001b[1;32mNone\u001b[0m\u001b[1;33m\u001b[0m\u001b[0m\n\u001b[0;32m    226\u001b[0m         \u001b[0mlayer_opt\u001b[0m \u001b[1;33m=\u001b[0m \u001b[0mself\u001b[0m\u001b[1;33m.\u001b[0m\u001b[0mget_layer_opt\u001b[0m\u001b[1;33m(\u001b[0m\u001b[0mlrs\u001b[0m\u001b[1;33m,\u001b[0m \u001b[0mwds\u001b[0m\u001b[1;33m)\u001b[0m\u001b[1;33m\u001b[0m\u001b[0m\n\u001b[1;32m--> 227\u001b[1;33m         \u001b[1;32mreturn\u001b[0m \u001b[0mself\u001b[0m\u001b[1;33m.\u001b[0m\u001b[0mfit_gen\u001b[0m\u001b[1;33m(\u001b[0m\u001b[0mself\u001b[0m\u001b[1;33m.\u001b[0m\u001b[0mmodel\u001b[0m\u001b[1;33m,\u001b[0m \u001b[0mself\u001b[0m\u001b[1;33m.\u001b[0m\u001b[0mdata\u001b[0m\u001b[1;33m,\u001b[0m \u001b[0mlayer_opt\u001b[0m\u001b[1;33m,\u001b[0m \u001b[0mn_cycle\u001b[0m\u001b[1;33m,\u001b[0m \u001b[1;33m**\u001b[0m\u001b[0mkwargs\u001b[0m\u001b[1;33m)\u001b[0m\u001b[1;33m\u001b[0m\u001b[0m\n\u001b[0m\u001b[0;32m    228\u001b[0m \u001b[1;33m\u001b[0m\u001b[0m\n\u001b[0;32m    229\u001b[0m     \u001b[1;32mdef\u001b[0m \u001b[0mwarm_up\u001b[0m\u001b[1;33m(\u001b[0m\u001b[0mself\u001b[0m\u001b[1;33m,\u001b[0m \u001b[0mlr\u001b[0m\u001b[1;33m,\u001b[0m \u001b[0mwds\u001b[0m\u001b[1;33m=\u001b[0m\u001b[1;32mNone\u001b[0m\u001b[1;33m)\u001b[0m\u001b[1;33m:\u001b[0m\u001b[1;33m\u001b[0m\u001b[0m\n",
      "\u001b[1;32mD:\\Work\\Deeplearning\\Notebooks\\fastai\\learner.py\u001b[0m in \u001b[0;36mfit_gen\u001b[1;34m(self, model, data, layer_opt, n_cycle, cycle_len, cycle_mult, cycle_save_name, best_save_name, use_clr, metrics, callbacks, use_wd_sched, norm_wds, wds_sched_mult, **kwargs)\u001b[0m\n\u001b[0;32m    172\u001b[0m         \u001b[0mn_epoch\u001b[0m \u001b[1;33m=\u001b[0m \u001b[0msum_geom\u001b[0m\u001b[1;33m(\u001b[0m\u001b[0mcycle_len\u001b[0m \u001b[1;32mif\u001b[0m \u001b[0mcycle_len\u001b[0m \u001b[1;32melse\u001b[0m \u001b[1;36m1\u001b[0m\u001b[1;33m,\u001b[0m \u001b[0mcycle_mult\u001b[0m\u001b[1;33m,\u001b[0m \u001b[0mn_cycle\u001b[0m\u001b[1;33m)\u001b[0m\u001b[1;33m\u001b[0m\u001b[0m\n\u001b[0;32m    173\u001b[0m         return fit(model, data, n_epoch, layer_opt.opt, self.crit,\n\u001b[1;32m--> 174\u001b[1;33m             metrics=metrics, callbacks=callbacks, reg_fn=self.reg_fn, clip=self.clip, **kwargs)\n\u001b[0m\u001b[0;32m    175\u001b[0m \u001b[1;33m\u001b[0m\u001b[0m\n\u001b[0;32m    176\u001b[0m     \u001b[1;32mdef\u001b[0m \u001b[0mget_layer_groups\u001b[0m\u001b[1;33m(\u001b[0m\u001b[0mself\u001b[0m\u001b[1;33m)\u001b[0m\u001b[1;33m:\u001b[0m \u001b[1;32mreturn\u001b[0m \u001b[0mself\u001b[0m\u001b[1;33m.\u001b[0m\u001b[0mmodels\u001b[0m\u001b[1;33m.\u001b[0m\u001b[0mget_layer_groups\u001b[0m\u001b[1;33m(\u001b[0m\u001b[1;33m)\u001b[0m\u001b[1;33m\u001b[0m\u001b[0m\n",
      "\u001b[1;32mD:\\Work\\Deeplearning\\Notebooks\\fastai\\model.py\u001b[0m in \u001b[0;36mfit\u001b[1;34m(model, data, epochs, opt, crit, metrics, callbacks, stepper, **kwargs)\u001b[0m\n\u001b[0;32m     91\u001b[0m         \u001b[0mt\u001b[0m \u001b[1;33m=\u001b[0m \u001b[0mtqdm\u001b[0m\u001b[1;33m(\u001b[0m\u001b[0miter\u001b[0m\u001b[1;33m(\u001b[0m\u001b[0mdata\u001b[0m\u001b[1;33m.\u001b[0m\u001b[0mtrn_dl\u001b[0m\u001b[1;33m)\u001b[0m\u001b[1;33m,\u001b[0m \u001b[0mleave\u001b[0m\u001b[1;33m=\u001b[0m\u001b[1;32mFalse\u001b[0m\u001b[1;33m,\u001b[0m \u001b[0mtotal\u001b[0m\u001b[1;33m=\u001b[0m\u001b[0mnum_batch\u001b[0m\u001b[1;33m)\u001b[0m\u001b[1;33m\u001b[0m\u001b[0m\n\u001b[0;32m     92\u001b[0m         \u001b[0mi\u001b[0m \u001b[1;33m=\u001b[0m \u001b[1;36m0\u001b[0m\u001b[1;33m\u001b[0m\u001b[0m\n\u001b[1;32m---> 93\u001b[1;33m         \u001b[1;32mfor\u001b[0m \u001b[1;33m(\u001b[0m\u001b[1;33m*\u001b[0m\u001b[0mx\u001b[0m\u001b[1;33m,\u001b[0m\u001b[0my\u001b[0m\u001b[1;33m)\u001b[0m \u001b[1;32min\u001b[0m \u001b[0mt\u001b[0m\u001b[1;33m:\u001b[0m\u001b[1;33m\u001b[0m\u001b[0m\n\u001b[0m\u001b[0;32m     94\u001b[0m             \u001b[0mbatch_num\u001b[0m \u001b[1;33m+=\u001b[0m \u001b[1;36m1\u001b[0m\u001b[1;33m\u001b[0m\u001b[0m\n\u001b[0;32m     95\u001b[0m             \u001b[1;32mfor\u001b[0m \u001b[0mcb\u001b[0m \u001b[1;32min\u001b[0m \u001b[0mcallbacks\u001b[0m\u001b[1;33m:\u001b[0m \u001b[0mcb\u001b[0m\u001b[1;33m.\u001b[0m\u001b[0mon_batch_begin\u001b[0m\u001b[1;33m(\u001b[0m\u001b[1;33m)\u001b[0m\u001b[1;33m\u001b[0m\u001b[0m\n",
      "\u001b[1;32m~\\Anaconda3\\envs\\fastai\\lib\\site-packages\\tqdm\\_tqdm.py\u001b[0m in \u001b[0;36m__iter__\u001b[1;34m(self)\u001b[0m\n\u001b[0;32m    953\u001b[0m \"\"\", fp_write=getattr(self.fp, 'write', sys.stderr.write))\n\u001b[0;32m    954\u001b[0m \u001b[1;33m\u001b[0m\u001b[0m\n\u001b[1;32m--> 955\u001b[1;33m             \u001b[1;32mfor\u001b[0m \u001b[0mobj\u001b[0m \u001b[1;32min\u001b[0m \u001b[0miterable\u001b[0m\u001b[1;33m:\u001b[0m\u001b[1;33m\u001b[0m\u001b[0m\n\u001b[0m\u001b[0;32m    956\u001b[0m                 \u001b[1;32myield\u001b[0m \u001b[0mobj\u001b[0m\u001b[1;33m\u001b[0m\u001b[0m\n\u001b[0;32m    957\u001b[0m                 \u001b[1;31m# Update and possibly print the progressbar.\u001b[0m\u001b[1;33m\u001b[0m\u001b[1;33m\u001b[0m\u001b[0m\n",
      "\u001b[1;32mD:\\Work\\Deeplearning\\Notebooks\\fastai\\dataloader.py\u001b[0m in \u001b[0;36m__iter__\u001b[1;34m(self)\u001b[0m\n\u001b[0;32m     82\u001b[0m                 \u001b[1;31m# avoid py3.6 issue where queue is infinite and can result in memory exhaustion\u001b[0m\u001b[1;33m\u001b[0m\u001b[1;33m\u001b[0m\u001b[0m\n\u001b[0;32m     83\u001b[0m                 \u001b[1;32mfor\u001b[0m \u001b[0mc\u001b[0m \u001b[1;32min\u001b[0m \u001b[0mchunk_iter\u001b[0m\u001b[1;33m(\u001b[0m\u001b[0miter\u001b[0m\u001b[1;33m(\u001b[0m\u001b[0mself\u001b[0m\u001b[1;33m.\u001b[0m\u001b[0mbatch_sampler\u001b[0m\u001b[1;33m)\u001b[0m\u001b[1;33m,\u001b[0m \u001b[0mself\u001b[0m\u001b[1;33m.\u001b[0m\u001b[0mnum_workers\u001b[0m\u001b[1;33m*\u001b[0m\u001b[1;36m10\u001b[0m\u001b[1;33m)\u001b[0m\u001b[1;33m:\u001b[0m\u001b[1;33m\u001b[0m\u001b[0m\n\u001b[1;32m---> 84\u001b[1;33m                     \u001b[1;32mfor\u001b[0m \u001b[0mbatch\u001b[0m \u001b[1;32min\u001b[0m \u001b[0me\u001b[0m\u001b[1;33m.\u001b[0m\u001b[0mmap\u001b[0m\u001b[1;33m(\u001b[0m\u001b[0mself\u001b[0m\u001b[1;33m.\u001b[0m\u001b[0mget_batch\u001b[0m\u001b[1;33m,\u001b[0m \u001b[0mc\u001b[0m\u001b[1;33m)\u001b[0m\u001b[1;33m:\u001b[0m \u001b[1;32myield\u001b[0m \u001b[0mget_tensor\u001b[0m\u001b[1;33m(\u001b[0m\u001b[0mbatch\u001b[0m\u001b[1;33m,\u001b[0m \u001b[0mself\u001b[0m\u001b[1;33m.\u001b[0m\u001b[0mpin_memory\u001b[0m\u001b[1;33m)\u001b[0m\u001b[1;33m\u001b[0m\u001b[0m\n\u001b[0m\u001b[0;32m     85\u001b[0m \u001b[1;33m\u001b[0m\u001b[0m\n",
      "\u001b[1;32m~\\Anaconda3\\envs\\fastai\\lib\\concurrent\\futures\\_base.py\u001b[0m in \u001b[0;36mresult_iterator\u001b[1;34m()\u001b[0m\n\u001b[0;32m    584\u001b[0m                     \u001b[1;31m# Careful not to keep a reference to the popped future\u001b[0m\u001b[1;33m\u001b[0m\u001b[1;33m\u001b[0m\u001b[0m\n\u001b[0;32m    585\u001b[0m                     \u001b[1;32mif\u001b[0m \u001b[0mtimeout\u001b[0m \u001b[1;32mis\u001b[0m \u001b[1;32mNone\u001b[0m\u001b[1;33m:\u001b[0m\u001b[1;33m\u001b[0m\u001b[0m\n\u001b[1;32m--> 586\u001b[1;33m                         \u001b[1;32myield\u001b[0m \u001b[0mfs\u001b[0m\u001b[1;33m.\u001b[0m\u001b[0mpop\u001b[0m\u001b[1;33m(\u001b[0m\u001b[1;33m)\u001b[0m\u001b[1;33m.\u001b[0m\u001b[0mresult\u001b[0m\u001b[1;33m(\u001b[0m\u001b[1;33m)\u001b[0m\u001b[1;33m\u001b[0m\u001b[0m\n\u001b[0m\u001b[0;32m    587\u001b[0m                     \u001b[1;32melse\u001b[0m\u001b[1;33m:\u001b[0m\u001b[1;33m\u001b[0m\u001b[0m\n\u001b[0;32m    588\u001b[0m                         \u001b[1;32myield\u001b[0m \u001b[0mfs\u001b[0m\u001b[1;33m.\u001b[0m\u001b[0mpop\u001b[0m\u001b[1;33m(\u001b[0m\u001b[1;33m)\u001b[0m\u001b[1;33m.\u001b[0m\u001b[0mresult\u001b[0m\u001b[1;33m(\u001b[0m\u001b[0mend_time\u001b[0m \u001b[1;33m-\u001b[0m \u001b[0mtime\u001b[0m\u001b[1;33m.\u001b[0m\u001b[0mtime\u001b[0m\u001b[1;33m(\u001b[0m\u001b[1;33m)\u001b[0m\u001b[1;33m)\u001b[0m\u001b[1;33m\u001b[0m\u001b[0m\n",
      "\u001b[1;32m~\\Anaconda3\\envs\\fastai\\lib\\concurrent\\futures\\_base.py\u001b[0m in \u001b[0;36mresult\u001b[1;34m(self, timeout)\u001b[0m\n\u001b[0;32m    425\u001b[0m                 \u001b[1;32mreturn\u001b[0m \u001b[0mself\u001b[0m\u001b[1;33m.\u001b[0m\u001b[0m__get_result\u001b[0m\u001b[1;33m(\u001b[0m\u001b[1;33m)\u001b[0m\u001b[1;33m\u001b[0m\u001b[0m\n\u001b[0;32m    426\u001b[0m \u001b[1;33m\u001b[0m\u001b[0m\n\u001b[1;32m--> 427\u001b[1;33m             \u001b[0mself\u001b[0m\u001b[1;33m.\u001b[0m\u001b[0m_condition\u001b[0m\u001b[1;33m.\u001b[0m\u001b[0mwait\u001b[0m\u001b[1;33m(\u001b[0m\u001b[0mtimeout\u001b[0m\u001b[1;33m)\u001b[0m\u001b[1;33m\u001b[0m\u001b[0m\n\u001b[0m\u001b[0;32m    428\u001b[0m \u001b[1;33m\u001b[0m\u001b[0m\n\u001b[0;32m    429\u001b[0m             \u001b[1;32mif\u001b[0m \u001b[0mself\u001b[0m\u001b[1;33m.\u001b[0m\u001b[0m_state\u001b[0m \u001b[1;32min\u001b[0m \u001b[1;33m[\u001b[0m\u001b[0mCANCELLED\u001b[0m\u001b[1;33m,\u001b[0m \u001b[0mCANCELLED_AND_NOTIFIED\u001b[0m\u001b[1;33m]\u001b[0m\u001b[1;33m:\u001b[0m\u001b[1;33m\u001b[0m\u001b[0m\n",
      "\u001b[1;32m~\\Anaconda3\\envs\\fastai\\lib\\threading.py\u001b[0m in \u001b[0;36mwait\u001b[1;34m(self, timeout)\u001b[0m\n\u001b[0;32m    293\u001b[0m         \u001b[1;32mtry\u001b[0m\u001b[1;33m:\u001b[0m    \u001b[1;31m# restore state no matter what (e.g., KeyboardInterrupt)\u001b[0m\u001b[1;33m\u001b[0m\u001b[0m\n\u001b[0;32m    294\u001b[0m             \u001b[1;32mif\u001b[0m \u001b[0mtimeout\u001b[0m \u001b[1;32mis\u001b[0m \u001b[1;32mNone\u001b[0m\u001b[1;33m:\u001b[0m\u001b[1;33m\u001b[0m\u001b[0m\n\u001b[1;32m--> 295\u001b[1;33m                 \u001b[0mwaiter\u001b[0m\u001b[1;33m.\u001b[0m\u001b[0macquire\u001b[0m\u001b[1;33m(\u001b[0m\u001b[1;33m)\u001b[0m\u001b[1;33m\u001b[0m\u001b[0m\n\u001b[0m\u001b[0;32m    296\u001b[0m                 \u001b[0mgotit\u001b[0m \u001b[1;33m=\u001b[0m \u001b[1;32mTrue\u001b[0m\u001b[1;33m\u001b[0m\u001b[0m\n\u001b[0;32m    297\u001b[0m             \u001b[1;32melse\u001b[0m\u001b[1;33m:\u001b[0m\u001b[1;33m\u001b[0m\u001b[0m\n",
      "\u001b[1;31mKeyboardInterrupt\u001b[0m: "
     ]
    }
   ],
   "source": [
    "learn.fit(5e-2, 1, cycle_len=25, use_clr=(10,25/11,0.95,0.85))"
   ]
  },
  {
   "cell_type": "markdown",
   "metadata": {},
   "source": [
    "# Resnet 56"
   ]
  },
  {
   "cell_type": "code",
   "execution_count": 147,
   "metadata": {},
   "outputs": [],
   "source": [
    "size = 32\n",
    "batch_size = 64\n",
    "data = get_data(size,batch_size)"
   ]
  },
  {
   "cell_type": "code",
   "execution_count": 8,
   "metadata": {},
   "outputs": [],
   "source": [
    "class BasicBlock(nn.Module):\n",
    "    expansion = 1\n",
    "\n",
    "    def __init__(self, in_planes, planes, stride=1):\n",
    "        super().__init__()\n",
    "        self.bn1 = nn.BatchNorm2d(planes)\n",
    "        self.conv1 = nn.Conv2d(in_planes, planes, kernel_size=3, stride=stride, padding=1, bias=False)\n",
    "        self.bn2 = nn.BatchNorm2d(planes)\n",
    "        self.conv2 = nn.Conv2d(planes, planes, kernel_size=3, stride=1, padding=1, bias=False)\n",
    "\n",
    "        if stride != 1 or in_planes != self.expansion*planes:\n",
    "            self.shortcut = nn.Sequential(\n",
    "                nn.Conv2d(in_planes, self.expansion*planes, kernel_size=1, stride=stride, bias=False),\n",
    "                nn.BatchNorm2d(self.expansion*planes)\n",
    "            )\n",
    "\n",
    "    def forward(self, x):\n",
    "        out = F.relu(x)\n",
    "        shortcut = self.shortcut(out) if hasattr(self, 'shortcut') else x\n",
    "        out = self.conv1(out)\n",
    "        out = self.bn2(self.conv2(F.relu(self.bn1(out))))\n",
    "        out += shortcut\n",
    "        return out"
   ]
  },
  {
   "cell_type": "code",
   "execution_count": 9,
   "metadata": {},
   "outputs": [],
   "source": [
    "class ResNet(nn.Module):\n",
    "    def __init__(self, block, num_blocks, num_classes=10):\n",
    "        super().__init__()\n",
    "        self.in_planes = 16\n",
    "        self.conv1 = nn.Conv2d(3, 16, kernel_size=3, stride=1, padding=1, bias=False)\n",
    "        self.bn1 = nn.BatchNorm2d(16)\n",
    "        self.layer1 = self._make_layer(block, 16, num_blocks[0], stride=1)\n",
    "        self.layer2 = self._make_layer(block, 32, num_blocks[1], stride=2)\n",
    "        self.layer3 = self._make_layer(block, 64, num_blocks[2], stride=2)\n",
    "        self.linear = nn.Linear(64*block.expansion, num_classes)\n",
    "\n",
    "    def _make_layer(self, block, planes, num_blocks, stride):\n",
    "        strides = [stride] + [1]*(num_blocks-1)\n",
    "        layers = []\n",
    "        for stride in strides:\n",
    "            layers.append(block(self.in_planes, planes, stride))\n",
    "            self.in_planes = planes * block.expansion\n",
    "        return nn.Sequential(*layers)\n",
    "\n",
    "    def forward(self, x):\n",
    "        out = self.bn1(self.conv1(x))\n",
    "        out = self.layer1(out)\n",
    "        out = self.layer2(out)\n",
    "        out = self.layer3(out)\n",
    "        out = F.adaptive_max_pool2d(out, 1)\n",
    "        out = out.view(out.size(0), -1)\n",
    "        return F.log_softmax(self.linear(out))"
   ]
  },
  {
   "cell_type": "code",
   "execution_count": 55,
   "metadata": {},
   "outputs": [],
   "source": [
    "learn = ConvLearner.from_model_data(ResNet(BasicBlock,[9,9,9]), data)\n",
    "learn.crit = F.nll_loss"
   ]
  },
  {
   "cell_type": "code",
   "execution_count": 15,
   "metadata": {},
   "outputs": [
    {
     "data": {
      "application/vnd.jupyter.widget-view+json": {
       "model_id": "8c5dabd1a6e34738a9861314c652f75a",
       "version_major": 2,
       "version_minor": 0
      },
      "text/html": [
       "<p>Failed to display Jupyter Widget of type <code>HBox</code>.</p>\n",
       "<p>\n",
       "  If you're reading this message in the Jupyter Notebook or JupyterLab Notebook, it may mean\n",
       "  that the widgets JavaScript is still loading. If this message persists, it\n",
       "  likely means that the widgets JavaScript library is either not installed or\n",
       "  not enabled. See the <a href=\"https://ipywidgets.readthedocs.io/en/stable/user_install.html\">Jupyter\n",
       "  Widgets Documentation</a> for setup instructions.\n",
       "</p>\n",
       "<p>\n",
       "  If you're reading this message in another frontend (for example, a static\n",
       "  rendering on GitHub or <a href=\"https://nbviewer.jupyter.org/\">NBViewer</a>),\n",
       "  it may mean that your frontend doesn't currently support widgets.\n",
       "</p>\n"
      ],
      "text/plain": [
       "HBox(children=(IntProgress(value=0, description='Epoch', max=1), HTML(value='')))"
      ]
     },
     "metadata": {},
     "output_type": "display_data"
    },
    {
     "name": "stdout",
     "output_type": "stream",
     "text": [
      " 78%|█████████████████████████████████████████████████████▋               | 609/782 [01:09<00:19,  8.76it/s, loss=12.4]\n",
      "                                                                                                                       \r"
     ]
    }
   ],
   "source": [
    "learn.lr_find()"
   ]
  },
  {
   "cell_type": "code",
   "execution_count": 16,
   "metadata": {},
   "outputs": [
    {
     "data": {
      "image/png": "[encoded data removed]",
      "text/plain": [
       "<Figure size 432x288 with 1 Axes>"
      ]
     },
     "metadata": {},
     "output_type": "display_data"
    }
   ],
   "source": [
    "learn.sched.plot()"
   ]
  },
  {
   "cell_type": "code",
   "execution_count": 30,
   "metadata": {},
   "outputs": [
    {
     "data": {
      "application/vnd.jupyter.widget-view+json": {
       "model_id": "95de70729bec4f2ba5077160a93fb376",
       "version_major": 2,
       "version_minor": 0
      },
      "text/html": [
       "<p>Failed to display Jupyter Widget of type <code>HBox</code>.</p>\n",
       "<p>\n",
       "  If you're reading this message in the Jupyter Notebook or JupyterLab Notebook, it may mean\n",
       "  that the widgets JavaScript is still loading. If this message persists, it\n",
       "  likely means that the widgets JavaScript library is either not installed or\n",
       "  not enabled. See the <a href=\"https://ipywidgets.readthedocs.io/en/stable/user_install.html\">Jupyter\n",
       "  Widgets Documentation</a> for setup instructions.\n",
       "</p>\n",
       "<p>\n",
       "  If you're reading this message in another frontend (for example, a static\n",
       "  rendering on GitHub or <a href=\"https://nbviewer.jupyter.org/\">NBViewer</a>),\n",
       "  it may mean that your frontend doesn't currently support widgets.\n",
       "</p>\n"
      ],
      "text/plain": [
       "HBox(children=(IntProgress(value=0, description='Epoch', max=5), HTML(value='')))"
      ]
     },
     "metadata": {},
     "output_type": "display_data"
    },
    {
     "name": "stdout",
     "output_type": "stream",
     "text": [
      "epoch      trn_loss   val_loss   accuracy                                                                              \n",
      "    0      0.775708   0.931436   0.689092  \n",
      "    1      0.675417   0.696961   0.764132                                                                              \n",
      "    2      0.607041   1.670062   0.779459                                                                              \n",
      "    3      0.595804   0.63958    0.792994                                                                              \n",
      "    4      0.522924   0.633957   0.784236                                                                              \n",
      "\n"
     ]
    },
    {
     "data": {
      "text/plain": [
       "[0.6339573553365887, 0.7842356687898089]"
      ]
     },
     "execution_count": 30,
     "metadata": {},
     "output_type": "execute_result"
    }
   ],
   "source": [
    "learn.fit(0.01, 1, cycle_len=5, use_clr_beta=(1,0))"
   ]
  },
  {
   "cell_type": "code",
   "execution_count": 92,
   "metadata": {},
   "outputs": [
    {
     "data": {
      "application/vnd.jupyter.widget-view+json": {
       "model_id": "d7a5455b21174f3596e9f747f9cd2ab5",
       "version_major": 2,
       "version_minor": 0
      },
      "text/html": [
       "<p>Failed to display Jupyter Widget of type <code>HBox</code>.</p>\n",
       "<p>\n",
       "  If you're reading this message in the Jupyter Notebook or JupyterLab Notebook, it may mean\n",
       "  that the widgets JavaScript is still loading. If this message persists, it\n",
       "  likely means that the widgets JavaScript library is either not installed or\n",
       "  not enabled. See the <a href=\"https://ipywidgets.readthedocs.io/en/stable/user_install.html\">Jupyter\n",
       "  Widgets Documentation</a> for setup instructions.\n",
       "</p>\n",
       "<p>\n",
       "  If you're reading this message in another frontend (for example, a static\n",
       "  rendering on GitHub or <a href=\"https://nbviewer.jupyter.org/\">NBViewer</a>),\n",
       "  it may mean that your frontend doesn't currently support widgets.\n",
       "</p>\n"
      ],
      "text/plain": [
       "HBox(children=(IntProgress(value=0, description='Epoch', max=1), HTML(value='')))"
      ]
     },
     "metadata": {},
     "output_type": "display_data"
    },
    {
     "name": "stdout",
     "output_type": "stream",
     "text": [
      " 11%|███████▌                                                              | 84/782 [00:46<06:29,  1.79it/s, loss=12.3]\n",
      "                                                                                                                       \r"
     ]
    }
   ],
   "source": [
    "learn = ConvLearner.from_model_data(ResNet(BasicBlock,[9,9,9]), data)\n",
    "learn.crit = F.nll_loss\n",
    "learn.lr_find_beta(num_it=100)"
   ]
  },
  {
   "cell_type": "code",
   "execution_count": 93,
   "metadata": {},
   "outputs": [
    {
     "data": {
      "image/png": "[encoded data removed]",
      "text/plain": [
       "<Figure size 432x864 with 3 Axes>"
      ]
     },
     "metadata": {},
     "output_type": "display_data"
    }
   ],
   "source": [
    "learn.sched.plot()"
   ]
  },
  {
   "cell_type": "code",
   "execution_count": 109,
   "metadata": {},
   "outputs": [],
   "source": [
    "learn.opt_fn = optim.RMSprop"
   ]
  },
  {
   "cell_type": "code",
   "execution_count": 110,
   "metadata": {},
   "outputs": [
    {
     "data": {
      "application/vnd.jupyter.widget-view+json": {
       "model_id": "e5effd0006694f8b9465770368f10d77",
       "version_major": 2,
       "version_minor": 0
      },
      "text/html": [
       "<p>Failed to display Jupyter Widget of type <code>HBox</code>.</p>\n",
       "<p>\n",
       "  If you're reading this message in the Jupyter Notebook or JupyterLab Notebook, it may mean\n",
       "  that the widgets JavaScript is still loading. If this message persists, it\n",
       "  likely means that the widgets JavaScript library is either not installed or\n",
       "  not enabled. See the <a href=\"https://ipywidgets.readthedocs.io/en/stable/user_install.html\">Jupyter\n",
       "  Widgets Documentation</a> for setup instructions.\n",
       "</p>\n",
       "<p>\n",
       "  If you're reading this message in another frontend (for example, a static\n",
       "  rendering on GitHub or <a href=\"https://nbviewer.jupyter.org/\">NBViewer</a>),\n",
       "  it may mean that your frontend doesn't currently support widgets.\n",
       "</p>\n"
      ],
      "text/plain": [
       "HBox(children=(IntProgress(value=0, description='Epoch', max=1), HTML(value='')))"
      ]
     },
     "metadata": {},
     "output_type": "display_data"
    },
    {
     "name": "stdout",
     "output_type": "stream",
     "text": [
      " 60%|█████████████████████████████████████████▌                           | 471/782 [00:54<00:36,  8.59it/s, loss=4.12]\n",
      "                                                                                                                       \r"
     ]
    }
   ],
   "source": [
    "learn.lr_find()"
   ]
  },
  {
   "cell_type": "code",
   "execution_count": 111,
   "metadata": {},
   "outputs": [
    {
     "data": {
      "text/plain": [
       "{'alpha': 0.99,\n",
       " 'centered': False,\n",
       " 'eps': 1e-08,\n",
       " 'lr': 0.041097058792876534,\n",
       " 'momentum': 0,\n",
       " 'params': [Parameter containing:\n",
       "  (0 ,0 ,.,.) = \n",
       "    0.1154  0.1074  0.2712\n",
       "    0.4642  0.0251  0.0773\n",
       "    0.1532 -0.3673 -0.1657\n",
       "  \n",
       "  (0 ,1 ,.,.) = \n",
       "   -0.0011 -0.0573 -0.0320\n",
       "    0.2008 -0.3239 -0.2769\n",
       "    0.3984 -0.3123 -0.0246\n",
       "  \n",
       "  (0 ,2 ,.,.) = \n",
       "    0.1285 -0.2558  0.0399\n",
       "    0.3137 -0.2878 -0.2394\n",
       "    0.3433 -0.1290  0.0085\n",
       "  \n",
       "  (1 ,0 ,.,.) = \n",
       "    0.0248 -0.0418  0.3036\n",
       "   -0.1312 -0.2179  0.1101\n",
       "   -0.3336 -0.2348 -0.0767\n",
       "  \n",
       "  (1 ,1 ,.,.) = \n",
       "    0.0456  0.0795  0.2704\n",
       "   -0.2156  0.0853  0.1642\n",
       "   -0.2975 -0.2942  0.1496\n",
       "  \n",
       "  (1 ,2 ,.,.) = \n",
       "    0.1228  0.0656  0.2296\n",
       "   -0.1653  0.1751  0.1145\n",
       "   -0.2928 -0.2436 -0.1026\n",
       "  \n",
       "  (2 ,0 ,.,.) = \n",
       "    0.0509 -0.0784  0.1688\n",
       "    0.0356  0.0829  0.1083\n",
       "    0.1043 -0.1619 -0.1195\n",
       "  \n",
       "  (2 ,1 ,.,.) = \n",
       "   -0.0631 -0.1093 -0.0142\n",
       "    0.1575 -0.1583 -0.0039\n",
       "    0.0142  0.0071  0.1635\n",
       "  \n",
       "  (2 ,2 ,.,.) = \n",
       "   -0.0507  0.0182  0.0554\n",
       "   -0.0608  0.0539  0.0064\n",
       "    0.1033  0.1917  0.1922\n",
       "  \n",
       "  (3 ,0 ,.,.) = \n",
       "    0.2086  0.3090  0.1883\n",
       "    0.3013  0.0711  0.0440\n",
       "    0.1986  0.1047  0.1769\n",
       "  \n",
       "  (3 ,1 ,.,.) = \n",
       "   -0.0698 -0.1122 -0.1371\n",
       "   -0.3024 -0.4109 -0.0258\n",
       "    0.0576 -0.2315 -0.0261\n",
       "  \n",
       "  (3 ,2 ,.,.) = \n",
       "    0.0496  0.1536  0.1097\n",
       "    0.0028 -0.2222 -0.1582\n",
       "   -0.0730  0.0672 -0.0706\n",
       "  \n",
       "  (4 ,0 ,.,.) = \n",
       "    0.4352  0.1979  0.1814\n",
       "    0.0125 -0.3621  0.0257\n",
       "   -0.1939 -0.1258  0.1820\n",
       "  \n",
       "  (4 ,1 ,.,.) = \n",
       "   -0.1432 -0.3525 -0.0302\n",
       "   -0.1732 -0.5920  0.1664\n",
       "   -0.1539 -0.3100  0.2408\n",
       "  \n",
       "  (4 ,2 ,.,.) = \n",
       "   -0.0249 -0.1404 -0.0865\n",
       "    0.2370 -0.1524  0.0826\n",
       "    0.0300 -0.1027  0.5192\n",
       "  \n",
       "  (5 ,0 ,.,.) = \n",
       "   -0.1586 -0.1682  0.0931\n",
       "    0.0312 -0.4744 -0.3492\n",
       "    0.2682  0.1245  0.2067\n",
       "  \n",
       "  (5 ,1 ,.,.) = \n",
       "    0.3556  0.2998  0.1535\n",
       "    0.0354 -0.2784 -0.5595\n",
       "    0.1108  0.2354 -0.2159\n",
       "  \n",
       "  (5 ,2 ,.,.) = \n",
       "    0.0505  0.1575 -0.0254\n",
       "    0.1372 -0.3818 -0.4462\n",
       "    0.1371  0.1255 -0.0127\n",
       "  \n",
       "  (6 ,0 ,.,.) = \n",
       "    0.0777  0.1305  0.0826\n",
       "   -0.1980 -0.1805 -0.1943\n",
       "   -0.2433 -0.1283 -0.2088\n",
       "  \n",
       "  (6 ,1 ,.,.) = \n",
       "    0.1674 -0.2189  0.0199\n",
       "    0.0209 -0.1233 -0.2526\n",
       "   -0.2540 -0.0919 -0.2141\n",
       "  \n",
       "  (6 ,2 ,.,.) = \n",
       "    0.4577  0.4764  0.1750\n",
       "    0.4347  0.2867 -0.0647\n",
       "    0.3361  0.2788 -0.0263\n",
       "  \n",
       "  (7 ,0 ,.,.) = \n",
       "   -0.0784  0.4168  0.2817\n",
       "   -0.0268  0.5341  0.2645\n",
       "    0.1114  0.0549 -0.2043\n",
       "  \n",
       "  (7 ,1 ,.,.) = \n",
       "    0.3280  0.5301  0.1857\n",
       "    0.1831  0.6165  0.1975\n",
       "    0.0522  0.0591  0.0596\n",
       "  \n",
       "  (7 ,2 ,.,.) = \n",
       "    0.3769  0.5667  0.1352\n",
       "    0.1156  0.5553  0.2041\n",
       "    0.1246  0.1378  0.2080\n",
       "  \n",
       "  (8 ,0 ,.,.) = \n",
       "    0.0112 -0.1768 -0.0490\n",
       "   -0.1580 -0.1767  0.0858\n",
       "   -0.0212 -0.1662  0.0941\n",
       "  \n",
       "  (8 ,1 ,.,.) = \n",
       "   -0.1889 -0.2436  0.1075\n",
       "   -0.1377  0.0369  0.0090\n",
       "    0.0794 -0.2030 -0.1050\n",
       "  \n",
       "  (8 ,2 ,.,.) = \n",
       "    0.1586 -0.2411  0.0877\n",
       "   -0.0936  0.1274 -0.2144\n",
       "    0.0249  0.1244  0.0640\n",
       "  \n",
       "  (9 ,0 ,.,.) = \n",
       "   -0.1760 -0.1004 -0.2225\n",
       "    0.1275 -0.1325 -0.1121\n",
       "   -0.0867  0.0544  0.1375\n",
       "  \n",
       "  (9 ,1 ,.,.) = \n",
       "   -0.0586 -0.3100 -0.1950\n",
       "    0.1524  0.1024  0.1942\n",
       "   -0.1451 -0.0015 -0.1857\n",
       "  \n",
       "  (9 ,2 ,.,.) = \n",
       "   -0.1264 -0.1610  0.0209\n",
       "    0.4158  0.2054  0.1472\n",
       "    0.2587  0.0694  0.0612\n",
       "  \n",
       "  (10,0 ,.,.) = \n",
       "    0.0497 -0.0668  0.0088\n",
       "    0.1135  0.0949 -0.1528\n",
       "   -0.1177 -0.2179 -0.2562\n",
       "  \n",
       "  (10,1 ,.,.) = \n",
       "   -0.0944 -0.1828 -0.1875\n",
       "    0.1394 -0.0444 -0.2927\n",
       "    0.0188 -0.1533 -0.1453\n",
       "  \n",
       "  (10,2 ,.,.) = \n",
       "    0.3324  0.0867 -0.0895\n",
       "    0.3432  0.2566  0.1291\n",
       "    0.1228  0.0833  0.1853\n",
       "  \n",
       "  (11,0 ,.,.) = \n",
       "   -0.2602  0.1700 -0.3664\n",
       "    0.0268  0.4641 -0.0678\n",
       "   -0.1132  0.0809 -0.2418\n",
       "  \n",
       "  (11,1 ,.,.) = \n",
       "    0.0745  0.1858 -0.1971\n",
       "    0.1733  0.5401 -0.0912\n",
       "   -0.1810  0.2881 -0.0839\n",
       "  \n",
       "  (11,2 ,.,.) = \n",
       "    0.0396  0.0216 -0.2533\n",
       "    0.0533  0.3088 -0.3272\n",
       "   -0.3310  0.2306 -0.0213\n",
       "  \n",
       "  (12,0 ,.,.) = \n",
       "    0.1021 -0.0608 -0.1499\n",
       "   -0.2114 -0.2365 -0.0563\n",
       "   -0.1063  0.0764 -0.0357\n",
       "  \n",
       "  (12,1 ,.,.) = \n",
       "    0.0351  0.0740 -0.0672\n",
       "   -0.1255 -0.0281 -0.0881\n",
       "   -0.0921  0.0747 -0.2432\n",
       "  \n",
       "  (12,2 ,.,.) = \n",
       "    0.0910 -0.0031  0.0222\n",
       "   -0.1712  0.0052  0.0295\n",
       "   -0.1500 -0.0060 -0.0032\n",
       "  \n",
       "  (13,0 ,.,.) = \n",
       "   -0.0833  0.2299  0.1865\n",
       "    0.0523 -0.1326 -0.0011\n",
       "   -0.1028  0.0866  0.1831\n",
       "  \n",
       "  (13,1 ,.,.) = \n",
       "    0.0338  0.1747  0.1365\n",
       "   -0.0011 -0.1137 -0.2205\n",
       "   -0.1047 -0.1990 -0.1358\n",
       "  \n",
       "  (13,2 ,.,.) = \n",
       "   -0.0266  0.1153  0.1849\n",
       "    0.2288  0.1576  0.0619\n",
       "   -0.0713  0.0573 -0.0599\n",
       "  \n",
       "  (14,0 ,.,.) = \n",
       "    0.1491  0.1146  0.1135\n",
       "   -0.0444  0.1138  0.1508\n",
       "   -0.0252  0.2128  0.2595\n",
       "  \n",
       "  (14,1 ,.,.) = \n",
       "   -0.2394  0.0672 -0.1381\n",
       "    0.0680 -0.1177 -0.0600\n",
       "    0.0396 -0.1320  0.0907\n",
       "  \n",
       "  (14,2 ,.,.) = \n",
       "   -0.0340 -0.1828 -0.1236\n",
       "   -0.1123 -0.2498  0.0672\n",
       "    0.0026 -0.2193 -0.2590\n",
       "  \n",
       "  (15,0 ,.,.) = \n",
       "    0.0952  0.1118  0.0361\n",
       "    0.1301 -0.1345 -0.1258\n",
       "    0.1508  0.0688  0.0592\n",
       "  \n",
       "  (15,1 ,.,.) = \n",
       "   -0.0211 -0.0484 -0.0959\n",
       "    0.0264 -0.1633 -0.1461\n",
       "    0.0238  0.1298  0.1569\n",
       "  \n",
       "  (15,2 ,.,.) = \n",
       "   -0.0372  0.1232 -0.1345\n",
       "   -0.1930  0.0786  0.0902\n",
       "    0.0269  0.2204  0.0412\n",
       "  [torch.cuda.FloatTensor of size 16x3x3x3 (GPU 0)]],\n",
       " 'weight_decay': 0.0}"
      ]
     },
     "execution_count": 111,
     "metadata": {},
     "output_type": "execute_result"
    }
   ],
   "source": [
    "learn.sched.layer_opt.opt.param_groups[0]"
   ]
  },
  {
   "cell_type": "code",
   "execution_count": 107,
   "metadata": {},
   "outputs": [
    {
     "data": {
      "text/plain": [
       "'Adam'"
      ]
     },
     "execution_count": 107,
     "metadata": {},
     "output_type": "execute_result"
    }
   ],
   "source": [
    "learn.opt_fn.__name__"
   ]
  },
  {
   "cell_type": "code",
   "execution_count": 108,
   "metadata": {},
   "outputs": [
    {
     "data": {
      "text/plain": [
       "0.8"
      ]
     },
     "execution_count": 108,
     "metadata": {},
     "output_type": "execute_result"
    }
   ],
   "source": [
    "learn.sched.layer_opt.opt.param_groups[0]['betas'][0]"
   ]
  },
  {
   "cell_type": "code",
   "execution_count": 19,
   "metadata": {},
   "outputs": [
    {
     "data": {
      "text/plain": [
       "[1.6541821079595587,\n",
       " 1.6603964240761468,\n",
       " 1.6607887783166204,\n",
       " 1.659656904959659,\n",
       " 1.658147585958895]"
      ]
     },
     "execution_count": 19,
     "metadata": {},
     "output_type": "execute_result"
    }
   ],
   "source": [
    "losses[780:785]"
   ]
  },
  {
   "cell_type": "code",
   "execution_count": 20,
   "metadata": {},
   "outputs": [
    {
     "data": {
      "text/plain": [
       "3910"
      ]
     },
     "execution_count": 20,
     "metadata": {},
     "output_type": "execute_result"
    }
   ],
   "source": [
    "len(losses)"
   ]
  },
  {
   "cell_type": "code",
   "execution_count": 21,
   "metadata": {},
   "outputs": [
    {
     "data": {
      "text/plain": [
       "782.0"
      ]
     },
     "execution_count": 21,
     "metadata": {},
     "output_type": "execute_result"
    }
   ],
   "source": [
    "3910/5"
   ]
  },
  {
   "cell_type": "code",
   "execution_count": null,
   "metadata": {},
   "outputs": [],
   "source": []
  },
  {
   "cell_type": "code",
   "execution_count": null,
   "metadata": {},
   "outputs": [],
   "source": []
  },
  {
   "cell_type": "code",
   "execution_count": null,
   "metadata": {},
   "outputs": [],
   "source": []
  },
  {
   "cell_type": "code",
   "execution_count": 145,
   "metadata": {},
   "outputs": [],
   "source": [
    "class PreActBlock(nn.Module):\n",
    "    '''Pre-activation version of the BasicBlock.'''\n",
    "    expansion = 1\n",
    "\n",
    "    def __init__(self, in_planes, planes, stride=1):\n",
    "        super(PreActBlock, self).__init__()\n",
    "        self.bn1 = nn.BatchNorm2d(planes)\n",
    "        self.conv1 = nn.Conv2d(in_planes, planes, kernel_size=3, stride=stride, padding=1, bias=False)\n",
    "        self.bn2 = nn.BatchNorm2d(planes)\n",
    "        self.conv2 = nn.Conv2d(planes, planes, kernel_size=3, stride=1, padding=1, bias=False)\n",
    "\n",
    "        if stride != 1 or in_planes != self.expansion*planes:\n",
    "            self.shortcut = nn.Sequential(\n",
    "                nn.Conv2d(in_planes, self.expansion*planes, kernel_size=1, stride=stride, bias=False)\n",
    "            )\n",
    "\n",
    "    def forward(self, x):\n",
    "        out = F.relu(x)\n",
    "        shortcut = self.shortcut(out) if hasattr(self, 'shortcut') else x\n",
    "        out = self.conv1(out)\n",
    "        out = self.bn2(self.conv2(F.relu(self.bn1(out))))\n",
    "        out += shortcut\n",
    "        return out"
   ]
  },
  {
   "cell_type": "code",
   "execution_count": 146,
   "metadata": {},
   "outputs": [],
   "source": [
    "class PreActResNet(nn.Module):\n",
    "    def __init__(self, block, num_blocks, num_classes=10):\n",
    "        super(PreActResNet, self).__init__()\n",
    "        self.in_planes = 16\n",
    "\n",
    "        self.conv1 = nn.Conv2d(3, 16, kernel_size=3, stride=1, padding=1, bias=False)\n",
    "        self.layer1 = self._make_layer(block, 16, num_blocks[0], stride=1)\n",
    "        self.layer2 = self._make_layer(block, 32, num_blocks[1], stride=2)\n",
    "        self.layer3 = self._make_layer(block, 64, num_blocks[2], stride=2)\n",
    "        self.linear = nn.Linear(64*block.expansion, num_classes)\n",
    "\n",
    "    def _make_layer(self, block, planes, num_blocks, stride):\n",
    "        strides = [stride] + [1]*(num_blocks-1)\n",
    "        layers = []\n",
    "        for stride in strides:\n",
    "            layers.append(block(self.in_planes, planes, stride))\n",
    "            self.in_planes = planes * block.expansion\n",
    "        return nn.Sequential(*layers)\n",
    "\n",
    "    def forward(self, x):\n",
    "        out = self.conv1(x)\n",
    "        out = self.layer1(out)\n",
    "        out = self.layer2(out)\n",
    "        out = self.layer3(out)\n",
    "        out = F.adaptive_max_pool2d(out, 1)\n",
    "        out = out.view(out.size(0), -1)\n",
    "        return F.log_softmax(self.linear(out))"
   ]
  },
  {
   "cell_type": "code",
   "execution_count": 148,
   "metadata": {},
   "outputs": [],
   "source": [
    "learn = ConvLearner.from_model_data(PreActResNet(PreActBlock,[9,9,9]), data)\n",
    "learn.crit = F.nll_loss"
   ]
  },
  {
   "cell_type": "code",
   "execution_count": 154,
   "metadata": {},
   "outputs": [
    {
     "data": {
      "application/vnd.jupyter.widget-view+json": {
       "model_id": "d069badb10d2475282d21e52d72a1cbc",
       "version_major": 2,
       "version_minor": 0
      },
      "text/html": [
       "<p>Failed to display Jupyter Widget of type <code>HBox</code>.</p>\n",
       "<p>\n",
       "  If you're reading this message in the Jupyter Notebook or JupyterLab Notebook, it may mean\n",
       "  that the widgets JavaScript is still loading. If this message persists, it\n",
       "  likely means that the widgets JavaScript library is either not installed or\n",
       "  not enabled. See the <a href=\"https://ipywidgets.readthedocs.io/en/stable/user_install.html\">Jupyter\n",
       "  Widgets Documentation</a> for setup instructions.\n",
       "</p>\n",
       "<p>\n",
       "  If you're reading this message in another frontend (for example, a static\n",
       "  rendering on GitHub or <a href=\"https://nbviewer.jupyter.org/\">NBViewer</a>),\n",
       "  it may mean that your frontend doesn't currently support widgets.\n",
       "</p>\n"
      ],
      "text/plain": [
       "HBox(children=(IntProgress(value=0, description='Epoch', max=1), HTML(value='')))"
      ]
     },
     "metadata": {},
     "output_type": "display_data"
    },
    {
     "name": "stdout",
     "output_type": "stream",
     "text": [
      "                                                                                                                       \r"
     ]
    }
   ],
   "source": [
    "learn.lr_find(end_lr=100)"
   ]
  },
  {
   "cell_type": "code",
   "execution_count": 158,
   "metadata": {},
   "outputs": [
    {
     "data": {
      "image/png": "[encoded data removed]",
      "text/plain": [
       "<Figure size 432x288 with 1 Axes>"
      ]
     },
     "metadata": {},
     "output_type": "display_data"
    }
   ],
   "source": [
    "learn.sched.plot(10,1)"
   ]
  },
  {
   "cell_type": "code",
   "execution_count": 26,
   "metadata": {},
   "outputs": [],
   "source": [
    "model = to_gpu(resnet56())\n",
    "resnet56b = to_gpu(resnet56b)"
   ]
  },
  {
   "cell_type": "code",
   "execution_count": 62,
   "metadata": {},
   "outputs": [
    {
     "data": {
      "text/plain": [
       "Variable containing:\n",
       "-3.0992 -4.7618 -3.4659 -3.3797 -3.8031 -2.4542 -0.7675 -4.1077 -1.6678 -2.2678\n",
       "-2.7267 -4.5967 -3.1376 -2.5954 -3.6200 -2.2927 -1.1537 -3.2596 -1.4585 -2.3835\n",
       "-2.9617 -4.1102 -2.8288 -2.6760 -3.2394 -2.3686 -1.2965 -3.2510 -1.4062 -2.1729\n",
       "-4.1886 -5.7310 -3.6135 -4.0863 -4.4581 -3.1461 -0.4379 -4.7266 -1.7410 -2.9262\n",
       "[torch.cuda.FloatTensor of size 4x10 (GPU 0)]"
      ]
     },
     "execution_count": 62,
     "metadata": {},
     "output_type": "execute_result"
    }
   ],
   "source": [
    "x = V(x)\n",
    "resnet56b(x)"
   ]
  },
  {
   "cell_type": "code",
   "execution_count": 63,
   "metadata": {},
   "outputs": [
    {
     "data": {
      "text/plain": [
       "Variable containing:\n",
       "-2.6959 -1.5515 -2.4953 -3.2317 -1.3048 -2.0912 -2.4099 -2.9861 -3.2280 -3.7343\n",
       "-2.4868 -1.7645 -2.4401 -3.0965 -1.4829 -2.0385 -2.0907 -2.8444 -3.1212 -3.5023\n",
       "-2.1189 -1.6261 -3.0410 -2.8696 -1.5311 -1.9511 -2.1808 -2.8981 -3.5368 -3.7712\n",
       "-3.4588 -2.2125 -2.0299 -4.5370 -0.6121 -3.8806 -4.6287 -4.5980 -2.3542 -3.2337\n",
       "[torch.cuda.FloatTensor of size 4x10 (GPU 0)]"
      ]
     },
     "execution_count": 63,
     "metadata": {},
     "output_type": "execute_result"
    }
   ],
   "source": [
    "model(x)"
   ]
  },
  {
   "cell_type": "code",
   "execution_count": 27,
   "metadata": {},
   "outputs": [
    {
     "data": {
      "text/plain": [
       "PreActResNet(\n",
       "  (conv1): Conv2d(3, 16, kernel_size=(3, 3), stride=(1, 1), padding=(1, 1), bias=False)\n",
       "  (layer1): Sequential(\n",
       "    (0): PreActBlock(\n",
       "      (bn1): BatchNorm2d(16, eps=1e-05, momentum=0.1, affine=True)\n",
       "      (conv1): Conv2d(16, 16, kernel_size=(3, 3), stride=(1, 1), padding=(1, 1), bias=False)\n",
       "      (bn2): BatchNorm2d(16, eps=1e-05, momentum=0.1, affine=True)\n",
       "      (conv2): Conv2d(16, 16, kernel_size=(3, 3), stride=(1, 1), padding=(1, 1), bias=False)\n",
       "    )\n",
       "    (1): PreActBlock(\n",
       "      (bn1): BatchNorm2d(16, eps=1e-05, momentum=0.1, affine=True)\n",
       "      (conv1): Conv2d(16, 16, kernel_size=(3, 3), stride=(1, 1), padding=(1, 1), bias=False)\n",
       "      (bn2): BatchNorm2d(16, eps=1e-05, momentum=0.1, affine=True)\n",
       "      (conv2): Conv2d(16, 16, kernel_size=(3, 3), stride=(1, 1), padding=(1, 1), bias=False)\n",
       "    )\n",
       "    (2): PreActBlock(\n",
       "      (bn1): BatchNorm2d(16, eps=1e-05, momentum=0.1, affine=True)\n",
       "      (conv1): Conv2d(16, 16, kernel_size=(3, 3), stride=(1, 1), padding=(1, 1), bias=False)\n",
       "      (bn2): BatchNorm2d(16, eps=1e-05, momentum=0.1, affine=True)\n",
       "      (conv2): Conv2d(16, 16, kernel_size=(3, 3), stride=(1, 1), padding=(1, 1), bias=False)\n",
       "    )\n",
       "    (3): PreActBlock(\n",
       "      (bn1): BatchNorm2d(16, eps=1e-05, momentum=0.1, affine=True)\n",
       "      (conv1): Conv2d(16, 16, kernel_size=(3, 3), stride=(1, 1), padding=(1, 1), bias=False)\n",
       "      (bn2): BatchNorm2d(16, eps=1e-05, momentum=0.1, affine=True)\n",
       "      (conv2): Conv2d(16, 16, kernel_size=(3, 3), stride=(1, 1), padding=(1, 1), bias=False)\n",
       "    )\n",
       "    (4): PreActBlock(\n",
       "      (bn1): BatchNorm2d(16, eps=1e-05, momentum=0.1, affine=True)\n",
       "      (conv1): Conv2d(16, 16, kernel_size=(3, 3), stride=(1, 1), padding=(1, 1), bias=False)\n",
       "      (bn2): BatchNorm2d(16, eps=1e-05, momentum=0.1, affine=True)\n",
       "      (conv2): Conv2d(16, 16, kernel_size=(3, 3), stride=(1, 1), padding=(1, 1), bias=False)\n",
       "    )\n",
       "    (5): PreActBlock(\n",
       "      (bn1): BatchNorm2d(16, eps=1e-05, momentum=0.1, affine=True)\n",
       "      (conv1): Conv2d(16, 16, kernel_size=(3, 3), stride=(1, 1), padding=(1, 1), bias=False)\n",
       "      (bn2): BatchNorm2d(16, eps=1e-05, momentum=0.1, affine=True)\n",
       "      (conv2): Conv2d(16, 16, kernel_size=(3, 3), stride=(1, 1), padding=(1, 1), bias=False)\n",
       "    )\n",
       "    (6): PreActBlock(\n",
       "      (bn1): BatchNorm2d(16, eps=1e-05, momentum=0.1, affine=True)\n",
       "      (conv1): Conv2d(16, 16, kernel_size=(3, 3), stride=(1, 1), padding=(1, 1), bias=False)\n",
       "      (bn2): BatchNorm2d(16, eps=1e-05, momentum=0.1, affine=True)\n",
       "      (conv2): Conv2d(16, 16, kernel_size=(3, 3), stride=(1, 1), padding=(1, 1), bias=False)\n",
       "    )\n",
       "    (7): PreActBlock(\n",
       "      (bn1): BatchNorm2d(16, eps=1e-05, momentum=0.1, affine=True)\n",
       "      (conv1): Conv2d(16, 16, kernel_size=(3, 3), stride=(1, 1), padding=(1, 1), bias=False)\n",
       "      (bn2): BatchNorm2d(16, eps=1e-05, momentum=0.1, affine=True)\n",
       "      (conv2): Conv2d(16, 16, kernel_size=(3, 3), stride=(1, 1), padding=(1, 1), bias=False)\n",
       "    )\n",
       "    (8): PreActBlock(\n",
       "      (bn1): BatchNorm2d(16, eps=1e-05, momentum=0.1, affine=True)\n",
       "      (conv1): Conv2d(16, 16, kernel_size=(3, 3), stride=(1, 1), padding=(1, 1), bias=False)\n",
       "      (bn2): BatchNorm2d(16, eps=1e-05, momentum=0.1, affine=True)\n",
       "      (conv2): Conv2d(16, 16, kernel_size=(3, 3), stride=(1, 1), padding=(1, 1), bias=False)\n",
       "    )\n",
       "  )\n",
       "  (layer2): Sequential(\n",
       "    (0): PreActBlock(\n",
       "      (bn1): BatchNorm2d(16, eps=1e-05, momentum=0.1, affine=True)\n",
       "      (conv1): Conv2d(16, 32, kernel_size=(3, 3), stride=(2, 2), padding=(1, 1), bias=False)\n",
       "      (bn2): BatchNorm2d(32, eps=1e-05, momentum=0.1, affine=True)\n",
       "      (conv2): Conv2d(32, 32, kernel_size=(3, 3), stride=(1, 1), padding=(1, 1), bias=False)\n",
       "      (shortcut): Sequential(\n",
       "        (0): Conv2d(16, 32, kernel_size=(1, 1), stride=(2, 2), bias=False)\n",
       "      )\n",
       "    )\n",
       "    (1): PreActBlock(\n",
       "      (bn1): BatchNorm2d(32, eps=1e-05, momentum=0.1, affine=True)\n",
       "      (conv1): Conv2d(32, 32, kernel_size=(3, 3), stride=(1, 1), padding=(1, 1), bias=False)\n",
       "      (bn2): BatchNorm2d(32, eps=1e-05, momentum=0.1, affine=True)\n",
       "      (conv2): Conv2d(32, 32, kernel_size=(3, 3), stride=(1, 1), padding=(1, 1), bias=False)\n",
       "    )\n",
       "    (2): PreActBlock(\n",
       "      (bn1): BatchNorm2d(32, eps=1e-05, momentum=0.1, affine=True)\n",
       "      (conv1): Conv2d(32, 32, kernel_size=(3, 3), stride=(1, 1), padding=(1, 1), bias=False)\n",
       "      (bn2): BatchNorm2d(32, eps=1e-05, momentum=0.1, affine=True)\n",
       "      (conv2): Conv2d(32, 32, kernel_size=(3, 3), stride=(1, 1), padding=(1, 1), bias=False)\n",
       "    )\n",
       "    (3): PreActBlock(\n",
       "      (bn1): BatchNorm2d(32, eps=1e-05, momentum=0.1, affine=True)\n",
       "      (conv1): Conv2d(32, 32, kernel_size=(3, 3), stride=(1, 1), padding=(1, 1), bias=False)\n",
       "      (bn2): BatchNorm2d(32, eps=1e-05, momentum=0.1, affine=True)\n",
       "      (conv2): Conv2d(32, 32, kernel_size=(3, 3), stride=(1, 1), padding=(1, 1), bias=False)\n",
       "    )\n",
       "    (4): PreActBlock(\n",
       "      (bn1): BatchNorm2d(32, eps=1e-05, momentum=0.1, affine=True)\n",
       "      (conv1): Conv2d(32, 32, kernel_size=(3, 3), stride=(1, 1), padding=(1, 1), bias=False)\n",
       "      (bn2): BatchNorm2d(32, eps=1e-05, momentum=0.1, affine=True)\n",
       "      (conv2): Conv2d(32, 32, kernel_size=(3, 3), stride=(1, 1), padding=(1, 1), bias=False)\n",
       "    )\n",
       "    (5): PreActBlock(\n",
       "      (bn1): BatchNorm2d(32, eps=1e-05, momentum=0.1, affine=True)\n",
       "      (conv1): Conv2d(32, 32, kernel_size=(3, 3), stride=(1, 1), padding=(1, 1), bias=False)\n",
       "      (bn2): BatchNorm2d(32, eps=1e-05, momentum=0.1, affine=True)\n",
       "      (conv2): Conv2d(32, 32, kernel_size=(3, 3), stride=(1, 1), padding=(1, 1), bias=False)\n",
       "    )\n",
       "    (6): PreActBlock(\n",
       "      (bn1): BatchNorm2d(32, eps=1e-05, momentum=0.1, affine=True)\n",
       "      (conv1): Conv2d(32, 32, kernel_size=(3, 3), stride=(1, 1), padding=(1, 1), bias=False)\n",
       "      (bn2): BatchNorm2d(32, eps=1e-05, momentum=0.1, affine=True)\n",
       "      (conv2): Conv2d(32, 32, kernel_size=(3, 3), stride=(1, 1), padding=(1, 1), bias=False)\n",
       "    )\n",
       "    (7): PreActBlock(\n",
       "      (bn1): BatchNorm2d(32, eps=1e-05, momentum=0.1, affine=True)\n",
       "      (conv1): Conv2d(32, 32, kernel_size=(3, 3), stride=(1, 1), padding=(1, 1), bias=False)\n",
       "      (bn2): BatchNorm2d(32, eps=1e-05, momentum=0.1, affine=True)\n",
       "      (conv2): Conv2d(32, 32, kernel_size=(3, 3), stride=(1, 1), padding=(1, 1), bias=False)\n",
       "    )\n",
       "    (8): PreActBlock(\n",
       "      (bn1): BatchNorm2d(32, eps=1e-05, momentum=0.1, affine=True)\n",
       "      (conv1): Conv2d(32, 32, kernel_size=(3, 3), stride=(1, 1), padding=(1, 1), bias=False)\n",
       "      (bn2): BatchNorm2d(32, eps=1e-05, momentum=0.1, affine=True)\n",
       "      (conv2): Conv2d(32, 32, kernel_size=(3, 3), stride=(1, 1), padding=(1, 1), bias=False)\n",
       "    )\n",
       "  )\n",
       "  (layer3): Sequential(\n",
       "    (0): PreActBlock(\n",
       "      (bn1): BatchNorm2d(32, eps=1e-05, momentum=0.1, affine=True)\n",
       "      (conv1): Conv2d(32, 64, kernel_size=(3, 3), stride=(2, 2), padding=(1, 1), bias=False)\n",
       "      (bn2): BatchNorm2d(64, eps=1e-05, momentum=0.1, affine=True)\n",
       "      (conv2): Conv2d(64, 64, kernel_size=(3, 3), stride=(1, 1), padding=(1, 1), bias=False)\n",
       "      (shortcut): Sequential(\n",
       "        (0): Conv2d(32, 64, kernel_size=(1, 1), stride=(2, 2), bias=False)\n",
       "      )\n",
       "    )\n",
       "    (1): PreActBlock(\n",
       "      (bn1): BatchNorm2d(64, eps=1e-05, momentum=0.1, affine=True)\n",
       "      (conv1): Conv2d(64, 64, kernel_size=(3, 3), stride=(1, 1), padding=(1, 1), bias=False)\n",
       "      (bn2): BatchNorm2d(64, eps=1e-05, momentum=0.1, affine=True)\n",
       "      (conv2): Conv2d(64, 64, kernel_size=(3, 3), stride=(1, 1), padding=(1, 1), bias=False)\n",
       "    )\n",
       "    (2): PreActBlock(\n",
       "      (bn1): BatchNorm2d(64, eps=1e-05, momentum=0.1, affine=True)\n",
       "      (conv1): Conv2d(64, 64, kernel_size=(3, 3), stride=(1, 1), padding=(1, 1), bias=False)\n",
       "      (bn2): BatchNorm2d(64, eps=1e-05, momentum=0.1, affine=True)\n",
       "      (conv2): Conv2d(64, 64, kernel_size=(3, 3), stride=(1, 1), padding=(1, 1), bias=False)\n",
       "    )\n",
       "    (3): PreActBlock(\n",
       "      (bn1): BatchNorm2d(64, eps=1e-05, momentum=0.1, affine=True)\n",
       "      (conv1): Conv2d(64, 64, kernel_size=(3, 3), stride=(1, 1), padding=(1, 1), bias=False)\n",
       "      (bn2): BatchNorm2d(64, eps=1e-05, momentum=0.1, affine=True)\n",
       "      (conv2): Conv2d(64, 64, kernel_size=(3, 3), stride=(1, 1), padding=(1, 1), bias=False)\n",
       "    )\n",
       "    (4): PreActBlock(\n",
       "      (bn1): BatchNorm2d(64, eps=1e-05, momentum=0.1, affine=True)\n",
       "      (conv1): Conv2d(64, 64, kernel_size=(3, 3), stride=(1, 1), padding=(1, 1), bias=False)\n",
       "      (bn2): BatchNorm2d(64, eps=1e-05, momentum=0.1, affine=True)\n",
       "      (conv2): Conv2d(64, 64, kernel_size=(3, 3), stride=(1, 1), padding=(1, 1), bias=False)\n",
       "    )\n",
       "    (5): PreActBlock(\n",
       "      (bn1): BatchNorm2d(64, eps=1e-05, momentum=0.1, affine=True)\n",
       "      (conv1): Conv2d(64, 64, kernel_size=(3, 3), stride=(1, 1), padding=(1, 1), bias=False)\n",
       "      (bn2): BatchNorm2d(64, eps=1e-05, momentum=0.1, affine=True)\n",
       "      (conv2): Conv2d(64, 64, kernel_size=(3, 3), stride=(1, 1), padding=(1, 1), bias=False)\n",
       "    )\n",
       "    (6): PreActBlock(\n",
       "      (bn1): BatchNorm2d(64, eps=1e-05, momentum=0.1, affine=True)\n",
       "      (conv1): Conv2d(64, 64, kernel_size=(3, 3), stride=(1, 1), padding=(1, 1), bias=False)\n",
       "      (bn2): BatchNorm2d(64, eps=1e-05, momentum=0.1, affine=True)\n",
       "      (conv2): Conv2d(64, 64, kernel_size=(3, 3), stride=(1, 1), padding=(1, 1), bias=False)\n",
       "    )\n",
       "    (7): PreActBlock(\n",
       "      (bn1): BatchNorm2d(64, eps=1e-05, momentum=0.1, affine=True)\n",
       "      (conv1): Conv2d(64, 64, kernel_size=(3, 3), stride=(1, 1), padding=(1, 1), bias=False)\n",
       "      (bn2): BatchNorm2d(64, eps=1e-05, momentum=0.1, affine=True)\n",
       "      (conv2): Conv2d(64, 64, kernel_size=(3, 3), stride=(1, 1), padding=(1, 1), bias=False)\n",
       "    )\n",
       "    (8): PreActBlock(\n",
       "      (bn1): BatchNorm2d(64, eps=1e-05, momentum=0.1, affine=True)\n",
       "      (conv1): Conv2d(64, 64, kernel_size=(3, 3), stride=(1, 1), padding=(1, 1), bias=False)\n",
       "      (bn2): BatchNorm2d(64, eps=1e-05, momentum=0.1, affine=True)\n",
       "      (conv2): Conv2d(64, 64, kernel_size=(3, 3), stride=(1, 1), padding=(1, 1), bias=False)\n",
       "    )\n",
       "  )\n",
       "  (linear): Linear(in_features=64, out_features=10, bias=True)\n",
       ")"
      ]
     },
     "execution_count": 27,
     "metadata": {},
     "output_type": "execute_result"
    }
   ],
   "source": [
    "resnet56b"
   ]
  },
  {
   "cell_type": "code",
   "execution_count": 28,
   "metadata": {},
   "outputs": [
    {
     "data": {
      "text/plain": [
       "resnet56(\n",
       "  (conv1): Conv2d(3, 16, kernel_size=(3, 3), stride=(1, 1), padding=(1, 1), bias=False)\n",
       "  (chunk1): ResnetChunk(\n",
       "    (rnblocks): ModuleList(\n",
       "      (0): ResnetBlock(\n",
       "        (bn1): BatchNorm2d(16, eps=1e-05, momentum=0.1, affine=True)\n",
       "        (conv1): Conv2d(16, 16, kernel_size=(3, 3), stride=(1, 1), padding=(1, 1), bias=False)\n",
       "        (bn2): BatchNorm2d(16, eps=1e-05, momentum=0.1, affine=True)\n",
       "        (conv2): Conv2d(16, 16, kernel_size=(3, 3), stride=(1, 1), padding=(1, 1), bias=False)\n",
       "      )\n",
       "      (1): ResnetBlock(\n",
       "        (bn1): BatchNorm2d(16, eps=1e-05, momentum=0.1, affine=True)\n",
       "        (conv1): Conv2d(16, 16, kernel_size=(3, 3), stride=(1, 1), padding=(1, 1), bias=False)\n",
       "        (bn2): BatchNorm2d(16, eps=1e-05, momentum=0.1, affine=True)\n",
       "        (conv2): Conv2d(16, 16, kernel_size=(3, 3), stride=(1, 1), padding=(1, 1), bias=False)\n",
       "      )\n",
       "      (2): ResnetBlock(\n",
       "        (bn1): BatchNorm2d(16, eps=1e-05, momentum=0.1, affine=True)\n",
       "        (conv1): Conv2d(16, 16, kernel_size=(3, 3), stride=(1, 1), padding=(1, 1), bias=False)\n",
       "        (bn2): BatchNorm2d(16, eps=1e-05, momentum=0.1, affine=True)\n",
       "        (conv2): Conv2d(16, 16, kernel_size=(3, 3), stride=(1, 1), padding=(1, 1), bias=False)\n",
       "      )\n",
       "      (3): ResnetBlock(\n",
       "        (bn1): BatchNorm2d(16, eps=1e-05, momentum=0.1, affine=True)\n",
       "        (conv1): Conv2d(16, 16, kernel_size=(3, 3), stride=(1, 1), padding=(1, 1), bias=False)\n",
       "        (bn2): BatchNorm2d(16, eps=1e-05, momentum=0.1, affine=True)\n",
       "        (conv2): Conv2d(16, 16, kernel_size=(3, 3), stride=(1, 1), padding=(1, 1), bias=False)\n",
       "      )\n",
       "      (4): ResnetBlock(\n",
       "        (bn1): BatchNorm2d(16, eps=1e-05, momentum=0.1, affine=True)\n",
       "        (conv1): Conv2d(16, 16, kernel_size=(3, 3), stride=(1, 1), padding=(1, 1), bias=False)\n",
       "        (bn2): BatchNorm2d(16, eps=1e-05, momentum=0.1, affine=True)\n",
       "        (conv2): Conv2d(16, 16, kernel_size=(3, 3), stride=(1, 1), padding=(1, 1), bias=False)\n",
       "      )\n",
       "      (5): ResnetBlock(\n",
       "        (bn1): BatchNorm2d(16, eps=1e-05, momentum=0.1, affine=True)\n",
       "        (conv1): Conv2d(16, 16, kernel_size=(3, 3), stride=(1, 1), padding=(1, 1), bias=False)\n",
       "        (bn2): BatchNorm2d(16, eps=1e-05, momentum=0.1, affine=True)\n",
       "        (conv2): Conv2d(16, 16, kernel_size=(3, 3), stride=(1, 1), padding=(1, 1), bias=False)\n",
       "      )\n",
       "      (6): ResnetBlock(\n",
       "        (bn1): BatchNorm2d(16, eps=1e-05, momentum=0.1, affine=True)\n",
       "        (conv1): Conv2d(16, 16, kernel_size=(3, 3), stride=(1, 1), padding=(1, 1), bias=False)\n",
       "        (bn2): BatchNorm2d(16, eps=1e-05, momentum=0.1, affine=True)\n",
       "        (conv2): Conv2d(16, 16, kernel_size=(3, 3), stride=(1, 1), padding=(1, 1), bias=False)\n",
       "      )\n",
       "      (7): ResnetBlock(\n",
       "        (bn1): BatchNorm2d(16, eps=1e-05, momentum=0.1, affine=True)\n",
       "        (conv1): Conv2d(16, 16, kernel_size=(3, 3), stride=(1, 1), padding=(1, 1), bias=False)\n",
       "        (bn2): BatchNorm2d(16, eps=1e-05, momentum=0.1, affine=True)\n",
       "        (conv2): Conv2d(16, 16, kernel_size=(3, 3), stride=(1, 1), padding=(1, 1), bias=False)\n",
       "      )\n",
       "      (8): ResnetBlock(\n",
       "        (bn1): BatchNorm2d(16, eps=1e-05, momentum=0.1, affine=True)\n",
       "        (conv1): Conv2d(16, 16, kernel_size=(3, 3), stride=(1, 1), padding=(1, 1), bias=False)\n",
       "        (bn2): BatchNorm2d(16, eps=1e-05, momentum=0.1, affine=True)\n",
       "        (conv2): Conv2d(16, 16, kernel_size=(3, 3), stride=(1, 1), padding=(1, 1), bias=False)\n",
       "      )\n",
       "    )\n",
       "  )\n",
       "  (chunk2): ResnetChunk(\n",
       "    (rnblocks): ModuleList(\n",
       "      (0): ResnetBlock(\n",
       "        (bn1): BatchNorm2d(16, eps=1e-05, momentum=0.1, affine=True)\n",
       "        (conv1): Conv2d(16, 32, kernel_size=(3, 3), stride=(2, 2), padding=(1, 1), bias=False)\n",
       "        (bn2): BatchNorm2d(32, eps=1e-05, momentum=0.1, affine=True)\n",
       "        (conv2): Conv2d(32, 32, kernel_size=(3, 3), stride=(1, 1), padding=(1, 1), bias=False)\n",
       "        (shortcut): Conv2d(16, 32, kernel_size=(1, 1), stride=(2, 2), bias=False)\n",
       "      )\n",
       "      (1): ResnetBlock(\n",
       "        (bn1): BatchNorm2d(32, eps=1e-05, momentum=0.1, affine=True)\n",
       "        (conv1): Conv2d(32, 32, kernel_size=(3, 3), stride=(1, 1), padding=(1, 1), bias=False)\n",
       "        (bn2): BatchNorm2d(32, eps=1e-05, momentum=0.1, affine=True)\n",
       "        (conv2): Conv2d(32, 32, kernel_size=(3, 3), stride=(1, 1), padding=(1, 1), bias=False)\n",
       "      )\n",
       "      (2): ResnetBlock(\n",
       "        (bn1): BatchNorm2d(32, eps=1e-05, momentum=0.1, affine=True)\n",
       "        (conv1): Conv2d(32, 32, kernel_size=(3, 3), stride=(1, 1), padding=(1, 1), bias=False)\n",
       "        (bn2): BatchNorm2d(32, eps=1e-05, momentum=0.1, affine=True)\n",
       "        (conv2): Conv2d(32, 32, kernel_size=(3, 3), stride=(1, 1), padding=(1, 1), bias=False)\n",
       "      )\n",
       "      (3): ResnetBlock(\n",
       "        (bn1): BatchNorm2d(32, eps=1e-05, momentum=0.1, affine=True)\n",
       "        (conv1): Conv2d(32, 32, kernel_size=(3, 3), stride=(1, 1), padding=(1, 1), bias=False)\n",
       "        (bn2): BatchNorm2d(32, eps=1e-05, momentum=0.1, affine=True)\n",
       "        (conv2): Conv2d(32, 32, kernel_size=(3, 3), stride=(1, 1), padding=(1, 1), bias=False)\n",
       "      )\n",
       "      (4): ResnetBlock(\n",
       "        (bn1): BatchNorm2d(32, eps=1e-05, momentum=0.1, affine=True)\n",
       "        (conv1): Conv2d(32, 32, kernel_size=(3, 3), stride=(1, 1), padding=(1, 1), bias=False)\n",
       "        (bn2): BatchNorm2d(32, eps=1e-05, momentum=0.1, affine=True)\n",
       "        (conv2): Conv2d(32, 32, kernel_size=(3, 3), stride=(1, 1), padding=(1, 1), bias=False)\n",
       "      )\n",
       "      (5): ResnetBlock(\n",
       "        (bn1): BatchNorm2d(32, eps=1e-05, momentum=0.1, affine=True)\n",
       "        (conv1): Conv2d(32, 32, kernel_size=(3, 3), stride=(1, 1), padding=(1, 1), bias=False)\n",
       "        (bn2): BatchNorm2d(32, eps=1e-05, momentum=0.1, affine=True)\n",
       "        (conv2): Conv2d(32, 32, kernel_size=(3, 3), stride=(1, 1), padding=(1, 1), bias=False)\n",
       "      )\n",
       "      (6): ResnetBlock(\n",
       "        (bn1): BatchNorm2d(32, eps=1e-05, momentum=0.1, affine=True)\n",
       "        (conv1): Conv2d(32, 32, kernel_size=(3, 3), stride=(1, 1), padding=(1, 1), bias=False)\n",
       "        (bn2): BatchNorm2d(32, eps=1e-05, momentum=0.1, affine=True)\n",
       "        (conv2): Conv2d(32, 32, kernel_size=(3, 3), stride=(1, 1), padding=(1, 1), bias=False)\n",
       "      )\n",
       "      (7): ResnetBlock(\n",
       "        (bn1): BatchNorm2d(32, eps=1e-05, momentum=0.1, affine=True)\n",
       "        (conv1): Conv2d(32, 32, kernel_size=(3, 3), stride=(1, 1), padding=(1, 1), bias=False)\n",
       "        (bn2): BatchNorm2d(32, eps=1e-05, momentum=0.1, affine=True)\n",
       "        (conv2): Conv2d(32, 32, kernel_size=(3, 3), stride=(1, 1), padding=(1, 1), bias=False)\n",
       "      )\n",
       "      (8): ResnetBlock(\n",
       "        (bn1): BatchNorm2d(32, eps=1e-05, momentum=0.1, affine=True)\n",
       "        (conv1): Conv2d(32, 32, kernel_size=(3, 3), stride=(1, 1), padding=(1, 1), bias=False)\n",
       "        (bn2): BatchNorm2d(32, eps=1e-05, momentum=0.1, affine=True)\n",
       "        (conv2): Conv2d(32, 32, kernel_size=(3, 3), stride=(1, 1), padding=(1, 1), bias=False)\n",
       "      )\n",
       "    )\n",
       "  )\n",
       "  (chunk3): ResnetChunk(\n",
       "    (rnblocks): ModuleList(\n",
       "      (0): ResnetBlock(\n",
       "        (bn1): BatchNorm2d(32, eps=1e-05, momentum=0.1, affine=True)\n",
       "        (conv1): Conv2d(32, 64, kernel_size=(3, 3), stride=(2, 2), padding=(1, 1), bias=False)\n",
       "        (bn2): BatchNorm2d(64, eps=1e-05, momentum=0.1, affine=True)\n",
       "        (conv2): Conv2d(64, 64, kernel_size=(3, 3), stride=(1, 1), padding=(1, 1), bias=False)\n",
       "        (shortcut): Conv2d(32, 64, kernel_size=(1, 1), stride=(2, 2), bias=False)\n",
       "      )\n",
       "      (1): ResnetBlock(\n",
       "        (bn1): BatchNorm2d(64, eps=1e-05, momentum=0.1, affine=True)\n",
       "        (conv1): Conv2d(64, 64, kernel_size=(3, 3), stride=(1, 1), padding=(1, 1), bias=False)\n",
       "        (bn2): BatchNorm2d(64, eps=1e-05, momentum=0.1, affine=True)\n",
       "        (conv2): Conv2d(64, 64, kernel_size=(3, 3), stride=(1, 1), padding=(1, 1), bias=False)\n",
       "      )\n",
       "      (2): ResnetBlock(\n",
       "        (bn1): BatchNorm2d(64, eps=1e-05, momentum=0.1, affine=True)\n",
       "        (conv1): Conv2d(64, 64, kernel_size=(3, 3), stride=(1, 1), padding=(1, 1), bias=False)\n",
       "        (bn2): BatchNorm2d(64, eps=1e-05, momentum=0.1, affine=True)\n",
       "        (conv2): Conv2d(64, 64, kernel_size=(3, 3), stride=(1, 1), padding=(1, 1), bias=False)\n",
       "      )\n",
       "      (3): ResnetBlock(\n",
       "        (bn1): BatchNorm2d(64, eps=1e-05, momentum=0.1, affine=True)\n",
       "        (conv1): Conv2d(64, 64, kernel_size=(3, 3), stride=(1, 1), padding=(1, 1), bias=False)\n",
       "        (bn2): BatchNorm2d(64, eps=1e-05, momentum=0.1, affine=True)\n",
       "        (conv2): Conv2d(64, 64, kernel_size=(3, 3), stride=(1, 1), padding=(1, 1), bias=False)\n",
       "      )\n",
       "      (4): ResnetBlock(\n",
       "        (bn1): BatchNorm2d(64, eps=1e-05, momentum=0.1, affine=True)\n",
       "        (conv1): Conv2d(64, 64, kernel_size=(3, 3), stride=(1, 1), padding=(1, 1), bias=False)\n",
       "        (bn2): BatchNorm2d(64, eps=1e-05, momentum=0.1, affine=True)\n",
       "        (conv2): Conv2d(64, 64, kernel_size=(3, 3), stride=(1, 1), padding=(1, 1), bias=False)\n",
       "      )\n",
       "      (5): ResnetBlock(\n",
       "        (bn1): BatchNorm2d(64, eps=1e-05, momentum=0.1, affine=True)\n",
       "        (conv1): Conv2d(64, 64, kernel_size=(3, 3), stride=(1, 1), padding=(1, 1), bias=False)\n",
       "        (bn2): BatchNorm2d(64, eps=1e-05, momentum=0.1, affine=True)\n",
       "        (conv2): Conv2d(64, 64, kernel_size=(3, 3), stride=(1, 1), padding=(1, 1), bias=False)\n",
       "      )\n",
       "      (6): ResnetBlock(\n",
       "        (bn1): BatchNorm2d(64, eps=1e-05, momentum=0.1, affine=True)\n",
       "        (conv1): Conv2d(64, 64, kernel_size=(3, 3), stride=(1, 1), padding=(1, 1), bias=False)\n",
       "        (bn2): BatchNorm2d(64, eps=1e-05, momentum=0.1, affine=True)\n",
       "        (conv2): Conv2d(64, 64, kernel_size=(3, 3), stride=(1, 1), padding=(1, 1), bias=False)\n",
       "      )\n",
       "      (7): ResnetBlock(\n",
       "        (bn1): BatchNorm2d(64, eps=1e-05, momentum=0.1, affine=True)\n",
       "        (conv1): Conv2d(64, 64, kernel_size=(3, 3), stride=(1, 1), padding=(1, 1), bias=False)\n",
       "        (bn2): BatchNorm2d(64, eps=1e-05, momentum=0.1, affine=True)\n",
       "        (conv2): Conv2d(64, 64, kernel_size=(3, 3), stride=(1, 1), padding=(1, 1), bias=False)\n",
       "      )\n",
       "      (8): ResnetBlock(\n",
       "        (bn1): BatchNorm2d(64, eps=1e-05, momentum=0.1, affine=True)\n",
       "        (conv1): Conv2d(64, 64, kernel_size=(3, 3), stride=(1, 1), padding=(1, 1), bias=False)\n",
       "        (bn2): BatchNorm2d(64, eps=1e-05, momentum=0.1, affine=True)\n",
       "        (conv2): Conv2d(64, 64, kernel_size=(3, 3), stride=(1, 1), padding=(1, 1), bias=False)\n",
       "      )\n",
       "    )\n",
       "  )\n",
       "  (out): Linear(in_features=64, out_features=10, bias=True)\n",
       ")"
      ]
     },
     "execution_count": 28,
     "metadata": {},
     "output_type": "execute_result"
    }
   ],
   "source": [
    "model"
   ]
  },
  {
   "cell_type": "code",
   "execution_count": null,
   "metadata": {},
   "outputs": [],
   "source": []
  }
 ],
 "metadata": {
  "kernelspec": {
   "display_name": "Python 3",
   "language": "python",
   "name": "python3"
  },
  "language_info": {
   "codemirror_mode": {
    "name": "ipython",
    "version": 3
   },
   "file_extension": ".py",
   "mimetype": "text/x-python",
   "name": "python",
   "nbconvert_exporter": "python",
   "pygments_lexer": "ipython3",
   "version": "3.6.4"
  }
 },
 "nbformat": 4,
 "nbformat_minor": 2
}
